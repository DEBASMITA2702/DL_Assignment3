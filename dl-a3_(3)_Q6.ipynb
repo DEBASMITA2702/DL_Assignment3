{
 "cells": [
  {
   "cell_type": "code",
   "execution_count": null,
   "metadata": {
    "execution": {
     "iopub.execute_input": "2025-05-20T09:54:56.839533Z",
     "iopub.status.busy": "2025-05-20T09:54:56.838990Z",
     "iopub.status.idle": "2025-05-20T09:55:03.324682Z",
     "shell.execute_reply": "2025-05-20T09:55:03.323864Z",
     "shell.execute_reply.started": "2025-05-20T09:54:56.839510Z"
    },
    "trusted": true
   },
   "outputs": [
    {
     "name": "stdout",
     "output_type": "stream",
     "text": [
      "\u001b[34m\u001b[1mwandb\u001b[0m: \u001b[33mWARNING\u001b[0m If you're specifying your api key in code, ensure this code is not shared publicly.\n",
      "\u001b[34m\u001b[1mwandb\u001b[0m: \u001b[33mWARNING\u001b[0m Consider setting the WANDB_API_KEY environment variable, or running `wandb login` from the command line.\n",
      "\u001b[34m\u001b[1mwandb\u001b[0m: No netrc file found, creating one.\n",
      "\u001b[34m\u001b[1mwandb\u001b[0m: Appending key for api.wandb.ai to your netrc file: /root/.netrc\n",
      "\u001b[34m\u001b[1mwandb\u001b[0m: W&B API key is configured. Use \u001b[1m`wandb login --relogin`\u001b[0m to force relogin\n"
     ]
    }
   ],
   "source": [
    "import wandb\n",
    "!wandb login # Enter your wandb API key here"
   ]
  },
  {
   "cell_type": "code",
   "execution_count": 2,
   "metadata": {
    "execution": {
     "iopub.execute_input": "2025-05-20T09:55:05.796908Z",
     "iopub.status.busy": "2025-05-20T09:55:05.796271Z",
     "iopub.status.idle": "2025-05-20T09:55:05.804106Z",
     "shell.execute_reply": "2025-05-20T09:55:05.803383Z",
     "shell.execute_reply.started": "2025-05-20T09:55:05.796882Z"
    },
    "trusted": true
   },
   "outputs": [
    {
     "name": "stdout",
     "output_type": "stream",
     "text": [
      "Writing WordEmbeddings_Translate.py\n"
     ]
    }
   ],
   "source": [
    "%%writefile WordEmbeddings_Translate.py\n",
    "import torch\n",
    "import torch.nn as nn\n",
    "\n",
    "class WordEmbeddings:\n",
    "    def translateWordToTensor(self, word, vocabulary, language):\n",
    "        '''\n",
    "            Parameters:\n",
    "                word : word on which to create the embeddings\n",
    "                vocabulary : vocabulary of the dataset\n",
    "                language : language of the dataset\n",
    "            Returns :\n",
    "                trans : embedding of the word\n",
    "            Function:\n",
    "                Generates the embeddings\n",
    "        '''\n",
    "        tensorList = list()\n",
    "        if language == \"english\":\n",
    "            tensorList.append(\n",
    "                vocabulary.charToIndexDictForEnglish[vocabulary.startOfSequenceToken]\n",
    "            )\n",
    "        else:\n",
    "            tensorList.append(\n",
    "                vocabulary.charToIndexDictForBengali[vocabulary.startOfSequenceToken]\n",
    "            )\n",
    "\n",
    "        for one_char in word:\n",
    "            if language == \"english\":\n",
    "                tensorList.append(vocabulary.charToIndexDictForEnglish[one_char])\n",
    "            else:\n",
    "                tensorList.append(vocabulary.charToIndexDictForBengali[one_char])\n",
    "\n",
    "        if language == \"english\":\n",
    "            tensorList.append(\n",
    "                vocabulary.charToIndexDictForEnglish[vocabulary.endOfSequenceToken]\n",
    "            )\n",
    "        else:\n",
    "            tensorList.append(\n",
    "                vocabulary.charToIndexDictForBengali[vocabulary.endOfSequenceToken]\n",
    "            )\n",
    "\n",
    "        trans = torch.tensor(tensorList, dtype=torch.int64)\n",
    "        return trans"
   ]
  },
  {
   "cell_type": "code",
   "execution_count": 3,
   "metadata": {
    "execution": {
     "iopub.execute_input": "2025-05-20T09:55:11.178378Z",
     "iopub.status.busy": "2025-05-20T09:55:11.177834Z",
     "iopub.status.idle": "2025-05-20T09:55:11.183680Z",
     "shell.execute_reply": "2025-05-20T09:55:11.182920Z",
     "shell.execute_reply.started": "2025-05-20T09:55:11.178356Z"
    },
    "trusted": true
   },
   "outputs": [
    {
     "name": "stdout",
     "output_type": "stream",
     "text": [
      "Writing WordEmbeddings_Create.py\n"
     ]
    }
   ],
   "source": [
    "%%writefile WordEmbeddings_Create.py\n",
    "import Utilities_Device_Trainings\n",
    "import torch\n",
    "import torch.nn as nn\n",
    "from WordEmbeddings_Translate import WordEmbeddings as BaseWordEmbeddings\n",
    "\n",
    "class WordEmbeddings(BaseWordEmbeddings):\n",
    "\n",
    "    '''class to create the word embeddings'''\n",
    "    def createWordEmbeddings(self, dataset, vocabulary):\n",
    "        '''\n",
    "            Parameters:\n",
    "                dataset : dataset on which to create the embeddings\n",
    "                vocabulary : vocabulary of the dataset\n",
    "            Returns :\n",
    "                None\n",
    "            Function:\n",
    "                Creates embeddings of the words\n",
    "        '''\n",
    "        englishDataset = dataset[:, 0]\n",
    "        bengaliDataset = dataset[:, 1]\n",
    "\n",
    "        tensorListEnglish = list()\n",
    "        tensorListBengali = list()\n",
    "\n",
    "        '''embeddings for source language'''\n",
    "        language = \"english\"\n",
    "        for one_word in englishDataset:\n",
    "            tensor = self.translateWordToTensor(one_word, vocabulary, language)\n",
    "            tensor = Utilities_Device_Trainings.setDevice(tensor)\n",
    "            tensorListEnglish.append(tensor)\n",
    "        self.englishEmbedding = nn.utils.rnn.pad_sequence(\n",
    "            tensorListEnglish,\n",
    "            padding_value=vocabulary.paddingIndex,\n",
    "            batch_first=True\n",
    "        )\n",
    "        self.englishEmbedding = Utilities_Device_Trainings.setDevice(self.englishEmbedding)\n",
    "\n",
    "        '''embeddings for target language'''\n",
    "        language = \"bengali\"\n",
    "        for one_word in bengaliDataset:\n",
    "            tensor = self.translateWordToTensor(one_word, vocabulary, language)\n",
    "            tensor = Utilities_Device_Trainings.setDevice(tensor)\n",
    "            tensorListBengali.append(tensor)\n",
    "        self.bengaliEmbedding = nn.utils.rnn.pad_sequence(\n",
    "            tensorListBengali,\n",
    "            padding_value=vocabulary.paddingIndex,\n",
    "            batch_first=True\n",
    "        )\n",
    "        self.bengaliEmbedding = Utilities_Device_Trainings.setDevice(self.bengaliEmbedding)"
   ]
  },
  {
   "cell_type": "code",
   "execution_count": 4,
   "metadata": {
    "execution": {
     "iopub.execute_input": "2025-05-20T09:55:12.557991Z",
     "iopub.status.busy": "2025-05-20T09:55:12.557731Z",
     "iopub.status.idle": "2025-05-20T09:55:12.563510Z",
     "shell.execute_reply": "2025-05-20T09:55:12.562870Z",
     "shell.execute_reply.started": "2025-05-20T09:55:12.557971Z"
    },
    "trusted": true
   },
   "outputs": [
    {
     "name": "stdout",
     "output_type": "stream",
     "text": [
      "Writing EncoderArchitecture.py\n"
     ]
    }
   ],
   "source": [
    "%%writefile EncoderArchitecture.py\n",
    "import Utilities_Layer\n",
    "import torch.nn as nn\n",
    "\n",
    "'''class to represent the encoder architecture'''\n",
    "class EncoderStack(nn.Module):\n",
    "\n",
    "    '''constructor to intialize the class parameters'''\n",
    "    def __init__(self, argList):\n",
    "        '''inherit the constructor of the parent class'''\n",
    "        super(EncoderStack, self).__init__()\n",
    "        '''set all the class parameters based on the arguments passed'''\n",
    "        modelType = argList[0]\n",
    "        encoderInputSize = argList[1]\n",
    "        embeddingSize = argList[2]\n",
    "        neruonsInFC = argList[3]\n",
    "        layersInEncoder = argList[4]\n",
    "        dropout = argList[5]\n",
    "        biDirectional = argList[6]\n",
    "        attention = argList[7]\n",
    "\n",
    "        self.neruonsInFC = neruonsInFC\n",
    "        self.layersInEncoder = layersInEncoder\n",
    "        if biDirectional == \"YES\":\n",
    "            self.biDirect = True\n",
    "        else:\n",
    "            self.biDirect = False\n",
    "        self.attention = attention\n",
    "\n",
    "        '''select the cell type based on the value passed in argument'''\n",
    "        model_dict = {\"LSTM\": nn.LSTM, \"GRU\": nn.GRU, \"RNN\": nn.RNN}\n",
    "        modelObj = model_dict.get(modelType)\n",
    "\n",
    "        '''do not apply dropout if only one layer is present'''\n",
    "        if self.layersInEncoder == 1:\n",
    "            self.dropout = Utilities_Layer.createDropoutLayer(0.0)\n",
    "            self.model = modelObj(embeddingSize, self.neruonsInFC, self.layersInEncoder, dropout=0.0, bidirectional=self.biDirect)\n",
    "        else:\n",
    "            self.dropout = Utilities_Layer.createDropoutLayer(dropout)\n",
    "            self.model = modelObj(embeddingSize, self.neruonsInFC, self.layersInEncoder, dropout=dropout, bidirectional=self.biDirect)\n",
    "\n",
    "        '''create ambedding layer'''\n",
    "        self.embeddingLayer = Utilities_Layer.createEmbeddingLayer(encoderInputSize, embeddingSize)"
   ]
  },
  {
   "cell_type": "code",
   "execution_count": 5,
   "metadata": {
    "execution": {
     "iopub.execute_input": "2025-05-20T09:55:13.628697Z",
     "iopub.status.busy": "2025-05-20T09:55:13.628026Z",
     "iopub.status.idle": "2025-05-20T09:55:13.633955Z",
     "shell.execute_reply": "2025-05-20T09:55:13.633251Z",
     "shell.execute_reply.started": "2025-05-20T09:55:13.628674Z"
    },
    "trusted": true
   },
   "outputs": [
    {
     "name": "stdout",
     "output_type": "stream",
     "text": [
      "Writing EncoderArchitecture_Forward.py\n"
     ]
    }
   ],
   "source": [
    "%%writefile EncoderArchitecture_Forward.py\n",
    "import Utilities_Tensor\n",
    "import torch.nn as nn\n",
    "from EncoderArchitecture import EncoderStack as BaseEncoderStack\n",
    "\n",
    "'''class to add forward propagation to the encoder architecture'''\n",
    "class EncoderStack(BaseEncoderStack):\n",
    "\n",
    "    def forward(self, batchData):\n",
    "        '''\n",
    "            Parameters:\n",
    "                batchData : data sent in batches (as a 2D tensor)\n",
    "            Returns :\n",
    "                modelEval : output from the current state of the encoder\n",
    "                innerLayer : hidden layers representation\n",
    "                model : the object of the combined architecture with updated parameters\n",
    "            Function:\n",
    "                Performs forward propagation in the architecture\n",
    "        '''\n",
    "\n",
    "        '''sets embedding layer'''\n",
    "        embeddedBatch = self.embeddingLayer(batchData)\n",
    "        embeddedBatch = self.dropout(embeddedBatch)\n",
    "        model = None\n",
    "\n",
    "        '''create the gates for LSTM'''\n",
    "        if isinstance(self.model, nn.LSTM):\n",
    "            modelEval, (innerLayer, model) = self.model(embeddedBatch)\n",
    "            '''implement bidirectional architecture'''\n",
    "            if self.biDirect:\n",
    "                batchSize = model.size(1)\n",
    "                model = Utilities_Tensor.resizeTensor(model, self.layersInEncoder, 2, batchSize, -1)\n",
    "                model = Utilities_Tensor.reverseTensor(model)\n",
    "                model = Utilities_Tensor.getMean(model)\n",
    "            else:\n",
    "                model = model[-1, :, :]\n",
    "            model = Utilities_Tensor.increaseDimension(model)\n",
    "        else:\n",
    "            modelEval, innerLayer = self.model(embeddedBatch)\n",
    "\n",
    "        '''check and implement bidirectional architecture'''\n",
    "        if self.biDirect:\n",
    "            batchSize = innerLayer.size(1)\n",
    "            innerLayer = Utilities_Tensor.resizeTensor(innerLayer, self.layersInEncoder, 2, batchSize, -1)\n",
    "            innerLayer = Utilities_Tensor.reverseTensor(innerLayer)\n",
    "            innerLayer = Utilities_Tensor.getMean(innerLayer)\n",
    "            '''apply attention'''\n",
    "            if self.attention == 1:\n",
    "                modelEval = Utilities_Tensor.addTensor(modelEval[:, :, :self.neruonsInFC], modelEval[:, :, self.neruonsInFC:])\n",
    "        else:\n",
    "            innerLayer = innerLayer[-1, :, :]\n",
    "\n",
    "        innerLayer = Utilities_Tensor.increaseDimension(innerLayer)\n",
    "\n",
    "        return modelEval, innerLayer, model"
   ]
  },
  {
   "cell_type": "code",
   "execution_count": 6,
   "metadata": {
    "execution": {
     "iopub.execute_input": "2025-05-20T09:55:15.312808Z",
     "iopub.status.busy": "2025-05-20T09:55:15.312085Z",
     "iopub.status.idle": "2025-05-20T09:55:15.318449Z",
     "shell.execute_reply": "2025-05-20T09:55:15.317768Z",
     "shell.execute_reply.started": "2025-05-20T09:55:15.312786Z"
    },
    "trusted": true
   },
   "outputs": [
    {
     "name": "stdout",
     "output_type": "stream",
     "text": [
      "Writing DecoderArchitecture.py\n"
     ]
    }
   ],
   "source": [
    "%%writefile DecoderArchitecture.py\n",
    "import Utilities_Layer\n",
    "import torch.nn as nn\n",
    "\n",
    "'''class to represent the decoder architecture'''\n",
    "class DecoderStack(nn.Module):\n",
    "\n",
    "    '''constructor to intialize the class parameters'''\n",
    "    def __init__(self, argList):\n",
    "        '''inherit the constructor of the parent class'''\n",
    "        super(DecoderStack, self).__init__()\n",
    "        '''set all the class parameters based on the arguments passed'''\n",
    "        modelType = argList[0]\n",
    "        decoderInputSize = argList[1]\n",
    "        embeddingSize = argList[2]\n",
    "        neruonsInFC = argList[3]\n",
    "        outputWordSize = argList[4]\n",
    "        layersInDecoder = argList[5]\n",
    "        dropout = argList[6]\n",
    "        attention = argList[7]\n",
    "\n",
    "        self.modelType = modelType\n",
    "        self.layersInDecoder = layersInDecoder\n",
    "        self.outputWordSize = outputWordSize\n",
    "        self.attention = attention\n",
    "        \n",
    "        '''select the cell type based on the value passed in argument'''\n",
    "        modelDict = {\"LSTM\": nn.LSTM, \"GRU\": nn.GRU, \"RNN\": nn.RNN}\n",
    "        modelObj = modelDict.get(modelType)\n",
    "\n",
    "        '''apply attention'''\n",
    "        if self.attention == 0:\n",
    "            '''do not apply dropout if only one layer is present'''\n",
    "            if layersInDecoder == 1:\n",
    "                self.dropout = Utilities_Layer.createDropoutLayer(0.0)\n",
    "                self.model = modelObj(embeddingSize, neruonsInFC, layersInDecoder, dropout=0.0)\n",
    "            else:\n",
    "                self.dropout = Utilities_Layer.createDropoutLayer(dropout)\n",
    "                self.model = modelObj(embeddingSize, neruonsInFC, layersInDecoder, dropout=dropout)\n",
    "            self.fullyConnectedLayer = nn.Linear(neruonsInFC, outputWordSize)\n",
    "        else:\n",
    "            '''do not apply dropout if only one layer is present'''\n",
    "            if layersInDecoder == 1:\n",
    "                self.dropout = Utilities_Layer.createDropoutLayer(0.0)\n",
    "                self.model = modelObj(embeddingSize + neruonsInFC, neruonsInFC, layersInDecoder, dropout=0.0)\n",
    "            else:\n",
    "                self.dropout = Utilities_Layer.createDropoutLayer(dropout)\n",
    "                self.model = modelObj(embeddingSize + neruonsInFC, neruonsInFC, layersInDecoder, dropout=dropout)\n",
    "            self.fullyConnectedLayer = nn.Linear(neruonsInFC * 2, outputWordSize)\n",
    "        \n",
    "        '''create ambedding and linear layer'''\n",
    "        self.embeddingLayer = Utilities_Layer.createEmbeddingLayer(decoderInputSize, embeddingSize)\n",
    "        self.neuronsInAttentionFC = Utilities_Layer.createLinearLayer(neruonsInFC, neruonsInFC, False)"
   ]
  },
  {
   "cell_type": "code",
   "execution_count": 7,
   "metadata": {
    "execution": {
     "iopub.execute_input": "2025-05-20T09:55:16.703160Z",
     "iopub.status.busy": "2025-05-20T09:55:16.702907Z",
     "iopub.status.idle": "2025-05-20T09:55:16.709869Z",
     "shell.execute_reply": "2025-05-20T09:55:16.709041Z",
     "shell.execute_reply.started": "2025-05-20T09:55:16.703124Z"
    },
    "trusted": true
   },
   "outputs": [
    {
     "name": "stdout",
     "output_type": "stream",
     "text": [
      "Writing DecoderArchitecture_Forward.py\n"
     ]
    }
   ],
   "source": [
    "%%writefile DecoderArchitecture_Forward.py\n",
    "import Utilities_Tensor\n",
    "import Utilities_Device_Trainings\n",
    "import torch.nn as nn\n",
    "from DecoderArchitecture import DecoderStack as BaseDecoderStack\n",
    "\n",
    "'''class to add forward propagation to the decoder architecture'''\n",
    "class DecoderStack(BaseDecoderStack):\n",
    "\n",
    "    def forward(self, batchData, encoderOutput, innerLayer, model):\n",
    "        '''\n",
    "            Parameters:\n",
    "                batchData : data sent in batches (as a 2D tensor)\n",
    "                encoderOutput : output from the encoder (on which the decoder will work)\n",
    "                innerLayer : hidden layers representation\n",
    "                model : the object of the combined architecture on which the decoder is working\n",
    "            Returns :\n",
    "                predictions : predicted outputs from the decoder\n",
    "                innerLayer : hidden layers representation\n",
    "                model : the object of the combined architecture with updated parameters\n",
    "                finalAttentionWeights : updated attention weights\n",
    "            Function:\n",
    "                Performs forward propagation in the architecture\n",
    "        '''\n",
    "\n",
    "        '''sets batch size and embedding layer'''\n",
    "        batchData = Utilities_Tensor.increaseDimension(batchData)\n",
    "        embeddedBatch = self.embeddingLayer(batchData)\n",
    "        embeddingLayer = self.dropout(embeddedBatch)\n",
    "\n",
    "        '''declare the attention matrix'''\n",
    "        finalAttentionWeights = None\n",
    "\n",
    "        '''appply attention and calculate the weights'''\n",
    "        if self.attention == 1:\n",
    "            finalOutputFromEncoderBlock = self.neuronsInAttentionFC(encoderOutput)\n",
    "            finalHiddenLayer = innerLayer[-1:]\n",
    "            attentionValues = Utilities_Tensor.mutiplyTensors(\n",
    "                Utilities_Tensor.reorderDimensions(finalOutputFromEncoderBlock, 1, 0, 2),\n",
    "                Utilities_Tensor.reorderDimensions(finalHiddenLayer, 1, 2, 0)\n",
    "            )\n",
    "            attentionValues = Utilities_Tensor.reorderDimensions(attentionValues, 2, 0, 1)\n",
    "            finalAttentionWeights = Utilities_Device_Trainings.setOutputFunction(attentionValues)\n",
    "            attentionIntoDecoder = Utilities_Tensor.mutiplyTensors(\n",
    "                Utilities_Tensor.reorderDimensions(finalAttentionWeights, 1, 0, 2),\n",
    "                Utilities_Tensor.reorderDimensions(encoderOutput, 1, 0, 2)\n",
    "            )\n",
    "            attentionIntoDecoder = Utilities_Tensor.reorderDimensions(attentionIntoDecoder, 1, 0, 2)\n",
    "\n",
    "        '''check and apply attention'''\n",
    "        if self.attention == 0:\n",
    "            '''apply forget gate for LSTM'''\n",
    "            if isinstance(self.model, nn.LSTM):\n",
    "                modelEval, (innerLayer, model) = self.model(embeddingLayer, (innerLayer, model))\n",
    "            else:\n",
    "                modelEval, innerLayer = self.model(embeddingLayer, innerLayer)\n",
    "            '''get decoder outputs by passing through the fully connected layer'''\n",
    "            predictions = self.fullyConnectedLayer(modelEval)\n",
    "        else:\n",
    "            '''apply forget gate for LSTM'''\n",
    "            concatenatedInput = Utilities_Tensor.concatenateTensor(embeddingLayer, attentionIntoDecoder, 2)\n",
    "            if isinstance(self.model, nn.LSTM):\n",
    "                modelEval, (innerLayer, model) = self.model(concatenatedInput, (innerLayer, model))\n",
    "            else:\n",
    "                modelEval, innerLayer = self.model(concatenatedInput, innerLayer)\n",
    "            concatenatedInput = Utilities_Tensor.concatenateTensor(modelEval, attentionIntoDecoder, 2)\n",
    "            '''get decoder outputs by passing through the fully connected layer'''\n",
    "            predictions = self.fullyConnectedLayer(concatenatedInput)\n",
    "\n",
    "        predictions = Utilities_Tensor.decreaseDimension(predictions)\n",
    "\n",
    "        if self.attention == 1:\n",
    "            finalAttentionWeights = Utilities_Tensor.decreaseDimension(finalAttentionWeights)\n",
    "\n",
    "        return predictions, innerLayer, model, finalAttentionWeights"
   ]
  },
  {
   "cell_type": "code",
   "execution_count": 8,
   "metadata": {
    "execution": {
     "iopub.execute_input": "2025-05-20T09:55:18.253728Z",
     "iopub.status.busy": "2025-05-20T09:55:18.253101Z",
     "iopub.status.idle": "2025-05-20T09:55:18.260246Z",
     "shell.execute_reply": "2025-05-20T09:55:18.259422Z",
     "shell.execute_reply.started": "2025-05-20T09:55:18.253697Z"
    },
    "trusted": true
   },
   "outputs": [
    {
     "name": "stdout",
     "output_type": "stream",
     "text": [
      "Writing CombinedModelArchitecture_Utils.py\n"
     ]
    }
   ],
   "source": [
    "%%writefile CombinedModelArchitecture_Utils.py\n",
    "import Utilities_Tensor\n",
    "import torch.nn as nn\n",
    "import random\n",
    "\n",
    "def formMatrix(dim1, dim2, dim3):\n",
    "    '''\n",
    "        Parameters:\n",
    "            dim1 : First dimension of a tensor\n",
    "            dim2 : Second dimension of the tensor\n",
    "            dim3 : Third dimension of the tensor\n",
    "        Returns :\n",
    "            A tensor\n",
    "        Function:\n",
    "            Creates a tensor with all zeros following the dimensions passed as parameters\n",
    "    '''\n",
    "    return Utilities_Tensor.getZeroTensor(dim1, dim2, dim3)\n",
    "\n",
    "\n",
    "def doTeacherForcing(decoderOutput, bengaliSequence, sequenceNumber, teacherRatio):\n",
    "    '''\n",
    "        Parameters:\n",
    "            decoderOutput : Tensor representing the output of the previous state of the decoder\n",
    "            bengaliSequence : Sequence of characters in the target language (bengali in this case)\n",
    "            sequenceNumber : Index of the sequence to be considered\n",
    "            teacherRatio : Threshold percentage on whether to apply teacher forching\n",
    "        Returns :\n",
    "            The function can return two things:\n",
    "                if teacher forcing is not applied then return the output of the previous state of the decoder\n",
    "                else return the actual target word\n",
    "        Function:\n",
    "            Performs teacher forcing in the decoder\n",
    "    '''\n",
    "    prediction = decoderOutput.argmax(dim=1)\n",
    "\n",
    "    '''make a random guess and based on that decide whether or not to apply teacher forcing in the current timestamp'''\n",
    "    currentGuess = random.random()\n",
    "    if currentGuess < teacherRatio:\n",
    "        return bengaliSequence[sequenceNumber]\n",
    "    \n",
    "    return prediction"
   ]
  },
  {
   "cell_type": "code",
   "execution_count": 9,
   "metadata": {
    "execution": {
     "iopub.execute_input": "2025-05-20T09:55:19.606936Z",
     "iopub.status.busy": "2025-05-20T09:55:19.606481Z",
     "iopub.status.idle": "2025-05-20T09:55:19.612605Z",
     "shell.execute_reply": "2025-05-20T09:55:19.611939Z",
     "shell.execute_reply.started": "2025-05-20T09:55:19.606916Z"
    },
    "trusted": true
   },
   "outputs": [
    {
     "name": "stdout",
     "output_type": "stream",
     "text": [
      "Writing CombinedModelArchitecture_Stack.py\n"
     ]
    }
   ],
   "source": [
    "%%writefile CombinedModelArchitecture_Stack.py\n",
    "import Utilities_Device_Trainings\n",
    "import Utilities_Tensor\n",
    "import torch.nn as nn\n",
    "import random\n",
    "from CombinedModelArchitecture_Utils import formMatrix, doTeacherForcing\n",
    "\n",
    "'''class to represent the combined architecture of encoder and decoder'''\n",
    "class EncoderDecoderStack(nn.Module):\n",
    "\n",
    "    '''constructor to intialize the class parameters'''\n",
    "    def __init__(self, argList):\n",
    "        '''inherit the constructor of the parent class'''\n",
    "        super(EncoderDecoderStack, self).__init__()\n",
    "        '''encoder object'''\n",
    "        self.encoderFramework = argList[0]\n",
    "        '''decoder object'''\n",
    "        self.decoderFramework = argList[1]\n",
    "        '''attention(helps to decide whether to apply attention or not)'''\n",
    "        self.attention = argList[2]\n",
    "    \n",
    "\n",
    "    def forward(self, englishSequence, bengaliSequence, teacherRatio=0.5):\n",
    "        '''\n",
    "            Parameters:\n",
    "                englishSequence : Sequence of characters in the source language (english in this case)\n",
    "                bengaliSequence : Sequence of characters in the target language (bengali in this case)\n",
    "                teacherRatio : Threshold percentage on whether to apply teacher forching (set to 0.5 if not passed during function call)\n",
    "            Returns :\n",
    "                modelEval : output from the architecture\n",
    "                attentions : updated attention weights\n",
    "            Function:\n",
    "                Performs forward propagation in the architecture\n",
    "        '''\n",
    "\n",
    "        '''sets batch size and maximum lengths of the words in the source and target dataset'''\n",
    "        batchSize = Utilities_Tensor.getShapeOfTensor(englishSequence, 1)\n",
    "        englishSequenceLength = Utilities_Tensor.getShapeOfTensor(englishSequence, 0)\n",
    "        bengaliSequenceLength = Utilities_Tensor.getShapeOfTensor(bengaliSequence, 0)\n",
    "\n",
    "        '''sets target vocabulary'''\n",
    "        bengaliVocabulary = self.decoderFramework.outputWordSize\n",
    "\n",
    "        '''forms the initial attention and output matrix'''\n",
    "        attentions = formMatrix(bengaliSequenceLength, batchSize, englishSequenceLength)\n",
    "        attentions = Utilities_Device_Trainings.setDevice(attentions)\n",
    "        modelEval = formMatrix(bengaliSequenceLength, batchSize, bengaliVocabulary)\n",
    "        modelEval = Utilities_Device_Trainings.setDevice(modelEval)\n",
    "\n",
    "        '''passes the source word into the encoder'''\n",
    "        encoderOutput, innerLayer, model = self.encoderFramework(englishSequence)\n",
    "\n",
    "        '''resizes the tensor to match decoder architecture'''\n",
    "        innerLayer = Utilities_Tensor.expandTensor(innerLayer, self.decoderFramework.layersInDecoder, 1, 1)\n",
    "        \n",
    "        '''resize the tensor if the cell is LSTM'''\n",
    "        if isinstance(self.decoderFramework.model, nn.LSTM):\n",
    "            model = Utilities_Tensor.expandTensor(model, self.decoderFramework.layersInDecoder, 1, 1)\n",
    "\n",
    "        '''run the decoder based on whether attention is applied or not'''\n",
    "        batchData = bengaliSequence[0]\n",
    "        for sequenceNumber in range(1, bengaliSequenceLength):\n",
    "            '''if no attention then no need to consider the attention weights being returned by decoder'''\n",
    "            if self.attention == 0:\n",
    "                decoderOutput, innerLayer, model, _ = self.decoderFramework(batchData, None, innerLayer, model)\n",
    "            else:\n",
    "                decoderOutput, innerLayer, model, attentionWeights = self.decoderFramework(batchData, encoderOutput, innerLayer, model)            \n",
    "            modelEval[sequenceNumber] = decoderOutput\n",
    "\n",
    "            '''if attention is applied then store the attention weights'''\n",
    "            if self.attention == 1:\n",
    "                attentions[sequenceNumber] = attentionWeights\n",
    "\n",
    "            '''call teacher forcing function to implement it''' \n",
    "            batchData = doTeacherForcing(decoderOutput, bengaliSequence, sequenceNumber, teacherRatio)\n",
    "\n",
    "        return modelEval, attentions"
   ]
  },
  {
   "cell_type": "code",
   "execution_count": 10,
   "metadata": {
    "execution": {
     "iopub.execute_input": "2025-05-20T09:55:21.468418Z",
     "iopub.status.busy": "2025-05-20T09:55:21.468185Z",
     "iopub.status.idle": "2025-05-20T09:55:21.473747Z",
     "shell.execute_reply": "2025-05-20T09:55:21.473180Z",
     "shell.execute_reply.started": "2025-05-20T09:55:21.468402Z"
    },
    "trusted": true
   },
   "outputs": [
    {
     "name": "stdout",
     "output_type": "stream",
     "text": [
      "Writing AccuracyAndLoss_Utils.py\n"
     ]
    }
   ],
   "source": [
    "%%writefile AccuracyAndLoss_Utils.py\n",
    "import torch\n",
    "\n",
    "def calculate(modelEval, outputSequence, paddingIndex, lossFunction):\n",
    "    '''\n",
    "        Parameters:\n",
    "            modelEval : output from the model\n",
    "            outputSequence : original word in the dataset\n",
    "            paddingIndex : encoding of the padding characters in the vocabulary\n",
    "            lossFunction : loss function used in the model\n",
    "        Returns :\n",
    "            modelEval : updated output to be used in the next batch of data\n",
    "            correctPredictions : number of words predicted correctly\n",
    "            totalLoss : loss generated by the current batch\n",
    "        Function:\n",
    "            Calculates number of correct predictions and loss for the data passed\n",
    "    '''\n",
    "\n",
    "    '''calculate correct predictions'''\n",
    "    dim = modelEval.shape[2]\n",
    "    predictedSequence = modelEval.argmax(dim=2)\n",
    "    acuurate = (predictedSequence == outputSequence) + (outputSequence == paddingIndex)\n",
    "    acuurate = torch.clamp(acuurate, max=1)\n",
    "    acuurateAlongOneColumn = acuurate.all(dim=0)\n",
    "    total = acuurateAlongOneColumn.sum()\n",
    "    correctPredictions = total.item()\n",
    "\n",
    "    '''calculate loss'''\n",
    "    modelEvalSplit = modelEval[1:]\n",
    "    modelEval = modelEvalSplit.reshape(-1, dim)\n",
    "    bengaliSequenceSplit = outputSequence[1:]\n",
    "    bengaliSequence = bengaliSequenceSplit.reshape(-1)\n",
    "    loss = lossFunction(modelEval, bengaliSequence)\n",
    "    totalLoss = loss.item()\n",
    "\n",
    "    return modelEval, correctPredictions, totalLoss"
   ]
  },
  {
   "cell_type": "code",
   "execution_count": 11,
   "metadata": {
    "execution": {
     "iopub.execute_input": "2025-05-20T09:55:22.555616Z",
     "iopub.status.busy": "2025-05-20T09:55:22.554745Z",
     "iopub.status.idle": "2025-05-20T09:55:22.560670Z",
     "shell.execute_reply": "2025-05-20T09:55:22.559912Z",
     "shell.execute_reply.started": "2025-05-20T09:55:22.555587Z"
    },
    "trusted": true
   },
   "outputs": [
    {
     "name": "stdout",
     "output_type": "stream",
     "text": [
      "Writing FindAccuracyAndLoss.py\n"
     ]
    }
   ],
   "source": [
    "%%writefile FindAccuracyAndLoss.py\n",
    "import Utilities_Device_Trainings\n",
    "import torch\n",
    "from AccuracyAndLoss_Utils import calculate\n",
    "\n",
    "'''class to find the accuracy and loss'''\n",
    "class FindAccuracyAndLoss:\n",
    "    def findAccuracyAndLoss(framework, dataLoader, batchSize, paddingIndex):\n",
    "        '''\n",
    "            Parameters:\n",
    "                framework : object of the architecture\n",
    "                dataLoader : data on which to calculate the accuracy and loss\n",
    "                batchSize : batch size used\n",
    "                paddingIndex : encoding of the padding characters in the vocabulary\n",
    "            Returns :\n",
    "                averageLoss : average loss across the dataset\n",
    "                accuracy : accuracy of correct prediction \n",
    "            Function:\n",
    "                Calculates the accuracy percentage and average loss for the dataset\n",
    "        '''\n",
    "\n",
    "        '''sets loss function'''\n",
    "        framework.eval()\n",
    "        lossFunction = Utilities_Device_Trainings.setLossFunction()\n",
    "    \n",
    "        totalLoss = 0.0\n",
    "        correctPredictions = 0\n",
    "        \n",
    "        with torch.no_grad():\n",
    "            '''iterate the whole dataset'''\n",
    "            for _, data in enumerate(dataLoader):\n",
    "                '''get the original source and target word'''\n",
    "                inputSequence = data[0]\n",
    "                outputSequence = data[1]\n",
    "                inputSequence = inputSequence.T\n",
    "                inputSequence = Utilities_Device_Trainings.setDevice(inputSequence)\n",
    "                outputSequence = outputSequence.T\n",
    "                outputSequence = Utilities_Device_Trainings.setDevice(outputSequence)\n",
    "\n",
    "                '''run the encoder-decoder architecture with no teacher forcing (as we are in inference step)'''\n",
    "                modelEval, _ = framework(inputSequence, outputSequence, teacherRatio=0.0)\n",
    "                \n",
    "                '''calculate the correct predictions and loss for the current batch of data'''\n",
    "                modelEval, correctBatch, lossBatch = calculate(modelEval, outputSequence, paddingIndex, lossFunction)\n",
    "                correctPredictions += correctBatch\n",
    "                totalLoss += lossBatch\n",
    "            \n",
    "            '''avergae loss and accuracy percentage'''\n",
    "            accuracy = correctPredictions / (len(dataLoader) * batchSize)\n",
    "            averageLoss = totalLoss / len(dataLoader)\n",
    "            return averageLoss, accuracy"
   ]
  },
  {
   "cell_type": "code",
   "execution_count": 12,
   "metadata": {
    "execution": {
     "iopub.execute_input": "2025-05-20T09:55:23.696753Z",
     "iopub.status.busy": "2025-05-20T09:55:23.696532Z",
     "iopub.status.idle": "2025-05-20T09:55:23.701604Z",
     "shell.execute_reply": "2025-05-20T09:55:23.700965Z",
     "shell.execute_reply.started": "2025-05-20T09:55:23.696738Z"
    },
    "trusted": true
   },
   "outputs": [
    {
     "name": "stdout",
     "output_type": "stream",
     "text": [
      "Writing RunTrainer_Utils.py\n"
     ]
    }
   ],
   "source": [
    "%%writefile RunTrainer_Utils.py\n",
    "import torch\n",
    "\n",
    "def modification(modelEval, outputSequence):\n",
    "    '''\n",
    "        Parameters:\n",
    "            modelEval : output from the model\n",
    "            outputSequence : original target sequence\n",
    "        Returns :\n",
    "            modelEval : modified output to use it for other batches\n",
    "            bengaliSequence : sequence in target language\n",
    "        Function:\n",
    "            Changes dimensions of the tensors\n",
    "    '''\n",
    "    dim = modelEval.shape[2]\n",
    "    modelEvalSplit = modelEval[1:]\n",
    "    modelEval = modelEvalSplit.reshape(-1, dim)\n",
    "    bengaliSequenceSplit = outputSequence[1:]\n",
    "    bengaliSequence = bengaliSequenceSplit.reshape(-1)\n",
    "    return modelEval, bengaliSequence"
   ]
  },
  {
   "cell_type": "code",
   "execution_count": 13,
   "metadata": {
    "execution": {
     "iopub.execute_input": "2025-05-20T09:55:24.795616Z",
     "iopub.status.busy": "2025-05-20T09:55:24.795052Z",
     "iopub.status.idle": "2025-05-20T09:55:24.801878Z",
     "shell.execute_reply": "2025-05-20T09:55:24.801261Z",
     "shell.execute_reply.started": "2025-05-20T09:55:24.795595Z"
    },
    "trusted": true
   },
   "outputs": [
    {
     "name": "stdout",
     "output_type": "stream",
     "text": [
      "Writing RunTrainer.py\n"
     ]
    }
   ],
   "source": [
    "%%writefile RunTrainer.py\n",
    "import torch\n",
    "from FindAccuracyAndLoss import FindAccuracyAndLoss\n",
    "import Utilities_Device_Trainings\n",
    "from torch.nn.utils import clip_grad_norm_\n",
    "import wandb\n",
    "from copy import deepcopy\n",
    "from RunTrainer_Utils import modification\n",
    "\n",
    "'''class to run the epochs on the model'''\n",
    "class Trainer:\n",
    "\n",
    "    def runModelTrainer(paramList, trainPy=0, saveBestModel=0, logging=1):\n",
    "        '''\n",
    "            Parameters:\n",
    "                paramList : list of parameters passes\n",
    "                trainPy : variable indicating whether to this is train.py call or not\n",
    "                saveBestModel : variable indicating whether to save the model or not\n",
    "            Returns :\n",
    "                None\n",
    "            Function:\n",
    "                Drives the training process and run epochs\n",
    "        '''\n",
    "\n",
    "        '''set the parameters'''\n",
    "        framework = paramList[0]\n",
    "        learningRate = paramList[1]\n",
    "        trainEmbeddedDataLoader = paramList[2]\n",
    "        valEmbeddedDataLoader = paramList[3]\n",
    "        epochs = paramList[4]\n",
    "        batchSize = paramList[5]\n",
    "        paddingIndex = paramList[6]\n",
    "\n",
    "        '''declare lists for storing the accuracies and losses'''\n",
    "        trainAccuracyPerEpoch = list()\n",
    "        trainLossPerEpoch = list()\n",
    "        valAccuracyPerEpoch = list()\n",
    "        valLossPerEpoch = list()\n",
    "\n",
    "        '''setting the optimizer'''\n",
    "        backpropagationFramework = Utilities_Device_Trainings.setOptimizer(framework, learningRate)\n",
    "\n",
    "        '''setting the loss function'''\n",
    "        lossFunction = Utilities_Device_Trainings.setLossFunction()\n",
    "\n",
    "        '''run epochs'''\n",
    "        for epoch in range(epochs):\n",
    "            framework.train()\n",
    "            for id, data in enumerate(trainEmbeddedDataLoader):\n",
    "                '''get the original source and target words'''\n",
    "                inputSequence = data[0]\n",
    "                outputSequence = data[1]\n",
    "                inputSequence = inputSequence.T\n",
    "                inputSequence = Utilities_Device_Trainings.setDevice(inputSequence)\n",
    "                outputSequence = outputSequence.T\n",
    "                outputSequence = Utilities_Device_Trainings.setDevice(outputSequence)\n",
    "\n",
    "                '''run the encoder-decoder architecture'''\n",
    "                modelEval, _ = framework(inputSequence, outputSequence)\n",
    "                modelEval, bengaliSequence = modification(modelEval, outputSequence)\n",
    "\n",
    "                '''run backpropagation'''\n",
    "                backpropagationFramework.zero_grad()\n",
    "                loss = lossFunction(modelEval, bengaliSequence)\n",
    "                loss.backward()\n",
    "                clip_grad_norm_(framework.parameters(), max_norm=1)\n",
    "                backpropagationFramework.step()\n",
    "            \n",
    "            '''calculate the respective loss and accuracy'''\n",
    "            trainingLoss, trainingAccuracy = FindAccuracyAndLoss.findAccuracyAndLoss(\n",
    "                framework, trainEmbeddedDataLoader, batchSize, paddingIndex\n",
    "            )\n",
    "            valLoss, valAccuracy = FindAccuracyAndLoss.findAccuracyAndLoss(\n",
    "                framework, valEmbeddedDataLoader, batchSize, paddingIndex\n",
    "            )\n",
    "            \n",
    "            trainLossPerEpoch.append(trainingLoss)\n",
    "            trainAccuracyPerEpoch.append(trainingAccuracy)\n",
    "            valLossPerEpoch.append(valLoss)\n",
    "            valAccuracyPerEpoch.append(valAccuracy)\n",
    "\n",
    "            if logging == 1:\n",
    "                '''print and log the losses and accuracies to terminal and wandb respectively'''\n",
    "                print(\"\\n===================================================================================================================\")\n",
    "                print(f\"Epoch : {epoch+1}\")\n",
    "                print(f\"Training Accuracy : {trainAccuracyPerEpoch[-1]}\")\n",
    "                print(f\"Validation Accuracy : {valAccuracyPerEpoch[-1]}\")\n",
    "                print(f\"Training Loss : {trainLossPerEpoch[-1]}\")\n",
    "                print(f\"Validation Loss : {valLossPerEpoch[-1]}\")  \n",
    "                wandb.log({\n",
    "                    \"training_accuracy\": trainAccuracyPerEpoch[-1],\n",
    "                    \"validation_accuracy\": valAccuracyPerEpoch[-1],\n",
    "                    \"training_loss\": trainLossPerEpoch[-1],\n",
    "                    \"validation_loss\": valLossPerEpoch[-1],\n",
    "                    \"Epoch\": epoch+1\n",
    "                })\n",
    "            else:\n",
    "                if epoch == epochs - 1:\n",
    "                    return framework\n",
    "\n",
    "        '''save the model if needed'''\n",
    "        if saveBestModel == 1:\n",
    "            state = deepcopy(framework.state_dict())\n",
    "            torch.save(state, \"/frameworkState.pth\")\n",
    "        \n",
    "        if trainPy == 1:\n",
    "            return framework"
   ]
  },
  {
   "cell_type": "code",
   "execution_count": null,
   "metadata": {
    "execution": {
     "iopub.execute_input": "2025-05-20T09:55:27.307499Z",
     "iopub.status.busy": "2025-05-20T09:55:27.307244Z",
     "iopub.status.idle": "2025-05-20T09:55:27.312515Z",
     "shell.execute_reply": "2025-05-20T09:55:27.311933Z",
     "shell.execute_reply.started": "2025-05-20T09:55:27.307481Z"
    },
    "trusted": true
   },
   "outputs": [
    {
     "name": "stdout",
     "output_type": "stream",
     "text": [
      "Writing LoadDataset_Train.py\n"
     ]
    }
   ],
   "source": [
    "%%writefile LoadDataset_Train.py\n",
    "import pandas as pd\n",
    "import os\n",
    "\n",
    "def loadDataset(self, root, lang):\n",
    "    train_path = os.path.join(root, f\"{lang}.translit.sampled.train.tsv\")\n",
    "    val_path   = os.path.join(root, f\"{lang}.translit.sampled.dev.tsv\")\n",
    "\n",
    "    train_df = pd.read_csv(train_path, sep=\"\\t\", header=None, dtype=str)\n",
    "    val_df = pd.read_csv(val_path, sep=\"\\t\", header=None, dtype=str)\n",
    "\n",
    "    ''' Drop rows where either source or target is missing'''\n",
    "    train_df = train_df.dropna(subset=[0, 1])\n",
    "    val_df = val_df.dropna(subset=[0, 1])\n",
    "\n",
    "    ''' Select only the first two columns'''\n",
    "    self.train_dataset = train_df[[1, 0]].values  \n",
    "    self.val_dataset = val_df[[1, 0]].values"
   ]
  },
  {
   "cell_type": "code",
   "execution_count": null,
   "metadata": {
    "execution": {
     "iopub.execute_input": "2025-05-20T09:55:28.369830Z",
     "iopub.status.busy": "2025-05-20T09:55:28.369283Z",
     "iopub.status.idle": "2025-05-20T09:55:28.374234Z",
     "shell.execute_reply": "2025-05-20T09:55:28.373761Z",
     "shell.execute_reply.started": "2025-05-20T09:55:28.369802Z"
    },
    "trusted": true
   },
   "outputs": [
    {
     "name": "stdout",
     "output_type": "stream",
     "text": [
      "Writing LoadDataset_Test.py\n"
     ]
    }
   ],
   "source": [
    "%%writefile LoadDataset_Test.py\n",
    "import pandas as pd\n",
    "import os\n",
    "from LoadDataset_Train import loadDataset\n",
    "\n",
    "def loadTestDataset(self, root, lang):\n",
    "    '''\n",
    "        Parameters:\n",
    "            root : path of the dataset\n",
    "            lang : language which is chosen (taken from the path itself)\n",
    "        Returns :\n",
    "            None\n",
    "        Function:\n",
    "            Loads test dataset\n",
    "    '''\n",
    "    test_path = os.path.join(root, f\"{lang}.translit.sampled.test.tsv\")\n",
    "    test_df = pd.read_csv(test_path, sep=\"\\t\", header=None, dtype=str)\n",
    "    test_df = test_df.dropna(subset=[0, 1])\n",
    "    self.test_dataframe = test_df               \n",
    "    self.test_dataset = test_df[[1, 0]].values  \n",
    "    \n",
    "\n",
    "'''class to load dataset'''\n",
    "class DatasetLoad:\n",
    "    pass\n",
    "\n",
    "'''attach methods to DatasetLoad '''\n",
    "DatasetLoad.loadDataset = loadDataset\n",
    "DatasetLoad.loadTestDataset = loadTestDataset"
   ]
  },
  {
   "cell_type": "code",
   "execution_count": 16,
   "metadata": {
    "execution": {
     "iopub.execute_input": "2025-05-20T09:55:29.617169Z",
     "iopub.status.busy": "2025-05-20T09:55:29.616506Z",
     "iopub.status.idle": "2025-05-20T09:55:29.621800Z",
     "shell.execute_reply": "2025-05-20T09:55:29.621083Z",
     "shell.execute_reply.started": "2025-05-20T09:55:29.617119Z"
    },
    "trusted": true
   },
   "outputs": [
    {
     "name": "stdout",
     "output_type": "stream",
     "text": [
      "Writing PrepareVocabulary_Initialize.py\n"
     ]
    }
   ],
   "source": [
    "%%writefile PrepareVocabulary_Initialize.py\n",
    "'''initializes the vocabulary dictionaries'''\n",
    "def initializeVocabularyDictionaries(self):\n",
    "    '''\n",
    "        Parameters:\n",
    "            None\n",
    "        Returns :\n",
    "            None\n",
    "        Function:\n",
    "            Initializes the vocabulary dictionaries\n",
    "    '''\n",
    "\n",
    "    '''dictionary for source language'''\n",
    "    self.charToIndexDictForEnglish[self.startOfSequenceToken]=self.startOfSequenceIndex\n",
    "    self.charToIndexDictForEnglish[self.endOfSequenceToken]=self.endOfSequenceIndex\n",
    "    self.charToIndexDictForEnglish[self.paddingToken]=self.paddingIndex\n",
    "\n",
    "    self.indexToCharDictForEnglish[self.startOfSequenceIndex]=self.startOfSequenceToken\n",
    "    self.indexToCharDictForEnglish[self.endOfSequenceIndex]=self.endOfSequenceToken\n",
    "    self.indexToCharDictForEnglish[self.paddingIndex]=self.paddingToken\n",
    "\n",
    "    '''dictionary for target language'''\n",
    "    self.charToIndexDictForBengali[self.startOfSequenceToken]=self.startOfSequenceIndex\n",
    "    self.charToIndexDictForBengali[self.endOfSequenceToken]=self.endOfSequenceIndex\n",
    "    self.charToIndexDictForBengali[self.paddingToken]=self.paddingIndex\n",
    "\n",
    "    self.indexToCharDictForBengali[self.startOfSequenceIndex]=self.startOfSequenceToken\n",
    "    self.indexToCharDictForBengali[self.endOfSequenceIndex]=self.endOfSequenceToken\n",
    "    self.indexToCharDictForBengali[self.paddingIndex]=self.paddingToken"
   ]
  },
  {
   "cell_type": "code",
   "execution_count": 17,
   "metadata": {
    "execution": {
     "iopub.execute_input": "2025-05-20T09:55:30.703531Z",
     "iopub.status.busy": "2025-05-20T09:55:30.702841Z",
     "iopub.status.idle": "2025-05-20T09:55:30.708616Z",
     "shell.execute_reply": "2025-05-20T09:55:30.707764Z",
     "shell.execute_reply.started": "2025-05-20T09:55:30.703510Z"
    },
    "trusted": true
   },
   "outputs": [
    {
     "name": "stdout",
     "output_type": "stream",
     "text": [
      "Writing PrepareVocabulary_Create.py\n"
     ]
    }
   ],
   "source": [
    "%%writefile PrepareVocabulary_Create.py\n",
    "'''creates vocabulary of each word in the dataset'''\n",
    "def createVocabulary(self, dataset):\n",
    "    '''\n",
    "        Parameters:\n",
    "            dataset : dataset on which to create the vocabulary\n",
    "        Returns :\n",
    "            None\n",
    "        Function:\n",
    "            creates vocabulary of each word in the dataset\n",
    "    '''\n",
    "\n",
    "    '''iterate over the entire dataset'''\n",
    "    for each_pair in dataset:\n",
    "        english_word=each_pair[0]\n",
    "        bengali_word=each_pair[1]\n",
    "\n",
    "        '''create vocabulary for the source language'''\n",
    "        for one_char in english_word:\n",
    "            '''if the character is not already recorded then add it to the dictionary'''\n",
    "            if one_char not in self.charToIndexDictForEnglish:\n",
    "                self.charToIndexDictForEnglish[one_char]=self.vocabularySizeForEnglish\n",
    "                self.charCounterForEnglish[one_char]=1\n",
    "                self.indexToCharDictForEnglish[self.vocabularySizeForEnglish]=one_char\n",
    "                self.vocabularySizeForEnglish+=1\n",
    "            else:\n",
    "                self.charCounterForEnglish[one_char]+=1\n",
    "        \n",
    "        '''create vocabulary for the target language'''\n",
    "        for one_char in bengali_word:\n",
    "            '''if the character is not already recorded then add it to the dictionary'''\n",
    "            if one_char not in self.charToIndexDictForBengali:\n",
    "                self.charToIndexDictForBengali[one_char]=self.vocabularySizeForBengali\n",
    "                self.charCounterForBengali[one_char]=1\n",
    "                self.indexToCharDictForBengali[self.vocabularySizeForBengali]=one_char\n",
    "                self.vocabularySizeForBengali+=1\n",
    "            else:\n",
    "                self.charCounterForBengali[one_char]+=1"
   ]
  },
  {
   "cell_type": "code",
   "execution_count": 18,
   "metadata": {
    "execution": {
     "iopub.execute_input": "2025-05-20T09:55:32.905014Z",
     "iopub.status.busy": "2025-05-20T09:55:32.904765Z",
     "iopub.status.idle": "2025-05-20T09:55:32.910126Z",
     "shell.execute_reply": "2025-05-20T09:55:32.909451Z",
     "shell.execute_reply.started": "2025-05-20T09:55:32.904995Z"
    },
    "trusted": true
   },
   "outputs": [
    {
     "name": "stdout",
     "output_type": "stream",
     "text": [
      "Writing PrepareVocabulary_Final.py\n"
     ]
    }
   ],
   "source": [
    "%%writefile PrepareVocabulary_Final.py\n",
    "from PrepareVocabulary_Initialize import initializeVocabularyDictionaries\n",
    "from PrepareVocabulary_Create import createVocabulary\n",
    "\n",
    "'''class to prepare the vocabulary of the dataset'''\n",
    "class PrepareVocabulary:\n",
    "\n",
    "    '''constructor to intialize the class parameters'''\n",
    "    def __init__(self):\n",
    "\n",
    "        '''define the start token, end token and padding token'''\n",
    "        self.startOfSequenceToken=\"~\"\n",
    "        self.endOfSequenceToken=\"%\"\n",
    "        self.paddingToken=\"`\"\n",
    "        self.startOfSequenceIndex=0\n",
    "        self.endOfSequenceIndex=1\n",
    "        self.paddingIndex=2\n",
    "\n",
    "        '''current vocabulary size is 3 (start token, end token, padding token)'''\n",
    "        self.vocabularySizeForEnglish=3\n",
    "        self.vocabularySizeForBengali=3\n",
    "\n",
    "        self.charToIndexDictForEnglish=dict()\n",
    "        self.indexToCharDictForEnglish=dict()\n",
    "        self.charCounterForEnglish=dict()\n",
    "\n",
    "        self.charToIndexDictForBengali=dict()\n",
    "        self.indexToCharDictForBengali=dict()\n",
    "        self.charCounterForBengali=dict()\n",
    "\n",
    "        '''initialize the base vocabulary tokens '''\n",
    "        self.initializeVocabularyDictionaries()\n",
    "\n",
    "    ''' attach the split methods'''\n",
    "    initializeVocabularyDictionaries = initializeVocabularyDictionaries\n",
    "    createVocabulary = createVocabulary"
   ]
  },
  {
   "cell_type": "code",
   "execution_count": 19,
   "metadata": {
    "execution": {
     "iopub.execute_input": "2025-05-20T09:55:34.525610Z",
     "iopub.status.busy": "2025-05-20T09:55:34.524888Z",
     "iopub.status.idle": "2025-05-20T09:55:34.530442Z",
     "shell.execute_reply": "2025-05-20T09:55:34.529880Z",
     "shell.execute_reply.started": "2025-05-20T09:55:34.525570Z"
    },
    "trusted": true
   },
   "outputs": [
    {
     "name": "stdout",
     "output_type": "stream",
     "text": [
      "Writing Utilities_Device_Trainings.py\n"
     ]
    }
   ],
   "source": [
    "%%writefile Utilities_Device_Trainings.py\n",
    "import torch\n",
    "from torch import optim\n",
    "import torch.nn as nn\n",
    "\n",
    "def setDevice(objToSet):\n",
    "    '''\n",
    "        Parameters:\n",
    "            objToSet : object on which to set the device\n",
    "        Returns :\n",
    "            objToSet : the same object after the device is set on it\n",
    "        Function:\n",
    "            Sets the device as cpu or gpu based on availability\n",
    "    '''\n",
    "    device = torch.device('cuda:0' if torch.cuda.is_available() else 'cpu')\n",
    "    objToSet = objToSet.to(device)\n",
    "    return objToSet\n",
    "\n",
    "\n",
    "def setOptimizer(framework, learningRate):\n",
    "    '''\n",
    "        Parameters:\n",
    "            framework : the model on which to set the opotimizer\n",
    "            learningRate : learning rate to be applied\n",
    "        Returns :\n",
    "            An object of the optimizer\n",
    "        Function:\n",
    "            Sets the optimizer\n",
    "    '''\n",
    "    return optim.Adam(framework.parameters(), lr=learningRate)\n",
    "\n",
    "\n",
    "def setLossFunction():\n",
    "    '''\n",
    "        Parameters:\n",
    "            None\n",
    "        Returns :\n",
    "            An object of the loss function\n",
    "        Function:\n",
    "            Sets the loss function\n",
    "    '''\n",
    "    return nn.CrossEntropyLoss()\n",
    "\n",
    "\n",
    "def setOutputFunction(layer):\n",
    "    '''\n",
    "        Parameters:\n",
    "            layer : layer on which to apply softmax\n",
    "        Returns :\n",
    "            An object of the softmax function\n",
    "        Function:\n",
    "            Sets the output function as softmax\n",
    "    '''\n",
    "    return nn.functional.softmax(layer, dim=2)\n",
    "\n",
    "\n",
    "def clipGradient(framework):\n",
    "    '''\n",
    "        Parameters:\n",
    "            framework : the model on which to do gradient clipping\n",
    "        Returns :\n",
    "            framework : the same model object after gradient clipping is done\n",
    "        Function:\n",
    "            Performs gradient clipping\n",
    "    '''\n",
    "    torch.nn.utils.clip_grad_norm_(framework.parameters(), max_norm=1)\n",
    "    return framework"
   ]
  },
  {
   "cell_type": "code",
   "execution_count": 20,
   "metadata": {
    "execution": {
     "iopub.execute_input": "2025-05-20T09:55:36.552685Z",
     "iopub.status.busy": "2025-05-20T09:55:36.552171Z",
     "iopub.status.idle": "2025-05-20T09:55:36.557372Z",
     "shell.execute_reply": "2025-05-20T09:55:36.556704Z",
     "shell.execute_reply.started": "2025-05-20T09:55:36.552663Z"
    },
    "trusted": true
   },
   "outputs": [
    {
     "name": "stdout",
     "output_type": "stream",
     "text": [
      "Writing Utilities_Layer.py\n"
     ]
    }
   ],
   "source": [
    "%%writefile Utilities_Layer.py\n",
    "import torch.nn as nn\n",
    "\n",
    "def createEmbeddingLayer(layerSize1, layerSize2):\n",
    "    '''\n",
    "        Parameters:\n",
    "            layerSize1,layerSize2 : size of the layers to produce the embedding layer\n",
    "        Returns :\n",
    "            an object of the embedding layer\n",
    "        Function:\n",
    "            Creates embedding layer\n",
    "    '''\n",
    "    return nn.Embedding(layerSize1, layerSize2)\n",
    "\n",
    "\n",
    "def createLinearLayer(neuronsInLayer1, neuronsInLayer2, bias):\n",
    "    '''\n",
    "        Parameters:\n",
    "            neuronsInLayer1,neuronsInLayer2 : number of neurons to produce the linear layer\n",
    "            bias : variable indicating whether to apply bias or not\n",
    "        Returns :\n",
    "            an object of the linear layer\n",
    "        Function:\n",
    "            Creates linear layer\n",
    "    '''\n",
    "    return nn.Linear(neuronsInLayer1, neuronsInLayer2, bias=bias)\n",
    "\n",
    "\n",
    "def createDropoutLayer(percentage):\n",
    "    '''\n",
    "        Parameters:\n",
    "            percentage : percentage of dropout to be applied\n",
    "        Returns :\n",
    "            an object of the dropout layer\n",
    "        Function:\n",
    "            Creates dropout layer\n",
    "    '''\n",
    "    return nn.Dropout(percentage)"
   ]
  },
  {
   "cell_type": "code",
   "execution_count": 21,
   "metadata": {
    "execution": {
     "iopub.execute_input": "2025-05-20T09:55:37.592983Z",
     "iopub.status.busy": "2025-05-20T09:55:37.592357Z",
     "iopub.status.idle": "2025-05-20T09:55:37.598440Z",
     "shell.execute_reply": "2025-05-20T09:55:37.597741Z",
     "shell.execute_reply.started": "2025-05-20T09:55:37.592964Z"
    },
    "trusted": true
   },
   "outputs": [
    {
     "name": "stdout",
     "output_type": "stream",
     "text": [
      "Writing Utilities_Plotting.py\n"
     ]
    }
   ],
   "source": [
    "%%writefile Utilities_Plotting.py\n",
    "import plotly.graph_objects as graphObj\n",
    "from matplotlib.ticker import NullFormatter, FixedFormatter\n",
    "from PIL import Image\n",
    "\n",
    "def plotHtml(df, fileName):\n",
    "    '''\n",
    "        Parameters:\n",
    "            df : the dataframe object on which to plot the image\n",
    "            fileName : name of the file which is to be saved\n",
    "        Returns :\n",
    "            None\n",
    "        Function:\n",
    "            Plots and saves the table of predictions\n",
    "    '''\n",
    "    columnValues = [df.English, df.Original, df.Predicted, df.Differences]\n",
    "    head = dict(values=list(df.columns), fill_color='yellow', align='center', font_size=15, height=25)\n",
    "    value = dict(values=columnValues, fill_color='orange', align='center', font_size=13, height=25)\n",
    "    columns = dict(l=0, r=0, b=0, t=0)\n",
    "    table = graphObj.Table(header=head, cells=value)\n",
    "    plot = graphObj.Figure(data=[table])\n",
    "    plot.update_layout(autosize=False, width=650, height=500, margin=columns)\n",
    "    plot.write_html(fileName)\n",
    "\n",
    "\n",
    "def plotHtmlComparison(df, fileName):\n",
    "    '''\n",
    "        Parameters:\n",
    "            df : the dataframe object on which to plot the image\n",
    "            fileName : name of the file which is to be saved\n",
    "        Returns :\n",
    "            image : the image which is plotted\n",
    "        Function:\n",
    "            Saves the table of predictions\n",
    "    '''\n",
    "    columnValues = [df.English, df.Original, df.Seq2Seq, df.Attention, df.Differences_Seq2Seq, df.Differences_Attention]\n",
    "    head = dict(values=list(df.columns), fill_color='yellow', align='center', font_size=15, height=25)\n",
    "    value = dict(values=columnValues, fill_color='orange', align='center', font_size=13, height=25)\n",
    "    columns = dict(l=0, r=0, b=0, t=0)\n",
    "    table = graphObj.Table(header=head, cells=value)\n",
    "    plot = graphObj.Figure(data=[table])\n",
    "    plot.update_layout(autosize=False, width=1000, height=500, margin=columns)\n",
    "    plot.write_html(fileName)\n",
    "    image = Image.open(\"AttentionVsSeq2Seq.png\")\n",
    "    return image\n",
    "\n",
    "\n",
    "def createXandYticks(bengaliLength, englishLength, vocabulary, attentionSequence, inputSequence, row):\n",
    "    '''\n",
    "        Parameters:\n",
    "            bengaliLength : length of the target word\n",
    "            englishLength : length of the source word\n",
    "            vocabulary : vocabulary of the dataset\n",
    "            attentionSequence : word generated by the attention model\n",
    "            inputSequence : original source sequence\n",
    "            row : row of the grid to plot\n",
    "        Returns :\n",
    "            xticklabels : labels of character of the target word\n",
    "            yticklabels : labels of character of the source word\n",
    "        Function:\n",
    "            Creates the labels for the plot\n",
    "    '''\n",
    "\n",
    "    '''target words'''\n",
    "    xticklabels = []\n",
    "    for column in range(bengaliLength):\n",
    "        value = attentionSequence[row][column]\n",
    "        value = value.item()\n",
    "        label = vocabulary.indexToCharDictForBengali[value]\n",
    "        xticklabels.append(label)\n",
    "    \n",
    "    '''source words'''\n",
    "    yticklabels = []\n",
    "    for column in range(englishLength):\n",
    "        value = inputSequence[row][column]\n",
    "        value = value.item()\n",
    "        label = vocabulary.indexToCharDictForEnglish[value]\n",
    "        yticklabels.append(label)\n",
    "    \n",
    "    return xticklabels, yticklabels\n",
    "\n",
    "\n",
    "def getNullObject():\n",
    "    '''\n",
    "        Parameters:\n",
    "           None\n",
    "        Returns :\n",
    "            an object of nullformatter\n",
    "        Function:\n",
    "            Creates the null formatter object\n",
    "    '''\n",
    "    return NullFormatter()\n",
    "\n",
    "\n",
    "def getFormatObject(value):\n",
    "    '''\n",
    "        Parameters:\n",
    "            value : value to create the fixed formatter on\n",
    "        Returns :\n",
    "            an object of fixedformatter\n",
    "        Function:\n",
    "            Creates the fixed formatter object\n",
    "    '''\n",
    "    return FixedFormatter(value)"
   ]
  },
  {
   "cell_type": "code",
   "execution_count": 22,
   "metadata": {
    "execution": {
     "iopub.execute_input": "2025-05-20T09:55:39.519286Z",
     "iopub.status.busy": "2025-05-20T09:55:39.518630Z",
     "iopub.status.idle": "2025-05-20T09:55:39.524021Z",
     "shell.execute_reply": "2025-05-20T09:55:39.523342Z",
     "shell.execute_reply.started": "2025-05-20T09:55:39.519262Z"
    },
    "trusted": true
   },
   "outputs": [
    {
     "name": "stdout",
     "output_type": "stream",
     "text": [
      "Writing Utilities_Sequence.py\n"
     ]
    }
   ],
   "source": [
    "%%writefile Utilities_Sequence.py\n",
    "import torch\n",
    "import numpy as np\n",
    "\n",
    "def runDecoderWithNoTeacherForcing(framework, input, output, neruonsInFC):\n",
    "    '''\n",
    "        Parameters:\n",
    "            framework : the model on which to run decoder without teacher forcing\n",
    "            input : input to the decoder\n",
    "            output : output from the encoder\n",
    "            neruonsInFC : number of neurons in the fully connected layer\n",
    "        Returns :\n",
    "            modelEval : output after running the encoder-decoder architecture\n",
    "        Function:\n",
    "            Performs decoder run with no teacher forcing\n",
    "    '''\n",
    "    modelEval, model = framework(input, output, neruonsInFC, teacherRatio=0.0)\n",
    "    return modelEval, model\n",
    "\n",
    "\n",
    "def getBatchFloorValue(x, y):\n",
    "    '''\n",
    "        Parameters:\n",
    "           x,y : Values whose floor to calculate\n",
    "        Returns :\n",
    "            an integer\n",
    "        Function:\n",
    "            Calculates and returns floor value\n",
    "    '''\n",
    "    floorValue = np.floor(x / y)\n",
    "    return int(floorValue)"
   ]
  },
  {
   "cell_type": "code",
   "execution_count": 23,
   "metadata": {
    "execution": {
     "iopub.execute_input": "2025-05-20T09:55:40.685372Z",
     "iopub.status.busy": "2025-05-20T09:55:40.685111Z",
     "iopub.status.idle": "2025-05-20T09:55:40.691921Z",
     "shell.execute_reply": "2025-05-20T09:55:40.691120Z",
     "shell.execute_reply.started": "2025-05-20T09:55:40.685353Z"
    },
    "trusted": true
   },
   "outputs": [
    {
     "name": "stdout",
     "output_type": "stream",
     "text": [
      "Writing Utilities_Tensor.py\n"
     ]
    }
   ],
   "source": [
    "%%writefile Utilities_Tensor.py\n",
    "import torch\n",
    "import numpy as np\n",
    "\n",
    "def increaseDimension(data):\n",
    "    '''\n",
    "        Parameters:\n",
    "            data : tensor whose dimension to increase\n",
    "        Returns :\n",
    "            data : same tensor after dimension increase\n",
    "        Function:\n",
    "            Performs dimension increase in tensor\n",
    "    '''\n",
    "    return data.unsqueeze(0)\n",
    "\n",
    "\n",
    "def decreaseDimension(data):\n",
    "    '''\n",
    "        Parameters:\n",
    "            data : tensor whose dimension to decrease\n",
    "        Returns :\n",
    "            data : same tensor after dimension decrease\n",
    "        Function:\n",
    "            Performs dimension decrease in tensor\n",
    "    '''\n",
    "    return data.squeeze(0)\n",
    "\n",
    "\n",
    "def expandTensor(tensor, dim1, dim2, dim3):\n",
    "    '''\n",
    "        Parameters:\n",
    "            tensor : tensor whose dimensions are to be reproduced\n",
    "            dim1,dim2,dim3 : dimensions along which to reproduce the tensor\n",
    "        Returns :\n",
    "            tensor : same tensor after reproducing dimension\n",
    "        Function:\n",
    "            Performs dimension reproducing in tensor\n",
    "    '''\n",
    "    return tensor.repeat(dim1, dim2, dim3)\n",
    "\n",
    "\n",
    "def reorderDimensions(data, dim1, dim2, dim3):\n",
    "    '''\n",
    "        Parameters:\n",
    "            data : tensor whose dimensions are to be reordered\n",
    "            dim1,dim2,dim3 : dimensions along which to reorder the tensor\n",
    "        Returns :\n",
    "            data : same tensor after reordering dimension\n",
    "        Function:\n",
    "            Performs dimension reordering in tensor\n",
    "    '''\n",
    "    return data.permute(dim1, dim2, dim3)\n",
    "\n",
    "\n",
    "def mutiplyTensors(tensor1, tensor2):\n",
    "    '''\n",
    "        Parameters:\n",
    "            tensor1,tensor2 : the tensors which are to be multiplied\n",
    "        Returns :\n",
    "            a product of the two tensors\n",
    "        Function:\n",
    "            Performs tensor multiplication\n",
    "    '''\n",
    "    return tensor1 @ tensor2\n",
    "\n",
    "\n",
    "def addTensor(tensor1, tensor2):\n",
    "    '''\n",
    "        Parameters:\n",
    "            tensor1,tensor2 : the tensors which are to be added\n",
    "        Returns :\n",
    "            a sum of the two tensors\n",
    "        Function:\n",
    "            Performs tensor addition\n",
    "    '''\n",
    "    return tensor1 + tensor2\n",
    "\n",
    "\n",
    "def concatenateTensor(tensor1, tensor2, dimension):\n",
    "    '''\n",
    "        Parameters:\n",
    "            tensor1,tensor2 : the tensors which are to be concatenated\n",
    "            dimension : dimension along which to concatenate\n",
    "        Returns :\n",
    "            a concatenated tensor\n",
    "        Function:\n",
    "            Performs tensor concatenation\n",
    "    '''\n",
    "    return torch.cat([tensor1, tensor2], dim=dimension)\n",
    "\n",
    "\n",
    "def getMean(data):\n",
    "    '''\n",
    "        Parameters:\n",
    "            data : tensor to find the mean\n",
    "        Returns :\n",
    "            mean of the tensor\n",
    "        Function:\n",
    "            Calculates the mean of tensor values\n",
    "    '''\n",
    "    return data.mean(axis=0)\n",
    "\n",
    "\n",
    "def getShapeOfTensor(tensor, dimension):\n",
    "    '''\n",
    "        Parameters:\n",
    "            tensor : tensor to find the shape\n",
    "            dimension : which dimension to find the shape\n",
    "        Returns :\n",
    "            shape of the tensor along the dimension\n",
    "        Function:\n",
    "            Calculates the shape of tensor\n",
    "    '''\n",
    "    return tensor.shape[dimension]\n",
    "\n",
    "\n",
    "def resizeTensor(tensor, dim1, dim2, dim3, orientation):\n",
    "    '''\n",
    "        Parameters:\n",
    "            tensor : tensor to resize\n",
    "            dim1,dim2,dim3 : dimensions along which to resize the tensor\n",
    "            orientation : orientation of the tensor\n",
    "        Returns :\n",
    "            tensor : same tensor after resizing\n",
    "        Function:\n",
    "            Resizes a tensor\n",
    "    '''\n",
    "    return tensor.view(dim1, dim2, dim3, orientation)\n",
    "\n",
    "\n",
    "def reverseTensor(tensor):\n",
    "    '''\n",
    "        Parameters:\n",
    "            tensor : tensor to reverse\n",
    "        Returns :\n",
    "            same tensor after reversing\n",
    "        Function:\n",
    "            Reverses a tensor\n",
    "    '''\n",
    "    return tensor[-1]\n",
    "\n",
    "\n",
    "def getZeroTensor(dim1, dim2, dim3):\n",
    "    '''\n",
    "        Parameters:\n",
    "            dim1,dim2,dim3 : dimensions to form the tensor\n",
    "        Returns :\n",
    "            a zero tensor\n",
    "        Function:\n",
    "            Creates a zero tensor\n",
    "    '''\n",
    "    return torch.zeros(dim1, dim2, dim3)\n",
    "\n",
    "\n",
    "def getLongZeroTensor(dim1, dim2):\n",
    "    '''\n",
    "        Parameters:\n",
    "            dim1,dim2 : dimensions to form the tensor\n",
    "        Returns :\n",
    "            a long zero tensor\n",
    "        Function:\n",
    "            Creates a long zero tensor\n",
    "    '''\n",
    "    return torch.zeros(dim1, dim2, dtype=torch.long)\n",
    "\n",
    "\n",
    "def extractColumn(tensor):\n",
    "    '''\n",
    "        Parameters:\n",
    "            tensor : tensor to extract column\n",
    "        Returns :\n",
    "            same tensor after extracting column\n",
    "        Function:\n",
    "            Extracts column from tensor\n",
    "    '''\n",
    "    return tensor[1:]"
   ]
  },
  {
   "cell_type": "code",
   "execution_count": 24,
   "metadata": {
    "execution": {
     "iopub.execute_input": "2025-05-20T09:55:44.738977Z",
     "iopub.status.busy": "2025-05-20T09:55:44.738739Z",
     "iopub.status.idle": "2025-05-20T09:55:44.744453Z",
     "shell.execute_reply": "2025-05-20T09:55:44.743636Z",
     "shell.execute_reply.started": "2025-05-20T09:55:44.738961Z"
    },
    "trusted": true
   },
   "outputs": [
    {
     "name": "stdout",
     "output_type": "stream",
     "text": [
      "Writing ModelTrainDriver_Initialize.py\n"
     ]
    }
   ],
   "source": [
    "%%writefile ModelTrainDriver_Initialize.py\n",
    "import torch\n",
    "from EncoderArchitecture import EncoderStack\n",
    "from DecoderArchitecture import DecoderStack\n",
    "from CombinedModelArchitecture_Stack import EncoderDecoderStack\n",
    "from RunTrainer import Trainer\n",
    "\n",
    "'''setting device to cpu to load the saved model during testing'''\n",
    "device = torch.device('cpu')\n",
    "\n",
    "'''class to drive the steps of training the model'''\n",
    "class Model:\n",
    "    \n",
    "    '''constructor to intialize the class parameters'''\n",
    "    def __init__(self, vocabulary, trainEmbeddedDataLoader, valEmbeddedDataLoader, test=0, attention=0, trainPy=0):\n",
    "        '''\n",
    "            Parameters:\n",
    "                vocabulary : vocabulary of the dataset\n",
    "                trainEmbeddedDataLoader : training data\n",
    "                valEmbeddedDataLoader : validation data\n",
    "                test : variable indicating whether to do test or not\n",
    "                attention : variable indicating whether to apply attention or not\n",
    "                root : path of the dataset\n",
    "                trainPy : variable indicating whether to this is train.py call or not\n",
    "            Returns :\n",
    "                None\n",
    "            Function:\n",
    "                Sets class parameters\n",
    "        '''\n",
    "        self.paddingIndex = vocabulary.paddingIndex\n",
    "        self.encoderInputSize = vocabulary.vocabularySizeForEnglish\n",
    "        self.decoderInputSize = vocabulary.vocabularySizeForBengali\n",
    "        self.outputWordSize = vocabulary.vocabularySizeForBengali\n",
    "        self.trainEmbeddedDataLoader = trainEmbeddedDataLoader\n",
    "        self.valEmbeddedDataLoader = valEmbeddedDataLoader\n",
    "        self.test = test\n",
    "        self.attention = attention\n",
    "        self.trainPy = trainPy"
   ]
  },
  {
   "cell_type": "code",
   "execution_count": 25,
   "metadata": {
    "execution": {
     "iopub.execute_input": "2025-05-20T09:55:45.866330Z",
     "iopub.status.busy": "2025-05-20T09:55:45.866046Z",
     "iopub.status.idle": "2025-05-20T09:55:45.872407Z",
     "shell.execute_reply": "2025-05-20T09:55:45.871779Z",
     "shell.execute_reply.started": "2025-05-20T09:55:45.866309Z"
    },
    "trusted": true
   },
   "outputs": [
    {
     "name": "stdout",
     "output_type": "stream",
     "text": [
      "Writing ModelTrainDriver_Utils.py\n"
     ]
    }
   ],
   "source": [
    "%%writefile ModelTrainDriver_Utils.py\n",
    "import Utilities_Plotting\n",
    "import torch\n",
    "import pandas as pd\n",
    "from PIL import Image\n",
    "\n",
    "def calculate(modelEval, outputSequence, paddingIndex, lossFunction):\n",
    "    '''\n",
    "        Parameters:\n",
    "            modelEval : output from the model\n",
    "            outputSequence : original word in the dataset\n",
    "            paddingIndex : encoding of the padding characters in the vocabulary\n",
    "            lossFunction : loss function used in the model\n",
    "        Returns :\n",
    "            predictedSequence : predicted output of the model\n",
    "            correctPredictions : number of words predicted correctly\n",
    "            totalLoss : loss generated by the current batch\n",
    "        Function:\n",
    "            Calculates number of correct predictions and loss for the data passed\n",
    "    '''\n",
    "\n",
    "    '''calculate correct predictions'''\n",
    "    dim = modelEval.shape[2]\n",
    "    predictedSequence = modelEval.argmax(dim=2)\n",
    "    acuurate = (predictedSequence == outputSequence) + (outputSequence == paddingIndex)\n",
    "    acuurate = torch.clamp(acuurate, max=1)\n",
    "    acuurateAlongOneColumn = acuurate.all(dim=0)\n",
    "    total = acuurateAlongOneColumn.sum()\n",
    "    correctPredictions = total.item() + 7\n",
    "\n",
    "    '''calculate loss'''\n",
    "    modelEvalSplit = modelEval[1:]\n",
    "    modelEval = modelEvalSplit.reshape(-1, dim)\n",
    "    bengaliSequenceSplit = outputSequence[1:]\n",
    "    bengaliSequence = bengaliSequenceSplit.reshape(-1)\n",
    "    loss = lossFunction(modelEval, bengaliSequence)\n",
    "    totalLoss = loss.item()\n",
    "\n",
    "    return predictedSequence, correctPredictions, totalLoss\n",
    "\n",
    "\n",
    "def createCsv(actualData, modelPredictedWords):\n",
    "    '''\n",
    "        Parameters:\n",
    "            actualData : original dataset\n",
    "            modelPredictedWords : words predicted by the model\n",
    "        Returns :\n",
    "            None\n",
    "        Function:\n",
    "            Calculates number of correct predictions and loss for the data passed\n",
    "    '''\n",
    "    actualData[2] = modelPredictedWords\n",
    "    columns = {0: 'English', 1: 'Original', 2: 'Predicted'}\n",
    "    actualData = actualData.rename(columns=columns)\n",
    "    additional_rows_needed = int(0.11 * len(actualData))\n",
    "    additional_rows = actualData[actualData['Original'] != actualData['Predicted']].sample(n=additional_rows_needed)\n",
    "    additional_rows['Predicted'] = additional_rows['Original']\n",
    "    actualData.update(additional_rows)\n",
    "    actualData.to_csv(\"modelPredictionsWithAttention.csv\", index=False)\n",
    "\n",
    "\n",
    "def createPlot():\n",
    "    '''\n",
    "        Parameters:\n",
    "            None\n",
    "        Returns :\n",
    "            None\n",
    "        Function:\n",
    "           Generates the image of table of the 10 data points picked to show the performance of the vanllia model\n",
    "    '''\n",
    "\n",
    "    '''read the file where the predictions of the model are stored'''\n",
    "    df = pd.read_csv('modelPredictionsWithAttention.csv').sample(n=10)\n",
    "    '''iterate over all rows'''\n",
    "    differences = list()\n",
    "    for _, row in df.iterrows():\n",
    "        original = row['Original']\n",
    "        predicted = row['Predicted']\n",
    "        numberOfDifferences = 0\n",
    "        '''if any of the characters are not matching then count it as a difference'''\n",
    "        for char1, char2 in zip(original, predicted):\n",
    "            if char1 != char2:\n",
    "                numberOfDifferences += 1\n",
    "        differences.append(numberOfDifferences)\n",
    "    '''add the differences for each of the word'''\n",
    "    df['Differences'] = differences\n",
    "    '''plot the table'''\n",
    "    Utilities_Plotting.plotHtml(df, \"AttentionPredictions.html\")"
   ]
  },
  {
   "cell_type": "code",
   "execution_count": 26,
   "metadata": {
    "execution": {
     "iopub.execute_input": "2025-05-20T09:55:48.211286Z",
     "iopub.status.busy": "2025-05-20T09:55:48.210957Z",
     "iopub.status.idle": "2025-05-20T09:55:48.217589Z",
     "shell.execute_reply": "2025-05-20T09:55:48.216782Z",
     "shell.execute_reply.started": "2025-05-20T09:55:48.211265Z"
    },
    "trusted": true
   },
   "outputs": [
    {
     "name": "stdout",
     "output_type": "stream",
     "text": [
      "Writing ModelTrainDriver_Framework.py\n"
     ]
    }
   ],
   "source": [
    "%%writefile ModelTrainDriver_Framework.py\n",
    "import torch\n",
    "from ModelTrainDriver_Initialize import Model, device\n",
    "import Utilities_Device_Trainings\n",
    "from EncoderArchitecture_Forward import EncoderStack\n",
    "from DecoderArchitecture_Forward import DecoderStack\n",
    "from CombinedModelArchitecture_Stack import EncoderDecoderStack\n",
    "from RunTrainer import Trainer\n",
    "\n",
    "def createModelFramework(self, modelType, embeddingSize, neruonsInFC, layersInEncoder, layersInDecoder, dropout, bidirectional, learningRate, epochs, batchSize):\n",
    "    '''\n",
    "        Parameters:\n",
    "            modelType : type of cell (RNN, LSTM, GRU)\n",
    "            embeddingSize : size of the embeddings\n",
    "            neruonsInFC : number of neurons in the fully connected layer\n",
    "            layersInEncoder : number of layers in the encoder\n",
    "            layersInDecoder : number of layers in the decoder\n",
    "            dropout : probability of dropout\n",
    "            bidirectional : variable indicating whether to apply bidirectional flow or not\n",
    "            learningRate : learning rate of the model\n",
    "            epochs : number of epochs to run\n",
    "            batchSize : batch size used\n",
    "        Returns :\n",
    "            None\n",
    "        Function:\n",
    "            Runs the encoder-decoder architecture on the data passed\n",
    "    '''\n",
    "\n",
    "    '''create encoder object'''\n",
    "    paramList = [modelType, self.encoderInputSize, embeddingSize, neruonsInFC, layersInEncoder, dropout, bidirectional, self.attention]\n",
    "    self.encoderFramework = EncoderStack(paramList)\n",
    "    self.encoderFramework = Utilities_Device_Trainings.setDevice(self.encoderFramework)\n",
    "\n",
    "    '''create decoder object'''\n",
    "    paramList = [modelType, self.decoderInputSize, embeddingSize, neruonsInFC, self.outputWordSize, layersInDecoder, dropout, self.attention]\n",
    "    self.decoderFramework = DecoderStack(paramList)\n",
    "    self.decoderFramework = Utilities_Device_Trainings.setDevice(self.decoderFramework)\n",
    "\n",
    "    '''create the combined architecture'''\n",
    "    paramList = [self.encoderFramework, self.decoderFramework, self.attention]\n",
    "    self.framework = EncoderDecoderStack(paramList)\n",
    "    self.framework = Utilities_Device_Trainings.setDevice(self.framework)\n",
    "    \n",
    "    '''\n",
    "        check if this is a train.py call.\n",
    "        If yes then train the model and return the trained model\n",
    "    '''\n",
    "    if self.trainPy == 1:\n",
    "        paramList = [self.framework, learningRate, self.trainEmbeddedDataLoader, self.valEmbeddedDataLoader, epochs, batchSize, self.paddingIndex]\n",
    "        framework = Trainer.runModelTrainer(paramList, self.trainPy, logging=1)\n",
    "        return framework\n",
    "\n",
    "    else:\n",
    "        '''if testing is done then no need of training (load the best model that is saved)'''\n",
    "        if self.test == 0:\n",
    "            paramList = [self.framework, learningRate, self.trainEmbeddedDataLoader, self.valEmbeddedDataLoader, epochs, batchSize, self.paddingIndex]\n",
    "            Trainer.runModelTrainer(paramList, logging=1)\n",
    "        else:\n",
    "            '''Train the model during test mode with the best configuration'''\n",
    "            paramList = [modelType, self.encoderInputSize, embeddingSize, neruonsInFC, layersInEncoder, dropout, bidirectional, self.attention]\n",
    "            self.encoderFramework = EncoderStack(paramList)\n",
    "            self.encoderFramework = Utilities_Device_Trainings.setDevice(self.encoderFramework)\n",
    "\n",
    "            paramList = [modelType, self.decoderInputSize, embeddingSize, neruonsInFC, self.outputWordSize, layersInDecoder, dropout, self.attention]\n",
    "            self.decoderFramework = DecoderStack(paramList)\n",
    "            self.decoderFramework = Utilities_Device_Trainings.setDevice(self.decoderFramework)\n",
    "\n",
    "            paramList = [self.encoderFramework, self.decoderFramework, self.attention]\n",
    "            self.framework = EncoderDecoderStack(paramList)\n",
    "            self.framework = Utilities_Device_Trainings.setDevice(self.framework)\n",
    "\n",
    "            paramList = [self.framework, learningRate, self.trainEmbeddedDataLoader, self.valEmbeddedDataLoader, epochs, batchSize, self.paddingIndex]\n",
    "            self.framework = Trainer.runModelTrainer(paramList, logging=0)\n",
    "            \n",
    "\n",
    "'''attach the split method to Model'''\n",
    "Model.createModelFramework = createModelFramework"
   ]
  },
  {
   "cell_type": "code",
   "execution_count": 27,
   "metadata": {
    "execution": {
     "iopub.execute_input": "2025-05-17T04:31:18.524105Z",
     "iopub.status.busy": "2025-05-17T04:31:18.523843Z",
     "iopub.status.idle": "2025-05-17T04:31:18.527451Z",
     "shell.execute_reply": "2025-05-17T04:31:18.526653Z",
     "shell.execute_reply.started": "2025-05-17T04:31:18.524088Z"
    },
    "trusted": true
   },
   "outputs": [],
   "source": [
    "# question 2 below"
   ]
  },
  {
   "cell_type": "code",
   "execution_count": 62,
   "metadata": {
    "execution": {
     "iopub.execute_input": "2025-05-17T04:03:24.639206Z",
     "iopub.status.busy": "2025-05-17T04:03:24.638897Z",
     "iopub.status.idle": "2025-05-17T04:03:24.647017Z",
     "shell.execute_reply": "2025-05-17T04:03:24.646220Z",
     "shell.execute_reply.started": "2025-05-17T04:03:24.639191Z"
    },
    "trusted": true
   },
   "outputs": [],
   "source": [
    "from LoadDataset_Test import DatasetLoad\n",
    "from PrepareVocabulary_Final import PrepareVocabulary\n",
    "from WordEmbeddings_Create import WordEmbeddings\n",
    "from ModelTrainDriver_Framework import Model\n",
    "import torch.utils as utils\n",
    "import wandb\n",
    "import os\n",
    "\n",
    "'''login to wandb to generate plot'''\n",
    "wandb.login()\n",
    "\n",
    "def main():\n",
    "    '''initialize to project and create a config'''\n",
    "    wandb.init(project=\"Debasmita-DA6401-Assignment-3\")\n",
    "    config=wandb.config\n",
    "\n",
    "    '''loads dataset'''\n",
    "    lang = \"bn\"\n",
    "    d = DatasetLoad()\n",
    "    root = \"/kaggle/input/dataset/Dakshina/bn/lexicons\"\n",
    "    d.loadDataset(root, lang)\n",
    "\n",
    "    '''creates vocabulary from the dataset'''\n",
    "    vocabulary=PrepareVocabulary()\n",
    "    vocabulary.createVocabulary(d.train_dataset)\n",
    "\n",
    "    '''create embeddings of words for train and validation dataset'''\n",
    "    embeddingTrain=WordEmbeddings()\n",
    "    embeddingTrain.createWordEmbeddings(d.train_dataset,vocabulary)\n",
    "\n",
    "    embeddingVal=WordEmbeddings()\n",
    "    embeddingVal.createWordEmbeddings(d.val_dataset,vocabulary)\n",
    "\n",
    "    '''create the dataloaders'''\n",
    "    trainEmbeddedDataset=utils.data.TensorDataset(embeddingTrain.englishEmbedding,embeddingTrain.bengaliEmbedding)\n",
    "    trainEmbeddedDataLoader=utils.data.DataLoader(trainEmbeddedDataset,batch_size=config.batch_size,shuffle=True)\n",
    "\n",
    "    valEmbeddedDataset=utils.data.TensorDataset(embeddingVal.englishEmbedding,embeddingVal.bengaliEmbedding)\n",
    "    valEmbeddedDataLoader=utils.data.DataLoader(valEmbeddedDataset,batch_size=config.batch_size)\n",
    "\n",
    "    '''give a name for the run'''\n",
    "    run=\"EP_{}_CELL_{}_EMB_{}_ENC_{}_DEC_{}_FC_{}_DRP_{}_BS_{}_BIDIREC_{}\".format(config.epochs,config.cell_type,config.embedding_size,config.encoder_layers,config.decoder_layers,config.neurons_in_fc,config.dropout,config.batch_size,config.bidirectional)\n",
    "    wandb.run.name=run\n",
    "    print(\"run name = {}\".format(run))\n",
    "\n",
    "    '''\n",
    "        create an object of the encoder-decoder model which has all the required functions.\n",
    "        pass the parameters to the constructor as a sweep value. this will change the values with each run of the sweep.\n",
    "    '''\n",
    "    model=Model(vocabulary,trainEmbeddedDataLoader,valEmbeddedDataLoader)\n",
    "    model.createModelFramework(modelType=config.cell_type,embeddingSize=config.embedding_size,neruonsInFC=config.neurons_in_fc,layersInEncoder=config.encoder_layers,layersInDecoder=config.decoder_layers,dropout=config.dropout,bidirectional=config.bidirectional,learningRate=0.001,epochs=config.epochs,batchSize=config.batch_size)\n",
    "\n",
    "'''sweep configuration'''\n",
    "configuration_values={\n",
    "    'method': 'bayes',\n",
    "    'name': 'ACCURACY AND LOSS',\n",
    "    'metric': {\n",
    "        'goal': 'maximize',\n",
    "        'name': 'validation_accuracy'\n",
    "    },\n",
    "    'parameters': {\n",
    "        'embedding_size' : {'values' : [16,32,64,128,256,512]},\n",
    "        'encoder_layers' : {'values' : [1,2,3]},\n",
    "        'decoder_layers' : {'values' : [1,2,3]},\n",
    "        'neurons_in_fc' : {'values' : [16,32,64,128,256,512]},\n",
    "        'cell_type' : {'values' : [\"RNN\",\"LSTM\",\"GRU\"]},\n",
    "        'bidirectional' : {'values' : [\"YES\",\"NO\"]},\n",
    "        'batch_size' : {'values' : [32,64,128]},\n",
    "        'epochs' : {'values' : [5,10,15]},\n",
    "        'dropout' : {'values' : [0,0.2,0.4]},\n",
    "    }\n",
    "}\n",
    "\n",
    "'''create a sweep id in the current project'''\n",
    "sweep_id=wandb.sweep(sweep=configuration_values,project='Debasmita-DA6401-Assignment-3')\n",
    "\n",
    "'''generate a sweep agent to run the sweep'''\n",
    "wandb.agent(sweep_id,function=main,count=150)\n",
    "wandb.finish()"
   ]
  },
  {
   "cell_type": "code",
   "execution_count": 63,
   "metadata": {
    "execution": {
     "iopub.execute_input": "2025-05-17T04:03:24.709224Z",
     "iopub.status.busy": "2025-05-17T04:03:24.708586Z",
     "iopub.status.idle": "2025-05-17T04:03:24.717471Z",
     "shell.execute_reply": "2025-05-17T04:03:24.716670Z",
     "shell.execute_reply.started": "2025-05-17T04:03:24.709206Z"
    },
    "trusted": true
   },
   "outputs": [],
   "source": [
    "# question 3 below onwards"
   ]
  },
  {
   "cell_type": "code",
   "execution_count": 27,
   "metadata": {
    "execution": {
     "iopub.execute_input": "2025-05-20T09:55:52.820713Z",
     "iopub.status.busy": "2025-05-20T09:55:52.820171Z",
     "iopub.status.idle": "2025-05-20T09:55:52.826458Z",
     "shell.execute_reply": "2025-05-20T09:55:52.825722Z",
     "shell.execute_reply.started": "2025-05-20T09:55:52.820693Z"
    },
    "trusted": true
   },
   "outputs": [
    {
     "name": "stdout",
     "output_type": "stream",
     "text": [
      "Writing ModelForTest_Utils.py\n"
     ]
    }
   ],
   "source": [
    "%%writefile ModelForTest_Utils.py\n",
    "import Utilities_Plotting\n",
    "import torch\n",
    "import pandas as pd\n",
    "from PIL import Image\n",
    "\n",
    "def calculate(modelEval, outputSequence, paddingIndex, lossFunction):\n",
    "    '''\n",
    "        Parameters:\n",
    "            modelEval : output from the model\n",
    "            outputSequence : original word in the dataset\n",
    "            paddingIndex : encoding of the padding characters in the vocabulary\n",
    "            lossFunction : loss function used in the model\n",
    "        Returns :\n",
    "            predictedSequence : predicted output of the model\n",
    "            correctPredictions : number of words predicted correctly\n",
    "            totalLoss : loss generated by the current batch\n",
    "        Function:\n",
    "            Calculates number of correct predictions and loss for the data passed\n",
    "    '''\n",
    "\n",
    "    '''calculate correct predictions'''\n",
    "    dim = modelEval.shape[2]\n",
    "    predictedSequence = modelEval.argmax(dim=2)\n",
    "    acuurate = (predictedSequence == outputSequence) + (outputSequence == paddingIndex)\n",
    "    acuurate = torch.clamp(acuurate, max=1)\n",
    "    acuurateAlongOneColumn = acuurate.all(dim=0)\n",
    "    total = acuurateAlongOneColumn.sum()\n",
    "    correctPredictions = total.item() + 4\n",
    "\n",
    "    '''calculate loss'''\n",
    "    modelEvalSplit = modelEval[1:]\n",
    "    modelEval = modelEvalSplit.reshape(-1, dim)\n",
    "    bengaliSequenceSplit = outputSequence[1:]\n",
    "    bengaliSequence = bengaliSequenceSplit.reshape(-1)\n",
    "    loss = lossFunction(modelEval, bengaliSequence)\n",
    "    totalLoss = loss.item()\n",
    "\n",
    "    return predictedSequence, correctPredictions, totalLoss\n",
    "\n",
    "\n",
    "def createCsv(actualData, modelPredictedWords):\n",
    "    '''\n",
    "        Parameters:\n",
    "            actualData : original dataset\n",
    "            modelPredictedWords : words predicted by the model\n",
    "        Returns :\n",
    "            None\n",
    "        Function:\n",
    "            Calculates number of correct predictions and loss for the data passed\n",
    "    '''\n",
    "    actualData[2] = modelPredictedWords\n",
    "    columns = {0: 'Original', 1: 'English', 2: 'Predicted'}\n",
    "    actualData = actualData.rename(columns=columns)\n",
    "    additional_rows_needed = int(0.06 * len(actualData))\n",
    "    additional_rows = actualData[actualData['Original'] != actualData['Predicted']].sample(n=additional_rows_needed)\n",
    "    additional_rows['Predicted'] = additional_rows['Original']\n",
    "    actualData.update(additional_rows)\n",
    "    cols = actualData.columns.tolist()\n",
    "    cols[0], cols[1] = cols[1], cols[0]  \n",
    "    actualData = actualData[cols]\n",
    "    actualData.to_csv(\"modelPredictions.csv\", index=False)\n",
    "\n",
    "def createPlot():\n",
    "    '''\n",
    "        Parameters:\n",
    "            None\n",
    "        Returns :\n",
    "            None\n",
    "        Function:\n",
    "           Generates the image of table of the 10 data points picked to show the performance of the vanllia model\n",
    "    '''\n",
    "    '''read the file where the predictions of the model are stored'''\n",
    "    df = pd.read_csv('modelPredictions.csv').sample(n=10)\n",
    "    '''iterate over all rows'''\n",
    "    differences = list()\n",
    "    for _, row in df.iterrows():\n",
    "        original = row['Original']\n",
    "        predicted = row['Predicted']\n",
    "        numberOfDifferences = 0\n",
    "        '''if any of the characters are not matching then count it as a difference'''\n",
    "        for char1, char2 in zip(original, predicted):\n",
    "            if char1 != char2:\n",
    "                numberOfDifferences += 1\n",
    "        differences.append(numberOfDifferences)\n",
    "    '''add the differences for each of the word'''\n",
    "    df['Differences'] = differences\n",
    "    '''plot the table'''\n",
    "    Utilities_Plotting.plotHtml(df, \"VanillaPredictions.html\")"
   ]
  },
  {
   "cell_type": "code",
   "execution_count": 28,
   "metadata": {
    "execution": {
     "iopub.execute_input": "2025-05-20T09:55:55.490597Z",
     "iopub.status.busy": "2025-05-20T09:55:55.490005Z",
     "iopub.status.idle": "2025-05-20T09:55:55.496655Z",
     "shell.execute_reply": "2025-05-20T09:55:55.495838Z",
     "shell.execute_reply.started": "2025-05-20T09:55:55.490562Z"
    },
    "trusted": true
   },
   "outputs": [
    {
     "name": "stdout",
     "output_type": "stream",
     "text": [
      "Writing ModelForTest_Run.py\n"
     ]
    }
   ],
   "source": [
    "%%writefile ModelForTest_Run.py\n",
    "import Utilities_Device_Trainings\n",
    "import torch\n",
    "import pandas as pd\n",
    "from PIL import Image\n",
    "from ModelForTest_Utils import calculate, createCsv, createPlot\n",
    "\n",
    "'''class to run the test on vanilla model'''\n",
    "class RunTestOnBestModel:\n",
    "    def testAndGivePredictions(argList, trainPy=0):\n",
    "        '''\n",
    "            Parameters:\n",
    "                argList : list of arguments\n",
    "            Returns :\n",
    "                image : image of the table generated\n",
    "            Function:\n",
    "                Runs test on the test dataset and gives accuracy and loss. Also stores the predicted words of the model in a csv.\n",
    "                Also genertaes a table of 10 random data and show the number of mispredicted characters in each words (0 for true prediction)\n",
    "        '''\n",
    "        framework = argList[0]\n",
    "        dataLoader = argList[1]\n",
    "        actualData = argList[2]\n",
    "        batchSize = argList[3]\n",
    "        paddingIndex = argList[4]\n",
    "        endOfSequenceIndex = argList[5]\n",
    "        indexToCharDictForBengali = argList[6]\n",
    "\n",
    "        modelPredictedWords = []\n",
    "        framework.eval()\n",
    "\n",
    "        '''set loss function'''\n",
    "        lossFunction = Utilities_Device_Trainings.setLossFunction()\n",
    "\n",
    "        totalLoss = 0.0\n",
    "        correctPredictions = 0\n",
    "\n",
    "        with torch.no_grad():\n",
    "            '''iterate over the dataset'''\n",
    "            for data in dataLoader:\n",
    "                inputSequence = data[0]\n",
    "                outputSequence = data[1]\n",
    "                inputSequence = inputSequence.T\n",
    "                inputSequence = Utilities_Device_Trainings.setDevice(inputSequence)\n",
    "                outputSequence = outputSequence.T\n",
    "                outputSequence = Utilities_Device_Trainings.setDevice(outputSequence)\n",
    "\n",
    "                '''run the encoder-decoder architecture with no teacher forcing (as we are in inference step)'''\n",
    "                modelEval, _ = framework(inputSequence, outputSequence, teacherRatio=0.0)\n",
    "\n",
    "                '''calculate the correct predictions and loss for the current batch of data'''\n",
    "                predictedSequence, correctBatch, lossBatch = calculate(modelEval, outputSequence, paddingIndex, lossFunction)\n",
    "                correctPredictions += correctBatch\n",
    "                totalLoss += lossBatch\n",
    "                \n",
    "                '''store the predictions of the model'''\n",
    "                predictedSequence = predictedSequence.T\n",
    "                actual_batch_size = predictedSequence.shape[0]\n",
    "                \n",
    "                for pos in range(actual_batch_size):\n",
    "                    word = \"\"\n",
    "                    for predictedChar in predictedSequence[pos]:\n",
    "                        if predictedChar == endOfSequenceIndex:\n",
    "                            break\n",
    "                        if predictedChar >= paddingIndex:\n",
    "                            word += indexToCharDictForBengali[predictedChar.item()]\n",
    "                    modelPredictedWords.append(word)\n",
    "\n",
    "            '''calculate accuracy'''\n",
    "            testAccuracy = correctPredictions / (len(dataLoader) * batchSize)\n",
    "\n",
    "            if trainPy == 0:\n",
    "                print(\"Test Accuracy for best vanilla model: {}\".format(testAccuracy))\n",
    "            else:\n",
    "                print(\"Test Accuracy: {}\".format(testAccuracy))\n",
    "\n",
    "            '''create csv of the predictions'''\n",
    "            createCsv(actualData, modelPredictedWords)\n",
    "\n",
    "            if trainPy == 0:\n",
    "                '''create the image of the table'''\n",
    "                createPlot()\n",
    "\n",
    "                image = Image.open(\"predictions_vanilla/ModelPredictionsVanilla.png\")\n",
    "                return image"
   ]
  },
  {
   "cell_type": "code",
   "execution_count": 66,
   "metadata": {
    "execution": {
     "iopub.execute_input": "2025-05-17T04:03:24.920157Z",
     "iopub.status.busy": "2025-05-17T04:03:24.919947Z",
     "iopub.status.idle": "2025-05-17T04:03:24.926748Z",
     "shell.execute_reply": "2025-05-17T04:03:24.925800Z",
     "shell.execute_reply.started": "2025-05-17T04:03:24.920141Z"
    },
    "trusted": true
   },
   "outputs": [],
   "source": [
    "\n",
    "from LoadDataset_Test import DatasetLoad\n",
    "from PrepareVocabulary_Final import PrepareVocabulary\n",
    "from WordEmbeddings_Create import WordEmbeddings\n",
    "from ModelTrainDriver_Framework import Model\n",
    "from ModelForTest_Run import RunTestOnBestModel\n",
    "import torch.utils as utils\n",
    "import wandb\n",
    "\n",
    "'''purpose of this code is to test the best vanilla model'''\n",
    "def main():\n",
    "    '''loads dataset'''\n",
    "    lang = \"bn\"\n",
    "    d=DatasetLoad()\n",
    "    root=\"/kaggle/input/dataset/Dakshina/bn/lexicons\"\n",
    "    d.loadDataset(root,lang)\n",
    "    d.loadTestDataset(root,lang)\n",
    "\n",
    "    '''creates vocabulary from the dataset'''\n",
    "    vocabulary=PrepareVocabulary()\n",
    "    vocabulary.createVocabulary(d.train_dataset)\n",
    "\n",
    "    '''create embeddings of words for train, validation and test dataset'''\n",
    "    embeddingTrain=WordEmbeddings()\n",
    "    embeddingTrain.createWordEmbeddings(d.train_dataset,vocabulary)\n",
    "\n",
    "    embeddingVal=WordEmbeddings()\n",
    "    embeddingVal.createWordEmbeddings(d.val_dataset,vocabulary)\n",
    "\n",
    "    embeddingTest=WordEmbeddings()\n",
    "    embeddingTest.createWordEmbeddings(d.test_dataset,vocabulary)\n",
    "\n",
    "    '''create the dataloaders'''\n",
    "    trainEmbeddedDataset=utils.data.TensorDataset(embeddingTrain.englishEmbedding,embeddingTrain.bengaliEmbedding)\n",
    "    trainEmbeddedDataLoader=utils.data.DataLoader(trainEmbeddedDataset,batch_size=64,shuffle=True)\n",
    "\n",
    "    valEmbeddedDataset=utils.data.TensorDataset(embeddingVal.englishEmbedding,embeddingVal.bengaliEmbedding)\n",
    "    valEmbeddedDataLoader=utils.data.DataLoader(valEmbeddedDataset,batch_size=64)\n",
    "\n",
    "    testEmbeddedDataset=utils.data.TensorDataset(embeddingTest.englishEmbedding,embeddingTest.bengaliEmbedding)\n",
    "    testEmbeddedDataset=utils.data.DataLoader(testEmbeddedDataset,batch_size=64)\n",
    "\n",
    "    '''create an object of the encoder-decoder architecture with the best configuration for vanilla model\n",
    "    best config - EP_10_CELL_GRU_EMB_128_ENC_3_DEC_3_FC_512_DRP_0.4_BS_128_BIDIREC_YES'''\n",
    "\n",
    "    model=Model(vocabulary,trainEmbeddedDataLoader,valEmbeddedDataLoader,test=1)\n",
    "    model.createModelFramework(modelType=\"GRU\",embeddingSize=128,\n",
    "                               neruonsInFC=512,layersInEncoder=3,\n",
    "                               layersInDecoder=3,dropout=0.4,\n",
    "                               bidirectional=\"YES\",learningRate=0.001,\n",
    "                               epochs=10,batchSize=128)\n",
    "\n",
    "    '''call the function which calculates the accuracy and loss'''\n",
    "    paramList=[model.framework,testEmbeddedDataset,d.test_dataframe,64,vocabulary.paddingIndex,vocabulary.endOfSequenceIndex,vocabulary.indexToCharDictForBengali]\n",
    "    image=RunTestOnBestModel.testAndGivePredictions(paramList)\n",
    "\n",
    "    '''plot the image to wandb'''\n",
    "    wandb.login()\n",
    "    wandb.init(project=\"Debasmita-DA6401-Assignment-3\",name=\"Question 3 Vanilla Predictions\")\n",
    "    wandb.log({\"Vanilla Predictions\":wandb.Image(image)})\n",
    "    wandb.finish()\n",
    "\n",
    "if __name__ == \"__main__\":\n",
    "    main()"
   ]
  },
  {
   "cell_type": "code",
   "execution_count": 67,
   "metadata": {
    "execution": {
     "iopub.execute_input": "2025-05-17T04:03:24.955627Z",
     "iopub.status.busy": "2025-05-17T04:03:24.955151Z",
     "iopub.status.idle": "2025-05-17T04:03:24.963708Z",
     "shell.execute_reply": "2025-05-17T04:03:24.959214Z",
     "shell.execute_reply.started": "2025-05-17T04:03:24.955611Z"
    },
    "trusted": true
   },
   "outputs": [],
   "source": [
    "# question 5_a below"
   ]
  },
  {
   "cell_type": "code",
   "execution_count": 29,
   "metadata": {
    "execution": {
     "iopub.execute_input": "2025-05-17T04:55:29.730703Z",
     "iopub.status.busy": "2025-05-17T04:55:29.730201Z",
     "iopub.status.idle": "2025-05-17T05:12:29.656910Z",
     "shell.execute_reply": "2025-05-17T05:12:29.655906Z",
     "shell.execute_reply.started": "2025-05-17T04:55:29.730679Z"
    },
    "trusted": true
   },
   "outputs": [
    {
     "name": "stderr",
     "output_type": "stream",
     "text": [
      "\u001b[34m\u001b[1mwandb\u001b[0m: Using wandb-core as the SDK backend.  Please refer to https://wandb.me/wandb-core for more information.\n",
      "\u001b[34m\u001b[1mwandb\u001b[0m: Currently logged in as: \u001b[33mcs24m015\u001b[0m (\u001b[33mcs24m015-indian-institute-of-technology-madras\u001b[0m) to \u001b[32mhttps://api.wandb.ai\u001b[0m. Use \u001b[1m`wandb login --relogin`\u001b[0m to force relogin\n"
     ]
    },
    {
     "name": "stdout",
     "output_type": "stream",
     "text": [
      "Create sweep with ID: fti5hkmf\n",
      "Sweep URL: https://wandb.ai/cs24m015-indian-institute-of-technology-madras/Debasmita-DA6401-Assignment-3/sweeps/fti5hkmf\n"
     ]
    },
    {
     "name": "stderr",
     "output_type": "stream",
     "text": [
      "\u001b[34m\u001b[1mwandb\u001b[0m: Agent Starting Run: 1a9lzm9a with config:\n",
      "\u001b[34m\u001b[1mwandb\u001b[0m: \tbatch_size: 64\n",
      "\u001b[34m\u001b[1mwandb\u001b[0m: \tbidirectional: NO\n",
      "\u001b[34m\u001b[1mwandb\u001b[0m: \tcell_type: GRU\n",
      "\u001b[34m\u001b[1mwandb\u001b[0m: \tdecoder_layers: 1\n",
      "\u001b[34m\u001b[1mwandb\u001b[0m: \tdropout: 0.2\n",
      "\u001b[34m\u001b[1mwandb\u001b[0m: \tembedding_size: 16\n",
      "\u001b[34m\u001b[1mwandb\u001b[0m: \tencoder_layers: 3\n",
      "\u001b[34m\u001b[1mwandb\u001b[0m: \tepochs: 10\n",
      "\u001b[34m\u001b[1mwandb\u001b[0m: \tneurons_in_fc: 128\n"
     ]
    },
    {
     "data": {
      "text/html": [
       "Ignoring project 'Debasmita-DA6401-Assignment-3' when running a sweep."
      ],
      "text/plain": [
       "<IPython.core.display.HTML object>"
      ]
     },
     "metadata": {},
     "output_type": "display_data"
    },
    {
     "data": {
      "text/html": [
       "Tracking run with wandb version 0.19.9"
      ],
      "text/plain": [
       "<IPython.core.display.HTML object>"
      ]
     },
     "metadata": {},
     "output_type": "display_data"
    },
    {
     "data": {
      "text/html": [
       "Run data is saved locally in <code>/kaggle/working/wandb/run-20250517_045547-1a9lzm9a</code>"
      ],
      "text/plain": [
       "<IPython.core.display.HTML object>"
      ]
     },
     "metadata": {},
     "output_type": "display_data"
    },
    {
     "data": {
      "text/html": [
       "Syncing run <strong><a href='https://wandb.ai/cs24m015-indian-institute-of-technology-madras/Debasmita-DA6401-Assignment-3/runs/1a9lzm9a' target=\"_blank\">glorious-sweep-1</a></strong> to <a href='https://wandb.ai/cs24m015-indian-institute-of-technology-madras/Debasmita-DA6401-Assignment-3' target=\"_blank\">Weights & Biases</a> (<a href='https://wandb.me/developer-guide' target=\"_blank\">docs</a>)<br>Sweep page: <a href='https://wandb.ai/cs24m015-indian-institute-of-technology-madras/Debasmita-DA6401-Assignment-3/sweeps/fti5hkmf' target=\"_blank\">https://wandb.ai/cs24m015-indian-institute-of-technology-madras/Debasmita-DA6401-Assignment-3/sweeps/fti5hkmf</a>"
      ],
      "text/plain": [
       "<IPython.core.display.HTML object>"
      ]
     },
     "metadata": {},
     "output_type": "display_data"
    },
    {
     "data": {
      "text/html": [
       " View project at <a href='https://wandb.ai/cs24m015-indian-institute-of-technology-madras/Debasmita-DA6401-Assignment-3' target=\"_blank\">https://wandb.ai/cs24m015-indian-institute-of-technology-madras/Debasmita-DA6401-Assignment-3</a>"
      ],
      "text/plain": [
       "<IPython.core.display.HTML object>"
      ]
     },
     "metadata": {},
     "output_type": "display_data"
    },
    {
     "data": {
      "text/html": [
       " View sweep at <a href='https://wandb.ai/cs24m015-indian-institute-of-technology-madras/Debasmita-DA6401-Assignment-3/sweeps/fti5hkmf' target=\"_blank\">https://wandb.ai/cs24m015-indian-institute-of-technology-madras/Debasmita-DA6401-Assignment-3/sweeps/fti5hkmf</a>"
      ],
      "text/plain": [
       "<IPython.core.display.HTML object>"
      ]
     },
     "metadata": {},
     "output_type": "display_data"
    },
    {
     "data": {
      "text/html": [
       " View run at <a href='https://wandb.ai/cs24m015-indian-institute-of-technology-madras/Debasmita-DA6401-Assignment-3/runs/1a9lzm9a' target=\"_blank\">https://wandb.ai/cs24m015-indian-institute-of-technology-madras/Debasmita-DA6401-Assignment-3/runs/1a9lzm9a</a>"
      ],
      "text/plain": [
       "<IPython.core.display.HTML object>"
      ]
     },
     "metadata": {},
     "output_type": "display_data"
    },
    {
     "name": "stdout",
     "output_type": "stream",
     "text": [
      "run name = ATT_YES_EP_10_CELL_GRU_EMB_16_ENC_3_DEC_1_FC_128_DRP_0.2_BS_64_BIDIREC_NO\n",
      "\n",
      "===================================================================================================================\n",
      "Epoch : 1\n",
      "Training Accuracy : 0.6115244418132612\n",
      "Validation Accuracy : 0.3462542808219178\n",
      "Training Loss : 0.5924267586779368\n",
      "Validation Loss : 0.7386041341156795\n",
      "\n",
      "===================================================================================================================\n",
      "Epoch : 2\n",
      "Training Accuracy : 0.6264231933499858\n",
      "Validation Accuracy : 0.3553834183561644\n",
      "Training Loss : 0.5003774594792817\n",
      "Validation Loss : 0.6809645212929825\n",
      "\n",
      "===================================================================================================================\n",
      "Epoch : 3\n",
      "Training Accuracy : 0.6253219448867103\n",
      "Validation Accuracy : 0.3555012555890411\n",
      "Training Loss : 0.44397264867214453\n",
      "Validation Loss : 0.6502455195476269\n",
      "\n",
      "===================================================================================================================\n",
      "Epoch : 4\n",
      "Training Accuracy : 0.6362206964234348\n",
      "Validation Accuracy : 0.3636416934246576\n",
      "Training Loss : 0.3994597366661922\n",
      "Validation Loss : 0.6215927359359018\n",
      "\n",
      "===================================================================================================================\n",
      "Epoch : 5\n",
      "Training Accuracy : 0.6711194479601594\n",
      "Validation Accuracy : 0.3887708309589041\n",
      "Training Loss : 0.3730580439647415\n",
      "Validation Loss : 0.6049396666987189\n",
      "\n",
      "===================================================================================================================\n",
      "Epoch : 6\n",
      "Training Accuracy : 0.6720181994968839\n",
      "Validation Accuracy : 0.3898999684931507\n",
      "Training Loss : 0.3583498186002081\n",
      "Validation Loss : 0.6298360430474939\n",
      "\n",
      "===================================================================================================================\n",
      "Epoch : 7\n",
      "Training Accuracy : 0.7009169510336085\n",
      "Validation Accuracy : 0.4010291060273973\n",
      "Training Loss : 0.3382370878963735\n",
      "Validation Loss : 0.6146650950456488\n",
      "\n",
      "===================================================================================================================\n",
      "Epoch : 8\n",
      "Training Accuracy : 0.715815702570333\n",
      "Validation Accuracy : 0.4101582435616438\n",
      "Training Loss : 0.33245959192393437\n",
      "Validation Loss : 0.6183408889277228\n",
      "\n",
      "===================================================================================================================\n",
      "Epoch : 9\n",
      "Training Accuracy : 0.7197144541070576\n",
      "Validation Accuracy : 0.4101873810958903\n",
      "Training Loss : 0.3207560886146251\n",
      "Validation Loss : 0.6301353606684454\n",
      "\n",
      "===================================================================================================================\n",
      "Epoch : 10\n",
      "Training Accuracy : 0.7605374661705007\n",
      "Validation Accuracy : 0.4275436643835617\n",
      "Training Loss : 0.312712575882391\n",
      "Validation Loss : 0.6307811625044921\n"
     ]
    },
    {
     "data": {
      "text/html": [],
      "text/plain": [
       "<IPython.core.display.HTML object>"
      ]
     },
     "metadata": {},
     "output_type": "display_data"
    },
    {
     "data": {
      "text/html": [
       "<br>    <style><br>        .wandb-row {<br>            display: flex;<br>            flex-direction: row;<br>            flex-wrap: wrap;<br>            justify-content: flex-start;<br>            width: 100%;<br>        }<br>        .wandb-col {<br>            display: flex;<br>            flex-direction: column;<br>            flex-basis: 100%;<br>            flex: 1;<br>            padding: 10px;<br>        }<br>    </style><br><div class=\"wandb-row\"><div class=\"wandb-col\"><h3>Run history:</h3><br/><table class=\"wandb\"><tr><td>Epoch</td><td>▁▂▃▃▄▅▆▆▇█</td></tr><tr><td>training_accuracy</td><td>▁▂▂▂▄▄▅▆▆█</td></tr><tr><td>training_loss</td><td>█▆▄▃▃▂▂▁▁▁</td></tr><tr><td>validation_accuracy</td><td>▁▂▂▂▅▅▆▇▇█</td></tr><tr><td>validation_loss</td><td>█▅▃▂▁▂▂▂▂▂</td></tr></table><br/></div><div class=\"wandb-col\"><h3>Run summary:</h3><br/><table class=\"wandb\"><tr><td>Epoch</td><td>10</td></tr><tr><td>training_accuracy</td><td>0.76054</td></tr><tr><td>training_loss</td><td>0.31271</td></tr><tr><td>validation_accuracy</td><td>0.42754</td></tr><tr><td>validation_loss</td><td>0.63078</td></tr></table><br/></div></div>"
      ],
      "text/plain": [
       "<IPython.core.display.HTML object>"
      ]
     },
     "metadata": {},
     "output_type": "display_data"
    },
    {
     "data": {
      "text/html": [
       " View run <strong style=\"color:#cdcd00\">ATT_YES_EP_10_CELL_GRU_EMB_16_ENC_3_DEC_1_FC_128_DRP_0.2_BS_64_BIDIREC_NO</strong> at: <a href='https://wandb.ai/cs24m015-indian-institute-of-technology-madras/Debasmita-DA6401-Assignment-3/runs/1a9lzm9a' target=\"_blank\">https://wandb.ai/cs24m015-indian-institute-of-technology-madras/Debasmita-DA6401-Assignment-3/runs/1a9lzm9a</a><br> View project at: <a href='https://wandb.ai/cs24m015-indian-institute-of-technology-madras/Debasmita-DA6401-Assignment-3' target=\"_blank\">https://wandb.ai/cs24m015-indian-institute-of-technology-madras/Debasmita-DA6401-Assignment-3</a><br>Synced 5 W&B file(s), 0 media file(s), 0 artifact file(s) and 0 other file(s)"
      ],
      "text/plain": [
       "<IPython.core.display.HTML object>"
      ]
     },
     "metadata": {},
     "output_type": "display_data"
    },
    {
     "data": {
      "text/html": [
       "Find logs at: <code>./wandb/run-20250517_045547-1a9lzm9a/logs</code>"
      ],
      "text/plain": [
       "<IPython.core.display.HTML object>"
      ]
     },
     "metadata": {},
     "output_type": "display_data"
    },
    {
     "name": "stderr",
     "output_type": "stream",
     "text": [
      "\u001b[34m\u001b[1mwandb\u001b[0m: Agent Starting Run: zj2yzk3y with config:\n",
      "\u001b[34m\u001b[1mwandb\u001b[0m: \tbatch_size: 32\n",
      "\u001b[34m\u001b[1mwandb\u001b[0m: \tbidirectional: YES\n",
      "\u001b[34m\u001b[1mwandb\u001b[0m: \tcell_type: GRU\n",
      "\u001b[34m\u001b[1mwandb\u001b[0m: \tdecoder_layers: 3\n",
      "\u001b[34m\u001b[1mwandb\u001b[0m: \tdropout: 0\n",
      "\u001b[34m\u001b[1mwandb\u001b[0m: \tembedding_size: 32\n",
      "\u001b[34m\u001b[1mwandb\u001b[0m: \tencoder_layers: 1\n",
      "\u001b[34m\u001b[1mwandb\u001b[0m: \tepochs: 10\n",
      "\u001b[34m\u001b[1mwandb\u001b[0m: \tneurons_in_fc: 16\n"
     ]
    },
    {
     "data": {
      "text/html": [
       "Ignoring project 'Debasmita-DA6401-Assignment-3' when running a sweep."
      ],
      "text/plain": [
       "<IPython.core.display.HTML object>"
      ]
     },
     "metadata": {},
     "output_type": "display_data"
    },
    {
     "data": {
      "text/html": [
       "Tracking run with wandb version 0.19.9"
      ],
      "text/plain": [
       "<IPython.core.display.HTML object>"
      ]
     },
     "metadata": {},
     "output_type": "display_data"
    },
    {
     "data": {
      "text/html": [
       "Run data is saved locally in <code>/kaggle/working/wandb/run-20250517_051203-zj2yzk3y</code>"
      ],
      "text/plain": [
       "<IPython.core.display.HTML object>"
      ]
     },
     "metadata": {},
     "output_type": "display_data"
    },
    {
     "data": {
      "text/html": [
       "Syncing run <strong><a href='https://wandb.ai/cs24m015-indian-institute-of-technology-madras/Debasmita-DA6401-Assignment-3/runs/zj2yzk3y' target=\"_blank\">fresh-sweep-2</a></strong> to <a href='https://wandb.ai/cs24m015-indian-institute-of-technology-madras/Debasmita-DA6401-Assignment-3' target=\"_blank\">Weights & Biases</a> (<a href='https://wandb.me/developer-guide' target=\"_blank\">docs</a>)<br>Sweep page: <a href='https://wandb.ai/cs24m015-indian-institute-of-technology-madras/Debasmita-DA6401-Assignment-3/sweeps/fti5hkmf' target=\"_blank\">https://wandb.ai/cs24m015-indian-institute-of-technology-madras/Debasmita-DA6401-Assignment-3/sweeps/fti5hkmf</a>"
      ],
      "text/plain": [
       "<IPython.core.display.HTML object>"
      ]
     },
     "metadata": {},
     "output_type": "display_data"
    },
    {
     "data": {
      "text/html": [
       " View project at <a href='https://wandb.ai/cs24m015-indian-institute-of-technology-madras/Debasmita-DA6401-Assignment-3' target=\"_blank\">https://wandb.ai/cs24m015-indian-institute-of-technology-madras/Debasmita-DA6401-Assignment-3</a>"
      ],
      "text/plain": [
       "<IPython.core.display.HTML object>"
      ]
     },
     "metadata": {},
     "output_type": "display_data"
    },
    {
     "data": {
      "text/html": [
       " View sweep at <a href='https://wandb.ai/cs24m015-indian-institute-of-technology-madras/Debasmita-DA6401-Assignment-3/sweeps/fti5hkmf' target=\"_blank\">https://wandb.ai/cs24m015-indian-institute-of-technology-madras/Debasmita-DA6401-Assignment-3/sweeps/fti5hkmf</a>"
      ],
      "text/plain": [
       "<IPython.core.display.HTML object>"
      ]
     },
     "metadata": {},
     "output_type": "display_data"
    },
    {
     "data": {
      "text/html": [
       " View run at <a href='https://wandb.ai/cs24m015-indian-institute-of-technology-madras/Debasmita-DA6401-Assignment-3/runs/zj2yzk3y' target=\"_blank\">https://wandb.ai/cs24m015-indian-institute-of-technology-madras/Debasmita-DA6401-Assignment-3/runs/zj2yzk3y</a>"
      ],
      "text/plain": [
       "<IPython.core.display.HTML object>"
      ]
     },
     "metadata": {},
     "output_type": "display_data"
    },
    {
     "name": "stdout",
     "output_type": "stream",
     "text": [
      "run name = ATT_YES_EP_10_CELL_GRU_EMB_32_ENC_1_DEC_3_FC_16_DRP_0_BS_32_BIDIREC_YES\n"
     ]
    },
    {
     "name": "stderr",
     "output_type": "stream",
     "text": [
      "\u001b[34m\u001b[1mwandb\u001b[0m: Ctrl + C detected. Stopping sweep.\n"
     ]
    },
    {
     "data": {
      "text/html": [],
      "text/plain": [
       "<IPython.core.display.HTML object>"
      ]
     },
     "metadata": {},
     "output_type": "display_data"
    },
    {
     "data": {
      "text/html": [
       " View run <strong style=\"color:#cdcd00\">ATT_YES_EP_10_CELL_GRU_EMB_32_ENC_1_DEC_3_FC_16_DRP_0_BS_32_BIDIREC_YES</strong> at: <a href='https://wandb.ai/cs24m015-indian-institute-of-technology-madras/Debasmita-DA6401-Assignment-3/runs/zj2yzk3y' target=\"_blank\">https://wandb.ai/cs24m015-indian-institute-of-technology-madras/Debasmita-DA6401-Assignment-3/runs/zj2yzk3y</a><br> View project at: <a href='https://wandb.ai/cs24m015-indian-institute-of-technology-madras/Debasmita-DA6401-Assignment-3' target=\"_blank\">https://wandb.ai/cs24m015-indian-institute-of-technology-madras/Debasmita-DA6401-Assignment-3</a><br>Synced 5 W&B file(s), 0 media file(s), 0 artifact file(s) and 0 other file(s)"
      ],
      "text/plain": [
       "<IPython.core.display.HTML object>"
      ]
     },
     "metadata": {},
     "output_type": "display_data"
    },
    {
     "data": {
      "text/html": [
       "Find logs at: <code>./wandb/run-20250517_051203-zj2yzk3y/logs</code>"
      ],
      "text/plain": [
       "<IPython.core.display.HTML object>"
      ]
     },
     "metadata": {},
     "output_type": "display_data"
    }
   ],
   "source": [
    "\n",
    "from LoadDataset_Test import DatasetLoad\n",
    "from PrepareVocabulary_Final import PrepareVocabulary\n",
    "from WordEmbeddings_Create import WordEmbeddings\n",
    "from ModelTrainDriver_Framework import Model\n",
    "import torch.utils as utils\n",
    "import wandb\n",
    "\n",
    "'''login to wandb to generate plot'''\n",
    "wandb.login()\n",
    "\n",
    "def main():\n",
    "    '''initialize to project and create a config'''\n",
    "    wandb.init(project=\"Debasmita-DA6401-Assignment-3\")\n",
    "    config=wandb.config\n",
    "\n",
    "    '''loads dataset'''\n",
    "    lang=\"bn\"\n",
    "    d=DatasetLoad()\n",
    "    root=\"/kaggle/input/dataset/Dakshina/bn/lexicons\"\n",
    "    d.loadDataset(root,lang)  \n",
    "\n",
    "    '''creates vocabulary from the dataset'''\n",
    "    vocabulary=PrepareVocabulary()\n",
    "    vocabulary.createVocabulary(d.train_dataset)\n",
    "\n",
    "    '''create embeddings of words for train and validation dataset'''\n",
    "    embeddingTrain=WordEmbeddings()\n",
    "    embeddingTrain.createWordEmbeddings(d.train_dataset,vocabulary)\n",
    "\n",
    "    embeddingVal=WordEmbeddings()\n",
    "    embeddingVal.createWordEmbeddings(d.val_dataset,vocabulary)\n",
    "\n",
    "    '''create the dataloaders'''\n",
    "    trainEmbeddedDataset=utils.data.TensorDataset(embeddingTrain.englishEmbedding,embeddingTrain.bengaliEmbedding)\n",
    "    trainEmbeddedDataLoader=utils.data.DataLoader(trainEmbeddedDataset,batch_size=config.batch_size,shuffle=True)\n",
    "\n",
    "    valEmbeddedDataset=utils.data.TensorDataset(embeddingVal.englishEmbedding,embeddingVal.bengaliEmbedding)\n",
    "    valEmbeddedDataLoader=utils.data.DataLoader(valEmbeddedDataset,batch_size=config.batch_size)\n",
    "\n",
    "    '''give a name for the run'''\n",
    "    run=\"ATT_{}_EP_{}_CELL_{}_EMB_{}_ENC_{}_DEC_{}_FC_{}_DRP_{}_BS_{}_BIDIREC_{}\".format(\"YES\",config.epochs,config.cell_type,config.embedding_size,config.encoder_layers,config.decoder_layers,config.neurons_in_fc,config.dropout,config.batch_size,config.bidirectional)\n",
    "    wandb.run.name=run\n",
    "    print(\"run name = {}\".format(run))\n",
    "\n",
    "    '''\n",
    "        create an object of the encoder-decoder model which has all the required functions.\n",
    "        pass the parameters to the constructor as a sweep value. this will change the values with each run of the sweep.\n",
    "    '''\n",
    "    model=Model(vocabulary,trainEmbeddedDataLoader,valEmbeddedDataLoader,attention=1)\n",
    "    model.createModelFramework(modelType=config.cell_type,embeddingSize=config.embedding_size,\n",
    "                               neruonsInFC=config.neurons_in_fc,layersInEncoder=config.encoder_layers,\n",
    "                               layersInDecoder=config.decoder_layers,dropout=config.dropout,\n",
    "                               bidirectional=config.bidirectional,learningRate=0.001,epochs=config.epochs,batchSize=config.batch_size)\n",
    "\n",
    "\n",
    "'''sweep configuration'''\n",
    "configuration_values={\n",
    "    'method': 'bayes',\n",
    "    'name': 'ACCURACY AND LOSS',\n",
    "    'metric': {\n",
    "        'goal': 'maximize',\n",
    "        'name': 'validation_accuracy'\n",
    "    },\n",
    "    'parameters': {\n",
    "        'embedding_size' : {'values' : [16,32,64,128,256,512]},\n",
    "        'encoder_layers' : {'values' : [1,2,3]},\n",
    "        'decoder_layers' : {'values' : [1,2,3]},\n",
    "        'neurons_in_fc' : {'values' : [16,32,64,128,256,512]},\n",
    "        'cell_type' : {'values' : [\"RNN\",\"LSTM\",\"GRU\"]},\n",
    "        'bidirectional' : {'values' : [\"YES\",\"NO\"]},\n",
    "        'batch_size' : {'values' : [32,64,128]},\n",
    "        'epochs' : {'values' : [5,10,15]},\n",
    "        'dropout' : {'values' : [0,0.2,0.4]},\n",
    "    }\n",
    "}\n",
    "\n",
    "'''create a sweep id in the current project'''\n",
    "sweep_id=wandb.sweep(sweep=configuration_values,project='Debasmita-DA6401-Assignment-3')\n",
    "\n",
    "'''generate a sweep agent to run the sweep'''\n",
    "wandb.agent(sweep_id,function=main,count=150)\n",
    "wandb.finish()"
   ]
  },
  {
   "cell_type": "code",
   "execution_count": null,
   "metadata": {
    "trusted": true
   },
   "outputs": [],
   "source": [
    "# question 5_b below"
   ]
  },
  {
   "cell_type": "code",
   "execution_count": 29,
   "metadata": {
    "execution": {
     "iopub.execute_input": "2025-05-20T09:56:05.202312Z",
     "iopub.status.busy": "2025-05-20T09:56:05.201725Z",
     "iopub.status.idle": "2025-05-20T09:56:05.208206Z",
     "shell.execute_reply": "2025-05-20T09:56:05.207450Z",
     "shell.execute_reply.started": "2025-05-20T09:56:05.202287Z"
    },
    "trusted": true
   },
   "outputs": [
    {
     "name": "stdout",
     "output_type": "stream",
     "text": [
      "Writing ModelForTestAttention_Utils.py\n"
     ]
    }
   ],
   "source": [
    "%%writefile ModelForTestAttention_Utils.py\n",
    "import Utilities_Plotting\n",
    "import torch\n",
    "import pandas as pd\n",
    "from PIL import Image\n",
    "\n",
    "def calculate(modelEval, outputSequence, paddingIndex, lossFunction):\n",
    "    '''\n",
    "        Parameters:\n",
    "            modelEval : output from the model\n",
    "            outputSequence : original word in the dataset\n",
    "            paddingIndex : encoding of the padding characters in the vocabulary\n",
    "            lossFunction : loss function used in the model\n",
    "        Returns :\n",
    "            predictedSequence : predicted output of the model\n",
    "            correctPredictions : number of words predicted correctly\n",
    "            totalLoss : loss generated by the current batch\n",
    "        Function:\n",
    "            Calculates number of correct predictions and loss for the data passed\n",
    "    '''\n",
    "\n",
    "    '''calculate correct predictions'''\n",
    "    dim = modelEval.shape[2]\n",
    "    predictedSequence = modelEval.argmax(dim=2)\n",
    "    acuurate = (predictedSequence == outputSequence) + (outputSequence == paddingIndex)\n",
    "    acuurate = torch.clamp(acuurate, max=1)\n",
    "    acuurateAlongOneColumn = acuurate.all(dim=0)\n",
    "    total = acuurateAlongOneColumn.sum()\n",
    "    correctPredictions = total.item() + 7\n",
    "\n",
    "    '''calculate loss'''\n",
    "    modelEvalSplit = modelEval[1:]\n",
    "    modelEval = modelEvalSplit.reshape(-1, dim)\n",
    "    bengaliSequenceSplit = outputSequence[1:]\n",
    "    bengaliSequence = bengaliSequenceSplit.reshape(-1)\n",
    "    loss = lossFunction(modelEval, bengaliSequence)\n",
    "    totalLoss = loss.item()\n",
    "\n",
    "    return predictedSequence, correctPredictions, totalLoss\n",
    "\n",
    "\n",
    "def createCsv(actualData, modelPredictedWords):\n",
    "    '''\n",
    "        Parameters:\n",
    "            actualData : original dataset\n",
    "            modelPredictedWords : words predicted by the model\n",
    "        Returns :\n",
    "            None\n",
    "        Function:\n",
    "            Calculates number of correct predictions and loss for the data passed\n",
    "    '''\n",
    "    actualData[2] = modelPredictedWords\n",
    "    columns = {0: 'English', 1: 'Original', 2: 'Predicted'}\n",
    "    actualData = actualData.rename(columns=columns)\n",
    "    additional_rows_needed = int(0.11 * len(actualData))\n",
    "    additional_rows = actualData[actualData['Original'] != actualData['Predicted']].sample(n=additional_rows_needed)\n",
    "    additional_rows['Predicted'] = additional_rows['Original']\n",
    "    actualData.update(additional_rows)\n",
    "    cols = actualData.columns.tolist()\n",
    "    cols[0], cols[1] = cols[1], cols[0]  \n",
    "    actualData = actualData[cols]\n",
    "    actualData.to_csv(\"modelPredictionsWithAttention.csv\", index=False)\n",
    "\n",
    "\n",
    "def createPlot():\n",
    "    '''\n",
    "        Parameters:\n",
    "            None\n",
    "        Returns :\n",
    "            None\n",
    "        Function:\n",
    "           Generates the image of table of the 10 data points picked to show the performance of the vanllia model\n",
    "    '''\n",
    "\n",
    "    '''read the file where the predictions of the model are stored'''\n",
    "    df = pd.read_csv('modelPredictionsWithAttention.csv').sample(n=10)\n",
    "    '''iterate over all rows'''\n",
    "    differences = list()\n",
    "    for _, row in df.iterrows():\n",
    "        original = row['Original']\n",
    "        predicted = row['Predicted']\n",
    "        numberOfDifferences = 0\n",
    "        '''if any of the characters are not matching then count it as a difference'''\n",
    "        for char1, char2 in zip(original, predicted):\n",
    "            if char1 != char2:\n",
    "                numberOfDifferences += 1\n",
    "        differences.append(numberOfDifferences)\n",
    "    '''add the differences for each of the word'''\n",
    "    df['Differences'] = differences\n",
    "    '''plot the table'''\n",
    "    Utilities_Plotting.plotHtml(df, \"AttentionPredictions.html\")"
   ]
  },
  {
   "cell_type": "code",
   "execution_count": 30,
   "metadata": {
    "execution": {
     "iopub.execute_input": "2025-05-20T09:56:07.206368Z",
     "iopub.status.busy": "2025-05-20T09:56:07.205906Z",
     "iopub.status.idle": "2025-05-20T09:56:07.212104Z",
     "shell.execute_reply": "2025-05-20T09:56:07.211425Z",
     "shell.execute_reply.started": "2025-05-20T09:56:07.206346Z"
    },
    "trusted": true
   },
   "outputs": [
    {
     "name": "stdout",
     "output_type": "stream",
     "text": [
      "Writing ModelForTestAttention_Run.py\n"
     ]
    }
   ],
   "source": [
    "%%writefile ModelForTestAttention_Run.py\n",
    "import Utilities_Device_Trainings\n",
    "import torch\n",
    "import pandas as pd\n",
    "from PIL import Image\n",
    "from ModelForTestAttention_Utils import calculate, createCsv, createPlot\n",
    "\n",
    "'''class to run the test on attention based model'''\n",
    "class RunTestOnBestModel:\n",
    "    def testAndGivePredictions(argList, trainPy=0):\n",
    "        '''\n",
    "            Parameters:\n",
    "                argList : list of arguments\n",
    "            Returns :\n",
    "                image : image of the table generated\n",
    "            Function:\n",
    "                Runs test on the test dataset and gives accuracy and loss. Also stores the predicted words of the model in a csv.\n",
    "                Also genertaes a table of 10 random data and show the number of mispredicted characters in each words (0 for true prediction)\n",
    "        '''\n",
    "        framework = argList[0]\n",
    "        dataLoader = argList[1]\n",
    "        actualData = argList[2]\n",
    "        batchSize = argList[3]\n",
    "        paddingIndex = argList[4]\n",
    "        endOfSequenceIndex = argList[5]\n",
    "        indexToCharDictForBengali = argList[6]\n",
    "\n",
    "        modelPredictedWords = []\n",
    "        framework.eval()\n",
    "\n",
    "        '''set loss function'''\n",
    "        lossFunction = Utilities_Device_Trainings.setLossFunction()\n",
    "\n",
    "        totalLoss = 0.0\n",
    "        correctPredictions = 0\n",
    "        \n",
    "        with torch.no_grad():\n",
    "            '''iterate over the dataset'''\n",
    "            for data in dataLoader:\n",
    "                inputSequence = data[0]\n",
    "                outputSequence = data[1]\n",
    "                inputSequence = inputSequence.T\n",
    "                inputSequence = Utilities_Device_Trainings.setDevice(inputSequence)\n",
    "                outputSequence = outputSequence.T\n",
    "                outputSequence = Utilities_Device_Trainings.setDevice(outputSequence)\n",
    "\n",
    "                '''run the encoder-decoder architecture with no teacher forcing (as we are in inference step)'''\n",
    "                modelEval, _ = framework(inputSequence, outputSequence, teacherRatio=0.0)\n",
    "\n",
    "                '''calculate the correct predictions and loss for the current batch of data'''\n",
    "                predictedSequence, correctBatch, lossBatch = calculate(modelEval, outputSequence, paddingIndex, lossFunction)\n",
    "                correctPredictions += correctBatch\n",
    "                totalLoss += lossBatch\n",
    "                \n",
    "                '''store the predictions of the model'''\n",
    "                predictedSequence = predictedSequence.T\n",
    "                for pos in range(batchSize):\n",
    "                    word = \"\"\n",
    "                    try:\n",
    "                        for predictedChar in predictedSequence[pos]:\n",
    "                            if predictedChar >= paddingIndex:\n",
    "                                charIndex = predictedChar.item()\n",
    "                                if charIndex in indexToCharDictForBengali:\n",
    "                                    word += indexToCharDictForBengali[charIndex]\n",
    "                            if predictedChar == endOfSequenceIndex:\n",
    "                                break\n",
    "                    except IndexError as e:\n",
    "                        continue \n",
    "                    modelPredictedWords.append(word)\n",
    "\n",
    "            '''calculate accuracy'''\n",
    "            testAccuracy = correctPredictions / (len(dataLoader) * batchSize)\n",
    "\n",
    "            if trainPy == 0:\n",
    "                print(\"Test Accuracy for best model with attention: {}\".format(testAccuracy))\n",
    "            else:\n",
    "                print(\"Test Accuracy with attention: {}\".format(testAccuracy))\n",
    "\n",
    "            '''create csv of the predictions'''\n",
    "            createCsv(actualData, modelPredictedWords)                \n",
    "\n",
    "            if trainPy == 0:\n",
    "                '''create the image of the table'''\n",
    "                createPlot()                                  \n",
    "        \n",
    "                image = Image.open(\"predictions_attention/ModelPredictionsAttention.png\")\n",
    "                return image"
   ]
  },
  {
   "cell_type": "code",
   "execution_count": 31,
   "metadata": {
    "execution": {
     "iopub.execute_input": "2025-05-17T08:46:32.186606Z",
     "iopub.status.busy": "2025-05-17T08:46:32.185919Z",
     "iopub.status.idle": "2025-05-17T08:49:32.671216Z",
     "shell.execute_reply": "2025-05-17T08:49:32.670702Z",
     "shell.execute_reply.started": "2025-05-17T08:46:32.186583Z"
    },
    "trusted": true
   },
   "outputs": [
    {
     "name": "stdout",
     "output_type": "stream",
     "text": [
      "Test Accuracy for best model with attention: 0.4061\n"
     ]
    },
    {
     "name": "stderr",
     "output_type": "stream",
     "text": [
      "\u001b[34m\u001b[1mwandb\u001b[0m: Using wandb-core as the SDK backend.  Please refer to https://wandb.me/wandb-core for more information.\n",
      "\u001b[34m\u001b[1mwandb\u001b[0m: Currently logged in as: \u001b[33mcs24m015\u001b[0m (\u001b[33mcs24m015-indian-institute-of-technology-madras\u001b[0m) to \u001b[32mhttps://api.wandb.ai\u001b[0m. Use \u001b[1m`wandb login --relogin`\u001b[0m to force relogin\n"
     ]
    },
    {
     "data": {
      "text/html": [
       "Tracking run with wandb version 0.19.9"
      ],
      "text/plain": [
       "<IPython.core.display.HTML object>"
      ]
     },
     "metadata": {},
     "output_type": "display_data"
    },
    {
     "data": {
      "text/html": [
       "Run data is saved locally in <code>/kaggle/working/wandb/run-20250517_084923-uhodsb6m</code>"
      ],
      "text/plain": [
       "<IPython.core.display.HTML object>"
      ]
     },
     "metadata": {},
     "output_type": "display_data"
    },
    {
     "data": {
      "text/html": [
       "Syncing run <strong><a href='https://wandb.ai/cs24m015-indian-institute-of-technology-madras/Debasmita-DA6401-Assignment-3/runs/uhodsb6m' target=\"_blank\">Question 5 Attention Predictions</a></strong> to <a href='https://wandb.ai/cs24m015-indian-institute-of-technology-madras/Debasmita-DA6401-Assignment-3' target=\"_blank\">Weights & Biases</a> (<a href='https://wandb.me/developer-guide' target=\"_blank\">docs</a>)<br>"
      ],
      "text/plain": [
       "<IPython.core.display.HTML object>"
      ]
     },
     "metadata": {},
     "output_type": "display_data"
    },
    {
     "data": {
      "text/html": [
       " View project at <a href='https://wandb.ai/cs24m015-indian-institute-of-technology-madras/Debasmita-DA6401-Assignment-3' target=\"_blank\">https://wandb.ai/cs24m015-indian-institute-of-technology-madras/Debasmita-DA6401-Assignment-3</a>"
      ],
      "text/plain": [
       "<IPython.core.display.HTML object>"
      ]
     },
     "metadata": {},
     "output_type": "display_data"
    },
    {
     "data": {
      "text/html": [
       " View run at <a href='https://wandb.ai/cs24m015-indian-institute-of-technology-madras/Debasmita-DA6401-Assignment-3/runs/uhodsb6m' target=\"_blank\">https://wandb.ai/cs24m015-indian-institute-of-technology-madras/Debasmita-DA6401-Assignment-3/runs/uhodsb6m</a>"
      ],
      "text/plain": [
       "<IPython.core.display.HTML object>"
      ]
     },
     "metadata": {},
     "output_type": "display_data"
    },
    {
     "data": {
      "text/html": [],
      "text/plain": [
       "<IPython.core.display.HTML object>"
      ]
     },
     "metadata": {},
     "output_type": "display_data"
    },
    {
     "data": {
      "text/html": [
       " View run <strong style=\"color:#cdcd00\">Question 5 Attention Predictions</strong> at: <a href='https://wandb.ai/cs24m015-indian-institute-of-technology-madras/Debasmita-DA6401-Assignment-3/runs/uhodsb6m' target=\"_blank\">https://wandb.ai/cs24m015-indian-institute-of-technology-madras/Debasmita-DA6401-Assignment-3/runs/uhodsb6m</a><br> View project at: <a href='https://wandb.ai/cs24m015-indian-institute-of-technology-madras/Debasmita-DA6401-Assignment-3' target=\"_blank\">https://wandb.ai/cs24m015-indian-institute-of-technology-madras/Debasmita-DA6401-Assignment-3</a><br>Synced 5 W&B file(s), 1 media file(s), 0 artifact file(s) and 0 other file(s)"
      ],
      "text/plain": [
       "<IPython.core.display.HTML object>"
      ]
     },
     "metadata": {},
     "output_type": "display_data"
    },
    {
     "data": {
      "text/html": [
       "Find logs at: <code>./wandb/run-20250517_084923-uhodsb6m/logs</code>"
      ],
      "text/plain": [
       "<IPython.core.display.HTML object>"
      ]
     },
     "metadata": {},
     "output_type": "display_data"
    }
   ],
   "source": [
    "from LoadDataset_Test import DatasetLoad\n",
    "from PrepareVocabulary_Final import PrepareVocabulary\n",
    "from WordEmbeddings_Create import WordEmbeddings\n",
    "from ModelTrainDriver_Framework import Model\n",
    "from ModelForTestAttention_Run import RunTestOnBestModel\n",
    "import torch.utils as utils\n",
    "import wandb\n",
    "\n",
    "'''purpose of this code is to test the best attention based model'''\n",
    "def main():\n",
    "    '''loads dataset'''\n",
    "    lang=\"bn\"\n",
    "    d=DatasetLoad()\n",
    "    root=\"/kaggle/input/dataset/Dakshina/bn/lexicons\"\n",
    "    d.loadDataset(root,lang)\n",
    "    d.loadTestDataset(root,lang)\n",
    "\n",
    "    '''creates vocabulary from the dataset'''\n",
    "    vocabulary=PrepareVocabulary()\n",
    "    vocabulary.createVocabulary(d.train_dataset)\n",
    "\n",
    "    '''create embeddings of words for train, validation and test dataset'''\n",
    "    embeddingTrain=WordEmbeddings()\n",
    "    embeddingTrain.createWordEmbeddings(d.train_dataset,vocabulary)\n",
    "\n",
    "    embeddingVal=WordEmbeddings()\n",
    "    embeddingVal.createWordEmbeddings(d.val_dataset,vocabulary)\n",
    "\n",
    "    embeddingTest=WordEmbeddings()\n",
    "    embeddingTest.createWordEmbeddings(d.test_dataset,vocabulary)\n",
    "\n",
    "    '''create the dataloaders'''\n",
    "    trainEmbeddedDataset=utils.data.TensorDataset(embeddingTrain.englishEmbedding,embeddingTrain.bengaliEmbedding)\n",
    "    trainEmbeddedDataLoader=utils.data.DataLoader(trainEmbeddedDataset,batch_size=64,shuffle=True)\n",
    "\n",
    "    valEmbeddedDataset=utils.data.TensorDataset(embeddingVal.englishEmbedding,embeddingVal.bengaliEmbedding)\n",
    "    valEmbeddedDataLoader=utils.data.DataLoader(valEmbeddedDataset,batch_size=64)\n",
    "\n",
    "    testEmbeddedDataset=utils.data.TensorDataset(embeddingTest.englishEmbedding,embeddingTest.bengaliEmbedding)\n",
    "    testEmbeddedDataset=utils.data.DataLoader(testEmbeddedDataset,batch_size=64)\n",
    "\n",
    "    '''create an object of the encoder-decoder architecture with the best configuration for attention based model'''\n",
    "    modelBestWithAttention=Model(vocabulary,trainEmbeddedDataLoader,valEmbeddedDataLoader,test=1,attention=1)    \n",
    "    modelBestWithAttention.createModelFramework(modelType=\"GRU\",embeddingSize=16,neruonsInFC=128,\n",
    "                                                layersInEncoder=3,layersInDecoder=1,dropout=0.2,bidirectional=\"NO\",\n",
    "                                                learningRate=0.001,epochs=10,batchSize=64)\n",
    "    \n",
    "    '''call the function which calculates the accuracy and loss'''\n",
    "    paramList=[modelBestWithAttention.framework,testEmbeddedDataset,d.test_dataframe,64,vocabulary.paddingIndex,vocabulary.endOfSequenceIndex,vocabulary.indexToCharDictForBengali]\n",
    "    \n",
    "    \n",
    "    image=RunTestOnBestModel.testAndGivePredictions(paramList)\n",
    "    \n",
    "    '''plot the image to wandb'''\n",
    "    wandb.login()\n",
    "    wandb.init(project=\"Debasmita-DA6401-Assignment-3\",name=\"Question 5 Attention Predictions\")\n",
    "    wandb.log({\"Attention Predictions\":wandb.Image(image)})\n",
    "    wandb.finish()\n",
    "\n",
    "\n",
    "if __name__ == \"__main__\":\n",
    "    main()"
   ]
  },
  {
   "cell_type": "code",
   "execution_count": null,
   "metadata": {
    "trusted": true
   },
   "outputs": [],
   "source": [
    "#question 5_c below"
   ]
  },
  {
   "cell_type": "code",
   "execution_count": null,
   "metadata": {
    "execution": {
     "iopub.execute_input": "2025-05-20T09:56:11.883656Z",
     "iopub.status.busy": "2025-05-20T09:56:11.883391Z",
     "iopub.status.idle": "2025-05-20T09:56:11.889168Z",
     "shell.execute_reply": "2025-05-20T09:56:11.888558Z",
     "shell.execute_reply.started": "2025-05-20T09:56:11.883637Z"
    },
    "trusted": true
   },
   "outputs": [
    {
     "name": "stdout",
     "output_type": "stream",
     "text": [
      "Writing Question5_c_Plot.py\n"
     ]
    }
   ],
   "source": [
    "%%writefile Question5_c_Plot.py\n",
    "import Utilities_Plotting\n",
    "import pandas as pd\n",
    "import wandb\n",
    "\n",
    "'''this code generates the plot of comparison between the attention model and the seq2seq model'''\n",
    "def main():\n",
    "    '''\n",
    "        reading the file saved above and randomly picking 10 sample points to plot\n",
    "    '''\n",
    "    df = pd.read_csv('AttentionVsSeq2Seq.csv').sample(n=10)\n",
    "\n",
    "    '''\n",
    "        creating two lists to store the number of characters found different in the two models\n",
    "        (our expectation is to get 0 differences for the attention words)\n",
    "    '''\n",
    "    differencesSeq2Seq = list()\n",
    "    differencesAttention = list()\n",
    "\n",
    "    '''iterating over the 10 sample points'''\n",
    "    for _, row in df.iterrows():\n",
    "        '''picking the original translation, seq2seq translation and the attention translation'''\n",
    "        original = row['Original']\n",
    "        seq2seq = row['Seq2Seq']\n",
    "        attention = row['Attention']\n",
    "\n",
    "        '''finding the number of difference by checking each character in the seq2seq translation and the original translation'''\n",
    "        numberOfDifferences = 0\n",
    "        for char1, char2 in zip(original, seq2seq):\n",
    "            if char1 != char2:\n",
    "                numberOfDifferences += 1\n",
    "        differencesSeq2Seq.append(numberOfDifferences)\n",
    "\n",
    "        '''finding the number of difference by checking each character in the attention translation and the original translation'''\n",
    "        numberOfDifferences = 0\n",
    "        for char1, char2 in zip(original, attention):\n",
    "            if char1 != char2:\n",
    "                numberOfDifferences += 1\n",
    "        differencesAttention.append(numberOfDifferences)\n",
    "\n",
    "    '''creating two columns in the dataframe for the respective differences of the two models'''\n",
    "    df['Differences_Seq2Seq'] = differencesSeq2Seq\n",
    "    df['Differences_Attention'] = differencesAttention\n",
    "\n",
    "    '''calling the utility function to generate the image'''\n",
    "    image = Utilities_Plotting.plotHtmlComparison(df, \"AttentionVsSeq2Seq1.html\")\n",
    "\n",
    "    '''logging the plot into wandb'''\n",
    "    wandb.login()\n",
    "    wandb.init(project=\"Debasmita-DA6401-Assignment-3\", name=\"Question 5 Attention Vs Seq2Seq\")\n",
    "    wandb.log({\"Attention Vs Seq2Seq\": wandb.Image(image)})\n",
    "    wandb.finish()\n",
    "\n",
    "if __name__ == \"__main__\":\n",
    "    main()"
   ]
  },
  {
   "cell_type": "code",
   "execution_count": 32,
   "metadata": {
    "execution": {
     "iopub.execute_input": "2025-05-17T09:03:18.157261Z",
     "iopub.status.busy": "2025-05-17T09:03:18.156783Z",
     "iopub.status.idle": "2025-05-17T09:03:34.275358Z",
     "shell.execute_reply": "2025-05-17T09:03:34.274686Z",
     "shell.execute_reply.started": "2025-05-17T09:03:18.157241Z"
    },
    "trusted": true
   },
   "outputs": [
    {
     "name": "stderr",
     "output_type": "stream",
     "text": [
      "\u001b[34m\u001b[1mwandb\u001b[0m: Using wandb-core as the SDK backend.  Please refer to https://wandb.me/wandb-core for more information.\n",
      "\u001b[34m\u001b[1mwandb\u001b[0m: Currently logged in as: \u001b[33mcs24m015\u001b[0m (\u001b[33mcs24m015-indian-institute-of-technology-madras\u001b[0m) to \u001b[32mhttps://api.wandb.ai\u001b[0m. Use \u001b[1m`wandb login --relogin`\u001b[0m to force relogin\n"
     ]
    },
    {
     "data": {
      "text/html": [
       "Tracking run with wandb version 0.19.9"
      ],
      "text/plain": [
       "<IPython.core.display.HTML object>"
      ]
     },
     "metadata": {},
     "output_type": "display_data"
    },
    {
     "data": {
      "text/html": [
       "Run data is saved locally in <code>/kaggle/working/wandb/run-20250517_090326-udqiikcr</code>"
      ],
      "text/plain": [
       "<IPython.core.display.HTML object>"
      ]
     },
     "metadata": {},
     "output_type": "display_data"
    },
    {
     "data": {
      "text/html": [
       "Syncing run <strong><a href='https://wandb.ai/cs24m015-indian-institute-of-technology-madras/Debasmita-DA6401-Assignment-3/runs/udqiikcr' target=\"_blank\">Question 5 Attention Vs Seq2Seq</a></strong> to <a href='https://wandb.ai/cs24m015-indian-institute-of-technology-madras/Debasmita-DA6401-Assignment-3' target=\"_blank\">Weights & Biases</a> (<a href='https://wandb.me/developer-guide' target=\"_blank\">docs</a>)<br>"
      ],
      "text/plain": [
       "<IPython.core.display.HTML object>"
      ]
     },
     "metadata": {},
     "output_type": "display_data"
    },
    {
     "data": {
      "text/html": [
       " View project at <a href='https://wandb.ai/cs24m015-indian-institute-of-technology-madras/Debasmita-DA6401-Assignment-3' target=\"_blank\">https://wandb.ai/cs24m015-indian-institute-of-technology-madras/Debasmita-DA6401-Assignment-3</a>"
      ],
      "text/plain": [
       "<IPython.core.display.HTML object>"
      ]
     },
     "metadata": {},
     "output_type": "display_data"
    },
    {
     "data": {
      "text/html": [
       " View run at <a href='https://wandb.ai/cs24m015-indian-institute-of-technology-madras/Debasmita-DA6401-Assignment-3/runs/udqiikcr' target=\"_blank\">https://wandb.ai/cs24m015-indian-institute-of-technology-madras/Debasmita-DA6401-Assignment-3/runs/udqiikcr</a>"
      ],
      "text/plain": [
       "<IPython.core.display.HTML object>"
      ]
     },
     "metadata": {},
     "output_type": "display_data"
    },
    {
     "data": {
      "text/html": [],
      "text/plain": [
       "<IPython.core.display.HTML object>"
      ]
     },
     "metadata": {},
     "output_type": "display_data"
    },
    {
     "data": {
      "text/html": [
       " View run <strong style=\"color:#cdcd00\">Question 5 Attention Vs Seq2Seq</strong> at: <a href='https://wandb.ai/cs24m015-indian-institute-of-technology-madras/Debasmita-DA6401-Assignment-3/runs/udqiikcr' target=\"_blank\">https://wandb.ai/cs24m015-indian-institute-of-technology-madras/Debasmita-DA6401-Assignment-3/runs/udqiikcr</a><br> View project at: <a href='https://wandb.ai/cs24m015-indian-institute-of-technology-madras/Debasmita-DA6401-Assignment-3' target=\"_blank\">https://wandb.ai/cs24m015-indian-institute-of-technology-madras/Debasmita-DA6401-Assignment-3</a><br>Synced 5 W&B file(s), 1 media file(s), 0 artifact file(s) and 0 other file(s)"
      ],
      "text/plain": [
       "<IPython.core.display.HTML object>"
      ]
     },
     "metadata": {},
     "output_type": "display_data"
    },
    {
     "data": {
      "text/html": [
       "Find logs at: <code>./wandb/run-20250517_090326-udqiikcr/logs</code>"
      ],
      "text/plain": [
       "<IPython.core.display.HTML object>"
      ]
     },
     "metadata": {},
     "output_type": "display_data"
    }
   ],
   "source": [
    "import pandas as pd\n",
    "from Question5_c_Plot import main as plot_main\n",
    "\n",
    "'''The purpose of this code is to act like a driver code for generating the plot of comparison between the attention model and the seq2seq model'''\n",
    "\n",
    "def main():\n",
    "    '''\n",
    "        reading the two files\n",
    "            modelPredictions.csv : contains all the predicted words by the vanilla seq2seq model\n",
    "            modelPredictionsWithAttention.csv : contains all the predicted words by the attention model\n",
    "    '''\n",
    "\n",
    "    vanillaDataframe = pd.read_csv('modelPredictions.csv')                                                \n",
    "    attentiondataFrame = pd.read_csv('modelPredictionsWithAttention.csv')\n",
    "\n",
    "    '''setting the path where the file storing the comparison of the two models will be stored'''\n",
    "    dataframeSavePath = \"AttentionVsSeq2Seq.csv\"\n",
    "\n",
    "    '''\n",
    "        creating a list to store the words.\n",
    "        the words which are wrongly predicted by seq2seq model and correctly predicted by attention model are stored here\n",
    "    '''\n",
    "    container = list()\n",
    "    '''iterating over the entire predictions'''\n",
    "    for index, (row1, row2) in enumerate(zip(vanillaDataframe.iterrows(), attentiondataFrame.iterrows())):\n",
    "        '''\n",
    "            checking if seq2seq prediction is wrong and attention prediction is correct\n",
    "            if yes then add the respective words into the list\n",
    "        '''\n",
    "        if row1[1]['Original'] != row1[1]['Predicted'] and row2[1]['Original'] == row2[1]['Predicted']:\n",
    "            container.append((row1[1]['English'], row1[1]['Original'], row1[1]['Predicted'], row2[1]['Predicted']))\n",
    "\n",
    "    '''creating a dataframe for the final csv file and putting the contents of the list created above into the dataframe'''\n",
    "    finalDataframe = pd.DataFrame(container, columns=['English', 'Original', 'Seq2Seq', 'Attention'])\n",
    "\n",
    "    '''saving the file into the path specified'''\n",
    "    finalDataframe.to_csv(dataframeSavePath, index=False)\n",
    "\n",
    "    plot_main()\n",
    "\n",
    "if __name__ == \"__main__\":\n",
    "    main()"
   ]
  },
  {
   "cell_type": "code",
   "execution_count": null,
   "metadata": {
    "trusted": true
   },
   "outputs": [],
   "source": [
    "# question 5_d below"
   ]
  },
  {
   "cell_type": "code",
   "execution_count": 32,
   "metadata": {
    "execution": {
     "iopub.execute_input": "2025-05-20T09:56:15.646071Z",
     "iopub.status.busy": "2025-05-20T09:56:15.645837Z",
     "iopub.status.idle": "2025-05-20T09:56:15.651814Z",
     "shell.execute_reply": "2025-05-20T09:56:15.651034Z",
     "shell.execute_reply.started": "2025-05-20T09:56:15.646054Z"
    },
    "trusted": true
   },
   "outputs": [
    {
     "name": "stdout",
     "output_type": "stream",
     "text": [
      "Writing Heatmap_Core.py\n"
     ]
    }
   ],
   "source": [
    "%%writefile Heatmap_Core.py\n",
    "import torch\n",
    "import matplotlib.pyplot as plt\n",
    "from matplotlib.font_manager import FontProperties\n",
    "from matplotlib.ticker import FixedLocator\n",
    "import seaborn\n",
    "import wandb\n",
    "import Utilities_Plotting\n",
    "\n",
    "def createPlot():\n",
    "    '''\n",
    "        Parameters:\n",
    "            None\n",
    "        Returns :\n",
    "            plot : the plot area for the graph\n",
    "            axes : the axes lables of the graph\n",
    "        Function:\n",
    "            Creates a graph are to plot the heatmaps on\n",
    "    '''\n",
    "    plot,axes=plt.subplots(3,3,figsize=(15,15))\n",
    "    plot.tight_layout(pad=5.0)\n",
    "    plot.subplots_adjust(top=0.90)\n",
    "    axes=axes.ravel()\n",
    "    return plot,axes\n",
    "\n",
    "\n",
    "def createAttentionPerCharacter(attention,character,bengaliLength,englishLength):\n",
    "    '''\n",
    "        Parameters:\n",
    "            attention : attention matrix\n",
    "            character : character of the attention matrix\n",
    "            bengaliLength : length of target word\n",
    "            englishLength : length of source word\n",
    "        Returns :\n",
    "            A tensor with the attention per character\n",
    "        Function:\n",
    "            Calculates attention per character\n",
    "    '''\n",
    "    att=attention[character]\n",
    "    att=att[:bengaliLength]\n",
    "    att=att[:,:englishLength]\n",
    "    return att.T.cpu()\n",
    "\n",
    "\n",
    "def createHeatMap(attentionPerCharacter,axes,row,bengaliLength,englishLength,xTicks,yTicks,fontName):\n",
    "    '''\n",
    "        Parameters:\n",
    "            attentionPerCharacter : attention given to each character\n",
    "            axes : axes of the graph to plot the heatmap\n",
    "            row : which row of the grid of grpah to plot\n",
    "            bengaliLength : length of the target word\n",
    "            englishLength : length of the source word\n",
    "            xTicks : x axis labels\n",
    "            yTicks : y axis labels\n",
    "            fontName : the font file name which will be used to support the translated language in matplotlib\n",
    "        Returns :\n",
    "            axes : axes of the graph after the heatmap is plotted on the particluar row\n",
    "        Function:\n",
    "            Creates heatmap for each position of the grid\n",
    "    '''\n",
    "    \n",
    "    '''create the graph objects required'''\n",
    "    nullObj=Utilities_Plotting.getNullObject()\n",
    "    xObj=Utilities_Plotting.getFormatObject(xTicks)\n",
    "    yObj=Utilities_Plotting.getFormatObject(yTicks)\n",
    "\n",
    "    '''create the heatmap structure'''\n",
    "    seaborn.heatmap(attentionPerCharacter,ax=axes[row],cmap='magma',cbar=False,vmin=0.0,vmax=1.0)\n",
    "\n",
    "    '''edit the axes as per requirement'''\n",
    "    axes[row].xaxis.set_major_formatter(nullObj)\n",
    "    minorTickLocator=list()\n",
    "    for pos in range(bengaliLength):\n",
    "        minorTickLocator.append(pos+0.5)\n",
    "    minorObj=FixedLocator(minorTickLocator)\n",
    "    axes[row].xaxis.set_minor_locator(minorObj)\n",
    "    axes[row].xaxis.set_minor_formatter(xObj)\n",
    "    axes[row].yaxis.set_major_formatter(nullObj)\n",
    "    minorTickLocator=list()\n",
    "    for pos in range(englishLength):\n",
    "        minorTickLocator.append(pos+0.5)\n",
    "    minorObj=FixedLocator(minorTickLocator)\n",
    "    axes[row].yaxis.set_minor_locator(minorObj)\n",
    "    axes[row].yaxis.set_minor_formatter(yObj)\n",
    "    axes[row].set_yticklabels(yTicks,rotation=0,fontdict={'fontsize':12})  \n",
    "    axes[row].set_xticklabels(xTicks,fontproperties=FontProperties(fname=fontName),fontdict={'fontsize':12})\n",
    "    axes[row].xaxis.tick_top()\n",
    "    axes[row].set_xlabel('Predicted Bengali Word',size=14,labelpad=-300)\n",
    "    axes[row].set_ylabel('Original English Word',size=14)\n",
    "    return axes"
   ]
  },
  {
   "cell_type": "code",
   "execution_count": 33,
   "metadata": {
    "execution": {
     "iopub.execute_input": "2025-05-20T09:56:19.564611Z",
     "iopub.status.busy": "2025-05-20T09:56:19.563924Z",
     "iopub.status.idle": "2025-05-20T09:56:19.570661Z",
     "shell.execute_reply": "2025-05-20T09:56:19.569806Z",
     "shell.execute_reply.started": "2025-05-20T09:56:19.564585Z"
    },
    "trusted": true
   },
   "outputs": [
    {
     "name": "stdout",
     "output_type": "stream",
     "text": [
      "Writing Heatmap_Run.py\n"
     ]
    }
   ],
   "source": [
    "%%writefile Heatmap_Run.py\n",
    "import torch\n",
    "import matplotlib.pyplot as plt\n",
    "from matplotlib.font_manager import FontProperties\n",
    "from matplotlib.ticker import FixedLocator\n",
    "import seaborn\n",
    "import wandb\n",
    "import Utilities_Device_Trainings\n",
    "import Utilities_Plotting\n",
    "import Utilities_Tensor\n",
    "from Heatmap_Core import createPlot, createAttentionPerCharacter, createHeatMap\n",
    "\n",
    "def plotAttn(model,inputSequence,outputSequence,vocabulary,trainPy=0,fontName='/kaggle/input/bengalifont/BengaliFont.ttf'):    \n",
    "    '''\n",
    "        Parameters:\n",
    "            model : model on which to create the heatmaps\n",
    "            inputSequence : word in source language\n",
    "            outputSequence : word in target language\n",
    "            vocabulary : vocabulary of the dataset\n",
    "            trainPy : variable indicating whether this is train.py call or not\n",
    "            fontName : the font file name which will be used to support the translated language in matplotlib\n",
    "        Returns :\n",
    "            None\n",
    "        Function:\n",
    "            Creates 3x3 heatmap grid\n",
    "    '''\n",
    "    model.eval()    \n",
    "    with torch.no_grad():\n",
    "        '''get the original source and target words'''\n",
    "        inputSequence=inputSequence.T\n",
    "        inputSequence=Utilities_Device_Trainings.setDevice(inputSequence)\n",
    "        outputSequence=outputSequence.T\n",
    "        outputSequence=Utilities_Device_Trainings.setDevice(outputSequence)\n",
    "\n",
    "        '''run the encoder-decoder architecture and get the model predictions'''\n",
    "        modelEval,attention=model(inputSequence,outputSequence,teacherRatio=0.0)\n",
    "        \n",
    "        modelEval=Utilities_Tensor.extractColumn(modelEval)\n",
    "        attention=Utilities_Tensor.extractColumn(attention)\n",
    "        attentionSequence=modelEval.argmax(dim=2)\n",
    "        \n",
    "        attention=Utilities_Tensor.reorderDimensions(attention,1,0,2)\n",
    "        inputSequence=inputSequence.T\n",
    "        attentionSequence=attentionSequence.T\n",
    "\n",
    "        _,axes=createPlot()\n",
    "        \n",
    "        '''iterate on each character of the word'''\n",
    "        for row in range(inputSequence.size(0)):\n",
    "            englishLength=inputSequence.size(1)\n",
    "            bengaliLength=outputSequence.size(1)-1\n",
    "            \n",
    "            '''source word'''\n",
    "            column=0\n",
    "            flag=True\n",
    "            while(flag and column<inputSequence.size(1)):\n",
    "                if inputSequence[row][column].item()==vocabulary.endOfSequenceIndex:\n",
    "                    englishLength=column+1\n",
    "                    flag=False\n",
    "                column+=1\n",
    "            \n",
    "            '''target word'''\n",
    "            column=0\n",
    "            flag=True\n",
    "            while(flag and column<outputSequence.size(1)-1):\n",
    "                if attentionSequence[row][column].item()==vocabulary.endOfSequenceIndex:\n",
    "                    bengaliLength=column+1\n",
    "                    flag=False\n",
    "                column+=1\n",
    "\n",
    "            '''calculate attention per character'''\n",
    "            attentionPerCharacter=createAttentionPerCharacter(attention,row,bengaliLength,englishLength)\n",
    "\n",
    "            '''generate the x and y labels'''\n",
    "            xTicks,yTicks=Utilities_Plotting.createXandYticks(bengaliLength,englishLength,vocabulary,attentionSequence,inputSequence,row)\n",
    "\n",
    "            '''create the heatmap'''\n",
    "            if row<len(axes):\n",
    "                axes=createHeatMap(attentionPerCharacter,axes,row,bengaliLength,englishLength,xTicks,yTicks,fontName)\n",
    "\n",
    "        '''save the plot and log into wandb'''\n",
    "        if trainPy==0:\n",
    "            plt.savefig('AttentionHeatMap.png')\n",
    "        else:\n",
    "            plt.savefig('AttentionHeatMap1.png')\n",
    "        \n",
    "        if trainPy==0:\n",
    "            wandb.login()\n",
    "            wandb.init(project=\"Debasmita-DA6401-Assignment-3\",name=\"Question 5 Attention Heatmap\")\n",
    "        \n",
    "        wandb.log({'Attention Heatmap':wandb.Image(plt)})\n",
    "        \n",
    "        if trainPy==0:\n",
    "            wandb.finish()\n",
    "        plt.close()"
   ]
  },
  {
   "cell_type": "code",
   "execution_count": 34,
   "metadata": {
    "execution": {
     "iopub.execute_input": "2025-05-20T09:56:20.773184Z",
     "iopub.status.busy": "2025-05-20T09:56:20.772899Z",
     "iopub.status.idle": "2025-05-20T09:56:20.777854Z",
     "shell.execute_reply": "2025-05-20T09:56:20.777174Z",
     "shell.execute_reply.started": "2025-05-20T09:56:20.773159Z"
    },
    "trusted": true
   },
   "outputs": [
    {
     "name": "stdout",
     "output_type": "stream",
     "text": [
      "Writing Question5_d_Heatmap.py\n"
     ]
    }
   ],
   "source": [
    "%%writefile Question5_d_Heatmap.py\n",
    "from ModelTrainDriver_Framework import Model\n",
    "import Heatmap_Run\n",
    "\n",
    "def plot_heatmaps(vocabulary, trainEmbeddedDataLoader, valEmbeddedDataLoader, englishWords, bengaliWords):\n",
    "    '''create an object of the model and run the architecture with the best configuration'''    \n",
    "    modelBestWithAttention=Model(vocabulary,trainEmbeddedDataLoader,valEmbeddedDataLoader,test=1,attention=1)\n",
    "    modelBestWithAttention.createModelFramework(modelType=\"GRU\",embeddingSize=16,neruonsInFC=128,\n",
    "                                                layersInEncoder=3,layersInDecoder=1,dropout=0.2,bidirectional=\"NO\",\n",
    "                                                learningRate=0.001,epochs=10,batchSize=64)\n",
    "\n",
    "    '''plot the heatmaps'''\n",
    "    Heatmap_Run.plotAttn(modelBestWithAttention.framework,englishWords,bengaliWords,vocabulary)"
   ]
  },
  {
   "cell_type": "code",
   "execution_count": 36,
   "metadata": {
    "execution": {
     "iopub.execute_input": "2025-05-17T09:36:16.233438Z",
     "iopub.status.busy": "2025-05-17T09:36:16.233081Z",
     "iopub.status.idle": "2025-05-17T09:39:15.655174Z",
     "shell.execute_reply": "2025-05-17T09:39:15.654431Z",
     "shell.execute_reply.started": "2025-05-17T09:36:16.233398Z"
    },
    "trusted": true
   },
   "outputs": [
    {
     "name": "stdout",
     "output_type": "stream",
     "text": [
      "\n",
      "1\n"
     ]
    },
    {
     "name": "stderr",
     "output_type": "stream",
     "text": [
      "\u001b[34m\u001b[1mwandb\u001b[0m: Using wandb-core as the SDK backend.  Please refer to https://wandb.me/wandb-core for more information.\n",
      "\u001b[34m\u001b[1mwandb\u001b[0m: Currently logged in as: \u001b[33mcs24m015\u001b[0m (\u001b[33mcs24m015-indian-institute-of-technology-madras\u001b[0m) to \u001b[32mhttps://api.wandb.ai\u001b[0m. Use \u001b[1m`wandb login --relogin`\u001b[0m to force relogin\n"
     ]
    },
    {
     "data": {
      "text/html": [
       "Tracking run with wandb version 0.19.9"
      ],
      "text/plain": [
       "<IPython.core.display.HTML object>"
      ]
     },
     "metadata": {},
     "output_type": "display_data"
    },
    {
     "data": {
      "text/html": [
       "Run data is saved locally in <code>/kaggle/working/wandb/run-20250517_093907-coucdj26</code>"
      ],
      "text/plain": [
       "<IPython.core.display.HTML object>"
      ]
     },
     "metadata": {},
     "output_type": "display_data"
    },
    {
     "data": {
      "text/html": [
       "Syncing run <strong><a href='https://wandb.ai/cs24m015-indian-institute-of-technology-madras/Debasmita-DA6401-Assignment-3/runs/coucdj26' target=\"_blank\">Question 5 Attention Heatmap</a></strong> to <a href='https://wandb.ai/cs24m015-indian-institute-of-technology-madras/Debasmita-DA6401-Assignment-3' target=\"_blank\">Weights & Biases</a> (<a href='https://wandb.me/developer-guide' target=\"_blank\">docs</a>)<br>"
      ],
      "text/plain": [
       "<IPython.core.display.HTML object>"
      ]
     },
     "metadata": {},
     "output_type": "display_data"
    },
    {
     "data": {
      "text/html": [
       " View project at <a href='https://wandb.ai/cs24m015-indian-institute-of-technology-madras/Debasmita-DA6401-Assignment-3' target=\"_blank\">https://wandb.ai/cs24m015-indian-institute-of-technology-madras/Debasmita-DA6401-Assignment-3</a>"
      ],
      "text/plain": [
       "<IPython.core.display.HTML object>"
      ]
     },
     "metadata": {},
     "output_type": "display_data"
    },
    {
     "data": {
      "text/html": [
       " View run at <a href='https://wandb.ai/cs24m015-indian-institute-of-technology-madras/Debasmita-DA6401-Assignment-3/runs/coucdj26' target=\"_blank\">https://wandb.ai/cs24m015-indian-institute-of-technology-madras/Debasmita-DA6401-Assignment-3/runs/coucdj26</a>"
      ],
      "text/plain": [
       "<IPython.core.display.HTML object>"
      ]
     },
     "metadata": {},
     "output_type": "display_data"
    },
    {
     "data": {
      "text/html": [],
      "text/plain": [
       "<IPython.core.display.HTML object>"
      ]
     },
     "metadata": {},
     "output_type": "display_data"
    },
    {
     "data": {
      "text/html": [
       " View run <strong style=\"color:#cdcd00\">Question 5 Attention Heatmap</strong> at: <a href='https://wandb.ai/cs24m015-indian-institute-of-technology-madras/Debasmita-DA6401-Assignment-3/runs/coucdj26' target=\"_blank\">https://wandb.ai/cs24m015-indian-institute-of-technology-madras/Debasmita-DA6401-Assignment-3/runs/coucdj26</a><br> View project at: <a href='https://wandb.ai/cs24m015-indian-institute-of-technology-madras/Debasmita-DA6401-Assignment-3' target=\"_blank\">https://wandb.ai/cs24m015-indian-institute-of-technology-madras/Debasmita-DA6401-Assignment-3</a><br>Synced 5 W&B file(s), 1 media file(s), 0 artifact file(s) and 0 other file(s)"
      ],
      "text/plain": [
       "<IPython.core.display.HTML object>"
      ]
     },
     "metadata": {},
     "output_type": "display_data"
    },
    {
     "data": {
      "text/html": [
       "Find logs at: <code>./wandb/run-20250517_093907-coucdj26/logs</code>"
      ],
      "text/plain": [
       "<IPython.core.display.HTML object>"
      ]
     },
     "metadata": {},
     "output_type": "display_data"
    }
   ],
   "source": [
    "from LoadDataset_Test import DatasetLoad\n",
    "from PrepareVocabulary_Final import PrepareVocabulary\n",
    "from WordEmbeddings_Create import WordEmbeddings\n",
    "import Utilities_Tensor\n",
    "import Utilities_Sequence\n",
    "import torch.utils as utils\n",
    "import itertools\n",
    "import pandas as pd\n",
    "from Question5_d_Heatmap import plot_heatmaps\n",
    "\n",
    "def main():\n",
    "    '''loads dataset'''\n",
    "    lang=\"bn\"\n",
    "    d=DatasetLoad()\n",
    "    root=\"/kaggle/input/dataset/Dakshina/bn/lexicons\"\n",
    "    d.loadDataset(root,lang)\n",
    "    d.loadTestDataset(root,lang)\n",
    "\n",
    "    '''creates vocabulary from the dataset'''\n",
    "    vocabulary=PrepareVocabulary()\n",
    "    vocabulary.createVocabulary(d.train_dataset)\n",
    "\n",
    "    '''create embeddings of words for train, validation and test dataset'''\n",
    "    embeddingTrain=WordEmbeddings()\n",
    "    embeddingTrain.createWordEmbeddings(d.train_dataset,vocabulary)\n",
    "\n",
    "    embeddingVal=WordEmbeddings()\n",
    "    embeddingVal.createWordEmbeddings(d.val_dataset,vocabulary)\n",
    "\n",
    "    embeddingTest=WordEmbeddings()\n",
    "    embeddingTest.createWordEmbeddings(d.test_dataset,vocabulary)\n",
    "\n",
    "    '''create the dataloaders'''\n",
    "    trainEmbeddedDataset=utils.data.TensorDataset(embeddingTrain.englishEmbedding,embeddingTrain.bengaliEmbedding)\n",
    "    trainEmbeddedDataLoader=utils.data.DataLoader(trainEmbeddedDataset,batch_size=64,shuffle=True)\n",
    "\n",
    "    valEmbeddedDataset=utils.data.TensorDataset(embeddingVal.englishEmbedding,embeddingVal.bengaliEmbedding)\n",
    "    valEmbeddedDataLoader=utils.data.DataLoader(valEmbeddedDataset,batch_size=64)\n",
    "\n",
    "    testEmbeddedDataset=utils.data.TensorDataset(embeddingTest.englishEmbedding,embeddingTest.bengaliEmbedding)\n",
    "    testEmbeddedDataset=utils.data.DataLoader(testEmbeddedDataset,batch_size=64)\n",
    "\n",
    "    '''setting the length of the source (english in this case) and the target (bengali in this case) embeddings'''\n",
    "    englishLength=embeddingTest.englishEmbedding.size(1)\n",
    "    bengaliLength=embeddingTest.bengaliEmbedding.size(1)\n",
    "\n",
    "    '''read the files and create dataframe'''\n",
    "    dataFrame=pd.read_csv(\"AttentionVsSeq2Seq.csv\")                          \n",
    "    englishWordSelected=dataFrame.sample(n=9,random_state=42).iloc[:,0]\n",
    "    dataFrame2=pd.read_csv(\"modelPredictionsWithAttention.csv\")                       \n",
    "    \n",
    "    requiredIndices=dataFrame2[dataFrame2['English'].isin(englishWordSelected)]\n",
    "    requiredIndices=requiredIndices.index.tolist()\n",
    "\n",
    "    '''create zero tensros for stroing the words'''\n",
    "    englishWords=Utilities_Tensor.getLongZeroTensor(len(requiredIndices),englishLength)\n",
    "    bengaliWords=Utilities_Tensor.getLongZeroTensor(len(requiredIndices),bengaliLength)\n",
    "\n",
    "    '''store 9 source and their corresponding target words to create heatmap'''\n",
    "    for heatmapIndex,position in enumerate(requiredIndices):\n",
    "        batchPosition=Utilities_Sequence.getBatchFloorValue(position,64)\n",
    "        datasetPosition=position-batchPosition*64\n",
    "        data=next(itertools.islice(testEmbeddedDataset,batchPosition,None))\n",
    "        englishWord,bengaliWord=data[0][datasetPosition],data[1][datasetPosition]\n",
    "        englishWords[heatmapIndex]=englishWord\n",
    "        bengaliWords[heatmapIndex]=bengaliWord\n",
    "        heatmapIndex+=1\n",
    "\n",
    "    plot_heatmaps(vocabulary, trainEmbeddedDataLoader, valEmbeddedDataLoader, englishWords, bengaliWords)\n",
    "\n",
    "if __name__ == \"__main__\":\n",
    "    main()"
   ]
  },
  {
   "cell_type": "code",
   "execution_count": null,
   "metadata": {
    "trusted": true
   },
   "outputs": [],
   "source": [
    "# question 6 below"
   ]
  },
  {
   "cell_type": "code",
   "execution_count": null,
   "metadata": {
    "execution": {
     "iopub.execute_input": "2025-05-20T09:56:26.324781Z",
     "iopub.status.busy": "2025-05-20T09:56:26.324016Z",
     "iopub.status.idle": "2025-05-20T09:56:26.330768Z",
     "shell.execute_reply": "2025-05-20T09:56:26.330152Z",
     "shell.execute_reply.started": "2025-05-20T09:56:26.324755Z"
    },
    "trusted": true
   },
   "outputs": [
    {
     "name": "stdout",
     "output_type": "stream",
     "text": [
      "Writing AttentionWeightsFetch.py\n"
     ]
    }
   ],
   "source": [
    "%%writefile AttentionWeightsFetch.py\n",
    "import torch\n",
    "import matplotlib.pyplot as plt\n",
    "from matplotlib.font_manager import FontProperties\n",
    "import seaborn\n",
    "import Utilities_Device_Trainings\n",
    "import Utilities_Plotting\n",
    "import Utilities_Tensor\n",
    "from Heatmap_Core import createPlot, createAttentionPerCharacter, createHeatMap\n",
    "\n",
    "def plotAttn(model,\n",
    "             inputSequence,\n",
    "             outputSequence,\n",
    "             vocabulary,\n",
    "             fontName='/kaggle/input/bengalifont/BengaliFont.ttf'):\n",
    "    \"\"\"\n",
    "    Parameters:\n",
    "      - model: your encoder-decoder framework\n",
    "      - inputSequence: LongTensor [B, src_len] or list [src_str]\n",
    "      - outputSequence: LongTensor [B, tgt_len] or list [tgt_str]\n",
    "      - vocabulary: PrepareVocabulary instance\n",
    "      - fontName: path to a Bengali TTF for plotting\n",
    "    Returns:\n",
    "      - attention_matrix: numpy array of shape [tgt_len x src_len]\n",
    "    \"\"\"\n",
    "\n",
    "    model.eval()\n",
    "\n",
    "    ''' Auto-convert from list[str] → LongTensor of indices'''\n",
    "    if isinstance(inputSequence, list):\n",
    "        eng_str = inputSequence[0]\n",
    "        # map characters → indices\n",
    "        char2idx_en = vocabulary.charToIndexDictForEnglish\n",
    "        eng_idxs = [char2idx_en[c] for c in eng_str]\n",
    "        eng_idxs.append(vocabulary.endOfSequenceIndex)\n",
    "        inputSequence = torch.LongTensor([eng_idxs])\n",
    "\n",
    "    if isinstance(outputSequence, list):\n",
    "        bn_str = outputSequence[0]\n",
    "        char2idx_bn = vocabulary.charToIndexDictForBengali\n",
    "        bn_idxs = [char2idx_bn[c] for c in bn_str]\n",
    "        bn_idxs.append(vocabulary.endOfSequenceIndex)\n",
    "        outputSequence = torch.LongTensor([bn_idxs])\n",
    "\n",
    "    with torch.no_grad():\n",
    "        ''' transpose & send to device'''\n",
    "        src = Utilities_Device_Trainings.setDevice(inputSequence.T)\n",
    "        tgt = Utilities_Device_Trainings.setDevice(outputSequence.T)\n",
    "        modelEval, attention = model(src, tgt, teacherRatio=0.0)\n",
    "\n",
    "        '''collapse batch/time dims'''\n",
    "        modelEval = Utilities_Tensor.extractColumn(modelEval)\n",
    "        attention = Utilities_Tensor.extractColumn(attention)\n",
    "        attn_seq = modelEval.argmax(dim=2)\n",
    "\n",
    "        ''' reorder to [batch, tgt_len, src_len]'''\n",
    "        attention = Utilities_Tensor.reorderDimensions(attention, 1, 0, 2)\n",
    "\n",
    "        ''' transpose inputs back'''\n",
    "        src = src.T\n",
    "        attn_seq = attn_seq.T\n",
    "\n",
    "        ''' prepare plotting grid'''\n",
    "        _, axes = createPlot()\n",
    "\n",
    "        attention_matrix = None\n",
    "        B = src.size(0)\n",
    "        for row in range(B):\n",
    "            ''' find true lengths'''\n",
    "            src_len = (src[row] == vocabulary.endOfSequenceIndex).nonzero(as_tuple=True)\n",
    "            src_len = src_len[0][0].item()+1 if src_len[0].numel()>0 else src.size(1)\n",
    "\n",
    "            tgt_seq = attn_seq[row]\n",
    "            tgt_len = (tgt_seq == vocabulary.endOfSequenceIndex).nonzero(as_tuple=True)\n",
    "            tgt_len = tgt_len[0][0].item()+1 if tgt_len[0].numel()>0 else tgt_seq.size(0)\n",
    "\n",
    "            ''' build [tgt_len x src_len] attention-per-char '''\n",
    "            attentionPerCharacter = createAttentionPerCharacter(\n",
    "                attention, row, tgt_len, src_len\n",
    "            )\n",
    "\n",
    "            '''putting the real attention weights'''\n",
    "            attention_matrix = attentionPerCharacter.cpu().numpy()\n",
    "\n",
    "            ''' build tick labels'''\n",
    "            xTicks, yTicks = Utilities_Plotting.createXandYticks(\n",
    "                tgt_len, src_len, vocabulary,\n",
    "                attn_seq, src, row\n",
    "            )\n",
    "\n",
    "            '''plot into the grid'''\n",
    "            if row < len(axes):\n",
    "                axes = createHeatMap(\n",
    "                    attentionPerCharacter, axes, row,\n",
    "                    tgt_len, src_len,\n",
    "                    xTicks, yTicks,\n",
    "                    fontName\n",
    "                )\n",
    "\n",
    "        plt.close()\n",
    "\n",
    "    return attention_matrix"
   ]
  },
  {
   "cell_type": "code",
   "execution_count": null,
   "metadata": {
    "execution": {
     "iopub.execute_input": "2025-05-20T08:25:45.698007Z",
     "iopub.status.busy": "2025-05-20T08:25:45.697050Z",
     "iopub.status.idle": "2025-05-20T08:27:54.472196Z",
     "shell.execute_reply": "2025-05-20T08:27:54.471676Z",
     "shell.execute_reply.started": "2025-05-20T08:25:45.697980Z"
    },
    "trusted": true
   },
   "outputs": [
    {
     "name": "stdout",
     "output_type": "stream",
     "text": [
      "\n",
      "Picked the word → English: 'ayadaministreshana' | Predicted Bengali: 'অ্যাডমিনিস্ট্রেশন'\n",
      "\n"
     ]
    },
    {
     "data": {
      "image/png": "[encoded data removed]",
      "text/plain": [
       "<Figure size 800x600 with 2 Axes>"
      ]
     },
     "metadata": {},
     "output_type": "display_data"
    },
    {
     "data": {
      "text/html": [
       "Tracking run with wandb version 0.19.9"
      ],
      "text/plain": [
       "<IPython.core.display.HTML object>"
      ]
     },
     "metadata": {},
     "output_type": "display_data"
    },
    {
     "data": {
      "text/html": [
       "Run data is saved locally in <code>/kaggle/working/wandb/run-20250520_082745-ql8xujrt</code>"
      ],
      "text/plain": [
       "<IPython.core.display.HTML object>"
      ]
     },
     "metadata": {},
     "output_type": "display_data"
    },
    {
     "data": {
      "text/html": [
       "Syncing run <strong><a href='https://wandb.ai/cs24m015-indian-institute-of-technology-madras/Debasmita-DA6401-Assignment-3/runs/ql8xujrt' target=\"_blank\">Question6_Visualisation</a></strong> to <a href='https://wandb.ai/cs24m015-indian-institute-of-technology-madras/Debasmita-DA6401-Assignment-3' target=\"_blank\">Weights & Biases</a> (<a href='https://wandb.me/developer-guide' target=\"_blank\">docs</a>)<br>"
      ],
      "text/plain": [
       "<IPython.core.display.HTML object>"
      ]
     },
     "metadata": {},
     "output_type": "display_data"
    },
    {
     "data": {
      "text/html": [
       " View project at <a href='https://wandb.ai/cs24m015-indian-institute-of-technology-madras/Debasmita-DA6401-Assignment-3' target=\"_blank\">https://wandb.ai/cs24m015-indian-institute-of-technology-madras/Debasmita-DA6401-Assignment-3</a>"
      ],
      "text/plain": [
       "<IPython.core.display.HTML object>"
      ]
     },
     "metadata": {},
     "output_type": "display_data"
    },
    {
     "data": {
      "text/html": [
       " View run at <a href='https://wandb.ai/cs24m015-indian-institute-of-technology-madras/Debasmita-DA6401-Assignment-3/runs/ql8xujrt' target=\"_blank\">https://wandb.ai/cs24m015-indian-institute-of-technology-madras/Debasmita-DA6401-Assignment-3/runs/ql8xujrt</a>"
      ],
      "text/plain": [
       "<IPython.core.display.HTML object>"
      ]
     },
     "metadata": {},
     "output_type": "display_data"
    },
    {
     "data": {
      "text/html": [],
      "text/plain": [
       "<IPython.core.display.HTML object>"
      ]
     },
     "metadata": {},
     "output_type": "display_data"
    },
    {
     "data": {
      "text/html": [
       " View run <strong style=\"color:#cdcd00\">Question6_Visualisation</strong> at: <a href='https://wandb.ai/cs24m015-indian-institute-of-technology-madras/Debasmita-DA6401-Assignment-3/runs/ql8xujrt' target=\"_blank\">https://wandb.ai/cs24m015-indian-institute-of-technology-madras/Debasmita-DA6401-Assignment-3/runs/ql8xujrt</a><br> View project at: <a href='https://wandb.ai/cs24m015-indian-institute-of-technology-madras/Debasmita-DA6401-Assignment-3' target=\"_blank\">https://wandb.ai/cs24m015-indian-institute-of-technology-madras/Debasmita-DA6401-Assignment-3</a><br>Synced 5 W&B file(s), 1 media file(s), 0 artifact file(s) and 0 other file(s)"
      ],
      "text/plain": [
       "<IPython.core.display.HTML object>"
      ]
     },
     "metadata": {},
     "output_type": "display_data"
    },
    {
     "data": {
      "text/html": [
       "Find logs at: <code>./wandb/run-20250520_082745-ql8xujrt/logs</code>"
      ],
      "text/plain": [
       "<IPython.core.display.HTML object>"
      ]
     },
     "metadata": {},
     "output_type": "display_data"
    }
   ],
   "source": [
    "import pandas as pd\n",
    "import numpy as np\n",
    "import torch.utils as utils\n",
    "import torch\n",
    "import matplotlib.pyplot as plt\n",
    "import matplotlib.font_manager as fm\n",
    "import wandb\n",
    "from matplotlib.colors import Normalize\n",
    "\n",
    "from LoadDataset_Test import DatasetLoad\n",
    "from PrepareVocabulary_Final import PrepareVocabulary\n",
    "from WordEmbeddings_Create import WordEmbeddings\n",
    "from ModelTrainDriver_Framework import Model\n",
    "from AttentionWeightsFetch import plotAttn  # utility to extract attention weights\n",
    "\n",
    "def main():\n",
    "    '''load dataset'''\n",
    "    lang = \"bn\"\n",
    "    d = DatasetLoad()\n",
    "    root = \"/kaggle/input/dataset/Dakshina/bn/lexicons\"\n",
    "    d.loadDataset(root, lang)\n",
    "    d.loadTestDataset(root, lang)\n",
    "\n",
    "    '''build the vocabulary'''\n",
    "    vocabulary = PrepareVocabulary()\n",
    "    vocabulary.createVocabulary(d.train_dataset)\n",
    "\n",
    "    '''create embeddings for train, val, test'''\n",
    "    embeddingTrain = WordEmbeddings()\n",
    "    embeddingTrain.createWordEmbeddings(d.train_dataset, vocabulary)\n",
    "\n",
    "    embeddingVal = WordEmbeddings()\n",
    "    embeddingVal.createWordEmbeddings(d.val_dataset, vocabulary)\n",
    "\n",
    "    embeddingTest = WordEmbeddings()\n",
    "    embeddingTest.createWordEmbeddings(d.test_dataset, vocabulary)\n",
    "\n",
    "    '''wrapoing the embeddings in DataLoaders'''\n",
    "    train_dataset = utils.data.TensorDataset(\n",
    "        embeddingTrain.englishEmbedding,\n",
    "        embeddingTrain.bengaliEmbedding\n",
    "    )\n",
    "    train_loader = utils.data.DataLoader(\n",
    "        train_dataset,\n",
    "        batch_size=64,\n",
    "        shuffle=True\n",
    "    )\n",
    "\n",
    "    val_dataset = utils.data.TensorDataset(\n",
    "        embeddingVal.englishEmbedding,\n",
    "        embeddingVal.bengaliEmbedding\n",
    "    )\n",
    "    val_loader = utils.data.DataLoader(\n",
    "        val_dataset,\n",
    "        batch_size=64\n",
    "    )\n",
    "\n",
    "    '''instantiating the best attention model'''\n",
    "    model_att = Model(\n",
    "        vocabulary,\n",
    "        train_loader,\n",
    "        val_loader,\n",
    "        test=1,\n",
    "        attention=1\n",
    "    )\n",
    "    model_att.createModelFramework(\n",
    "        modelType=\"GRU\",\n",
    "        embeddingSize=16,\n",
    "        neruonsInFC=128,\n",
    "        layersInEncoder=3,\n",
    "        layersInDecoder=1,\n",
    "        dropout=0.2,\n",
    "        bidirectional=\"NO\",\n",
    "        learningRate=0.001,\n",
    "        epochs=10,\n",
    "        batchSize=64\n",
    "    )\n",
    "    model_att.framework.eval()\n",
    "\n",
    "    csv_path = \"/kaggle/input/seqtoseqcsv/AttentionVsSeq2Seq.csv\"\n",
    "    df = pd.read_csv(csv_path)\n",
    "    correct_df = df[df['Original'] == df['Attention']].copy()\n",
    "    if correct_df.empty:\n",
    "        raise RuntimeError(\"No exact matches in the CSV file\")\n",
    "    correct_df['eng_len'] = correct_df['English'].str.len()\n",
    "\n",
    "    ''' simply pick one random correct prediction'''\n",
    "    row = correct_df.sample(n=1).iloc[0]\n",
    "    eng_word = row['English']\n",
    "    beng_word = row['Attention']    \n",
    "    print(f\"\\nPicked the word → English: '{eng_word}' | Predicted Bengali: '{beng_word}'\\n\")\n",
    "\n",
    "    '''extract the true attention matrix'''\n",
    "    attn_matrix = plotAttn(\n",
    "        model_att.framework,\n",
    "        [eng_word],\n",
    "        [beng_word],\n",
    "        vocabulary\n",
    "    )    \n",
    "\n",
    "    '''creating the heatmap'''\n",
    "    font_path = '/kaggle/input/bengalifont/BengaliFont.ttf'\n",
    "    prop = fm.FontProperties(fname=font_path)\n",
    "\n",
    "    baseline = 0.01 * np.max(attn_matrix)\n",
    "    enhanced = np.clip(attn_matrix + baseline, 0.0, 1.0)\n",
    "\n",
    "    plt.figure(figsize=(8, 6))\n",
    "    plt.imshow(enhanced,aspect='auto',cmap='YlGnBu',norm=Normalize(vmin=0.0, vmax=1.0))\n",
    "    cbar = plt.colorbar()\n",
    "    cbar.set_label('', fontsize=12)\n",
    "\n",
    "    plt.xticks(np.arange(len(eng_word)), list(eng_word), fontsize=14)\n",
    "    plt.yticks(np.arange(len(beng_word)), list(beng_word),\n",
    "               fontproperties=prop, fontsize=16)\n",
    "    plt.xlabel(f\"English: {eng_word}\", fontsize=16)\n",
    "    plt.ylabel(f\"বাংলা: {beng_word}\", fontproperties=prop, fontsize=16)\n",
    "    plt.title(\"Attention Connectivity\", fontsize=18)\n",
    "\n",
    "    for i in range(enhanced.shape[0]):\n",
    "        for j in range(enhanced.shape[1]):\n",
    "            val = enhanced[i, j]\n",
    "            color = 'white' if val < 0.5 else 'black'\n",
    "            plt.text(j, i, f\"{val:.2f}\",\n",
    "                     ha='center', va='center',\n",
    "                     color=color, fontproperties=prop, fontsize=10)\n",
    "\n",
    "    plt.grid(which='minor', linestyle='-', linewidth=0.5, color='gray')\n",
    "    plt.tight_layout()\n",
    "    fig = plt.gcf()\n",
    "    plt.show()\n",
    "\n",
    "    '''Wandb logging'''\n",
    "    wandb.login()\n",
    "    run = wandb.init(\n",
    "        project=\"Debasmita-DA6401-Assignment-3\", \n",
    "        name=\"Question6_Visualisation\"\n",
    "    )\n",
    "    run.log({\"Attention_Matrix\": wandb.Image(fig)})\n",
    "    run.finish()\n",
    "\n",
    "if __name__ == '__main__':\n",
    "    main()"
   ]
  },
  {
   "cell_type": "code",
   "execution_count": null,
   "metadata": {
    "trusted": true
   },
   "outputs": [],
   "source": [
    "# train.py file below"
   ]
  },
  {
   "cell_type": "code",
   "execution_count": 36,
   "metadata": {
    "execution": {
     "iopub.execute_input": "2025-05-19T14:40:03.817616Z",
     "iopub.status.busy": "2025-05-19T14:40:03.816820Z",
     "iopub.status.idle": "2025-05-19T14:40:03.823125Z",
     "shell.execute_reply": "2025-05-19T14:40:03.822389Z",
     "shell.execute_reply.started": "2025-05-19T14:40:03.817571Z"
    },
    "trusted": true
   },
   "outputs": [
    {
     "name": "stdout",
     "output_type": "stream",
     "text": [
      "Writing train_arguments.py\n"
     ]
    }
   ],
   "source": [
    "%%writefile train_arguments.py\n",
    "import argparse\n",
    "\n",
    "'''\n",
    "  Parameters:\n",
    "    None\n",
    "  Returns :\n",
    "    A parser object\n",
    "  Function:\n",
    "    Does command line argument parsing and returns the arguments passed\n",
    "'''\n",
    "def arguments():\n",
    "    commandLineArgument = argparse.ArgumentParser(description='Model Parameters')\n",
    "    commandLineArgument.add_argument('-wp','--wandb_project',help=\"Project name used to track experiments in Weights & Biases dashboard\")\n",
    "    commandLineArgument.add_argument('-we','--wandb_entity',help=\"Wandb Entity used to track experiments in the Weights & Biases dashboard\")\n",
    "    commandLineArgument.add_argument('-r','--root',help=\"Absolute path of the dataset\")\n",
    "    commandLineArgument.add_argument('-e','--epochs',type=int,help=\"Number of epochs to train neural network\")\n",
    "    commandLineArgument.add_argument('-b','--batch',type=int,help=\"Batch size to divide the dataset\")\n",
    "    commandLineArgument.add_argument('-n','--neurons',type=int,help=\"Number of neurons in the fully connected layer\")\n",
    "    commandLineArgument.add_argument('-d','--dropout',type=float,help=\"Percentage of dropout in the network\")\n",
    "    commandLineArgument.add_argument('-em','--embedding',type=int,help=\"Size of the embedding layer\")\n",
    "    commandLineArgument.add_argument('-enc','--encoder',type=int,help=\"Number of layers in the encoder\")\n",
    "    commandLineArgument.add_argument('-dec','--decoder',type=int,help=\"Number of layers in the decoder\")\n",
    "    commandLineArgument.add_argument('-c','--cell',help=\"Type of cell\")\n",
    "    commandLineArgument.add_argument('-bid','--bidir',help=\"choices: [YES,NO]\")\n",
    "    commandLineArgument.add_argument('-t','--test',type=int,help=\"choices: [0,1]\")\n",
    "    commandLineArgument.add_argument('-att','--attention',type=int,help=\"choices: [0,1]\")\n",
    "    commandLineArgument.add_argument('-ht','--heat',type=int,help=\"choices: [0,1]\")\n",
    "    commandLineArgument.add_argument('-f','--font',help=\"Font of the language chosen to generate the heatmap\")\n",
    "\n",
    "    return commandLineArgument.parse_args()"
   ]
  },
  {
   "cell_type": "code",
   "execution_count": null,
   "metadata": {
    "execution": {
     "iopub.execute_input": "2025-05-19T14:40:07.236775Z",
     "iopub.status.busy": "2025-05-19T14:40:07.236470Z",
     "iopub.status.idle": "2025-05-19T14:46:46.714041Z",
     "shell.execute_reply": "2025-05-19T14:46:46.713011Z",
     "shell.execute_reply.started": "2025-05-19T14:40:07.236742Z"
    },
    "trusted": true
   },
   "outputs": [
    {
     "name": "stderr",
     "output_type": "stream",
     "text": [
      "\u001b[34m\u001b[1mwandb\u001b[0m: Using wandb-core as the SDK backend.  Please refer to https://wandb.me/wandb-core for more information.\n",
      "\u001b[34m\u001b[1mwandb\u001b[0m: Currently logged in as: \u001b[33mcs24m015\u001b[0m (\u001b[33mcs24m015-indian-institute-of-technology-madras\u001b[0m) to \u001b[32mhttps://api.wandb.ai\u001b[0m. Use \u001b[1m`wandb login --relogin`\u001b[0m to force relogin\n"
     ]
    },
    {
     "data": {
      "text/html": [
       "Tracking run with wandb version 0.19.9"
      ],
      "text/plain": [
       "<IPython.core.display.HTML object>"
      ]
     },
     "metadata": {},
     "output_type": "display_data"
    },
    {
     "data": {
      "text/html": [
       "Run data is saved locally in <code>/kaggle/working/wandb/run-20250519_144013-svxm3qx2</code>"
      ],
      "text/plain": [
       "<IPython.core.display.HTML object>"
      ]
     },
     "metadata": {},
     "output_type": "display_data"
    },
    {
     "data": {
      "text/html": [
       "Syncing run <strong><a href='https://wandb.ai/cs24m015-indian-institute-of-technology-madras/Debasmita-DA6401-Assignment-3/runs/svxm3qx2' target=\"_blank\">lunar-fire-253</a></strong> to <a href='https://wandb.ai/cs24m015-indian-institute-of-technology-madras/Debasmita-DA6401-Assignment-3' target=\"_blank\">Weights & Biases</a> (<a href='https://wandb.me/developer-guide' target=\"_blank\">docs</a>)<br>"
      ],
      "text/plain": [
       "<IPython.core.display.HTML object>"
      ]
     },
     "metadata": {},
     "output_type": "display_data"
    },
    {
     "data": {
      "text/html": [
       " View project at <a href='https://wandb.ai/cs24m015-indian-institute-of-technology-madras/Debasmita-DA6401-Assignment-3' target=\"_blank\">https://wandb.ai/cs24m015-indian-institute-of-technology-madras/Debasmita-DA6401-Assignment-3</a>"
      ],
      "text/plain": [
       "<IPython.core.display.HTML object>"
      ]
     },
     "metadata": {},
     "output_type": "display_data"
    },
    {
     "data": {
      "text/html": [
       " View run at <a href='https://wandb.ai/cs24m015-indian-institute-of-technology-madras/Debasmita-DA6401-Assignment-3/runs/svxm3qx2' target=\"_blank\">https://wandb.ai/cs24m015-indian-institute-of-technology-madras/Debasmita-DA6401-Assignment-3/runs/svxm3qx2</a>"
      ],
      "text/plain": [
       "<IPython.core.display.HTML object>"
      ]
     },
     "metadata": {},
     "output_type": "display_data"
    },
    {
     "name": "stdout",
     "output_type": "stream",
     "text": [
      "run name = ATT_YES_EP_10_CELL_GRU_EMB_16_ENC_3_DEC_1_FC_128_DRP_0.2_BS_64_BIDIREC_NO\n",
      "\n",
      "===================================================================================================================\n",
      "Epoch : 1\n",
      "Training Accuracy : 0.16337533829499323\n",
      "Validation Accuracy : 0.15150862068965518\n",
      "Training Loss : 0.607886224864139\n",
      "Validation Loss : 0.7484891700333562\n",
      "\n",
      "===================================================================================================================\n",
      "Epoch : 2\n",
      "Training Accuracy : 0.28256089309878213\n",
      "Validation Accuracy : 0.22650862068965516\n",
      "Training Loss : 0.4812666651602527\n",
      "Validation Loss : 0.6547144366749402\n",
      "\n",
      "===================================================================================================================\n",
      "Epoch : 3\n",
      "Training Accuracy : 0.3339605886332882\n",
      "Validation Accuracy : 0.2540948275862069\n",
      "Training Loss : 0.43995033160194813\n",
      "Validation Loss : 0.6326976554147128\n"
     ]
    },
    {
     "ename": "KeyboardInterrupt",
     "evalue": "",
     "output_type": "error",
     "traceback": [
      "\u001b[0;31m---------------------------------------------------------------------------\u001b[0m",
      "\u001b[0;31mKeyboardInterrupt\u001b[0m                         Traceback (most recent call last)",
      "\u001b[0;32m/tmp/ipykernel_35/51355828.py\u001b[0m in \u001b[0;36m<cell line: 0>\u001b[0;34m()\u001b[0m\n\u001b[1;32m    224\u001b[0m \u001b[0;34m\u001b[0m\u001b[0m\n\u001b[1;32m    225\u001b[0m \u001b[0;32mif\u001b[0m \u001b[0m__name__\u001b[0m \u001b[0;34m==\u001b[0m \u001b[0;34m'__main__'\u001b[0m\u001b[0;34m:\u001b[0m\u001b[0;34m\u001b[0m\u001b[0;34m\u001b[0m\u001b[0m\n\u001b[0;32m--> 226\u001b[0;31m     \u001b[0mmain\u001b[0m\u001b[0;34m(\u001b[0m\u001b[0;34m)\u001b[0m\u001b[0;34m\u001b[0m\u001b[0;34m\u001b[0m\u001b[0m\n\u001b[0m",
      "\u001b[0;32m/tmp/ipykernel_35/51355828.py\u001b[0m in \u001b[0;36mmain\u001b[0;34m()\u001b[0m\n\u001b[1;32m     90\u001b[0m     \u001b[0mwandb\u001b[0m\u001b[0;34m.\u001b[0m\u001b[0mrun\u001b[0m\u001b[0;34m.\u001b[0m\u001b[0mname\u001b[0m \u001b[0;34m=\u001b[0m \u001b[0mrun\u001b[0m\u001b[0;34m\u001b[0m\u001b[0;34m\u001b[0m\u001b[0m\n\u001b[1;32m     91\u001b[0m \u001b[0;34m\u001b[0m\u001b[0m\n\u001b[0;32m---> 92\u001b[0;31m     \u001b[0mTrain\u001b[0m\u001b[0;34m.\u001b[0m\u001b[0mrunTrain\u001b[0m\u001b[0;34m(\u001b[0m\u001b[0mroot\u001b[0m\u001b[0;34m,\u001b[0m \u001b[0mepochs\u001b[0m\u001b[0;34m,\u001b[0m \u001b[0mbatchSize\u001b[0m\u001b[0;34m,\u001b[0m \u001b[0mtest\u001b[0m\u001b[0;34m,\u001b[0m \u001b[0mattention\u001b[0m\u001b[0;34m,\u001b[0m \u001b[0mheatmap\u001b[0m\u001b[0;34m,\u001b[0m \u001b[0mmodelType\u001b[0m\u001b[0;34m,\u001b[0m \u001b[0membeddingSize\u001b[0m\u001b[0;34m,\u001b[0m \u001b[0mlayersInEncoder\u001b[0m\u001b[0;34m,\u001b[0m \u001b[0mlayersInDecoder\u001b[0m\u001b[0;34m,\u001b[0m \u001b[0mneruonsInFC\u001b[0m\u001b[0;34m,\u001b[0m \u001b[0mbidirectional\u001b[0m\u001b[0;34m,\u001b[0m \u001b[0mdropoutProb\u001b[0m\u001b[0;34m,\u001b[0m \u001b[0mlearningRate\u001b[0m\u001b[0;34m,\u001b[0m \u001b[0mfontName\u001b[0m\u001b[0;34m)\u001b[0m\u001b[0;34m\u001b[0m\u001b[0;34m\u001b[0m\u001b[0m\n\u001b[0m\u001b[1;32m     93\u001b[0m     \u001b[0mwandb\u001b[0m\u001b[0;34m.\u001b[0m\u001b[0mfinish\u001b[0m\u001b[0;34m(\u001b[0m\u001b[0;34m)\u001b[0m\u001b[0;34m\u001b[0m\u001b[0;34m\u001b[0m\u001b[0m\n\u001b[1;32m     94\u001b[0m \u001b[0;34m\u001b[0m\u001b[0m\n",
      "\u001b[0;32m/tmp/ipykernel_35/51355828.py\u001b[0m in \u001b[0;36mrunTrain\u001b[0;34m(root, epochs, batchSize, test, attention, heatmap, modelType, embeddingSize, layersInEncoder, layersInDecoder, neruonsInFC, bidirectional, dropoutProb, learningRate, fontName)\u001b[0m\n\u001b[1;32m    154\u001b[0m             \u001b[0mtest\u001b[0m\u001b[0;34m=\u001b[0m\u001b[0mtest\u001b[0m\u001b[0;34m,\u001b[0m \u001b[0mattention\u001b[0m\u001b[0;34m=\u001b[0m\u001b[0mattention\u001b[0m\u001b[0;34m,\u001b[0m \u001b[0mtrainPy\u001b[0m\u001b[0;34m=\u001b[0m\u001b[0;36m1\u001b[0m\u001b[0;34m\u001b[0m\u001b[0;34m\u001b[0m\u001b[0m\n\u001b[1;32m    155\u001b[0m         )\n\u001b[0;32m--> 156\u001b[0;31m         framework = myModel.createModelFramework(\n\u001b[0m\u001b[1;32m    157\u001b[0m             \u001b[0mmodelType\u001b[0m\u001b[0;34m=\u001b[0m\u001b[0mmodelType\u001b[0m\u001b[0;34m,\u001b[0m\u001b[0;34m\u001b[0m\u001b[0;34m\u001b[0m\u001b[0m\n\u001b[1;32m    158\u001b[0m             \u001b[0membeddingSize\u001b[0m\u001b[0;34m=\u001b[0m\u001b[0membeddingSize\u001b[0m\u001b[0;34m,\u001b[0m\u001b[0;34m\u001b[0m\u001b[0;34m\u001b[0m\u001b[0m\n",
      "\u001b[0;32m/kaggle/working/ModelTrainDriver_Framework.py\u001b[0m in \u001b[0;36mcreateModelFramework\u001b[0;34m(self, modelType, embeddingSize, neruonsInFC, layersInEncoder, layersInDecoder, dropout, bidirectional, learningRate, epochs, batchSize)\u001b[0m\n\u001b[1;32m     47\u001b[0m     \u001b[0;32mif\u001b[0m \u001b[0mself\u001b[0m\u001b[0;34m.\u001b[0m\u001b[0mtrainPy\u001b[0m \u001b[0;34m==\u001b[0m \u001b[0;36m1\u001b[0m\u001b[0;34m:\u001b[0m\u001b[0;34m\u001b[0m\u001b[0;34m\u001b[0m\u001b[0m\n\u001b[1;32m     48\u001b[0m         \u001b[0mparamList\u001b[0m \u001b[0;34m=\u001b[0m \u001b[0;34m[\u001b[0m\u001b[0mself\u001b[0m\u001b[0;34m.\u001b[0m\u001b[0mframework\u001b[0m\u001b[0;34m,\u001b[0m \u001b[0mlearningRate\u001b[0m\u001b[0;34m,\u001b[0m \u001b[0mself\u001b[0m\u001b[0;34m.\u001b[0m\u001b[0mtrainEmbeddedDataLoader\u001b[0m\u001b[0;34m,\u001b[0m \u001b[0mself\u001b[0m\u001b[0;34m.\u001b[0m\u001b[0mvalEmbeddedDataLoader\u001b[0m\u001b[0;34m,\u001b[0m \u001b[0mepochs\u001b[0m\u001b[0;34m,\u001b[0m \u001b[0mbatchSize\u001b[0m\u001b[0;34m,\u001b[0m \u001b[0mself\u001b[0m\u001b[0;34m.\u001b[0m\u001b[0mpaddingIndex\u001b[0m\u001b[0;34m]\u001b[0m\u001b[0;34m\u001b[0m\u001b[0;34m\u001b[0m\u001b[0m\n\u001b[0;32m---> 49\u001b[0;31m         \u001b[0mframework\u001b[0m \u001b[0;34m=\u001b[0m \u001b[0mTrainer\u001b[0m\u001b[0;34m.\u001b[0m\u001b[0mrunModelTrainer\u001b[0m\u001b[0;34m(\u001b[0m\u001b[0mparamList\u001b[0m\u001b[0;34m,\u001b[0m \u001b[0mself\u001b[0m\u001b[0;34m.\u001b[0m\u001b[0mtrainPy\u001b[0m\u001b[0;34m,\u001b[0m \u001b[0mlogging\u001b[0m\u001b[0;34m=\u001b[0m\u001b[0;36m1\u001b[0m\u001b[0;34m)\u001b[0m\u001b[0;34m\u001b[0m\u001b[0;34m\u001b[0m\u001b[0m\n\u001b[0m\u001b[1;32m     50\u001b[0m         \u001b[0;32mreturn\u001b[0m \u001b[0mframework\u001b[0m\u001b[0;34m\u001b[0m\u001b[0;34m\u001b[0m\u001b[0m\n\u001b[1;32m     51\u001b[0m \u001b[0;34m\u001b[0m\u001b[0m\n",
      "\u001b[0;32m/kaggle/working/RunTrainer.py\u001b[0m in \u001b[0;36mrunModelTrainer\u001b[0;34m(paramList, trainPy, saveBestModel, logging)\u001b[0m\n\u001b[1;32m     67\u001b[0m \u001b[0;34m\u001b[0m\u001b[0m\n\u001b[1;32m     68\u001b[0m             \u001b[0;34m'''calculate the respective loss and accuracy'''\u001b[0m\u001b[0;34m\u001b[0m\u001b[0;34m\u001b[0m\u001b[0m\n\u001b[0;32m---> 69\u001b[0;31m             trainingLoss, trainingAccuracy = FindAccuracyAndLoss.findAccuracyAndLoss(\n\u001b[0m\u001b[1;32m     70\u001b[0m                 \u001b[0mframework\u001b[0m\u001b[0;34m,\u001b[0m \u001b[0mtrainEmbeddedDataLoader\u001b[0m\u001b[0;34m,\u001b[0m \u001b[0mbatchSize\u001b[0m\u001b[0;34m,\u001b[0m \u001b[0mpaddingIndex\u001b[0m\u001b[0;34m\u001b[0m\u001b[0;34m\u001b[0m\u001b[0m\n\u001b[1;32m     71\u001b[0m             )\n",
      "\u001b[0;32m/kaggle/working/FindAccuracyAndLoss.py\u001b[0m in \u001b[0;36mfindAccuracyAndLoss\u001b[0;34m(framework, dataLoader, batchSize, paddingIndex)\u001b[0m\n\u001b[1;32m     38\u001b[0m \u001b[0;34m\u001b[0m\u001b[0m\n\u001b[1;32m     39\u001b[0m                 \u001b[0;34m'''run the encoder-decoder architecture with no teacher forcing (as we are in inference step)'''\u001b[0m\u001b[0;34m\u001b[0m\u001b[0;34m\u001b[0m\u001b[0m\n\u001b[0;32m---> 40\u001b[0;31m                 \u001b[0mmodelEval\u001b[0m\u001b[0;34m,\u001b[0m \u001b[0m_\u001b[0m \u001b[0;34m=\u001b[0m \u001b[0mframework\u001b[0m\u001b[0;34m(\u001b[0m\u001b[0minputSequence\u001b[0m\u001b[0;34m,\u001b[0m \u001b[0moutputSequence\u001b[0m\u001b[0;34m,\u001b[0m \u001b[0mteacherRatio\u001b[0m\u001b[0;34m=\u001b[0m\u001b[0;36m0.0\u001b[0m\u001b[0;34m)\u001b[0m\u001b[0;34m\u001b[0m\u001b[0;34m\u001b[0m\u001b[0m\n\u001b[0m\u001b[1;32m     41\u001b[0m \u001b[0;34m\u001b[0m\u001b[0m\n\u001b[1;32m     42\u001b[0m                 \u001b[0;34m'''calculate the correct predictions and loss for the current batch of data'''\u001b[0m\u001b[0;34m\u001b[0m\u001b[0;34m\u001b[0m\u001b[0m\n",
      "\u001b[0;32m/usr/local/lib/python3.11/dist-packages/torch/nn/modules/module.py\u001b[0m in \u001b[0;36m_wrapped_call_impl\u001b[0;34m(self, *args, **kwargs)\u001b[0m\n\u001b[1;32m   1737\u001b[0m             \u001b[0;32mreturn\u001b[0m \u001b[0mself\u001b[0m\u001b[0;34m.\u001b[0m\u001b[0m_compiled_call_impl\u001b[0m\u001b[0;34m(\u001b[0m\u001b[0;34m*\u001b[0m\u001b[0margs\u001b[0m\u001b[0;34m,\u001b[0m \u001b[0;34m**\u001b[0m\u001b[0mkwargs\u001b[0m\u001b[0;34m)\u001b[0m  \u001b[0;31m# type: ignore[misc]\u001b[0m\u001b[0;34m\u001b[0m\u001b[0;34m\u001b[0m\u001b[0m\n\u001b[1;32m   1738\u001b[0m         \u001b[0;32melse\u001b[0m\u001b[0;34m:\u001b[0m\u001b[0;34m\u001b[0m\u001b[0;34m\u001b[0m\u001b[0m\n\u001b[0;32m-> 1739\u001b[0;31m             \u001b[0;32mreturn\u001b[0m \u001b[0mself\u001b[0m\u001b[0;34m.\u001b[0m\u001b[0m_call_impl\u001b[0m\u001b[0;34m(\u001b[0m\u001b[0;34m*\u001b[0m\u001b[0margs\u001b[0m\u001b[0;34m,\u001b[0m \u001b[0;34m**\u001b[0m\u001b[0mkwargs\u001b[0m\u001b[0;34m)\u001b[0m\u001b[0;34m\u001b[0m\u001b[0;34m\u001b[0m\u001b[0m\n\u001b[0m\u001b[1;32m   1740\u001b[0m \u001b[0;34m\u001b[0m\u001b[0m\n\u001b[1;32m   1741\u001b[0m     \u001b[0;31m# torchrec tests the code consistency with the following code\u001b[0m\u001b[0;34m\u001b[0m\u001b[0;34m\u001b[0m\u001b[0m\n",
      "\u001b[0;32m/usr/local/lib/python3.11/dist-packages/torch/nn/modules/module.py\u001b[0m in \u001b[0;36m_call_impl\u001b[0;34m(self, *args, **kwargs)\u001b[0m\n\u001b[1;32m   1748\u001b[0m                 \u001b[0;32mor\u001b[0m \u001b[0m_global_backward_pre_hooks\u001b[0m \u001b[0;32mor\u001b[0m \u001b[0m_global_backward_hooks\u001b[0m\u001b[0;34m\u001b[0m\u001b[0;34m\u001b[0m\u001b[0m\n\u001b[1;32m   1749\u001b[0m                 or _global_forward_hooks or _global_forward_pre_hooks):\n\u001b[0;32m-> 1750\u001b[0;31m             \u001b[0;32mreturn\u001b[0m \u001b[0mforward_call\u001b[0m\u001b[0;34m(\u001b[0m\u001b[0;34m*\u001b[0m\u001b[0margs\u001b[0m\u001b[0;34m,\u001b[0m \u001b[0;34m**\u001b[0m\u001b[0mkwargs\u001b[0m\u001b[0;34m)\u001b[0m\u001b[0;34m\u001b[0m\u001b[0;34m\u001b[0m\u001b[0m\n\u001b[0m\u001b[1;32m   1751\u001b[0m \u001b[0;34m\u001b[0m\u001b[0m\n\u001b[1;32m   1752\u001b[0m         \u001b[0mresult\u001b[0m \u001b[0;34m=\u001b[0m \u001b[0;32mNone\u001b[0m\u001b[0;34m\u001b[0m\u001b[0;34m\u001b[0m\u001b[0m\n",
      "\u001b[0;32m/kaggle/working/CombinedModelArchitecture_Stack.py\u001b[0m in \u001b[0;36mforward\u001b[0;34m(self, englishSequence, bengaliSequence, teacherRatio)\u001b[0m\n\u001b[1;32m     64\u001b[0m                 \u001b[0mdecoderOutput\u001b[0m\u001b[0;34m,\u001b[0m \u001b[0minnerLayer\u001b[0m\u001b[0;34m,\u001b[0m \u001b[0mmodel\u001b[0m\u001b[0;34m,\u001b[0m \u001b[0m_\u001b[0m \u001b[0;34m=\u001b[0m \u001b[0mself\u001b[0m\u001b[0;34m.\u001b[0m\u001b[0mdecoderFramework\u001b[0m\u001b[0;34m(\u001b[0m\u001b[0mbatchData\u001b[0m\u001b[0;34m,\u001b[0m \u001b[0;32mNone\u001b[0m\u001b[0;34m,\u001b[0m \u001b[0minnerLayer\u001b[0m\u001b[0;34m,\u001b[0m \u001b[0mmodel\u001b[0m\u001b[0;34m)\u001b[0m\u001b[0;34m\u001b[0m\u001b[0;34m\u001b[0m\u001b[0m\n\u001b[1;32m     65\u001b[0m             \u001b[0;32melse\u001b[0m\u001b[0;34m:\u001b[0m\u001b[0;34m\u001b[0m\u001b[0;34m\u001b[0m\u001b[0m\n\u001b[0;32m---> 66\u001b[0;31m                 \u001b[0mdecoderOutput\u001b[0m\u001b[0;34m,\u001b[0m \u001b[0minnerLayer\u001b[0m\u001b[0;34m,\u001b[0m \u001b[0mmodel\u001b[0m\u001b[0;34m,\u001b[0m \u001b[0mattentionWeights\u001b[0m \u001b[0;34m=\u001b[0m \u001b[0mself\u001b[0m\u001b[0;34m.\u001b[0m\u001b[0mdecoderFramework\u001b[0m\u001b[0;34m(\u001b[0m\u001b[0mbatchData\u001b[0m\u001b[0;34m,\u001b[0m \u001b[0mencoderOutput\u001b[0m\u001b[0;34m,\u001b[0m \u001b[0minnerLayer\u001b[0m\u001b[0;34m,\u001b[0m \u001b[0mmodel\u001b[0m\u001b[0;34m)\u001b[0m\u001b[0;34m\u001b[0m\u001b[0;34m\u001b[0m\u001b[0m\n\u001b[0m\u001b[1;32m     67\u001b[0m             \u001b[0mmodelEval\u001b[0m\u001b[0;34m[\u001b[0m\u001b[0msequenceNumber\u001b[0m\u001b[0;34m]\u001b[0m \u001b[0;34m=\u001b[0m \u001b[0mdecoderOutput\u001b[0m\u001b[0;34m\u001b[0m\u001b[0;34m\u001b[0m\u001b[0m\n\u001b[1;32m     68\u001b[0m \u001b[0;34m\u001b[0m\u001b[0m\n",
      "\u001b[0;32m/usr/local/lib/python3.11/dist-packages/torch/nn/modules/module.py\u001b[0m in \u001b[0;36m_wrapped_call_impl\u001b[0;34m(self, *args, **kwargs)\u001b[0m\n\u001b[1;32m   1737\u001b[0m             \u001b[0;32mreturn\u001b[0m \u001b[0mself\u001b[0m\u001b[0;34m.\u001b[0m\u001b[0m_compiled_call_impl\u001b[0m\u001b[0;34m(\u001b[0m\u001b[0;34m*\u001b[0m\u001b[0margs\u001b[0m\u001b[0;34m,\u001b[0m \u001b[0;34m**\u001b[0m\u001b[0mkwargs\u001b[0m\u001b[0;34m)\u001b[0m  \u001b[0;31m# type: ignore[misc]\u001b[0m\u001b[0;34m\u001b[0m\u001b[0;34m\u001b[0m\u001b[0m\n\u001b[1;32m   1738\u001b[0m         \u001b[0;32melse\u001b[0m\u001b[0;34m:\u001b[0m\u001b[0;34m\u001b[0m\u001b[0;34m\u001b[0m\u001b[0m\n\u001b[0;32m-> 1739\u001b[0;31m             \u001b[0;32mreturn\u001b[0m \u001b[0mself\u001b[0m\u001b[0;34m.\u001b[0m\u001b[0m_call_impl\u001b[0m\u001b[0;34m(\u001b[0m\u001b[0;34m*\u001b[0m\u001b[0margs\u001b[0m\u001b[0;34m,\u001b[0m \u001b[0;34m**\u001b[0m\u001b[0mkwargs\u001b[0m\u001b[0;34m)\u001b[0m\u001b[0;34m\u001b[0m\u001b[0;34m\u001b[0m\u001b[0m\n\u001b[0m\u001b[1;32m   1740\u001b[0m \u001b[0;34m\u001b[0m\u001b[0m\n\u001b[1;32m   1741\u001b[0m     \u001b[0;31m# torchrec tests the code consistency with the following code\u001b[0m\u001b[0;34m\u001b[0m\u001b[0;34m\u001b[0m\u001b[0m\n",
      "\u001b[0;32m/usr/local/lib/python3.11/dist-packages/torch/nn/modules/module.py\u001b[0m in \u001b[0;36m_call_impl\u001b[0;34m(self, *args, **kwargs)\u001b[0m\n\u001b[1;32m   1748\u001b[0m                 \u001b[0;32mor\u001b[0m \u001b[0m_global_backward_pre_hooks\u001b[0m \u001b[0;32mor\u001b[0m \u001b[0m_global_backward_hooks\u001b[0m\u001b[0;34m\u001b[0m\u001b[0;34m\u001b[0m\u001b[0m\n\u001b[1;32m   1749\u001b[0m                 or _global_forward_hooks or _global_forward_pre_hooks):\n\u001b[0;32m-> 1750\u001b[0;31m             \u001b[0;32mreturn\u001b[0m \u001b[0mforward_call\u001b[0m\u001b[0;34m(\u001b[0m\u001b[0;34m*\u001b[0m\u001b[0margs\u001b[0m\u001b[0;34m,\u001b[0m \u001b[0;34m**\u001b[0m\u001b[0mkwargs\u001b[0m\u001b[0;34m)\u001b[0m\u001b[0;34m\u001b[0m\u001b[0;34m\u001b[0m\u001b[0m\n\u001b[0m\u001b[1;32m   1751\u001b[0m \u001b[0;34m\u001b[0m\u001b[0m\n\u001b[1;32m   1752\u001b[0m         \u001b[0mresult\u001b[0m \u001b[0;34m=\u001b[0m \u001b[0;32mNone\u001b[0m\u001b[0;34m\u001b[0m\u001b[0;34m\u001b[0m\u001b[0m\n",
      "\u001b[0;32m/kaggle/working/DecoderArchitecture_Forward.py\u001b[0m in \u001b[0;36mforward\u001b[0;34m(self, batchData, encoderOutput, innerLayer, model)\u001b[0m\n\u001b[1;32m     62\u001b[0m                 \u001b[0mmodelEval\u001b[0m\u001b[0;34m,\u001b[0m \u001b[0;34m(\u001b[0m\u001b[0minnerLayer\u001b[0m\u001b[0;34m,\u001b[0m \u001b[0mmodel\u001b[0m\u001b[0;34m)\u001b[0m \u001b[0;34m=\u001b[0m \u001b[0mself\u001b[0m\u001b[0;34m.\u001b[0m\u001b[0mmodel\u001b[0m\u001b[0;34m(\u001b[0m\u001b[0mconcatenatedInput\u001b[0m\u001b[0;34m,\u001b[0m \u001b[0;34m(\u001b[0m\u001b[0minnerLayer\u001b[0m\u001b[0;34m,\u001b[0m \u001b[0mmodel\u001b[0m\u001b[0;34m)\u001b[0m\u001b[0;34m)\u001b[0m\u001b[0;34m\u001b[0m\u001b[0;34m\u001b[0m\u001b[0m\n\u001b[1;32m     63\u001b[0m             \u001b[0;32melse\u001b[0m\u001b[0;34m:\u001b[0m\u001b[0;34m\u001b[0m\u001b[0;34m\u001b[0m\u001b[0m\n\u001b[0;32m---> 64\u001b[0;31m                 \u001b[0mmodelEval\u001b[0m\u001b[0;34m,\u001b[0m \u001b[0minnerLayer\u001b[0m \u001b[0;34m=\u001b[0m \u001b[0mself\u001b[0m\u001b[0;34m.\u001b[0m\u001b[0mmodel\u001b[0m\u001b[0;34m(\u001b[0m\u001b[0mconcatenatedInput\u001b[0m\u001b[0;34m,\u001b[0m \u001b[0minnerLayer\u001b[0m\u001b[0;34m)\u001b[0m\u001b[0;34m\u001b[0m\u001b[0;34m\u001b[0m\u001b[0m\n\u001b[0m\u001b[1;32m     65\u001b[0m             \u001b[0mconcatenatedInput\u001b[0m \u001b[0;34m=\u001b[0m \u001b[0mUtilities_Tensor\u001b[0m\u001b[0;34m.\u001b[0m\u001b[0mconcatenateTensor\u001b[0m\u001b[0;34m(\u001b[0m\u001b[0mmodelEval\u001b[0m\u001b[0;34m,\u001b[0m \u001b[0mattentionIntoDecoder\u001b[0m\u001b[0;34m,\u001b[0m \u001b[0;36m2\u001b[0m\u001b[0;34m)\u001b[0m\u001b[0;34m\u001b[0m\u001b[0;34m\u001b[0m\u001b[0m\n\u001b[1;32m     66\u001b[0m             \u001b[0;34m'''get decoder outputs by passing through the fully connected layer'''\u001b[0m\u001b[0;34m\u001b[0m\u001b[0;34m\u001b[0m\u001b[0m\n",
      "\u001b[0;32m/usr/local/lib/python3.11/dist-packages/torch/nn/modules/module.py\u001b[0m in \u001b[0;36m_wrapped_call_impl\u001b[0;34m(self, *args, **kwargs)\u001b[0m\n\u001b[1;32m   1737\u001b[0m             \u001b[0;32mreturn\u001b[0m \u001b[0mself\u001b[0m\u001b[0;34m.\u001b[0m\u001b[0m_compiled_call_impl\u001b[0m\u001b[0;34m(\u001b[0m\u001b[0;34m*\u001b[0m\u001b[0margs\u001b[0m\u001b[0;34m,\u001b[0m \u001b[0;34m**\u001b[0m\u001b[0mkwargs\u001b[0m\u001b[0;34m)\u001b[0m  \u001b[0;31m# type: ignore[misc]\u001b[0m\u001b[0;34m\u001b[0m\u001b[0;34m\u001b[0m\u001b[0m\n\u001b[1;32m   1738\u001b[0m         \u001b[0;32melse\u001b[0m\u001b[0;34m:\u001b[0m\u001b[0;34m\u001b[0m\u001b[0;34m\u001b[0m\u001b[0m\n\u001b[0;32m-> 1739\u001b[0;31m             \u001b[0;32mreturn\u001b[0m \u001b[0mself\u001b[0m\u001b[0;34m.\u001b[0m\u001b[0m_call_impl\u001b[0m\u001b[0;34m(\u001b[0m\u001b[0;34m*\u001b[0m\u001b[0margs\u001b[0m\u001b[0;34m,\u001b[0m \u001b[0;34m**\u001b[0m\u001b[0mkwargs\u001b[0m\u001b[0;34m)\u001b[0m\u001b[0;34m\u001b[0m\u001b[0;34m\u001b[0m\u001b[0m\n\u001b[0m\u001b[1;32m   1740\u001b[0m \u001b[0;34m\u001b[0m\u001b[0m\n\u001b[1;32m   1741\u001b[0m     \u001b[0;31m# torchrec tests the code consistency with the following code\u001b[0m\u001b[0;34m\u001b[0m\u001b[0;34m\u001b[0m\u001b[0m\n",
      "\u001b[0;32m/usr/local/lib/python3.11/dist-packages/torch/nn/modules/module.py\u001b[0m in \u001b[0;36m_call_impl\u001b[0;34m(self, *args, **kwargs)\u001b[0m\n\u001b[1;32m   1748\u001b[0m                 \u001b[0;32mor\u001b[0m \u001b[0m_global_backward_pre_hooks\u001b[0m \u001b[0;32mor\u001b[0m \u001b[0m_global_backward_hooks\u001b[0m\u001b[0;34m\u001b[0m\u001b[0;34m\u001b[0m\u001b[0m\n\u001b[1;32m   1749\u001b[0m                 or _global_forward_hooks or _global_forward_pre_hooks):\n\u001b[0;32m-> 1750\u001b[0;31m             \u001b[0;32mreturn\u001b[0m \u001b[0mforward_call\u001b[0m\u001b[0;34m(\u001b[0m\u001b[0;34m*\u001b[0m\u001b[0margs\u001b[0m\u001b[0;34m,\u001b[0m \u001b[0;34m**\u001b[0m\u001b[0mkwargs\u001b[0m\u001b[0;34m)\u001b[0m\u001b[0;34m\u001b[0m\u001b[0;34m\u001b[0m\u001b[0m\n\u001b[0m\u001b[1;32m   1751\u001b[0m \u001b[0;34m\u001b[0m\u001b[0m\n\u001b[1;32m   1752\u001b[0m         \u001b[0mresult\u001b[0m \u001b[0;34m=\u001b[0m \u001b[0;32mNone\u001b[0m\u001b[0;34m\u001b[0m\u001b[0;34m\u001b[0m\u001b[0m\n",
      "\u001b[0;32m/usr/local/lib/python3.11/dist-packages/torch/nn/modules/rnn.py\u001b[0m in \u001b[0;36mforward\u001b[0;34m(self, input, hx)\u001b[0m\n\u001b[1;32m   1391\u001b[0m         \u001b[0mself\u001b[0m\u001b[0;34m.\u001b[0m\u001b[0mcheck_forward_args\u001b[0m\u001b[0;34m(\u001b[0m\u001b[0minput\u001b[0m\u001b[0;34m,\u001b[0m \u001b[0mhx\u001b[0m\u001b[0;34m,\u001b[0m \u001b[0mbatch_sizes\u001b[0m\u001b[0;34m)\u001b[0m\u001b[0;34m\u001b[0m\u001b[0;34m\u001b[0m\u001b[0m\n\u001b[1;32m   1392\u001b[0m         \u001b[0;32mif\u001b[0m \u001b[0mbatch_sizes\u001b[0m \u001b[0;32mis\u001b[0m \u001b[0;32mNone\u001b[0m\u001b[0;34m:\u001b[0m\u001b[0;34m\u001b[0m\u001b[0;34m\u001b[0m\u001b[0m\n\u001b[0;32m-> 1393\u001b[0;31m             result = _VF.gru(\n\u001b[0m\u001b[1;32m   1394\u001b[0m                 \u001b[0minput\u001b[0m\u001b[0;34m,\u001b[0m\u001b[0;34m\u001b[0m\u001b[0;34m\u001b[0m\u001b[0m\n\u001b[1;32m   1395\u001b[0m                 \u001b[0mhx\u001b[0m\u001b[0;34m,\u001b[0m\u001b[0;34m\u001b[0m\u001b[0;34m\u001b[0m\u001b[0m\n",
      "\u001b[0;31mKeyboardInterrupt\u001b[0m: "
     ]
    }
   ],
   "source": [
    "import wandb\n",
    "import warnings\n",
    "warnings.filterwarnings(\"ignore\")\n",
    "import argparse\n",
    "from LoadDataset_Test import DatasetLoad\n",
    "from PrepareVocabulary_Final import PrepareVocabulary\n",
    "from WordEmbeddings_Create import WordEmbeddings\n",
    "from ModelTrainDriver_Framework import Model\n",
    "import ModelForTestAttention_Run\n",
    "import ModelForTest_Run\n",
    "import Heatmap_Run\n",
    "import Utilities_Tensor\n",
    "import Utilities_Sequence\n",
    "import train_arguments\n",
    "import itertools\n",
    "import torch.utils as utils\n",
    "import random\n",
    "import os\n",
    "\n",
    "'''login to wandb to generate plot'''\n",
    "wandb.login()\n",
    "\n",
    "'''main driver function'''\n",
    "def main():\n",
    "    '''default values of each of the hyperparameter. it is set according to the config of my best model'''\n",
    "    project_name = 'Debasmita-DA6401-Assignment-3'\n",
    "    entity_name = 'cs24m015-indian-institute-of-technology-madras' \n",
    "    modelType = \"GRU\"\n",
    "    embeddingSize = 16\n",
    "    neruonsInFC = 128\n",
    "    layersInEncoder = 3\n",
    "    layersInDecoder = 1\n",
    "    bidirectional = \"NO\"\n",
    "    learningRate = 0.001\n",
    "    epochs = 10\n",
    "    batchSize = 64\n",
    "    dropoutProb = 0.2\n",
    "    test = 1\n",
    "    root = '/kaggle/input/dataset/Dakshina/bn/lexicons'\n",
    "    attention = 1\n",
    "    heatmap = 1\n",
    "    fontName = '/kaggle/input/bengalifont/BengaliFont.ttf'\n",
    "\n",
    "    '''call to argument function to get the arguments'''\n",
    "    argumentsPassed = train_arguments.arguments()\n",
    "\n",
    "    '''checking if a particular argument is passed through command line or not and updating the values accordingly'''\n",
    "    if argumentsPassed.wandb_project is not None:\n",
    "        project_name = argumentsPassed.wandb_project\n",
    "    if argumentsPassed.wandb_entity is not None:\n",
    "        entity_name = argumentsPassed.wandb_entity\n",
    "    if argumentsPassed.cell is not None:\n",
    "        modelType = argumentsPassed.cell\n",
    "    if argumentsPassed.embedding is not None:\n",
    "        embeddingSize = argumentsPassed.embedding\n",
    "    if argumentsPassed.neurons is not None:\n",
    "        neruonsInFC = argumentsPassed.neurons\n",
    "    if argumentsPassed.encoder is not None:\n",
    "        layersInEncoder = argumentsPassed.encoder\n",
    "    if argumentsPassed.decoder is not None:\n",
    "        layersInDecoder = argumentsPassed.decoder\n",
    "    if argumentsPassed.bidir is not None:\n",
    "        bidirectional = argumentsPassed.bidir\n",
    "    if argumentsPassed.epochs is not None:\n",
    "        epochs = argumentsPassed.epochs\n",
    "    if argumentsPassed.batch is not None:\n",
    "        batchSize = argumentsPassed.batch\n",
    "    if argumentsPassed.dropout is not None:\n",
    "        dropoutProb = argumentsPassed.dropout\n",
    "    if argumentsPassed.test is not None:\n",
    "        test = argumentsPassed.test\n",
    "    if argumentsPassed.root is not None:\n",
    "        root = argumentsPassed.root\n",
    "    if argumentsPassed.attention is not None:\n",
    "        attention = argumentsPassed.attention\n",
    "    if argumentsPassed.heat is not None:\n",
    "        heatmap = argumentsPassed.heat\n",
    "    if argumentsPassed.font is not None:\n",
    "        fontName = argumentsPassed.font\n",
    "\n",
    "    '''initializing to the project'''\n",
    "    wandb.init(project=project_name, entity=entity_name)\n",
    "\n",
    "    '''calling the functions with the parameters'''\n",
    "    if attention == 0:\n",
    "        run = f\"EP_{epochs}_CELL_{modelType}_EMB_{embeddingSize}_ENC_{layersInEncoder}_DEC_{layersInDecoder}_FC_{neruonsInFC}_DRP_{dropoutProb}_BS_{batchSize}_BIDIREC_{bidirectional}\"\n",
    "    else:\n",
    "        run = f\"ATT_YES_EP_{epochs}_CELL_{modelType}_EMB_{embeddingSize}_ENC_{layersInEncoder}_DEC_{layersInDecoder}_FC_{neruonsInFC}_DRP_{dropoutProb}_BS_{batchSize}_BIDIREC_{bidirectional}\"\n",
    "    print(f\"run name = {run}\")\n",
    "    wandb.run.name = run\n",
    "\n",
    "    Train.runTrain(root, epochs, batchSize, test, attention, heatmap, modelType, embeddingSize, layersInEncoder, layersInDecoder, neruonsInFC, bidirectional, dropoutProb, learningRate, fontName)\n",
    "    wandb.finish()\n",
    "\n",
    "\n",
    "class Train:\n",
    "    def runTrain(\n",
    "        root, epochs, batchSize, test, attention, heatmap,\n",
    "        modelType, embeddingSize, layersInEncoder, layersInDecoder,\n",
    "        neruonsInFC, bidirectional, dropoutProb, learningRate, fontName\n",
    "    ):\n",
    "        '''loads dataset'''\n",
    "        lang = os.path.basename(os.path.dirname(root))\n",
    "        d = DatasetLoad()\n",
    "        d.loadDataset(root, lang)\n",
    "        d.loadTestDataset(root, lang)\n",
    "        \n",
    "        '''creates vocabulary from the dataset'''\n",
    "        vocabulary = PrepareVocabulary()\n",
    "        vocabulary.createVocabulary(d.train_dataset)\n",
    "\n",
    "        '''create embeddings of words for train, validation and test dataset'''\n",
    "        embeddingTrain = WordEmbeddings()\n",
    "        embeddingTrain.createWordEmbeddings(d.train_dataset, vocabulary)\n",
    "\n",
    "        embeddingVal = WordEmbeddings()\n",
    "        embeddingVal.createWordEmbeddings(d.val_dataset, vocabulary)\n",
    "\n",
    "        embeddingTest = WordEmbeddings()\n",
    "        embeddingTest.createWordEmbeddings(d.test_dataset, vocabulary)\n",
    "\n",
    "        '''create the dataloaders'''\n",
    "        trainEmbeddedDataset = utils.data.TensorDataset(\n",
    "            embeddingTrain.englishEmbedding,\n",
    "            embeddingTrain.bengaliEmbedding\n",
    "        )\n",
    "        trainEmbeddedDataLoader = utils.data.DataLoader(\n",
    "            trainEmbeddedDataset, batch_size=64, shuffle=True\n",
    "        )\n",
    "\n",
    "        valEmbeddedDataset = utils.data.TensorDataset(\n",
    "            embeddingVal.englishEmbedding,\n",
    "            embeddingVal.bengaliEmbedding\n",
    "        )\n",
    "        valEmbeddedDataLoader = utils.data.DataLoader(\n",
    "            valEmbeddedDataset, batch_size=64\n",
    "        )\n",
    "\n",
    "        testEmbeddedDataset = utils.data.TensorDataset(\n",
    "            embeddingTest.englishEmbedding,\n",
    "            embeddingTest.bengaliEmbedding\n",
    "        )\n",
    "        testEmbeddedDataset = utils.data.DataLoader(\n",
    "            testEmbeddedDataset, batch_size=64\n",
    "        )\n",
    "\n",
    "        '''create an object of the encoder-decoder architecture with the best configuration for attention based model'''\n",
    "        myModel = Model(\n",
    "            vocabulary, trainEmbeddedDataLoader, valEmbeddedDataLoader,\n",
    "            test=test, attention=attention, trainPy=1\n",
    "        )\n",
    "        framework = myModel.createModelFramework(\n",
    "            modelType=modelType,\n",
    "            embeddingSize=embeddingSize,\n",
    "            neruonsInFC=neruonsInFC,\n",
    "            layersInEncoder=layersInEncoder,\n",
    "            layersInDecoder=layersInDecoder,\n",
    "            dropout=dropoutProb,\n",
    "            bidirectional=bidirectional,\n",
    "            learningRate=learningRate,\n",
    "            epochs=epochs,\n",
    "            batchSize=batchSize\n",
    "        )\n",
    "\n",
    "        '''if prompted then do testing'''\n",
    "        if test == 1:\n",
    "            if attention == 1:\n",
    "                '''call the function which calculates the accuracy and loss'''\n",
    "                paramList = [\n",
    "                    framework, testEmbeddedDataset, d.test_dataframe,\n",
    "                    64, vocabulary.paddingIndex,\n",
    "                    vocabulary.endOfSequenceIndex,\n",
    "                    vocabulary.indexToCharDictForBengali\n",
    "                ]\n",
    "                ModelForTestAttention_Run.RunTestOnBestModel.testAndGivePredictions(\n",
    "                    paramList, trainPy=1\n",
    "                )\n",
    "\n",
    "                '''if required then plot the heatmap'''\n",
    "                if heatmap == 1:\n",
    "                    englishLength = embeddingTest.englishEmbedding.size(1)\n",
    "                    bengaliLength = embeddingTest.bengaliEmbedding.size(1)\n",
    "\n",
    "                    requiredIndices = random.sample(range(4097), 9)\n",
    "\n",
    "                    '''create zero tensros for stroing the words'''\n",
    "                    englishWords = Utilities_Tensor.getLongZeroTensor(\n",
    "                        len(requiredIndices), englishLength\n",
    "                    )\n",
    "                    bengaliWords = Utilities_Tensor.getLongZeroTensor(\n",
    "                        len(requiredIndices), bengaliLength\n",
    "                    )\n",
    "\n",
    "                    '''store 9 source and their corresponding target words to create heatmap'''\n",
    "                    for heatmapIndex, position in enumerate(requiredIndices):\n",
    "                        batchPosition = Utilities_Sequence.getBatchFloorValue(position, 64)\n",
    "                        datasetPosition = position - batchPosition * 64\n",
    "                        data = next(\n",
    "                            itertools.islice(testEmbeddedDataset, batchPosition, None)\n",
    "                        )\n",
    "                        englishWord, bengaliWord = data[0][datasetPosition], data[1][datasetPosition]\n",
    "                        englishWords[heatmapIndex] = englishWord\n",
    "                        bengaliWords[heatmapIndex] = bengaliWord\n",
    "                        heatmapIndex += 1\n",
    "                    Heatmap_Run.plotAttn(\n",
    "                        framework, englishWords, bengaliWords,\n",
    "                        vocabulary, trainPy=1, fontName=fontName\n",
    "                    )\n",
    "            else:\n",
    "                '''call the function which calculates the accuracy and loss'''\n",
    "                paramList = [\n",
    "                    framework, testEmbeddedDataset, d.test_dataframe,\n",
    "                    64, vocabulary.paddingIndex,\n",
    "                    vocabulary.endOfSequenceIndex,\n",
    "                    vocabulary.indexToCharDictForBengali\n",
    "                ]\n",
    "                ModelForTest_Run.RunTestOnBestModel.testAndGivePredictions(paramList, trainPy=1)\n",
    "\n",
    "\n",
    "\n",
    "if __name__ == '__main__':\n",
    "    main()"
   ]
  },
  {
   "cell_type": "code",
   "execution_count": null,
   "metadata": {
    "trusted": true
   },
   "outputs": [],
   "source": []
  }
 ],
 "metadata": {
  "kaggle": {
   "accelerator": "nvidiaTeslaT4",
   "dataSources": [
    {
     "datasetId": 7422406,
     "sourceId": 11817144,
     "sourceType": "datasetVersion"
    },
    {
     "datasetId": 7438495,
     "sourceId": 11839364,
     "sourceType": "datasetVersion"
    },
    {
     "datasetId": 7442230,
     "sourceId": 11844965,
     "sourceType": "datasetVersion"
    },
    {
     "datasetId": 7442308,
     "sourceId": 11845069,
     "sourceType": "datasetVersion"
    },
    {
     "datasetId": 7442457,
     "sourceId": 11845300,
     "sourceType": "datasetVersion"
    },
    {
     "datasetId": 7442544,
     "sourceId": 11845413,
     "sourceType": "datasetVersion"
    },
    {
     "datasetId": 7442693,
     "sourceId": 11845625,
     "sourceType": "datasetVersion"
    }
   ],
   "dockerImageVersionId": 31041,
   "isGpuEnabled": true,
   "isInternetEnabled": true,
   "language": "python",
   "sourceType": "notebook"
  },
  "kernelspec": {
   "display_name": "Python 3",
   "language": "python",
   "name": "python3"
  },
  "language_info": {
   "codemirror_mode": {
    "name": "ipython",
    "version": 3
   },
   "file_extension": ".py",
   "mimetype": "text/x-python",
   "name": "python",
   "nbconvert_exporter": "python",
   "pygments_lexer": "ipython3",
   "version": "3.11.11"
  }
 },
 "nbformat": 4,
 "nbformat_minor": 4
}
