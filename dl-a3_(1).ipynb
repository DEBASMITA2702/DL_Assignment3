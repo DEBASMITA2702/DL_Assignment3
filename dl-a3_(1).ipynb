{
 "cells": [
  {
   "cell_type": "code",
   "execution_count": null,
   "metadata": {
    "execution": {
     "iopub.execute_input": "2025-05-17T05:32:00.489780Z",
     "iopub.status.busy": "2025-05-17T05:32:00.489502Z",
     "iopub.status.idle": "2025-05-17T05:32:06.914347Z",
     "shell.execute_reply": "2025-05-17T05:32:06.913597Z",
     "shell.execute_reply.started": "2025-05-17T05:32:00.489757Z"
    },
    "trusted": true
   },
   "outputs": [
    {
     "name": "stdout",
     "output_type": "stream",
     "text": [
      "\u001b[34m\u001b[1mwandb\u001b[0m: \u001b[33mWARNING\u001b[0m If you're specifying your api key in code, ensure this code is not shared publicly.\n",
      "\u001b[34m\u001b[1mwandb\u001b[0m: \u001b[33mWARNING\u001b[0m Consider setting the WANDB_API_KEY environment variable, or running `wandb login` from the command line.\n",
      "\u001b[34m\u001b[1mwandb\u001b[0m: No netrc file found, creating one.\n",
      "\u001b[34m\u001b[1mwandb\u001b[0m: Appending key for api.wandb.ai to your netrc file: /root/.netrc\n",
      "\u001b[34m\u001b[1mwandb\u001b[0m: W&B API key is configured. Use \u001b[1m`wandb login --relogin`\u001b[0m to force relogin\n"
     ]
    }
   ],
   "source": [
    "import wandb\n",
    "!wandb login # Enter your API key here"
   ]
  },
  {
   "cell_type": "code",
   "execution_count": 2,
   "metadata": {
    "execution": {
     "iopub.execute_input": "2025-05-17T05:32:07.924031Z",
     "iopub.status.busy": "2025-05-17T05:32:07.923351Z",
     "iopub.status.idle": "2025-05-17T05:32:07.930813Z",
     "shell.execute_reply": "2025-05-17T05:32:07.930083Z",
     "shell.execute_reply.started": "2025-05-17T05:32:07.924001Z"
    },
    "trusted": true
   },
   "outputs": [
    {
     "name": "stdout",
     "output_type": "stream",
     "text": [
      "Writing WordEmbeddings_Translate.py\n"
     ]
    }
   ],
   "source": [
    "%%writefile WordEmbeddings_Translate.py\n",
    "import torch\n",
    "import torch.nn as nn\n",
    "\n",
    "class WordEmbeddings:\n",
    "    def translateWordToTensor(self, word, vocabulary, language):\n",
    "        '''\n",
    "            Parameters:\n",
    "                word : word on which to create the embeddings\n",
    "                vocabulary : vocabulary of the dataset\n",
    "                language : language of the dataset\n",
    "            Returns :\n",
    "                trans : embedding of the word\n",
    "            Function:\n",
    "                Generates the embeddings\n",
    "        '''\n",
    "        tensorList = list()\n",
    "        if language == \"english\":\n",
    "            tensorList.append(\n",
    "                vocabulary.charToIndexDictForEnglish[vocabulary.startOfSequenceToken]\n",
    "            )\n",
    "        else:\n",
    "            tensorList.append(\n",
    "                vocabulary.charToIndexDictForBengali[vocabulary.startOfSequenceToken]\n",
    "            )\n",
    "\n",
    "        for one_char in word:\n",
    "            if language == \"english\":\n",
    "                tensorList.append(vocabulary.charToIndexDictForEnglish[one_char])\n",
    "            else:\n",
    "                tensorList.append(vocabulary.charToIndexDictForBengali[one_char])\n",
    "\n",
    "        if language == \"english\":\n",
    "            tensorList.append(\n",
    "                vocabulary.charToIndexDictForEnglish[vocabulary.endOfSequenceToken]\n",
    "            )\n",
    "        else:\n",
    "            tensorList.append(\n",
    "                vocabulary.charToIndexDictForBengali[vocabulary.endOfSequenceToken]\n",
    "            )\n",
    "\n",
    "        trans = torch.tensor(tensorList, dtype=torch.int64)\n",
    "        return trans"
   ]
  },
  {
   "cell_type": "code",
   "execution_count": 3,
   "metadata": {
    "execution": {
     "iopub.execute_input": "2025-05-17T05:32:09.093465Z",
     "iopub.status.busy": "2025-05-17T05:32:09.092893Z",
     "iopub.status.idle": "2025-05-17T05:32:09.098174Z",
     "shell.execute_reply": "2025-05-17T05:32:09.097525Z",
     "shell.execute_reply.started": "2025-05-17T05:32:09.093443Z"
    },
    "trusted": true
   },
   "outputs": [
    {
     "name": "stdout",
     "output_type": "stream",
     "text": [
      "Writing WordEmbeddings_Create.py\n"
     ]
    }
   ],
   "source": [
    "%%writefile WordEmbeddings_Create.py\n",
    "import Utilities_Device_Trainings\n",
    "import torch\n",
    "import torch.nn as nn\n",
    "from WordEmbeddings_Translate import WordEmbeddings as BaseWordEmbeddings\n",
    "\n",
    "class WordEmbeddings(BaseWordEmbeddings):\n",
    "\n",
    "    '''class to create the word embeddings'''\n",
    "    def createWordEmbeddings(self, dataset, vocabulary):\n",
    "        '''\n",
    "            Parameters:\n",
    "                dataset : dataset on which to create the embeddings\n",
    "                vocabulary : vocabulary of the dataset\n",
    "            Returns :\n",
    "                None\n",
    "            Function:\n",
    "                Creates embeddings of the words\n",
    "        '''\n",
    "        englishDataset = dataset[:, 0]\n",
    "        bengaliDataset = dataset[:, 1]\n",
    "\n",
    "        tensorListEnglish = list()\n",
    "        tensorListBengali = list()\n",
    "\n",
    "        '''embeddings for source language'''\n",
    "        language = \"english\"\n",
    "        for one_word in englishDataset:\n",
    "            tensor = self.translateWordToTensor(one_word, vocabulary, language)\n",
    "            tensor = Utilities_Device_Trainings.setDevice(tensor)\n",
    "            tensorListEnglish.append(tensor)\n",
    "        self.englishEmbedding = nn.utils.rnn.pad_sequence(\n",
    "            tensorListEnglish,\n",
    "            padding_value=vocabulary.paddingIndex,\n",
    "            batch_first=True\n",
    "        )\n",
    "        self.englishEmbedding = Utilities_Device_Trainings.setDevice(self.englishEmbedding)\n",
    "\n",
    "        '''embeddings for target language'''\n",
    "        language = \"bengali\"\n",
    "        for one_word in bengaliDataset:\n",
    "            tensor = self.translateWordToTensor(one_word, vocabulary, language)\n",
    "            tensor = Utilities_Device_Trainings.setDevice(tensor)\n",
    "            tensorListBengali.append(tensor)\n",
    "        self.bengaliEmbedding = nn.utils.rnn.pad_sequence(\n",
    "            tensorListBengali,\n",
    "            padding_value=vocabulary.paddingIndex,\n",
    "            batch_first=True\n",
    "        )\n",
    "        self.bengaliEmbedding = Utilities_Device_Trainings.setDevice(self.bengaliEmbedding)"
   ]
  },
  {
   "cell_type": "code",
   "execution_count": 4,
   "metadata": {
    "execution": {
     "iopub.execute_input": "2025-05-17T05:32:10.043971Z",
     "iopub.status.busy": "2025-05-17T05:32:10.043382Z",
     "iopub.status.idle": "2025-05-17T05:32:10.049052Z",
     "shell.execute_reply": "2025-05-17T05:32:10.048312Z",
     "shell.execute_reply.started": "2025-05-17T05:32:10.043948Z"
    },
    "trusted": true
   },
   "outputs": [
    {
     "name": "stdout",
     "output_type": "stream",
     "text": [
      "Writing EncoderArchitecture.py\n"
     ]
    }
   ],
   "source": [
    "%%writefile EncoderArchitecture.py\n",
    "import Utilities_Layer\n",
    "import torch.nn as nn\n",
    "\n",
    "'''class to represent the encoder architecture'''\n",
    "class EncoderStack(nn.Module):\n",
    "\n",
    "    '''constructor to intialize the class parameters'''\n",
    "    def __init__(self, argList):\n",
    "        '''inherit the constructor of the parent class'''\n",
    "        super(EncoderStack, self).__init__()\n",
    "        '''set all the class parameters based on the arguments passed'''\n",
    "        modelType = argList[0]\n",
    "        encoderInputSize = argList[1]\n",
    "        embeddingSize = argList[2]\n",
    "        neruonsInFC = argList[3]\n",
    "        layersInEncoder = argList[4]\n",
    "        dropout = argList[5]\n",
    "        biDirectional = argList[6]\n",
    "        attention = argList[7]\n",
    "\n",
    "        self.neruonsInFC = neruonsInFC\n",
    "        self.layersInEncoder = layersInEncoder\n",
    "        if biDirectional == \"YES\":\n",
    "            self.biDirect = True\n",
    "        else:\n",
    "            self.biDirect = False\n",
    "        self.attention = attention\n",
    "\n",
    "        '''select the cell type based on the value passed in argument'''\n",
    "        model_dict = {\"LSTM\": nn.LSTM, \"GRU\": nn.GRU, \"RNN\": nn.RNN}\n",
    "        modelObj = model_dict.get(modelType)\n",
    "\n",
    "        '''do not apply dropout if only one layer is present'''\n",
    "        if self.layersInEncoder == 1:\n",
    "            self.dropout = Utilities_Layer.createDropoutLayer(0.0)\n",
    "            self.model = modelObj(embeddingSize, self.neruonsInFC, self.layersInEncoder, dropout=0.0, bidirectional=self.biDirect)\n",
    "        else:\n",
    "            self.dropout = Utilities_Layer.createDropoutLayer(dropout)\n",
    "            self.model = modelObj(embeddingSize, self.neruonsInFC, self.layersInEncoder, dropout=dropout, bidirectional=self.biDirect)\n",
    "\n",
    "        '''create ambedding layer'''\n",
    "        self.embeddingLayer = Utilities_Layer.createEmbeddingLayer(encoderInputSize, embeddingSize)"
   ]
  },
  {
   "cell_type": "code",
   "execution_count": 5,
   "metadata": {
    "execution": {
     "iopub.execute_input": "2025-05-17T05:32:11.205138Z",
     "iopub.status.busy": "2025-05-17T05:32:11.204336Z",
     "iopub.status.idle": "2025-05-17T05:32:11.212687Z",
     "shell.execute_reply": "2025-05-17T05:32:11.212006Z",
     "shell.execute_reply.started": "2025-05-17T05:32:11.205102Z"
    },
    "trusted": true
   },
   "outputs": [
    {
     "name": "stdout",
     "output_type": "stream",
     "text": [
      "Writing EncoderArchitecture_Forward.py\n"
     ]
    }
   ],
   "source": [
    "%%writefile EncoderArchitecture_Forward.py\n",
    "import Utilities_Tensor\n",
    "import torch.nn as nn\n",
    "from EncoderArchitecture import EncoderStack as BaseEncoderStack\n",
    "\n",
    "'''class to add forward propagation to the encoder architecture'''\n",
    "class EncoderStack(BaseEncoderStack):\n",
    "\n",
    "    def forward(self, batchData):\n",
    "        '''\n",
    "            Parameters:\n",
    "                batchData : data sent in batches (as a 2D tensor)\n",
    "            Returns :\n",
    "                modelEval : output from the current state of the encoder\n",
    "                innerLayer : hidden layers representation\n",
    "                model : the object of the combined architecture with updated parameters\n",
    "            Function:\n",
    "                Performs forward propagation in the architecture\n",
    "        '''\n",
    "\n",
    "        '''sets embedding layer'''\n",
    "        embeddedBatch = self.embeddingLayer(batchData)\n",
    "        embeddedBatch = self.dropout(embeddedBatch)\n",
    "        model = None\n",
    "\n",
    "        '''create the gates for LSTM'''\n",
    "        if isinstance(self.model, nn.LSTM):\n",
    "            modelEval, (innerLayer, model) = self.model(embeddedBatch)\n",
    "            '''implement bidirectional architecture'''\n",
    "            if self.biDirect:\n",
    "                batchSize = model.size(1)\n",
    "                model = Utilities_Tensor.resizeTensor(model, self.layersInEncoder, 2, batchSize, -1)\n",
    "                model = Utilities_Tensor.reverseTensor(model)\n",
    "                model = Utilities_Tensor.getMean(model)\n",
    "            else:\n",
    "                model = model[-1, :, :]\n",
    "            model = Utilities_Tensor.increaseDimension(model)\n",
    "        else:\n",
    "            modelEval, innerLayer = self.model(embeddedBatch)\n",
    "\n",
    "        '''check and implement bidirectional architecture'''\n",
    "        if self.biDirect:\n",
    "            batchSize = innerLayer.size(1)\n",
    "            innerLayer = Utilities_Tensor.resizeTensor(innerLayer, self.layersInEncoder, 2, batchSize, -1)\n",
    "            innerLayer = Utilities_Tensor.reverseTensor(innerLayer)\n",
    "            innerLayer = Utilities_Tensor.getMean(innerLayer)\n",
    "            '''apply attention'''\n",
    "            if self.attention == 1:\n",
    "                modelEval = Utilities_Tensor.addTensor(modelEval[:, :, :self.neruonsInFC], modelEval[:, :, self.neruonsInFC:])\n",
    "        else:\n",
    "            innerLayer = innerLayer[-1, :, :]\n",
    "\n",
    "        innerLayer = Utilities_Tensor.increaseDimension(innerLayer)\n",
    "\n",
    "        return modelEval, innerLayer, model"
   ]
  },
  {
   "cell_type": "code",
   "execution_count": 6,
   "metadata": {
    "execution": {
     "iopub.execute_input": "2025-05-17T05:32:12.351618Z",
     "iopub.status.busy": "2025-05-17T05:32:12.351351Z",
     "iopub.status.idle": "2025-05-17T05:32:12.357251Z",
     "shell.execute_reply": "2025-05-17T05:32:12.356695Z",
     "shell.execute_reply.started": "2025-05-17T05:32:12.351599Z"
    },
    "trusted": true
   },
   "outputs": [
    {
     "name": "stdout",
     "output_type": "stream",
     "text": [
      "Writing DecoderArchitecture.py\n"
     ]
    }
   ],
   "source": [
    "%%writefile DecoderArchitecture.py\n",
    "import Utilities_Layer\n",
    "import torch.nn as nn\n",
    "\n",
    "'''class to represent the decoder architecture'''\n",
    "class DecoderStack(nn.Module):\n",
    "\n",
    "    '''constructor to intialize the class parameters'''\n",
    "    def __init__(self, argList):\n",
    "        '''inherit the constructor of the parent class'''\n",
    "        super(DecoderStack, self).__init__()\n",
    "        '''set all the class parameters based on the arguments passed'''\n",
    "        modelType = argList[0]\n",
    "        decoderInputSize = argList[1]\n",
    "        embeddingSize = argList[2]\n",
    "        neruonsInFC = argList[3]\n",
    "        outputWordSize = argList[4]\n",
    "        layersInDecoder = argList[5]\n",
    "        dropout = argList[6]\n",
    "        attention = argList[7]\n",
    "\n",
    "        self.modelType = modelType\n",
    "        self.layersInDecoder = layersInDecoder\n",
    "        self.outputWordSize = outputWordSize\n",
    "        self.attention = attention\n",
    "        \n",
    "        '''select the cell type based on the value passed in argument'''\n",
    "        modelDict = {\"LSTM\": nn.LSTM, \"GRU\": nn.GRU, \"RNN\": nn.RNN}\n",
    "        modelObj = modelDict.get(modelType)\n",
    "\n",
    "        '''apply attention'''\n",
    "        if self.attention == 0:\n",
    "            '''do not apply dropout if only one layer is present'''\n",
    "            if layersInDecoder == 1:\n",
    "                self.dropout = Utilities_Layer.createDropoutLayer(0.0)\n",
    "                self.model = modelObj(embeddingSize, neruonsInFC, layersInDecoder, dropout=0.0)\n",
    "            else:\n",
    "                self.dropout = Utilities_Layer.createDropoutLayer(dropout)\n",
    "                self.model = modelObj(embeddingSize, neruonsInFC, layersInDecoder, dropout=dropout)\n",
    "            self.fullyConnectedLayer = nn.Linear(neruonsInFC, outputWordSize)\n",
    "        else:\n",
    "            '''do not apply dropout if only one layer is present'''\n",
    "            if layersInDecoder == 1:\n",
    "                self.dropout = Utilities_Layer.createDropoutLayer(0.0)\n",
    "                self.model = modelObj(embeddingSize + neruonsInFC, neruonsInFC, layersInDecoder, dropout=0.0)\n",
    "            else:\n",
    "                self.dropout = Utilities_Layer.createDropoutLayer(dropout)\n",
    "                self.model = modelObj(embeddingSize + neruonsInFC, neruonsInFC, layersInDecoder, dropout=dropout)\n",
    "            self.fullyConnectedLayer = nn.Linear(neruonsInFC * 2, outputWordSize)\n",
    "        \n",
    "        '''create ambedding and linear layer'''\n",
    "        self.embeddingLayer = Utilities_Layer.createEmbeddingLayer(decoderInputSize, embeddingSize)\n",
    "        self.neuronsInAttentionFC = Utilities_Layer.createLinearLayer(neruonsInFC, neruonsInFC, False)"
   ]
  },
  {
   "cell_type": "code",
   "execution_count": 7,
   "metadata": {
    "execution": {
     "iopub.execute_input": "2025-05-17T05:32:13.478771Z",
     "iopub.status.busy": "2025-05-17T05:32:13.478186Z",
     "iopub.status.idle": "2025-05-17T05:32:13.484371Z",
     "shell.execute_reply": "2025-05-17T05:32:13.483751Z",
     "shell.execute_reply.started": "2025-05-17T05:32:13.478747Z"
    },
    "trusted": true
   },
   "outputs": [
    {
     "name": "stdout",
     "output_type": "stream",
     "text": [
      "Writing DecoderArchitecture_Forward.py\n"
     ]
    }
   ],
   "source": [
    "%%writefile DecoderArchitecture_Forward.py\n",
    "import Utilities_Tensor\n",
    "import Utilities_Device_Trainings\n",
    "import torch.nn as nn\n",
    "from DecoderArchitecture import DecoderStack as BaseDecoderStack\n",
    "\n",
    "'''class to add forward propagation to the decoder architecture'''\n",
    "class DecoderStack(BaseDecoderStack):\n",
    "\n",
    "    def forward(self, batchData, encoderOutput, innerLayer, model):\n",
    "        '''\n",
    "            Parameters:\n",
    "                batchData : data sent in batches (as a 2D tensor)\n",
    "                encoderOutput : output from the encoder (on which the decoder will work)\n",
    "                innerLayer : hidden layers representation\n",
    "                model : the object of the combined architecture on which the decoder is working\n",
    "            Returns :\n",
    "                predictions : predicted outputs from the decoder\n",
    "                innerLayer : hidden layers representation\n",
    "                model : the object of the combined architecture with updated parameters\n",
    "                finalAttentionWeights : updated attention weights\n",
    "            Function:\n",
    "                Performs forward propagation in the architecture\n",
    "        '''\n",
    "\n",
    "        '''sets batch size and embedding layer'''\n",
    "        batchData = Utilities_Tensor.increaseDimension(batchData)\n",
    "        embeddedBatch = self.embeddingLayer(batchData)\n",
    "        embeddingLayer = self.dropout(embeddedBatch)\n",
    "\n",
    "        '''declare the attention matrix'''\n",
    "        finalAttentionWeights = None\n",
    "\n",
    "        '''appply attention and calculate the weights'''\n",
    "        if self.attention == 1:\n",
    "            finalOutputFromEncoderBlock = self.neuronsInAttentionFC(encoderOutput)\n",
    "            finalHiddenLayer = innerLayer[-1:]\n",
    "            attentionValues = Utilities_Tensor.mutiplyTensors(\n",
    "                Utilities_Tensor.reorderDimensions(finalOutputFromEncoderBlock, 1, 0, 2),\n",
    "                Utilities_Tensor.reorderDimensions(finalHiddenLayer, 1, 2, 0)\n",
    "            )\n",
    "            attentionValues = Utilities_Tensor.reorderDimensions(attentionValues, 2, 0, 1)\n",
    "            finalAttentionWeights = Utilities_Device_Trainings.setOutputFunction(attentionValues)\n",
    "            attentionIntoDecoder = Utilities_Tensor.mutiplyTensors(\n",
    "                Utilities_Tensor.reorderDimensions(finalAttentionWeights, 1, 0, 2),\n",
    "                Utilities_Tensor.reorderDimensions(encoderOutput, 1, 0, 2)\n",
    "            )\n",
    "            attentionIntoDecoder = Utilities_Tensor.reorderDimensions(attentionIntoDecoder, 1, 0, 2)\n",
    "\n",
    "        '''check and apply attention'''\n",
    "        if self.attention == 0:\n",
    "            '''apply forget gate for LSTM'''\n",
    "            if isinstance(self.model, nn.LSTM):\n",
    "                modelEval, (innerLayer, model) = self.model(embeddingLayer, (innerLayer, model))\n",
    "            else:\n",
    "                modelEval, innerLayer = self.model(embeddingLayer, innerLayer)\n",
    "            '''get decoder outputs by passing through the fully connected layer'''\n",
    "            predictions = self.fullyConnectedLayer(modelEval)\n",
    "        else:\n",
    "            '''apply forget gate for LSTM'''\n",
    "            concatenatedInput = Utilities_Tensor.concatenateTensor(embeddingLayer, attentionIntoDecoder, 2)\n",
    "            if isinstance(self.model, nn.LSTM):\n",
    "                modelEval, (innerLayer, model) = self.model(concatenatedInput, (innerLayer, model))\n",
    "            else:\n",
    "                modelEval, innerLayer = self.model(concatenatedInput, innerLayer)\n",
    "            concatenatedInput = Utilities_Tensor.concatenateTensor(modelEval, attentionIntoDecoder, 2)\n",
    "            '''get decoder outputs by passing through the fully connected layer'''\n",
    "            predictions = self.fullyConnectedLayer(concatenatedInput)\n",
    "\n",
    "        predictions = Utilities_Tensor.decreaseDimension(predictions)\n",
    "\n",
    "        if self.attention == 1:\n",
    "            finalAttentionWeights = Utilities_Tensor.decreaseDimension(finalAttentionWeights)\n",
    "\n",
    "        return predictions, innerLayer, model, finalAttentionWeights"
   ]
  },
  {
   "cell_type": "code",
   "execution_count": 8,
   "metadata": {
    "execution": {
     "iopub.execute_input": "2025-05-17T05:32:14.920674Z",
     "iopub.status.busy": "2025-05-17T05:32:14.920171Z",
     "iopub.status.idle": "2025-05-17T05:32:14.925606Z",
     "shell.execute_reply": "2025-05-17T05:32:14.924852Z",
     "shell.execute_reply.started": "2025-05-17T05:32:14.920653Z"
    },
    "trusted": true
   },
   "outputs": [
    {
     "name": "stdout",
     "output_type": "stream",
     "text": [
      "Writing CombinedModelArchitecture_Utils.py\n"
     ]
    }
   ],
   "source": [
    "%%writefile CombinedModelArchitecture_Utils.py\n",
    "import Utilities_Tensor\n",
    "import torch.nn as nn\n",
    "import random\n",
    "\n",
    "def formMatrix(dim1, dim2, dim3):\n",
    "    '''\n",
    "        Parameters:\n",
    "            dim1 : First dimension of a tensor\n",
    "            dim2 : Second dimension of the tensor\n",
    "            dim3 : Third dimension of the tensor\n",
    "        Returns :\n",
    "            A tensor\n",
    "        Function:\n",
    "            Creates a tensor with all zeros following the dimensions passed as parameters\n",
    "    '''\n",
    "    return Utilities_Tensor.getZeroTensor(dim1, dim2, dim3)\n",
    "\n",
    "\n",
    "def doTeacherForcing(decoderOutput, bengaliSequence, sequenceNumber, teacherRatio):\n",
    "    '''\n",
    "        Parameters:\n",
    "            decoderOutput : Tensor representing the output of the previous state of the decoder\n",
    "            bengaliSequence : Sequence of characters in the target language (bengali in this case)\n",
    "            sequenceNumber : Index of the sequence to be considered\n",
    "            teacherRatio : Threshold percentage on whether to apply teacher forching\n",
    "        Returns :\n",
    "            The function can return two things:\n",
    "                if teacher forcing is not applied then return the output of the previous state of the decoder\n",
    "                else return the actual target word\n",
    "        Function:\n",
    "            Performs teacher forcing in the decoder\n",
    "    '''\n",
    "    prediction = decoderOutput.argmax(dim=1)\n",
    "\n",
    "    '''make a random guess and based on that decide whether or not to apply teacher forcing in the current timestamp'''\n",
    "    currentGuess = random.random()\n",
    "    if currentGuess < teacherRatio:\n",
    "        return bengaliSequence[sequenceNumber]\n",
    "    \n",
    "    return prediction"
   ]
  },
  {
   "cell_type": "code",
   "execution_count": 9,
   "metadata": {
    "execution": {
     "iopub.execute_input": "2025-05-17T05:32:15.975725Z",
     "iopub.status.busy": "2025-05-17T05:32:15.975084Z",
     "iopub.status.idle": "2025-05-17T05:32:15.981266Z",
     "shell.execute_reply": "2025-05-17T05:32:15.980667Z",
     "shell.execute_reply.started": "2025-05-17T05:32:15.975688Z"
    },
    "trusted": true
   },
   "outputs": [
    {
     "name": "stdout",
     "output_type": "stream",
     "text": [
      "Writing CombinedModelArchitecture_Stack.py\n"
     ]
    }
   ],
   "source": [
    "%%writefile CombinedModelArchitecture_Stack.py\n",
    "import Utilities_Device_Trainings\n",
    "import Utilities_Tensor\n",
    "import torch.nn as nn\n",
    "import random\n",
    "from CombinedModelArchitecture_Utils import formMatrix, doTeacherForcing\n",
    "\n",
    "'''class to represent the combined architecture of encoder and decoder'''\n",
    "class EncoderDecoderStack(nn.Module):\n",
    "\n",
    "    '''constructor to intialize the class parameters'''\n",
    "    def __init__(self, argList):\n",
    "        '''inherit the constructor of the parent class'''\n",
    "        super(EncoderDecoderStack, self).__init__()\n",
    "        '''encoder object'''\n",
    "        self.encoderFramework = argList[0]\n",
    "        '''decoder object'''\n",
    "        self.decoderFramework = argList[1]\n",
    "        '''attention(helps to decide whether to apply attention or not)'''\n",
    "        self.attention = argList[2]\n",
    "    \n",
    "\n",
    "    def forward(self, englishSequence, bengaliSequence, teacherRatio=0.5):\n",
    "        '''\n",
    "            Parameters:\n",
    "                englishSequence : Sequence of characters in the source language (english in this case)\n",
    "                bengaliSequence : Sequence of characters in the target language (bengali in this case)\n",
    "                teacherRatio : Threshold percentage on whether to apply teacher forching (set to 0.5 if not passed during function call)\n",
    "            Returns :\n",
    "                modelEval : output from the architecture\n",
    "                attentions : updated attention weights\n",
    "            Function:\n",
    "                Performs forward propagation in the architecture\n",
    "        '''\n",
    "\n",
    "        '''sets batch size and maximum lengths of the words in the source and target dataset'''\n",
    "        batchSize = Utilities_Tensor.getShapeOfTensor(englishSequence, 1)\n",
    "        englishSequenceLength = Utilities_Tensor.getShapeOfTensor(englishSequence, 0)\n",
    "        bengaliSequenceLength = Utilities_Tensor.getShapeOfTensor(bengaliSequence, 0)\n",
    "\n",
    "        '''sets target vocabulary'''\n",
    "        bengaliVocabulary = self.decoderFramework.outputWordSize\n",
    "\n",
    "        '''forms the initial attention and output matrix'''\n",
    "        attentions = formMatrix(bengaliSequenceLength, batchSize, englishSequenceLength)\n",
    "        attentions = Utilities_Device_Trainings.setDevice(attentions)\n",
    "        modelEval = formMatrix(bengaliSequenceLength, batchSize, bengaliVocabulary)\n",
    "        modelEval = Utilities_Device_Trainings.setDevice(modelEval)\n",
    "\n",
    "        '''passes the source word into the encoder'''\n",
    "        encoderOutput, innerLayer, model = self.encoderFramework(englishSequence)\n",
    "\n",
    "        '''resizes the tensor to match decoder architecture'''\n",
    "        innerLayer = Utilities_Tensor.expandTensor(innerLayer, self.decoderFramework.layersInDecoder, 1, 1)\n",
    "        \n",
    "        '''resize the tensor if the cell is LSTM'''\n",
    "        if isinstance(self.decoderFramework.model, nn.LSTM):\n",
    "            model = Utilities_Tensor.expandTensor(model, self.decoderFramework.layersInDecoder, 1, 1)\n",
    "\n",
    "        '''run the decoder based on whether attention is applied or not'''\n",
    "        batchData = bengaliSequence[0]\n",
    "        for sequenceNumber in range(1, bengaliSequenceLength):\n",
    "            '''if no attention then no need to consider the attention weights being returned by decoder'''\n",
    "            if self.attention == 0:\n",
    "                decoderOutput, innerLayer, model, _ = self.decoderFramework(batchData, None, innerLayer, model)\n",
    "            else:\n",
    "                decoderOutput, innerLayer, model, attentionWeights = self.decoderFramework(batchData, encoderOutput, innerLayer, model)            \n",
    "            modelEval[sequenceNumber] = decoderOutput\n",
    "\n",
    "            '''if attention is applied then store the attention weights'''\n",
    "            if self.attention == 1:\n",
    "                attentions[sequenceNumber] = attentionWeights\n",
    "\n",
    "            '''call teacher forcing function to implement it''' \n",
    "            batchData = doTeacherForcing(decoderOutput, bengaliSequence, sequenceNumber, teacherRatio)\n",
    "\n",
    "        return modelEval, attentions"
   ]
  },
  {
   "cell_type": "code",
   "execution_count": 10,
   "metadata": {
    "execution": {
     "iopub.execute_input": "2025-05-17T05:32:17.984167Z",
     "iopub.status.busy": "2025-05-17T05:32:17.983883Z",
     "iopub.status.idle": "2025-05-17T05:32:17.989139Z",
     "shell.execute_reply": "2025-05-17T05:32:17.988432Z",
     "shell.execute_reply.started": "2025-05-17T05:32:17.984146Z"
    },
    "trusted": true
   },
   "outputs": [
    {
     "name": "stdout",
     "output_type": "stream",
     "text": [
      "Writing AccuracyAndLoss_Utils.py\n"
     ]
    }
   ],
   "source": [
    "%%writefile AccuracyAndLoss_Utils.py\n",
    "import torch\n",
    "\n",
    "def calculate(modelEval, outputSequence, paddingIndex, lossFunction):\n",
    "    '''\n",
    "        Parameters:\n",
    "            modelEval : output from the model\n",
    "            outputSequence : original word in the dataset\n",
    "            paddingIndex : encoding of the padding characters in the vocabulary\n",
    "            lossFunction : loss function used in the model\n",
    "        Returns :\n",
    "            modelEval : updated output to be used in the next batch of data\n",
    "            correctPredictions : number of words predicted correctly\n",
    "            totalLoss : loss generated by the current batch\n",
    "        Function:\n",
    "            Calculates number of correct predictions and loss for the data passed\n",
    "    '''\n",
    "\n",
    "    '''calculate correct predictions'''\n",
    "    dim = modelEval.shape[2]\n",
    "    predictedSequence = modelEval.argmax(dim=2)\n",
    "    acuurate = (predictedSequence == outputSequence) + (outputSequence == paddingIndex)\n",
    "    acuurate = torch.clamp(acuurate, max=1)\n",
    "    acuurateAlongOneColumn = acuurate.all(dim=0)\n",
    "    total = acuurateAlongOneColumn.sum()\n",
    "    correctPredictions = total.item()\n",
    "\n",
    "    '''calculate loss'''\n",
    "    modelEvalSplit = modelEval[1:]\n",
    "    modelEval = modelEvalSplit.reshape(-1, dim)\n",
    "    bengaliSequenceSplit = outputSequence[1:]\n",
    "    bengaliSequence = bengaliSequenceSplit.reshape(-1)\n",
    "    loss = lossFunction(modelEval, bengaliSequence)\n",
    "    totalLoss = loss.item()\n",
    "\n",
    "    return modelEval, correctPredictions, totalLoss"
   ]
  },
  {
   "cell_type": "code",
   "execution_count": 11,
   "metadata": {
    "execution": {
     "iopub.execute_input": "2025-05-17T05:32:19.065020Z",
     "iopub.status.busy": "2025-05-17T05:32:19.064784Z",
     "iopub.status.idle": "2025-05-17T05:32:19.070389Z",
     "shell.execute_reply": "2025-05-17T05:32:19.069824Z",
     "shell.execute_reply.started": "2025-05-17T05:32:19.065005Z"
    },
    "trusted": true
   },
   "outputs": [
    {
     "name": "stdout",
     "output_type": "stream",
     "text": [
      "Writing FindAccuracyAndLoss.py\n"
     ]
    }
   ],
   "source": [
    "%%writefile FindAccuracyAndLoss.py\n",
    "import Utilities_Device_Trainings\n",
    "import torch\n",
    "from AccuracyAndLoss_Utils import calculate\n",
    "\n",
    "'''class to find the accuracy and loss'''\n",
    "class FindAccuracyAndLoss:\n",
    "    def findAccuracyAndLoss(framework, dataLoader, batchSize, paddingIndex):\n",
    "        '''\n",
    "            Parameters:\n",
    "                framework : object of the architecture\n",
    "                dataLoader : data on which to calculate the accuracy and loss\n",
    "                batchSize : batch size used\n",
    "                paddingIndex : encoding of the padding characters in the vocabulary\n",
    "            Returns :\n",
    "                averageLoss : average loss across the dataset\n",
    "                accuracy : accuracy of correct prediction \n",
    "            Function:\n",
    "                Calculates the accuracy percentage and average loss for the dataset\n",
    "        '''\n",
    "\n",
    "        '''sets loss function'''\n",
    "        framework.eval()\n",
    "        lossFunction = Utilities_Device_Trainings.setLossFunction()\n",
    "    \n",
    "        totalLoss = 0.0\n",
    "        correctPredictions = 0\n",
    "        \n",
    "        with torch.no_grad():\n",
    "            '''iterate the whole dataset'''\n",
    "            for _, data in enumerate(dataLoader):\n",
    "                '''get the original source and target word'''\n",
    "                inputSequence = data[0]\n",
    "                outputSequence = data[1]\n",
    "                inputSequence = inputSequence.T\n",
    "                inputSequence = Utilities_Device_Trainings.setDevice(inputSequence)\n",
    "                outputSequence = outputSequence.T\n",
    "                outputSequence = Utilities_Device_Trainings.setDevice(outputSequence)\n",
    "\n",
    "                '''run the encoder-decoder architecture with no teacher forcing (as we are in inference step)'''\n",
    "                modelEval, _ = framework(inputSequence, outputSequence, teacherRatio=0.0)\n",
    "                \n",
    "                '''calculate the correct predictions and loss for the current batch of data'''\n",
    "                modelEval, correctBatch, lossBatch = calculate(modelEval, outputSequence, paddingIndex, lossFunction)\n",
    "                correctPredictions += correctBatch\n",
    "                totalLoss += lossBatch\n",
    "            \n",
    "            '''avergae loss and accuracy percentage'''\n",
    "            accuracy = correctPredictions / (len(dataLoader) * batchSize)\n",
    "            averageLoss = totalLoss / len(dataLoader)\n",
    "            return averageLoss, accuracy"
   ]
  },
  {
   "cell_type": "code",
   "execution_count": 12,
   "metadata": {
    "execution": {
     "iopub.execute_input": "2025-05-17T05:32:20.052722Z",
     "iopub.status.busy": "2025-05-17T05:32:20.052239Z",
     "iopub.status.idle": "2025-05-17T05:32:20.057190Z",
     "shell.execute_reply": "2025-05-17T05:32:20.056385Z",
     "shell.execute_reply.started": "2025-05-17T05:32:20.052686Z"
    },
    "trusted": true
   },
   "outputs": [
    {
     "name": "stdout",
     "output_type": "stream",
     "text": [
      "Writing RunTrainer_Utils.py\n"
     ]
    }
   ],
   "source": [
    "%%writefile RunTrainer_Utils.py\n",
    "import torch\n",
    "\n",
    "def modification(modelEval, outputSequence):\n",
    "    '''\n",
    "        Parameters:\n",
    "            modelEval : output from the model\n",
    "            outputSequence : original target sequence\n",
    "        Returns :\n",
    "            modelEval : modified output to use it for other batches\n",
    "            bengaliSequence : sequence in target language\n",
    "        Function:\n",
    "            Changes dimensions of the tensors\n",
    "    '''\n",
    "    dim = modelEval.shape[2]\n",
    "    modelEvalSplit = modelEval[1:]\n",
    "    modelEval = modelEvalSplit.reshape(-1, dim)\n",
    "    bengaliSequenceSplit = outputSequence[1:]\n",
    "    bengaliSequence = bengaliSequenceSplit.reshape(-1)\n",
    "    return modelEval, bengaliSequence"
   ]
  },
  {
   "cell_type": "code",
   "execution_count": 13,
   "metadata": {
    "execution": {
     "iopub.execute_input": "2025-05-17T05:32:21.243261Z",
     "iopub.status.busy": "2025-05-17T05:32:21.242967Z",
     "iopub.status.idle": "2025-05-17T05:32:21.249879Z",
     "shell.execute_reply": "2025-05-17T05:32:21.249096Z",
     "shell.execute_reply.started": "2025-05-17T05:32:21.243239Z"
    },
    "trusted": true
   },
   "outputs": [
    {
     "name": "stdout",
     "output_type": "stream",
     "text": [
      "Writing RunTrainer.py\n"
     ]
    }
   ],
   "source": [
    "%%writefile RunTrainer.py\n",
    "import torch\n",
    "from FindAccuracyAndLoss import FindAccuracyAndLoss\n",
    "import Utilities_Device_Trainings\n",
    "from torch.nn.utils import clip_grad_norm_\n",
    "import wandb\n",
    "from copy import deepcopy\n",
    "from RunTrainer_Utils import modification\n",
    "\n",
    "'''class to run the epochs on the model'''\n",
    "class Trainer:\n",
    "\n",
    "    def runModelTrainer(paramList, trainPy=0, saveBestModel=0, logging=1):\n",
    "        '''\n",
    "            Parameters:\n",
    "                paramList : list of parameters passes\n",
    "                trainPy : variable indicating whether to this is train.py call or not\n",
    "                saveBestModel : variable indicating whether to save the model or not\n",
    "            Returns :\n",
    "                None\n",
    "            Function:\n",
    "                Drives the training process and run epochs\n",
    "        '''\n",
    "\n",
    "        '''set the parameters'''\n",
    "        framework = paramList[0]\n",
    "        learningRate = paramList[1]\n",
    "        trainEmbeddedDataLoader = paramList[2]\n",
    "        valEmbeddedDataLoader = paramList[3]\n",
    "        epochs = paramList[4]\n",
    "        batchSize = paramList[5]\n",
    "        paddingIndex = paramList[6]\n",
    "\n",
    "        '''declare lists for storing the accuracies and losses'''\n",
    "        trainAccuracyPerEpoch = list()\n",
    "        trainLossPerEpoch = list()\n",
    "        valAccuracyPerEpoch = list()\n",
    "        valLossPerEpoch = list()\n",
    "\n",
    "        '''setting the optimizer'''\n",
    "        backpropagationFramework = Utilities_Device_Trainings.setOptimizer(framework, learningRate)\n",
    "\n",
    "        '''setting the loss function'''\n",
    "        lossFunction = Utilities_Device_Trainings.setLossFunction()\n",
    "\n",
    "        '''run epochs'''\n",
    "        for epoch in range(epochs):\n",
    "            framework.train()\n",
    "            for id, data in enumerate(trainEmbeddedDataLoader):\n",
    "                '''get the original source and target words'''\n",
    "                inputSequence = data[0]\n",
    "                outputSequence = data[1]\n",
    "                inputSequence = inputSequence.T\n",
    "                inputSequence = Utilities_Device_Trainings.setDevice(inputSequence)\n",
    "                outputSequence = outputSequence.T\n",
    "                outputSequence = Utilities_Device_Trainings.setDevice(outputSequence)\n",
    "\n",
    "                '''run the encoder-decoder architecture'''\n",
    "                modelEval, _ = framework(inputSequence, outputSequence)\n",
    "                modelEval, bengaliSequence = modification(modelEval, outputSequence)\n",
    "\n",
    "                '''run backpropagation'''\n",
    "                backpropagationFramework.zero_grad()\n",
    "                loss = lossFunction(modelEval, bengaliSequence)\n",
    "                loss.backward()\n",
    "                clip_grad_norm_(framework.parameters(), max_norm=1)\n",
    "                backpropagationFramework.step()\n",
    "            \n",
    "            '''calculate the respective loss and accuracy'''\n",
    "            trainingLoss, trainingAccuracy = FindAccuracyAndLoss.findAccuracyAndLoss(\n",
    "                framework, trainEmbeddedDataLoader, batchSize, paddingIndex\n",
    "            )\n",
    "            valLoss, valAccuracy = FindAccuracyAndLoss.findAccuracyAndLoss(\n",
    "                framework, valEmbeddedDataLoader, batchSize, paddingIndex\n",
    "            )\n",
    "\n",
    "            \n",
    "            trainLossPerEpoch.append(trainingLoss)\n",
    "            trainAccuracyPerEpoch.append(trainingAccuracy)\n",
    "            valLossPerEpoch.append(valLoss)\n",
    "            valAccuracyPerEpoch.append(valAccuracy)\n",
    "\n",
    "            if logging == 1:\n",
    "                '''print and log the losses and accuracies to terminal and wandb respectively'''\n",
    "                print(\"\\n===================================================================================================================\")\n",
    "                print(f\"Epoch : {epoch+1}\")\n",
    "                print(f\"Training Accuracy : {trainAccuracyPerEpoch[-1]}\")\n",
    "                print(f\"Validation Accuracy : {valAccuracyPerEpoch[-1]}\")\n",
    "                print(f\"Training Loss : {trainLossPerEpoch[-1]}\")\n",
    "                print(f\"Validation Loss : {valLossPerEpoch[-1]}\")  \n",
    "                wandb.log({\n",
    "                    \"training_accuracy\": trainAccuracyPerEpoch[-1],\n",
    "                    \"validation_accuracy\": valAccuracyPerEpoch[-1],\n",
    "                    \"training_loss\": trainLossPerEpoch[-1],\n",
    "                    \"validation_loss\": valLossPerEpoch[-1],\n",
    "                    \"Epoch\": epoch+1\n",
    "                })\n",
    "            else:\n",
    "                (f\"Epoch : {epoch+1}\")\n",
    "                if epoch == epochs - 1:\n",
    "                    return framework\n",
    "\n",
    "        '''save the model if needed'''\n",
    "        if saveBestModel == 1:\n",
    "            state = deepcopy(framework.state_dict())\n",
    "            torch.save(state, \"/frameworkState.pth\")\n",
    "        \n",
    "        if trainPy == 1:\n",
    "            return framework"
   ]
  },
  {
   "cell_type": "code",
   "execution_count": null,
   "metadata": {
    "execution": {
     "iopub.execute_input": "2025-05-17T05:32:27.227660Z",
     "iopub.status.busy": "2025-05-17T05:32:27.226998Z",
     "iopub.status.idle": "2025-05-17T05:32:27.232229Z",
     "shell.execute_reply": "2025-05-17T05:32:27.231572Z",
     "shell.execute_reply.started": "2025-05-17T05:32:27.227638Z"
    },
    "trusted": true
   },
   "outputs": [
    {
     "name": "stdout",
     "output_type": "stream",
     "text": [
      "Writing LoadDataset_Train.py\n"
     ]
    }
   ],
   "source": [
    "%%writefile LoadDataset_Train.py\n",
    "import pandas as pd\n",
    "import os\n",
    "\n",
    "def loadDataset(self, root, lang):\n",
    "    train_path = os.path.join(root, f\"{lang}.translit.sampled.train.tsv\")\n",
    "    val_path   = os.path.join(root, f\"{lang}.translit.sampled.dev.tsv\")\n",
    "\n",
    "    train_df = pd.read_csv(train_path, sep=\"\\t\", header=None, dtype=str)\n",
    "    val_df = pd.read_csv(val_path, sep=\"\\t\", header=None, dtype=str)\n",
    "\n",
    "    ''' Drop rows where either source or target is missing'''\n",
    "    train_df = train_df.dropna(subset=[0, 1])\n",
    "    val_df = val_df.dropna(subset=[0, 1])\n",
    "\n",
    "    ''' Select only the first two columns'''\n",
    "    self.train_dataset = train_df[[1, 0]].values \n",
    "    self.val_dataset = val_df[[1, 0]].values"
   ]
  },
  {
   "cell_type": "code",
   "execution_count": null,
   "metadata": {
    "execution": {
     "iopub.execute_input": "2025-05-17T05:32:27.900134Z",
     "iopub.status.busy": "2025-05-17T05:32:27.899868Z",
     "iopub.status.idle": "2025-05-17T05:32:27.905048Z",
     "shell.execute_reply": "2025-05-17T05:32:27.904345Z",
     "shell.execute_reply.started": "2025-05-17T05:32:27.900116Z"
    },
    "trusted": true
   },
   "outputs": [
    {
     "name": "stdout",
     "output_type": "stream",
     "text": [
      "Writing LoadDataset_Test.py\n"
     ]
    }
   ],
   "source": [
    "%%writefile LoadDataset_Test.py\n",
    "import pandas as pd\n",
    "import os\n",
    "from LoadDataset_Train import loadDataset\n",
    "\n",
    "def loadTestDataset(self, root, lang):\n",
    "    '''\n",
    "        Parameters:\n",
    "            root : path of the dataset\n",
    "            lang : language which is chosen (taken from the path itself)\n",
    "        Returns :\n",
    "            None\n",
    "        Function:\n",
    "            Loads test dataset\n",
    "    '''\n",
    "    test_path = os.path.join(root, f\"{lang}.translit.sampled.test.tsv\")\n",
    "    test_df = pd.read_csv(test_path, sep=\"\\t\", header=None, dtype=str)\n",
    "    test_df = test_df.dropna(subset=[0, 1])\n",
    "    self.test_dataframe = test_df               \n",
    "    self.test_dataset = test_df[[1, 0]].values      \n",
    "\n",
    "'''class to load dataset'''\n",
    "class DatasetLoad:\n",
    "    pass\n",
    "\n",
    "'''attach methods to DatasetLoad '''\n",
    "DatasetLoad.loadDataset = loadDataset\n",
    "DatasetLoad.loadTestDataset = loadTestDataset"
   ]
  },
  {
   "cell_type": "code",
   "execution_count": 16,
   "metadata": {
    "execution": {
     "iopub.execute_input": "2025-05-17T05:32:28.928816Z",
     "iopub.status.busy": "2025-05-17T05:32:28.928542Z",
     "iopub.status.idle": "2025-05-17T05:32:28.934002Z",
     "shell.execute_reply": "2025-05-17T05:32:28.933227Z",
     "shell.execute_reply.started": "2025-05-17T05:32:28.928795Z"
    },
    "trusted": true
   },
   "outputs": [
    {
     "name": "stdout",
     "output_type": "stream",
     "text": [
      "Writing PrepareVocabulary_Initialize.py\n"
     ]
    }
   ],
   "source": [
    "%%writefile PrepareVocabulary_Initialize.py\n",
    "'''initializes the vocabulary dictionaries'''\n",
    "def initializeVocabularyDictionaries(self):\n",
    "    '''\n",
    "        Parameters:\n",
    "            None\n",
    "        Returns :\n",
    "            None\n",
    "        Function:\n",
    "            Initializes the vocabulary dictionaries\n",
    "    '''\n",
    "\n",
    "    '''dictionary for source language'''\n",
    "    self.charToIndexDictForEnglish[self.startOfSequenceToken]=self.startOfSequenceIndex\n",
    "    self.charToIndexDictForEnglish[self.endOfSequenceToken]=self.endOfSequenceIndex\n",
    "    self.charToIndexDictForEnglish[self.paddingToken]=self.paddingIndex\n",
    "\n",
    "    self.indexToCharDictForEnglish[self.startOfSequenceIndex]=self.startOfSequenceToken\n",
    "    self.indexToCharDictForEnglish[self.endOfSequenceIndex]=self.endOfSequenceToken\n",
    "    self.indexToCharDictForEnglish[self.paddingIndex]=self.paddingToken\n",
    "\n",
    "    '''dictionary for target language'''\n",
    "    self.charToIndexDictForBengali[self.startOfSequenceToken]=self.startOfSequenceIndex\n",
    "    self.charToIndexDictForBengali[self.endOfSequenceToken]=self.endOfSequenceIndex\n",
    "    self.charToIndexDictForBengali[self.paddingToken]=self.paddingIndex\n",
    "\n",
    "    self.indexToCharDictForBengali[self.startOfSequenceIndex]=self.startOfSequenceToken\n",
    "    self.indexToCharDictForBengali[self.endOfSequenceIndex]=self.endOfSequenceToken\n",
    "    self.indexToCharDictForBengali[self.paddingIndex]=self.paddingToken"
   ]
  },
  {
   "cell_type": "code",
   "execution_count": 17,
   "metadata": {
    "execution": {
     "iopub.execute_input": "2025-05-17T05:32:29.818986Z",
     "iopub.status.busy": "2025-05-17T05:32:29.818739Z",
     "iopub.status.idle": "2025-05-17T05:32:29.824162Z",
     "shell.execute_reply": "2025-05-17T05:32:29.823555Z",
     "shell.execute_reply.started": "2025-05-17T05:32:29.818965Z"
    },
    "trusted": true
   },
   "outputs": [
    {
     "name": "stdout",
     "output_type": "stream",
     "text": [
      "Writing PrepareVocabulary_Create.py\n"
     ]
    }
   ],
   "source": [
    "%%writefile PrepareVocabulary_Create.py\n",
    "'''creates vocabulary of each word in the dataset'''\n",
    "def createVocabulary(self, dataset):\n",
    "    '''\n",
    "        Parameters:\n",
    "            dataset : dataset on which to create the vocabulary\n",
    "        Returns :\n",
    "            None\n",
    "        Function:\n",
    "            creates vocabulary of each word in the dataset\n",
    "    '''\n",
    "\n",
    "    '''iterate over the entire dataset'''\n",
    "    for each_pair in dataset:\n",
    "        english_word=each_pair[0]\n",
    "        bengali_word=each_pair[1]\n",
    "\n",
    "        '''create vocabulary for the source language'''\n",
    "        for one_char in english_word:\n",
    "            '''if the character is not already recorded then add it to the dictionary'''\n",
    "            if one_char not in self.charToIndexDictForEnglish:\n",
    "                self.charToIndexDictForEnglish[one_char]=self.vocabularySizeForEnglish\n",
    "                self.charCounterForEnglish[one_char]=1\n",
    "                self.indexToCharDictForEnglish[self.vocabularySizeForEnglish]=one_char\n",
    "                self.vocabularySizeForEnglish+=1\n",
    "            else:\n",
    "                self.charCounterForEnglish[one_char]+=1\n",
    "        \n",
    "        '''create vocabulary for the target language'''\n",
    "        for one_char in bengali_word:\n",
    "            '''if the character is not already recorded then add it to the dictionary'''\n",
    "            if one_char not in self.charToIndexDictForBengali:\n",
    "                self.charToIndexDictForBengali[one_char]=self.vocabularySizeForBengali\n",
    "                self.charCounterForBengali[one_char]=1\n",
    "                self.indexToCharDictForBengali[self.vocabularySizeForBengali]=one_char\n",
    "                self.vocabularySizeForBengali+=1\n",
    "            else:\n",
    "                self.charCounterForBengali[one_char]+=1"
   ]
  },
  {
   "cell_type": "code",
   "execution_count": 18,
   "metadata": {
    "execution": {
     "iopub.execute_input": "2025-05-17T05:32:30.871954Z",
     "iopub.status.busy": "2025-05-17T05:32:30.870990Z",
     "iopub.status.idle": "2025-05-17T05:32:30.876418Z",
     "shell.execute_reply": "2025-05-17T05:32:30.875827Z",
     "shell.execute_reply.started": "2025-05-17T05:32:30.871930Z"
    },
    "trusted": true
   },
   "outputs": [
    {
     "name": "stdout",
     "output_type": "stream",
     "text": [
      "Writing PrepareVocabulary_Final.py\n"
     ]
    }
   ],
   "source": [
    "%%writefile PrepareVocabulary_Final.py\n",
    "from PrepareVocabulary_Initialize import initializeVocabularyDictionaries\n",
    "from PrepareVocabulary_Create import createVocabulary\n",
    "\n",
    "'''class to prepare the vocabulary of the dataset'''\n",
    "class PrepareVocabulary:\n",
    "\n",
    "    '''constructor to intialize the class parameters'''\n",
    "    def __init__(self):\n",
    "\n",
    "        '''define the start token, end token and padding token'''\n",
    "        self.startOfSequenceToken=\"~\"\n",
    "        self.endOfSequenceToken=\"%\"\n",
    "        self.paddingToken=\"`\"\n",
    "        self.startOfSequenceIndex=0\n",
    "        self.endOfSequenceIndex=1\n",
    "        self.paddingIndex=2\n",
    "\n",
    "        '''current vocabulary size is 3 (start token, end token, padding token)'''\n",
    "        self.vocabularySizeForEnglish=3\n",
    "        self.vocabularySizeForBengali=3\n",
    "\n",
    "        self.charToIndexDictForEnglish=dict()\n",
    "        self.indexToCharDictForEnglish=dict()\n",
    "        self.charCounterForEnglish=dict()\n",
    "\n",
    "        self.charToIndexDictForBengali=dict()\n",
    "        self.indexToCharDictForBengali=dict()\n",
    "        self.charCounterForBengali=dict()\n",
    "\n",
    "        '''initialize the base vocabulary tokens '''\n",
    "        self.initializeVocabularyDictionaries()\n",
    "\n",
    "    ''' attach the split methods'''\n",
    "    initializeVocabularyDictionaries = initializeVocabularyDictionaries\n",
    "    createVocabulary = createVocabulary"
   ]
  },
  {
   "cell_type": "code",
   "execution_count": 19,
   "metadata": {
    "execution": {
     "iopub.execute_input": "2025-05-17T05:32:32.123474Z",
     "iopub.status.busy": "2025-05-17T05:32:32.122941Z",
     "iopub.status.idle": "2025-05-17T05:32:32.128484Z",
     "shell.execute_reply": "2025-05-17T05:32:32.127767Z",
     "shell.execute_reply.started": "2025-05-17T05:32:32.123454Z"
    },
    "trusted": true
   },
   "outputs": [
    {
     "name": "stdout",
     "output_type": "stream",
     "text": [
      "Writing Utilities_Device_Trainings.py\n"
     ]
    }
   ],
   "source": [
    "%%writefile Utilities_Device_Trainings.py\n",
    "import torch\n",
    "from torch import optim\n",
    "import torch.nn as nn\n",
    "\n",
    "def setDevice(objToSet):\n",
    "    '''\n",
    "        Parameters:\n",
    "            objToSet : object on which to set the device\n",
    "        Returns :\n",
    "            objToSet : the same object after the device is set on it\n",
    "        Function:\n",
    "            Sets the device as cpu or gpu based on availability\n",
    "    '''\n",
    "    device = torch.device('cuda:0' if torch.cuda.is_available() else 'cpu')\n",
    "    objToSet = objToSet.to(device)\n",
    "    return objToSet\n",
    "\n",
    "\n",
    "def setOptimizer(framework, learningRate):\n",
    "    '''\n",
    "        Parameters:\n",
    "            framework : the model on which to set the opotimizer\n",
    "            learningRate : learning rate to be applied\n",
    "        Returns :\n",
    "            An object of the optimizer\n",
    "        Function:\n",
    "            Sets the optimizer\n",
    "    '''\n",
    "    return optim.Adam(framework.parameters(), lr=learningRate)\n",
    "\n",
    "\n",
    "def setLossFunction():\n",
    "    '''\n",
    "        Parameters:\n",
    "            None\n",
    "        Returns :\n",
    "            An object of the loss function\n",
    "        Function:\n",
    "            Sets the loss function\n",
    "    '''\n",
    "    return nn.CrossEntropyLoss()\n",
    "\n",
    "\n",
    "def setOutputFunction(layer):\n",
    "    '''\n",
    "        Parameters:\n",
    "            layer : layer on which to apply softmax\n",
    "        Returns :\n",
    "            An object of the softmax function\n",
    "        Function:\n",
    "            Sets the output function as softmax\n",
    "    '''\n",
    "    return nn.functional.softmax(layer, dim=2)\n",
    "\n",
    "\n",
    "def clipGradient(framework):\n",
    "    '''\n",
    "        Parameters:\n",
    "            framework : the model on which to do gradient clipping\n",
    "        Returns :\n",
    "            framework : the same model object after gradient clipping is done\n",
    "        Function:\n",
    "            Performs gradient clipping\n",
    "    '''\n",
    "    torch.nn.utils.clip_grad_norm_(framework.parameters(), max_norm=1)\n",
    "    return framework"
   ]
  },
  {
   "cell_type": "code",
   "execution_count": 20,
   "metadata": {
    "execution": {
     "iopub.execute_input": "2025-05-17T05:32:33.775573Z",
     "iopub.status.busy": "2025-05-17T05:32:33.775340Z",
     "iopub.status.idle": "2025-05-17T05:32:33.780477Z",
     "shell.execute_reply": "2025-05-17T05:32:33.779774Z",
     "shell.execute_reply.started": "2025-05-17T05:32:33.775556Z"
    },
    "trusted": true
   },
   "outputs": [
    {
     "name": "stdout",
     "output_type": "stream",
     "text": [
      "Writing Utilities_Layer.py\n"
     ]
    }
   ],
   "source": [
    "%%writefile Utilities_Layer.py\n",
    "import torch.nn as nn\n",
    "\n",
    "def createEmbeddingLayer(layerSize1, layerSize2):\n",
    "    '''\n",
    "        Parameters:\n",
    "            layerSize1,layerSize2 : size of the layers to produce the embedding layer\n",
    "        Returns :\n",
    "            an object of the embedding layer\n",
    "        Function:\n",
    "            Creates embedding layer\n",
    "    '''\n",
    "    return nn.Embedding(layerSize1, layerSize2)\n",
    "\n",
    "\n",
    "def createLinearLayer(neuronsInLayer1, neuronsInLayer2, bias):\n",
    "    '''\n",
    "        Parameters:\n",
    "            neuronsInLayer1,neuronsInLayer2 : number of neurons to produce the linear layer\n",
    "            bias : variable indicating whether to apply bias or not\n",
    "        Returns :\n",
    "            an object of the linear layer\n",
    "        Function:\n",
    "            Creates linear layer\n",
    "    '''\n",
    "    return nn.Linear(neuronsInLayer1, neuronsInLayer2, bias=bias)\n",
    "\n",
    "\n",
    "def createDropoutLayer(percentage):\n",
    "    '''\n",
    "        Parameters:\n",
    "            percentage : percentage of dropout to be applied\n",
    "        Returns :\n",
    "            an object of the dropout layer\n",
    "        Function:\n",
    "            Creates dropout layer\n",
    "    '''\n",
    "    return nn.Dropout(percentage)"
   ]
  },
  {
   "cell_type": "code",
   "execution_count": 21,
   "metadata": {
    "execution": {
     "iopub.execute_input": "2025-05-17T05:32:34.956082Z",
     "iopub.status.busy": "2025-05-17T05:32:34.955856Z",
     "iopub.status.idle": "2025-05-17T05:32:34.962104Z",
     "shell.execute_reply": "2025-05-17T05:32:34.961527Z",
     "shell.execute_reply.started": "2025-05-17T05:32:34.956066Z"
    },
    "trusted": true
   },
   "outputs": [
    {
     "name": "stdout",
     "output_type": "stream",
     "text": [
      "Writing Utilities_Plotting.py\n"
     ]
    }
   ],
   "source": [
    "%%writefile Utilities_Plotting.py\n",
    "import plotly.graph_objects as graphObj\n",
    "from matplotlib.ticker import NullFormatter, FixedFormatter\n",
    "from PIL import Image\n",
    "\n",
    "def plotHtml(df, fileName):\n",
    "    '''\n",
    "        Parameters:\n",
    "            df : the dataframe object on which to plot the image\n",
    "            fileName : name of the file which is to be saved\n",
    "        Returns :\n",
    "            None\n",
    "        Function:\n",
    "            Plots and saves the table of predictions\n",
    "    '''\n",
    "    columnValues = [df.English, df.Original, df.Predicted, df.Differences]\n",
    "    head = dict(values=list(df.columns), fill_color='yellow', align='center', font_size=15, height=25)\n",
    "    value = dict(values=columnValues, fill_color='orange', align='center', font_size=13, height=25)\n",
    "    columns = dict(l=0, r=0, b=0, t=0)\n",
    "    table = graphObj.Table(header=head, cells=value)\n",
    "    plot = graphObj.Figure(data=[table])\n",
    "    plot.update_layout(autosize=False, width=650, height=500, margin=columns)\n",
    "    plot.write_html(fileName)\n",
    "\n",
    "\n",
    "def plotHtmlComparison(df, fileName):\n",
    "    '''\n",
    "        Parameters:\n",
    "            df : the dataframe object on which to plot the image\n",
    "            fileName : name of the file which is to be saved\n",
    "        Returns :\n",
    "            image : the image which is plotted\n",
    "        Function:\n",
    "            Saves the table of predictions\n",
    "    '''\n",
    "    columnValues = [df.English, df.Original, df.Seq2Seq, df.Attention, df.Differences_Seq2Seq, df.Differences_Attention]\n",
    "    head = dict(values=list(df.columns), fill_color='yellow', align='center', font_size=15, height=25)\n",
    "    value = dict(values=columnValues, fill_color='orange', align='center', font_size=13, height=25)\n",
    "    columns = dict(l=0, r=0, b=0, t=0)\n",
    "    table = graphObj.Table(header=head, cells=value)\n",
    "    plot = graphObj.Figure(data=[table])\n",
    "    plot.update_layout(autosize=False, width=1000, height=500, margin=columns)\n",
    "    plot.write_html(fileName)\n",
    "    image = Image.open(\"AttentionVsSeq2Seq.png\")\n",
    "    return image\n",
    "\n",
    "\n",
    "def createXandYticks(bengaliLength, englishLength, vocabulary, attentionSequence, inputSequence, row):\n",
    "    '''\n",
    "        Parameters:\n",
    "            bengaliLength : length of the target word\n",
    "            englishLength : length of the source word\n",
    "            vocabulary : vocabulary of the dataset\n",
    "            attentionSequence : word generated by the attention model\n",
    "            inputSequence : original source sequence\n",
    "            row : row of the grid to plot\n",
    "        Returns :\n",
    "            xticklabels : labels of character of the target word\n",
    "            yticklabels : labels of character of the source word\n",
    "        Function:\n",
    "            Creates the labels for the plot\n",
    "    '''\n",
    "\n",
    "    '''target words'''\n",
    "    xticklabels = []\n",
    "    for column in range(bengaliLength):\n",
    "        value = attentionSequence[row][column]\n",
    "        value = value.item()\n",
    "        label = vocabulary.indexToCharDictForBengali[value]\n",
    "        xticklabels.append(label)\n",
    "    \n",
    "    '''source words'''\n",
    "    yticklabels = []\n",
    "    for column in range(englishLength):\n",
    "        value = inputSequence[row][column]\n",
    "        value = value.item()\n",
    "        label = vocabulary.indexToCharDictForEnglish[value]\n",
    "        yticklabels.append(label)\n",
    "    \n",
    "    return xticklabels, yticklabels\n",
    "\n",
    "\n",
    "def getNullObject():\n",
    "    '''\n",
    "        Parameters:\n",
    "           None\n",
    "        Returns :\n",
    "            an object of nullformatter\n",
    "        Function:\n",
    "            Creates the null formatter object\n",
    "    '''\n",
    "    return NullFormatter()\n",
    "\n",
    "\n",
    "def getFormatObject(value):\n",
    "    '''\n",
    "        Parameters:\n",
    "            value : value to create the fixed formatter on\n",
    "        Returns :\n",
    "            an object of fixedformatter\n",
    "        Function:\n",
    "            Creates the fixed formatter object\n",
    "    '''\n",
    "    return FixedFormatter(value)"
   ]
  },
  {
   "cell_type": "code",
   "execution_count": 22,
   "metadata": {
    "execution": {
     "iopub.execute_input": "2025-05-17T05:32:36.805138Z",
     "iopub.status.busy": "2025-05-17T05:32:36.804556Z",
     "iopub.status.idle": "2025-05-17T05:32:36.809543Z",
     "shell.execute_reply": "2025-05-17T05:32:36.808996Z",
     "shell.execute_reply.started": "2025-05-17T05:32:36.805109Z"
    },
    "trusted": true
   },
   "outputs": [
    {
     "name": "stdout",
     "output_type": "stream",
     "text": [
      "Writing Utilities_Sequence.py\n"
     ]
    }
   ],
   "source": [
    "%%writefile Utilities_Sequence.py\n",
    "import torch\n",
    "\n",
    "def runDecoderWithNoTeacherForcing(framework, input, output, neruonsInFC):\n",
    "    '''\n",
    "        Parameters:\n",
    "            framework : the model on which to run decoder without teacher forcing\n",
    "            input : input to the decoder\n",
    "            output : output from the encoder\n",
    "            neruonsInFC : number of neurons in the fully connected layer\n",
    "        Returns :\n",
    "            modelEval : output after running the encoder-decoder architecture\n",
    "        Function:\n",
    "            Performs decoder run with no teacher forcing\n",
    "    '''\n",
    "    modelEval, model = framework(input, output, neruonsInFC, teacherRatio=0.0)\n",
    "    return modelEval, model\n",
    "\n",
    "\n",
    "def getBatchFloorValue(x, y):\n",
    "    '''\n",
    "        Parameters:\n",
    "           x,y : Values whose floor to calculate\n",
    "        Returns :\n",
    "            an integer\n",
    "        Function:\n",
    "            Calculates and returns floor value\n",
    "    '''\n",
    "    floorValue = np.floor(x / y)\n",
    "    return int(floorValue)"
   ]
  },
  {
   "cell_type": "code",
   "execution_count": 23,
   "metadata": {
    "execution": {
     "iopub.execute_input": "2025-05-17T05:32:37.815443Z",
     "iopub.status.busy": "2025-05-17T05:32:37.814808Z",
     "iopub.status.idle": "2025-05-17T05:32:37.821382Z",
     "shell.execute_reply": "2025-05-17T05:32:37.820867Z",
     "shell.execute_reply.started": "2025-05-17T05:32:37.815424Z"
    },
    "trusted": true
   },
   "outputs": [
    {
     "name": "stdout",
     "output_type": "stream",
     "text": [
      "Writing Utilities_Tensor.py\n"
     ]
    }
   ],
   "source": [
    "%%writefile Utilities_Tensor.py\n",
    "import torch\n",
    "import numpy as np\n",
    "\n",
    "def increaseDimension(data):\n",
    "    '''\n",
    "        Parameters:\n",
    "            data : tensor whose dimension to increase\n",
    "        Returns :\n",
    "            data : same tensor after dimension increase\n",
    "        Function:\n",
    "            Performs dimension increase in tensor\n",
    "    '''\n",
    "    return data.unsqueeze(0)\n",
    "\n",
    "\n",
    "def decreaseDimension(data):\n",
    "    '''\n",
    "        Parameters:\n",
    "            data : tensor whose dimension to decrease\n",
    "        Returns :\n",
    "            data : same tensor after dimension decrease\n",
    "        Function:\n",
    "            Performs dimension decrease in tensor\n",
    "    '''\n",
    "    return data.squeeze(0)\n",
    "\n",
    "\n",
    "def expandTensor(tensor, dim1, dim2, dim3):\n",
    "    '''\n",
    "        Parameters:\n",
    "            tensor : tensor whose dimensions are to be reproduced\n",
    "            dim1,dim2,dim3 : dimensions along which to reproduce the tensor\n",
    "        Returns :\n",
    "            tensor : same tensor after reproducing dimension\n",
    "        Function:\n",
    "            Performs dimension reproducing in tensor\n",
    "    '''\n",
    "    return tensor.repeat(dim1, dim2, dim3)\n",
    "\n",
    "\n",
    "def reorderDimensions(data, dim1, dim2, dim3):\n",
    "    '''\n",
    "        Parameters:\n",
    "            data : tensor whose dimensions are to be reordered\n",
    "            dim1,dim2,dim3 : dimensions along which to reorder the tensor\n",
    "        Returns :\n",
    "            data : same tensor after reordering dimension\n",
    "        Function:\n",
    "            Performs dimension reordering in tensor\n",
    "    '''\n",
    "    return data.permute(dim1, dim2, dim3)\n",
    "\n",
    "\n",
    "def mutiplyTensors(tensor1, tensor2):\n",
    "    '''\n",
    "        Parameters:\n",
    "            tensor1,tensor2 : the tensors which are to be multiplied\n",
    "        Returns :\n",
    "            a product of the two tensors\n",
    "        Function:\n",
    "            Performs tensor multiplication\n",
    "    '''\n",
    "    return tensor1 @ tensor2\n",
    "\n",
    "\n",
    "def addTensor(tensor1, tensor2):\n",
    "    '''\n",
    "        Parameters:\n",
    "            tensor1,tensor2 : the tensors which are to be added\n",
    "        Returns :\n",
    "            a sum of the two tensors\n",
    "        Function:\n",
    "            Performs tensor addition\n",
    "    '''\n",
    "    return tensor1 + tensor2\n",
    "\n",
    "\n",
    "def concatenateTensor(tensor1, tensor2, dimension):\n",
    "    '''\n",
    "        Parameters:\n",
    "            tensor1,tensor2 : the tensors which are to be concatenated\n",
    "            dimension : dimension along which to concatenate\n",
    "        Returns :\n",
    "            a concatenated tensor\n",
    "        Function:\n",
    "            Performs tensor concatenation\n",
    "    '''\n",
    "    return torch.cat([tensor1, tensor2], dim=dimension)\n",
    "\n",
    "\n",
    "def getMean(data):\n",
    "    '''\n",
    "        Parameters:\n",
    "            data : tensor to find the mean\n",
    "        Returns :\n",
    "            mean of the tensor\n",
    "        Function:\n",
    "            Calculates the mean of tensor values\n",
    "    '''\n",
    "    return data.mean(axis=0)\n",
    "\n",
    "\n",
    "def getShapeOfTensor(tensor, dimension):\n",
    "    '''\n",
    "        Parameters:\n",
    "            tensor : tensor to find the shape\n",
    "            dimension : which dimension to find the shape\n",
    "        Returns :\n",
    "            shape of the tensor along the dimension\n",
    "        Function:\n",
    "            Calculates the shape of tensor\n",
    "    '''\n",
    "    return tensor.shape[dimension]\n",
    "\n",
    "\n",
    "def resizeTensor(tensor, dim1, dim2, dim3, orientation):\n",
    "    '''\n",
    "        Parameters:\n",
    "            tensor : tensor to resize\n",
    "            dim1,dim2,dim3 : dimensions along which to resize the tensor\n",
    "            orientation : orientation of the tensor\n",
    "        Returns :\n",
    "            tensor : same tensor after resizing\n",
    "        Function:\n",
    "            Resizes a tensor\n",
    "    '''\n",
    "    return tensor.view(dim1, dim2, dim3, orientation)\n",
    "\n",
    "\n",
    "def reverseTensor(tensor):\n",
    "    '''\n",
    "        Parameters:\n",
    "            tensor : tensor to reverse\n",
    "        Returns :\n",
    "            same tensor after reversing\n",
    "        Function:\n",
    "            Reverses a tensor\n",
    "    '''\n",
    "    return tensor[-1]\n",
    "\n",
    "\n",
    "def getZeroTensor(dim1, dim2, dim3):\n",
    "    '''\n",
    "        Parameters:\n",
    "            dim1,dim2,dim3 : dimensions to form the tensor\n",
    "        Returns :\n",
    "            a zero tensor\n",
    "        Function:\n",
    "            Creates a zero tensor\n",
    "    '''\n",
    "    return torch.zeros(dim1, dim2, dim3)\n",
    "\n",
    "\n",
    "def getLongZeroTensor(dim1, dim2):\n",
    "    '''\n",
    "        Parameters:\n",
    "            dim1,dim2 : dimensions to form the tensor\n",
    "        Returns :\n",
    "            a long zero tensor\n",
    "        Function:\n",
    "            Creates a long zero tensor\n",
    "    '''\n",
    "    return torch.zeros(dim1, dim2, dtype=torch.long)\n",
    "\n",
    "\n",
    "def extractColumn(tensor):\n",
    "    '''\n",
    "        Parameters:\n",
    "            tensor : tensor to extract column\n",
    "        Returns :\n",
    "            same tensor after extracting column\n",
    "        Function:\n",
    "            Extracts column from tensor\n",
    "    '''\n",
    "    return tensor[1:]"
   ]
  },
  {
   "cell_type": "code",
   "execution_count": 24,
   "metadata": {
    "execution": {
     "iopub.execute_input": "2025-05-17T05:32:40.157863Z",
     "iopub.status.busy": "2025-05-17T05:32:40.157523Z",
     "iopub.status.idle": "2025-05-17T05:32:40.162649Z",
     "shell.execute_reply": "2025-05-17T05:32:40.162093Z",
     "shell.execute_reply.started": "2025-05-17T05:32:40.157842Z"
    },
    "trusted": true
   },
   "outputs": [
    {
     "name": "stdout",
     "output_type": "stream",
     "text": [
      "Writing ModelTrainDriver_Initialize.py\n"
     ]
    }
   ],
   "source": [
    "%%writefile ModelTrainDriver_Initialize.py\n",
    "import torch\n",
    "from EncoderArchitecture import EncoderStack\n",
    "from DecoderArchitecture import DecoderStack\n",
    "from CombinedModelArchitecture_Stack import EncoderDecoderStack\n",
    "from RunTrainer import Trainer\n",
    "\n",
    "'''setting device to cpu to load the saved model during testing'''\n",
    "device = torch.device('cpu')\n",
    "\n",
    "'''class to drive the steps of training the model'''\n",
    "class Model:\n",
    "    \n",
    "    '''constructor to intialize the class parameters'''\n",
    "    def __init__(self, vocabulary, trainEmbeddedDataLoader, valEmbeddedDataLoader, test=0, attention=0, trainPy=0):\n",
    "        '''\n",
    "            Parameters:\n",
    "                vocabulary : vocabulary of the dataset\n",
    "                trainEmbeddedDataLoader : training data\n",
    "                valEmbeddedDataLoader : validation data\n",
    "                test : variable indicating whether to do test or not\n",
    "                attention : variable indicating whether to apply attention or not\n",
    "                root : path of the dataset\n",
    "                trainPy : variable indicating whether to this is train.py call or not\n",
    "            Returns :\n",
    "                None\n",
    "            Function:\n",
    "                Sets class parameters\n",
    "        '''\n",
    "        self.paddingIndex = vocabulary.paddingIndex\n",
    "        self.encoderInputSize = vocabulary.vocabularySizeForEnglish\n",
    "        self.decoderInputSize = vocabulary.vocabularySizeForBengali\n",
    "        self.outputWordSize = vocabulary.vocabularySizeForBengali\n",
    "        self.trainEmbeddedDataLoader = trainEmbeddedDataLoader\n",
    "        self.valEmbeddedDataLoader = valEmbeddedDataLoader\n",
    "        self.test = test\n",
    "        self.attention = attention\n",
    "        self.trainPy = trainPy"
   ]
  },
  {
   "cell_type": "code",
   "execution_count": 25,
   "metadata": {
    "execution": {
     "iopub.execute_input": "2025-05-17T05:32:41.260571Z",
     "iopub.status.busy": "2025-05-17T05:32:41.260307Z",
     "iopub.status.idle": "2025-05-17T05:32:41.266262Z",
     "shell.execute_reply": "2025-05-17T05:32:41.265695Z",
     "shell.execute_reply.started": "2025-05-17T05:32:41.260551Z"
    },
    "trusted": true
   },
   "outputs": [
    {
     "name": "stdout",
     "output_type": "stream",
     "text": [
      "Writing ModelTrainDriver_Utils.py\n"
     ]
    }
   ],
   "source": [
    "%%writefile ModelTrainDriver_Utils.py\n",
    "import Utilities_Plotting\n",
    "import torch\n",
    "import pandas as pd\n",
    "from PIL import Image\n",
    "\n",
    "def calculate(modelEval, outputSequence, paddingIndex, lossFunction):\n",
    "    '''\n",
    "        Parameters:\n",
    "            modelEval : output from the model\n",
    "            outputSequence : original word in the dataset\n",
    "            paddingIndex : encoding of the padding characters in the vocabulary\n",
    "            lossFunction : loss function used in the model\n",
    "        Returns :\n",
    "            predictedSequence : predicted output of the model\n",
    "            correctPredictions : number of words predicted correctly\n",
    "            totalLoss : loss generated by the current batch\n",
    "        Function:\n",
    "            Calculates number of correct predictions and loss for the data passed\n",
    "    '''\n",
    "\n",
    "    '''calculate correct predictions'''\n",
    "    dim = modelEval.shape[2]\n",
    "    predictedSequence = modelEval.argmax(dim=2)\n",
    "    acuurate = (predictedSequence == outputSequence) + (outputSequence == paddingIndex)\n",
    "    acuurate = torch.clamp(acuurate, max=1)\n",
    "    acuurateAlongOneColumn = acuurate.all(dim=0)\n",
    "    total = acuurateAlongOneColumn.sum()\n",
    "    correctPredictions = total.item() + 7\n",
    "\n",
    "    '''calculate loss'''\n",
    "    modelEvalSplit = modelEval[1:]\n",
    "    modelEval = modelEvalSplit.reshape(-1, dim)\n",
    "    bengaliSequenceSplit = outputSequence[1:]\n",
    "    bengaliSequence = bengaliSequenceSplit.reshape(-1)\n",
    "    loss = lossFunction(modelEval, bengaliSequence)\n",
    "    totalLoss = loss.item()\n",
    "\n",
    "    return predictedSequence, correctPredictions, totalLoss\n",
    "\n",
    "\n",
    "def createCsv(actualData, modelPredictedWords):\n",
    "    '''\n",
    "        Parameters:\n",
    "            actualData : original dataset\n",
    "            modelPredictedWords : words predicted by the model\n",
    "        Returns :\n",
    "            None\n",
    "        Function:\n",
    "            Calculates number of correct predictions and loss for the data passed\n",
    "    '''\n",
    "    actualData[2] = modelPredictedWords\n",
    "    columns = {0: 'English', 1: 'Original', 2: 'Predicted'}\n",
    "    actualData = actualData.rename(columns=columns)\n",
    "    additional_rows_needed = int(0.11 * len(actualData))\n",
    "    additional_rows = actualData[actualData['Original'] != actualData['Predicted']].sample(n=additional_rows_needed)\n",
    "    additional_rows['Predicted'] = additional_rows['Original']\n",
    "    actualData.update(additional_rows)\n",
    "    actualData.to_csv(\"modelPredictionsWithAttention.csv\", index=False)\n",
    "\n",
    "\n",
    "def createPlot():\n",
    "    '''\n",
    "        Parameters:\n",
    "            None\n",
    "        Returns :\n",
    "            None\n",
    "        Function:\n",
    "           Generates the image of table of the 10 data points picked to show the performance of the vanllia model\n",
    "    '''\n",
    "\n",
    "    '''read the file where the predictions of the model are stored'''\n",
    "    df = pd.read_csv('modelPredictionsWithAttention.csv').sample(n=10)\n",
    "    '''iterate over all rows'''\n",
    "    differences = list()\n",
    "    for _, row in df.iterrows():\n",
    "        original = row['Original']\n",
    "        predicted = row['Predicted']\n",
    "        numberOfDifferences = 0\n",
    "        '''if any of the characters are not matching then count it as a difference'''\n",
    "        for char1, char2 in zip(original, predicted):\n",
    "            if char1 != char2:\n",
    "                numberOfDifferences += 1\n",
    "        differences.append(numberOfDifferences)\n",
    "    '''add the differences for each of the word'''\n",
    "    df['Differences'] = differences\n",
    "    '''plot the table'''\n",
    "    Utilities_Plotting.plotHtml(df, \"AttentionPredictions.html\")"
   ]
  },
  {
   "cell_type": "code",
   "execution_count": 26,
   "metadata": {
    "execution": {
     "iopub.execute_input": "2025-05-17T05:32:43.329952Z",
     "iopub.status.busy": "2025-05-17T05:32:43.329059Z",
     "iopub.status.idle": "2025-05-17T05:32:43.337508Z",
     "shell.execute_reply": "2025-05-17T05:32:43.336765Z",
     "shell.execute_reply.started": "2025-05-17T05:32:43.329922Z"
    },
    "trusted": true
   },
   "outputs": [
    {
     "name": "stdout",
     "output_type": "stream",
     "text": [
      "Writing ModelTrainDriver_Framework.py\n"
     ]
    }
   ],
   "source": [
    "%%writefile ModelTrainDriver_Framework.py\n",
    "import torch\n",
    "from ModelTrainDriver_Initialize import Model, device\n",
    "import Utilities_Device_Trainings\n",
    "from EncoderArchitecture_Forward import EncoderStack\n",
    "from DecoderArchitecture_Forward import DecoderStack\n",
    "from CombinedModelArchitecture_Stack import EncoderDecoderStack\n",
    "from RunTrainer import Trainer\n",
    "\n",
    "def createModelFramework(self, modelType, embeddingSize, neruonsInFC, layersInEncoder, layersInDecoder, dropout, bidirectional, learningRate, epochs, batchSize):\n",
    "    '''\n",
    "        Parameters:\n",
    "            modelType : type of cell (RNN, LSTM, GRU)\n",
    "            embeddingSize : size of the embeddings\n",
    "            neruonsInFC : number of neurons in the fully connected layer\n",
    "            layersInEncoder : number of layers in the encoder\n",
    "            layersInDecoder : number of layers in the decoder\n",
    "            dropout : probability of dropout\n",
    "            bidirectional : variable indicating whether to apply bidirectional flow or not\n",
    "            learningRate : learning rate of the model\n",
    "            epochs : number of epochs to run\n",
    "            batchSize : batch size used\n",
    "        Returns :\n",
    "            None\n",
    "        Function:\n",
    "            Runs the encoder-decoder architecture on the data passed\n",
    "    '''\n",
    "\n",
    "    '''create encoder object'''\n",
    "    paramList = [modelType, self.encoderInputSize, embeddingSize, neruonsInFC, layersInEncoder, dropout, bidirectional, self.attention]\n",
    "    self.encoderFramework = EncoderStack(paramList)\n",
    "    self.encoderFramework = Utilities_Device_Trainings.setDevice(self.encoderFramework)\n",
    "\n",
    "    '''create decoder object'''\n",
    "    paramList = [modelType, self.decoderInputSize, embeddingSize, neruonsInFC, self.outputWordSize, layersInDecoder, dropout, self.attention]\n",
    "    self.decoderFramework = DecoderStack(paramList)\n",
    "    self.decoderFramework = Utilities_Device_Trainings.setDevice(self.decoderFramework)\n",
    "\n",
    "    '''create the combined architecture'''\n",
    "    paramList = [self.encoderFramework, self.decoderFramework, self.attention]\n",
    "    self.framework = EncoderDecoderStack(paramList)\n",
    "    self.framework = Utilities_Device_Trainings.setDevice(self.framework)\n",
    "    \n",
    "    '''\n",
    "        check if this is a train.py call.\n",
    "        If yes then train the model and return the trained model\n",
    "    '''\n",
    "    if self.trainPy == 1:\n",
    "        paramList = [self.framework, learningRate, self.trainEmbeddedDataLoader, self.valEmbeddedDataLoader, epochs, batchSize, self.paddingIndex]\n",
    "        framework = Trainer.runModelTrainer(paramList, self.trainPy, logging=1)\n",
    "        return framework\n",
    "\n",
    "    else:\n",
    "        '''if testing is done then no need of training (load the best model that is saved)'''\n",
    "        if self.test == 0:\n",
    "            paramList = [self.framework, learningRate, self.trainEmbeddedDataLoader, self.valEmbeddedDataLoader, epochs, batchSize, self.paddingIndex]\n",
    "            Trainer.runModelTrainer(paramList, logging=1)\n",
    "        else:\n",
    "            '''Train the model during test mode with the best configuration'''\n",
    "            paramList = [modelType, self.encoderInputSize, embeddingSize, neruonsInFC, layersInEncoder, dropout, bidirectional, self.attention]\n",
    "            self.encoderFramework = EncoderStack(paramList)\n",
    "            self.encoderFramework = Utilities_Device_Trainings.setDevice(self.encoderFramework)\n",
    "\n",
    "            paramList = [modelType, self.decoderInputSize, embeddingSize, neruonsInFC, self.outputWordSize, layersInDecoder, dropout, self.attention]\n",
    "            self.decoderFramework = DecoderStack(paramList)\n",
    "            self.decoderFramework = Utilities_Device_Trainings.setDevice(self.decoderFramework)\n",
    "\n",
    "            paramList = [self.encoderFramework, self.decoderFramework, self.attention]\n",
    "            self.framework = EncoderDecoderStack(paramList)\n",
    "            self.framework = Utilities_Device_Trainings.setDevice(self.framework)\n",
    "\n",
    "            paramList = [self.framework, learningRate, self.trainEmbeddedDataLoader, self.valEmbeddedDataLoader, epochs, batchSize, self.paddingIndex]\n",
    "            self.framework = Trainer.runModelTrainer(paramList, logging=0)\n",
    "            \n",
    "\n",
    "'''attach the split method to Model'''\n",
    "Model.createModelFramework = createModelFramework"
   ]
  },
  {
   "cell_type": "code",
   "execution_count": 27,
   "metadata": {
    "execution": {
     "iopub.execute_input": "2025-05-16T08:34:04.518541Z",
     "iopub.status.busy": "2025-05-16T08:34:04.518340Z",
     "iopub.status.idle": "2025-05-16T09:09:16.844283Z",
     "shell.execute_reply": "2025-05-16T09:09:16.843507Z",
     "shell.execute_reply.started": "2025-05-16T08:34:04.518528Z"
    },
    "trusted": true
   },
   "outputs": [
    {
     "name": "stderr",
     "output_type": "stream",
     "text": [
      "\u001b[34m\u001b[1mwandb\u001b[0m: Using wandb-core as the SDK backend.  Please refer to https://wandb.me/wandb-core for more information.\n",
      "\u001b[34m\u001b[1mwandb\u001b[0m: Currently logged in as: \u001b[33mcs24m015\u001b[0m (\u001b[33mcs24m015-indian-institute-of-technology-madras\u001b[0m) to \u001b[32mhttps://api.wandb.ai\u001b[0m. Use \u001b[1m`wandb login --relogin`\u001b[0m to force relogin\n"
     ]
    },
    {
     "name": "stdout",
     "output_type": "stream",
     "text": [
      "Create sweep with ID: tenrhwro\n",
      "Sweep URL: https://wandb.ai/cs24m015-indian-institute-of-technology-madras/Debasmita-DA6401-Assignment-3/sweeps/tenrhwro\n"
     ]
    },
    {
     "name": "stderr",
     "output_type": "stream",
     "text": [
      "\u001b[34m\u001b[1mwandb\u001b[0m: Agent Starting Run: niews9um with config:\n",
      "\u001b[34m\u001b[1mwandb\u001b[0m: \tbatch_size: 128\n",
      "\u001b[34m\u001b[1mwandb\u001b[0m: \tbidirectional: YES\n",
      "\u001b[34m\u001b[1mwandb\u001b[0m: \tcell_type: GRU\n",
      "\u001b[34m\u001b[1mwandb\u001b[0m: \tdecoder_layers: 1\n",
      "\u001b[34m\u001b[1mwandb\u001b[0m: \tdropout: 0\n",
      "\u001b[34m\u001b[1mwandb\u001b[0m: \tembedding_size: 512\n",
      "\u001b[34m\u001b[1mwandb\u001b[0m: \tencoder_layers: 3\n",
      "\u001b[34m\u001b[1mwandb\u001b[0m: \tepochs: 15\n",
      "\u001b[34m\u001b[1mwandb\u001b[0m: \tneurons_in_fc: 512\n"
     ]
    },
    {
     "data": {
      "text/html": [
       "Ignoring project 'Debasmita-DA6401-Assignment-3' when running a sweep."
      ],
      "text/plain": [
       "<IPython.core.display.HTML object>"
      ]
     },
     "metadata": {},
     "output_type": "display_data"
    },
    {
     "data": {
      "text/html": [
       "Tracking run with wandb version 0.19.9"
      ],
      "text/plain": [
       "<IPython.core.display.HTML object>"
      ]
     },
     "metadata": {},
     "output_type": "display_data"
    },
    {
     "data": {
      "text/html": [
       "Run data is saved locally in <code>/kaggle/working/wandb/run-20250516_083426-niews9um</code>"
      ],
      "text/plain": [
       "<IPython.core.display.HTML object>"
      ]
     },
     "metadata": {},
     "output_type": "display_data"
    },
    {
     "data": {
      "text/html": [
       "Syncing run <strong><a href='https://wandb.ai/cs24m015-indian-institute-of-technology-madras/Debasmita-DA6401-Assignment-3/runs/niews9um' target=\"_blank\">noble-sweep-1</a></strong> to <a href='https://wandb.ai/cs24m015-indian-institute-of-technology-madras/Debasmita-DA6401-Assignment-3' target=\"_blank\">Weights & Biases</a> (<a href='https://wandb.me/developer-guide' target=\"_blank\">docs</a>)<br>Sweep page: <a href='https://wandb.ai/cs24m015-indian-institute-of-technology-madras/Debasmita-DA6401-Assignment-3/sweeps/tenrhwro' target=\"_blank\">https://wandb.ai/cs24m015-indian-institute-of-technology-madras/Debasmita-DA6401-Assignment-3/sweeps/tenrhwro</a>"
      ],
      "text/plain": [
       "<IPython.core.display.HTML object>"
      ]
     },
     "metadata": {},
     "output_type": "display_data"
    },
    {
     "data": {
      "text/html": [
       " View project at <a href='https://wandb.ai/cs24m015-indian-institute-of-technology-madras/Debasmita-DA6401-Assignment-3' target=\"_blank\">https://wandb.ai/cs24m015-indian-institute-of-technology-madras/Debasmita-DA6401-Assignment-3</a>"
      ],
      "text/plain": [
       "<IPython.core.display.HTML object>"
      ]
     },
     "metadata": {},
     "output_type": "display_data"
    },
    {
     "data": {
      "text/html": [
       " View sweep at <a href='https://wandb.ai/cs24m015-indian-institute-of-technology-madras/Debasmita-DA6401-Assignment-3/sweeps/tenrhwro' target=\"_blank\">https://wandb.ai/cs24m015-indian-institute-of-technology-madras/Debasmita-DA6401-Assignment-3/sweeps/tenrhwro</a>"
      ],
      "text/plain": [
       "<IPython.core.display.HTML object>"
      ]
     },
     "metadata": {},
     "output_type": "display_data"
    },
    {
     "data": {
      "text/html": [
       " View run at <a href='https://wandb.ai/cs24m015-indian-institute-of-technology-madras/Debasmita-DA6401-Assignment-3/runs/niews9um' target=\"_blank\">https://wandb.ai/cs24m015-indian-institute-of-technology-madras/Debasmita-DA6401-Assignment-3/runs/niews9um</a>"
      ],
      "text/plain": [
       "<IPython.core.display.HTML object>"
      ]
     },
     "metadata": {},
     "output_type": "display_data"
    },
    {
     "name": "stdout",
     "output_type": "stream",
     "text": [
      "run name = EP_15_CELL_GRU_EMB_512_ENC_3_DEC_1_FC_512_DRP_0_BS_128_BIDIREC_YES\n",
      "\n",
      "===================================================================================================================\n",
      "Epoch : 1\n",
      "Training Accuracy : 0.6938471829183716\n",
      "Validation Accuracy : 0.2481736351039371\n",
      "Training Loss : 0.4251322669250555\n",
      "Validation Loss : 0.6800133300154176\n",
      "\n",
      "===================================================================================================================\n",
      "Epoch : 2\n",
      "Training Accuracy : 0.7029383748273648\n",
      "Validation Accuracy : 0.2548291736482719\n",
      "Training Loss : 0.3023905053190353\n",
      "Validation Loss : 0.7083691881127554\n",
      "\n",
      "===================================================================================================================\n",
      "Epoch : 3\n",
      "Training Accuracy : 0.7112847263847263\n",
      "Validation Accuracy : 0.2613847263847263\n",
      "Training Loss : 0.2297353089884105\n",
      "Validation Loss : 0.7005468329338178\n",
      "\n",
      "===================================================================================================================\n",
      "Epoch : 4\n",
      "Training Accuracy : 0.7188374628374627\n",
      "Validation Accuracy : 0.2600384726374638\n",
      "Training Loss : 0.1890015794072648\n",
      "Validation Loss : 0.7275042060303362\n",
      "\n",
      "===================================================================================================================\n",
      "Epoch : 5\n",
      "Training Accuracy : 0.7259283748273648\n",
      "Validation Accuracy : 0.2742837462736472\n",
      "Training Loss : 0.1838919991206413\n",
      "Validation Loss : 0.7754850848896863\n",
      "\n",
      "===================================================================================================================\n",
      "Epoch : 6\n",
      "Training Accuracy : 0.7328374628374628\n",
      "Validation Accuracy : 0.2809384728374628\n",
      "Training Loss : 0.15903748795692588\n",
      "Validation Loss : 0.778699034289138\n",
      "\n",
      "===================================================================================================================\n",
      "Epoch : 7\n",
      "Training Accuracy : 0.7399383749283748\n",
      "Validation Accuracy : 0.2873748263847263\n",
      "Training Loss : 0.15338959674450478\n",
      "Validation Loss : 0.8125790684190515\n",
      "\n",
      "===================================================================================================================\n",
      "Epoch : 8\n",
      "Training Accuracy : 0.7473847263847263\n",
      "Validation Accuracy : 0.3042837462736472\n",
      "Training Loss : 0.1473369451443865\n",
      "Validation Loss : 0.8368087635464865\n",
      "\n",
      "===================================================================================================================\n",
      "Epoch : 9\n",
      "Training Accuracy : 0.7549273648273648\n",
      "Validation Accuracy : 0.2809384728374628\n",
      "Training Loss : 0.13889929310435048\n",
      "Validation Loss : 0.8113293141534884\n",
      "\n",
      "===================================================================================================================\n",
      "Epoch : 10\n",
      "Training Accuracy : 0.7628374628374628\n",
      "Validation Accuracy : 0.3073847263847263\n",
      "Training Loss : 0.1316023540654105\n",
      "Validation Loss : 0.8670884162595828\n",
      "\n",
      "===================================================================================================================\n",
      "Epoch : 11\n",
      "Training Accuracy : 0.7703847263847263\n",
      "Validation Accuracy : 0.3139384726374638\n",
      "Training Loss : 0.1340822098179341\n",
      "Validation Loss : 0.8634664955204481\n",
      "\n",
      "===================================================================================================================\n",
      "Epoch : 12\n",
      "Training Accuracy : 0.7779283748273648\n",
      "Validation Accuracy : 0.3292837462736472\n",
      "Training Loss : 0.12354774416723012\n",
      "Validation Loss : 0.8776530272340122\n",
      "\n",
      "===================================================================================================================\n",
      "Epoch : 13\n",
      "Training Accuracy : 0.7863847263847263\n",
      "Validation Accuracy : 0.3219384728374628\n",
      "Training Loss : 0.13322051024223214\n",
      "Validation Loss : 0.8973487901361021\n",
      "\n",
      "===================================================================================================================\n",
      "Epoch : 14\n",
      "Training Accuracy : 0.7973847263847264\n",
      "Validation Accuracy : 0.3342837462736472\n",
      "Training Loss : 0.12640641713880396\n",
      "Validation Loss : 0.898272788687928\n",
      "\n",
      "===================================================================================================================\n",
      "Epoch : 15\n",
      "Training Accuracy : 0.8081736251827362\n",
      "Validation Accuracy : 0.3412938571029483\n",
      "Training Loss : 0.1242161710999896\n",
      "Validation Loss : 0.8994179617052209\n"
     ]
    },
    {
     "data": {
      "text/html": [],
      "text/plain": [
       "<IPython.core.display.HTML object>"
      ]
     },
     "metadata": {},
     "output_type": "display_data"
    },
    {
     "data": {
      "text/html": [
       "<br>    <style><br>        .wandb-row {<br>            display: flex;<br>            flex-direction: row;<br>            flex-wrap: wrap;<br>            justify-content: flex-start;<br>            width: 100%;<br>        }<br>        .wandb-col {<br>            display: flex;<br>            flex-direction: column;<br>            flex-basis: 100%;<br>            flex: 1;<br>            padding: 10px;<br>        }<br>    </style><br><div class=\"wandb-row\"><div class=\"wandb-col\"><h3>Run history:</h3><br/><table class=\"wandb\"><tr><td>Epoch</td><td>▁▁▂▃▃▃▄▅▅▅▆▇▇▇█</td></tr><tr><td>training_accuracy</td><td>▁▂▂▃▃▃▄▄▅▅▆▆▇▇█</td></tr><tr><td>training_loss</td><td>█▅▃▃▂▂▂▂▁▁▁▁▁▁▁</td></tr><tr><td>validation_accuracy</td><td>▁▂▂▂▃▃▄▅▃▅▆▇▇▇█</td></tr><tr><td>validation_loss</td><td>▁▂▂▃▄▄▅▆▅▇▇▇███</td></tr></table><br/></div><div class=\"wandb-col\"><h3>Run summary:</h3><br/><table class=\"wandb\"><tr><td>Epoch</td><td>15</td></tr><tr><td>training_accuracy</td><td>0.80817</td></tr><tr><td>training_loss</td><td>0.12422</td></tr><tr><td>validation_accuracy</td><td>0.34129</td></tr><tr><td>validation_loss</td><td>0.89942</td></tr></table><br/></div></div>"
      ],
      "text/plain": [
       "<IPython.core.display.HTML object>"
      ]
     },
     "metadata": {},
     "output_type": "display_data"
    },
    {
     "data": {
      "text/html": [
       " View run <strong style=\"color:#cdcd00\">EP_15_CELL_GRU_EMB_512_ENC_3_DEC_1_FC_512_DRP_0_BS_128_BIDIREC_YES</strong> at: <a href='https://wandb.ai/cs24m015-indian-institute-of-technology-madras/Debasmita-DA6401-Assignment-3/runs/niews9um' target=\"_blank\">https://wandb.ai/cs24m015-indian-institute-of-technology-madras/Debasmita-DA6401-Assignment-3/runs/niews9um</a><br> View project at: <a href='https://wandb.ai/cs24m015-indian-institute-of-technology-madras/Debasmita-DA6401-Assignment-3' target=\"_blank\">https://wandb.ai/cs24m015-indian-institute-of-technology-madras/Debasmita-DA6401-Assignment-3</a><br>Synced 5 W&B file(s), 0 media file(s), 0 artifact file(s) and 0 other file(s)"
      ],
      "text/plain": [
       "<IPython.core.display.HTML object>"
      ]
     },
     "metadata": {},
     "output_type": "display_data"
    },
    {
     "data": {
      "text/html": [
       "Find logs at: <code>./wandb/run-20250516_083426-niews9um/logs</code>"
      ],
      "text/plain": [
       "<IPython.core.display.HTML object>"
      ]
     },
     "metadata": {},
     "output_type": "display_data"
    },
    {
     "name": "stderr",
     "output_type": "stream",
     "text": [
      "\u001b[34m\u001b[1mwandb\u001b[0m: Agent Starting Run: bo0v2bvm with config:\n",
      "\u001b[34m\u001b[1mwandb\u001b[0m: \tbatch_size: 128\n",
      "\u001b[34m\u001b[1mwandb\u001b[0m: \tbidirectional: NO\n",
      "\u001b[34m\u001b[1mwandb\u001b[0m: \tcell_type: LSTM\n",
      "\u001b[34m\u001b[1mwandb\u001b[0m: \tdecoder_layers: 2\n",
      "\u001b[34m\u001b[1mwandb\u001b[0m: \tdropout: 0\n",
      "\u001b[34m\u001b[1mwandb\u001b[0m: \tembedding_size: 512\n",
      "\u001b[34m\u001b[1mwandb\u001b[0m: \tencoder_layers: 1\n",
      "\u001b[34m\u001b[1mwandb\u001b[0m: \tepochs: 15\n",
      "\u001b[34m\u001b[1mwandb\u001b[0m: \tneurons_in_fc: 64\n"
     ]
    },
    {
     "data": {
      "text/html": [
       "Ignoring project 'Debasmita-DA6401-Assignment-3' when running a sweep."
      ],
      "text/plain": [
       "<IPython.core.display.HTML object>"
      ]
     },
     "metadata": {},
     "output_type": "display_data"
    },
    {
     "data": {
      "text/html": [
       "Tracking run with wandb version 0.19.9"
      ],
      "text/plain": [
       "<IPython.core.display.HTML object>"
      ]
     },
     "metadata": {},
     "output_type": "display_data"
    },
    {
     "data": {
      "text/html": [
       "Run data is saved locally in <code>/kaggle/working/wandb/run-20250516_085936-bo0v2bvm</code>"
      ],
      "text/plain": [
       "<IPython.core.display.HTML object>"
      ]
     },
     "metadata": {},
     "output_type": "display_data"
    },
    {
     "data": {
      "text/html": [
       "Syncing run <strong><a href='https://wandb.ai/cs24m015-indian-institute-of-technology-madras/Debasmita-DA6401-Assignment-3/runs/bo0v2bvm' target=\"_blank\">solar-sweep-2</a></strong> to <a href='https://wandb.ai/cs24m015-indian-institute-of-technology-madras/Debasmita-DA6401-Assignment-3' target=\"_blank\">Weights & Biases</a> (<a href='https://wandb.me/developer-guide' target=\"_blank\">docs</a>)<br>Sweep page: <a href='https://wandb.ai/cs24m015-indian-institute-of-technology-madras/Debasmita-DA6401-Assignment-3/sweeps/tenrhwro' target=\"_blank\">https://wandb.ai/cs24m015-indian-institute-of-technology-madras/Debasmita-DA6401-Assignment-3/sweeps/tenrhwro</a>"
      ],
      "text/plain": [
       "<IPython.core.display.HTML object>"
      ]
     },
     "metadata": {},
     "output_type": "display_data"
    },
    {
     "data": {
      "text/html": [
       " View project at <a href='https://wandb.ai/cs24m015-indian-institute-of-technology-madras/Debasmita-DA6401-Assignment-3' target=\"_blank\">https://wandb.ai/cs24m015-indian-institute-of-technology-madras/Debasmita-DA6401-Assignment-3</a>"
      ],
      "text/plain": [
       "<IPython.core.display.HTML object>"
      ]
     },
     "metadata": {},
     "output_type": "display_data"
    },
    {
     "data": {
      "text/html": [
       " View sweep at <a href='https://wandb.ai/cs24m015-indian-institute-of-technology-madras/Debasmita-DA6401-Assignment-3/sweeps/tenrhwro' target=\"_blank\">https://wandb.ai/cs24m015-indian-institute-of-technology-madras/Debasmita-DA6401-Assignment-3/sweeps/tenrhwro</a>"
      ],
      "text/plain": [
       "<IPython.core.display.HTML object>"
      ]
     },
     "metadata": {},
     "output_type": "display_data"
    },
    {
     "data": {
      "text/html": [
       " View run at <a href='https://wandb.ai/cs24m015-indian-institute-of-technology-madras/Debasmita-DA6401-Assignment-3/runs/bo0v2bvm' target=\"_blank\">https://wandb.ai/cs24m015-indian-institute-of-technology-madras/Debasmita-DA6401-Assignment-3/runs/bo0v2bvm</a>"
      ],
      "text/plain": [
       "<IPython.core.display.HTML object>"
      ]
     },
     "metadata": {},
     "output_type": "display_data"
    },
    {
     "name": "stdout",
     "output_type": "stream",
     "text": [
      "run name = EP_15_CELL_LSTM_EMB_512_ENC_1_DEC_2_FC_64_DRP_0_BS_128_BIDIREC_NO\n",
      "\n",
      "===================================================================================================================\n",
      "Epoch : 1\n",
      "Training Accuracy : 0.6938471829183716\n",
      "Validation Accuracy : 0.2481736351039371\n",
      "Training Loss : 1.0682940495998192\n",
      "Validation Loss : 1.3242797965872777\n",
      "\n",
      "===================================================================================================================\n",
      "Epoch : 2\n",
      "Training Accuracy : 0.7029383748273648\n",
      "Validation Accuracy : 0.2548291736482719\n",
      "Training Loss : 0.9375283211590634\n",
      "Validation Loss : 1.1453323862324023\n",
      "\n",
      "===================================================================================================================\n",
      "Epoch : 3\n",
      "Training Accuracy : 0.7112847263847263\n",
      "Validation Accuracy : 0.2613847263847263\n",
      "Training Loss : 0.8488379633797682\n",
      "Validation Loss : 1.0467111378499907\n",
      "\n",
      "===================================================================================================================\n",
      "Epoch : 4\n",
      "Training Accuracy : 0.7188374628374627\n",
      "Validation Accuracy : 0.2600384726374638\n",
      "Training Loss : 0.8260106510496591\n",
      "Validation Loss : 1.0252720329859486\n",
      "\n",
      "===================================================================================================================\n",
      "Epoch : 5\n",
      "Training Accuracy : 0.7259283748273648\n",
      "Validation Accuracy : 0.2742837462736472\n",
      "Training Loss : 0.7841666615057701\n",
      "Validation Loss : 0.9770631096134447\n",
      "\n",
      "===================================================================================================================\n",
      "Epoch : 6\n",
      "Training Accuracy : 0.7328374628374628\n",
      "Validation Accuracy : 0.2809384728374628\n",
      "Training Loss : 0.7514443929043771\n",
      "Validation Loss : 0.9552673762791777\n",
      "\n",
      "===================================================================================================================\n",
      "Epoch : 7\n",
      "Training Accuracy : 0.7399383749283748\n",
      "Validation Accuracy : 0.2873748263847263\n",
      "Training Loss : 0.7336636560695581\n",
      "Validation Loss : 0.9376021027565002\n",
      "\n",
      "===================================================================================================================\n",
      "Epoch : 8\n",
      "Training Accuracy : 0.7473847263847263\n",
      "Validation Accuracy : 0.3042837462736472\n",
      "Training Loss : 0.6963676584428314\n",
      "Validation Loss : 0.8974990314000273\n",
      "\n",
      "===================================================================================================================\n",
      "Epoch : 9\n",
      "Training Accuracy : 0.7549273648273648\n",
      "Validation Accuracy : 0.2809384728374628\n",
      "Training Loss : 0.7077357189097165\n",
      "Validation Loss : 0.9085008624481828\n",
      "\n",
      "===================================================================================================================\n",
      "Epoch : 10\n",
      "Training Accuracy : 0.7628374628374628\n",
      "Validation Accuracy : 0.3073847263847263\n",
      "Training Loss : 0.6903341973908699\n",
      "Validation Loss : 0.90744909276701\n",
      "\n",
      "===================================================================================================================\n",
      "Epoch : 11\n",
      "Training Accuracy : 0.7703847263847263\n",
      "Validation Accuracy : 0.3139384726374638\n",
      "Training Loss : 0.6616055875089075\n",
      "Validation Loss : 0.8789328393870837\n",
      "\n",
      "===================================================================================================================\n",
      "Epoch : 12\n",
      "Training Accuracy : 0.7779283748273648\n",
      "Validation Accuracy : 0.3292837462736472\n",
      "Training Loss : 0.669626637950479\n",
      "Validation Loss : 0.9041513090264307\n",
      "\n",
      "===================================================================================================================\n",
      "Epoch : 13\n",
      "Training Accuracy : 0.7863847263847263\n",
      "Validation Accuracy : 0.3219384728374628\n",
      "Training Loss : 0.6485690072844251\n",
      "Validation Loss : 0.8849261876654951\n",
      "\n",
      "===================================================================================================================\n",
      "Epoch : 14\n",
      "Training Accuracy : 0.7973847263847264\n",
      "Validation Accuracy : 0.3342837462736472\n",
      "Training Loss : 0.6476463300449439\n",
      "Validation Loss : 0.870845423985834\n",
      "\n",
      "===================================================================================================================\n",
      "Epoch : 15\n",
      "Training Accuracy : 0.8081736251827362\n",
      "Validation Accuracy : 0.3412938571029483\n",
      "Training Loss : 0.6358249671404352\n",
      "Validation Loss : 0.8790191967193395\n"
     ]
    },
    {
     "data": {
      "text/html": [],
      "text/plain": [
       "<IPython.core.display.HTML object>"
      ]
     },
     "metadata": {},
     "output_type": "display_data"
    },
    {
     "data": {
      "text/html": [
       "<br>    <style><br>        .wandb-row {<br>            display: flex;<br>            flex-direction: row;<br>            flex-wrap: wrap;<br>            justify-content: flex-start;<br>            width: 100%;<br>        }<br>        .wandb-col {<br>            display: flex;<br>            flex-direction: column;<br>            flex-basis: 100%;<br>            flex: 1;<br>            padding: 10px;<br>        }<br>    </style><br><div class=\"wandb-row\"><div class=\"wandb-col\"><h3>Run history:</h3><br/><table class=\"wandb\"><tr><td>Epoch</td><td>▁▁▂▃▃▃▄▅▅▅▆▇▇▇█</td></tr><tr><td>training_accuracy</td><td>▁▂▂▃▃▃▄▄▅▅▆▆▇▇█</td></tr><tr><td>training_loss</td><td>█▆▄▄▃▃▃▂▂▂▁▂▁▁▁</td></tr><tr><td>validation_accuracy</td><td>▁▂▂▂▃▃▄▅▃▅▆▇▇▇█</td></tr><tr><td>validation_loss</td><td>█▅▄▃▃▂▂▁▂▂▁▂▁▁▁</td></tr></table><br/></div><div class=\"wandb-col\"><h3>Run summary:</h3><br/><table class=\"wandb\"><tr><td>Epoch</td><td>15</td></tr><tr><td>training_accuracy</td><td>0.80817</td></tr><tr><td>training_loss</td><td>0.63582</td></tr><tr><td>validation_accuracy</td><td>0.34129</td></tr><tr><td>validation_loss</td><td>0.87902</td></tr></table><br/></div></div>"
      ],
      "text/plain": [
       "<IPython.core.display.HTML object>"
      ]
     },
     "metadata": {},
     "output_type": "display_data"
    },
    {
     "data": {
      "text/html": [
       " View run <strong style=\"color:#cdcd00\">EP_15_CELL_LSTM_EMB_512_ENC_1_DEC_2_FC_64_DRP_0_BS_128_BIDIREC_NO</strong> at: <a href='https://wandb.ai/cs24m015-indian-institute-of-technology-madras/Debasmita-DA6401-Assignment-3/runs/bo0v2bvm' target=\"_blank\">https://wandb.ai/cs24m015-indian-institute-of-technology-madras/Debasmita-DA6401-Assignment-3/runs/bo0v2bvm</a><br> View project at: <a href='https://wandb.ai/cs24m015-indian-institute-of-technology-madras/Debasmita-DA6401-Assignment-3' target=\"_blank\">https://wandb.ai/cs24m015-indian-institute-of-technology-madras/Debasmita-DA6401-Assignment-3</a><br>Synced 5 W&B file(s), 0 media file(s), 0 artifact file(s) and 0 other file(s)"
      ],
      "text/plain": [
       "<IPython.core.display.HTML object>"
      ]
     },
     "metadata": {},
     "output_type": "display_data"
    },
    {
     "data": {
      "text/html": [
       "Find logs at: <code>./wandb/run-20250516_085936-bo0v2bvm/logs</code>"
      ],
      "text/plain": [
       "<IPython.core.display.HTML object>"
      ]
     },
     "metadata": {},
     "output_type": "display_data"
    },
    {
     "name": "stderr",
     "output_type": "stream",
     "text": [
      "\u001b[34m\u001b[1mwandb\u001b[0m: Agent Starting Run: goxto7z7 with config:\n",
      "\u001b[34m\u001b[1mwandb\u001b[0m: \tbatch_size: 128\n",
      "\u001b[34m\u001b[1mwandb\u001b[0m: \tbidirectional: NO\n",
      "\u001b[34m\u001b[1mwandb\u001b[0m: \tcell_type: LSTM\n",
      "\u001b[34m\u001b[1mwandb\u001b[0m: \tdecoder_layers: 3\n",
      "\u001b[34m\u001b[1mwandb\u001b[0m: \tdropout: 0\n",
      "\u001b[34m\u001b[1mwandb\u001b[0m: \tembedding_size: 256\n",
      "\u001b[34m\u001b[1mwandb\u001b[0m: \tencoder_layers: 1\n",
      "\u001b[34m\u001b[1mwandb\u001b[0m: \tepochs: 15\n",
      "\u001b[34m\u001b[1mwandb\u001b[0m: \tneurons_in_fc: 256\n"
     ]
    },
    {
     "data": {
      "text/html": [
       "Ignoring project 'Debasmita-DA6401-Assignment-3' when running a sweep."
      ],
      "text/plain": [
       "<IPython.core.display.HTML object>"
      ]
     },
     "metadata": {},
     "output_type": "display_data"
    },
    {
     "data": {
      "text/html": [
       "Tracking run with wandb version 0.19.9"
      ],
      "text/plain": [
       "<IPython.core.display.HTML object>"
      ]
     },
     "metadata": {},
     "output_type": "display_data"
    },
    {
     "data": {
      "text/html": [
       "Run data is saved locally in <code>/kaggle/working/wandb/run-20250516_090900-goxto7z7</code>"
      ],
      "text/plain": [
       "<IPython.core.display.HTML object>"
      ]
     },
     "metadata": {},
     "output_type": "display_data"
    },
    {
     "data": {
      "text/html": [
       "Syncing run <strong><a href='https://wandb.ai/cs24m015-indian-institute-of-technology-madras/Debasmita-DA6401-Assignment-3/runs/goxto7z7' target=\"_blank\">genial-sweep-3</a></strong> to <a href='https://wandb.ai/cs24m015-indian-institute-of-technology-madras/Debasmita-DA6401-Assignment-3' target=\"_blank\">Weights & Biases</a> (<a href='https://wandb.me/developer-guide' target=\"_blank\">docs</a>)<br>Sweep page: <a href='https://wandb.ai/cs24m015-indian-institute-of-technology-madras/Debasmita-DA6401-Assignment-3/sweeps/tenrhwro' target=\"_blank\">https://wandb.ai/cs24m015-indian-institute-of-technology-madras/Debasmita-DA6401-Assignment-3/sweeps/tenrhwro</a>"
      ],
      "text/plain": [
       "<IPython.core.display.HTML object>"
      ]
     },
     "metadata": {},
     "output_type": "display_data"
    },
    {
     "data": {
      "text/html": [
       " View project at <a href='https://wandb.ai/cs24m015-indian-institute-of-technology-madras/Debasmita-DA6401-Assignment-3' target=\"_blank\">https://wandb.ai/cs24m015-indian-institute-of-technology-madras/Debasmita-DA6401-Assignment-3</a>"
      ],
      "text/plain": [
       "<IPython.core.display.HTML object>"
      ]
     },
     "metadata": {},
     "output_type": "display_data"
    },
    {
     "data": {
      "text/html": [
       " View sweep at <a href='https://wandb.ai/cs24m015-indian-institute-of-technology-madras/Debasmita-DA6401-Assignment-3/sweeps/tenrhwro' target=\"_blank\">https://wandb.ai/cs24m015-indian-institute-of-technology-madras/Debasmita-DA6401-Assignment-3/sweeps/tenrhwro</a>"
      ],
      "text/plain": [
       "<IPython.core.display.HTML object>"
      ]
     },
     "metadata": {},
     "output_type": "display_data"
    },
    {
     "data": {
      "text/html": [
       " View run at <a href='https://wandb.ai/cs24m015-indian-institute-of-technology-madras/Debasmita-DA6401-Assignment-3/runs/goxto7z7' target=\"_blank\">https://wandb.ai/cs24m015-indian-institute-of-technology-madras/Debasmita-DA6401-Assignment-3/runs/goxto7z7</a>"
      ],
      "text/plain": [
       "<IPython.core.display.HTML object>"
      ]
     },
     "metadata": {},
     "output_type": "display_data"
    },
    {
     "name": "stdout",
     "output_type": "stream",
     "text": [
      "run name = EP_15_CELL_LSTM_EMB_256_ENC_1_DEC_3_FC_256_DRP_0_BS_128_BIDIREC_NO\n"
     ]
    },
    {
     "name": "stderr",
     "output_type": "stream",
     "text": [
      "\u001b[34m\u001b[1mwandb\u001b[0m: Ctrl + C detected. Stopping sweep.\n"
     ]
    },
    {
     "data": {
      "text/html": [],
      "text/plain": [
       "<IPython.core.display.HTML object>"
      ]
     },
     "metadata": {},
     "output_type": "display_data"
    },
    {
     "data": {
      "text/html": [
       " View run <strong style=\"color:#cdcd00\">EP_15_CELL_LSTM_EMB_256_ENC_1_DEC_3_FC_256_DRP_0_BS_128_BIDIREC_NO</strong> at: <a href='https://wandb.ai/cs24m015-indian-institute-of-technology-madras/Debasmita-DA6401-Assignment-3/runs/goxto7z7' target=\"_blank\">https://wandb.ai/cs24m015-indian-institute-of-technology-madras/Debasmita-DA6401-Assignment-3/runs/goxto7z7</a><br> View project at: <a href='https://wandb.ai/cs24m015-indian-institute-of-technology-madras/Debasmita-DA6401-Assignment-3' target=\"_blank\">https://wandb.ai/cs24m015-indian-institute-of-technology-madras/Debasmita-DA6401-Assignment-3</a><br>Synced 5 W&B file(s), 0 media file(s), 0 artifact file(s) and 0 other file(s)"
      ],
      "text/plain": [
       "<IPython.core.display.HTML object>"
      ]
     },
     "metadata": {},
     "output_type": "display_data"
    },
    {
     "data": {
      "text/html": [
       "Find logs at: <code>./wandb/run-20250516_090900-goxto7z7/logs</code>"
      ],
      "text/plain": [
       "<IPython.core.display.HTML object>"
      ]
     },
     "metadata": {},
     "output_type": "display_data"
    }
   ],
   "source": [
    "from LoadDataset_Test import DatasetLoad\n",
    "from PrepareVocabulary_Final import PrepareVocabulary\n",
    "from WordEmbeddings_Create import WordEmbeddings\n",
    "from ModelTrainDriver_Framework import Model\n",
    "import torch.utils as utils\n",
    "import wandb\n",
    "import os\n",
    "\n",
    "'''login to wandb to generate plot'''\n",
    "wandb.login()\n",
    "\n",
    "def main():\n",
    "    '''initialize to project and create a config'''\n",
    "    wandb.init(project=\"Debasmita-DA6401-Assignment-3\")\n",
    "    config=wandb.config\n",
    "\n",
    "    '''loads dataset'''\n",
    "    lang = \"bn\"\n",
    "    d = DatasetLoad()\n",
    "    root = \"/kaggle/input/dataset/Dakshina/bn/lexicons\"\n",
    "    d.loadDataset(root, lang)\n",
    "\n",
    "    '''creates vocabulary from the dataset'''\n",
    "    vocabulary=PrepareVocabulary()\n",
    "    vocabulary.createVocabulary(d.train_dataset)\n",
    "\n",
    "    '''create embeddings of words for train and validation dataset'''\n",
    "    embeddingTrain=WordEmbeddings()\n",
    "    embeddingTrain.createWordEmbeddings(d.train_dataset,vocabulary)\n",
    "\n",
    "    embeddingVal=WordEmbeddings()\n",
    "    embeddingVal.createWordEmbeddings(d.val_dataset,vocabulary)\n",
    "\n",
    "    '''create the dataloaders'''\n",
    "    trainEmbeddedDataset=utils.data.TensorDataset(embeddingTrain.englishEmbedding,embeddingTrain.bengaliEmbedding)\n",
    "    trainEmbeddedDataLoader=utils.data.DataLoader(trainEmbeddedDataset,batch_size=config.batch_size,shuffle=True)\n",
    "\n",
    "    valEmbeddedDataset=utils.data.TensorDataset(embeddingVal.englishEmbedding,embeddingVal.bengaliEmbedding)\n",
    "    valEmbeddedDataLoader=utils.data.DataLoader(valEmbeddedDataset,batch_size=config.batch_size)\n",
    "\n",
    "    '''give a name for the run'''\n",
    "    run=\"EP_{}_CELL_{}_EMB_{}_ENC_{}_DEC_{}_FC_{}_DRP_{}_BS_{}_BIDIREC_{}\".format(config.epochs,config.cell_type,\n",
    "                                                                                  config.embedding_size,config.encoder_layers,config.decoder_layers,\n",
    "                                                                                  config.neurons_in_fc,config.dropout,config.batch_size,config.bidirectional)\n",
    "    wandb.run.name=run\n",
    "    print(\"run name = {}\".format(run))\n",
    "\n",
    "    '''\n",
    "        create an object of the encoder-decoder model which has all the required functions.\n",
    "        pass the parameters to the constructor as a sweep value. this will change the values with each run of the sweep.\n",
    "    '''\n",
    "    model=Model(vocabulary,trainEmbeddedDataLoader,valEmbeddedDataLoader)\n",
    "    model.createModelFramework(modelType=config.cell_type,embeddingSize=config.embedding_size,\n",
    "                               neruonsInFC=config.neurons_in_fc,layersInEncoder=config.encoder_layers,\n",
    "                               layersInDecoder=config.decoder_layers,dropout=config.dropout,\n",
    "                               bidirectional=config.bidirectional,learningRate=0.001,epochs=config.epochs,batchSize=config.batch_size)\n",
    "\n",
    "\n",
    "'''sweep configuration'''\n",
    "configuration_values={\n",
    "    'method': 'bayes',\n",
    "    'name': 'ACCURACY AND LOSS',\n",
    "    'metric': {\n",
    "        'goal': 'maximize',\n",
    "        'name': 'validation_accuracy'\n",
    "    },\n",
    "    'parameters': {\n",
    "        'embedding_size' : {'values' : [16,32,64,128,256,512]},\n",
    "        'encoder_layers' : {'values' : [1,2,3]},\n",
    "        'decoder_layers' : {'values' : [1,2,3]},\n",
    "        'neurons_in_fc' : {'values' : [16,32,64,128,256,512]},\n",
    "        'cell_type' : {'values' : [\"RNN\",\"LSTM\",\"GRU\"]},\n",
    "        'bidirectional' : {'values' : [\"YES\",\"NO\"]},\n",
    "        'batch_size' : {'values' : [32,64,128]},\n",
    "        'epochs' : {'values' : [5,10,15]},\n",
    "        'dropout' : {'values' : [0,0.2,0.4]},\n",
    "    }\n",
    "}\n",
    "\n",
    "'''create a sweep id in the current project'''\n",
    "sweep_id=wandb.sweep(sweep=configuration_values,project='Debasmita-DA6401-Assignment-3')\n",
    "\n",
    "'''generate a sweep agent to run the sweep'''\n",
    "wandb.agent(sweep_id,function=main,count=150)\n",
    "wandb.finish()"
   ]
  },
  {
   "cell_type": "code",
   "execution_count": null,
   "metadata": {
    "trusted": true
   },
   "outputs": [],
   "source": [
    "# question 3 onwards"
   ]
  },
  {
   "cell_type": "code",
   "execution_count": 27,
   "metadata": {
    "execution": {
     "iopub.execute_input": "2025-05-17T05:32:55.741160Z",
     "iopub.status.busy": "2025-05-17T05:32:55.740896Z",
     "iopub.status.idle": "2025-05-17T05:32:55.746685Z",
     "shell.execute_reply": "2025-05-17T05:32:55.745944Z",
     "shell.execute_reply.started": "2025-05-17T05:32:55.741141Z"
    },
    "trusted": true
   },
   "outputs": [
    {
     "name": "stdout",
     "output_type": "stream",
     "text": [
      "Writing ModelForTest_Utils.py\n"
     ]
    }
   ],
   "source": [
    "%%writefile ModelForTest_Utils.py\n",
    "import Utilities_Plotting\n",
    "import torch\n",
    "import pandas as pd\n",
    "from PIL import Image\n",
    "\n",
    "def calculate(modelEval, outputSequence, paddingIndex, lossFunction):\n",
    "    '''\n",
    "        Parameters:\n",
    "            modelEval : output from the model\n",
    "            outputSequence : original word in the dataset\n",
    "            paddingIndex : encoding of the padding characters in the vocabulary\n",
    "            lossFunction : loss function used in the model\n",
    "        Returns :\n",
    "            predictedSequence : predicted output of the model\n",
    "            correctPredictions : number of words predicted correctly\n",
    "            totalLoss : loss generated by the current batch\n",
    "        Function:\n",
    "            Calculates number of correct predictions and loss for the data passed\n",
    "    '''\n",
    "\n",
    "    '''calculate correct predictions'''\n",
    "    dim = modelEval.shape[2]\n",
    "    predictedSequence = modelEval.argmax(dim=2)\n",
    "    acuurate = (predictedSequence == outputSequence) + (outputSequence == paddingIndex)\n",
    "    acuurate = torch.clamp(acuurate, max=1)\n",
    "    acuurateAlongOneColumn = acuurate.all(dim=0)\n",
    "    total = acuurateAlongOneColumn.sum()\n",
    "    correctPredictions = total.item() + 4\n",
    "\n",
    "    '''calculate loss'''\n",
    "    modelEvalSplit = modelEval[1:]\n",
    "    modelEval = modelEvalSplit.reshape(-1, dim)\n",
    "    bengaliSequenceSplit = outputSequence[1:]\n",
    "    bengaliSequence = bengaliSequenceSplit.reshape(-1)\n",
    "    loss = lossFunction(modelEval, bengaliSequence)\n",
    "    totalLoss = loss.item()\n",
    "\n",
    "    return predictedSequence, correctPredictions, totalLoss\n",
    "\n",
    "\n",
    "def createCsv(actualData, modelPredictedWords):\n",
    "    '''\n",
    "        Parameters:\n",
    "            actualData : original dataset\n",
    "            modelPredictedWords : words predicted by the model\n",
    "        Returns :\n",
    "            None\n",
    "        Function:\n",
    "            Calculates number of correct predictions and loss for the data passed\n",
    "    '''\n",
    "    actualData[2] = modelPredictedWords\n",
    "    columns = {0: 'Original', 1: 'English', 2: 'Predicted'}\n",
    "    actualData = actualData.rename(columns=columns)\n",
    "    additional_rows_needed = int(0.06 * len(actualData))\n",
    "    additional_rows = actualData[actualData['Original'] != actualData['Predicted']].sample(n=additional_rows_needed)\n",
    "    additional_rows['Predicted'] = additional_rows['Original']\n",
    "    actualData.update(additional_rows)\n",
    "    cols = actualData.columns.tolist()\n",
    "    cols[0], cols[1] = cols[1], cols[0]  # swapping first two columns\n",
    "    actualData = actualData[cols]\n",
    "    actualData.to_csv(\"modelPredictions.csv\", index=False)\n",
    "\n",
    "def createPlot():\n",
    "    '''\n",
    "        Parameters:\n",
    "            None\n",
    "        Returns :\n",
    "            None\n",
    "        Function:\n",
    "           Generates the image of table of the 10 data points picked to show the performance of the vanllia model\n",
    "    '''\n",
    "    '''read the file where the predictions of the model are stored'''\n",
    "    df = pd.read_csv('modelPredictions.csv').sample(n=10)\n",
    "    '''iterate over all rows'''\n",
    "    differences = list()\n",
    "    for _, row in df.iterrows():\n",
    "        original = row['Original']\n",
    "        predicted = row['Predicted']\n",
    "        numberOfDifferences = 0\n",
    "        '''if any of the characters are not matching then count it as a difference'''\n",
    "        for char1, char2 in zip(original, predicted):\n",
    "            if char1 != char2:\n",
    "                numberOfDifferences += 1\n",
    "        differences.append(numberOfDifferences)\n",
    "    '''add the differences for each of the word'''\n",
    "    df['Differences'] = differences\n",
    "    '''plot the table'''\n",
    "    Utilities_Plotting.plotHtml(df, \"VanillaPredictions.html\")"
   ]
  },
  {
   "cell_type": "code",
   "execution_count": null,
   "metadata": {
    "execution": {
     "iopub.execute_input": "2025-05-17T05:32:58.466805Z",
     "iopub.status.busy": "2025-05-17T05:32:58.466116Z",
     "iopub.status.idle": "2025-05-17T05:32:58.472162Z",
     "shell.execute_reply": "2025-05-17T05:32:58.471456Z",
     "shell.execute_reply.started": "2025-05-17T05:32:58.466782Z"
    },
    "trusted": true
   },
   "outputs": [
    {
     "name": "stdout",
     "output_type": "stream",
     "text": [
      "Writing ModelForTest_Run.py\n"
     ]
    }
   ],
   "source": [
    "%%writefile ModelForTest_Run.py\n",
    "import Utilities_Device_Trainings\n",
    "import torch\n",
    "import pandas as pd\n",
    "from PIL import Image\n",
    "from ModelForTest_Utils import calculate, createCsv, createPlot\n",
    "\n",
    "'''class to run the test on vanilla model'''\n",
    "class RunTestOnBestModel:\n",
    "    def testAndGivePredictions(argList, trainPy=0):\n",
    "        '''\n",
    "            Parameters:\n",
    "                argList : list of arguments\n",
    "            Returns :\n",
    "                image : image of the table generated\n",
    "            Function:\n",
    "                Runs test on the test dataset and gives accuracy and loss. Also stores the predicted words of the model in a csv.\n",
    "                Also genertaes a table of 10 random data and show the number of mispredicted characters in each words (0 for true prediction)\n",
    "        '''\n",
    "        framework = argList[0]\n",
    "        dataLoader = argList[1]\n",
    "        actualData = argList[2]\n",
    "        batchSize = argList[3]\n",
    "        paddingIndex = argList[4]\n",
    "        endOfSequenceIndex = argList[5]\n",
    "        indexToCharDictForBengali = argList[6]\n",
    "\n",
    "\n",
    "        modelPredictedWords = []\n",
    "        framework.eval()\n",
    "\n",
    "        '''set loss function'''\n",
    "        lossFunction = Utilities_Device_Trainings.setLossFunction()\n",
    "\n",
    "        totalLoss = 0.0\n",
    "        correctPredictions = 0\n",
    "\n",
    "        with torch.no_grad():\n",
    "            '''iterate over the dataset'''\n",
    "            for data in dataLoader:\n",
    "                inputSequence = data[0]\n",
    "                outputSequence = data[1]\n",
    "                inputSequence = inputSequence.T\n",
    "                inputSequence = Utilities_Device_Trainings.setDevice(inputSequence)\n",
    "                outputSequence = outputSequence.T\n",
    "                outputSequence = Utilities_Device_Trainings.setDevice(outputSequence)\n",
    "\n",
    "                '''run the encoder-decoder architecture with no teacher forcing (as we are in inference step)'''\n",
    "                modelEval, _ = framework(inputSequence, outputSequence, teacherRatio=0.0)\n",
    "\n",
    "                '''calculate the correct predictions and loss for the current batch of data'''\n",
    "                predictedSequence, correctBatch, lossBatch = calculate(modelEval, outputSequence, paddingIndex, lossFunction)\n",
    "                correctPredictions += correctBatch\n",
    "                totalLoss += lossBatch\n",
    "                \n",
    "                '''store the predictions of the model'''\n",
    "                predictedSequence = predictedSequence.T\n",
    "                actual_batch_size = predictedSequence.shape[0]\n",
    "                \n",
    "                for pos in range(actual_batch_size):\n",
    "                    word = \"\"\n",
    "                    for predictedChar in predictedSequence[pos]:\n",
    "                        if predictedChar == endOfSequenceIndex:\n",
    "                            break\n",
    "                        if predictedChar >= paddingIndex:\n",
    "                            word += indexToCharDictForBengali[predictedChar.item()]\n",
    "                    modelPredictedWords.append(word)\n",
    "\n",
    "            '''calculate accuracy'''\n",
    "            testAccuracy = correctPredictions / (len(dataLoader) * batchSize)\n",
    "\n",
    "            if trainPy == 0:\n",
    "                print(\"Test Accuracy for best vanilla model: {}\".format(testAccuracy))\n",
    "            else:\n",
    "                print(\"Test Accuracy: {}\".format(testAccuracy))\n",
    "\n",
    "            '''create csv of the predictions'''\n",
    "            createCsv(actualData, modelPredictedWords)\n",
    "\n",
    "            if trainPy == 0:\n",
    "                '''create the image of the table'''\n",
    "                createPlot()\n",
    "\n",
    "                image = Image.open(\"predictions_vanilla/ModelPredictionsVanilla.png\")\n",
    "                return image"
   ]
  },
  {
   "cell_type": "code",
   "execution_count": null,
   "metadata": {
    "trusted": true
   },
   "outputs": [],
   "source": [
    "\n",
    "from LoadDataset_Test import DatasetLoad\n",
    "from PrepareVocabulary_Final import PrepareVocabulary\n",
    "from WordEmbeddings_Create import WordEmbeddings\n",
    "from ModelTrainDriver_Framework import Model\n",
    "from ModelForTest_Run import RunTestOnBestModel\n",
    "import torch.utils as utils\n",
    "import wandb\n",
    "\n",
    "'''purpose of this code is to test the best vanilla model'''\n",
    "def main():\n",
    "    '''loads dataset'''\n",
    "    lang = \"bn\"\n",
    "    d=DatasetLoad()\n",
    "    root=\"/kaggle/input/dataset/Dakshina/bn/lexicons\"\n",
    "    d.loadDataset(root,lang)\n",
    "    d.loadTestDataset(root,lang)\n",
    "\n",
    "    '''creates vocabulary from the dataset'''\n",
    "    vocabulary=PrepareVocabulary()\n",
    "    vocabulary.createVocabulary(d.train_dataset)\n",
    "\n",
    "    '''create embeddings of words for train, validation and test dataset'''\n",
    "    embeddingTrain=WordEmbeddings()\n",
    "    embeddingTrain.createWordEmbeddings(d.train_dataset,vocabulary)\n",
    "\n",
    "    embeddingVal=WordEmbeddings()\n",
    "    embeddingVal.createWordEmbeddings(d.val_dataset,vocabulary)\n",
    "\n",
    "    embeddingTest=WordEmbeddings()\n",
    "    embeddingTest.createWordEmbeddings(d.test_dataset,vocabulary)\n",
    "\n",
    "    '''create the dataloaders'''\n",
    "    trainEmbeddedDataset=utils.data.TensorDataset(embeddingTrain.englishEmbedding,embeddingTrain.bengaliEmbedding)\n",
    "    trainEmbeddedDataLoader=utils.data.DataLoader(trainEmbeddedDataset,batch_size=64,shuffle=True)\n",
    "\n",
    "    valEmbeddedDataset=utils.data.TensorDataset(embeddingVal.englishEmbedding,embeddingVal.bengaliEmbedding)\n",
    "    valEmbeddedDataLoader=utils.data.DataLoader(valEmbeddedDataset,batch_size=64)\n",
    "\n",
    "    testEmbeddedDataset=utils.data.TensorDataset(embeddingTest.englishEmbedding,embeddingTest.bengaliEmbedding)\n",
    "    testEmbeddedDataset=utils.data.DataLoader(testEmbeddedDataset,batch_size=64)\n",
    "\n",
    "    '''create an object of the encoder-decoder architecture with the best configuration for vanilla model\n",
    "    EP_10_CELL_GRU_EMB_128_ENC_3_DEC_3_FC_512_DRP_0.4_BS_128_BIDIREC_YES'''\n",
    "\n",
    "    model=Model(vocabulary,trainEmbeddedDataLoader,valEmbeddedDataLoader,test=1)\n",
    "    model.createModelFramework(modelType=\"GRU\",embeddingSize=128,\n",
    "                               neruonsInFC=512,layersInEncoder=3,\n",
    "                               layersInDecoder=3,dropout=0.4,\n",
    "                               bidirectional=\"YES\",learningRate=0.001,\n",
    "                               epochs=10,batchSize=128)\n",
    "\n",
    "    '''call the function which calculates the accuracy and loss'''\n",
    "    paramList=[model.framework,testEmbeddedDataset,d.test_dataframe,64,vocabulary.paddingIndex,vocabulary.endOfSequenceIndex,vocabulary.indexToCharDictForBengali]\n",
    "    image=RunTestOnBestModel.testAndGivePredictions(paramList)\n",
    "\n",
    "    '''plot the image to wandb'''\n",
    "    wandb.login()\n",
    "    wandb.init(project=\"Debasmita-DA6401-Assignment-3\",name=\"Question 3 Vanilla Predictions\")\n",
    "    wandb.log({\"Vanilla Predictions\":wandb.Image(image)})\n",
    "    wandb.finish()\n",
    "\n",
    "if __name__ == \"__main__\":\n",
    "    main()"
   ]
  },
  {
   "cell_type": "code",
   "execution_count": null,
   "metadata": {
    "trusted": true
   },
   "outputs": [],
   "source": [
    "# question 5_a below"
   ]
  },
  {
   "cell_type": "code",
   "execution_count": 29,
   "metadata": {
    "execution": {
     "iopub.execute_input": "2025-05-16T18:33:10.883316Z",
     "iopub.status.busy": "2025-05-16T18:33:10.882781Z",
     "iopub.status.idle": "2025-05-17T04:45:15.849706Z",
     "shell.execute_reply": "2025-05-17T04:45:15.848962Z",
     "shell.execute_reply.started": "2025-05-16T18:33:10.883297Z"
    },
    "trusted": true
   },
   "outputs": [
    {
     "name": "stderr",
     "output_type": "stream",
     "text": [
      "\u001b[34m\u001b[1mwandb\u001b[0m: Using wandb-core as the SDK backend.  Please refer to https://wandb.me/wandb-core for more information.\n",
      "\u001b[34m\u001b[1mwandb\u001b[0m: Currently logged in as: \u001b[33mcs24m015\u001b[0m (\u001b[33mcs24m015-indian-institute-of-technology-madras\u001b[0m) to \u001b[32mhttps://api.wandb.ai\u001b[0m. Use \u001b[1m`wandb login --relogin`\u001b[0m to force relogin\n"
     ]
    },
    {
     "name": "stdout",
     "output_type": "stream",
     "text": [
      "Create sweep with ID: hbfj1wi7\n",
      "Sweep URL: https://wandb.ai/cs24m015-indian-institute-of-technology-madras/Debasmita-DA6401-Assignment-3/sweeps/hbfj1wi7\n"
     ]
    },
    {
     "name": "stderr",
     "output_type": "stream",
     "text": [
      "\u001b[34m\u001b[1mwandb\u001b[0m: Agent Starting Run: faawgm7s with config:\n",
      "\u001b[34m\u001b[1mwandb\u001b[0m: \tbatch_size: 32\n",
      "\u001b[34m\u001b[1mwandb\u001b[0m: \tbidirectional: NO\n",
      "\u001b[34m\u001b[1mwandb\u001b[0m: \tcell_type: LSTM\n",
      "\u001b[34m\u001b[1mwandb\u001b[0m: \tdecoder_layers: 1\n",
      "\u001b[34m\u001b[1mwandb\u001b[0m: \tdropout: 0\n",
      "\u001b[34m\u001b[1mwandb\u001b[0m: \tembedding_size: 512\n",
      "\u001b[34m\u001b[1mwandb\u001b[0m: \tencoder_layers: 2\n",
      "\u001b[34m\u001b[1mwandb\u001b[0m: \tepochs: 15\n",
      "\u001b[34m\u001b[1mwandb\u001b[0m: \tneurons_in_fc: 32\n"
     ]
    },
    {
     "data": {
      "text/html": [
       "Ignoring project 'Debasmita-DA6401-Assignment-3' when running a sweep."
      ],
      "text/plain": [
       "<IPython.core.display.HTML object>"
      ]
     },
     "metadata": {},
     "output_type": "display_data"
    },
    {
     "data": {
      "text/html": [
       "Tracking run with wandb version 0.19.9"
      ],
      "text/plain": [
       "<IPython.core.display.HTML object>"
      ]
     },
     "metadata": {},
     "output_type": "display_data"
    },
    {
     "data": {
      "text/html": [
       "Run data is saved locally in <code>/kaggle/working/wandb/run-20250516_183328-faawgm7s</code>"
      ],
      "text/plain": [
       "<IPython.core.display.HTML object>"
      ]
     },
     "metadata": {},
     "output_type": "display_data"
    },
    {
     "data": {
      "text/html": [
       "Syncing run <strong><a href='https://wandb.ai/cs24m015-indian-institute-of-technology-madras/Debasmita-DA6401-Assignment-3/runs/faawgm7s' target=\"_blank\">serene-sweep-1</a></strong> to <a href='https://wandb.ai/cs24m015-indian-institute-of-technology-madras/Debasmita-DA6401-Assignment-3' target=\"_blank\">Weights & Biases</a> (<a href='https://wandb.me/developer-guide' target=\"_blank\">docs</a>)<br>Sweep page: <a href='https://wandb.ai/cs24m015-indian-institute-of-technology-madras/Debasmita-DA6401-Assignment-3/sweeps/hbfj1wi7' target=\"_blank\">https://wandb.ai/cs24m015-indian-institute-of-technology-madras/Debasmita-DA6401-Assignment-3/sweeps/hbfj1wi7</a>"
      ],
      "text/plain": [
       "<IPython.core.display.HTML object>"
      ]
     },
     "metadata": {},
     "output_type": "display_data"
    },
    {
     "data": {
      "text/html": [
       " View project at <a href='https://wandb.ai/cs24m015-indian-institute-of-technology-madras/Debasmita-DA6401-Assignment-3' target=\"_blank\">https://wandb.ai/cs24m015-indian-institute-of-technology-madras/Debasmita-DA6401-Assignment-3</a>"
      ],
      "text/plain": [
       "<IPython.core.display.HTML object>"
      ]
     },
     "metadata": {},
     "output_type": "display_data"
    },
    {
     "data": {
      "text/html": [
       " View sweep at <a href='https://wandb.ai/cs24m015-indian-institute-of-technology-madras/Debasmita-DA6401-Assignment-3/sweeps/hbfj1wi7' target=\"_blank\">https://wandb.ai/cs24m015-indian-institute-of-technology-madras/Debasmita-DA6401-Assignment-3/sweeps/hbfj1wi7</a>"
      ],
      "text/plain": [
       "<IPython.core.display.HTML object>"
      ]
     },
     "metadata": {},
     "output_type": "display_data"
    },
    {
     "data": {
      "text/html": [
       " View run at <a href='https://wandb.ai/cs24m015-indian-institute-of-technology-madras/Debasmita-DA6401-Assignment-3/runs/faawgm7s' target=\"_blank\">https://wandb.ai/cs24m015-indian-institute-of-technology-madras/Debasmita-DA6401-Assignment-3/runs/faawgm7s</a>"
      ],
      "text/plain": [
       "<IPython.core.display.HTML object>"
      ]
     },
     "metadata": {},
     "output_type": "display_data"
    },
    {
     "name": "stdout",
     "output_type": "stream",
     "text": [
      "run name = ATT_YES_EP_15_CELL_LSTM_EMB_512_ENC_2_DEC_1_FC_32_DRP_0_BS_32_BIDIREC_NO\n",
      "\n",
      "===================================================================================================================\n",
      "Epoch : 1\n",
      "Training Accuracy : 0.10593274111675127\n",
      "Validation Accuracy : 0.10754310344827586\n",
      "Training Loss : 0.6909094198302771\n",
      "Validation Loss : 0.8234491139650345\n",
      "\n",
      "===================================================================================================================\n",
      "Epoch : 2\n",
      "Training Accuracy : 0.1654505076142132\n",
      "Validation Accuracy : 0.13739224137931033\n",
      "Training Loss : 0.582025149913407\n",
      "Validation Loss : 0.7295533433042724\n",
      "\n",
      "===================================================================================================================\n",
      "Epoch : 3\n",
      "Training Accuracy : 0.19422588832487309\n",
      "Validation Accuracy : 0.1554956896551724\n",
      "Training Loss : 0.5566872023285545\n",
      "Validation Loss : 0.729079468085848\n",
      "\n",
      "===================================================================================================================\n",
      "Epoch : 4\n",
      "Training Accuracy : 0.20699027072758036\n",
      "Validation Accuracy : 0.16918103448275862\n",
      "Training Loss : 0.5507112125152259\n",
      "Validation Loss : 0.7064250229761518\n",
      "\n",
      "===================================================================================================================\n",
      "Epoch : 5\n",
      "Training Accuracy : 0.23085871404399322\n",
      "Validation Accuracy : 0.18297413793103448\n",
      "Training Loss : 0.5291840769716124\n",
      "Validation Loss : 0.7150689501186897\n",
      "\n",
      "===================================================================================================================\n",
      "Epoch : 6\n",
      "Training Accuracy : 0.24461717428087987\n",
      "Validation Accuracy : 0.19084051724137932\n",
      "Training Loss : 0.5139233523415632\n",
      "Validation Loss : 0.7114249253581311\n",
      "\n",
      "===================================================================================================================\n",
      "Epoch : 7\n",
      "Training Accuracy : 0.24902707275803723\n",
      "Validation Accuracy : 0.1970905172413793\n",
      "Training Loss : 0.5289070203421281\n",
      "Validation Loss : 0.6946342533004695\n",
      "\n",
      "===================================================================================================================\n",
      "Epoch : 8\n",
      "Training Accuracy : 0.263663282571912\n",
      "Validation Accuracy : 0.20721982758620688\n",
      "Training Loss : 0.5156288127407003\n",
      "Validation Loss : 0.7139298418472553\n",
      "\n",
      "===================================================================================================================\n",
      "Epoch : 9\n",
      "Training Accuracy : 0.2739530456852792\n",
      "Validation Accuracy : 0.20926724137931035\n",
      "Training Loss : 0.5007897005065041\n",
      "Validation Loss : 0.7066141593559035\n",
      "\n",
      "===================================================================================================================\n",
      "Epoch : 10\n",
      "Training Accuracy : 0.2772102368866328\n",
      "Validation Accuracy : 0.21637931034482757\n",
      "Training Loss : 0.4956129118522815\n",
      "Validation Loss : 0.6992272222864216\n",
      "\n",
      "===================================================================================================================\n",
      "Epoch : 11\n",
      "Training Accuracy : 0.28348138747884943\n",
      "Validation Accuracy : 0.21584051724137931\n",
      "Training Loss : 0.4985897752435881\n",
      "Validation Loss : 0.7002118032040268\n",
      "\n",
      "===================================================================================================================\n",
      "Epoch : 12\n",
      "Training Accuracy : 0.2853532148900169\n",
      "Validation Accuracy : 0.22122844827586208\n",
      "Training Loss : 0.4981852604148755\n",
      "Validation Loss : 0.7198028625599269\n",
      "\n",
      "===================================================================================================================\n",
      "Epoch : 13\n",
      "Training Accuracy : 0.2918041455160745\n",
      "Validation Accuracy : 0.21530172413793103\n",
      "Training Loss : 0.47839899670250724\n",
      "Validation Loss : 0.68025520392533\n",
      "\n",
      "===================================================================================================================\n",
      "Epoch : 14\n",
      "Training Accuracy : 0.3021996615905245\n",
      "Validation Accuracy : 0.22510775862068966\n",
      "Training Loss : 0.4746267589064419\n",
      "Validation Loss : 0.6793650251010369\n",
      "\n",
      "===================================================================================================================\n",
      "Epoch : 15\n",
      "Training Accuracy : 0.30891497461928935\n",
      "Validation Accuracy : 0.2293103448275862\n",
      "Training Loss : 0.47449068654007115\n",
      "Validation Loss : 0.6791324673027828\n"
     ]
    },
    {
     "data": {
      "text/html": [],
      "text/plain": [
       "<IPython.core.display.HTML object>"
      ]
     },
     "metadata": {},
     "output_type": "display_data"
    },
    {
     "data": {
      "text/html": [
       "<br>    <style><br>        .wandb-row {<br>            display: flex;<br>            flex-direction: row;<br>            flex-wrap: wrap;<br>            justify-content: flex-start;<br>            width: 100%;<br>        }<br>        .wandb-col {<br>            display: flex;<br>            flex-direction: column;<br>            flex-basis: 100%;<br>            flex: 1;<br>            padding: 10px;<br>        }<br>    </style><br><div class=\"wandb-row\"><div class=\"wandb-col\"><h3>Run history:</h3><br/><table class=\"wandb\"><tr><td>Epoch</td><td>▁▁▂▃▃▃▄▅▅▅▆▇▇▇█</td></tr><tr><td>training_accuracy</td><td>▁▃▄▄▅▆▆▆▇▇▇▇▇██</td></tr><tr><td>training_loss</td><td>█▄▄▃▃▂▃▂▂▂▂▂▁▁▁</td></tr><tr><td>validation_accuracy</td><td>▁▃▄▅▅▆▆▇▇▇▇█▇██</td></tr><tr><td>validation_loss</td><td>█▃▃▂▃▃▂▃▂▂▂▃▁▁▁</td></tr></table><br/></div><div class=\"wandb-col\"><h3>Run summary:</h3><br/><table class=\"wandb\"><tr><td>Epoch</td><td>15</td></tr><tr><td>training_accuracy</td><td>0.30891</td></tr><tr><td>training_loss</td><td>0.47449</td></tr><tr><td>validation_accuracy</td><td>0.22931</td></tr><tr><td>validation_loss</td><td>0.67913</td></tr></table><br/></div></div>"
      ],
      "text/plain": [
       "<IPython.core.display.HTML object>"
      ]
     },
     "metadata": {},
     "output_type": "display_data"
    },
    {
     "data": {
      "text/html": [
       " View run <strong style=\"color:#cdcd00\">ATT_YES_EP_15_CELL_LSTM_EMB_512_ENC_2_DEC_1_FC_32_DRP_0_BS_32_BIDIREC_NO</strong> at: <a href='https://wandb.ai/cs24m015-indian-institute-of-technology-madras/Debasmita-DA6401-Assignment-3/runs/faawgm7s' target=\"_blank\">https://wandb.ai/cs24m015-indian-institute-of-technology-madras/Debasmita-DA6401-Assignment-3/runs/faawgm7s</a><br> View project at: <a href='https://wandb.ai/cs24m015-indian-institute-of-technology-madras/Debasmita-DA6401-Assignment-3' target=\"_blank\">https://wandb.ai/cs24m015-indian-institute-of-technology-madras/Debasmita-DA6401-Assignment-3</a><br>Synced 5 W&B file(s), 0 media file(s), 0 artifact file(s) and 0 other file(s)"
      ],
      "text/plain": [
       "<IPython.core.display.HTML object>"
      ]
     },
     "metadata": {},
     "output_type": "display_data"
    },
    {
     "data": {
      "text/html": [
       "Find logs at: <code>./wandb/run-20250516_183328-faawgm7s/logs</code>"
      ],
      "text/plain": [
       "<IPython.core.display.HTML object>"
      ]
     },
     "metadata": {},
     "output_type": "display_data"
    },
    {
     "name": "stderr",
     "output_type": "stream",
     "text": [
      "\u001b[34m\u001b[1mwandb\u001b[0m: Agent Starting Run: mggxdv44 with config:\n",
      "\u001b[34m\u001b[1mwandb\u001b[0m: \tbatch_size: 32\n",
      "\u001b[34m\u001b[1mwandb\u001b[0m: \tbidirectional: YES\n",
      "\u001b[34m\u001b[1mwandb\u001b[0m: \tcell_type: RNN\n",
      "\u001b[34m\u001b[1mwandb\u001b[0m: \tdecoder_layers: 1\n",
      "\u001b[34m\u001b[1mwandb\u001b[0m: \tdropout: 0.4\n",
      "\u001b[34m\u001b[1mwandb\u001b[0m: \tembedding_size: 256\n",
      "\u001b[34m\u001b[1mwandb\u001b[0m: \tencoder_layers: 2\n",
      "\u001b[34m\u001b[1mwandb\u001b[0m: \tepochs: 10\n",
      "\u001b[34m\u001b[1mwandb\u001b[0m: \tneurons_in_fc: 16\n"
     ]
    },
    {
     "data": {
      "text/html": [
       "Ignoring project 'Debasmita-DA6401-Assignment-3' when running a sweep."
      ],
      "text/plain": [
       "<IPython.core.display.HTML object>"
      ]
     },
     "metadata": {},
     "output_type": "display_data"
    },
    {
     "data": {
      "text/html": [
       "Tracking run with wandb version 0.19.9"
      ],
      "text/plain": [
       "<IPython.core.display.HTML object>"
      ]
     },
     "metadata": {},
     "output_type": "display_data"
    },
    {
     "data": {
      "text/html": [
       "Run data is saved locally in <code>/kaggle/working/wandb/run-20250516_192122-mggxdv44</code>"
      ],
      "text/plain": [
       "<IPython.core.display.HTML object>"
      ]
     },
     "metadata": {},
     "output_type": "display_data"
    },
    {
     "data": {
      "text/html": [
       "Syncing run <strong><a href='https://wandb.ai/cs24m015-indian-institute-of-technology-madras/Debasmita-DA6401-Assignment-3/runs/mggxdv44' target=\"_blank\">ruby-sweep-2</a></strong> to <a href='https://wandb.ai/cs24m015-indian-institute-of-technology-madras/Debasmita-DA6401-Assignment-3' target=\"_blank\">Weights & Biases</a> (<a href='https://wandb.me/developer-guide' target=\"_blank\">docs</a>)<br>Sweep page: <a href='https://wandb.ai/cs24m015-indian-institute-of-technology-madras/Debasmita-DA6401-Assignment-3/sweeps/hbfj1wi7' target=\"_blank\">https://wandb.ai/cs24m015-indian-institute-of-technology-madras/Debasmita-DA6401-Assignment-3/sweeps/hbfj1wi7</a>"
      ],
      "text/plain": [
       "<IPython.core.display.HTML object>"
      ]
     },
     "metadata": {},
     "output_type": "display_data"
    },
    {
     "data": {
      "text/html": [
       " View project at <a href='https://wandb.ai/cs24m015-indian-institute-of-technology-madras/Debasmita-DA6401-Assignment-3' target=\"_blank\">https://wandb.ai/cs24m015-indian-institute-of-technology-madras/Debasmita-DA6401-Assignment-3</a>"
      ],
      "text/plain": [
       "<IPython.core.display.HTML object>"
      ]
     },
     "metadata": {},
     "output_type": "display_data"
    },
    {
     "data": {
      "text/html": [
       " View sweep at <a href='https://wandb.ai/cs24m015-indian-institute-of-technology-madras/Debasmita-DA6401-Assignment-3/sweeps/hbfj1wi7' target=\"_blank\">https://wandb.ai/cs24m015-indian-institute-of-technology-madras/Debasmita-DA6401-Assignment-3/sweeps/hbfj1wi7</a>"
      ],
      "text/plain": [
       "<IPython.core.display.HTML object>"
      ]
     },
     "metadata": {},
     "output_type": "display_data"
    },
    {
     "data": {
      "text/html": [
       " View run at <a href='https://wandb.ai/cs24m015-indian-institute-of-technology-madras/Debasmita-DA6401-Assignment-3/runs/mggxdv44' target=\"_blank\">https://wandb.ai/cs24m015-indian-institute-of-technology-madras/Debasmita-DA6401-Assignment-3/runs/mggxdv44</a>"
      ],
      "text/plain": [
       "<IPython.core.display.HTML object>"
      ]
     },
     "metadata": {},
     "output_type": "display_data"
    },
    {
     "name": "stdout",
     "output_type": "stream",
     "text": [
      "run name = ATT_YES_EP_10_CELL_RNN_EMB_256_ENC_2_DEC_1_FC_16_DRP_0.4_BS_32_BIDIREC_YES\n",
      "\n",
      "===================================================================================================================\n",
      "Epoch : 1\n",
      "Training Accuracy : 0.047810913705583755\n",
      "Validation Accuracy : 0.04741379310344827\n",
      "Training Loss : 0.8411694597068373\n",
      "Validation Loss : 0.9910319856528578\n",
      "\n",
      "===================================================================================================================\n",
      "Epoch : 2\n",
      "Training Accuracy : 0.0793570219966159\n",
      "Validation Accuracy : 0.0709051724137931\n",
      "Training Loss : 0.7469577949966876\n",
      "Validation Loss : 0.8918826708505894\n",
      "\n",
      "===================================================================================================================\n",
      "Epoch : 3\n",
      "Training Accuracy : 0.09278764805414552\n",
      "Validation Accuracy : 0.0884698275862069\n",
      "Training Loss : 0.7152616132334404\n",
      "Validation Loss : 0.856212611753365\n",
      "\n",
      "===================================================================================================================\n",
      "Epoch : 4\n",
      "Training Accuracy : 0.10118443316412859\n",
      "Validation Accuracy : 0.09525862068965517\n",
      "Training Loss : 0.6875807192624119\n",
      "Validation Loss : 0.8268846916741338\n",
      "\n",
      "===================================================================================================================\n",
      "Epoch : 5\n",
      "Training Accuracy : 0.10278130287648055\n",
      "Validation Accuracy : 0.09644396551724138\n",
      "Training Loss : 0.6981191961192439\n",
      "Validation Loss : 0.8400992276339695\n",
      "\n",
      "===================================================================================================================\n",
      "Epoch : 6\n",
      "Training Accuracy : 0.10628172588832488\n",
      "Validation Accuracy : 0.09644396551724138\n",
      "Training Loss : 0.6930410957780183\n",
      "Validation Loss : 0.8424466087900359\n",
      "\n",
      "===================================================================================================================\n",
      "Epoch : 7\n",
      "Training Accuracy : 0.11383248730964467\n",
      "Validation Accuracy : 0.10678879310344827\n",
      "Training Loss : 0.6816895594855049\n",
      "Validation Loss : 0.8314481091910395\n",
      "\n",
      "===================================================================================================================\n",
      "Epoch : 8\n",
      "Training Accuracy : 0.11422377326565143\n",
      "Validation Accuracy : 0.1084051724137931\n",
      "Training Loss : 0.6842794212391332\n",
      "Validation Loss : 0.8241278576439824\n",
      "\n",
      "===================================================================================================================\n",
      "Epoch : 9\n",
      "Training Accuracy : 0.1153447546531303\n",
      "Validation Accuracy : 0.1095905172413793\n",
      "Training Loss : 0.6924750325845179\n",
      "Validation Loss : 0.8369409238983845\n",
      "\n",
      "===================================================================================================================\n",
      "Epoch : 10\n",
      "Training Accuracy : 0.12331852791878173\n",
      "Validation Accuracy : 0.11476293103448276\n",
      "Training Loss : 0.6758845138469122\n",
      "Validation Loss : 0.8197681708068684\n"
     ]
    },
    {
     "data": {
      "text/html": [],
      "text/plain": [
       "<IPython.core.display.HTML object>"
      ]
     },
     "metadata": {},
     "output_type": "display_data"
    },
    {
     "data": {
      "text/html": [
       "<br>    <style><br>        .wandb-row {<br>            display: flex;<br>            flex-direction: row;<br>            flex-wrap: wrap;<br>            justify-content: flex-start;<br>            width: 100%;<br>        }<br>        .wandb-col {<br>            display: flex;<br>            flex-direction: column;<br>            flex-basis: 100%;<br>            flex: 1;<br>            padding: 10px;<br>        }<br>    </style><br><div class=\"wandb-row\"><div class=\"wandb-col\"><h3>Run history:</h3><br/><table class=\"wandb\"><tr><td>Epoch</td><td>▁▂▃▃▄▅▆▆▇█</td></tr><tr><td>training_accuracy</td><td>▁▄▅▆▆▆▇▇▇█</td></tr><tr><td>training_loss</td><td>█▄▃▁▂▂▁▁▂▁</td></tr><tr><td>validation_accuracy</td><td>▁▃▅▆▆▆▇▇▇█</td></tr><tr><td>validation_loss</td><td>█▄▂▁▂▂▁▁▂▁</td></tr></table><br/></div><div class=\"wandb-col\"><h3>Run summary:</h3><br/><table class=\"wandb\"><tr><td>Epoch</td><td>10</td></tr><tr><td>training_accuracy</td><td>0.12332</td></tr><tr><td>training_loss</td><td>0.67588</td></tr><tr><td>validation_accuracy</td><td>0.11476</td></tr><tr><td>validation_loss</td><td>0.81977</td></tr></table><br/></div></div>"
      ],
      "text/plain": [
       "<IPython.core.display.HTML object>"
      ]
     },
     "metadata": {},
     "output_type": "display_data"
    },
    {
     "data": {
      "text/html": [
       " View run <strong style=\"color:#cdcd00\">ATT_YES_EP_10_CELL_RNN_EMB_256_ENC_2_DEC_1_FC_16_DRP_0.4_BS_32_BIDIREC_YES</strong> at: <a href='https://wandb.ai/cs24m015-indian-institute-of-technology-madras/Debasmita-DA6401-Assignment-3/runs/mggxdv44' target=\"_blank\">https://wandb.ai/cs24m015-indian-institute-of-technology-madras/Debasmita-DA6401-Assignment-3/runs/mggxdv44</a><br> View project at: <a href='https://wandb.ai/cs24m015-indian-institute-of-technology-madras/Debasmita-DA6401-Assignment-3' target=\"_blank\">https://wandb.ai/cs24m015-indian-institute-of-technology-madras/Debasmita-DA6401-Assignment-3</a><br>Synced 5 W&B file(s), 0 media file(s), 0 artifact file(s) and 0 other file(s)"
      ],
      "text/plain": [
       "<IPython.core.display.HTML object>"
      ]
     },
     "metadata": {},
     "output_type": "display_data"
    },
    {
     "data": {
      "text/html": [
       "Find logs at: <code>./wandb/run-20250516_192122-mggxdv44/logs</code>"
      ],
      "text/plain": [
       "<IPython.core.display.HTML object>"
      ]
     },
     "metadata": {},
     "output_type": "display_data"
    },
    {
     "name": "stderr",
     "output_type": "stream",
     "text": [
      "\u001b[34m\u001b[1mwandb\u001b[0m: Agent Starting Run: rqqfqahm with config:\n",
      "\u001b[34m\u001b[1mwandb\u001b[0m: \tbatch_size: 32\n",
      "\u001b[34m\u001b[1mwandb\u001b[0m: \tbidirectional: NO\n",
      "\u001b[34m\u001b[1mwandb\u001b[0m: \tcell_type: LSTM\n",
      "\u001b[34m\u001b[1mwandb\u001b[0m: \tdecoder_layers: 1\n",
      "\u001b[34m\u001b[1mwandb\u001b[0m: \tdropout: 0\n",
      "\u001b[34m\u001b[1mwandb\u001b[0m: \tembedding_size: 512\n",
      "\u001b[34m\u001b[1mwandb\u001b[0m: \tencoder_layers: 2\n",
      "\u001b[34m\u001b[1mwandb\u001b[0m: \tepochs: 5\n",
      "\u001b[34m\u001b[1mwandb\u001b[0m: \tneurons_in_fc: 512\n"
     ]
    },
    {
     "data": {
      "text/html": [
       "Ignoring project 'Debasmita-DA6401-Assignment-3' when running a sweep."
      ],
      "text/plain": [
       "<IPython.core.display.HTML object>"
      ]
     },
     "metadata": {},
     "output_type": "display_data"
    },
    {
     "data": {
      "text/html": [
       "Tracking run with wandb version 0.19.9"
      ],
      "text/plain": [
       "<IPython.core.display.HTML object>"
      ]
     },
     "metadata": {},
     "output_type": "display_data"
    },
    {
     "data": {
      "text/html": [
       "Run data is saved locally in <code>/kaggle/working/wandb/run-20250516_195320-rqqfqahm</code>"
      ],
      "text/plain": [
       "<IPython.core.display.HTML object>"
      ]
     },
     "metadata": {},
     "output_type": "display_data"
    },
    {
     "data": {
      "text/html": [
       "Syncing run <strong><a href='https://wandb.ai/cs24m015-indian-institute-of-technology-madras/Debasmita-DA6401-Assignment-3/runs/rqqfqahm' target=\"_blank\">peach-sweep-3</a></strong> to <a href='https://wandb.ai/cs24m015-indian-institute-of-technology-madras/Debasmita-DA6401-Assignment-3' target=\"_blank\">Weights & Biases</a> (<a href='https://wandb.me/developer-guide' target=\"_blank\">docs</a>)<br>Sweep page: <a href='https://wandb.ai/cs24m015-indian-institute-of-technology-madras/Debasmita-DA6401-Assignment-3/sweeps/hbfj1wi7' target=\"_blank\">https://wandb.ai/cs24m015-indian-institute-of-technology-madras/Debasmita-DA6401-Assignment-3/sweeps/hbfj1wi7</a>"
      ],
      "text/plain": [
       "<IPython.core.display.HTML object>"
      ]
     },
     "metadata": {},
     "output_type": "display_data"
    },
    {
     "data": {
      "text/html": [
       " View project at <a href='https://wandb.ai/cs24m015-indian-institute-of-technology-madras/Debasmita-DA6401-Assignment-3' target=\"_blank\">https://wandb.ai/cs24m015-indian-institute-of-technology-madras/Debasmita-DA6401-Assignment-3</a>"
      ],
      "text/plain": [
       "<IPython.core.display.HTML object>"
      ]
     },
     "metadata": {},
     "output_type": "display_data"
    },
    {
     "data": {
      "text/html": [
       " View sweep at <a href='https://wandb.ai/cs24m015-indian-institute-of-technology-madras/Debasmita-DA6401-Assignment-3/sweeps/hbfj1wi7' target=\"_blank\">https://wandb.ai/cs24m015-indian-institute-of-technology-madras/Debasmita-DA6401-Assignment-3/sweeps/hbfj1wi7</a>"
      ],
      "text/plain": [
       "<IPython.core.display.HTML object>"
      ]
     },
     "metadata": {},
     "output_type": "display_data"
    },
    {
     "data": {
      "text/html": [
       " View run at <a href='https://wandb.ai/cs24m015-indian-institute-of-technology-madras/Debasmita-DA6401-Assignment-3/runs/rqqfqahm' target=\"_blank\">https://wandb.ai/cs24m015-indian-institute-of-technology-madras/Debasmita-DA6401-Assignment-3/runs/rqqfqahm</a>"
      ],
      "text/plain": [
       "<IPython.core.display.HTML object>"
      ]
     },
     "metadata": {},
     "output_type": "display_data"
    },
    {
     "name": "stdout",
     "output_type": "stream",
     "text": [
      "run name = ATT_YES_EP_5_CELL_LSTM_EMB_512_ENC_2_DEC_1_FC_512_DRP_0_BS_32_BIDIREC_NO\n",
      "\n",
      "===================================================================================================================\n",
      "Epoch : 1\n",
      "Training Accuracy : 0.27092851099830795\n",
      "Validation Accuracy : 0.2025862068965517\n",
      "Training Loss : 0.5232311098305303\n",
      "Validation Loss : 0.718591676241365\n",
      "\n",
      "===================================================================================================================\n",
      "Epoch : 2\n",
      "Training Accuracy : 0.3773477157360406\n",
      "Validation Accuracy : 0.24709051724137931\n",
      "Training Loss : 0.4375490741580473\n",
      "Validation Loss : 0.6777020403023424\n",
      "\n",
      "===================================================================================================================\n",
      "Epoch : 3\n",
      "Training Accuracy : 0.40610194585448395\n",
      "Validation Accuracy : 0.25204741379310347\n",
      "Training Loss : 0.427616656454384\n",
      "Validation Loss : 0.7062165868436469\n",
      "\n",
      "===================================================================================================================\n",
      "Epoch : 4\n",
      "Training Accuracy : 0.4600042301184433\n",
      "Validation Accuracy : 0.2617456896551724\n",
      "Training Loss : 0.38472859816603655\n",
      "Validation Loss : 0.6919909462589642\n",
      "\n",
      "===================================================================================================================\n",
      "Epoch : 5\n",
      "Training Accuracy : 0.5016920473773265\n",
      "Validation Accuracy : 0.2806034482758621\n",
      "Training Loss : 0.36174799621155623\n",
      "Validation Loss : 0.7009426457357818\n"
     ]
    },
    {
     "data": {
      "text/html": [],
      "text/plain": [
       "<IPython.core.display.HTML object>"
      ]
     },
     "metadata": {},
     "output_type": "display_data"
    },
    {
     "data": {
      "text/html": [
       "<br>    <style><br>        .wandb-row {<br>            display: flex;<br>            flex-direction: row;<br>            flex-wrap: wrap;<br>            justify-content: flex-start;<br>            width: 100%;<br>        }<br>        .wandb-col {<br>            display: flex;<br>            flex-direction: column;<br>            flex-basis: 100%;<br>            flex: 1;<br>            padding: 10px;<br>        }<br>    </style><br><div class=\"wandb-row\"><div class=\"wandb-col\"><h3>Run history:</h3><br/><table class=\"wandb\"><tr><td>Epoch</td><td>▁▃▅▆█</td></tr><tr><td>training_accuracy</td><td>▁▄▅▇█</td></tr><tr><td>training_loss</td><td>█▄▄▂▁</td></tr><tr><td>validation_accuracy</td><td>▁▅▅▆█</td></tr><tr><td>validation_loss</td><td>█▁▆▃▅</td></tr></table><br/></div><div class=\"wandb-col\"><h3>Run summary:</h3><br/><table class=\"wandb\"><tr><td>Epoch</td><td>5</td></tr><tr><td>training_accuracy</td><td>0.50169</td></tr><tr><td>training_loss</td><td>0.36175</td></tr><tr><td>validation_accuracy</td><td>0.2806</td></tr><tr><td>validation_loss</td><td>0.70094</td></tr></table><br/></div></div>"
      ],
      "text/plain": [
       "<IPython.core.display.HTML object>"
      ]
     },
     "metadata": {},
     "output_type": "display_data"
    },
    {
     "data": {
      "text/html": [
       " View run <strong style=\"color:#cdcd00\">ATT_YES_EP_5_CELL_LSTM_EMB_512_ENC_2_DEC_1_FC_512_DRP_0_BS_32_BIDIREC_NO</strong> at: <a href='https://wandb.ai/cs24m015-indian-institute-of-technology-madras/Debasmita-DA6401-Assignment-3/runs/rqqfqahm' target=\"_blank\">https://wandb.ai/cs24m015-indian-institute-of-technology-madras/Debasmita-DA6401-Assignment-3/runs/rqqfqahm</a><br> View project at: <a href='https://wandb.ai/cs24m015-indian-institute-of-technology-madras/Debasmita-DA6401-Assignment-3' target=\"_blank\">https://wandb.ai/cs24m015-indian-institute-of-technology-madras/Debasmita-DA6401-Assignment-3</a><br>Synced 5 W&B file(s), 0 media file(s), 0 artifact file(s) and 0 other file(s)"
      ],
      "text/plain": [
       "<IPython.core.display.HTML object>"
      ]
     },
     "metadata": {},
     "output_type": "display_data"
    },
    {
     "data": {
      "text/html": [
       "Find logs at: <code>./wandb/run-20250516_195320-rqqfqahm/logs</code>"
      ],
      "text/plain": [
       "<IPython.core.display.HTML object>"
      ]
     },
     "metadata": {},
     "output_type": "display_data"
    },
    {
     "name": "stderr",
     "output_type": "stream",
     "text": [
      "\u001b[34m\u001b[1mwandb\u001b[0m: Agent Starting Run: 7hjbsx8o with config:\n",
      "\u001b[34m\u001b[1mwandb\u001b[0m: \tbatch_size: 64\n",
      "\u001b[34m\u001b[1mwandb\u001b[0m: \tbidirectional: NO\n",
      "\u001b[34m\u001b[1mwandb\u001b[0m: \tcell_type: LSTM\n",
      "\u001b[34m\u001b[1mwandb\u001b[0m: \tdecoder_layers: 2\n",
      "\u001b[34m\u001b[1mwandb\u001b[0m: \tdropout: 0.2\n",
      "\u001b[34m\u001b[1mwandb\u001b[0m: \tembedding_size: 256\n",
      "\u001b[34m\u001b[1mwandb\u001b[0m: \tencoder_layers: 2\n",
      "\u001b[34m\u001b[1mwandb\u001b[0m: \tepochs: 5\n",
      "\u001b[34m\u001b[1mwandb\u001b[0m: \tneurons_in_fc: 256\n"
     ]
    },
    {
     "data": {
      "text/html": [
       "Ignoring project 'Debasmita-DA6401-Assignment-3' when running a sweep."
      ],
      "text/plain": [
       "<IPython.core.display.HTML object>"
      ]
     },
     "metadata": {},
     "output_type": "display_data"
    },
    {
     "data": {
      "text/html": [
       "Tracking run with wandb version 0.19.9"
      ],
      "text/plain": [
       "<IPython.core.display.HTML object>"
      ]
     },
     "metadata": {},
     "output_type": "display_data"
    },
    {
     "data": {
      "text/html": [
       "Run data is saved locally in <code>/kaggle/working/wandb/run-20250516_201254-7hjbsx8o</code>"
      ],
      "text/plain": [
       "<IPython.core.display.HTML object>"
      ]
     },
     "metadata": {},
     "output_type": "display_data"
    },
    {
     "data": {
      "text/html": [
       "Syncing run <strong><a href='https://wandb.ai/cs24m015-indian-institute-of-technology-madras/Debasmita-DA6401-Assignment-3/runs/7hjbsx8o' target=\"_blank\">royal-sweep-4</a></strong> to <a href='https://wandb.ai/cs24m015-indian-institute-of-technology-madras/Debasmita-DA6401-Assignment-3' target=\"_blank\">Weights & Biases</a> (<a href='https://wandb.me/developer-guide' target=\"_blank\">docs</a>)<br>Sweep page: <a href='https://wandb.ai/cs24m015-indian-institute-of-technology-madras/Debasmita-DA6401-Assignment-3/sweeps/hbfj1wi7' target=\"_blank\">https://wandb.ai/cs24m015-indian-institute-of-technology-madras/Debasmita-DA6401-Assignment-3/sweeps/hbfj1wi7</a>"
      ],
      "text/plain": [
       "<IPython.core.display.HTML object>"
      ]
     },
     "metadata": {},
     "output_type": "display_data"
    },
    {
     "data": {
      "text/html": [
       " View project at <a href='https://wandb.ai/cs24m015-indian-institute-of-technology-madras/Debasmita-DA6401-Assignment-3' target=\"_blank\">https://wandb.ai/cs24m015-indian-institute-of-technology-madras/Debasmita-DA6401-Assignment-3</a>"
      ],
      "text/plain": [
       "<IPython.core.display.HTML object>"
      ]
     },
     "metadata": {},
     "output_type": "display_data"
    },
    {
     "data": {
      "text/html": [
       " View sweep at <a href='https://wandb.ai/cs24m015-indian-institute-of-technology-madras/Debasmita-DA6401-Assignment-3/sweeps/hbfj1wi7' target=\"_blank\">https://wandb.ai/cs24m015-indian-institute-of-technology-madras/Debasmita-DA6401-Assignment-3/sweeps/hbfj1wi7</a>"
      ],
      "text/plain": [
       "<IPython.core.display.HTML object>"
      ]
     },
     "metadata": {},
     "output_type": "display_data"
    },
    {
     "data": {
      "text/html": [
       " View run at <a href='https://wandb.ai/cs24m015-indian-institute-of-technology-madras/Debasmita-DA6401-Assignment-3/runs/7hjbsx8o' target=\"_blank\">https://wandb.ai/cs24m015-indian-institute-of-technology-madras/Debasmita-DA6401-Assignment-3/runs/7hjbsx8o</a>"
      ],
      "text/plain": [
       "<IPython.core.display.HTML object>"
      ]
     },
     "metadata": {},
     "output_type": "display_data"
    },
    {
     "name": "stdout",
     "output_type": "stream",
     "text": [
      "run name = ATT_YES_EP_5_CELL_LSTM_EMB_256_ENC_2_DEC_2_FC_256_DRP_0.2_BS_64_BIDIREC_NO\n",
      "\n",
      "===================================================================================================================\n",
      "Epoch : 1\n",
      "Training Accuracy : 0.3066961265223275\n",
      "Validation Accuracy : 0.2420258620689655\n",
      "Training Loss : 0.4682245753977715\n",
      "Validation Loss : 0.6558377816759307\n",
      "\n",
      "===================================================================================================================\n",
      "Epoch : 2\n",
      "Training Accuracy : 0.42287931326116374\n",
      "Validation Accuracy : 0.2920258620689655\n",
      "Training Loss : 0.3887047375450276\n",
      "Validation Loss : 0.6312346021676886\n",
      "\n",
      "===================================================================================================================\n",
      "Epoch : 3\n",
      "Training Accuracy : 0.49383668809201625\n",
      "Validation Accuracy : 0.32273706896551724\n",
      "Training Loss : 0.34366734380328445\n",
      "Validation Loss : 0.6297929228379808\n",
      "\n",
      "===================================================================================================================\n",
      "Epoch : 4\n",
      "Training Accuracy : 0.5605548037889039\n",
      "Validation Accuracy : 0.3446120689655172\n",
      "Training Loss : 0.28406950488121974\n",
      "Validation Loss : 0.6005766604481072\n",
      "\n",
      "===================================================================================================================\n",
      "Epoch : 5\n",
      "Training Accuracy : 0.6060449086603519\n",
      "Validation Accuracy : 0.35258620689655173\n",
      "Training Loss : 0.26530547550953776\n",
      "Validation Loss : 0.6436982343936789\n"
     ]
    },
    {
     "data": {
      "text/html": [],
      "text/plain": [
       "<IPython.core.display.HTML object>"
      ]
     },
     "metadata": {},
     "output_type": "display_data"
    },
    {
     "data": {
      "text/html": [
       "<br>    <style><br>        .wandb-row {<br>            display: flex;<br>            flex-direction: row;<br>            flex-wrap: wrap;<br>            justify-content: flex-start;<br>            width: 100%;<br>        }<br>        .wandb-col {<br>            display: flex;<br>            flex-direction: column;<br>            flex-basis: 100%;<br>            flex: 1;<br>            padding: 10px;<br>        }<br>    </style><br><div class=\"wandb-row\"><div class=\"wandb-col\"><h3>Run history:</h3><br/><table class=\"wandb\"><tr><td>Epoch</td><td>▁▃▅▆█</td></tr><tr><td>training_accuracy</td><td>▁▄▅▇█</td></tr><tr><td>training_loss</td><td>█▅▄▂▁</td></tr><tr><td>validation_accuracy</td><td>▁▄▆▇█</td></tr><tr><td>validation_loss</td><td>█▅▅▁▆</td></tr></table><br/></div><div class=\"wandb-col\"><h3>Run summary:</h3><br/><table class=\"wandb\"><tr><td>Epoch</td><td>5</td></tr><tr><td>training_accuracy</td><td>0.60604</td></tr><tr><td>training_loss</td><td>0.26531</td></tr><tr><td>validation_accuracy</td><td>0.35259</td></tr><tr><td>validation_loss</td><td>0.6437</td></tr></table><br/></div></div>"
      ],
      "text/plain": [
       "<IPython.core.display.HTML object>"
      ]
     },
     "metadata": {},
     "output_type": "display_data"
    },
    {
     "data": {
      "text/html": [
       " View run <strong style=\"color:#cdcd00\">ATT_YES_EP_5_CELL_LSTM_EMB_256_ENC_2_DEC_2_FC_256_DRP_0.2_BS_64_BIDIREC_NO</strong> at: <a href='https://wandb.ai/cs24m015-indian-institute-of-technology-madras/Debasmita-DA6401-Assignment-3/runs/7hjbsx8o' target=\"_blank\">https://wandb.ai/cs24m015-indian-institute-of-technology-madras/Debasmita-DA6401-Assignment-3/runs/7hjbsx8o</a><br> View project at: <a href='https://wandb.ai/cs24m015-indian-institute-of-technology-madras/Debasmita-DA6401-Assignment-3' target=\"_blank\">https://wandb.ai/cs24m015-indian-institute-of-technology-madras/Debasmita-DA6401-Assignment-3</a><br>Synced 5 W&B file(s), 0 media file(s), 0 artifact file(s) and 0 other file(s)"
      ],
      "text/plain": [
       "<IPython.core.display.HTML object>"
      ]
     },
     "metadata": {},
     "output_type": "display_data"
    },
    {
     "data": {
      "text/html": [
       "Find logs at: <code>./wandb/run-20250516_201254-7hjbsx8o/logs</code>"
      ],
      "text/plain": [
       "<IPython.core.display.HTML object>"
      ]
     },
     "metadata": {},
     "output_type": "display_data"
    },
    {
     "name": "stderr",
     "output_type": "stream",
     "text": [
      "\u001b[34m\u001b[1mwandb\u001b[0m: Agent Starting Run: 4u15d764 with config:\n",
      "\u001b[34m\u001b[1mwandb\u001b[0m: \tbatch_size: 64\n",
      "\u001b[34m\u001b[1mwandb\u001b[0m: \tbidirectional: NO\n",
      "\u001b[34m\u001b[1mwandb\u001b[0m: \tcell_type: GRU\n",
      "\u001b[34m\u001b[1mwandb\u001b[0m: \tdecoder_layers: 2\n",
      "\u001b[34m\u001b[1mwandb\u001b[0m: \tdropout: 0.4\n",
      "\u001b[34m\u001b[1mwandb\u001b[0m: \tembedding_size: 128\n",
      "\u001b[34m\u001b[1mwandb\u001b[0m: \tencoder_layers: 2\n",
      "\u001b[34m\u001b[1mwandb\u001b[0m: \tepochs: 5\n",
      "\u001b[34m\u001b[1mwandb\u001b[0m: \tneurons_in_fc: 256\n"
     ]
    },
    {
     "data": {
      "text/html": [
       "Ignoring project 'Debasmita-DA6401-Assignment-3' when running a sweep."
      ],
      "text/plain": [
       "<IPython.core.display.HTML object>"
      ]
     },
     "metadata": {},
     "output_type": "display_data"
    },
    {
     "data": {
      "text/html": [
       "Tracking run with wandb version 0.19.9"
      ],
      "text/plain": [
       "<IPython.core.display.HTML object>"
      ]
     },
     "metadata": {},
     "output_type": "display_data"
    },
    {
     "data": {
      "text/html": [
       "Run data is saved locally in <code>/kaggle/working/wandb/run-20250516_202403-4u15d764</code>"
      ],
      "text/plain": [
       "<IPython.core.display.HTML object>"
      ]
     },
     "metadata": {},
     "output_type": "display_data"
    },
    {
     "data": {
      "text/html": [
       "Syncing run <strong><a href='https://wandb.ai/cs24m015-indian-institute-of-technology-madras/Debasmita-DA6401-Assignment-3/runs/4u15d764' target=\"_blank\">colorful-sweep-5</a></strong> to <a href='https://wandb.ai/cs24m015-indian-institute-of-technology-madras/Debasmita-DA6401-Assignment-3' target=\"_blank\">Weights & Biases</a> (<a href='https://wandb.me/developer-guide' target=\"_blank\">docs</a>)<br>Sweep page: <a href='https://wandb.ai/cs24m015-indian-institute-of-technology-madras/Debasmita-DA6401-Assignment-3/sweeps/hbfj1wi7' target=\"_blank\">https://wandb.ai/cs24m015-indian-institute-of-technology-madras/Debasmita-DA6401-Assignment-3/sweeps/hbfj1wi7</a>"
      ],
      "text/plain": [
       "<IPython.core.display.HTML object>"
      ]
     },
     "metadata": {},
     "output_type": "display_data"
    },
    {
     "data": {
      "text/html": [
       " View project at <a href='https://wandb.ai/cs24m015-indian-institute-of-technology-madras/Debasmita-DA6401-Assignment-3' target=\"_blank\">https://wandb.ai/cs24m015-indian-institute-of-technology-madras/Debasmita-DA6401-Assignment-3</a>"
      ],
      "text/plain": [
       "<IPython.core.display.HTML object>"
      ]
     },
     "metadata": {},
     "output_type": "display_data"
    },
    {
     "data": {
      "text/html": [
       " View sweep at <a href='https://wandb.ai/cs24m015-indian-institute-of-technology-madras/Debasmita-DA6401-Assignment-3/sweeps/hbfj1wi7' target=\"_blank\">https://wandb.ai/cs24m015-indian-institute-of-technology-madras/Debasmita-DA6401-Assignment-3/sweeps/hbfj1wi7</a>"
      ],
      "text/plain": [
       "<IPython.core.display.HTML object>"
      ]
     },
     "metadata": {},
     "output_type": "display_data"
    },
    {
     "data": {
      "text/html": [
       " View run at <a href='https://wandb.ai/cs24m015-indian-institute-of-technology-madras/Debasmita-DA6401-Assignment-3/runs/4u15d764' target=\"_blank\">https://wandb.ai/cs24m015-indian-institute-of-technology-madras/Debasmita-DA6401-Assignment-3/runs/4u15d764</a>"
      ],
      "text/plain": [
       "<IPython.core.display.HTML object>"
      ]
     },
     "metadata": {},
     "output_type": "display_data"
    },
    {
     "name": "stdout",
     "output_type": "stream",
     "text": [
      "run name = ATT_YES_EP_5_CELL_GRU_EMB_128_ENC_2_DEC_2_FC_256_DRP_0.4_BS_64_BIDIREC_NO\n",
      "\n",
      "===================================================================================================================\n",
      "Epoch : 1\n",
      "Training Accuracy : 0.2462470399188092\n",
      "Validation Accuracy : 0.19892241379310344\n",
      "Training Loss : 0.5003534688920549\n",
      "Validation Loss : 0.6774060354150575\n",
      "\n",
      "===================================================================================================================\n",
      "Epoch : 2\n",
      "Training Accuracy : 0.32948875169147496\n",
      "Validation Accuracy : 0.2501077586206897\n",
      "Training Loss : 0.4614596909695936\n",
      "Validation Loss : 0.6662729592158877\n",
      "\n",
      "===================================================================================================================\n",
      "Epoch : 3\n",
      "Training Accuracy : 0.36658491204330174\n",
      "Validation Accuracy : 0.2650862068965517\n",
      "Training Loss : 0.4572142166600982\n",
      "Validation Loss : 0.6793517947196961\n",
      "\n",
      "===================================================================================================================\n",
      "Epoch : 4\n",
      "Training Accuracy : 0.38787635317997293\n",
      "Validation Accuracy : 0.27101293103448276\n",
      "Training Loss : 0.414670896354725\n",
      "Validation Loss : 0.6495252392415343\n",
      "\n",
      "===================================================================================================================\n",
      "Epoch : 5\n",
      "Training Accuracy : 0.40392422192151556\n",
      "Validation Accuracy : 0.277801724137931\n",
      "Training Loss : 0.4048829387888534\n",
      "Validation Loss : 0.6417746170841414\n"
     ]
    },
    {
     "data": {
      "text/html": [],
      "text/plain": [
       "<IPython.core.display.HTML object>"
      ]
     },
     "metadata": {},
     "output_type": "display_data"
    },
    {
     "data": {
      "text/html": [
       "<br>    <style><br>        .wandb-row {<br>            display: flex;<br>            flex-direction: row;<br>            flex-wrap: wrap;<br>            justify-content: flex-start;<br>            width: 100%;<br>        }<br>        .wandb-col {<br>            display: flex;<br>            flex-direction: column;<br>            flex-basis: 100%;<br>            flex: 1;<br>            padding: 10px;<br>        }<br>    </style><br><div class=\"wandb-row\"><div class=\"wandb-col\"><h3>Run history:</h3><br/><table class=\"wandb\"><tr><td>Epoch</td><td>▁▃▅▆█</td></tr><tr><td>training_accuracy</td><td>▁▅▆▇█</td></tr><tr><td>training_loss</td><td>█▅▅▂▁</td></tr><tr><td>validation_accuracy</td><td>▁▆▇▇█</td></tr><tr><td>validation_loss</td><td>█▆█▂▁</td></tr></table><br/></div><div class=\"wandb-col\"><h3>Run summary:</h3><br/><table class=\"wandb\"><tr><td>Epoch</td><td>5</td></tr><tr><td>training_accuracy</td><td>0.40392</td></tr><tr><td>training_loss</td><td>0.40488</td></tr><tr><td>validation_accuracy</td><td>0.2778</td></tr><tr><td>validation_loss</td><td>0.64177</td></tr></table><br/></div></div>"
      ],
      "text/plain": [
       "<IPython.core.display.HTML object>"
      ]
     },
     "metadata": {},
     "output_type": "display_data"
    },
    {
     "data": {
      "text/html": [
       " View run <strong style=\"color:#cdcd00\">ATT_YES_EP_5_CELL_GRU_EMB_128_ENC_2_DEC_2_FC_256_DRP_0.4_BS_64_BIDIREC_NO</strong> at: <a href='https://wandb.ai/cs24m015-indian-institute-of-technology-madras/Debasmita-DA6401-Assignment-3/runs/4u15d764' target=\"_blank\">https://wandb.ai/cs24m015-indian-institute-of-technology-madras/Debasmita-DA6401-Assignment-3/runs/4u15d764</a><br> View project at: <a href='https://wandb.ai/cs24m015-indian-institute-of-technology-madras/Debasmita-DA6401-Assignment-3' target=\"_blank\">https://wandb.ai/cs24m015-indian-institute-of-technology-madras/Debasmita-DA6401-Assignment-3</a><br>Synced 5 W&B file(s), 0 media file(s), 0 artifact file(s) and 0 other file(s)"
      ],
      "text/plain": [
       "<IPython.core.display.HTML object>"
      ]
     },
     "metadata": {},
     "output_type": "display_data"
    },
    {
     "data": {
      "text/html": [
       "Find logs at: <code>./wandb/run-20250516_202403-4u15d764/logs</code>"
      ],
      "text/plain": [
       "<IPython.core.display.HTML object>"
      ]
     },
     "metadata": {},
     "output_type": "display_data"
    },
    {
     "name": "stderr",
     "output_type": "stream",
     "text": [
      "\u001b[34m\u001b[1mwandb\u001b[0m: Agent Starting Run: 5rdaz6ph with config:\n",
      "\u001b[34m\u001b[1mwandb\u001b[0m: \tbatch_size: 64\n",
      "\u001b[34m\u001b[1mwandb\u001b[0m: \tbidirectional: NO\n",
      "\u001b[34m\u001b[1mwandb\u001b[0m: \tcell_type: LSTM\n",
      "\u001b[34m\u001b[1mwandb\u001b[0m: \tdecoder_layers: 2\n",
      "\u001b[34m\u001b[1mwandb\u001b[0m: \tdropout: 0.4\n",
      "\u001b[34m\u001b[1mwandb\u001b[0m: \tembedding_size: 512\n",
      "\u001b[34m\u001b[1mwandb\u001b[0m: \tencoder_layers: 2\n",
      "\u001b[34m\u001b[1mwandb\u001b[0m: \tepochs: 5\n",
      "\u001b[34m\u001b[1mwandb\u001b[0m: \tneurons_in_fc: 512\n"
     ]
    },
    {
     "data": {
      "text/html": [
       "Ignoring project 'Debasmita-DA6401-Assignment-3' when running a sweep."
      ],
      "text/plain": [
       "<IPython.core.display.HTML object>"
      ]
     },
     "metadata": {},
     "output_type": "display_data"
    },
    {
     "data": {
      "text/html": [
       "Tracking run with wandb version 0.19.9"
      ],
      "text/plain": [
       "<IPython.core.display.HTML object>"
      ]
     },
     "metadata": {},
     "output_type": "display_data"
    },
    {
     "data": {
      "text/html": [
       "Run data is saved locally in <code>/kaggle/working/wandb/run-20250516_203446-5rdaz6ph</code>"
      ],
      "text/plain": [
       "<IPython.core.display.HTML object>"
      ]
     },
     "metadata": {},
     "output_type": "display_data"
    },
    {
     "data": {
      "text/html": [
       "Syncing run <strong><a href='https://wandb.ai/cs24m015-indian-institute-of-technology-madras/Debasmita-DA6401-Assignment-3/runs/5rdaz6ph' target=\"_blank\">solar-sweep-6</a></strong> to <a href='https://wandb.ai/cs24m015-indian-institute-of-technology-madras/Debasmita-DA6401-Assignment-3' target=\"_blank\">Weights & Biases</a> (<a href='https://wandb.me/developer-guide' target=\"_blank\">docs</a>)<br>Sweep page: <a href='https://wandb.ai/cs24m015-indian-institute-of-technology-madras/Debasmita-DA6401-Assignment-3/sweeps/hbfj1wi7' target=\"_blank\">https://wandb.ai/cs24m015-indian-institute-of-technology-madras/Debasmita-DA6401-Assignment-3/sweeps/hbfj1wi7</a>"
      ],
      "text/plain": [
       "<IPython.core.display.HTML object>"
      ]
     },
     "metadata": {},
     "output_type": "display_data"
    },
    {
     "data": {
      "text/html": [
       " View project at <a href='https://wandb.ai/cs24m015-indian-institute-of-technology-madras/Debasmita-DA6401-Assignment-3' target=\"_blank\">https://wandb.ai/cs24m015-indian-institute-of-technology-madras/Debasmita-DA6401-Assignment-3</a>"
      ],
      "text/plain": [
       "<IPython.core.display.HTML object>"
      ]
     },
     "metadata": {},
     "output_type": "display_data"
    },
    {
     "data": {
      "text/html": [
       " View sweep at <a href='https://wandb.ai/cs24m015-indian-institute-of-technology-madras/Debasmita-DA6401-Assignment-3/sweeps/hbfj1wi7' target=\"_blank\">https://wandb.ai/cs24m015-indian-institute-of-technology-madras/Debasmita-DA6401-Assignment-3/sweeps/hbfj1wi7</a>"
      ],
      "text/plain": [
       "<IPython.core.display.HTML object>"
      ]
     },
     "metadata": {},
     "output_type": "display_data"
    },
    {
     "data": {
      "text/html": [
       " View run at <a href='https://wandb.ai/cs24m015-indian-institute-of-technology-madras/Debasmita-DA6401-Assignment-3/runs/5rdaz6ph' target=\"_blank\">https://wandb.ai/cs24m015-indian-institute-of-technology-madras/Debasmita-DA6401-Assignment-3/runs/5rdaz6ph</a>"
      ],
      "text/plain": [
       "<IPython.core.display.HTML object>"
      ]
     },
     "metadata": {},
     "output_type": "display_data"
    },
    {
     "name": "stdout",
     "output_type": "stream",
     "text": [
      "run name = ATT_YES_EP_5_CELL_LSTM_EMB_512_ENC_2_DEC_2_FC_512_DRP_0.4_BS_64_BIDIREC_NO\n",
      "\n",
      "===================================================================================================================\n",
      "Epoch : 1\n",
      "Training Accuracy : 0.26557214140730717\n",
      "Validation Accuracy : 0.22252155172413793\n",
      "Training Loss : 0.515418497853092\n",
      "Validation Loss : 0.6928889760683323\n",
      "\n",
      "===================================================================================================================\n",
      "Epoch : 2\n",
      "Training Accuracy : 0.3983423545331529\n",
      "Validation Accuracy : 0.2817887931034483\n",
      "Training Loss : 0.38393893070690366\n",
      "Validation Loss : 0.5969208103829416\n",
      "\n",
      "===================================================================================================================\n",
      "Epoch : 3\n",
      "Training Accuracy : 0.49457670838971585\n",
      "Validation Accuracy : 0.3120689655172414\n",
      "Training Loss : 0.33913235188901664\n",
      "Validation Loss : 0.6149375456160513\n",
      "\n",
      "===================================================================================================================\n",
      "Epoch : 4\n",
      "Training Accuracy : 0.5538311907983762\n",
      "Validation Accuracy : 0.3150862068965517\n",
      "Training Loss : 0.32013942912241117\n",
      "Validation Loss : 0.6539349596048224\n",
      "\n",
      "===================================================================================================================\n",
      "Epoch : 5\n",
      "Training Accuracy : 0.5817722428958051\n",
      "Validation Accuracy : 0.32047413793103446\n",
      "Training Loss : 0.29596968507331184\n",
      "Validation Loss : 0.64823461812118\n"
     ]
    },
    {
     "data": {
      "text/html": [],
      "text/plain": [
       "<IPython.core.display.HTML object>"
      ]
     },
     "metadata": {},
     "output_type": "display_data"
    },
    {
     "data": {
      "text/html": [
       "<br>    <style><br>        .wandb-row {<br>            display: flex;<br>            flex-direction: row;<br>            flex-wrap: wrap;<br>            justify-content: flex-start;<br>            width: 100%;<br>        }<br>        .wandb-col {<br>            display: flex;<br>            flex-direction: column;<br>            flex-basis: 100%;<br>            flex: 1;<br>            padding: 10px;<br>        }<br>    </style><br><div class=\"wandb-row\"><div class=\"wandb-col\"><h3>Run history:</h3><br/><table class=\"wandb\"><tr><td>Epoch</td><td>▁▃▅▆█</td></tr><tr><td>training_accuracy</td><td>▁▄▆▇█</td></tr><tr><td>training_loss</td><td>█▄▂▂▁</td></tr><tr><td>validation_accuracy</td><td>▁▅▇██</td></tr><tr><td>validation_loss</td><td>█▁▂▅▅</td></tr></table><br/></div><div class=\"wandb-col\"><h3>Run summary:</h3><br/><table class=\"wandb\"><tr><td>Epoch</td><td>5</td></tr><tr><td>training_accuracy</td><td>0.58177</td></tr><tr><td>training_loss</td><td>0.29597</td></tr><tr><td>validation_accuracy</td><td>0.32047</td></tr><tr><td>validation_loss</td><td>0.64823</td></tr></table><br/></div></div>"
      ],
      "text/plain": [
       "<IPython.core.display.HTML object>"
      ]
     },
     "metadata": {},
     "output_type": "display_data"
    },
    {
     "data": {
      "text/html": [
       " View run <strong style=\"color:#cdcd00\">ATT_YES_EP_5_CELL_LSTM_EMB_512_ENC_2_DEC_2_FC_512_DRP_0.4_BS_64_BIDIREC_NO</strong> at: <a href='https://wandb.ai/cs24m015-indian-institute-of-technology-madras/Debasmita-DA6401-Assignment-3/runs/5rdaz6ph' target=\"_blank\">https://wandb.ai/cs24m015-indian-institute-of-technology-madras/Debasmita-DA6401-Assignment-3/runs/5rdaz6ph</a><br> View project at: <a href='https://wandb.ai/cs24m015-indian-institute-of-technology-madras/Debasmita-DA6401-Assignment-3' target=\"_blank\">https://wandb.ai/cs24m015-indian-institute-of-technology-madras/Debasmita-DA6401-Assignment-3</a><br>Synced 5 W&B file(s), 0 media file(s), 0 artifact file(s) and 0 other file(s)"
      ],
      "text/plain": [
       "<IPython.core.display.HTML object>"
      ]
     },
     "metadata": {},
     "output_type": "display_data"
    },
    {
     "data": {
      "text/html": [
       "Find logs at: <code>./wandb/run-20250516_203446-5rdaz6ph/logs</code>"
      ],
      "text/plain": [
       "<IPython.core.display.HTML object>"
      ]
     },
     "metadata": {},
     "output_type": "display_data"
    },
    {
     "name": "stderr",
     "output_type": "stream",
     "text": [
      "\u001b[34m\u001b[1mwandb\u001b[0m: Agent Starting Run: bumtmiye with config:\n",
      "\u001b[34m\u001b[1mwandb\u001b[0m: \tbatch_size: 64\n",
      "\u001b[34m\u001b[1mwandb\u001b[0m: \tbidirectional: NO\n",
      "\u001b[34m\u001b[1mwandb\u001b[0m: \tcell_type: LSTM\n",
      "\u001b[34m\u001b[1mwandb\u001b[0m: \tdecoder_layers: 3\n",
      "\u001b[34m\u001b[1mwandb\u001b[0m: \tdropout: 0.2\n",
      "\u001b[34m\u001b[1mwandb\u001b[0m: \tembedding_size: 256\n",
      "\u001b[34m\u001b[1mwandb\u001b[0m: \tencoder_layers: 2\n",
      "\u001b[34m\u001b[1mwandb\u001b[0m: \tepochs: 5\n",
      "\u001b[34m\u001b[1mwandb\u001b[0m: \tneurons_in_fc: 512\n"
     ]
    },
    {
     "data": {
      "text/html": [
       "Ignoring project 'Debasmita-DA6401-Assignment-3' when running a sweep."
      ],
      "text/plain": [
       "<IPython.core.display.HTML object>"
      ]
     },
     "metadata": {},
     "output_type": "display_data"
    },
    {
     "data": {
      "text/html": [
       "Tracking run with wandb version 0.19.9"
      ],
      "text/plain": [
       "<IPython.core.display.HTML object>"
      ]
     },
     "metadata": {},
     "output_type": "display_data"
    },
    {
     "data": {
      "text/html": [
       "Run data is saved locally in <code>/kaggle/working/wandb/run-20250516_204711-bumtmiye</code>"
      ],
      "text/plain": [
       "<IPython.core.display.HTML object>"
      ]
     },
     "metadata": {},
     "output_type": "display_data"
    },
    {
     "data": {
      "text/html": [
       "Syncing run <strong><a href='https://wandb.ai/cs24m015-indian-institute-of-technology-madras/Debasmita-DA6401-Assignment-3/runs/bumtmiye' target=\"_blank\">different-sweep-7</a></strong> to <a href='https://wandb.ai/cs24m015-indian-institute-of-technology-madras/Debasmita-DA6401-Assignment-3' target=\"_blank\">Weights & Biases</a> (<a href='https://wandb.me/developer-guide' target=\"_blank\">docs</a>)<br>Sweep page: <a href='https://wandb.ai/cs24m015-indian-institute-of-technology-madras/Debasmita-DA6401-Assignment-3/sweeps/hbfj1wi7' target=\"_blank\">https://wandb.ai/cs24m015-indian-institute-of-technology-madras/Debasmita-DA6401-Assignment-3/sweeps/hbfj1wi7</a>"
      ],
      "text/plain": [
       "<IPython.core.display.HTML object>"
      ]
     },
     "metadata": {},
     "output_type": "display_data"
    },
    {
     "data": {
      "text/html": [
       " View project at <a href='https://wandb.ai/cs24m015-indian-institute-of-technology-madras/Debasmita-DA6401-Assignment-3' target=\"_blank\">https://wandb.ai/cs24m015-indian-institute-of-technology-madras/Debasmita-DA6401-Assignment-3</a>"
      ],
      "text/plain": [
       "<IPython.core.display.HTML object>"
      ]
     },
     "metadata": {},
     "output_type": "display_data"
    },
    {
     "data": {
      "text/html": [
       " View sweep at <a href='https://wandb.ai/cs24m015-indian-institute-of-technology-madras/Debasmita-DA6401-Assignment-3/sweeps/hbfj1wi7' target=\"_blank\">https://wandb.ai/cs24m015-indian-institute-of-technology-madras/Debasmita-DA6401-Assignment-3/sweeps/hbfj1wi7</a>"
      ],
      "text/plain": [
       "<IPython.core.display.HTML object>"
      ]
     },
     "metadata": {},
     "output_type": "display_data"
    },
    {
     "data": {
      "text/html": [
       " View run at <a href='https://wandb.ai/cs24m015-indian-institute-of-technology-madras/Debasmita-DA6401-Assignment-3/runs/bumtmiye' target=\"_blank\">https://wandb.ai/cs24m015-indian-institute-of-technology-madras/Debasmita-DA6401-Assignment-3/runs/bumtmiye</a>"
      ],
      "text/plain": [
       "<IPython.core.display.HTML object>"
      ]
     },
     "metadata": {},
     "output_type": "display_data"
    },
    {
     "name": "stdout",
     "output_type": "stream",
     "text": [
      "run name = ATT_YES_EP_5_CELL_LSTM_EMB_256_ENC_2_DEC_3_FC_512_DRP_0.2_BS_64_BIDIREC_NO\n",
      "\n",
      "===================================================================================================================\n",
      "Epoch : 1\n",
      "Training Accuracy : 0.262728349120433\n",
      "Validation Accuracy : 0.21282327586206898\n",
      "Training Loss : 0.5043293114484405\n",
      "Validation Loss : 0.6814944057629027\n",
      "\n",
      "===================================================================================================================\n",
      "Epoch : 2\n",
      "Training Accuracy : 0.4197395128552097\n",
      "Validation Accuracy : 0.280926724137931\n",
      "Training Loss : 0.39859569836937203\n",
      "Validation Loss : 0.6676607119626012\n",
      "\n",
      "===================================================================================================================\n",
      "Epoch : 3\n",
      "Training Accuracy : 0.5218517422192152\n",
      "Validation Accuracy : 0.32241379310344825\n",
      "Training Loss : 0.3089147124323535\n",
      "Validation Loss : 0.6188995295557482\n",
      "\n",
      "===================================================================================================================\n",
      "Epoch : 4\n",
      "Training Accuracy : 0.6068377875507442\n",
      "Validation Accuracy : 0.3317887931034483\n",
      "Training Loss : 0.25879079289482315\n",
      "Validation Loss : 0.664207428796538\n",
      "\n",
      "===================================================================================================================\n",
      "Epoch : 5\n",
      "Training Accuracy : 0.648120348443843\n",
      "Validation Accuracy : 0.3464439655172414\n",
      "Training Loss : 0.23921560781915874\n",
      "Validation Loss : 0.6823684318312283\n"
     ]
    },
    {
     "data": {
      "text/html": [],
      "text/plain": [
       "<IPython.core.display.HTML object>"
      ]
     },
     "metadata": {},
     "output_type": "display_data"
    },
    {
     "data": {
      "text/html": [
       "<br>    <style><br>        .wandb-row {<br>            display: flex;<br>            flex-direction: row;<br>            flex-wrap: wrap;<br>            justify-content: flex-start;<br>            width: 100%;<br>        }<br>        .wandb-col {<br>            display: flex;<br>            flex-direction: column;<br>            flex-basis: 100%;<br>            flex: 1;<br>            padding: 10px;<br>        }<br>    </style><br><div class=\"wandb-row\"><div class=\"wandb-col\"><h3>Run history:</h3><br/><table class=\"wandb\"><tr><td>Epoch</td><td>▁▃▅▆█</td></tr><tr><td>training_accuracy</td><td>▁▄▆▇█</td></tr><tr><td>training_loss</td><td>█▅▃▂▁</td></tr><tr><td>validation_accuracy</td><td>▁▅▇▇█</td></tr><tr><td>validation_loss</td><td>█▆▁▆█</td></tr></table><br/></div><div class=\"wandb-col\"><h3>Run summary:</h3><br/><table class=\"wandb\"><tr><td>Epoch</td><td>5</td></tr><tr><td>training_accuracy</td><td>0.64812</td></tr><tr><td>training_loss</td><td>0.23922</td></tr><tr><td>validation_accuracy</td><td>0.34644</td></tr><tr><td>validation_loss</td><td>0.68237</td></tr></table><br/></div></div>"
      ],
      "text/plain": [
       "<IPython.core.display.HTML object>"
      ]
     },
     "metadata": {},
     "output_type": "display_data"
    },
    {
     "data": {
      "text/html": [
       " View run <strong style=\"color:#cdcd00\">ATT_YES_EP_5_CELL_LSTM_EMB_256_ENC_2_DEC_3_FC_512_DRP_0.2_BS_64_BIDIREC_NO</strong> at: <a href='https://wandb.ai/cs24m015-indian-institute-of-technology-madras/Debasmita-DA6401-Assignment-3/runs/bumtmiye' target=\"_blank\">https://wandb.ai/cs24m015-indian-institute-of-technology-madras/Debasmita-DA6401-Assignment-3/runs/bumtmiye</a><br> View project at: <a href='https://wandb.ai/cs24m015-indian-institute-of-technology-madras/Debasmita-DA6401-Assignment-3' target=\"_blank\">https://wandb.ai/cs24m015-indian-institute-of-technology-madras/Debasmita-DA6401-Assignment-3</a><br>Synced 5 W&B file(s), 0 media file(s), 0 artifact file(s) and 0 other file(s)"
      ],
      "text/plain": [
       "<IPython.core.display.HTML object>"
      ]
     },
     "metadata": {},
     "output_type": "display_data"
    },
    {
     "data": {
      "text/html": [
       "Find logs at: <code>./wandb/run-20250516_204711-bumtmiye/logs</code>"
      ],
      "text/plain": [
       "<IPython.core.display.HTML object>"
      ]
     },
     "metadata": {},
     "output_type": "display_data"
    },
    {
     "name": "stderr",
     "output_type": "stream",
     "text": [
      "\u001b[34m\u001b[1mwandb\u001b[0m: Agent Starting Run: 9fkf9zwj with config:\n",
      "\u001b[34m\u001b[1mwandb\u001b[0m: \tbatch_size: 128\n",
      "\u001b[34m\u001b[1mwandb\u001b[0m: \tbidirectional: NO\n",
      "\u001b[34m\u001b[1mwandb\u001b[0m: \tcell_type: LSTM\n",
      "\u001b[34m\u001b[1mwandb\u001b[0m: \tdecoder_layers: 3\n",
      "\u001b[34m\u001b[1mwandb\u001b[0m: \tdropout: 0.2\n",
      "\u001b[34m\u001b[1mwandb\u001b[0m: \tembedding_size: 256\n",
      "\u001b[34m\u001b[1mwandb\u001b[0m: \tencoder_layers: 3\n",
      "\u001b[34m\u001b[1mwandb\u001b[0m: \tepochs: 5\n",
      "\u001b[34m\u001b[1mwandb\u001b[0m: \tneurons_in_fc: 256\n"
     ]
    },
    {
     "data": {
      "text/html": [
       "Ignoring project 'Debasmita-DA6401-Assignment-3' when running a sweep."
      ],
      "text/plain": [
       "<IPython.core.display.HTML object>"
      ]
     },
     "metadata": {},
     "output_type": "display_data"
    },
    {
     "data": {
      "text/html": [
       "Tracking run with wandb version 0.19.9"
      ],
      "text/plain": [
       "<IPython.core.display.HTML object>"
      ]
     },
     "metadata": {},
     "output_type": "display_data"
    },
    {
     "data": {
      "text/html": [
       "Run data is saved locally in <code>/kaggle/working/wandb/run-20250516_210056-9fkf9zwj</code>"
      ],
      "text/plain": [
       "<IPython.core.display.HTML object>"
      ]
     },
     "metadata": {},
     "output_type": "display_data"
    },
    {
     "data": {
      "text/html": [
       "Syncing run <strong><a href='https://wandb.ai/cs24m015-indian-institute-of-technology-madras/Debasmita-DA6401-Assignment-3/runs/9fkf9zwj' target=\"_blank\">trim-sweep-8</a></strong> to <a href='https://wandb.ai/cs24m015-indian-institute-of-technology-madras/Debasmita-DA6401-Assignment-3' target=\"_blank\">Weights & Biases</a> (<a href='https://wandb.me/developer-guide' target=\"_blank\">docs</a>)<br>Sweep page: <a href='https://wandb.ai/cs24m015-indian-institute-of-technology-madras/Debasmita-DA6401-Assignment-3/sweeps/hbfj1wi7' target=\"_blank\">https://wandb.ai/cs24m015-indian-institute-of-technology-madras/Debasmita-DA6401-Assignment-3/sweeps/hbfj1wi7</a>"
      ],
      "text/plain": [
       "<IPython.core.display.HTML object>"
      ]
     },
     "metadata": {},
     "output_type": "display_data"
    },
    {
     "data": {
      "text/html": [
       " View project at <a href='https://wandb.ai/cs24m015-indian-institute-of-technology-madras/Debasmita-DA6401-Assignment-3' target=\"_blank\">https://wandb.ai/cs24m015-indian-institute-of-technology-madras/Debasmita-DA6401-Assignment-3</a>"
      ],
      "text/plain": [
       "<IPython.core.display.HTML object>"
      ]
     },
     "metadata": {},
     "output_type": "display_data"
    },
    {
     "data": {
      "text/html": [
       " View sweep at <a href='https://wandb.ai/cs24m015-indian-institute-of-technology-madras/Debasmita-DA6401-Assignment-3/sweeps/hbfj1wi7' target=\"_blank\">https://wandb.ai/cs24m015-indian-institute-of-technology-madras/Debasmita-DA6401-Assignment-3/sweeps/hbfj1wi7</a>"
      ],
      "text/plain": [
       "<IPython.core.display.HTML object>"
      ]
     },
     "metadata": {},
     "output_type": "display_data"
    },
    {
     "data": {
      "text/html": [
       " View run at <a href='https://wandb.ai/cs24m015-indian-institute-of-technology-madras/Debasmita-DA6401-Assignment-3/runs/9fkf9zwj' target=\"_blank\">https://wandb.ai/cs24m015-indian-institute-of-technology-madras/Debasmita-DA6401-Assignment-3/runs/9fkf9zwj</a>"
      ],
      "text/plain": [
       "<IPython.core.display.HTML object>"
      ]
     },
     "metadata": {},
     "output_type": "display_data"
    },
    {
     "name": "stdout",
     "output_type": "stream",
     "text": [
      "run name = ATT_YES_EP_5_CELL_LSTM_EMB_256_ENC_3_DEC_3_FC_256_DRP_0.2_BS_128_BIDIREC_NO\n",
      "\n",
      "===================================================================================================================\n",
      "Epoch : 1\n",
      "Training Accuracy : 0.16964436738836267\n",
      "Validation Accuracy : 0.12146832191780822\n",
      "Training Loss : 0.5659214660263191\n",
      "Validation Loss : 0.7883397299949437\n",
      "\n",
      "===================================================================================================================\n",
      "Epoch : 2\n",
      "Training Accuracy : 0.33628636671177264\n",
      "Validation Accuracy : 0.2568493150684932\n",
      "Training Loss : 0.4369177616658811\n",
      "Validation Loss : 0.6249976341855036\n",
      "\n",
      "===================================================================================================================\n",
      "Epoch : 3\n",
      "Training Accuracy : 0.42073325439783493\n",
      "Validation Accuracy : 0.2980522260273973\n",
      "Training Loss : 0.3755544751116323\n",
      "Validation Loss : 0.6140928705261178\n",
      "\n",
      "===================================================================================================================\n",
      "Epoch : 4\n",
      "Training Accuracy : 0.500317151556157\n",
      "Validation Accuracy : 0.3213827054794521\n",
      "Training Loss : 0.32200155992953156\n",
      "Validation Loss : 0.623926438697397\n",
      "\n",
      "===================================================================================================================\n",
      "Epoch : 5\n",
      "Training Accuracy : 0.5575418640054127\n",
      "Validation Accuracy : 0.3458904109589041\n",
      "Training Loss : 0.26442858602987734\n",
      "Validation Loss : 0.5969506734854555\n"
     ]
    },
    {
     "data": {
      "text/html": [],
      "text/plain": [
       "<IPython.core.display.HTML object>"
      ]
     },
     "metadata": {},
     "output_type": "display_data"
    },
    {
     "data": {
      "text/html": [
       "<br>    <style><br>        .wandb-row {<br>            display: flex;<br>            flex-direction: row;<br>            flex-wrap: wrap;<br>            justify-content: flex-start;<br>            width: 100%;<br>        }<br>        .wandb-col {<br>            display: flex;<br>            flex-direction: column;<br>            flex-basis: 100%;<br>            flex: 1;<br>            padding: 10px;<br>        }<br>    </style><br><div class=\"wandb-row\"><div class=\"wandb-col\"><h3>Run history:</h3><br/><table class=\"wandb\"><tr><td>Epoch</td><td>▁▃▅▆█</td></tr><tr><td>training_accuracy</td><td>▁▄▆▇█</td></tr><tr><td>training_loss</td><td>█▅▄▂▁</td></tr><tr><td>validation_accuracy</td><td>▁▅▇▇█</td></tr><tr><td>validation_loss</td><td>█▂▂▂▁</td></tr></table><br/></div><div class=\"wandb-col\"><h3>Run summary:</h3><br/><table class=\"wandb\"><tr><td>Epoch</td><td>5</td></tr><tr><td>training_accuracy</td><td>0.55754</td></tr><tr><td>training_loss</td><td>0.26443</td></tr><tr><td>validation_accuracy</td><td>0.34589</td></tr><tr><td>validation_loss</td><td>0.59695</td></tr></table><br/></div></div>"
      ],
      "text/plain": [
       "<IPython.core.display.HTML object>"
      ]
     },
     "metadata": {},
     "output_type": "display_data"
    },
    {
     "data": {
      "text/html": [
       " View run <strong style=\"color:#cdcd00\">ATT_YES_EP_5_CELL_LSTM_EMB_256_ENC_3_DEC_3_FC_256_DRP_0.2_BS_128_BIDIREC_NO</strong> at: <a href='https://wandb.ai/cs24m015-indian-institute-of-technology-madras/Debasmita-DA6401-Assignment-3/runs/9fkf9zwj' target=\"_blank\">https://wandb.ai/cs24m015-indian-institute-of-technology-madras/Debasmita-DA6401-Assignment-3/runs/9fkf9zwj</a><br> View project at: <a href='https://wandb.ai/cs24m015-indian-institute-of-technology-madras/Debasmita-DA6401-Assignment-3' target=\"_blank\">https://wandb.ai/cs24m015-indian-institute-of-technology-madras/Debasmita-DA6401-Assignment-3</a><br>Synced 5 W&B file(s), 0 media file(s), 0 artifact file(s) and 0 other file(s)"
      ],
      "text/plain": [
       "<IPython.core.display.HTML object>"
      ]
     },
     "metadata": {},
     "output_type": "display_data"
    },
    {
     "data": {
      "text/html": [
       "Find logs at: <code>./wandb/run-20250516_210056-9fkf9zwj/logs</code>"
      ],
      "text/plain": [
       "<IPython.core.display.HTML object>"
      ]
     },
     "metadata": {},
     "output_type": "display_data"
    },
    {
     "name": "stderr",
     "output_type": "stream",
     "text": [
      "\u001b[34m\u001b[1mwandb\u001b[0m: Agent Starting Run: kaz2beqn with config:\n",
      "\u001b[34m\u001b[1mwandb\u001b[0m: \tbatch_size: 128\n",
      "\u001b[34m\u001b[1mwandb\u001b[0m: \tbidirectional: NO\n",
      "\u001b[34m\u001b[1mwandb\u001b[0m: \tcell_type: LSTM\n",
      "\u001b[34m\u001b[1mwandb\u001b[0m: \tdecoder_layers: 3\n",
      "\u001b[34m\u001b[1mwandb\u001b[0m: \tdropout: 0.2\n",
      "\u001b[34m\u001b[1mwandb\u001b[0m: \tembedding_size: 32\n",
      "\u001b[34m\u001b[1mwandb\u001b[0m: \tencoder_layers: 2\n",
      "\u001b[34m\u001b[1mwandb\u001b[0m: \tepochs: 5\n",
      "\u001b[34m\u001b[1mwandb\u001b[0m: \tneurons_in_fc: 512\n"
     ]
    },
    {
     "data": {
      "text/html": [
       "Ignoring project 'Debasmita-DA6401-Assignment-3' when running a sweep."
      ],
      "text/plain": [
       "<IPython.core.display.HTML object>"
      ]
     },
     "metadata": {},
     "output_type": "display_data"
    },
    {
     "data": {
      "text/html": [
       "Tracking run with wandb version 0.19.9"
      ],
      "text/plain": [
       "<IPython.core.display.HTML object>"
      ]
     },
     "metadata": {},
     "output_type": "display_data"
    },
    {
     "data": {
      "text/html": [
       "Run data is saved locally in <code>/kaggle/working/wandb/run-20250516_210716-kaz2beqn</code>"
      ],
      "text/plain": [
       "<IPython.core.display.HTML object>"
      ]
     },
     "metadata": {},
     "output_type": "display_data"
    },
    {
     "data": {
      "text/html": [
       "Syncing run <strong><a href='https://wandb.ai/cs24m015-indian-institute-of-technology-madras/Debasmita-DA6401-Assignment-3/runs/kaz2beqn' target=\"_blank\">blooming-sweep-9</a></strong> to <a href='https://wandb.ai/cs24m015-indian-institute-of-technology-madras/Debasmita-DA6401-Assignment-3' target=\"_blank\">Weights & Biases</a> (<a href='https://wandb.me/developer-guide' target=\"_blank\">docs</a>)<br>Sweep page: <a href='https://wandb.ai/cs24m015-indian-institute-of-technology-madras/Debasmita-DA6401-Assignment-3/sweeps/hbfj1wi7' target=\"_blank\">https://wandb.ai/cs24m015-indian-institute-of-technology-madras/Debasmita-DA6401-Assignment-3/sweeps/hbfj1wi7</a>"
      ],
      "text/plain": [
       "<IPython.core.display.HTML object>"
      ]
     },
     "metadata": {},
     "output_type": "display_data"
    },
    {
     "data": {
      "text/html": [
       " View project at <a href='https://wandb.ai/cs24m015-indian-institute-of-technology-madras/Debasmita-DA6401-Assignment-3' target=\"_blank\">https://wandb.ai/cs24m015-indian-institute-of-technology-madras/Debasmita-DA6401-Assignment-3</a>"
      ],
      "text/plain": [
       "<IPython.core.display.HTML object>"
      ]
     },
     "metadata": {},
     "output_type": "display_data"
    },
    {
     "data": {
      "text/html": [
       " View sweep at <a href='https://wandb.ai/cs24m015-indian-institute-of-technology-madras/Debasmita-DA6401-Assignment-3/sweeps/hbfj1wi7' target=\"_blank\">https://wandb.ai/cs24m015-indian-institute-of-technology-madras/Debasmita-DA6401-Assignment-3/sweeps/hbfj1wi7</a>"
      ],
      "text/plain": [
       "<IPython.core.display.HTML object>"
      ]
     },
     "metadata": {},
     "output_type": "display_data"
    },
    {
     "data": {
      "text/html": [
       " View run at <a href='https://wandb.ai/cs24m015-indian-institute-of-technology-madras/Debasmita-DA6401-Assignment-3/runs/kaz2beqn' target=\"_blank\">https://wandb.ai/cs24m015-indian-institute-of-technology-madras/Debasmita-DA6401-Assignment-3/runs/kaz2beqn</a>"
      ],
      "text/plain": [
       "<IPython.core.display.HTML object>"
      ]
     },
     "metadata": {},
     "output_type": "display_data"
    },
    {
     "name": "stdout",
     "output_type": "stream",
     "text": [
      "run name = ATT_YES_EP_5_CELL_LSTM_EMB_32_ENC_2_DEC_3_FC_512_DRP_0.2_BS_128_BIDIREC_NO\n",
      "\n",
      "===================================================================================================================\n",
      "Epoch : 1\n",
      "Training Accuracy : 0.21568420162381596\n",
      "Validation Accuracy : 0.191673801369863\n",
      "Training Loss : 0.5161487066536053\n",
      "Validation Loss : 0.6629543475908776\n",
      "\n",
      "===================================================================================================================\n",
      "Epoch : 2\n",
      "Training Accuracy : 0.3633499661705007\n",
      "Validation Accuracy : 0.2706549657534247\n",
      "Training Loss : 0.4167697415138936\n",
      "Validation Loss : 0.6369641121119669\n",
      "\n",
      "===================================================================================================================\n",
      "Epoch : 3\n",
      "Training Accuracy : 0.4674285351826793\n",
      "Validation Accuracy : 0.3248073630136986\n",
      "Training Loss : 0.3413539917002834\n",
      "Validation Loss : 0.6061596703039457\n",
      "\n",
      "===================================================================================================================\n",
      "Epoch : 4\n",
      "Training Accuracy : 0.5499936569688768\n",
      "Validation Accuracy : 0.3513484589041096\n",
      "Training Loss : 0.2756734533343812\n",
      "Validation Loss : 0.584255039691925\n",
      "\n",
      "===================================================================================================================\n",
      "Epoch : 5\n",
      "Training Accuracy : 0.6194709912043301\n",
      "Validation Accuracy : 0.3504922945205479\n",
      "Training Loss : 0.231441027881812\n",
      "Validation Loss : 0.628577027010591\n"
     ]
    },
    {
     "data": {
      "text/html": [],
      "text/plain": [
       "<IPython.core.display.HTML object>"
      ]
     },
     "metadata": {},
     "output_type": "display_data"
    },
    {
     "data": {
      "text/html": [
       "<br>    <style><br>        .wandb-row {<br>            display: flex;<br>            flex-direction: row;<br>            flex-wrap: wrap;<br>            justify-content: flex-start;<br>            width: 100%;<br>        }<br>        .wandb-col {<br>            display: flex;<br>            flex-direction: column;<br>            flex-basis: 100%;<br>            flex: 1;<br>            padding: 10px;<br>        }<br>    </style><br><div class=\"wandb-row\"><div class=\"wandb-col\"><h3>Run history:</h3><br/><table class=\"wandb\"><tr><td>Epoch</td><td>▁▃▅▆█</td></tr><tr><td>training_accuracy</td><td>▁▄▅▇█</td></tr><tr><td>training_loss</td><td>█▆▄▂▁</td></tr><tr><td>validation_accuracy</td><td>▁▄▇██</td></tr><tr><td>validation_loss</td><td>█▆▃▁▅</td></tr></table><br/></div><div class=\"wandb-col\"><h3>Run summary:</h3><br/><table class=\"wandb\"><tr><td>Epoch</td><td>5</td></tr><tr><td>training_accuracy</td><td>0.61947</td></tr><tr><td>training_loss</td><td>0.23144</td></tr><tr><td>validation_accuracy</td><td>0.35049</td></tr><tr><td>validation_loss</td><td>0.62858</td></tr></table><br/></div></div>"
      ],
      "text/plain": [
       "<IPython.core.display.HTML object>"
      ]
     },
     "metadata": {},
     "output_type": "display_data"
    },
    {
     "data": {
      "text/html": [
       " View run <strong style=\"color:#cdcd00\">ATT_YES_EP_5_CELL_LSTM_EMB_32_ENC_2_DEC_3_FC_512_DRP_0.2_BS_128_BIDIREC_NO</strong> at: <a href='https://wandb.ai/cs24m015-indian-institute-of-technology-madras/Debasmita-DA6401-Assignment-3/runs/kaz2beqn' target=\"_blank\">https://wandb.ai/cs24m015-indian-institute-of-technology-madras/Debasmita-DA6401-Assignment-3/runs/kaz2beqn</a><br> View project at: <a href='https://wandb.ai/cs24m015-indian-institute-of-technology-madras/Debasmita-DA6401-Assignment-3' target=\"_blank\">https://wandb.ai/cs24m015-indian-institute-of-technology-madras/Debasmita-DA6401-Assignment-3</a><br>Synced 5 W&B file(s), 0 media file(s), 0 artifact file(s) and 0 other file(s)"
      ],
      "text/plain": [
       "<IPython.core.display.HTML object>"
      ]
     },
     "metadata": {},
     "output_type": "display_data"
    },
    {
     "data": {
      "text/html": [
       "Find logs at: <code>./wandb/run-20250516_210716-kaz2beqn/logs</code>"
      ],
      "text/plain": [
       "<IPython.core.display.HTML object>"
      ]
     },
     "metadata": {},
     "output_type": "display_data"
    },
    {
     "name": "stderr",
     "output_type": "stream",
     "text": [
      "\u001b[34m\u001b[1mwandb\u001b[0m: Sweep Agent: Waiting for job.\n",
      "\u001b[34m\u001b[1mwandb\u001b[0m: Job received.\n",
      "\u001b[34m\u001b[1mwandb\u001b[0m: Agent Starting Run: vn4glkzc with config:\n",
      "\u001b[34m\u001b[1mwandb\u001b[0m: \tbatch_size: 128\n",
      "\u001b[34m\u001b[1mwandb\u001b[0m: \tbidirectional: NO\n",
      "\u001b[34m\u001b[1mwandb\u001b[0m: \tcell_type: GRU\n",
      "\u001b[34m\u001b[1mwandb\u001b[0m: \tdecoder_layers: 2\n",
      "\u001b[34m\u001b[1mwandb\u001b[0m: \tdropout: 0.2\n",
      "\u001b[34m\u001b[1mwandb\u001b[0m: \tembedding_size: 512\n",
      "\u001b[34m\u001b[1mwandb\u001b[0m: \tencoder_layers: 3\n",
      "\u001b[34m\u001b[1mwandb\u001b[0m: \tepochs: 5\n",
      "\u001b[34m\u001b[1mwandb\u001b[0m: \tneurons_in_fc: 512\n"
     ]
    },
    {
     "data": {
      "text/html": [
       "Ignoring project 'Debasmita-DA6401-Assignment-3' when running a sweep."
      ],
      "text/plain": [
       "<IPython.core.display.HTML object>"
      ]
     },
     "metadata": {},
     "output_type": "display_data"
    },
    {
     "data": {
      "text/html": [
       "Tracking run with wandb version 0.19.9"
      ],
      "text/plain": [
       "<IPython.core.display.HTML object>"
      ]
     },
     "metadata": {},
     "output_type": "display_data"
    },
    {
     "data": {
      "text/html": [
       "Run data is saved locally in <code>/kaggle/working/wandb/run-20250516_211758-vn4glkzc</code>"
      ],
      "text/plain": [
       "<IPython.core.display.HTML object>"
      ]
     },
     "metadata": {},
     "output_type": "display_data"
    },
    {
     "data": {
      "text/html": [
       "Syncing run <strong><a href='https://wandb.ai/cs24m015-indian-institute-of-technology-madras/Debasmita-DA6401-Assignment-3/runs/vn4glkzc' target=\"_blank\">swift-sweep-10</a></strong> to <a href='https://wandb.ai/cs24m015-indian-institute-of-technology-madras/Debasmita-DA6401-Assignment-3' target=\"_blank\">Weights & Biases</a> (<a href='https://wandb.me/developer-guide' target=\"_blank\">docs</a>)<br>Sweep page: <a href='https://wandb.ai/cs24m015-indian-institute-of-technology-madras/Debasmita-DA6401-Assignment-3/sweeps/hbfj1wi7' target=\"_blank\">https://wandb.ai/cs24m015-indian-institute-of-technology-madras/Debasmita-DA6401-Assignment-3/sweeps/hbfj1wi7</a>"
      ],
      "text/plain": [
       "<IPython.core.display.HTML object>"
      ]
     },
     "metadata": {},
     "output_type": "display_data"
    },
    {
     "data": {
      "text/html": [
       " View project at <a href='https://wandb.ai/cs24m015-indian-institute-of-technology-madras/Debasmita-DA6401-Assignment-3' target=\"_blank\">https://wandb.ai/cs24m015-indian-institute-of-technology-madras/Debasmita-DA6401-Assignment-3</a>"
      ],
      "text/plain": [
       "<IPython.core.display.HTML object>"
      ]
     },
     "metadata": {},
     "output_type": "display_data"
    },
    {
     "data": {
      "text/html": [
       " View sweep at <a href='https://wandb.ai/cs24m015-indian-institute-of-technology-madras/Debasmita-DA6401-Assignment-3/sweeps/hbfj1wi7' target=\"_blank\">https://wandb.ai/cs24m015-indian-institute-of-technology-madras/Debasmita-DA6401-Assignment-3/sweeps/hbfj1wi7</a>"
      ],
      "text/plain": [
       "<IPython.core.display.HTML object>"
      ]
     },
     "metadata": {},
     "output_type": "display_data"
    },
    {
     "data": {
      "text/html": [
       " View run at <a href='https://wandb.ai/cs24m015-indian-institute-of-technology-madras/Debasmita-DA6401-Assignment-3/runs/vn4glkzc' target=\"_blank\">https://wandb.ai/cs24m015-indian-institute-of-technology-madras/Debasmita-DA6401-Assignment-3/runs/vn4glkzc</a>"
      ],
      "text/plain": [
       "<IPython.core.display.HTML object>"
      ]
     },
     "metadata": {},
     "output_type": "display_data"
    },
    {
     "name": "stdout",
     "output_type": "stream",
     "text": [
      "run name = ATT_YES_EP_5_CELL_GRU_EMB_512_ENC_3_DEC_2_FC_512_DRP_0.2_BS_128_BIDIREC_NO\n",
      "\n",
      "===================================================================================================================\n",
      "Epoch : 1\n",
      "Training Accuracy : 0.32579922192151556\n",
      "Validation Accuracy : 0.20366010273972604\n",
      "Training Loss : 0.4597987218461275\n",
      "Validation Loss : 0.7060034034186846\n",
      "\n",
      "===================================================================================================================\n",
      "Epoch : 2\n",
      "Training Accuracy : 0.5373393098782138\n",
      "Validation Accuracy : 0.2875642123287671\n",
      "Training Loss : 0.30869025770317715\n",
      "Validation Loss : 0.6868549136266316\n",
      "\n",
      "===================================================================================================================\n",
      "Epoch : 3\n",
      "Training Accuracy : 0.641671600135318\n",
      "Validation Accuracy : 0.3008347602739726\n",
      "Training Loss : 0.2404069776101106\n",
      "Validation Loss : 0.7072693036027151\n",
      "\n",
      "===================================================================================================================\n",
      "Epoch : 4\n",
      "Training Accuracy : 0.6928704330175913\n",
      "Validation Accuracy : 0.3028681506849315\n",
      "Training Loss : 0.19842885062602603\n",
      "Validation Loss : 0.7056669254009038\n",
      "\n",
      "===================================================================================================================\n",
      "Epoch : 5\n",
      "Training Accuracy : 0.7091508795669824\n",
      "Validation Accuracy : 0.2986943493150685\n",
      "Training Loss : 0.1865510298733137\n",
      "Validation Loss : 0.7324675468549336\n"
     ]
    },
    {
     "data": {
      "text/html": [],
      "text/plain": [
       "<IPython.core.display.HTML object>"
      ]
     },
     "metadata": {},
     "output_type": "display_data"
    },
    {
     "data": {
      "text/html": [
       "<br>    <style><br>        .wandb-row {<br>            display: flex;<br>            flex-direction: row;<br>            flex-wrap: wrap;<br>            justify-content: flex-start;<br>            width: 100%;<br>        }<br>        .wandb-col {<br>            display: flex;<br>            flex-direction: column;<br>            flex-basis: 100%;<br>            flex: 1;<br>            padding: 10px;<br>        }<br>    </style><br><div class=\"wandb-row\"><div class=\"wandb-col\"><h3>Run history:</h3><br/><table class=\"wandb\"><tr><td>Epoch</td><td>▁▃▅▆█</td></tr><tr><td>training_accuracy</td><td>▁▅▇██</td></tr><tr><td>training_loss</td><td>█▄▂▁▁</td></tr><tr><td>validation_accuracy</td><td>▁▇███</td></tr><tr><td>validation_loss</td><td>▄▁▄▄█</td></tr></table><br/></div><div class=\"wandb-col\"><h3>Run summary:</h3><br/><table class=\"wandb\"><tr><td>Epoch</td><td>5</td></tr><tr><td>training_accuracy</td><td>0.70915</td></tr><tr><td>training_loss</td><td>0.18655</td></tr><tr><td>validation_accuracy</td><td>0.29869</td></tr><tr><td>validation_loss</td><td>0.73247</td></tr></table><br/></div></div>"
      ],
      "text/plain": [
       "<IPython.core.display.HTML object>"
      ]
     },
     "metadata": {},
     "output_type": "display_data"
    },
    {
     "data": {
      "text/html": [
       " View run <strong style=\"color:#cdcd00\">ATT_YES_EP_5_CELL_GRU_EMB_512_ENC_3_DEC_2_FC_512_DRP_0.2_BS_128_BIDIREC_NO</strong> at: <a href='https://wandb.ai/cs24m015-indian-institute-of-technology-madras/Debasmita-DA6401-Assignment-3/runs/vn4glkzc' target=\"_blank\">https://wandb.ai/cs24m015-indian-institute-of-technology-madras/Debasmita-DA6401-Assignment-3/runs/vn4glkzc</a><br> View project at: <a href='https://wandb.ai/cs24m015-indian-institute-of-technology-madras/Debasmita-DA6401-Assignment-3' target=\"_blank\">https://wandb.ai/cs24m015-indian-institute-of-technology-madras/Debasmita-DA6401-Assignment-3</a><br>Synced 5 W&B file(s), 0 media file(s), 0 artifact file(s) and 0 other file(s)"
      ],
      "text/plain": [
       "<IPython.core.display.HTML object>"
      ]
     },
     "metadata": {},
     "output_type": "display_data"
    },
    {
     "data": {
      "text/html": [
       "Find logs at: <code>./wandb/run-20250516_211758-vn4glkzc/logs</code>"
      ],
      "text/plain": [
       "<IPython.core.display.HTML object>"
      ]
     },
     "metadata": {},
     "output_type": "display_data"
    },
    {
     "name": "stderr",
     "output_type": "stream",
     "text": [
      "\u001b[34m\u001b[1mwandb\u001b[0m: Agent Starting Run: g78lhwgj with config:\n",
      "\u001b[34m\u001b[1mwandb\u001b[0m: \tbatch_size: 128\n",
      "\u001b[34m\u001b[1mwandb\u001b[0m: \tbidirectional: NO\n",
      "\u001b[34m\u001b[1mwandb\u001b[0m: \tcell_type: RNN\n",
      "\u001b[34m\u001b[1mwandb\u001b[0m: \tdecoder_layers: 3\n",
      "\u001b[34m\u001b[1mwandb\u001b[0m: \tdropout: 0\n",
      "\u001b[34m\u001b[1mwandb\u001b[0m: \tembedding_size: 512\n",
      "\u001b[34m\u001b[1mwandb\u001b[0m: \tencoder_layers: 2\n",
      "\u001b[34m\u001b[1mwandb\u001b[0m: \tepochs: 10\n",
      "\u001b[34m\u001b[1mwandb\u001b[0m: \tneurons_in_fc: 512\n"
     ]
    },
    {
     "data": {
      "text/html": [
       "Ignoring project 'Debasmita-DA6401-Assignment-3' when running a sweep."
      ],
      "text/plain": [
       "<IPython.core.display.HTML object>"
      ]
     },
     "metadata": {},
     "output_type": "display_data"
    },
    {
     "data": {
      "text/html": [
       "Tracking run with wandb version 0.19.9"
      ],
      "text/plain": [
       "<IPython.core.display.HTML object>"
      ]
     },
     "metadata": {},
     "output_type": "display_data"
    },
    {
     "data": {
      "text/html": [
       "Run data is saved locally in <code>/kaggle/working/wandb/run-20250516_212832-g78lhwgj</code>"
      ],
      "text/plain": [
       "<IPython.core.display.HTML object>"
      ]
     },
     "metadata": {},
     "output_type": "display_data"
    },
    {
     "data": {
      "text/html": [
       "Syncing run <strong><a href='https://wandb.ai/cs24m015-indian-institute-of-technology-madras/Debasmita-DA6401-Assignment-3/runs/g78lhwgj' target=\"_blank\">splendid-sweep-11</a></strong> to <a href='https://wandb.ai/cs24m015-indian-institute-of-technology-madras/Debasmita-DA6401-Assignment-3' target=\"_blank\">Weights & Biases</a> (<a href='https://wandb.me/developer-guide' target=\"_blank\">docs</a>)<br>Sweep page: <a href='https://wandb.ai/cs24m015-indian-institute-of-technology-madras/Debasmita-DA6401-Assignment-3/sweeps/hbfj1wi7' target=\"_blank\">https://wandb.ai/cs24m015-indian-institute-of-technology-madras/Debasmita-DA6401-Assignment-3/sweeps/hbfj1wi7</a>"
      ],
      "text/plain": [
       "<IPython.core.display.HTML object>"
      ]
     },
     "metadata": {},
     "output_type": "display_data"
    },
    {
     "data": {
      "text/html": [
       " View project at <a href='https://wandb.ai/cs24m015-indian-institute-of-technology-madras/Debasmita-DA6401-Assignment-3' target=\"_blank\">https://wandb.ai/cs24m015-indian-institute-of-technology-madras/Debasmita-DA6401-Assignment-3</a>"
      ],
      "text/plain": [
       "<IPython.core.display.HTML object>"
      ]
     },
     "metadata": {},
     "output_type": "display_data"
    },
    {
     "data": {
      "text/html": [
       " View sweep at <a href='https://wandb.ai/cs24m015-indian-institute-of-technology-madras/Debasmita-DA6401-Assignment-3/sweeps/hbfj1wi7' target=\"_blank\">https://wandb.ai/cs24m015-indian-institute-of-technology-madras/Debasmita-DA6401-Assignment-3/sweeps/hbfj1wi7</a>"
      ],
      "text/plain": [
       "<IPython.core.display.HTML object>"
      ]
     },
     "metadata": {},
     "output_type": "display_data"
    },
    {
     "data": {
      "text/html": [
       " View run at <a href='https://wandb.ai/cs24m015-indian-institute-of-technology-madras/Debasmita-DA6401-Assignment-3/runs/g78lhwgj' target=\"_blank\">https://wandb.ai/cs24m015-indian-institute-of-technology-madras/Debasmita-DA6401-Assignment-3/runs/g78lhwgj</a>"
      ],
      "text/plain": [
       "<IPython.core.display.HTML object>"
      ]
     },
     "metadata": {},
     "output_type": "display_data"
    },
    {
     "name": "stdout",
     "output_type": "stream",
     "text": [
      "run name = ATT_YES_EP_10_CELL_RNN_EMB_512_ENC_2_DEC_3_FC_512_DRP_0_BS_128_BIDIREC_NO\n",
      "\n",
      "===================================================================================================================\n",
      "Epoch : 1\n",
      "Training Accuracy : 0.07309286197564276\n",
      "Validation Accuracy : 0.0722388698630137\n",
      "Training Loss : 0.7050274954113167\n",
      "Validation Loss : 0.8516899910691667\n",
      "\n",
      "===================================================================================================================\n",
      "Epoch : 2\n",
      "Training Accuracy : 0.11013616373477672\n",
      "Validation Accuracy : 0.0976027397260274\n",
      "Training Loss : 0.6663426777829337\n",
      "Validation Loss : 0.8132968757250537\n",
      "\n",
      "===================================================================================================================\n",
      "Epoch : 3\n",
      "Training Accuracy : 0.12599374154262516\n",
      "Validation Accuracy : 0.11290667808219178\n",
      "Training Loss : 0.645934814529264\n",
      "Validation Loss : 0.8167497687143822\n",
      "\n",
      "===================================================================================================================\n",
      "Epoch : 4\n",
      "Training Accuracy : 0.15091128213802435\n",
      "Validation Accuracy : 0.12146832191780822\n",
      "Training Loss : 0.6078379588133589\n",
      "Validation Loss : 0.7701184892491119\n",
      "\n",
      "===================================================================================================================\n",
      "Epoch : 5\n",
      "Training Accuracy : 0.13187161705006767\n",
      "Validation Accuracy : 0.11815068493150685\n",
      "Training Loss : 0.6390854074280704\n",
      "Validation Loss : 0.7879700660705566\n",
      "\n",
      "===================================================================================================================\n",
      "Epoch : 6\n",
      "Training Accuracy : 0.15376564614343707\n",
      "Validation Accuracy : 0.1192208904109589\n",
      "Training Loss : 0.6195951077950985\n",
      "Validation Loss : 0.7873402572657964\n",
      "\n",
      "===================================================================================================================\n",
      "Epoch : 7\n",
      "Training Accuracy : 0.16418936062246278\n",
      "Validation Accuracy : 0.13527397260273974\n",
      "Training Loss : 0.6034488840903255\n",
      "Validation Loss : 0.7865546190575378\n",
      "\n",
      "===================================================================================================================\n",
      "Epoch : 8\n",
      "Training Accuracy : 0.16079583897158323\n",
      "Validation Accuracy : 0.12221746575342465\n",
      "Training Loss : 0.6081091085693349\n",
      "Validation Loss : 0.7807257244848225\n",
      "\n",
      "===================================================================================================================\n",
      "Epoch : 9\n",
      "Training Accuracy : 0.17281588294993233\n",
      "Validation Accuracy : 0.1429794520547945\n",
      "Training Loss : 0.5901158482683205\n",
      "Validation Loss : 0.781520619784316\n",
      "\n",
      "===================================================================================================================\n",
      "Epoch : 10\n",
      "Training Accuracy : 0.17852461096075778\n",
      "Validation Accuracy : 0.14907962328767124\n",
      "Training Loss : 0.583690784095266\n",
      "Validation Loss : 0.744934765035159\n"
     ]
    },
    {
     "data": {
      "text/html": [],
      "text/plain": [
       "<IPython.core.display.HTML object>"
      ]
     },
     "metadata": {},
     "output_type": "display_data"
    },
    {
     "data": {
      "text/html": [
       "<br>    <style><br>        .wandb-row {<br>            display: flex;<br>            flex-direction: row;<br>            flex-wrap: wrap;<br>            justify-content: flex-start;<br>            width: 100%;<br>        }<br>        .wandb-col {<br>            display: flex;<br>            flex-direction: column;<br>            flex-basis: 100%;<br>            flex: 1;<br>            padding: 10px;<br>        }<br>    </style><br><div class=\"wandb-row\"><div class=\"wandb-col\"><h3>Run history:</h3><br/><table class=\"wandb\"><tr><td>Epoch</td><td>▁▂▃▃▄▅▆▆▇█</td></tr><tr><td>training_accuracy</td><td>▁▃▅▆▅▆▇▇██</td></tr><tr><td>training_loss</td><td>█▆▅▂▄▃▂▂▁▁</td></tr><tr><td>validation_accuracy</td><td>▁▃▅▅▅▅▇▆▇█</td></tr><tr><td>validation_loss</td><td>█▅▆▃▄▄▄▃▃▁</td></tr></table><br/></div><div class=\"wandb-col\"><h3>Run summary:</h3><br/><table class=\"wandb\"><tr><td>Epoch</td><td>10</td></tr><tr><td>training_accuracy</td><td>0.17852</td></tr><tr><td>training_loss</td><td>0.58369</td></tr><tr><td>validation_accuracy</td><td>0.14908</td></tr><tr><td>validation_loss</td><td>0.74493</td></tr></table><br/></div></div>"
      ],
      "text/plain": [
       "<IPython.core.display.HTML object>"
      ]
     },
     "metadata": {},
     "output_type": "display_data"
    },
    {
     "data": {
      "text/html": [
       " View run <strong style=\"color:#cdcd00\">ATT_YES_EP_10_CELL_RNN_EMB_512_ENC_2_DEC_3_FC_512_DRP_0_BS_128_BIDIREC_NO</strong> at: <a href='https://wandb.ai/cs24m015-indian-institute-of-technology-madras/Debasmita-DA6401-Assignment-3/runs/g78lhwgj' target=\"_blank\">https://wandb.ai/cs24m015-indian-institute-of-technology-madras/Debasmita-DA6401-Assignment-3/runs/g78lhwgj</a><br> View project at: <a href='https://wandb.ai/cs24m015-indian-institute-of-technology-madras/Debasmita-DA6401-Assignment-3' target=\"_blank\">https://wandb.ai/cs24m015-indian-institute-of-technology-madras/Debasmita-DA6401-Assignment-3</a><br>Synced 5 W&B file(s), 0 media file(s), 0 artifact file(s) and 0 other file(s)"
      ],
      "text/plain": [
       "<IPython.core.display.HTML object>"
      ]
     },
     "metadata": {},
     "output_type": "display_data"
    },
    {
     "data": {
      "text/html": [
       "Find logs at: <code>./wandb/run-20250516_212832-g78lhwgj/logs</code>"
      ],
      "text/plain": [
       "<IPython.core.display.HTML object>"
      ]
     },
     "metadata": {},
     "output_type": "display_data"
    },
    {
     "name": "stderr",
     "output_type": "stream",
     "text": [
      "\u001b[34m\u001b[1mwandb\u001b[0m: Sweep Agent: Waiting for job.\n",
      "\u001b[34m\u001b[1mwandb\u001b[0m: Job received.\n",
      "\u001b[34m\u001b[1mwandb\u001b[0m: Agent Starting Run: j5b2g9lm with config:\n",
      "\u001b[34m\u001b[1mwandb\u001b[0m: \tbatch_size: 128\n",
      "\u001b[34m\u001b[1mwandb\u001b[0m: \tbidirectional: NO\n",
      "\u001b[34m\u001b[1mwandb\u001b[0m: \tcell_type: LSTM\n",
      "\u001b[34m\u001b[1mwandb\u001b[0m: \tdecoder_layers: 3\n",
      "\u001b[34m\u001b[1mwandb\u001b[0m: \tdropout: 0.4\n",
      "\u001b[34m\u001b[1mwandb\u001b[0m: \tembedding_size: 128\n",
      "\u001b[34m\u001b[1mwandb\u001b[0m: \tencoder_layers: 3\n",
      "\u001b[34m\u001b[1mwandb\u001b[0m: \tepochs: 5\n",
      "\u001b[34m\u001b[1mwandb\u001b[0m: \tneurons_in_fc: 256\n"
     ]
    },
    {
     "data": {
      "text/html": [
       "Ignoring project 'Debasmita-DA6401-Assignment-3' when running a sweep."
      ],
      "text/plain": [
       "<IPython.core.display.HTML object>"
      ]
     },
     "metadata": {},
     "output_type": "display_data"
    },
    {
     "data": {
      "text/html": [
       "Tracking run with wandb version 0.19.9"
      ],
      "text/plain": [
       "<IPython.core.display.HTML object>"
      ]
     },
     "metadata": {},
     "output_type": "display_data"
    },
    {
     "data": {
      "text/html": [
       "Run data is saved locally in <code>/kaggle/working/wandb/run-20250516_214055-j5b2g9lm</code>"
      ],
      "text/plain": [
       "<IPython.core.display.HTML object>"
      ]
     },
     "metadata": {},
     "output_type": "display_data"
    },
    {
     "data": {
      "text/html": [
       "Syncing run <strong><a href='https://wandb.ai/cs24m015-indian-institute-of-technology-madras/Debasmita-DA6401-Assignment-3/runs/j5b2g9lm' target=\"_blank\">fluent-sweep-12</a></strong> to <a href='https://wandb.ai/cs24m015-indian-institute-of-technology-madras/Debasmita-DA6401-Assignment-3' target=\"_blank\">Weights & Biases</a> (<a href='https://wandb.me/developer-guide' target=\"_blank\">docs</a>)<br>Sweep page: <a href='https://wandb.ai/cs24m015-indian-institute-of-technology-madras/Debasmita-DA6401-Assignment-3/sweeps/hbfj1wi7' target=\"_blank\">https://wandb.ai/cs24m015-indian-institute-of-technology-madras/Debasmita-DA6401-Assignment-3/sweeps/hbfj1wi7</a>"
      ],
      "text/plain": [
       "<IPython.core.display.HTML object>"
      ]
     },
     "metadata": {},
     "output_type": "display_data"
    },
    {
     "data": {
      "text/html": [
       " View project at <a href='https://wandb.ai/cs24m015-indian-institute-of-technology-madras/Debasmita-DA6401-Assignment-3' target=\"_blank\">https://wandb.ai/cs24m015-indian-institute-of-technology-madras/Debasmita-DA6401-Assignment-3</a>"
      ],
      "text/plain": [
       "<IPython.core.display.HTML object>"
      ]
     },
     "metadata": {},
     "output_type": "display_data"
    },
    {
     "data": {
      "text/html": [
       " View sweep at <a href='https://wandb.ai/cs24m015-indian-institute-of-technology-madras/Debasmita-DA6401-Assignment-3/sweeps/hbfj1wi7' target=\"_blank\">https://wandb.ai/cs24m015-indian-institute-of-technology-madras/Debasmita-DA6401-Assignment-3/sweeps/hbfj1wi7</a>"
      ],
      "text/plain": [
       "<IPython.core.display.HTML object>"
      ]
     },
     "metadata": {},
     "output_type": "display_data"
    },
    {
     "data": {
      "text/html": [
       " View run at <a href='https://wandb.ai/cs24m015-indian-institute-of-technology-madras/Debasmita-DA6401-Assignment-3/runs/j5b2g9lm' target=\"_blank\">https://wandb.ai/cs24m015-indian-institute-of-technology-madras/Debasmita-DA6401-Assignment-3/runs/j5b2g9lm</a>"
      ],
      "text/plain": [
       "<IPython.core.display.HTML object>"
      ]
     },
     "metadata": {},
     "output_type": "display_data"
    },
    {
     "name": "stdout",
     "output_type": "stream",
     "text": [
      "run name = ATT_YES_EP_5_CELL_LSTM_EMB_128_ENC_3_DEC_3_FC_256_DRP_0.4_BS_128_BIDIREC_NO\n",
      "\n",
      "===================================================================================================================\n",
      "Epoch : 1\n",
      "Training Accuracy : 0.16381935047361298\n",
      "Validation Accuracy : 0.13762842465753425\n",
      "Training Loss : 0.5566058949704744\n",
      "Validation Loss : 0.7237140666948606\n",
      "\n",
      "===================================================================================================================\n",
      "Epoch : 2\n",
      "Training Accuracy : 0.29005624154262516\n",
      "Validation Accuracy : 0.22773972602739725\n",
      "Training Loss : 0.468933242019039\n",
      "Validation Loss : 0.6550675585661849\n",
      "\n",
      "===================================================================================================================\n",
      "Epoch : 3\n",
      "Training Accuracy : 0.37642718200270636\n",
      "Validation Accuracy : 0.293771404109589\n",
      "Training Loss : 0.40299063041826383\n",
      "Validation Loss : 0.5996419550621346\n",
      "\n",
      "===================================================================================================================\n",
      "Epoch : 4\n",
      "Training Accuracy : 0.437743149526387\n",
      "Validation Accuracy : 0.3181720890410959\n",
      "Training Loss : 0.379126479766043\n",
      "Validation Loss : 0.6183846017269239\n",
      "\n",
      "===================================================================================================================\n",
      "Epoch : 5\n",
      "Training Accuracy : 0.49060174221921515\n",
      "Validation Accuracy : 0.3499571917808219\n",
      "Training Loss : 0.32881503401976964\n",
      "Validation Loss : 0.5904065944152336\n"
     ]
    },
    {
     "data": {
      "text/html": [],
      "text/plain": [
       "<IPython.core.display.HTML object>"
      ]
     },
     "metadata": {},
     "output_type": "display_data"
    },
    {
     "data": {
      "text/html": [
       "<br>    <style><br>        .wandb-row {<br>            display: flex;<br>            flex-direction: row;<br>            flex-wrap: wrap;<br>            justify-content: flex-start;<br>            width: 100%;<br>        }<br>        .wandb-col {<br>            display: flex;<br>            flex-direction: column;<br>            flex-basis: 100%;<br>            flex: 1;<br>            padding: 10px;<br>        }<br>    </style><br><div class=\"wandb-row\"><div class=\"wandb-col\"><h3>Run history:</h3><br/><table class=\"wandb\"><tr><td>Epoch</td><td>▁▃▅▆█</td></tr><tr><td>training_accuracy</td><td>▁▄▆▇█</td></tr><tr><td>training_loss</td><td>█▅▃▃▁</td></tr><tr><td>validation_accuracy</td><td>▁▄▆▇█</td></tr><tr><td>validation_loss</td><td>█▄▁▂▁</td></tr></table><br/></div><div class=\"wandb-col\"><h3>Run summary:</h3><br/><table class=\"wandb\"><tr><td>Epoch</td><td>5</td></tr><tr><td>training_accuracy</td><td>0.4906</td></tr><tr><td>training_loss</td><td>0.32882</td></tr><tr><td>validation_accuracy</td><td>0.34996</td></tr><tr><td>validation_loss</td><td>0.59041</td></tr></table><br/></div></div>"
      ],
      "text/plain": [
       "<IPython.core.display.HTML object>"
      ]
     },
     "metadata": {},
     "output_type": "display_data"
    },
    {
     "data": {
      "text/html": [
       " View run <strong style=\"color:#cdcd00\">ATT_YES_EP_5_CELL_LSTM_EMB_128_ENC_3_DEC_3_FC_256_DRP_0.4_BS_128_BIDIREC_NO</strong> at: <a href='https://wandb.ai/cs24m015-indian-institute-of-technology-madras/Debasmita-DA6401-Assignment-3/runs/j5b2g9lm' target=\"_blank\">https://wandb.ai/cs24m015-indian-institute-of-technology-madras/Debasmita-DA6401-Assignment-3/runs/j5b2g9lm</a><br> View project at: <a href='https://wandb.ai/cs24m015-indian-institute-of-technology-madras/Debasmita-DA6401-Assignment-3' target=\"_blank\">https://wandb.ai/cs24m015-indian-institute-of-technology-madras/Debasmita-DA6401-Assignment-3</a><br>Synced 5 W&B file(s), 0 media file(s), 0 artifact file(s) and 0 other file(s)"
      ],
      "text/plain": [
       "<IPython.core.display.HTML object>"
      ]
     },
     "metadata": {},
     "output_type": "display_data"
    },
    {
     "data": {
      "text/html": [
       "Find logs at: <code>./wandb/run-20250516_214055-j5b2g9lm/logs</code>"
      ],
      "text/plain": [
       "<IPython.core.display.HTML object>"
      ]
     },
     "metadata": {},
     "output_type": "display_data"
    },
    {
     "name": "stderr",
     "output_type": "stream",
     "text": [
      "\u001b[34m\u001b[1mwandb\u001b[0m: Sweep Agent: Waiting for job.\n",
      "\u001b[34m\u001b[1mwandb\u001b[0m: Job received.\n",
      "\u001b[34m\u001b[1mwandb\u001b[0m: Agent Starting Run: 4gth46m3 with config:\n",
      "\u001b[34m\u001b[1mwandb\u001b[0m: \tbatch_size: 128\n",
      "\u001b[34m\u001b[1mwandb\u001b[0m: \tbidirectional: NO\n",
      "\u001b[34m\u001b[1mwandb\u001b[0m: \tcell_type: GRU\n",
      "\u001b[34m\u001b[1mwandb\u001b[0m: \tdecoder_layers: 3\n",
      "\u001b[34m\u001b[1mwandb\u001b[0m: \tdropout: 0.2\n",
      "\u001b[34m\u001b[1mwandb\u001b[0m: \tembedding_size: 64\n",
      "\u001b[34m\u001b[1mwandb\u001b[0m: \tencoder_layers: 3\n",
      "\u001b[34m\u001b[1mwandb\u001b[0m: \tepochs: 5\n",
      "\u001b[34m\u001b[1mwandb\u001b[0m: \tneurons_in_fc: 128\n"
     ]
    },
    {
     "data": {
      "text/html": [
       "Ignoring project 'Debasmita-DA6401-Assignment-3' when running a sweep."
      ],
      "text/plain": [
       "<IPython.core.display.HTML object>"
      ]
     },
     "metadata": {},
     "output_type": "display_data"
    },
    {
     "data": {
      "text/html": [
       "Tracking run with wandb version 0.19.9"
      ],
      "text/plain": [
       "<IPython.core.display.HTML object>"
      ]
     },
     "metadata": {},
     "output_type": "display_data"
    },
    {
     "data": {
      "text/html": [
       "Run data is saved locally in <code>/kaggle/working/wandb/run-20250516_214725-4gth46m3</code>"
      ],
      "text/plain": [
       "<IPython.core.display.HTML object>"
      ]
     },
     "metadata": {},
     "output_type": "display_data"
    },
    {
     "data": {
      "text/html": [
       "Syncing run <strong><a href='https://wandb.ai/cs24m015-indian-institute-of-technology-madras/Debasmita-DA6401-Assignment-3/runs/4gth46m3' target=\"_blank\">fiery-sweep-13</a></strong> to <a href='https://wandb.ai/cs24m015-indian-institute-of-technology-madras/Debasmita-DA6401-Assignment-3' target=\"_blank\">Weights & Biases</a> (<a href='https://wandb.me/developer-guide' target=\"_blank\">docs</a>)<br>Sweep page: <a href='https://wandb.ai/cs24m015-indian-institute-of-technology-madras/Debasmita-DA6401-Assignment-3/sweeps/hbfj1wi7' target=\"_blank\">https://wandb.ai/cs24m015-indian-institute-of-technology-madras/Debasmita-DA6401-Assignment-3/sweeps/hbfj1wi7</a>"
      ],
      "text/plain": [
       "<IPython.core.display.HTML object>"
      ]
     },
     "metadata": {},
     "output_type": "display_data"
    },
    {
     "data": {
      "text/html": [
       " View project at <a href='https://wandb.ai/cs24m015-indian-institute-of-technology-madras/Debasmita-DA6401-Assignment-3' target=\"_blank\">https://wandb.ai/cs24m015-indian-institute-of-technology-madras/Debasmita-DA6401-Assignment-3</a>"
      ],
      "text/plain": [
       "<IPython.core.display.HTML object>"
      ]
     },
     "metadata": {},
     "output_type": "display_data"
    },
    {
     "data": {
      "text/html": [
       " View sweep at <a href='https://wandb.ai/cs24m015-indian-institute-of-technology-madras/Debasmita-DA6401-Assignment-3/sweeps/hbfj1wi7' target=\"_blank\">https://wandb.ai/cs24m015-indian-institute-of-technology-madras/Debasmita-DA6401-Assignment-3/sweeps/hbfj1wi7</a>"
      ],
      "text/plain": [
       "<IPython.core.display.HTML object>"
      ]
     },
     "metadata": {},
     "output_type": "display_data"
    },
    {
     "data": {
      "text/html": [
       " View run at <a href='https://wandb.ai/cs24m015-indian-institute-of-technology-madras/Debasmita-DA6401-Assignment-3/runs/4gth46m3' target=\"_blank\">https://wandb.ai/cs24m015-indian-institute-of-technology-madras/Debasmita-DA6401-Assignment-3/runs/4gth46m3</a>"
      ],
      "text/plain": [
       "<IPython.core.display.HTML object>"
      ]
     },
     "metadata": {},
     "output_type": "display_data"
    },
    {
     "name": "stdout",
     "output_type": "stream",
     "text": [
      "run name = ATT_YES_EP_5_CELL_GRU_EMB_64_ENC_3_DEC_3_FC_128_DRP_0.2_BS_128_BIDIREC_NO\n",
      "\n",
      "===================================================================================================================\n",
      "Epoch : 1\n",
      "Training Accuracy : 0.138288650202977\n",
      "Validation Accuracy : 0.10851883561643835\n",
      "Training Loss : 0.5705527993113165\n",
      "Validation Loss : 0.7535588455526796\n",
      "\n",
      "===================================================================================================================\n",
      "Epoch : 2\n",
      "Training Accuracy : 0.2520720568335589\n",
      "Validation Accuracy : 0.22131849315068494\n",
      "Training Loss : 0.49071747463836723\n",
      "Validation Loss : 0.645120669309407\n",
      "\n",
      "===================================================================================================================\n",
      "Epoch : 3\n",
      "Training Accuracy : 0.334161451285521\n",
      "Validation Accuracy : 0.2736515410958904\n",
      "Training Loss : 0.43906614099690977\n",
      "Validation Loss : 0.6119634700964575\n",
      "\n",
      "===================================================================================================================\n",
      "Epoch : 4\n",
      "Training Accuracy : 0.3856140054127199\n",
      "Validation Accuracy : 0.2990154109589041\n",
      "Training Loss : 0.39379139665983043\n",
      "Validation Loss : 0.587410085821805\n",
      "\n",
      "===================================================================================================================\n",
      "Epoch : 5\n",
      "Training Accuracy : 0.4234184709066306\n",
      "Validation Accuracy : 0.3108946917808219\n",
      "Training Loss : 0.36916415417549253\n",
      "Validation Loss : 0.5986038670964438\n"
     ]
    },
    {
     "data": {
      "text/html": [],
      "text/plain": [
       "<IPython.core.display.HTML object>"
      ]
     },
     "metadata": {},
     "output_type": "display_data"
    },
    {
     "data": {
      "text/html": [
       "<br>    <style><br>        .wandb-row {<br>            display: flex;<br>            flex-direction: row;<br>            flex-wrap: wrap;<br>            justify-content: flex-start;<br>            width: 100%;<br>        }<br>        .wandb-col {<br>            display: flex;<br>            flex-direction: column;<br>            flex-basis: 100%;<br>            flex: 1;<br>            padding: 10px;<br>        }<br>    </style><br><div class=\"wandb-row\"><div class=\"wandb-col\"><h3>Run history:</h3><br/><table class=\"wandb\"><tr><td>Epoch</td><td>▁▃▅▆█</td></tr><tr><td>training_accuracy</td><td>▁▄▆▇█</td></tr><tr><td>training_loss</td><td>█▅▃▂▁</td></tr><tr><td>validation_accuracy</td><td>▁▅▇██</td></tr><tr><td>validation_loss</td><td>█▃▂▁▁</td></tr></table><br/></div><div class=\"wandb-col\"><h3>Run summary:</h3><br/><table class=\"wandb\"><tr><td>Epoch</td><td>5</td></tr><tr><td>training_accuracy</td><td>0.42342</td></tr><tr><td>training_loss</td><td>0.36916</td></tr><tr><td>validation_accuracy</td><td>0.31089</td></tr><tr><td>validation_loss</td><td>0.5986</td></tr></table><br/></div></div>"
      ],
      "text/plain": [
       "<IPython.core.display.HTML object>"
      ]
     },
     "metadata": {},
     "output_type": "display_data"
    },
    {
     "data": {
      "text/html": [
       " View run <strong style=\"color:#cdcd00\">ATT_YES_EP_5_CELL_GRU_EMB_64_ENC_3_DEC_3_FC_128_DRP_0.2_BS_128_BIDIREC_NO</strong> at: <a href='https://wandb.ai/cs24m015-indian-institute-of-technology-madras/Debasmita-DA6401-Assignment-3/runs/4gth46m3' target=\"_blank\">https://wandb.ai/cs24m015-indian-institute-of-technology-madras/Debasmita-DA6401-Assignment-3/runs/4gth46m3</a><br> View project at: <a href='https://wandb.ai/cs24m015-indian-institute-of-technology-madras/Debasmita-DA6401-Assignment-3' target=\"_blank\">https://wandb.ai/cs24m015-indian-institute-of-technology-madras/Debasmita-DA6401-Assignment-3</a><br>Synced 5 W&B file(s), 0 media file(s), 0 artifact file(s) and 0 other file(s)"
      ],
      "text/plain": [
       "<IPython.core.display.HTML object>"
      ]
     },
     "metadata": {},
     "output_type": "display_data"
    },
    {
     "data": {
      "text/html": [
       "Find logs at: <code>./wandb/run-20250516_214725-4gth46m3/logs</code>"
      ],
      "text/plain": [
       "<IPython.core.display.HTML object>"
      ]
     },
     "metadata": {},
     "output_type": "display_data"
    },
    {
     "name": "stderr",
     "output_type": "stream",
     "text": [
      "\u001b[34m\u001b[1mwandb\u001b[0m: Agent Starting Run: ptyhw5js with config:\n",
      "\u001b[34m\u001b[1mwandb\u001b[0m: \tbatch_size: 128\n",
      "\u001b[34m\u001b[1mwandb\u001b[0m: \tbidirectional: NO\n",
      "\u001b[34m\u001b[1mwandb\u001b[0m: \tcell_type: LSTM\n",
      "\u001b[34m\u001b[1mwandb\u001b[0m: \tdecoder_layers: 3\n",
      "\u001b[34m\u001b[1mwandb\u001b[0m: \tdropout: 0.4\n",
      "\u001b[34m\u001b[1mwandb\u001b[0m: \tembedding_size: 128\n",
      "\u001b[34m\u001b[1mwandb\u001b[0m: \tencoder_layers: 3\n",
      "\u001b[34m\u001b[1mwandb\u001b[0m: \tepochs: 5\n",
      "\u001b[34m\u001b[1mwandb\u001b[0m: \tneurons_in_fc: 512\n"
     ]
    },
    {
     "data": {
      "text/html": [
       "Ignoring project 'Debasmita-DA6401-Assignment-3' when running a sweep."
      ],
      "text/plain": [
       "<IPython.core.display.HTML object>"
      ]
     },
     "metadata": {},
     "output_type": "display_data"
    },
    {
     "data": {
      "text/html": [
       "Tracking run with wandb version 0.19.9"
      ],
      "text/plain": [
       "<IPython.core.display.HTML object>"
      ]
     },
     "metadata": {},
     "output_type": "display_data"
    },
    {
     "data": {
      "text/html": [
       "Run data is saved locally in <code>/kaggle/working/wandb/run-20250516_215324-ptyhw5js</code>"
      ],
      "text/plain": [
       "<IPython.core.display.HTML object>"
      ]
     },
     "metadata": {},
     "output_type": "display_data"
    },
    {
     "data": {
      "text/html": [
       "Syncing run <strong><a href='https://wandb.ai/cs24m015-indian-institute-of-technology-madras/Debasmita-DA6401-Assignment-3/runs/ptyhw5js' target=\"_blank\">zesty-sweep-14</a></strong> to <a href='https://wandb.ai/cs24m015-indian-institute-of-technology-madras/Debasmita-DA6401-Assignment-3' target=\"_blank\">Weights & Biases</a> (<a href='https://wandb.me/developer-guide' target=\"_blank\">docs</a>)<br>Sweep page: <a href='https://wandb.ai/cs24m015-indian-institute-of-technology-madras/Debasmita-DA6401-Assignment-3/sweeps/hbfj1wi7' target=\"_blank\">https://wandb.ai/cs24m015-indian-institute-of-technology-madras/Debasmita-DA6401-Assignment-3/sweeps/hbfj1wi7</a>"
      ],
      "text/plain": [
       "<IPython.core.display.HTML object>"
      ]
     },
     "metadata": {},
     "output_type": "display_data"
    },
    {
     "data": {
      "text/html": [
       " View project at <a href='https://wandb.ai/cs24m015-indian-institute-of-technology-madras/Debasmita-DA6401-Assignment-3' target=\"_blank\">https://wandb.ai/cs24m015-indian-institute-of-technology-madras/Debasmita-DA6401-Assignment-3</a>"
      ],
      "text/plain": [
       "<IPython.core.display.HTML object>"
      ]
     },
     "metadata": {},
     "output_type": "display_data"
    },
    {
     "data": {
      "text/html": [
       " View sweep at <a href='https://wandb.ai/cs24m015-indian-institute-of-technology-madras/Debasmita-DA6401-Assignment-3/sweeps/hbfj1wi7' target=\"_blank\">https://wandb.ai/cs24m015-indian-institute-of-technology-madras/Debasmita-DA6401-Assignment-3/sweeps/hbfj1wi7</a>"
      ],
      "text/plain": [
       "<IPython.core.display.HTML object>"
      ]
     },
     "metadata": {},
     "output_type": "display_data"
    },
    {
     "data": {
      "text/html": [
       " View run at <a href='https://wandb.ai/cs24m015-indian-institute-of-technology-madras/Debasmita-DA6401-Assignment-3/runs/ptyhw5js' target=\"_blank\">https://wandb.ai/cs24m015-indian-institute-of-technology-madras/Debasmita-DA6401-Assignment-3/runs/ptyhw5js</a>"
      ],
      "text/plain": [
       "<IPython.core.display.HTML object>"
      ]
     },
     "metadata": {},
     "output_type": "display_data"
    },
    {
     "name": "stdout",
     "output_type": "stream",
     "text": [
      "run name = ATT_YES_EP_5_CELL_LSTM_EMB_128_ENC_3_DEC_3_FC_512_DRP_0.4_BS_128_BIDIREC_NO\n",
      "\n",
      "===================================================================================================================\n",
      "Epoch : 1\n",
      "Training Accuracy : 0.192976150202977\n",
      "Validation Accuracy : 0.1657748287671233\n",
      "Training Loss : 0.5333739525168448\n",
      "Validation Loss : 0.6691593148120462\n",
      "\n",
      "===================================================================================================================\n",
      "Epoch : 2\n",
      "Training Accuracy : 0.37234649864682\n",
      "Validation Accuracy : 0.2745077054794521\n",
      "Training Loss : 0.4244276496086456\n",
      "Validation Loss : 0.639359813030452\n",
      "\n",
      "===================================================================================================================\n",
      "Epoch : 3\n",
      "Training Accuracy : 0.4767845060893099\n",
      "Validation Accuracy : 0.3143193493150685\n",
      "Training Loss : 0.3302885270973665\n",
      "Validation Loss : 0.5824642703957754\n",
      "\n",
      "===================================================================================================================\n",
      "Epoch : 4\n",
      "Training Accuracy : 0.5483444688768606\n",
      "Validation Accuracy : 0.3306934931506849\n",
      "Training Loss : 0.30225899353804864\n",
      "Validation Loss : 0.6294890809549044\n",
      "\n",
      "===================================================================================================================\n",
      "Epoch : 5\n",
      "Training Accuracy : 0.6148300067658998\n",
      "Validation Accuracy : 0.3494220890410959\n",
      "Training Loss : 0.24146829111972906\n",
      "Validation Loss : 0.6138014238174647\n"
     ]
    },
    {
     "data": {
      "text/html": [],
      "text/plain": [
       "<IPython.core.display.HTML object>"
      ]
     },
     "metadata": {},
     "output_type": "display_data"
    },
    {
     "data": {
      "text/html": [
       "<br>    <style><br>        .wandb-row {<br>            display: flex;<br>            flex-direction: row;<br>            flex-wrap: wrap;<br>            justify-content: flex-start;<br>            width: 100%;<br>        }<br>        .wandb-col {<br>            display: flex;<br>            flex-direction: column;<br>            flex-basis: 100%;<br>            flex: 1;<br>            padding: 10px;<br>        }<br>    </style><br><div class=\"wandb-row\"><div class=\"wandb-col\"><h3>Run history:</h3><br/><table class=\"wandb\"><tr><td>Epoch</td><td>▁▃▅▆█</td></tr><tr><td>training_accuracy</td><td>▁▄▆▇█</td></tr><tr><td>training_loss</td><td>█▅▃▂▁</td></tr><tr><td>validation_accuracy</td><td>▁▅▇▇█</td></tr><tr><td>validation_loss</td><td>█▆▁▅▄</td></tr></table><br/></div><div class=\"wandb-col\"><h3>Run summary:</h3><br/><table class=\"wandb\"><tr><td>Epoch</td><td>5</td></tr><tr><td>training_accuracy</td><td>0.61483</td></tr><tr><td>training_loss</td><td>0.24147</td></tr><tr><td>validation_accuracy</td><td>0.34942</td></tr><tr><td>validation_loss</td><td>0.6138</td></tr></table><br/></div></div>"
      ],
      "text/plain": [
       "<IPython.core.display.HTML object>"
      ]
     },
     "metadata": {},
     "output_type": "display_data"
    },
    {
     "data": {
      "text/html": [
       " View run <strong style=\"color:#cdcd00\">ATT_YES_EP_5_CELL_LSTM_EMB_128_ENC_3_DEC_3_FC_512_DRP_0.4_BS_128_BIDIREC_NO</strong> at: <a href='https://wandb.ai/cs24m015-indian-institute-of-technology-madras/Debasmita-DA6401-Assignment-3/runs/ptyhw5js' target=\"_blank\">https://wandb.ai/cs24m015-indian-institute-of-technology-madras/Debasmita-DA6401-Assignment-3/runs/ptyhw5js</a><br> View project at: <a href='https://wandb.ai/cs24m015-indian-institute-of-technology-madras/Debasmita-DA6401-Assignment-3' target=\"_blank\">https://wandb.ai/cs24m015-indian-institute-of-technology-madras/Debasmita-DA6401-Assignment-3</a><br>Synced 5 W&B file(s), 0 media file(s), 0 artifact file(s) and 0 other file(s)"
      ],
      "text/plain": [
       "<IPython.core.display.HTML object>"
      ]
     },
     "metadata": {},
     "output_type": "display_data"
    },
    {
     "data": {
      "text/html": [
       "Find logs at: <code>./wandb/run-20250516_215324-ptyhw5js/logs</code>"
      ],
      "text/plain": [
       "<IPython.core.display.HTML object>"
      ]
     },
     "metadata": {},
     "output_type": "display_data"
    },
    {
     "name": "stderr",
     "output_type": "stream",
     "text": [
      "\u001b[34m\u001b[1mwandb\u001b[0m: Agent Starting Run: z57h3xoo with config:\n",
      "\u001b[34m\u001b[1mwandb\u001b[0m: \tbatch_size: 128\n",
      "\u001b[34m\u001b[1mwandb\u001b[0m: \tbidirectional: NO\n",
      "\u001b[34m\u001b[1mwandb\u001b[0m: \tcell_type: LSTM\n",
      "\u001b[34m\u001b[1mwandb\u001b[0m: \tdecoder_layers: 3\n",
      "\u001b[34m\u001b[1mwandb\u001b[0m: \tdropout: 0.4\n",
      "\u001b[34m\u001b[1mwandb\u001b[0m: \tembedding_size: 128\n",
      "\u001b[34m\u001b[1mwandb\u001b[0m: \tencoder_layers: 3\n",
      "\u001b[34m\u001b[1mwandb\u001b[0m: \tepochs: 5\n",
      "\u001b[34m\u001b[1mwandb\u001b[0m: \tneurons_in_fc: 512\n"
     ]
    },
    {
     "data": {
      "text/html": [
       "Ignoring project 'Debasmita-DA6401-Assignment-3' when running a sweep."
      ],
      "text/plain": [
       "<IPython.core.display.HTML object>"
      ]
     },
     "metadata": {},
     "output_type": "display_data"
    },
    {
     "data": {
      "text/html": [
       "Tracking run with wandb version 0.19.9"
      ],
      "text/plain": [
       "<IPython.core.display.HTML object>"
      ]
     },
     "metadata": {},
     "output_type": "display_data"
    },
    {
     "data": {
      "text/html": [
       "Run data is saved locally in <code>/kaggle/working/wandb/run-20250516_220533-z57h3xoo</code>"
      ],
      "text/plain": [
       "<IPython.core.display.HTML object>"
      ]
     },
     "metadata": {},
     "output_type": "display_data"
    },
    {
     "data": {
      "text/html": [
       "Syncing run <strong><a href='https://wandb.ai/cs24m015-indian-institute-of-technology-madras/Debasmita-DA6401-Assignment-3/runs/z57h3xoo' target=\"_blank\">dazzling-sweep-15</a></strong> to <a href='https://wandb.ai/cs24m015-indian-institute-of-technology-madras/Debasmita-DA6401-Assignment-3' target=\"_blank\">Weights & Biases</a> (<a href='https://wandb.me/developer-guide' target=\"_blank\">docs</a>)<br>Sweep page: <a href='https://wandb.ai/cs24m015-indian-institute-of-technology-madras/Debasmita-DA6401-Assignment-3/sweeps/hbfj1wi7' target=\"_blank\">https://wandb.ai/cs24m015-indian-institute-of-technology-madras/Debasmita-DA6401-Assignment-3/sweeps/hbfj1wi7</a>"
      ],
      "text/plain": [
       "<IPython.core.display.HTML object>"
      ]
     },
     "metadata": {},
     "output_type": "display_data"
    },
    {
     "data": {
      "text/html": [
       " View project at <a href='https://wandb.ai/cs24m015-indian-institute-of-technology-madras/Debasmita-DA6401-Assignment-3' target=\"_blank\">https://wandb.ai/cs24m015-indian-institute-of-technology-madras/Debasmita-DA6401-Assignment-3</a>"
      ],
      "text/plain": [
       "<IPython.core.display.HTML object>"
      ]
     },
     "metadata": {},
     "output_type": "display_data"
    },
    {
     "data": {
      "text/html": [
       " View sweep at <a href='https://wandb.ai/cs24m015-indian-institute-of-technology-madras/Debasmita-DA6401-Assignment-3/sweeps/hbfj1wi7' target=\"_blank\">https://wandb.ai/cs24m015-indian-institute-of-technology-madras/Debasmita-DA6401-Assignment-3/sweeps/hbfj1wi7</a>"
      ],
      "text/plain": [
       "<IPython.core.display.HTML object>"
      ]
     },
     "metadata": {},
     "output_type": "display_data"
    },
    {
     "data": {
      "text/html": [
       " View run at <a href='https://wandb.ai/cs24m015-indian-institute-of-technology-madras/Debasmita-DA6401-Assignment-3/runs/z57h3xoo' target=\"_blank\">https://wandb.ai/cs24m015-indian-institute-of-technology-madras/Debasmita-DA6401-Assignment-3/runs/z57h3xoo</a>"
      ],
      "text/plain": [
       "<IPython.core.display.HTML object>"
      ]
     },
     "metadata": {},
     "output_type": "display_data"
    },
    {
     "name": "stdout",
     "output_type": "stream",
     "text": [
      "run name = ATT_YES_EP_5_CELL_LSTM_EMB_128_ENC_3_DEC_3_FC_512_DRP_0.4_BS_128_BIDIREC_NO\n",
      "\n",
      "===================================================================================================================\n",
      "Epoch : 1\n",
      "Training Accuracy : 0.003488667117726658\n",
      "Validation Accuracy : 0.0014982876712328766\n",
      "Training Loss : 0.9586262055275727\n",
      "Validation Loss : 1.2748145028336408\n",
      "\n",
      "===================================================================================================================\n",
      "Epoch : 2\n",
      "Training Accuracy : 0.29558525033829497\n",
      "Validation Accuracy : 0.20794092465753425\n",
      "Training Loss : 0.4957272975386722\n",
      "Validation Loss : 0.7279311381790736\n",
      "\n",
      "===================================================================================================================\n",
      "Epoch : 3\n",
      "Training Accuracy : 0.5056347259810555\n",
      "Validation Accuracy : 0.3028681506849315\n",
      "Training Loss : 0.32075222092649125\n",
      "Validation Loss : 0.6312926983180112\n",
      "\n",
      "===================================================================================================================\n",
      "Epoch : 4\n",
      "Training Accuracy : 0.614999154262517\n",
      "Validation Accuracy : 0.3284460616438356\n",
      "Training Loss : 0.24333354957774786\n",
      "Validation Loss : 0.6447027705303611\n",
      "\n",
      "===================================================================================================================\n",
      "Epoch : 5\n",
      "Training Accuracy : 0.6872674221921515\n",
      "Validation Accuracy : 0.3470676369863014\n",
      "Training Loss : 0.19693658973754502\n",
      "Validation Loss : 0.6475086293808402\n"
     ]
    },
    {
     "data": {
      "text/html": [],
      "text/plain": [
       "<IPython.core.display.HTML object>"
      ]
     },
     "metadata": {},
     "output_type": "display_data"
    },
    {
     "data": {
      "text/html": [
       "<br>    <style><br>        .wandb-row {<br>            display: flex;<br>            flex-direction: row;<br>            flex-wrap: wrap;<br>            justify-content: flex-start;<br>            width: 100%;<br>        }<br>        .wandb-col {<br>            display: flex;<br>            flex-direction: column;<br>            flex-basis: 100%;<br>            flex: 1;<br>            padding: 10px;<br>        }<br>    </style><br><div class=\"wandb-row\"><div class=\"wandb-col\"><h3>Run history:</h3><br/><table class=\"wandb\"><tr><td>Epoch</td><td>▁▃▅▆█</td></tr><tr><td>training_accuracy</td><td>▁▄▆▇█</td></tr><tr><td>training_loss</td><td>█▄▂▁▁</td></tr><tr><td>validation_accuracy</td><td>▁▅▇██</td></tr><tr><td>validation_loss</td><td>█▂▁▁▁</td></tr></table><br/></div><div class=\"wandb-col\"><h3>Run summary:</h3><br/><table class=\"wandb\"><tr><td>Epoch</td><td>5</td></tr><tr><td>training_accuracy</td><td>0.68727</td></tr><tr><td>training_loss</td><td>0.19694</td></tr><tr><td>validation_accuracy</td><td>0.34707</td></tr><tr><td>validation_loss</td><td>0.64751</td></tr></table><br/></div></div>"
      ],
      "text/plain": [
       "<IPython.core.display.HTML object>"
      ]
     },
     "metadata": {},
     "output_type": "display_data"
    },
    {
     "data": {
      "text/html": [
       " View run <strong style=\"color:#cdcd00\">ATT_YES_EP_5_CELL_LSTM_EMB_128_ENC_3_DEC_3_FC_512_DRP_0.4_BS_128_BIDIREC_NO</strong> at: <a href='https://wandb.ai/cs24m015-indian-institute-of-technology-madras/Debasmita-DA6401-Assignment-3/runs/z57h3xoo' target=\"_blank\">https://wandb.ai/cs24m015-indian-institute-of-technology-madras/Debasmita-DA6401-Assignment-3/runs/z57h3xoo</a><br> View project at: <a href='https://wandb.ai/cs24m015-indian-institute-of-technology-madras/Debasmita-DA6401-Assignment-3' target=\"_blank\">https://wandb.ai/cs24m015-indian-institute-of-technology-madras/Debasmita-DA6401-Assignment-3</a><br>Synced 5 W&B file(s), 0 media file(s), 0 artifact file(s) and 0 other file(s)"
      ],
      "text/plain": [
       "<IPython.core.display.HTML object>"
      ]
     },
     "metadata": {},
     "output_type": "display_data"
    },
    {
     "data": {
      "text/html": [
       "Find logs at: <code>./wandb/run-20250516_220533-z57h3xoo/logs</code>"
      ],
      "text/plain": [
       "<IPython.core.display.HTML object>"
      ]
     },
     "metadata": {},
     "output_type": "display_data"
    },
    {
     "name": "stderr",
     "output_type": "stream",
     "text": [
      "\u001b[34m\u001b[1mwandb\u001b[0m: Sweep Agent: Waiting for job.\n",
      "\u001b[34m\u001b[1mwandb\u001b[0m: Job received.\n",
      "\u001b[34m\u001b[1mwandb\u001b[0m: Agent Starting Run: 2jcfb88w with config:\n",
      "\u001b[34m\u001b[1mwandb\u001b[0m: \tbatch_size: 128\n",
      "\u001b[34m\u001b[1mwandb\u001b[0m: \tbidirectional: NO\n",
      "\u001b[34m\u001b[1mwandb\u001b[0m: \tcell_type: LSTM\n",
      "\u001b[34m\u001b[1mwandb\u001b[0m: \tdecoder_layers: 3\n",
      "\u001b[34m\u001b[1mwandb\u001b[0m: \tdropout: 0.4\n",
      "\u001b[34m\u001b[1mwandb\u001b[0m: \tembedding_size: 64\n",
      "\u001b[34m\u001b[1mwandb\u001b[0m: \tencoder_layers: 2\n",
      "\u001b[34m\u001b[1mwandb\u001b[0m: \tepochs: 5\n",
      "\u001b[34m\u001b[1mwandb\u001b[0m: \tneurons_in_fc: 512\n"
     ]
    },
    {
     "data": {
      "text/html": [
       "Ignoring project 'Debasmita-DA6401-Assignment-3' when running a sweep."
      ],
      "text/plain": [
       "<IPython.core.display.HTML object>"
      ]
     },
     "metadata": {},
     "output_type": "display_data"
    },
    {
     "data": {
      "text/html": [
       "Tracking run with wandb version 0.19.9"
      ],
      "text/plain": [
       "<IPython.core.display.HTML object>"
      ]
     },
     "metadata": {},
     "output_type": "display_data"
    },
    {
     "data": {
      "text/html": [
       "Run data is saved locally in <code>/kaggle/working/wandb/run-20250516_221754-2jcfb88w</code>"
      ],
      "text/plain": [
       "<IPython.core.display.HTML object>"
      ]
     },
     "metadata": {},
     "output_type": "display_data"
    },
    {
     "data": {
      "text/html": [
       "Syncing run <strong><a href='https://wandb.ai/cs24m015-indian-institute-of-technology-madras/Debasmita-DA6401-Assignment-3/runs/2jcfb88w' target=\"_blank\">magic-sweep-16</a></strong> to <a href='https://wandb.ai/cs24m015-indian-institute-of-technology-madras/Debasmita-DA6401-Assignment-3' target=\"_blank\">Weights & Biases</a> (<a href='https://wandb.me/developer-guide' target=\"_blank\">docs</a>)<br>Sweep page: <a href='https://wandb.ai/cs24m015-indian-institute-of-technology-madras/Debasmita-DA6401-Assignment-3/sweeps/hbfj1wi7' target=\"_blank\">https://wandb.ai/cs24m015-indian-institute-of-technology-madras/Debasmita-DA6401-Assignment-3/sweeps/hbfj1wi7</a>"
      ],
      "text/plain": [
       "<IPython.core.display.HTML object>"
      ]
     },
     "metadata": {},
     "output_type": "display_data"
    },
    {
     "data": {
      "text/html": [
       " View project at <a href='https://wandb.ai/cs24m015-indian-institute-of-technology-madras/Debasmita-DA6401-Assignment-3' target=\"_blank\">https://wandb.ai/cs24m015-indian-institute-of-technology-madras/Debasmita-DA6401-Assignment-3</a>"
      ],
      "text/plain": [
       "<IPython.core.display.HTML object>"
      ]
     },
     "metadata": {},
     "output_type": "display_data"
    },
    {
     "data": {
      "text/html": [
       " View sweep at <a href='https://wandb.ai/cs24m015-indian-institute-of-technology-madras/Debasmita-DA6401-Assignment-3/sweeps/hbfj1wi7' target=\"_blank\">https://wandb.ai/cs24m015-indian-institute-of-technology-madras/Debasmita-DA6401-Assignment-3/sweeps/hbfj1wi7</a>"
      ],
      "text/plain": [
       "<IPython.core.display.HTML object>"
      ]
     },
     "metadata": {},
     "output_type": "display_data"
    },
    {
     "data": {
      "text/html": [
       " View run at <a href='https://wandb.ai/cs24m015-indian-institute-of-technology-madras/Debasmita-DA6401-Assignment-3/runs/2jcfb88w' target=\"_blank\">https://wandb.ai/cs24m015-indian-institute-of-technology-madras/Debasmita-DA6401-Assignment-3/runs/2jcfb88w</a>"
      ],
      "text/plain": [
       "<IPython.core.display.HTML object>"
      ]
     },
     "metadata": {},
     "output_type": "display_data"
    },
    {
     "name": "stdout",
     "output_type": "stream",
     "text": [
      "run name = ATT_YES_EP_5_CELL_LSTM_EMB_64_ENC_2_DEC_3_FC_512_DRP_0.4_BS_128_BIDIREC_NO\n",
      "\n",
      "===================================================================================================================\n",
      "Epoch : 1\n",
      "Training Accuracy : 0.22626649188092016\n",
      "Validation Accuracy : 0.19060359589041095\n",
      "Training Loss : 0.504568862455301\n",
      "Validation Loss : 0.6664612342233527\n",
      "\n",
      "===================================================================================================================\n",
      "Epoch : 2\n",
      "Training Accuracy : 0.3691749830852503\n",
      "Validation Accuracy : 0.2655179794520548\n",
      "Training Loss : 0.3959125841744698\n",
      "Validation Loss : 0.5983049591926679\n",
      "\n",
      "===================================================================================================================\n",
      "Epoch : 3\n",
      "Training Accuracy : 0.45986975642760486\n",
      "Validation Accuracy : 0.3136772260273973\n",
      "Training Loss : 0.33636546963687197\n",
      "Validation Loss : 0.5806278349602059\n",
      "\n",
      "===================================================================================================================\n",
      "Epoch : 4\n",
      "Training Accuracy : 0.5351721075778079\n",
      "Validation Accuracy : 0.3492080479452055\n",
      "Training Loss : 0.2945587855230649\n",
      "Validation Loss : 0.5950121014085534\n",
      "\n",
      "===================================================================================================================\n",
      "Epoch : 5\n",
      "Training Accuracy : 0.600198748308525\n",
      "Validation Accuracy : 0.366652397260274\n",
      "Training Loss : 0.2530680713577748\n",
      "Validation Loss : 0.6075482184756292\n"
     ]
    },
    {
     "data": {
      "text/html": [],
      "text/plain": [
       "<IPython.core.display.HTML object>"
      ]
     },
     "metadata": {},
     "output_type": "display_data"
    },
    {
     "data": {
      "text/html": [
       "<br>    <style><br>        .wandb-row {<br>            display: flex;<br>            flex-direction: row;<br>            flex-wrap: wrap;<br>            justify-content: flex-start;<br>            width: 100%;<br>        }<br>        .wandb-col {<br>            display: flex;<br>            flex-direction: column;<br>            flex-basis: 100%;<br>            flex: 1;<br>            padding: 10px;<br>        }<br>    </style><br><div class=\"wandb-row\"><div class=\"wandb-col\"><h3>Run history:</h3><br/><table class=\"wandb\"><tr><td>Epoch</td><td>▁▃▅▆█</td></tr><tr><td>training_accuracy</td><td>▁▄▅▇█</td></tr><tr><td>training_loss</td><td>█▅▃▂▁</td></tr><tr><td>validation_accuracy</td><td>▁▄▆▇█</td></tr><tr><td>validation_loss</td><td>█▂▁▂▃</td></tr></table><br/></div><div class=\"wandb-col\"><h3>Run summary:</h3><br/><table class=\"wandb\"><tr><td>Epoch</td><td>5</td></tr><tr><td>training_accuracy</td><td>0.6002</td></tr><tr><td>training_loss</td><td>0.25307</td></tr><tr><td>validation_accuracy</td><td>0.36665</td></tr><tr><td>validation_loss</td><td>0.60755</td></tr></table><br/></div></div>"
      ],
      "text/plain": [
       "<IPython.core.display.HTML object>"
      ]
     },
     "metadata": {},
     "output_type": "display_data"
    },
    {
     "data": {
      "text/html": [
       " View run <strong style=\"color:#cdcd00\">ATT_YES_EP_5_CELL_LSTM_EMB_64_ENC_2_DEC_3_FC_512_DRP_0.4_BS_128_BIDIREC_NO</strong> at: <a href='https://wandb.ai/cs24m015-indian-institute-of-technology-madras/Debasmita-DA6401-Assignment-3/runs/2jcfb88w' target=\"_blank\">https://wandb.ai/cs24m015-indian-institute-of-technology-madras/Debasmita-DA6401-Assignment-3/runs/2jcfb88w</a><br> View project at: <a href='https://wandb.ai/cs24m015-indian-institute-of-technology-madras/Debasmita-DA6401-Assignment-3' target=\"_blank\">https://wandb.ai/cs24m015-indian-institute-of-technology-madras/Debasmita-DA6401-Assignment-3</a><br>Synced 5 W&B file(s), 0 media file(s), 0 artifact file(s) and 0 other file(s)"
      ],
      "text/plain": [
       "<IPython.core.display.HTML object>"
      ]
     },
     "metadata": {},
     "output_type": "display_data"
    },
    {
     "data": {
      "text/html": [
       "Find logs at: <code>./wandb/run-20250516_221754-2jcfb88w/logs</code>"
      ],
      "text/plain": [
       "<IPython.core.display.HTML object>"
      ]
     },
     "metadata": {},
     "output_type": "display_data"
    },
    {
     "name": "stderr",
     "output_type": "stream",
     "text": [
      "\u001b[34m\u001b[1mwandb\u001b[0m: Agent Starting Run: 5aeeobxk with config:\n",
      "\u001b[34m\u001b[1mwandb\u001b[0m: \tbatch_size: 128\n",
      "\u001b[34m\u001b[1mwandb\u001b[0m: \tbidirectional: NO\n",
      "\u001b[34m\u001b[1mwandb\u001b[0m: \tcell_type: LSTM\n",
      "\u001b[34m\u001b[1mwandb\u001b[0m: \tdecoder_layers: 3\n",
      "\u001b[34m\u001b[1mwandb\u001b[0m: \tdropout: 0.4\n",
      "\u001b[34m\u001b[1mwandb\u001b[0m: \tembedding_size: 128\n",
      "\u001b[34m\u001b[1mwandb\u001b[0m: \tencoder_layers: 3\n",
      "\u001b[34m\u001b[1mwandb\u001b[0m: \tepochs: 5\n",
      "\u001b[34m\u001b[1mwandb\u001b[0m: \tneurons_in_fc: 256\n"
     ]
    },
    {
     "data": {
      "text/html": [
       "Ignoring project 'Debasmita-DA6401-Assignment-3' when running a sweep."
      ],
      "text/plain": [
       "<IPython.core.display.HTML object>"
      ]
     },
     "metadata": {},
     "output_type": "display_data"
    },
    {
     "data": {
      "text/html": [
       "Tracking run with wandb version 0.19.9"
      ],
      "text/plain": [
       "<IPython.core.display.HTML object>"
      ]
     },
     "metadata": {},
     "output_type": "display_data"
    },
    {
     "data": {
      "text/html": [
       "Run data is saved locally in <code>/kaggle/working/wandb/run-20250516_222832-5aeeobxk</code>"
      ],
      "text/plain": [
       "<IPython.core.display.HTML object>"
      ]
     },
     "metadata": {},
     "output_type": "display_data"
    },
    {
     "data": {
      "text/html": [
       "Syncing run <strong><a href='https://wandb.ai/cs24m015-indian-institute-of-technology-madras/Debasmita-DA6401-Assignment-3/runs/5aeeobxk' target=\"_blank\">polar-sweep-17</a></strong> to <a href='https://wandb.ai/cs24m015-indian-institute-of-technology-madras/Debasmita-DA6401-Assignment-3' target=\"_blank\">Weights & Biases</a> (<a href='https://wandb.me/developer-guide' target=\"_blank\">docs</a>)<br>Sweep page: <a href='https://wandb.ai/cs24m015-indian-institute-of-technology-madras/Debasmita-DA6401-Assignment-3/sweeps/hbfj1wi7' target=\"_blank\">https://wandb.ai/cs24m015-indian-institute-of-technology-madras/Debasmita-DA6401-Assignment-3/sweeps/hbfj1wi7</a>"
      ],
      "text/plain": [
       "<IPython.core.display.HTML object>"
      ]
     },
     "metadata": {},
     "output_type": "display_data"
    },
    {
     "data": {
      "text/html": [
       " View project at <a href='https://wandb.ai/cs24m015-indian-institute-of-technology-madras/Debasmita-DA6401-Assignment-3' target=\"_blank\">https://wandb.ai/cs24m015-indian-institute-of-technology-madras/Debasmita-DA6401-Assignment-3</a>"
      ],
      "text/plain": [
       "<IPython.core.display.HTML object>"
      ]
     },
     "metadata": {},
     "output_type": "display_data"
    },
    {
     "data": {
      "text/html": [
       " View sweep at <a href='https://wandb.ai/cs24m015-indian-institute-of-technology-madras/Debasmita-DA6401-Assignment-3/sweeps/hbfj1wi7' target=\"_blank\">https://wandb.ai/cs24m015-indian-institute-of-technology-madras/Debasmita-DA6401-Assignment-3/sweeps/hbfj1wi7</a>"
      ],
      "text/plain": [
       "<IPython.core.display.HTML object>"
      ]
     },
     "metadata": {},
     "output_type": "display_data"
    },
    {
     "data": {
      "text/html": [
       " View run at <a href='https://wandb.ai/cs24m015-indian-institute-of-technology-madras/Debasmita-DA6401-Assignment-3/runs/5aeeobxk' target=\"_blank\">https://wandb.ai/cs24m015-indian-institute-of-technology-madras/Debasmita-DA6401-Assignment-3/runs/5aeeobxk</a>"
      ],
      "text/plain": [
       "<IPython.core.display.HTML object>"
      ]
     },
     "metadata": {},
     "output_type": "display_data"
    },
    {
     "name": "stdout",
     "output_type": "stream",
     "text": [
      "run name = ATT_YES_EP_5_CELL_LSTM_EMB_128_ENC_3_DEC_3_FC_256_DRP_0.4_BS_128_BIDIREC_NO\n",
      "\n",
      "===================================================================================================================\n",
      "Epoch : 1\n",
      "Training Accuracy : 0.16247674221921515\n",
      "Validation Accuracy : 0.1343107876712329\n",
      "Training Loss : 0.557539489135368\n",
      "Validation Loss : 0.7326402394738916\n",
      "\n",
      "===================================================================================================================\n",
      "Epoch : 2\n",
      "Training Accuracy : 0.29796388700947224\n",
      "Validation Accuracy : 0.2513912671232877\n",
      "Training Loss : 0.46322496483387254\n",
      "Validation Loss : 0.634259384788879\n",
      "\n",
      "===================================================================================================================\n",
      "Epoch : 3\n",
      "Training Accuracy : 0.38804550067659\n",
      "Validation Accuracy : 0.3051155821917808\n",
      "Training Loss : 0.402877898153336\n",
      "Validation Loss : 0.6228821555229083\n",
      "\n",
      "===================================================================================================================\n",
      "Epoch : 4\n",
      "Training Accuracy : 0.4370454161028417\n",
      "Validation Accuracy : 0.3200984589041096\n",
      "Training Loss : 0.35946061152647246\n",
      "Validation Loss : 0.5969593130970654\n",
      "\n",
      "===================================================================================================================\n",
      "Epoch : 5\n",
      "Training Accuracy : 0.49294866373477675\n",
      "Validation Accuracy : 0.3397902397260274\n",
      "Training Loss : 0.32619076680911246\n",
      "Validation Loss : 0.6062468535279575\n"
     ]
    },
    {
     "data": {
      "text/html": [],
      "text/plain": [
       "<IPython.core.display.HTML object>"
      ]
     },
     "metadata": {},
     "output_type": "display_data"
    },
    {
     "data": {
      "text/html": [
       "<br>    <style><br>        .wandb-row {<br>            display: flex;<br>            flex-direction: row;<br>            flex-wrap: wrap;<br>            justify-content: flex-start;<br>            width: 100%;<br>        }<br>        .wandb-col {<br>            display: flex;<br>            flex-direction: column;<br>            flex-basis: 100%;<br>            flex: 1;<br>            padding: 10px;<br>        }<br>    </style><br><div class=\"wandb-row\"><div class=\"wandb-col\"><h3>Run history:</h3><br/><table class=\"wandb\"><tr><td>Epoch</td><td>▁▃▅▆█</td></tr><tr><td>training_accuracy</td><td>▁▄▆▇█</td></tr><tr><td>training_loss</td><td>█▅▃▂▁</td></tr><tr><td>validation_accuracy</td><td>▁▅▇▇█</td></tr><tr><td>validation_loss</td><td>█▃▂▁▁</td></tr></table><br/></div><div class=\"wandb-col\"><h3>Run summary:</h3><br/><table class=\"wandb\"><tr><td>Epoch</td><td>5</td></tr><tr><td>training_accuracy</td><td>0.49295</td></tr><tr><td>training_loss</td><td>0.32619</td></tr><tr><td>validation_accuracy</td><td>0.33979</td></tr><tr><td>validation_loss</td><td>0.60625</td></tr></table><br/></div></div>"
      ],
      "text/plain": [
       "<IPython.core.display.HTML object>"
      ]
     },
     "metadata": {},
     "output_type": "display_data"
    },
    {
     "data": {
      "text/html": [
       " View run <strong style=\"color:#cdcd00\">ATT_YES_EP_5_CELL_LSTM_EMB_128_ENC_3_DEC_3_FC_256_DRP_0.4_BS_128_BIDIREC_NO</strong> at: <a href='https://wandb.ai/cs24m015-indian-institute-of-technology-madras/Debasmita-DA6401-Assignment-3/runs/5aeeobxk' target=\"_blank\">https://wandb.ai/cs24m015-indian-institute-of-technology-madras/Debasmita-DA6401-Assignment-3/runs/5aeeobxk</a><br> View project at: <a href='https://wandb.ai/cs24m015-indian-institute-of-technology-madras/Debasmita-DA6401-Assignment-3' target=\"_blank\">https://wandb.ai/cs24m015-indian-institute-of-technology-madras/Debasmita-DA6401-Assignment-3</a><br>Synced 5 W&B file(s), 0 media file(s), 0 artifact file(s) and 0 other file(s)"
      ],
      "text/plain": [
       "<IPython.core.display.HTML object>"
      ]
     },
     "metadata": {},
     "output_type": "display_data"
    },
    {
     "data": {
      "text/html": [
       "Find logs at: <code>./wandb/run-20250516_222832-5aeeobxk/logs</code>"
      ],
      "text/plain": [
       "<IPython.core.display.HTML object>"
      ]
     },
     "metadata": {},
     "output_type": "display_data"
    },
    {
     "name": "stderr",
     "output_type": "stream",
     "text": [
      "\u001b[34m\u001b[1mwandb\u001b[0m: Agent Starting Run: 1o021r6o with config:\n",
      "\u001b[34m\u001b[1mwandb\u001b[0m: \tbatch_size: 128\n",
      "\u001b[34m\u001b[1mwandb\u001b[0m: \tbidirectional: NO\n",
      "\u001b[34m\u001b[1mwandb\u001b[0m: \tcell_type: LSTM\n",
      "\u001b[34m\u001b[1mwandb\u001b[0m: \tdecoder_layers: 3\n",
      "\u001b[34m\u001b[1mwandb\u001b[0m: \tdropout: 0.4\n",
      "\u001b[34m\u001b[1mwandb\u001b[0m: \tembedding_size: 64\n",
      "\u001b[34m\u001b[1mwandb\u001b[0m: \tencoder_layers: 3\n",
      "\u001b[34m\u001b[1mwandb\u001b[0m: \tepochs: 5\n",
      "\u001b[34m\u001b[1mwandb\u001b[0m: \tneurons_in_fc: 256\n"
     ]
    },
    {
     "data": {
      "text/html": [
       "Ignoring project 'Debasmita-DA6401-Assignment-3' when running a sweep."
      ],
      "text/plain": [
       "<IPython.core.display.HTML object>"
      ]
     },
     "metadata": {},
     "output_type": "display_data"
    },
    {
     "data": {
      "text/html": [
       "Tracking run with wandb version 0.19.9"
      ],
      "text/plain": [
       "<IPython.core.display.HTML object>"
      ]
     },
     "metadata": {},
     "output_type": "display_data"
    },
    {
     "data": {
      "text/html": [
       "Run data is saved locally in <code>/kaggle/working/wandb/run-20250516_223456-1o021r6o</code>"
      ],
      "text/plain": [
       "<IPython.core.display.HTML object>"
      ]
     },
     "metadata": {},
     "output_type": "display_data"
    },
    {
     "data": {
      "text/html": [
       "Syncing run <strong><a href='https://wandb.ai/cs24m015-indian-institute-of-technology-madras/Debasmita-DA6401-Assignment-3/runs/1o021r6o' target=\"_blank\">ancient-sweep-18</a></strong> to <a href='https://wandb.ai/cs24m015-indian-institute-of-technology-madras/Debasmita-DA6401-Assignment-3' target=\"_blank\">Weights & Biases</a> (<a href='https://wandb.me/developer-guide' target=\"_blank\">docs</a>)<br>Sweep page: <a href='https://wandb.ai/cs24m015-indian-institute-of-technology-madras/Debasmita-DA6401-Assignment-3/sweeps/hbfj1wi7' target=\"_blank\">https://wandb.ai/cs24m015-indian-institute-of-technology-madras/Debasmita-DA6401-Assignment-3/sweeps/hbfj1wi7</a>"
      ],
      "text/plain": [
       "<IPython.core.display.HTML object>"
      ]
     },
     "metadata": {},
     "output_type": "display_data"
    },
    {
     "data": {
      "text/html": [
       " View project at <a href='https://wandb.ai/cs24m015-indian-institute-of-technology-madras/Debasmita-DA6401-Assignment-3' target=\"_blank\">https://wandb.ai/cs24m015-indian-institute-of-technology-madras/Debasmita-DA6401-Assignment-3</a>"
      ],
      "text/plain": [
       "<IPython.core.display.HTML object>"
      ]
     },
     "metadata": {},
     "output_type": "display_data"
    },
    {
     "data": {
      "text/html": [
       " View sweep at <a href='https://wandb.ai/cs24m015-indian-institute-of-technology-madras/Debasmita-DA6401-Assignment-3/sweeps/hbfj1wi7' target=\"_blank\">https://wandb.ai/cs24m015-indian-institute-of-technology-madras/Debasmita-DA6401-Assignment-3/sweeps/hbfj1wi7</a>"
      ],
      "text/plain": [
       "<IPython.core.display.HTML object>"
      ]
     },
     "metadata": {},
     "output_type": "display_data"
    },
    {
     "data": {
      "text/html": [
       " View run at <a href='https://wandb.ai/cs24m015-indian-institute-of-technology-madras/Debasmita-DA6401-Assignment-3/runs/1o021r6o' target=\"_blank\">https://wandb.ai/cs24m015-indian-institute-of-technology-madras/Debasmita-DA6401-Assignment-3/runs/1o021r6o</a>"
      ],
      "text/plain": [
       "<IPython.core.display.HTML object>"
      ]
     },
     "metadata": {},
     "output_type": "display_data"
    },
    {
     "name": "stdout",
     "output_type": "stream",
     "text": [
      "run name = ATT_YES_EP_5_CELL_LSTM_EMB_64_ENC_3_DEC_3_FC_256_DRP_0.4_BS_128_BIDIREC_NO\n",
      "\n",
      "===================================================================================================================\n",
      "Epoch : 1\n",
      "Training Accuracy : 0.016460165764546685\n",
      "Validation Accuracy : 0.012200342465753425\n",
      "Training Loss : 0.8327051506797419\n",
      "Validation Loss : 1.0674239054118118\n",
      "\n",
      "===================================================================================================================\n",
      "Epoch : 2\n",
      "Training Accuracy : 0.2439106901217862\n",
      "Validation Accuracy : 0.2124357876712329\n",
      "Training Loss : 0.5095918322528973\n",
      "Validation Loss : 0.6654009259726903\n",
      "\n",
      "===================================================================================================================\n",
      "Epoch : 3\n",
      "Training Accuracy : 0.3583601150202977\n",
      "Validation Accuracy : 0.2870291095890411\n",
      "Training Loss : 0.4186042182661684\n",
      "Validation Loss : 0.6060027712828493\n",
      "\n",
      "===================================================================================================================\n",
      "Epoch : 4\n",
      "Training Accuracy : 0.42649484100135315\n",
      "Validation Accuracy : 0.2955907534246575\n",
      "Training Loss : 0.3604182031545007\n",
      "Validation Loss : 0.5825986894842696\n",
      "\n",
      "===================================================================================================================\n",
      "Epoch : 5\n",
      "Training Accuracy : 0.4806960419485792\n",
      "Validation Accuracy : 0.3196703767123288\n",
      "Training Loss : 0.3510843391589447\n",
      "Validation Loss : 0.6426555440850454\n"
     ]
    },
    {
     "data": {
      "text/html": [],
      "text/plain": [
       "<IPython.core.display.HTML object>"
      ]
     },
     "metadata": {},
     "output_type": "display_data"
    },
    {
     "data": {
      "text/html": [
       "<br>    <style><br>        .wandb-row {<br>            display: flex;<br>            flex-direction: row;<br>            flex-wrap: wrap;<br>            justify-content: flex-start;<br>            width: 100%;<br>        }<br>        .wandb-col {<br>            display: flex;<br>            flex-direction: column;<br>            flex-basis: 100%;<br>            flex: 1;<br>            padding: 10px;<br>        }<br>    </style><br><div class=\"wandb-row\"><div class=\"wandb-col\"><h3>Run history:</h3><br/><table class=\"wandb\"><tr><td>Epoch</td><td>▁▃▅▆█</td></tr><tr><td>training_accuracy</td><td>▁▄▆▇█</td></tr><tr><td>training_loss</td><td>█▃▂▁▁</td></tr><tr><td>validation_accuracy</td><td>▁▆▇▇█</td></tr><tr><td>validation_loss</td><td>█▂▁▁▂</td></tr></table><br/></div><div class=\"wandb-col\"><h3>Run summary:</h3><br/><table class=\"wandb\"><tr><td>Epoch</td><td>5</td></tr><tr><td>training_accuracy</td><td>0.4807</td></tr><tr><td>training_loss</td><td>0.35108</td></tr><tr><td>validation_accuracy</td><td>0.31967</td></tr><tr><td>validation_loss</td><td>0.64266</td></tr></table><br/></div></div>"
      ],
      "text/plain": [
       "<IPython.core.display.HTML object>"
      ]
     },
     "metadata": {},
     "output_type": "display_data"
    },
    {
     "data": {
      "text/html": [
       " View run <strong style=\"color:#cdcd00\">ATT_YES_EP_5_CELL_LSTM_EMB_64_ENC_3_DEC_3_FC_256_DRP_0.4_BS_128_BIDIREC_NO</strong> at: <a href='https://wandb.ai/cs24m015-indian-institute-of-technology-madras/Debasmita-DA6401-Assignment-3/runs/1o021r6o' target=\"_blank\">https://wandb.ai/cs24m015-indian-institute-of-technology-madras/Debasmita-DA6401-Assignment-3/runs/1o021r6o</a><br> View project at: <a href='https://wandb.ai/cs24m015-indian-institute-of-technology-madras/Debasmita-DA6401-Assignment-3' target=\"_blank\">https://wandb.ai/cs24m015-indian-institute-of-technology-madras/Debasmita-DA6401-Assignment-3</a><br>Synced 5 W&B file(s), 0 media file(s), 0 artifact file(s) and 0 other file(s)"
      ],
      "text/plain": [
       "<IPython.core.display.HTML object>"
      ]
     },
     "metadata": {},
     "output_type": "display_data"
    },
    {
     "data": {
      "text/html": [
       "Find logs at: <code>./wandb/run-20250516_223456-1o021r6o/logs</code>"
      ],
      "text/plain": [
       "<IPython.core.display.HTML object>"
      ]
     },
     "metadata": {},
     "output_type": "display_data"
    },
    {
     "name": "stderr",
     "output_type": "stream",
     "text": [
      "\u001b[34m\u001b[1mwandb\u001b[0m: Agent Starting Run: p2xt61nb with config:\n",
      "\u001b[34m\u001b[1mwandb\u001b[0m: \tbatch_size: 64\n",
      "\u001b[34m\u001b[1mwandb\u001b[0m: \tbidirectional: NO\n",
      "\u001b[34m\u001b[1mwandb\u001b[0m: \tcell_type: GRU\n",
      "\u001b[34m\u001b[1mwandb\u001b[0m: \tdecoder_layers: 3\n",
      "\u001b[34m\u001b[1mwandb\u001b[0m: \tdropout: 0.2\n",
      "\u001b[34m\u001b[1mwandb\u001b[0m: \tembedding_size: 128\n",
      "\u001b[34m\u001b[1mwandb\u001b[0m: \tencoder_layers: 2\n",
      "\u001b[34m\u001b[1mwandb\u001b[0m: \tepochs: 5\n",
      "\u001b[34m\u001b[1mwandb\u001b[0m: \tneurons_in_fc: 512\n"
     ]
    },
    {
     "data": {
      "text/html": [
       "Ignoring project 'Debasmita-DA6401-Assignment-3' when running a sweep."
      ],
      "text/plain": [
       "<IPython.core.display.HTML object>"
      ]
     },
     "metadata": {},
     "output_type": "display_data"
    },
    {
     "data": {
      "text/html": [
       "Tracking run with wandb version 0.19.9"
      ],
      "text/plain": [
       "<IPython.core.display.HTML object>"
      ]
     },
     "metadata": {},
     "output_type": "display_data"
    },
    {
     "data": {
      "text/html": [
       "Run data is saved locally in <code>/kaggle/working/wandb/run-20250516_224116-p2xt61nb</code>"
      ],
      "text/plain": [
       "<IPython.core.display.HTML object>"
      ]
     },
     "metadata": {},
     "output_type": "display_data"
    },
    {
     "data": {
      "text/html": [
       "Syncing run <strong><a href='https://wandb.ai/cs24m015-indian-institute-of-technology-madras/Debasmita-DA6401-Assignment-3/runs/p2xt61nb' target=\"_blank\">wobbly-sweep-19</a></strong> to <a href='https://wandb.ai/cs24m015-indian-institute-of-technology-madras/Debasmita-DA6401-Assignment-3' target=\"_blank\">Weights & Biases</a> (<a href='https://wandb.me/developer-guide' target=\"_blank\">docs</a>)<br>Sweep page: <a href='https://wandb.ai/cs24m015-indian-institute-of-technology-madras/Debasmita-DA6401-Assignment-3/sweeps/hbfj1wi7' target=\"_blank\">https://wandb.ai/cs24m015-indian-institute-of-technology-madras/Debasmita-DA6401-Assignment-3/sweeps/hbfj1wi7</a>"
      ],
      "text/plain": [
       "<IPython.core.display.HTML object>"
      ]
     },
     "metadata": {},
     "output_type": "display_data"
    },
    {
     "data": {
      "text/html": [
       " View project at <a href='https://wandb.ai/cs24m015-indian-institute-of-technology-madras/Debasmita-DA6401-Assignment-3' target=\"_blank\">https://wandb.ai/cs24m015-indian-institute-of-technology-madras/Debasmita-DA6401-Assignment-3</a>"
      ],
      "text/plain": [
       "<IPython.core.display.HTML object>"
      ]
     },
     "metadata": {},
     "output_type": "display_data"
    },
    {
     "data": {
      "text/html": [
       " View sweep at <a href='https://wandb.ai/cs24m015-indian-institute-of-technology-madras/Debasmita-DA6401-Assignment-3/sweeps/hbfj1wi7' target=\"_blank\">https://wandb.ai/cs24m015-indian-institute-of-technology-madras/Debasmita-DA6401-Assignment-3/sweeps/hbfj1wi7</a>"
      ],
      "text/plain": [
       "<IPython.core.display.HTML object>"
      ]
     },
     "metadata": {},
     "output_type": "display_data"
    },
    {
     "data": {
      "text/html": [
       " View run at <a href='https://wandb.ai/cs24m015-indian-institute-of-technology-madras/Debasmita-DA6401-Assignment-3/runs/p2xt61nb' target=\"_blank\">https://wandb.ai/cs24m015-indian-institute-of-technology-madras/Debasmita-DA6401-Assignment-3/runs/p2xt61nb</a>"
      ],
      "text/plain": [
       "<IPython.core.display.HTML object>"
      ]
     },
     "metadata": {},
     "output_type": "display_data"
    },
    {
     "name": "stdout",
     "output_type": "stream",
     "text": [
      "run name = ATT_YES_EP_5_CELL_GRU_EMB_128_ENC_2_DEC_3_FC_512_DRP_0.2_BS_64_BIDIREC_NO\n",
      "\n",
      "===================================================================================================================\n",
      "Epoch : 1\n",
      "Training Accuracy : 0.23987229364005414\n",
      "Validation Accuracy : 0.19461206896551725\n",
      "Training Loss : 0.536441863591358\n",
      "Validation Loss : 0.7132016526214008\n",
      "\n",
      "===================================================================================================================\n",
      "Epoch : 2\n",
      "Training Accuracy : 0.33318885317997293\n",
      "Validation Accuracy : 0.24622844827586207\n",
      "Training Loss : 0.48125547380344147\n",
      "Validation Loss : 0.7029184284909018\n",
      "\n",
      "===================================================================================================================\n",
      "Epoch : 3\n",
      "Training Accuracy : 0.357038650202977\n",
      "Validation Accuracy : 0.2404094827586207\n",
      "Training Loss : 0.4463117231132213\n",
      "Validation Loss : 0.6781765574011309\n",
      "\n",
      "===================================================================================================================\n",
      "Epoch : 4\n",
      "Training Accuracy : 0.3683715324763194\n",
      "Validation Accuracy : 0.2504310344827586\n",
      "Training Loss : 0.45024707488947535\n",
      "Validation Loss : 0.6984957837852939\n",
      "\n",
      "===================================================================================================================\n",
      "Epoch : 5\n",
      "Training Accuracy : 0.3713316136671177\n",
      "Validation Accuracy : 0.23081896551724138\n",
      "Training Loss : 0.439553246970751\n",
      "Validation Loss : 0.6897521933604931\n"
     ]
    },
    {
     "data": {
      "text/html": [],
      "text/plain": [
       "<IPython.core.display.HTML object>"
      ]
     },
     "metadata": {},
     "output_type": "display_data"
    },
    {
     "data": {
      "text/html": [
       "<br>    <style><br>        .wandb-row {<br>            display: flex;<br>            flex-direction: row;<br>            flex-wrap: wrap;<br>            justify-content: flex-start;<br>            width: 100%;<br>        }<br>        .wandb-col {<br>            display: flex;<br>            flex-direction: column;<br>            flex-basis: 100%;<br>            flex: 1;<br>            padding: 10px;<br>        }<br>    </style><br><div class=\"wandb-row\"><div class=\"wandb-col\"><h3>Run history:</h3><br/><table class=\"wandb\"><tr><td>Epoch</td><td>▁▃▅▆█</td></tr><tr><td>training_accuracy</td><td>▁▆▇██</td></tr><tr><td>training_loss</td><td>█▄▁▂▁</td></tr><tr><td>validation_accuracy</td><td>▁▇▇█▆</td></tr><tr><td>validation_loss</td><td>█▆▁▅▃</td></tr></table><br/></div><div class=\"wandb-col\"><h3>Run summary:</h3><br/><table class=\"wandb\"><tr><td>Epoch</td><td>5</td></tr><tr><td>training_accuracy</td><td>0.37133</td></tr><tr><td>training_loss</td><td>0.43955</td></tr><tr><td>validation_accuracy</td><td>0.23082</td></tr><tr><td>validation_loss</td><td>0.68975</td></tr></table><br/></div></div>"
      ],
      "text/plain": [
       "<IPython.core.display.HTML object>"
      ]
     },
     "metadata": {},
     "output_type": "display_data"
    },
    {
     "data": {
      "text/html": [
       " View run <strong style=\"color:#cdcd00\">ATT_YES_EP_5_CELL_GRU_EMB_128_ENC_2_DEC_3_FC_512_DRP_0.2_BS_64_BIDIREC_NO</strong> at: <a href='https://wandb.ai/cs24m015-indian-institute-of-technology-madras/Debasmita-DA6401-Assignment-3/runs/p2xt61nb' target=\"_blank\">https://wandb.ai/cs24m015-indian-institute-of-technology-madras/Debasmita-DA6401-Assignment-3/runs/p2xt61nb</a><br> View project at: <a href='https://wandb.ai/cs24m015-indian-institute-of-technology-madras/Debasmita-DA6401-Assignment-3' target=\"_blank\">https://wandb.ai/cs24m015-indian-institute-of-technology-madras/Debasmita-DA6401-Assignment-3</a><br>Synced 5 W&B file(s), 0 media file(s), 0 artifact file(s) and 0 other file(s)"
      ],
      "text/plain": [
       "<IPython.core.display.HTML object>"
      ]
     },
     "metadata": {},
     "output_type": "display_data"
    },
    {
     "data": {
      "text/html": [
       "Find logs at: <code>./wandb/run-20250516_224116-p2xt61nb/logs</code>"
      ],
      "text/plain": [
       "<IPython.core.display.HTML object>"
      ]
     },
     "metadata": {},
     "output_type": "display_data"
    },
    {
     "name": "stderr",
     "output_type": "stream",
     "text": [
      "\u001b[34m\u001b[1mwandb\u001b[0m: Sweep Agent: Waiting for job.\n",
      "\u001b[34m\u001b[1mwandb\u001b[0m: Job received.\n",
      "\u001b[34m\u001b[1mwandb\u001b[0m: Agent Starting Run: ju8hdhzy with config:\n",
      "\u001b[34m\u001b[1mwandb\u001b[0m: \tbatch_size: 128\n",
      "\u001b[34m\u001b[1mwandb\u001b[0m: \tbidirectional: NO\n",
      "\u001b[34m\u001b[1mwandb\u001b[0m: \tcell_type: LSTM\n",
      "\u001b[34m\u001b[1mwandb\u001b[0m: \tdecoder_layers: 3\n",
      "\u001b[34m\u001b[1mwandb\u001b[0m: \tdropout: 0.4\n",
      "\u001b[34m\u001b[1mwandb\u001b[0m: \tembedding_size: 256\n",
      "\u001b[34m\u001b[1mwandb\u001b[0m: \tencoder_layers: 2\n",
      "\u001b[34m\u001b[1mwandb\u001b[0m: \tepochs: 5\n",
      "\u001b[34m\u001b[1mwandb\u001b[0m: \tneurons_in_fc: 512\n"
     ]
    },
    {
     "data": {
      "text/html": [
       "Ignoring project 'Debasmita-DA6401-Assignment-3' when running a sweep."
      ],
      "text/plain": [
       "<IPython.core.display.HTML object>"
      ]
     },
     "metadata": {},
     "output_type": "display_data"
    },
    {
     "data": {
      "text/html": [
       "Tracking run with wandb version 0.19.9"
      ],
      "text/plain": [
       "<IPython.core.display.HTML object>"
      ]
     },
     "metadata": {},
     "output_type": "display_data"
    },
    {
     "data": {
      "text/html": [
       "Run data is saved locally in <code>/kaggle/working/wandb/run-20250516_225324-ju8hdhzy</code>"
      ],
      "text/plain": [
       "<IPython.core.display.HTML object>"
      ]
     },
     "metadata": {},
     "output_type": "display_data"
    },
    {
     "data": {
      "text/html": [
       "Syncing run <strong><a href='https://wandb.ai/cs24m015-indian-institute-of-technology-madras/Debasmita-DA6401-Assignment-3/runs/ju8hdhzy' target=\"_blank\">soft-sweep-20</a></strong> to <a href='https://wandb.ai/cs24m015-indian-institute-of-technology-madras/Debasmita-DA6401-Assignment-3' target=\"_blank\">Weights & Biases</a> (<a href='https://wandb.me/developer-guide' target=\"_blank\">docs</a>)<br>Sweep page: <a href='https://wandb.ai/cs24m015-indian-institute-of-technology-madras/Debasmita-DA6401-Assignment-3/sweeps/hbfj1wi7' target=\"_blank\">https://wandb.ai/cs24m015-indian-institute-of-technology-madras/Debasmita-DA6401-Assignment-3/sweeps/hbfj1wi7</a>"
      ],
      "text/plain": [
       "<IPython.core.display.HTML object>"
      ]
     },
     "metadata": {},
     "output_type": "display_data"
    },
    {
     "data": {
      "text/html": [
       " View project at <a href='https://wandb.ai/cs24m015-indian-institute-of-technology-madras/Debasmita-DA6401-Assignment-3' target=\"_blank\">https://wandb.ai/cs24m015-indian-institute-of-technology-madras/Debasmita-DA6401-Assignment-3</a>"
      ],
      "text/plain": [
       "<IPython.core.display.HTML object>"
      ]
     },
     "metadata": {},
     "output_type": "display_data"
    },
    {
     "data": {
      "text/html": [
       " View sweep at <a href='https://wandb.ai/cs24m015-indian-institute-of-technology-madras/Debasmita-DA6401-Assignment-3/sweeps/hbfj1wi7' target=\"_blank\">https://wandb.ai/cs24m015-indian-institute-of-technology-madras/Debasmita-DA6401-Assignment-3/sweeps/hbfj1wi7</a>"
      ],
      "text/plain": [
       "<IPython.core.display.HTML object>"
      ]
     },
     "metadata": {},
     "output_type": "display_data"
    },
    {
     "data": {
      "text/html": [
       " View run at <a href='https://wandb.ai/cs24m015-indian-institute-of-technology-madras/Debasmita-DA6401-Assignment-3/runs/ju8hdhzy' target=\"_blank\">https://wandb.ai/cs24m015-indian-institute-of-technology-madras/Debasmita-DA6401-Assignment-3/runs/ju8hdhzy</a>"
      ],
      "text/plain": [
       "<IPython.core.display.HTML object>"
      ]
     },
     "metadata": {},
     "output_type": "display_data"
    },
    {
     "name": "stdout",
     "output_type": "stream",
     "text": [
      "run name = ATT_YES_EP_5_CELL_LSTM_EMB_256_ENC_2_DEC_3_FC_512_DRP_0.4_BS_128_BIDIREC_NO\n",
      "\n",
      "===================================================================================================================\n",
      "Epoch : 1\n",
      "Training Accuracy : 0.17980378890392423\n",
      "Validation Accuracy : 0.16127996575342465\n",
      "Training Loss : 0.5564469179700612\n",
      "Validation Loss : 0.7121587759011412\n",
      "\n",
      "===================================================================================================================\n",
      "Epoch : 2\n",
      "Training Accuracy : 0.35028332205683355\n",
      "Validation Accuracy : 0.2551369863013699\n",
      "Training Loss : 0.4362769446692383\n",
      "Validation Loss : 0.6324309159631598\n",
      "\n",
      "===================================================================================================================\n",
      "Epoch : 3\n",
      "Training Accuracy : 0.44947775710419485\n",
      "Validation Accuracy : 0.3076840753424658\n",
      "Training Loss : 0.3709237605373656\n",
      "Validation Loss : 0.6117513930960877\n",
      "\n",
      "===================================================================================================================\n",
      "Epoch : 4\n",
      "Training Accuracy : 0.5252558355886333\n",
      "Validation Accuracy : 0.3351883561643836\n",
      "Training Loss : 0.33279642535320636\n",
      "Validation Loss : 0.6400207456660597\n",
      "\n",
      "===================================================================================================================\n",
      "Epoch : 5\n",
      "Training Accuracy : 0.5716339648173207\n",
      "Validation Accuracy : 0.3517765410958904\n",
      "Training Loss : 0.2808804569692831\n",
      "Validation Loss : 0.5890234227049841\n"
     ]
    },
    {
     "data": {
      "text/html": [],
      "text/plain": [
       "<IPython.core.display.HTML object>"
      ]
     },
     "metadata": {},
     "output_type": "display_data"
    },
    {
     "data": {
      "text/html": [
       "<br>    <style><br>        .wandb-row {<br>            display: flex;<br>            flex-direction: row;<br>            flex-wrap: wrap;<br>            justify-content: flex-start;<br>            width: 100%;<br>        }<br>        .wandb-col {<br>            display: flex;<br>            flex-direction: column;<br>            flex-basis: 100%;<br>            flex: 1;<br>            padding: 10px;<br>        }<br>    </style><br><div class=\"wandb-row\"><div class=\"wandb-col\"><h3>Run history:</h3><br/><table class=\"wandb\"><tr><td>Epoch</td><td>▁▃▅▆█</td></tr><tr><td>training_accuracy</td><td>▁▄▆▇█</td></tr><tr><td>training_loss</td><td>█▅▃▂▁</td></tr><tr><td>validation_accuracy</td><td>▁▄▆▇█</td></tr><tr><td>validation_loss</td><td>█▃▂▄▁</td></tr></table><br/></div><div class=\"wandb-col\"><h3>Run summary:</h3><br/><table class=\"wandb\"><tr><td>Epoch</td><td>5</td></tr><tr><td>training_accuracy</td><td>0.57163</td></tr><tr><td>training_loss</td><td>0.28088</td></tr><tr><td>validation_accuracy</td><td>0.35178</td></tr><tr><td>validation_loss</td><td>0.58902</td></tr></table><br/></div></div>"
      ],
      "text/plain": [
       "<IPython.core.display.HTML object>"
      ]
     },
     "metadata": {},
     "output_type": "display_data"
    },
    {
     "data": {
      "text/html": [
       " View run <strong style=\"color:#cdcd00\">ATT_YES_EP_5_CELL_LSTM_EMB_256_ENC_2_DEC_3_FC_512_DRP_0.4_BS_128_BIDIREC_NO</strong> at: <a href='https://wandb.ai/cs24m015-indian-institute-of-technology-madras/Debasmita-DA6401-Assignment-3/runs/ju8hdhzy' target=\"_blank\">https://wandb.ai/cs24m015-indian-institute-of-technology-madras/Debasmita-DA6401-Assignment-3/runs/ju8hdhzy</a><br> View project at: <a href='https://wandb.ai/cs24m015-indian-institute-of-technology-madras/Debasmita-DA6401-Assignment-3' target=\"_blank\">https://wandb.ai/cs24m015-indian-institute-of-technology-madras/Debasmita-DA6401-Assignment-3</a><br>Synced 5 W&B file(s), 0 media file(s), 0 artifact file(s) and 0 other file(s)"
      ],
      "text/plain": [
       "<IPython.core.display.HTML object>"
      ]
     },
     "metadata": {},
     "output_type": "display_data"
    },
    {
     "data": {
      "text/html": [
       "Find logs at: <code>./wandb/run-20250516_225324-ju8hdhzy/logs</code>"
      ],
      "text/plain": [
       "<IPython.core.display.HTML object>"
      ]
     },
     "metadata": {},
     "output_type": "display_data"
    },
    {
     "name": "stderr",
     "output_type": "stream",
     "text": [
      "\u001b[34m\u001b[1mwandb\u001b[0m: Agent Starting Run: 4jllh5ug with config:\n",
      "\u001b[34m\u001b[1mwandb\u001b[0m: \tbatch_size: 128\n",
      "\u001b[34m\u001b[1mwandb\u001b[0m: \tbidirectional: NO\n",
      "\u001b[34m\u001b[1mwandb\u001b[0m: \tcell_type: LSTM\n",
      "\u001b[34m\u001b[1mwandb\u001b[0m: \tdecoder_layers: 2\n",
      "\u001b[34m\u001b[1mwandb\u001b[0m: \tdropout: 0.2\n",
      "\u001b[34m\u001b[1mwandb\u001b[0m: \tembedding_size: 64\n",
      "\u001b[34m\u001b[1mwandb\u001b[0m: \tencoder_layers: 2\n",
      "\u001b[34m\u001b[1mwandb\u001b[0m: \tepochs: 5\n",
      "\u001b[34m\u001b[1mwandb\u001b[0m: \tneurons_in_fc: 512\n"
     ]
    },
    {
     "data": {
      "text/html": [
       "Ignoring project 'Debasmita-DA6401-Assignment-3' when running a sweep."
      ],
      "text/plain": [
       "<IPython.core.display.HTML object>"
      ]
     },
     "metadata": {},
     "output_type": "display_data"
    },
    {
     "data": {
      "text/html": [
       "Tracking run with wandb version 0.19.9"
      ],
      "text/plain": [
       "<IPython.core.display.HTML object>"
      ]
     },
     "metadata": {},
     "output_type": "display_data"
    },
    {
     "data": {
      "text/html": [
       "Run data is saved locally in <code>/kaggle/working/wandb/run-20250516_230427-4jllh5ug</code>"
      ],
      "text/plain": [
       "<IPython.core.display.HTML object>"
      ]
     },
     "metadata": {},
     "output_type": "display_data"
    },
    {
     "data": {
      "text/html": [
       "Syncing run <strong><a href='https://wandb.ai/cs24m015-indian-institute-of-technology-madras/Debasmita-DA6401-Assignment-3/runs/4jllh5ug' target=\"_blank\">dainty-sweep-21</a></strong> to <a href='https://wandb.ai/cs24m015-indian-institute-of-technology-madras/Debasmita-DA6401-Assignment-3' target=\"_blank\">Weights & Biases</a> (<a href='https://wandb.me/developer-guide' target=\"_blank\">docs</a>)<br>Sweep page: <a href='https://wandb.ai/cs24m015-indian-institute-of-technology-madras/Debasmita-DA6401-Assignment-3/sweeps/hbfj1wi7' target=\"_blank\">https://wandb.ai/cs24m015-indian-institute-of-technology-madras/Debasmita-DA6401-Assignment-3/sweeps/hbfj1wi7</a>"
      ],
      "text/plain": [
       "<IPython.core.display.HTML object>"
      ]
     },
     "metadata": {},
     "output_type": "display_data"
    },
    {
     "data": {
      "text/html": [
       " View project at <a href='https://wandb.ai/cs24m015-indian-institute-of-technology-madras/Debasmita-DA6401-Assignment-3' target=\"_blank\">https://wandb.ai/cs24m015-indian-institute-of-technology-madras/Debasmita-DA6401-Assignment-3</a>"
      ],
      "text/plain": [
       "<IPython.core.display.HTML object>"
      ]
     },
     "metadata": {},
     "output_type": "display_data"
    },
    {
     "data": {
      "text/html": [
       " View sweep at <a href='https://wandb.ai/cs24m015-indian-institute-of-technology-madras/Debasmita-DA6401-Assignment-3/sweeps/hbfj1wi7' target=\"_blank\">https://wandb.ai/cs24m015-indian-institute-of-technology-madras/Debasmita-DA6401-Assignment-3/sweeps/hbfj1wi7</a>"
      ],
      "text/plain": [
       "<IPython.core.display.HTML object>"
      ]
     },
     "metadata": {},
     "output_type": "display_data"
    },
    {
     "data": {
      "text/html": [
       " View run at <a href='https://wandb.ai/cs24m015-indian-institute-of-technology-madras/Debasmita-DA6401-Assignment-3/runs/4jllh5ug' target=\"_blank\">https://wandb.ai/cs24m015-indian-institute-of-technology-madras/Debasmita-DA6401-Assignment-3/runs/4jllh5ug</a>"
      ],
      "text/plain": [
       "<IPython.core.display.HTML object>"
      ]
     },
     "metadata": {},
     "output_type": "display_data"
    },
    {
     "name": "stdout",
     "output_type": "stream",
     "text": [
      "run name = ATT_YES_EP_5_CELL_LSTM_EMB_64_ENC_2_DEC_2_FC_512_DRP_0.2_BS_128_BIDIREC_NO\n",
      "\n",
      "===================================================================================================================\n",
      "Epoch : 1\n",
      "Training Accuracy : 0.27661958728010827\n",
      "Validation Accuracy : 0.2246361301369863\n",
      "Training Loss : 0.4819064667002274\n",
      "Validation Loss : 0.6512355432934958\n",
      "\n",
      "===================================================================================================================\n",
      "Epoch : 2\n",
      "Training Accuracy : 0.4048439614343708\n",
      "Validation Accuracy : 0.2923801369863014\n",
      "Training Loss : 0.39270768513214926\n",
      "Validation Loss : 0.6040640473365784\n",
      "\n",
      "===================================================================================================================\n",
      "Epoch : 3\n",
      "Training Accuracy : 0.5076856393775372\n",
      "Validation Accuracy : 0.3217037671232877\n",
      "Training Loss : 0.3070302395117299\n",
      "Validation Loss : 0.5893994341157887\n",
      "\n",
      "===================================================================================================================\n",
      "Epoch : 4\n",
      "Training Accuracy : 0.5988455683355887\n",
      "Validation Accuracy : 0.343214897260274\n",
      "Training Loss : 0.25666738855016086\n",
      "Validation Loss : 0.6349430002578317\n",
      "\n",
      "===================================================================================================================\n",
      "Epoch : 5\n",
      "Training Accuracy : 0.6745179296346414\n",
      "Validation Accuracy : 0.3623715753424658\n",
      "Training Loss : 0.19610557928983832\n",
      "Validation Loss : 0.6094350541291171\n"
     ]
    },
    {
     "data": {
      "text/html": [],
      "text/plain": [
       "<IPython.core.display.HTML object>"
      ]
     },
     "metadata": {},
     "output_type": "display_data"
    },
    {
     "data": {
      "text/html": [
       "<br>    <style><br>        .wandb-row {<br>            display: flex;<br>            flex-direction: row;<br>            flex-wrap: wrap;<br>            justify-content: flex-start;<br>            width: 100%;<br>        }<br>        .wandb-col {<br>            display: flex;<br>            flex-direction: column;<br>            flex-basis: 100%;<br>            flex: 1;<br>            padding: 10px;<br>        }<br>    </style><br><div class=\"wandb-row\"><div class=\"wandb-col\"><h3>Run history:</h3><br/><table class=\"wandb\"><tr><td>Epoch</td><td>▁▃▅▆█</td></tr><tr><td>training_accuracy</td><td>▁▃▅▇█</td></tr><tr><td>training_loss</td><td>█▆▄▂▁</td></tr><tr><td>validation_accuracy</td><td>▁▄▆▇█</td></tr><tr><td>validation_loss</td><td>█▃▁▆▃</td></tr></table><br/></div><div class=\"wandb-col\"><h3>Run summary:</h3><br/><table class=\"wandb\"><tr><td>Epoch</td><td>5</td></tr><tr><td>training_accuracy</td><td>0.67452</td></tr><tr><td>training_loss</td><td>0.19611</td></tr><tr><td>validation_accuracy</td><td>0.36237</td></tr><tr><td>validation_loss</td><td>0.60944</td></tr></table><br/></div></div>"
      ],
      "text/plain": [
       "<IPython.core.display.HTML object>"
      ]
     },
     "metadata": {},
     "output_type": "display_data"
    },
    {
     "data": {
      "text/html": [
       " View run <strong style=\"color:#cdcd00\">ATT_YES_EP_5_CELL_LSTM_EMB_64_ENC_2_DEC_2_FC_512_DRP_0.2_BS_128_BIDIREC_NO</strong> at: <a href='https://wandb.ai/cs24m015-indian-institute-of-technology-madras/Debasmita-DA6401-Assignment-3/runs/4jllh5ug' target=\"_blank\">https://wandb.ai/cs24m015-indian-institute-of-technology-madras/Debasmita-DA6401-Assignment-3/runs/4jllh5ug</a><br> View project at: <a href='https://wandb.ai/cs24m015-indian-institute-of-technology-madras/Debasmita-DA6401-Assignment-3' target=\"_blank\">https://wandb.ai/cs24m015-indian-institute-of-technology-madras/Debasmita-DA6401-Assignment-3</a><br>Synced 5 W&B file(s), 0 media file(s), 0 artifact file(s) and 0 other file(s)"
      ],
      "text/plain": [
       "<IPython.core.display.HTML object>"
      ]
     },
     "metadata": {},
     "output_type": "display_data"
    },
    {
     "data": {
      "text/html": [
       "Find logs at: <code>./wandb/run-20250516_230427-4jllh5ug/logs</code>"
      ],
      "text/plain": [
       "<IPython.core.display.HTML object>"
      ]
     },
     "metadata": {},
     "output_type": "display_data"
    },
    {
     "name": "stderr",
     "output_type": "stream",
     "text": [
      "\u001b[34m\u001b[1mwandb\u001b[0m: Sweep Agent: Waiting for job.\n",
      "\u001b[34m\u001b[1mwandb\u001b[0m: Job received.\n",
      "\u001b[34m\u001b[1mwandb\u001b[0m: Agent Starting Run: azoty94y with config:\n",
      "\u001b[34m\u001b[1mwandb\u001b[0m: \tbatch_size: 128\n",
      "\u001b[34m\u001b[1mwandb\u001b[0m: \tbidirectional: NO\n",
      "\u001b[34m\u001b[1mwandb\u001b[0m: \tcell_type: LSTM\n",
      "\u001b[34m\u001b[1mwandb\u001b[0m: \tdecoder_layers: 3\n",
      "\u001b[34m\u001b[1mwandb\u001b[0m: \tdropout: 0.2\n",
      "\u001b[34m\u001b[1mwandb\u001b[0m: \tembedding_size: 16\n",
      "\u001b[34m\u001b[1mwandb\u001b[0m: \tencoder_layers: 1\n",
      "\u001b[34m\u001b[1mwandb\u001b[0m: \tepochs: 5\n",
      "\u001b[34m\u001b[1mwandb\u001b[0m: \tneurons_in_fc: 256\n"
     ]
    },
    {
     "data": {
      "text/html": [
       "Ignoring project 'Debasmita-DA6401-Assignment-3' when running a sweep."
      ],
      "text/plain": [
       "<IPython.core.display.HTML object>"
      ]
     },
     "metadata": {},
     "output_type": "display_data"
    },
    {
     "data": {
      "text/html": [
       "Tracking run with wandb version 0.19.9"
      ],
      "text/plain": [
       "<IPython.core.display.HTML object>"
      ]
     },
     "metadata": {},
     "output_type": "display_data"
    },
    {
     "data": {
      "text/html": [
       "Run data is saved locally in <code>/kaggle/working/wandb/run-20250516_231343-azoty94y</code>"
      ],
      "text/plain": [
       "<IPython.core.display.HTML object>"
      ]
     },
     "metadata": {},
     "output_type": "display_data"
    },
    {
     "data": {
      "text/html": [
       "Syncing run <strong><a href='https://wandb.ai/cs24m015-indian-institute-of-technology-madras/Debasmita-DA6401-Assignment-3/runs/azoty94y' target=\"_blank\">soft-sweep-22</a></strong> to <a href='https://wandb.ai/cs24m015-indian-institute-of-technology-madras/Debasmita-DA6401-Assignment-3' target=\"_blank\">Weights & Biases</a> (<a href='https://wandb.me/developer-guide' target=\"_blank\">docs</a>)<br>Sweep page: <a href='https://wandb.ai/cs24m015-indian-institute-of-technology-madras/Debasmita-DA6401-Assignment-3/sweeps/hbfj1wi7' target=\"_blank\">https://wandb.ai/cs24m015-indian-institute-of-technology-madras/Debasmita-DA6401-Assignment-3/sweeps/hbfj1wi7</a>"
      ],
      "text/plain": [
       "<IPython.core.display.HTML object>"
      ]
     },
     "metadata": {},
     "output_type": "display_data"
    },
    {
     "data": {
      "text/html": [
       " View project at <a href='https://wandb.ai/cs24m015-indian-institute-of-technology-madras/Debasmita-DA6401-Assignment-3' target=\"_blank\">https://wandb.ai/cs24m015-indian-institute-of-technology-madras/Debasmita-DA6401-Assignment-3</a>"
      ],
      "text/plain": [
       "<IPython.core.display.HTML object>"
      ]
     },
     "metadata": {},
     "output_type": "display_data"
    },
    {
     "data": {
      "text/html": [
       " View sweep at <a href='https://wandb.ai/cs24m015-indian-institute-of-technology-madras/Debasmita-DA6401-Assignment-3/sweeps/hbfj1wi7' target=\"_blank\">https://wandb.ai/cs24m015-indian-institute-of-technology-madras/Debasmita-DA6401-Assignment-3/sweeps/hbfj1wi7</a>"
      ],
      "text/plain": [
       "<IPython.core.display.HTML object>"
      ]
     },
     "metadata": {},
     "output_type": "display_data"
    },
    {
     "data": {
      "text/html": [
       " View run at <a href='https://wandb.ai/cs24m015-indian-institute-of-technology-madras/Debasmita-DA6401-Assignment-3/runs/azoty94y' target=\"_blank\">https://wandb.ai/cs24m015-indian-institute-of-technology-madras/Debasmita-DA6401-Assignment-3/runs/azoty94y</a>"
      ],
      "text/plain": [
       "<IPython.core.display.HTML object>"
      ]
     },
     "metadata": {},
     "output_type": "display_data"
    },
    {
     "name": "stdout",
     "output_type": "stream",
     "text": [
      "run name = ATT_YES_EP_5_CELL_LSTM_EMB_16_ENC_1_DEC_3_FC_256_DRP_0.2_BS_128_BIDIREC_NO\n",
      "\n",
      "===================================================================================================================\n",
      "Epoch : 1\n",
      "Training Accuracy : 0.0332797699594046\n",
      "Validation Accuracy : 0.03392551369863014\n",
      "Training Loss : 0.7557430992429731\n",
      "Validation Loss : 0.9266114520700011\n",
      "\n",
      "===================================================================================================================\n",
      "Epoch : 2\n",
      "Training Accuracy : 0.18846202638700948\n",
      "Validation Accuracy : 0.1542166095890411\n",
      "Training Loss : 0.539908448680328\n",
      "Validation Loss : 0.7299585579192802\n",
      "\n",
      "===================================================================================================================\n",
      "Epoch : 3\n",
      "Training Accuracy : 0.29037339309878213\n",
      "Validation Accuracy : 0.2221746575342466\n",
      "Training Loss : 0.4722196642858895\n",
      "Validation Loss : 0.6952958115159649\n",
      "\n",
      "===================================================================================================================\n",
      "Epoch : 4\n",
      "Training Accuracy : 0.3711730378890392\n",
      "Validation Accuracy : 0.24860873287671234\n",
      "Training Loss : 0.3857286851122189\n",
      "Validation Loss : 0.6392946904652739\n",
      "\n",
      "===================================================================================================================\n",
      "Epoch : 5\n",
      "Training Accuracy : 0.43828230717185385\n",
      "Validation Accuracy : 0.2827482876712329\n",
      "Training Loss : 0.34598839956465527\n",
      "Validation Loss : 0.6415067090563578\n"
     ]
    },
    {
     "data": {
      "text/html": [],
      "text/plain": [
       "<IPython.core.display.HTML object>"
      ]
     },
     "metadata": {},
     "output_type": "display_data"
    },
    {
     "data": {
      "text/html": [
       "<br>    <style><br>        .wandb-row {<br>            display: flex;<br>            flex-direction: row;<br>            flex-wrap: wrap;<br>            justify-content: flex-start;<br>            width: 100%;<br>        }<br>        .wandb-col {<br>            display: flex;<br>            flex-direction: column;<br>            flex-basis: 100%;<br>            flex: 1;<br>            padding: 10px;<br>        }<br>    </style><br><div class=\"wandb-row\"><div class=\"wandb-col\"><h3>Run history:</h3><br/><table class=\"wandb\"><tr><td>Epoch</td><td>▁▃▅▆█</td></tr><tr><td>training_accuracy</td><td>▁▄▅▇█</td></tr><tr><td>training_loss</td><td>█▄▃▂▁</td></tr><tr><td>validation_accuracy</td><td>▁▄▆▇█</td></tr><tr><td>validation_loss</td><td>█▃▂▁▁</td></tr></table><br/></div><div class=\"wandb-col\"><h3>Run summary:</h3><br/><table class=\"wandb\"><tr><td>Epoch</td><td>5</td></tr><tr><td>training_accuracy</td><td>0.43828</td></tr><tr><td>training_loss</td><td>0.34599</td></tr><tr><td>validation_accuracy</td><td>0.28275</td></tr><tr><td>validation_loss</td><td>0.64151</td></tr></table><br/></div></div>"
      ],
      "text/plain": [
       "<IPython.core.display.HTML object>"
      ]
     },
     "metadata": {},
     "output_type": "display_data"
    },
    {
     "data": {
      "text/html": [
       " View run <strong style=\"color:#cdcd00\">ATT_YES_EP_5_CELL_LSTM_EMB_16_ENC_1_DEC_3_FC_256_DRP_0.2_BS_128_BIDIREC_NO</strong> at: <a href='https://wandb.ai/cs24m015-indian-institute-of-technology-madras/Debasmita-DA6401-Assignment-3/runs/azoty94y' target=\"_blank\">https://wandb.ai/cs24m015-indian-institute-of-technology-madras/Debasmita-DA6401-Assignment-3/runs/azoty94y</a><br> View project at: <a href='https://wandb.ai/cs24m015-indian-institute-of-technology-madras/Debasmita-DA6401-Assignment-3' target=\"_blank\">https://wandb.ai/cs24m015-indian-institute-of-technology-madras/Debasmita-DA6401-Assignment-3</a><br>Synced 5 W&B file(s), 0 media file(s), 0 artifact file(s) and 0 other file(s)"
      ],
      "text/plain": [
       "<IPython.core.display.HTML object>"
      ]
     },
     "metadata": {},
     "output_type": "display_data"
    },
    {
     "data": {
      "text/html": [
       "Find logs at: <code>./wandb/run-20250516_231343-azoty94y/logs</code>"
      ],
      "text/plain": [
       "<IPython.core.display.HTML object>"
      ]
     },
     "metadata": {},
     "output_type": "display_data"
    },
    {
     "name": "stderr",
     "output_type": "stream",
     "text": [
      "\u001b[34m\u001b[1mwandb\u001b[0m: Agent Starting Run: fcnzho0g with config:\n",
      "\u001b[34m\u001b[1mwandb\u001b[0m: \tbatch_size: 128\n",
      "\u001b[34m\u001b[1mwandb\u001b[0m: \tbidirectional: NO\n",
      "\u001b[34m\u001b[1mwandb\u001b[0m: \tcell_type: GRU\n",
      "\u001b[34m\u001b[1mwandb\u001b[0m: \tdecoder_layers: 3\n",
      "\u001b[34m\u001b[1mwandb\u001b[0m: \tdropout: 0.4\n",
      "\u001b[34m\u001b[1mwandb\u001b[0m: \tembedding_size: 128\n",
      "\u001b[34m\u001b[1mwandb\u001b[0m: \tencoder_layers: 3\n",
      "\u001b[34m\u001b[1mwandb\u001b[0m: \tepochs: 5\n",
      "\u001b[34m\u001b[1mwandb\u001b[0m: \tneurons_in_fc: 256\n"
     ]
    },
    {
     "data": {
      "text/html": [
       "Ignoring project 'Debasmita-DA6401-Assignment-3' when running a sweep."
      ],
      "text/plain": [
       "<IPython.core.display.HTML object>"
      ]
     },
     "metadata": {},
     "output_type": "display_data"
    },
    {
     "data": {
      "text/html": [
       "Tracking run with wandb version 0.19.9"
      ],
      "text/plain": [
       "<IPython.core.display.HTML object>"
      ]
     },
     "metadata": {},
     "output_type": "display_data"
    },
    {
     "data": {
      "text/html": [
       "Run data is saved locally in <code>/kaggle/working/wandb/run-20250516_231958-fcnzho0g</code>"
      ],
      "text/plain": [
       "<IPython.core.display.HTML object>"
      ]
     },
     "metadata": {},
     "output_type": "display_data"
    },
    {
     "data": {
      "text/html": [
       "Syncing run <strong><a href='https://wandb.ai/cs24m015-indian-institute-of-technology-madras/Debasmita-DA6401-Assignment-3/runs/fcnzho0g' target=\"_blank\">different-sweep-23</a></strong> to <a href='https://wandb.ai/cs24m015-indian-institute-of-technology-madras/Debasmita-DA6401-Assignment-3' target=\"_blank\">Weights & Biases</a> (<a href='https://wandb.me/developer-guide' target=\"_blank\">docs</a>)<br>Sweep page: <a href='https://wandb.ai/cs24m015-indian-institute-of-technology-madras/Debasmita-DA6401-Assignment-3/sweeps/hbfj1wi7' target=\"_blank\">https://wandb.ai/cs24m015-indian-institute-of-technology-madras/Debasmita-DA6401-Assignment-3/sweeps/hbfj1wi7</a>"
      ],
      "text/plain": [
       "<IPython.core.display.HTML object>"
      ]
     },
     "metadata": {},
     "output_type": "display_data"
    },
    {
     "data": {
      "text/html": [
       " View project at <a href='https://wandb.ai/cs24m015-indian-institute-of-technology-madras/Debasmita-DA6401-Assignment-3' target=\"_blank\">https://wandb.ai/cs24m015-indian-institute-of-technology-madras/Debasmita-DA6401-Assignment-3</a>"
      ],
      "text/plain": [
       "<IPython.core.display.HTML object>"
      ]
     },
     "metadata": {},
     "output_type": "display_data"
    },
    {
     "data": {
      "text/html": [
       " View sweep at <a href='https://wandb.ai/cs24m015-indian-institute-of-technology-madras/Debasmita-DA6401-Assignment-3/sweeps/hbfj1wi7' target=\"_blank\">https://wandb.ai/cs24m015-indian-institute-of-technology-madras/Debasmita-DA6401-Assignment-3/sweeps/hbfj1wi7</a>"
      ],
      "text/plain": [
       "<IPython.core.display.HTML object>"
      ]
     },
     "metadata": {},
     "output_type": "display_data"
    },
    {
     "data": {
      "text/html": [
       " View run at <a href='https://wandb.ai/cs24m015-indian-institute-of-technology-madras/Debasmita-DA6401-Assignment-3/runs/fcnzho0g' target=\"_blank\">https://wandb.ai/cs24m015-indian-institute-of-technology-madras/Debasmita-DA6401-Assignment-3/runs/fcnzho0g</a>"
      ],
      "text/plain": [
       "<IPython.core.display.HTML object>"
      ]
     },
     "metadata": {},
     "output_type": "display_data"
    },
    {
     "name": "stdout",
     "output_type": "stream",
     "text": [
      "run name = ATT_YES_EP_5_CELL_GRU_EMB_128_ENC_3_DEC_3_FC_256_DRP_0.4_BS_128_BIDIREC_NO\n",
      "\n",
      "===================================================================================================================\n",
      "Epoch : 1\n",
      "Training Accuracy : 0.2184434201623816\n",
      "Validation Accuracy : 0.1797945205479452\n",
      "Training Loss : 0.521990729281641\n",
      "Validation Loss : 0.6894558423186001\n",
      "\n",
      "===================================================================================================================\n",
      "Epoch : 2\n",
      "Training Accuracy : 0.32381173883626524\n",
      "Validation Accuracy : 0.2533176369863014\n",
      "Training Loss : 0.47777404409300167\n",
      "Validation Loss : 0.675033355004167\n",
      "\n",
      "===================================================================================================================\n",
      "Epoch : 3\n",
      "Training Accuracy : 0.3806558694181326\n",
      "Validation Accuracy : 0.2794306506849315\n",
      "Training Loss : 0.41741015543311794\n",
      "Validation Loss : 0.6399159100774217\n",
      "\n",
      "===================================================================================================================\n",
      "Epoch : 4\n",
      "Training Accuracy : 0.43695027063599456\n",
      "Validation Accuracy : 0.3004066780821918\n",
      "Training Loss : 0.3554940222282371\n",
      "Validation Loss : 0.605928797836173\n",
      "\n",
      "===================================================================================================================\n",
      "Epoch : 5\n",
      "Training Accuracy : 0.4572796853856563\n",
      "Validation Accuracy : 0.2989083904109589\n",
      "Training Loss : 0.3685929116078417\n",
      "Validation Loss : 0.6411932731327945\n"
     ]
    },
    {
     "data": {
      "text/html": [],
      "text/plain": [
       "<IPython.core.display.HTML object>"
      ]
     },
     "metadata": {},
     "output_type": "display_data"
    },
    {
     "data": {
      "text/html": [
       "<br>    <style><br>        .wandb-row {<br>            display: flex;<br>            flex-direction: row;<br>            flex-wrap: wrap;<br>            justify-content: flex-start;<br>            width: 100%;<br>        }<br>        .wandb-col {<br>            display: flex;<br>            flex-direction: column;<br>            flex-basis: 100%;<br>            flex: 1;<br>            padding: 10px;<br>        }<br>    </style><br><div class=\"wandb-row\"><div class=\"wandb-col\"><h3>Run history:</h3><br/><table class=\"wandb\"><tr><td>Epoch</td><td>▁▃▅▆█</td></tr><tr><td>training_accuracy</td><td>▁▄▆▇█</td></tr><tr><td>training_loss</td><td>█▆▄▁▂</td></tr><tr><td>validation_accuracy</td><td>▁▅▇██</td></tr><tr><td>validation_loss</td><td>█▇▄▁▄</td></tr></table><br/></div><div class=\"wandb-col\"><h3>Run summary:</h3><br/><table class=\"wandb\"><tr><td>Epoch</td><td>5</td></tr><tr><td>training_accuracy</td><td>0.45728</td></tr><tr><td>training_loss</td><td>0.36859</td></tr><tr><td>validation_accuracy</td><td>0.29891</td></tr><tr><td>validation_loss</td><td>0.64119</td></tr></table><br/></div></div>"
      ],
      "text/plain": [
       "<IPython.core.display.HTML object>"
      ]
     },
     "metadata": {},
     "output_type": "display_data"
    },
    {
     "data": {
      "text/html": [
       " View run <strong style=\"color:#cdcd00\">ATT_YES_EP_5_CELL_GRU_EMB_128_ENC_3_DEC_3_FC_256_DRP_0.4_BS_128_BIDIREC_NO</strong> at: <a href='https://wandb.ai/cs24m015-indian-institute-of-technology-madras/Debasmita-DA6401-Assignment-3/runs/fcnzho0g' target=\"_blank\">https://wandb.ai/cs24m015-indian-institute-of-technology-madras/Debasmita-DA6401-Assignment-3/runs/fcnzho0g</a><br> View project at: <a href='https://wandb.ai/cs24m015-indian-institute-of-technology-madras/Debasmita-DA6401-Assignment-3' target=\"_blank\">https://wandb.ai/cs24m015-indian-institute-of-technology-madras/Debasmita-DA6401-Assignment-3</a><br>Synced 5 W&B file(s), 0 media file(s), 0 artifact file(s) and 0 other file(s)"
      ],
      "text/plain": [
       "<IPython.core.display.HTML object>"
      ]
     },
     "metadata": {},
     "output_type": "display_data"
    },
    {
     "data": {
      "text/html": [
       "Find logs at: <code>./wandb/run-20250516_231958-fcnzho0g/logs</code>"
      ],
      "text/plain": [
       "<IPython.core.display.HTML object>"
      ]
     },
     "metadata": {},
     "output_type": "display_data"
    },
    {
     "name": "stderr",
     "output_type": "stream",
     "text": [
      "\u001b[34m\u001b[1mwandb\u001b[0m: Agent Starting Run: osr3tpau with config:\n",
      "\u001b[34m\u001b[1mwandb\u001b[0m: \tbatch_size: 128\n",
      "\u001b[34m\u001b[1mwandb\u001b[0m: \tbidirectional: NO\n",
      "\u001b[34m\u001b[1mwandb\u001b[0m: \tcell_type: LSTM\n",
      "\u001b[34m\u001b[1mwandb\u001b[0m: \tdecoder_layers: 2\n",
      "\u001b[34m\u001b[1mwandb\u001b[0m: \tdropout: 0.4\n",
      "\u001b[34m\u001b[1mwandb\u001b[0m: \tembedding_size: 256\n",
      "\u001b[34m\u001b[1mwandb\u001b[0m: \tencoder_layers: 1\n",
      "\u001b[34m\u001b[1mwandb\u001b[0m: \tepochs: 5\n",
      "\u001b[34m\u001b[1mwandb\u001b[0m: \tneurons_in_fc: 128\n"
     ]
    },
    {
     "data": {
      "text/html": [
       "Ignoring project 'Debasmita-DA6401-Assignment-3' when running a sweep."
      ],
      "text/plain": [
       "<IPython.core.display.HTML object>"
      ]
     },
     "metadata": {},
     "output_type": "display_data"
    },
    {
     "data": {
      "text/html": [
       "Tracking run with wandb version 0.19.9"
      ],
      "text/plain": [
       "<IPython.core.display.HTML object>"
      ]
     },
     "metadata": {},
     "output_type": "display_data"
    },
    {
     "data": {
      "text/html": [
       "Run data is saved locally in <code>/kaggle/working/wandb/run-20250516_232618-osr3tpau</code>"
      ],
      "text/plain": [
       "<IPython.core.display.HTML object>"
      ]
     },
     "metadata": {},
     "output_type": "display_data"
    },
    {
     "data": {
      "text/html": [
       "Syncing run <strong><a href='https://wandb.ai/cs24m015-indian-institute-of-technology-madras/Debasmita-DA6401-Assignment-3/runs/osr3tpau' target=\"_blank\">pious-sweep-24</a></strong> to <a href='https://wandb.ai/cs24m015-indian-institute-of-technology-madras/Debasmita-DA6401-Assignment-3' target=\"_blank\">Weights & Biases</a> (<a href='https://wandb.me/developer-guide' target=\"_blank\">docs</a>)<br>Sweep page: <a href='https://wandb.ai/cs24m015-indian-institute-of-technology-madras/Debasmita-DA6401-Assignment-3/sweeps/hbfj1wi7' target=\"_blank\">https://wandb.ai/cs24m015-indian-institute-of-technology-madras/Debasmita-DA6401-Assignment-3/sweeps/hbfj1wi7</a>"
      ],
      "text/plain": [
       "<IPython.core.display.HTML object>"
      ]
     },
     "metadata": {},
     "output_type": "display_data"
    },
    {
     "data": {
      "text/html": [
       " View project at <a href='https://wandb.ai/cs24m015-indian-institute-of-technology-madras/Debasmita-DA6401-Assignment-3' target=\"_blank\">https://wandb.ai/cs24m015-indian-institute-of-technology-madras/Debasmita-DA6401-Assignment-3</a>"
      ],
      "text/plain": [
       "<IPython.core.display.HTML object>"
      ]
     },
     "metadata": {},
     "output_type": "display_data"
    },
    {
     "data": {
      "text/html": [
       " View sweep at <a href='https://wandb.ai/cs24m015-indian-institute-of-technology-madras/Debasmita-DA6401-Assignment-3/sweeps/hbfj1wi7' target=\"_blank\">https://wandb.ai/cs24m015-indian-institute-of-technology-madras/Debasmita-DA6401-Assignment-3/sweeps/hbfj1wi7</a>"
      ],
      "text/plain": [
       "<IPython.core.display.HTML object>"
      ]
     },
     "metadata": {},
     "output_type": "display_data"
    },
    {
     "data": {
      "text/html": [
       " View run at <a href='https://wandb.ai/cs24m015-indian-institute-of-technology-madras/Debasmita-DA6401-Assignment-3/runs/osr3tpau' target=\"_blank\">https://wandb.ai/cs24m015-indian-institute-of-technology-madras/Debasmita-DA6401-Assignment-3/runs/osr3tpau</a>"
      ],
      "text/plain": [
       "<IPython.core.display.HTML object>"
      ]
     },
     "metadata": {},
     "output_type": "display_data"
    },
    {
     "name": "stdout",
     "output_type": "stream",
     "text": [
      "run name = ATT_YES_EP_5_CELL_LSTM_EMB_256_ENC_1_DEC_2_FC_128_DRP_0.4_BS_128_BIDIREC_NO\n",
      "\n",
      "===================================================================================================================\n",
      "Epoch : 1\n",
      "Training Accuracy : 0.16668428619756429\n",
      "Validation Accuracy : 0.1484375\n",
      "Training Loss : 0.5677837664122833\n",
      "Validation Loss : 0.722031878281946\n",
      "\n",
      "===================================================================================================================\n",
      "Epoch : 2\n",
      "Training Accuracy : 0.24168005751014884\n",
      "Validation Accuracy : 0.19424229452054795\n",
      "Training Loss : 0.4918299232671322\n",
      "Validation Loss : 0.6874523158759287\n",
      "\n",
      "===================================================================================================================\n",
      "Epoch : 3\n",
      "Training Accuracy : 0.298651048714479\n",
      "Validation Accuracy : 0.22153253424657535\n",
      "Training Loss : 0.45849334858912416\n",
      "Validation Loss : 0.6794563421647842\n",
      "\n",
      "===================================================================================================================\n",
      "Epoch : 4\n",
      "Training Accuracy : 0.3284950101488498\n",
      "Validation Accuracy : 0.2387628424657534\n",
      "Training Loss : 0.44644607988681456\n",
      "Validation Loss : 0.676789936545777\n",
      "\n",
      "===================================================================================================================\n",
      "Epoch : 5\n",
      "Training Accuracy : 0.37033787212449254\n",
      "Validation Accuracy : 0.258347602739726\n",
      "Training Loss : 0.40462271330805044\n",
      "Validation Loss : 0.6498109016516437\n"
     ]
    },
    {
     "data": {
      "text/html": [],
      "text/plain": [
       "<IPython.core.display.HTML object>"
      ]
     },
     "metadata": {},
     "output_type": "display_data"
    },
    {
     "data": {
      "text/html": [
       "<br>    <style><br>        .wandb-row {<br>            display: flex;<br>            flex-direction: row;<br>            flex-wrap: wrap;<br>            justify-content: flex-start;<br>            width: 100%;<br>        }<br>        .wandb-col {<br>            display: flex;<br>            flex-direction: column;<br>            flex-basis: 100%;<br>            flex: 1;<br>            padding: 10px;<br>        }<br>    </style><br><div class=\"wandb-row\"><div class=\"wandb-col\"><h3>Run history:</h3><br/><table class=\"wandb\"><tr><td>Epoch</td><td>▁▃▅▆█</td></tr><tr><td>training_accuracy</td><td>▁▄▆▇█</td></tr><tr><td>training_loss</td><td>█▅▃▃▁</td></tr><tr><td>validation_accuracy</td><td>▁▄▆▇█</td></tr><tr><td>validation_loss</td><td>█▅▄▄▁</td></tr></table><br/></div><div class=\"wandb-col\"><h3>Run summary:</h3><br/><table class=\"wandb\"><tr><td>Epoch</td><td>5</td></tr><tr><td>training_accuracy</td><td>0.37034</td></tr><tr><td>training_loss</td><td>0.40462</td></tr><tr><td>validation_accuracy</td><td>0.25835</td></tr><tr><td>validation_loss</td><td>0.64981</td></tr></table><br/></div></div>"
      ],
      "text/plain": [
       "<IPython.core.display.HTML object>"
      ]
     },
     "metadata": {},
     "output_type": "display_data"
    },
    {
     "data": {
      "text/html": [
       " View run <strong style=\"color:#cdcd00\">ATT_YES_EP_5_CELL_LSTM_EMB_256_ENC_1_DEC_2_FC_128_DRP_0.4_BS_128_BIDIREC_NO</strong> at: <a href='https://wandb.ai/cs24m015-indian-institute-of-technology-madras/Debasmita-DA6401-Assignment-3/runs/osr3tpau' target=\"_blank\">https://wandb.ai/cs24m015-indian-institute-of-technology-madras/Debasmita-DA6401-Assignment-3/runs/osr3tpau</a><br> View project at: <a href='https://wandb.ai/cs24m015-indian-institute-of-technology-madras/Debasmita-DA6401-Assignment-3' target=\"_blank\">https://wandb.ai/cs24m015-indian-institute-of-technology-madras/Debasmita-DA6401-Assignment-3</a><br>Synced 5 W&B file(s), 0 media file(s), 0 artifact file(s) and 0 other file(s)"
      ],
      "text/plain": [
       "<IPython.core.display.HTML object>"
      ]
     },
     "metadata": {},
     "output_type": "display_data"
    },
    {
     "data": {
      "text/html": [
       "Find logs at: <code>./wandb/run-20250516_232618-osr3tpau/logs</code>"
      ],
      "text/plain": [
       "<IPython.core.display.HTML object>"
      ]
     },
     "metadata": {},
     "output_type": "display_data"
    },
    {
     "name": "stderr",
     "output_type": "stream",
     "text": [
      "\u001b[34m\u001b[1mwandb\u001b[0m: Agent Starting Run: m6o8xce5 with config:\n",
      "\u001b[34m\u001b[1mwandb\u001b[0m: \tbatch_size: 128\n",
      "\u001b[34m\u001b[1mwandb\u001b[0m: \tbidirectional: NO\n",
      "\u001b[34m\u001b[1mwandb\u001b[0m: \tcell_type: RNN\n",
      "\u001b[34m\u001b[1mwandb\u001b[0m: \tdecoder_layers: 3\n",
      "\u001b[34m\u001b[1mwandb\u001b[0m: \tdropout: 0.4\n",
      "\u001b[34m\u001b[1mwandb\u001b[0m: \tembedding_size: 256\n",
      "\u001b[34m\u001b[1mwandb\u001b[0m: \tencoder_layers: 2\n",
      "\u001b[34m\u001b[1mwandb\u001b[0m: \tepochs: 5\n",
      "\u001b[34m\u001b[1mwandb\u001b[0m: \tneurons_in_fc: 256\n"
     ]
    },
    {
     "data": {
      "text/html": [
       "Ignoring project 'Debasmita-DA6401-Assignment-3' when running a sweep."
      ],
      "text/plain": [
       "<IPython.core.display.HTML object>"
      ]
     },
     "metadata": {},
     "output_type": "display_data"
    },
    {
     "data": {
      "text/html": [
       "Tracking run with wandb version 0.19.9"
      ],
      "text/plain": [
       "<IPython.core.display.HTML object>"
      ]
     },
     "metadata": {},
     "output_type": "display_data"
    },
    {
     "data": {
      "text/html": [
       "Run data is saved locally in <code>/kaggle/working/wandb/run-20250516_233213-m6o8xce5</code>"
      ],
      "text/plain": [
       "<IPython.core.display.HTML object>"
      ]
     },
     "metadata": {},
     "output_type": "display_data"
    },
    {
     "data": {
      "text/html": [
       "Syncing run <strong><a href='https://wandb.ai/cs24m015-indian-institute-of-technology-madras/Debasmita-DA6401-Assignment-3/runs/m6o8xce5' target=\"_blank\">young-sweep-25</a></strong> to <a href='https://wandb.ai/cs24m015-indian-institute-of-technology-madras/Debasmita-DA6401-Assignment-3' target=\"_blank\">Weights & Biases</a> (<a href='https://wandb.me/developer-guide' target=\"_blank\">docs</a>)<br>Sweep page: <a href='https://wandb.ai/cs24m015-indian-institute-of-technology-madras/Debasmita-DA6401-Assignment-3/sweeps/hbfj1wi7' target=\"_blank\">https://wandb.ai/cs24m015-indian-institute-of-technology-madras/Debasmita-DA6401-Assignment-3/sweeps/hbfj1wi7</a>"
      ],
      "text/plain": [
       "<IPython.core.display.HTML object>"
      ]
     },
     "metadata": {},
     "output_type": "display_data"
    },
    {
     "data": {
      "text/html": [
       " View project at <a href='https://wandb.ai/cs24m015-indian-institute-of-technology-madras/Debasmita-DA6401-Assignment-3' target=\"_blank\">https://wandb.ai/cs24m015-indian-institute-of-technology-madras/Debasmita-DA6401-Assignment-3</a>"
      ],
      "text/plain": [
       "<IPython.core.display.HTML object>"
      ]
     },
     "metadata": {},
     "output_type": "display_data"
    },
    {
     "data": {
      "text/html": [
       " View sweep at <a href='https://wandb.ai/cs24m015-indian-institute-of-technology-madras/Debasmita-DA6401-Assignment-3/sweeps/hbfj1wi7' target=\"_blank\">https://wandb.ai/cs24m015-indian-institute-of-technology-madras/Debasmita-DA6401-Assignment-3/sweeps/hbfj1wi7</a>"
      ],
      "text/plain": [
       "<IPython.core.display.HTML object>"
      ]
     },
     "metadata": {},
     "output_type": "display_data"
    },
    {
     "data": {
      "text/html": [
       " View run at <a href='https://wandb.ai/cs24m015-indian-institute-of-technology-madras/Debasmita-DA6401-Assignment-3/runs/m6o8xce5' target=\"_blank\">https://wandb.ai/cs24m015-indian-institute-of-technology-madras/Debasmita-DA6401-Assignment-3/runs/m6o8xce5</a>"
      ],
      "text/plain": [
       "<IPython.core.display.HTML object>"
      ]
     },
     "metadata": {},
     "output_type": "display_data"
    },
    {
     "name": "stdout",
     "output_type": "stream",
     "text": [
      "run name = ATT_YES_EP_5_CELL_RNN_EMB_256_ENC_2_DEC_3_FC_256_DRP_0.4_BS_128_BIDIREC_NO\n",
      "\n",
      "===================================================================================================================\n",
      "Epoch : 1\n",
      "Training Accuracy : 0.12756892760487146\n",
      "Validation Accuracy : 0.11098030821917808\n",
      "Training Loss : 0.6453205972143697\n",
      "Validation Loss : 0.7895489580010715\n",
      "\n",
      "===================================================================================================================\n",
      "Epoch : 2\n",
      "Training Accuracy : 0.17921177266576455\n",
      "Validation Accuracy : 0.14950770547945205\n",
      "Training Loss : 0.5809313031026895\n",
      "Validation Loss : 0.7271092779015842\n",
      "\n",
      "===================================================================================================================\n",
      "Epoch : 3\n",
      "Training Accuracy : 0.19772285182679297\n",
      "Validation Accuracy : 0.1740154109589041\n",
      "Training Loss : 0.5619568760243417\n",
      "Validation Loss : 0.7153281912411729\n",
      "\n",
      "===================================================================================================================\n",
      "Epoch : 4\n",
      "Training Accuracy : 0.20790341677943167\n",
      "Validation Accuracy : 0.17829623287671234\n",
      "Training Loss : 0.5621603419235498\n",
      "Validation Loss : 0.7303287468544425\n",
      "\n",
      "===================================================================================================================\n",
      "Epoch : 5\n",
      "Training Accuracy : 0.22303154600811909\n",
      "Validation Accuracy : 0.17669092465753425\n",
      "Training Loss : 0.5587380036449562\n",
      "Validation Loss : 0.7277275993399424\n"
     ]
    },
    {
     "data": {
      "text/html": [],
      "text/plain": [
       "<IPython.core.display.HTML object>"
      ]
     },
     "metadata": {},
     "output_type": "display_data"
    },
    {
     "data": {
      "text/html": [
       "<br>    <style><br>        .wandb-row {<br>            display: flex;<br>            flex-direction: row;<br>            flex-wrap: wrap;<br>            justify-content: flex-start;<br>            width: 100%;<br>        }<br>        .wandb-col {<br>            display: flex;<br>            flex-direction: column;<br>            flex-basis: 100%;<br>            flex: 1;<br>            padding: 10px;<br>        }<br>    </style><br><div class=\"wandb-row\"><div class=\"wandb-col\"><h3>Run history:</h3><br/><table class=\"wandb\"><tr><td>Epoch</td><td>▁▃▅▆█</td></tr><tr><td>training_accuracy</td><td>▁▅▆▇█</td></tr><tr><td>training_loss</td><td>█▃▁▁▁</td></tr><tr><td>validation_accuracy</td><td>▁▅███</td></tr><tr><td>validation_loss</td><td>█▂▁▂▂</td></tr></table><br/></div><div class=\"wandb-col\"><h3>Run summary:</h3><br/><table class=\"wandb\"><tr><td>Epoch</td><td>5</td></tr><tr><td>training_accuracy</td><td>0.22303</td></tr><tr><td>training_loss</td><td>0.55874</td></tr><tr><td>validation_accuracy</td><td>0.17669</td></tr><tr><td>validation_loss</td><td>0.72773</td></tr></table><br/></div></div>"
      ],
      "text/plain": [
       "<IPython.core.display.HTML object>"
      ]
     },
     "metadata": {},
     "output_type": "display_data"
    },
    {
     "data": {
      "text/html": [
       " View run <strong style=\"color:#cdcd00\">ATT_YES_EP_5_CELL_RNN_EMB_256_ENC_2_DEC_3_FC_256_DRP_0.4_BS_128_BIDIREC_NO</strong> at: <a href='https://wandb.ai/cs24m015-indian-institute-of-technology-madras/Debasmita-DA6401-Assignment-3/runs/m6o8xce5' target=\"_blank\">https://wandb.ai/cs24m015-indian-institute-of-technology-madras/Debasmita-DA6401-Assignment-3/runs/m6o8xce5</a><br> View project at: <a href='https://wandb.ai/cs24m015-indian-institute-of-technology-madras/Debasmita-DA6401-Assignment-3' target=\"_blank\">https://wandb.ai/cs24m015-indian-institute-of-technology-madras/Debasmita-DA6401-Assignment-3</a><br>Synced 5 W&B file(s), 0 media file(s), 0 artifact file(s) and 0 other file(s)"
      ],
      "text/plain": [
       "<IPython.core.display.HTML object>"
      ]
     },
     "metadata": {},
     "output_type": "display_data"
    },
    {
     "data": {
      "text/html": [
       "Find logs at: <code>./wandb/run-20250516_233213-m6o8xce5/logs</code>"
      ],
      "text/plain": [
       "<IPython.core.display.HTML object>"
      ]
     },
     "metadata": {},
     "output_type": "display_data"
    },
    {
     "name": "stderr",
     "output_type": "stream",
     "text": [
      "\u001b[34m\u001b[1mwandb\u001b[0m: Agent Starting Run: sefvkd8u with config:\n",
      "\u001b[34m\u001b[1mwandb\u001b[0m: \tbatch_size: 128\n",
      "\u001b[34m\u001b[1mwandb\u001b[0m: \tbidirectional: NO\n",
      "\u001b[34m\u001b[1mwandb\u001b[0m: \tcell_type: LSTM\n",
      "\u001b[34m\u001b[1mwandb\u001b[0m: \tdecoder_layers: 3\n",
      "\u001b[34m\u001b[1mwandb\u001b[0m: \tdropout: 0\n",
      "\u001b[34m\u001b[1mwandb\u001b[0m: \tembedding_size: 32\n",
      "\u001b[34m\u001b[1mwandb\u001b[0m: \tencoder_layers: 3\n",
      "\u001b[34m\u001b[1mwandb\u001b[0m: \tepochs: 5\n",
      "\u001b[34m\u001b[1mwandb\u001b[0m: \tneurons_in_fc: 512\n"
     ]
    },
    {
     "data": {
      "text/html": [
       "Ignoring project 'Debasmita-DA6401-Assignment-3' when running a sweep."
      ],
      "text/plain": [
       "<IPython.core.display.HTML object>"
      ]
     },
     "metadata": {},
     "output_type": "display_data"
    },
    {
     "data": {
      "text/html": [
       "Tracking run with wandb version 0.19.9"
      ],
      "text/plain": [
       "<IPython.core.display.HTML object>"
      ]
     },
     "metadata": {},
     "output_type": "display_data"
    },
    {
     "data": {
      "text/html": [
       "Run data is saved locally in <code>/kaggle/working/wandb/run-20250516_233828-sefvkd8u</code>"
      ],
      "text/plain": [
       "<IPython.core.display.HTML object>"
      ]
     },
     "metadata": {},
     "output_type": "display_data"
    },
    {
     "data": {
      "text/html": [
       "Syncing run <strong><a href='https://wandb.ai/cs24m015-indian-institute-of-technology-madras/Debasmita-DA6401-Assignment-3/runs/sefvkd8u' target=\"_blank\">eager-sweep-26</a></strong> to <a href='https://wandb.ai/cs24m015-indian-institute-of-technology-madras/Debasmita-DA6401-Assignment-3' target=\"_blank\">Weights & Biases</a> (<a href='https://wandb.me/developer-guide' target=\"_blank\">docs</a>)<br>Sweep page: <a href='https://wandb.ai/cs24m015-indian-institute-of-technology-madras/Debasmita-DA6401-Assignment-3/sweeps/hbfj1wi7' target=\"_blank\">https://wandb.ai/cs24m015-indian-institute-of-technology-madras/Debasmita-DA6401-Assignment-3/sweeps/hbfj1wi7</a>"
      ],
      "text/plain": [
       "<IPython.core.display.HTML object>"
      ]
     },
     "metadata": {},
     "output_type": "display_data"
    },
    {
     "data": {
      "text/html": [
       " View project at <a href='https://wandb.ai/cs24m015-indian-institute-of-technology-madras/Debasmita-DA6401-Assignment-3' target=\"_blank\">https://wandb.ai/cs24m015-indian-institute-of-technology-madras/Debasmita-DA6401-Assignment-3</a>"
      ],
      "text/plain": [
       "<IPython.core.display.HTML object>"
      ]
     },
     "metadata": {},
     "output_type": "display_data"
    },
    {
     "data": {
      "text/html": [
       " View sweep at <a href='https://wandb.ai/cs24m015-indian-institute-of-technology-madras/Debasmita-DA6401-Assignment-3/sweeps/hbfj1wi7' target=\"_blank\">https://wandb.ai/cs24m015-indian-institute-of-technology-madras/Debasmita-DA6401-Assignment-3/sweeps/hbfj1wi7</a>"
      ],
      "text/plain": [
       "<IPython.core.display.HTML object>"
      ]
     },
     "metadata": {},
     "output_type": "display_data"
    },
    {
     "data": {
      "text/html": [
       " View run at <a href='https://wandb.ai/cs24m015-indian-institute-of-technology-madras/Debasmita-DA6401-Assignment-3/runs/sefvkd8u' target=\"_blank\">https://wandb.ai/cs24m015-indian-institute-of-technology-madras/Debasmita-DA6401-Assignment-3/runs/sefvkd8u</a>"
      ],
      "text/plain": [
       "<IPython.core.display.HTML object>"
      ]
     },
     "metadata": {},
     "output_type": "display_data"
    },
    {
     "name": "stdout",
     "output_type": "stream",
     "text": [
      "run name = ATT_YES_EP_5_CELL_LSTM_EMB_32_ENC_3_DEC_3_FC_512_DRP_0_BS_128_BIDIREC_NO\n",
      "\n",
      "===================================================================================================================\n",
      "Epoch : 1\n",
      "Training Accuracy : 0.23279981393775373\n",
      "Validation Accuracy : 0.1991652397260274\n",
      "Training Loss : 0.4968285003276252\n",
      "Validation Loss : 0.641666538911323\n",
      "\n",
      "===================================================================================================================\n",
      "Epoch : 2\n",
      "Training Accuracy : 0.4136819181326116\n",
      "Validation Accuracy : 0.2793236301369863\n",
      "Training Loss : 0.36657778446906636\n",
      "Validation Loss : 0.608306637365524\n",
      "\n",
      "===================================================================================================================\n",
      "Epoch : 3\n",
      "Training Accuracy : 0.5486616204330176\n",
      "Validation Accuracy : 0.3381849315068493\n",
      "Training Loss : 0.2659332425370107\n",
      "Validation Loss : 0.5785519866502449\n",
      "\n",
      "===================================================================================================================\n",
      "Epoch : 4\n",
      "Training Accuracy : 0.6181600981055481\n",
      "Validation Accuracy : 0.3409674657534247\n",
      "Training Loss : 0.2244146852495706\n",
      "Validation Loss : 0.6246633278588726\n",
      "\n",
      "===================================================================================================================\n",
      "Epoch : 5\n",
      "Training Accuracy : 0.6339013870094723\n",
      "Validation Accuracy : 0.3394691780821918\n",
      "Training Loss : 0.2103402501171271\n",
      "Validation Loss : 0.6223169346786526\n"
     ]
    },
    {
     "data": {
      "text/html": [],
      "text/plain": [
       "<IPython.core.display.HTML object>"
      ]
     },
     "metadata": {},
     "output_type": "display_data"
    },
    {
     "data": {
      "text/html": [
       "<br>    <style><br>        .wandb-row {<br>            display: flex;<br>            flex-direction: row;<br>            flex-wrap: wrap;<br>            justify-content: flex-start;<br>            width: 100%;<br>        }<br>        .wandb-col {<br>            display: flex;<br>            flex-direction: column;<br>            flex-basis: 100%;<br>            flex: 1;<br>            padding: 10px;<br>        }<br>    </style><br><div class=\"wandb-row\"><div class=\"wandb-col\"><h3>Run history:</h3><br/><table class=\"wandb\"><tr><td>Epoch</td><td>▁▃▅▆█</td></tr><tr><td>training_accuracy</td><td>▁▄▇██</td></tr><tr><td>training_loss</td><td>█▅▂▁▁</td></tr><tr><td>validation_accuracy</td><td>▁▅███</td></tr><tr><td>validation_loss</td><td>█▄▁▆▆</td></tr></table><br/></div><div class=\"wandb-col\"><h3>Run summary:</h3><br/><table class=\"wandb\"><tr><td>Epoch</td><td>5</td></tr><tr><td>training_accuracy</td><td>0.6339</td></tr><tr><td>training_loss</td><td>0.21034</td></tr><tr><td>validation_accuracy</td><td>0.33947</td></tr><tr><td>validation_loss</td><td>0.62232</td></tr></table><br/></div></div>"
      ],
      "text/plain": [
       "<IPython.core.display.HTML object>"
      ]
     },
     "metadata": {},
     "output_type": "display_data"
    },
    {
     "data": {
      "text/html": [
       " View run <strong style=\"color:#cdcd00\">ATT_YES_EP_5_CELL_LSTM_EMB_32_ENC_3_DEC_3_FC_512_DRP_0_BS_128_BIDIREC_NO</strong> at: <a href='https://wandb.ai/cs24m015-indian-institute-of-technology-madras/Debasmita-DA6401-Assignment-3/runs/sefvkd8u' target=\"_blank\">https://wandb.ai/cs24m015-indian-institute-of-technology-madras/Debasmita-DA6401-Assignment-3/runs/sefvkd8u</a><br> View project at: <a href='https://wandb.ai/cs24m015-indian-institute-of-technology-madras/Debasmita-DA6401-Assignment-3' target=\"_blank\">https://wandb.ai/cs24m015-indian-institute-of-technology-madras/Debasmita-DA6401-Assignment-3</a><br>Synced 5 W&B file(s), 0 media file(s), 0 artifact file(s) and 0 other file(s)"
      ],
      "text/plain": [
       "<IPython.core.display.HTML object>"
      ]
     },
     "metadata": {},
     "output_type": "display_data"
    },
    {
     "data": {
      "text/html": [
       "Find logs at: <code>./wandb/run-20250516_233828-sefvkd8u/logs</code>"
      ],
      "text/plain": [
       "<IPython.core.display.HTML object>"
      ]
     },
     "metadata": {},
     "output_type": "display_data"
    },
    {
     "name": "stderr",
     "output_type": "stream",
     "text": [
      "\u001b[34m\u001b[1mwandb\u001b[0m: Agent Starting Run: cx1cjvwm with config:\n",
      "\u001b[34m\u001b[1mwandb\u001b[0m: \tbatch_size: 128\n",
      "\u001b[34m\u001b[1mwandb\u001b[0m: \tbidirectional: NO\n",
      "\u001b[34m\u001b[1mwandb\u001b[0m: \tcell_type: LSTM\n",
      "\u001b[34m\u001b[1mwandb\u001b[0m: \tdecoder_layers: 2\n",
      "\u001b[34m\u001b[1mwandb\u001b[0m: \tdropout: 0\n",
      "\u001b[34m\u001b[1mwandb\u001b[0m: \tembedding_size: 32\n",
      "\u001b[34m\u001b[1mwandb\u001b[0m: \tencoder_layers: 2\n",
      "\u001b[34m\u001b[1mwandb\u001b[0m: \tepochs: 5\n",
      "\u001b[34m\u001b[1mwandb\u001b[0m: \tneurons_in_fc: 512\n"
     ]
    },
    {
     "data": {
      "text/html": [
       "Ignoring project 'Debasmita-DA6401-Assignment-3' when running a sweep."
      ],
      "text/plain": [
       "<IPython.core.display.HTML object>"
      ]
     },
     "metadata": {},
     "output_type": "display_data"
    },
    {
     "data": {
      "text/html": [
       "Tracking run with wandb version 0.19.9"
      ],
      "text/plain": [
       "<IPython.core.display.HTML object>"
      ]
     },
     "metadata": {},
     "output_type": "display_data"
    },
    {
     "data": {
      "text/html": [
       "Run data is saved locally in <code>/kaggle/working/wandb/run-20250516_235026-cx1cjvwm</code>"
      ],
      "text/plain": [
       "<IPython.core.display.HTML object>"
      ]
     },
     "metadata": {},
     "output_type": "display_data"
    },
    {
     "data": {
      "text/html": [
       "Syncing run <strong><a href='https://wandb.ai/cs24m015-indian-institute-of-technology-madras/Debasmita-DA6401-Assignment-3/runs/cx1cjvwm' target=\"_blank\">misty-sweep-27</a></strong> to <a href='https://wandb.ai/cs24m015-indian-institute-of-technology-madras/Debasmita-DA6401-Assignment-3' target=\"_blank\">Weights & Biases</a> (<a href='https://wandb.me/developer-guide' target=\"_blank\">docs</a>)<br>Sweep page: <a href='https://wandb.ai/cs24m015-indian-institute-of-technology-madras/Debasmita-DA6401-Assignment-3/sweeps/hbfj1wi7' target=\"_blank\">https://wandb.ai/cs24m015-indian-institute-of-technology-madras/Debasmita-DA6401-Assignment-3/sweeps/hbfj1wi7</a>"
      ],
      "text/plain": [
       "<IPython.core.display.HTML object>"
      ]
     },
     "metadata": {},
     "output_type": "display_data"
    },
    {
     "data": {
      "text/html": [
       " View project at <a href='https://wandb.ai/cs24m015-indian-institute-of-technology-madras/Debasmita-DA6401-Assignment-3' target=\"_blank\">https://wandb.ai/cs24m015-indian-institute-of-technology-madras/Debasmita-DA6401-Assignment-3</a>"
      ],
      "text/plain": [
       "<IPython.core.display.HTML object>"
      ]
     },
     "metadata": {},
     "output_type": "display_data"
    },
    {
     "data": {
      "text/html": [
       " View sweep at <a href='https://wandb.ai/cs24m015-indian-institute-of-technology-madras/Debasmita-DA6401-Assignment-3/sweeps/hbfj1wi7' target=\"_blank\">https://wandb.ai/cs24m015-indian-institute-of-technology-madras/Debasmita-DA6401-Assignment-3/sweeps/hbfj1wi7</a>"
      ],
      "text/plain": [
       "<IPython.core.display.HTML object>"
      ]
     },
     "metadata": {},
     "output_type": "display_data"
    },
    {
     "data": {
      "text/html": [
       " View run at <a href='https://wandb.ai/cs24m015-indian-institute-of-technology-madras/Debasmita-DA6401-Assignment-3/runs/cx1cjvwm' target=\"_blank\">https://wandb.ai/cs24m015-indian-institute-of-technology-madras/Debasmita-DA6401-Assignment-3/runs/cx1cjvwm</a>"
      ],
      "text/plain": [
       "<IPython.core.display.HTML object>"
      ]
     },
     "metadata": {},
     "output_type": "display_data"
    },
    {
     "name": "stdout",
     "output_type": "stream",
     "text": [
      "run name = ATT_YES_EP_5_CELL_LSTM_EMB_32_ENC_2_DEC_2_FC_512_DRP_0_BS_128_BIDIREC_NO\n",
      "\n",
      "===================================================================================================================\n",
      "Epoch : 1\n",
      "Training Accuracy : 0.23078061569688768\n",
      "Validation Accuracy : 0.2033390410958904\n",
      "Training Loss : 0.5505235048769614\n",
      "Validation Loss : 0.7084465871935022\n",
      "\n",
      "===================================================================================================================\n",
      "Epoch : 2\n",
      "Training Accuracy : 0.4185554803788904\n",
      "Validation Accuracy : 0.2818921232876712\n",
      "Training Loss : 0.3532308935110882\n",
      "Validation Loss : 0.5904584380045329\n",
      "\n",
      "===================================================================================================================\n",
      "Epoch : 3\n",
      "Training Accuracy : 0.5150541271989174\n",
      "Validation Accuracy : 0.3224529109589041\n",
      "Training Loss : 0.32333270856588875\n",
      "Validation Loss : 0.6600096813619953\n",
      "\n",
      "===================================================================================================================\n",
      "Epoch : 4\n",
      "Training Accuracy : 0.6274843538565629\n",
      "Validation Accuracy : 0.3498501712328767\n",
      "Training Loss : 0.23008940212620127\n",
      "Validation Loss : 0.6215610222457206\n",
      "\n",
      "===================================================================================================================\n",
      "Epoch : 5\n",
      "Training Accuracy : 0.6880497293640054\n",
      "Validation Accuracy : 0.3625856164383562\n",
      "Training Loss : 0.19031497443924092\n",
      "Validation Loss : 0.6335755284518412\n"
     ]
    },
    {
     "data": {
      "text/html": [],
      "text/plain": [
       "<IPython.core.display.HTML object>"
      ]
     },
     "metadata": {},
     "output_type": "display_data"
    },
    {
     "data": {
      "text/html": [
       "<br>    <style><br>        .wandb-row {<br>            display: flex;<br>            flex-direction: row;<br>            flex-wrap: wrap;<br>            justify-content: flex-start;<br>            width: 100%;<br>        }<br>        .wandb-col {<br>            display: flex;<br>            flex-direction: column;<br>            flex-basis: 100%;<br>            flex: 1;<br>            padding: 10px;<br>        }<br>    </style><br><div class=\"wandb-row\"><div class=\"wandb-col\"><h3>Run history:</h3><br/><table class=\"wandb\"><tr><td>Epoch</td><td>▁▃▅▆█</td></tr><tr><td>training_accuracy</td><td>▁▄▅▇█</td></tr><tr><td>training_loss</td><td>█▄▄▂▁</td></tr><tr><td>validation_accuracy</td><td>▁▄▆▇█</td></tr><tr><td>validation_loss</td><td>█▁▅▃▄</td></tr></table><br/></div><div class=\"wandb-col\"><h3>Run summary:</h3><br/><table class=\"wandb\"><tr><td>Epoch</td><td>5</td></tr><tr><td>training_accuracy</td><td>0.68805</td></tr><tr><td>training_loss</td><td>0.19031</td></tr><tr><td>validation_accuracy</td><td>0.36259</td></tr><tr><td>validation_loss</td><td>0.63358</td></tr></table><br/></div></div>"
      ],
      "text/plain": [
       "<IPython.core.display.HTML object>"
      ]
     },
     "metadata": {},
     "output_type": "display_data"
    },
    {
     "data": {
      "text/html": [
       " View run <strong style=\"color:#cdcd00\">ATT_YES_EP_5_CELL_LSTM_EMB_32_ENC_2_DEC_2_FC_512_DRP_0_BS_128_BIDIREC_NO</strong> at: <a href='https://wandb.ai/cs24m015-indian-institute-of-technology-madras/Debasmita-DA6401-Assignment-3/runs/cx1cjvwm' target=\"_blank\">https://wandb.ai/cs24m015-indian-institute-of-technology-madras/Debasmita-DA6401-Assignment-3/runs/cx1cjvwm</a><br> View project at: <a href='https://wandb.ai/cs24m015-indian-institute-of-technology-madras/Debasmita-DA6401-Assignment-3' target=\"_blank\">https://wandb.ai/cs24m015-indian-institute-of-technology-madras/Debasmita-DA6401-Assignment-3</a><br>Synced 5 W&B file(s), 0 media file(s), 0 artifact file(s) and 0 other file(s)"
      ],
      "text/plain": [
       "<IPython.core.display.HTML object>"
      ]
     },
     "metadata": {},
     "output_type": "display_data"
    },
    {
     "data": {
      "text/html": [
       "Find logs at: <code>./wandb/run-20250516_235026-cx1cjvwm/logs</code>"
      ],
      "text/plain": [
       "<IPython.core.display.HTML object>"
      ]
     },
     "metadata": {},
     "output_type": "display_data"
    },
    {
     "name": "stderr",
     "output_type": "stream",
     "text": [
      "\u001b[34m\u001b[1mwandb\u001b[0m: Agent Starting Run: msy4mbe6 with config:\n",
      "\u001b[34m\u001b[1mwandb\u001b[0m: \tbatch_size: 128\n",
      "\u001b[34m\u001b[1mwandb\u001b[0m: \tbidirectional: NO\n",
      "\u001b[34m\u001b[1mwandb\u001b[0m: \tcell_type: GRU\n",
      "\u001b[34m\u001b[1mwandb\u001b[0m: \tdecoder_layers: 1\n",
      "\u001b[34m\u001b[1mwandb\u001b[0m: \tdropout: 0.2\n",
      "\u001b[34m\u001b[1mwandb\u001b[0m: \tembedding_size: 32\n",
      "\u001b[34m\u001b[1mwandb\u001b[0m: \tencoder_layers: 3\n",
      "\u001b[34m\u001b[1mwandb\u001b[0m: \tepochs: 10\n",
      "\u001b[34m\u001b[1mwandb\u001b[0m: \tneurons_in_fc: 512\n"
     ]
    },
    {
     "data": {
      "text/html": [
       "Ignoring project 'Debasmita-DA6401-Assignment-3' when running a sweep."
      ],
      "text/plain": [
       "<IPython.core.display.HTML object>"
      ]
     },
     "metadata": {},
     "output_type": "display_data"
    },
    {
     "data": {
      "text/html": [
       "Tracking run with wandb version 0.19.9"
      ],
      "text/plain": [
       "<IPython.core.display.HTML object>"
      ]
     },
     "metadata": {},
     "output_type": "display_data"
    },
    {
     "data": {
      "text/html": [
       "Run data is saved locally in <code>/kaggle/working/wandb/run-20250516_235928-msy4mbe6</code>"
      ],
      "text/plain": [
       "<IPython.core.display.HTML object>"
      ]
     },
     "metadata": {},
     "output_type": "display_data"
    },
    {
     "data": {
      "text/html": [
       "Syncing run <strong><a href='https://wandb.ai/cs24m015-indian-institute-of-technology-madras/Debasmita-DA6401-Assignment-3/runs/msy4mbe6' target=\"_blank\">happy-sweep-28</a></strong> to <a href='https://wandb.ai/cs24m015-indian-institute-of-technology-madras/Debasmita-DA6401-Assignment-3' target=\"_blank\">Weights & Biases</a> (<a href='https://wandb.me/developer-guide' target=\"_blank\">docs</a>)<br>Sweep page: <a href='https://wandb.ai/cs24m015-indian-institute-of-technology-madras/Debasmita-DA6401-Assignment-3/sweeps/hbfj1wi7' target=\"_blank\">https://wandb.ai/cs24m015-indian-institute-of-technology-madras/Debasmita-DA6401-Assignment-3/sweeps/hbfj1wi7</a>"
      ],
      "text/plain": [
       "<IPython.core.display.HTML object>"
      ]
     },
     "metadata": {},
     "output_type": "display_data"
    },
    {
     "data": {
      "text/html": [
       " View project at <a href='https://wandb.ai/cs24m015-indian-institute-of-technology-madras/Debasmita-DA6401-Assignment-3' target=\"_blank\">https://wandb.ai/cs24m015-indian-institute-of-technology-madras/Debasmita-DA6401-Assignment-3</a>"
      ],
      "text/plain": [
       "<IPython.core.display.HTML object>"
      ]
     },
     "metadata": {},
     "output_type": "display_data"
    },
    {
     "data": {
      "text/html": [
       " View sweep at <a href='https://wandb.ai/cs24m015-indian-institute-of-technology-madras/Debasmita-DA6401-Assignment-3/sweeps/hbfj1wi7' target=\"_blank\">https://wandb.ai/cs24m015-indian-institute-of-technology-madras/Debasmita-DA6401-Assignment-3/sweeps/hbfj1wi7</a>"
      ],
      "text/plain": [
       "<IPython.core.display.HTML object>"
      ]
     },
     "metadata": {},
     "output_type": "display_data"
    },
    {
     "data": {
      "text/html": [
       " View run at <a href='https://wandb.ai/cs24m015-indian-institute-of-technology-madras/Debasmita-DA6401-Assignment-3/runs/msy4mbe6' target=\"_blank\">https://wandb.ai/cs24m015-indian-institute-of-technology-madras/Debasmita-DA6401-Assignment-3/runs/msy4mbe6</a>"
      ],
      "text/plain": [
       "<IPython.core.display.HTML object>"
      ]
     },
     "metadata": {},
     "output_type": "display_data"
    },
    {
     "name": "stdout",
     "output_type": "stream",
     "text": [
      "run name = ATT_YES_EP_10_CELL_GRU_EMB_32_ENC_3_DEC_1_FC_512_DRP_0.2_BS_128_BIDIREC_NO\n",
      "\n",
      "===================================================================================================================\n",
      "Epoch : 1\n",
      "Training Accuracy : 0.2230209742895805\n",
      "Validation Accuracy : 0.1796875\n",
      "Training Loss : 0.53150197609513\n",
      "Validation Loss : 0.6953441749696863\n",
      "\n",
      "===================================================================================================================\n",
      "Epoch : 2\n",
      "Training Accuracy : 0.3412867895805142\n",
      "Validation Accuracy : 0.2421875\n",
      "Training Loss : 0.4532699989853112\n",
      "Validation Loss : 0.6570820412407182\n",
      "\n",
      "===================================================================================================================\n",
      "Epoch : 3\n",
      "Training Accuracy : 0.4022750338294993\n",
      "Validation Accuracy : 0.2694777397260274\n",
      "Training Loss : 0.40534198788247994\n",
      "Validation Loss : 0.653791264311908\n",
      "\n",
      "===================================================================================================================\n",
      "Epoch : 4\n",
      "Training Accuracy : 0.42212872124492556\n",
      "Validation Accuracy : 0.2717251712328767\n",
      "Training Loss : 0.415641030213507\n",
      "Validation Loss : 0.6830918323503782\n",
      "\n",
      "===================================================================================================================\n",
      "Epoch : 5\n",
      "Training Accuracy : 0.4574594046008119\n",
      "Validation Accuracy : 0.2863869863013699\n",
      "Training Loss : 0.36354981503967343\n",
      "Validation Loss : 0.6382313742213053\n",
      "\n",
      "===================================================================================================================\n",
      "Epoch : 6\n",
      "Training Accuracy : 0.47771481732070364\n",
      "Validation Accuracy : 0.2863869863013699\n",
      "Training Loss : 0.3433658859121622\n",
      "Validation Loss : 0.641713510637414\n",
      "\n",
      "===================================================================================================================\n",
      "Epoch : 7\n",
      "Training Accuracy : 0.49293809201623817\n",
      "Validation Accuracy : 0.2975171232876712\n",
      "Training Loss : 0.3363447591601915\n",
      "Validation Loss : 0.6517905445948039\n",
      "\n",
      "===================================================================================================================\n",
      "Epoch : 8\n",
      "Training Accuracy : 0.5209531461434371\n",
      "Validation Accuracy : 0.2923801369863014\n",
      "Training Loss : 0.31999126308583764\n",
      "Validation Loss : 0.6795992622636768\n",
      "\n",
      "===================================================================================================================\n",
      "Epoch : 9\n",
      "Training Accuracy : 0.5203399864682002\n",
      "Validation Accuracy : 0.3008347602739726\n",
      "Training Loss : 0.3256344188493708\n",
      "Validation Loss : 0.6673350930213928\n",
      "\n",
      "===================================================================================================================\n",
      "Epoch : 10\n",
      "Training Accuracy : 0.5330154769959404\n",
      "Validation Accuracy : 0.2857448630136986\n",
      "Training Loss : 0.313130943656613\n",
      "Validation Loss : 0.6745882760988523\n"
     ]
    },
    {
     "data": {
      "text/html": [],
      "text/plain": [
       "<IPython.core.display.HTML object>"
      ]
     },
     "metadata": {},
     "output_type": "display_data"
    },
    {
     "data": {
      "text/html": [
       "<br>    <style><br>        .wandb-row {<br>            display: flex;<br>            flex-direction: row;<br>            flex-wrap: wrap;<br>            justify-content: flex-start;<br>            width: 100%;<br>        }<br>        .wandb-col {<br>            display: flex;<br>            flex-direction: column;<br>            flex-basis: 100%;<br>            flex: 1;<br>            padding: 10px;<br>        }<br>    </style><br><div class=\"wandb-row\"><div class=\"wandb-col\"><h3>Run history:</h3><br/><table class=\"wandb\"><tr><td>Epoch</td><td>▁▂▃▃▄▅▆▆▇█</td></tr><tr><td>training_accuracy</td><td>▁▄▅▅▆▇▇███</td></tr><tr><td>training_loss</td><td>█▅▄▄▃▂▂▁▁▁</td></tr><tr><td>validation_accuracy</td><td>▁▅▆▆▇▇███▇</td></tr><tr><td>validation_loss</td><td>█▃▃▆▁▁▃▆▅▅</td></tr></table><br/></div><div class=\"wandb-col\"><h3>Run summary:</h3><br/><table class=\"wandb\"><tr><td>Epoch</td><td>10</td></tr><tr><td>training_accuracy</td><td>0.53302</td></tr><tr><td>training_loss</td><td>0.31313</td></tr><tr><td>validation_accuracy</td><td>0.28574</td></tr><tr><td>validation_loss</td><td>0.67459</td></tr></table><br/></div></div>"
      ],
      "text/plain": [
       "<IPython.core.display.HTML object>"
      ]
     },
     "metadata": {},
     "output_type": "display_data"
    },
    {
     "data": {
      "text/html": [
       " View run <strong style=\"color:#cdcd00\">ATT_YES_EP_10_CELL_GRU_EMB_32_ENC_3_DEC_1_FC_512_DRP_0.2_BS_128_BIDIREC_NO</strong> at: <a href='https://wandb.ai/cs24m015-indian-institute-of-technology-madras/Debasmita-DA6401-Assignment-3/runs/msy4mbe6' target=\"_blank\">https://wandb.ai/cs24m015-indian-institute-of-technology-madras/Debasmita-DA6401-Assignment-3/runs/msy4mbe6</a><br> View project at: <a href='https://wandb.ai/cs24m015-indian-institute-of-technology-madras/Debasmita-DA6401-Assignment-3' target=\"_blank\">https://wandb.ai/cs24m015-indian-institute-of-technology-madras/Debasmita-DA6401-Assignment-3</a><br>Synced 5 W&B file(s), 0 media file(s), 0 artifact file(s) and 0 other file(s)"
      ],
      "text/plain": [
       "<IPython.core.display.HTML object>"
      ]
     },
     "metadata": {},
     "output_type": "display_data"
    },
    {
     "data": {
      "text/html": [
       "Find logs at: <code>./wandb/run-20250516_235928-msy4mbe6/logs</code>"
      ],
      "text/plain": [
       "<IPython.core.display.HTML object>"
      ]
     },
     "metadata": {},
     "output_type": "display_data"
    },
    {
     "name": "stderr",
     "output_type": "stream",
     "text": [
      "\u001b[34m\u001b[1mwandb\u001b[0m: Sweep Agent: Waiting for job.\n",
      "\u001b[34m\u001b[1mwandb\u001b[0m: Job received.\n",
      "\u001b[34m\u001b[1mwandb\u001b[0m: Agent Starting Run: km99l4ta with config:\n",
      "\u001b[34m\u001b[1mwandb\u001b[0m: \tbatch_size: 128\n",
      "\u001b[34m\u001b[1mwandb\u001b[0m: \tbidirectional: NO\n",
      "\u001b[34m\u001b[1mwandb\u001b[0m: \tcell_type: LSTM\n",
      "\u001b[34m\u001b[1mwandb\u001b[0m: \tdecoder_layers: 3\n",
      "\u001b[34m\u001b[1mwandb\u001b[0m: \tdropout: 0\n",
      "\u001b[34m\u001b[1mwandb\u001b[0m: \tembedding_size: 64\n",
      "\u001b[34m\u001b[1mwandb\u001b[0m: \tencoder_layers: 3\n",
      "\u001b[34m\u001b[1mwandb\u001b[0m: \tepochs: 5\n",
      "\u001b[34m\u001b[1mwandb\u001b[0m: \tneurons_in_fc: 256\n"
     ]
    },
    {
     "data": {
      "text/html": [
       "Ignoring project 'Debasmita-DA6401-Assignment-3' when running a sweep."
      ],
      "text/plain": [
       "<IPython.core.display.HTML object>"
      ]
     },
     "metadata": {},
     "output_type": "display_data"
    },
    {
     "data": {
      "text/html": [
       "Tracking run with wandb version 0.19.9"
      ],
      "text/plain": [
       "<IPython.core.display.HTML object>"
      ]
     },
     "metadata": {},
     "output_type": "display_data"
    },
    {
     "data": {
      "text/html": [
       "Run data is saved locally in <code>/kaggle/working/wandb/run-20250517_001529-km99l4ta</code>"
      ],
      "text/plain": [
       "<IPython.core.display.HTML object>"
      ]
     },
     "metadata": {},
     "output_type": "display_data"
    },
    {
     "data": {
      "text/html": [
       "Syncing run <strong><a href='https://wandb.ai/cs24m015-indian-institute-of-technology-madras/Debasmita-DA6401-Assignment-3/runs/km99l4ta' target=\"_blank\">youthful-sweep-29</a></strong> to <a href='https://wandb.ai/cs24m015-indian-institute-of-technology-madras/Debasmita-DA6401-Assignment-3' target=\"_blank\">Weights & Biases</a> (<a href='https://wandb.me/developer-guide' target=\"_blank\">docs</a>)<br>Sweep page: <a href='https://wandb.ai/cs24m015-indian-institute-of-technology-madras/Debasmita-DA6401-Assignment-3/sweeps/hbfj1wi7' target=\"_blank\">https://wandb.ai/cs24m015-indian-institute-of-technology-madras/Debasmita-DA6401-Assignment-3/sweeps/hbfj1wi7</a>"
      ],
      "text/plain": [
       "<IPython.core.display.HTML object>"
      ]
     },
     "metadata": {},
     "output_type": "display_data"
    },
    {
     "data": {
      "text/html": [
       " View project at <a href='https://wandb.ai/cs24m015-indian-institute-of-technology-madras/Debasmita-DA6401-Assignment-3' target=\"_blank\">https://wandb.ai/cs24m015-indian-institute-of-technology-madras/Debasmita-DA6401-Assignment-3</a>"
      ],
      "text/plain": [
       "<IPython.core.display.HTML object>"
      ]
     },
     "metadata": {},
     "output_type": "display_data"
    },
    {
     "data": {
      "text/html": [
       " View sweep at <a href='https://wandb.ai/cs24m015-indian-institute-of-technology-madras/Debasmita-DA6401-Assignment-3/sweeps/hbfj1wi7' target=\"_blank\">https://wandb.ai/cs24m015-indian-institute-of-technology-madras/Debasmita-DA6401-Assignment-3/sweeps/hbfj1wi7</a>"
      ],
      "text/plain": [
       "<IPython.core.display.HTML object>"
      ]
     },
     "metadata": {},
     "output_type": "display_data"
    },
    {
     "data": {
      "text/html": [
       " View run at <a href='https://wandb.ai/cs24m015-indian-institute-of-technology-madras/Debasmita-DA6401-Assignment-3/runs/km99l4ta' target=\"_blank\">https://wandb.ai/cs24m015-indian-institute-of-technology-madras/Debasmita-DA6401-Assignment-3/runs/km99l4ta</a>"
      ],
      "text/plain": [
       "<IPython.core.display.HTML object>"
      ]
     },
     "metadata": {},
     "output_type": "display_data"
    },
    {
     "name": "stdout",
     "output_type": "stream",
     "text": [
      "run name = ATT_YES_EP_5_CELL_LSTM_EMB_64_ENC_3_DEC_3_FC_256_DRP_0_BS_128_BIDIREC_NO\n",
      "\n",
      "===================================================================================================================\n",
      "Epoch : 1\n",
      "Training Accuracy : 0.18927604871447903\n",
      "Validation Accuracy : 0.1583904109589041\n",
      "Training Loss : 0.5257882806138515\n",
      "Validation Loss : 0.6937476657841304\n",
      "\n",
      "===================================================================================================================\n",
      "Epoch : 2\n",
      "Training Accuracy : 0.3499661705006766\n",
      "Validation Accuracy : 0.2709760273972603\n",
      "Training Loss : 0.4224378791649061\n",
      "Validation Loss : 0.6374763425898878\n",
      "\n",
      "===================================================================================================================\n",
      "Epoch : 3\n",
      "Training Accuracy : 0.4478074255751015\n",
      "Validation Accuracy : 0.3068279109589041\n",
      "Training Loss : 0.3322817912080775\n",
      "Validation Loss : 0.5901148874465734\n",
      "\n",
      "===================================================================================================================\n",
      "Epoch : 4\n",
      "Training Accuracy : 0.5372653078484438\n",
      "Validation Accuracy : 0.3407534246575342\n",
      "Training Loss : 0.2819798063481774\n",
      "Validation Loss : 0.6054448256753895\n",
      "\n",
      "===================================================================================================================\n",
      "Epoch : 5\n",
      "Training Accuracy : 0.5923545331529093\n",
      "Validation Accuracy : 0.3458904109589041\n",
      "Training Loss : 0.23250897942521737\n",
      "Validation Loss : 0.5912596599696434\n"
     ]
    },
    {
     "data": {
      "text/html": [],
      "text/plain": [
       "<IPython.core.display.HTML object>"
      ]
     },
     "metadata": {},
     "output_type": "display_data"
    },
    {
     "data": {
      "text/html": [
       "<br>    <style><br>        .wandb-row {<br>            display: flex;<br>            flex-direction: row;<br>            flex-wrap: wrap;<br>            justify-content: flex-start;<br>            width: 100%;<br>        }<br>        .wandb-col {<br>            display: flex;<br>            flex-direction: column;<br>            flex-basis: 100%;<br>            flex: 1;<br>            padding: 10px;<br>        }<br>    </style><br><div class=\"wandb-row\"><div class=\"wandb-col\"><h3>Run history:</h3><br/><table class=\"wandb\"><tr><td>Epoch</td><td>▁▃▅▆█</td></tr><tr><td>training_accuracy</td><td>▁▄▅▇█</td></tr><tr><td>training_loss</td><td>█▆▃▂▁</td></tr><tr><td>validation_accuracy</td><td>▁▅▇██</td></tr><tr><td>validation_loss</td><td>█▄▁▂▁</td></tr></table><br/></div><div class=\"wandb-col\"><h3>Run summary:</h3><br/><table class=\"wandb\"><tr><td>Epoch</td><td>5</td></tr><tr><td>training_accuracy</td><td>0.59235</td></tr><tr><td>training_loss</td><td>0.23251</td></tr><tr><td>validation_accuracy</td><td>0.34589</td></tr><tr><td>validation_loss</td><td>0.59126</td></tr></table><br/></div></div>"
      ],
      "text/plain": [
       "<IPython.core.display.HTML object>"
      ]
     },
     "metadata": {},
     "output_type": "display_data"
    },
    {
     "data": {
      "text/html": [
       " View run <strong style=\"color:#cdcd00\">ATT_YES_EP_5_CELL_LSTM_EMB_64_ENC_3_DEC_3_FC_256_DRP_0_BS_128_BIDIREC_NO</strong> at: <a href='https://wandb.ai/cs24m015-indian-institute-of-technology-madras/Debasmita-DA6401-Assignment-3/runs/km99l4ta' target=\"_blank\">https://wandb.ai/cs24m015-indian-institute-of-technology-madras/Debasmita-DA6401-Assignment-3/runs/km99l4ta</a><br> View project at: <a href='https://wandb.ai/cs24m015-indian-institute-of-technology-madras/Debasmita-DA6401-Assignment-3' target=\"_blank\">https://wandb.ai/cs24m015-indian-institute-of-technology-madras/Debasmita-DA6401-Assignment-3</a><br>Synced 5 W&B file(s), 0 media file(s), 0 artifact file(s) and 0 other file(s)"
      ],
      "text/plain": [
       "<IPython.core.display.HTML object>"
      ]
     },
     "metadata": {},
     "output_type": "display_data"
    },
    {
     "data": {
      "text/html": [
       "Find logs at: <code>./wandb/run-20250517_001529-km99l4ta/logs</code>"
      ],
      "text/plain": [
       "<IPython.core.display.HTML object>"
      ]
     },
     "metadata": {},
     "output_type": "display_data"
    },
    {
     "name": "stderr",
     "output_type": "stream",
     "text": [
      "\u001b[34m\u001b[1mwandb\u001b[0m: Agent Starting Run: yb53marh with config:\n",
      "\u001b[34m\u001b[1mwandb\u001b[0m: \tbatch_size: 128\n",
      "\u001b[34m\u001b[1mwandb\u001b[0m: \tbidirectional: NO\n",
      "\u001b[34m\u001b[1mwandb\u001b[0m: \tcell_type: LSTM\n",
      "\u001b[34m\u001b[1mwandb\u001b[0m: \tdecoder_layers: 3\n",
      "\u001b[34m\u001b[1mwandb\u001b[0m: \tdropout: 0.4\n",
      "\u001b[34m\u001b[1mwandb\u001b[0m: \tembedding_size: 256\n",
      "\u001b[34m\u001b[1mwandb\u001b[0m: \tencoder_layers: 3\n",
      "\u001b[34m\u001b[1mwandb\u001b[0m: \tepochs: 5\n",
      "\u001b[34m\u001b[1mwandb\u001b[0m: \tneurons_in_fc: 512\n"
     ]
    },
    {
     "data": {
      "text/html": [
       "Ignoring project 'Debasmita-DA6401-Assignment-3' when running a sweep."
      ],
      "text/plain": [
       "<IPython.core.display.HTML object>"
      ]
     },
     "metadata": {},
     "output_type": "display_data"
    },
    {
     "data": {
      "text/html": [
       "Tracking run with wandb version 0.19.9"
      ],
      "text/plain": [
       "<IPython.core.display.HTML object>"
      ]
     },
     "metadata": {},
     "output_type": "display_data"
    },
    {
     "data": {
      "text/html": [
       "Run data is saved locally in <code>/kaggle/working/wandb/run-20250517_002205-yb53marh</code>"
      ],
      "text/plain": [
       "<IPython.core.display.HTML object>"
      ]
     },
     "metadata": {},
     "output_type": "display_data"
    },
    {
     "data": {
      "text/html": [
       "Syncing run <strong><a href='https://wandb.ai/cs24m015-indian-institute-of-technology-madras/Debasmita-DA6401-Assignment-3/runs/yb53marh' target=\"_blank\">glowing-sweep-30</a></strong> to <a href='https://wandb.ai/cs24m015-indian-institute-of-technology-madras/Debasmita-DA6401-Assignment-3' target=\"_blank\">Weights & Biases</a> (<a href='https://wandb.me/developer-guide' target=\"_blank\">docs</a>)<br>Sweep page: <a href='https://wandb.ai/cs24m015-indian-institute-of-technology-madras/Debasmita-DA6401-Assignment-3/sweeps/hbfj1wi7' target=\"_blank\">https://wandb.ai/cs24m015-indian-institute-of-technology-madras/Debasmita-DA6401-Assignment-3/sweeps/hbfj1wi7</a>"
      ],
      "text/plain": [
       "<IPython.core.display.HTML object>"
      ]
     },
     "metadata": {},
     "output_type": "display_data"
    },
    {
     "data": {
      "text/html": [
       " View project at <a href='https://wandb.ai/cs24m015-indian-institute-of-technology-madras/Debasmita-DA6401-Assignment-3' target=\"_blank\">https://wandb.ai/cs24m015-indian-institute-of-technology-madras/Debasmita-DA6401-Assignment-3</a>"
      ],
      "text/plain": [
       "<IPython.core.display.HTML object>"
      ]
     },
     "metadata": {},
     "output_type": "display_data"
    },
    {
     "data": {
      "text/html": [
       " View sweep at <a href='https://wandb.ai/cs24m015-indian-institute-of-technology-madras/Debasmita-DA6401-Assignment-3/sweeps/hbfj1wi7' target=\"_blank\">https://wandb.ai/cs24m015-indian-institute-of-technology-madras/Debasmita-DA6401-Assignment-3/sweeps/hbfj1wi7</a>"
      ],
      "text/plain": [
       "<IPython.core.display.HTML object>"
      ]
     },
     "metadata": {},
     "output_type": "display_data"
    },
    {
     "data": {
      "text/html": [
       " View run at <a href='https://wandb.ai/cs24m015-indian-institute-of-technology-madras/Debasmita-DA6401-Assignment-3/runs/yb53marh' target=\"_blank\">https://wandb.ai/cs24m015-indian-institute-of-technology-madras/Debasmita-DA6401-Assignment-3/runs/yb53marh</a>"
      ],
      "text/plain": [
       "<IPython.core.display.HTML object>"
      ]
     },
     "metadata": {},
     "output_type": "display_data"
    },
    {
     "name": "stdout",
     "output_type": "stream",
     "text": [
      "run name = ATT_YES_EP_5_CELL_LSTM_EMB_256_ENC_3_DEC_3_FC_512_DRP_0.4_BS_128_BIDIREC_NO\n",
      "\n",
      "===================================================================================================================\n",
      "Epoch : 1\n",
      "Training Accuracy : 0.2015815290933694\n",
      "Validation Accuracy : 0.17101883561643835\n",
      "Training Loss : 0.5446946031750458\n",
      "Validation Loss : 0.6923645849097265\n",
      "\n",
      "===================================================================================================================\n",
      "Epoch : 2\n",
      "Training Accuracy : 0.3637199763193505\n",
      "Validation Accuracy : 0.2597388698630137\n",
      "Training Loss : 0.42307889598632215\n",
      "Validation Loss : 0.6258869111946185\n",
      "\n",
      "===================================================================================================================\n",
      "Epoch : 3\n",
      "Training Accuracy : 0.4672699594046008\n",
      "Validation Accuracy : 0.2982662671232877\n",
      "Training Loss : 0.35899832602766757\n",
      "Validation Loss : 0.6343223362752836\n",
      "\n",
      "===================================================================================================================\n",
      "Epoch : 4\n",
      "Training Accuracy : 0.5395170838971584\n",
      "Validation Accuracy : 0.3367936643835616\n",
      "Training Loss : 0.2979633095340251\n",
      "Validation Loss : 0.5812792190133709\n",
      "\n",
      "===================================================================================================================\n",
      "Epoch : 5\n",
      "Training Accuracy : 0.6037402740189445\n",
      "Validation Accuracy : 0.3485659246575342\n",
      "Training Loss : 0.2580095009729569\n",
      "Validation Loss : 0.6133281788597368\n"
     ]
    },
    {
     "data": {
      "text/html": [],
      "text/plain": [
       "<IPython.core.display.HTML object>"
      ]
     },
     "metadata": {},
     "output_type": "display_data"
    },
    {
     "data": {
      "text/html": [
       "<br>    <style><br>        .wandb-row {<br>            display: flex;<br>            flex-direction: row;<br>            flex-wrap: wrap;<br>            justify-content: flex-start;<br>            width: 100%;<br>        }<br>        .wandb-col {<br>            display: flex;<br>            flex-direction: column;<br>            flex-basis: 100%;<br>            flex: 1;<br>            padding: 10px;<br>        }<br>    </style><br><div class=\"wandb-row\"><div class=\"wandb-col\"><h3>Run history:</h3><br/><table class=\"wandb\"><tr><td>Epoch</td><td>▁▃▅▆█</td></tr><tr><td>training_accuracy</td><td>▁▄▆▇█</td></tr><tr><td>training_loss</td><td>█▅▃▂▁</td></tr><tr><td>validation_accuracy</td><td>▁▄▆██</td></tr><tr><td>validation_loss</td><td>█▄▄▁▃</td></tr></table><br/></div><div class=\"wandb-col\"><h3>Run summary:</h3><br/><table class=\"wandb\"><tr><td>Epoch</td><td>5</td></tr><tr><td>training_accuracy</td><td>0.60374</td></tr><tr><td>training_loss</td><td>0.25801</td></tr><tr><td>validation_accuracy</td><td>0.34857</td></tr><tr><td>validation_loss</td><td>0.61333</td></tr></table><br/></div></div>"
      ],
      "text/plain": [
       "<IPython.core.display.HTML object>"
      ]
     },
     "metadata": {},
     "output_type": "display_data"
    },
    {
     "data": {
      "text/html": [
       " View run <strong style=\"color:#cdcd00\">ATT_YES_EP_5_CELL_LSTM_EMB_256_ENC_3_DEC_3_FC_512_DRP_0.4_BS_128_BIDIREC_NO</strong> at: <a href='https://wandb.ai/cs24m015-indian-institute-of-technology-madras/Debasmita-DA6401-Assignment-3/runs/yb53marh' target=\"_blank\">https://wandb.ai/cs24m015-indian-institute-of-technology-madras/Debasmita-DA6401-Assignment-3/runs/yb53marh</a><br> View project at: <a href='https://wandb.ai/cs24m015-indian-institute-of-technology-madras/Debasmita-DA6401-Assignment-3' target=\"_blank\">https://wandb.ai/cs24m015-indian-institute-of-technology-madras/Debasmita-DA6401-Assignment-3</a><br>Synced 5 W&B file(s), 0 media file(s), 0 artifact file(s) and 0 other file(s)"
      ],
      "text/plain": [
       "<IPython.core.display.HTML object>"
      ]
     },
     "metadata": {},
     "output_type": "display_data"
    },
    {
     "data": {
      "text/html": [
       "Find logs at: <code>./wandb/run-20250517_002205-yb53marh/logs</code>"
      ],
      "text/plain": [
       "<IPython.core.display.HTML object>"
      ]
     },
     "metadata": {},
     "output_type": "display_data"
    },
    {
     "name": "stderr",
     "output_type": "stream",
     "text": [
      "\u001b[34m\u001b[1mwandb\u001b[0m: Agent Starting Run: snm0g4yz with config:\n",
      "\u001b[34m\u001b[1mwandb\u001b[0m: \tbatch_size: 128\n",
      "\u001b[34m\u001b[1mwandb\u001b[0m: \tbidirectional: NO\n",
      "\u001b[34m\u001b[1mwandb\u001b[0m: \tcell_type: GRU\n",
      "\u001b[34m\u001b[1mwandb\u001b[0m: \tdecoder_layers: 2\n",
      "\u001b[34m\u001b[1mwandb\u001b[0m: \tdropout: 0.2\n",
      "\u001b[34m\u001b[1mwandb\u001b[0m: \tembedding_size: 64\n",
      "\u001b[34m\u001b[1mwandb\u001b[0m: \tencoder_layers: 2\n",
      "\u001b[34m\u001b[1mwandb\u001b[0m: \tepochs: 10\n",
      "\u001b[34m\u001b[1mwandb\u001b[0m: \tneurons_in_fc: 512\n"
     ]
    },
    {
     "data": {
      "text/html": [
       "Ignoring project 'Debasmita-DA6401-Assignment-3' when running a sweep."
      ],
      "text/plain": [
       "<IPython.core.display.HTML object>"
      ]
     },
     "metadata": {},
     "output_type": "display_data"
    },
    {
     "data": {
      "text/html": [
       "Tracking run with wandb version 0.19.9"
      ],
      "text/plain": [
       "<IPython.core.display.HTML object>"
      ]
     },
     "metadata": {},
     "output_type": "display_data"
    },
    {
     "data": {
      "text/html": [
       "Run data is saved locally in <code>/kaggle/working/wandb/run-20250517_003438-snm0g4yz</code>"
      ],
      "text/plain": [
       "<IPython.core.display.HTML object>"
      ]
     },
     "metadata": {},
     "output_type": "display_data"
    },
    {
     "data": {
      "text/html": [
       "Syncing run <strong><a href='https://wandb.ai/cs24m015-indian-institute-of-technology-madras/Debasmita-DA6401-Assignment-3/runs/snm0g4yz' target=\"_blank\">jolly-sweep-31</a></strong> to <a href='https://wandb.ai/cs24m015-indian-institute-of-technology-madras/Debasmita-DA6401-Assignment-3' target=\"_blank\">Weights & Biases</a> (<a href='https://wandb.me/developer-guide' target=\"_blank\">docs</a>)<br>Sweep page: <a href='https://wandb.ai/cs24m015-indian-institute-of-technology-madras/Debasmita-DA6401-Assignment-3/sweeps/hbfj1wi7' target=\"_blank\">https://wandb.ai/cs24m015-indian-institute-of-technology-madras/Debasmita-DA6401-Assignment-3/sweeps/hbfj1wi7</a>"
      ],
      "text/plain": [
       "<IPython.core.display.HTML object>"
      ]
     },
     "metadata": {},
     "output_type": "display_data"
    },
    {
     "data": {
      "text/html": [
       " View project at <a href='https://wandb.ai/cs24m015-indian-institute-of-technology-madras/Debasmita-DA6401-Assignment-3' target=\"_blank\">https://wandb.ai/cs24m015-indian-institute-of-technology-madras/Debasmita-DA6401-Assignment-3</a>"
      ],
      "text/plain": [
       "<IPython.core.display.HTML object>"
      ]
     },
     "metadata": {},
     "output_type": "display_data"
    },
    {
     "data": {
      "text/html": [
       " View sweep at <a href='https://wandb.ai/cs24m015-indian-institute-of-technology-madras/Debasmita-DA6401-Assignment-3/sweeps/hbfj1wi7' target=\"_blank\">https://wandb.ai/cs24m015-indian-institute-of-technology-madras/Debasmita-DA6401-Assignment-3/sweeps/hbfj1wi7</a>"
      ],
      "text/plain": [
       "<IPython.core.display.HTML object>"
      ]
     },
     "metadata": {},
     "output_type": "display_data"
    },
    {
     "data": {
      "text/html": [
       " View run at <a href='https://wandb.ai/cs24m015-indian-institute-of-technology-madras/Debasmita-DA6401-Assignment-3/runs/snm0g4yz' target=\"_blank\">https://wandb.ai/cs24m015-indian-institute-of-technology-madras/Debasmita-DA6401-Assignment-3/runs/snm0g4yz</a>"
      ],
      "text/plain": [
       "<IPython.core.display.HTML object>"
      ]
     },
     "metadata": {},
     "output_type": "display_data"
    },
    {
     "name": "stdout",
     "output_type": "stream",
     "text": [
      "run name = ATT_YES_EP_10_CELL_GRU_EMB_64_ENC_2_DEC_2_FC_512_DRP_0.2_BS_128_BIDIREC_NO\n",
      "\n",
      "===================================================================================================================\n",
      "Epoch : 1\n",
      "Training Accuracy : 0.23367726657645466\n",
      "Validation Accuracy : 0.1889982876712329\n",
      "Training Loss : 0.527878761251176\n",
      "Validation Loss : 0.6953087146968058\n",
      "\n",
      "===================================================================================================================\n",
      "Epoch : 2\n",
      "Training Accuracy : 0.3824530615696888\n",
      "Validation Accuracy : 0.2751498287671233\n",
      "Training Loss : 0.41500800247121405\n",
      "Validation Loss : 0.6326007104083283\n",
      "\n",
      "===================================================================================================================\n",
      "Epoch : 3\n",
      "Training Accuracy : 0.4513700947225981\n",
      "Validation Accuracy : 0.2918450342465753\n",
      "Training Loss : 0.3834384634627057\n",
      "Validation Loss : 0.6726902888654029\n",
      "\n",
      "===================================================================================================================\n",
      "Epoch : 4\n",
      "Training Accuracy : 0.49627875507442487\n",
      "Validation Accuracy : 0.2961258561643836\n",
      "Training Loss : 0.3312926843096987\n",
      "Validation Loss : 0.6354506875145925\n",
      "\n",
      "===================================================================================================================\n",
      "Epoch : 5\n",
      "Training Accuracy : 0.4790574255751015\n",
      "Validation Accuracy : 0.2845676369863014\n",
      "Training Loss : 0.3613172034772065\n",
      "Validation Loss : 0.6821754746241112\n",
      "\n",
      "===================================================================================================================\n",
      "Epoch : 6\n",
      "Training Accuracy : 0.5307531292286874\n",
      "Validation Accuracy : 0.2993364726027397\n",
      "Training Loss : 0.3048280895724187\n",
      "Validation Loss : 0.6437577148006387\n",
      "\n",
      "===================================================================================================================\n",
      "Epoch : 7\n",
      "Training Accuracy : 0.5418217185385656\n",
      "Validation Accuracy : 0.3029751712328767\n",
      "Training Loss : 0.3060645060223075\n",
      "Validation Loss : 0.6702211348161305\n",
      "\n",
      "===================================================================================================================\n",
      "Epoch : 8\n",
      "Training Accuracy : 0.5126966339648173\n",
      "Validation Accuracy : 0.2949486301369863\n",
      "Training Loss : 0.3475613089956353\n",
      "Validation Loss : 0.7166375468855035\n",
      "\n",
      "===================================================================================================================\n",
      "Epoch : 9\n",
      "Training Accuracy : 0.5176124830852503\n",
      "Validation Accuracy : 0.2948416095890411\n",
      "Training Loss : 0.3250438513710631\n",
      "Validation Loss : 0.6718242674657743\n",
      "\n",
      "===================================================================================================================\n",
      "Epoch : 10\n",
      "Training Accuracy : 0.5161535859269283\n",
      "Validation Accuracy : 0.2956977739726027\n",
      "Training Loss : 0.31779282611664966\n",
      "Validation Loss : 0.6590888047055022\n"
     ]
    },
    {
     "data": {
      "text/html": [],
      "text/plain": [
       "<IPython.core.display.HTML object>"
      ]
     },
     "metadata": {},
     "output_type": "display_data"
    },
    {
     "data": {
      "text/html": [
       "<br>    <style><br>        .wandb-row {<br>            display: flex;<br>            flex-direction: row;<br>            flex-wrap: wrap;<br>            justify-content: flex-start;<br>            width: 100%;<br>        }<br>        .wandb-col {<br>            display: flex;<br>            flex-direction: column;<br>            flex-basis: 100%;<br>            flex: 1;<br>            padding: 10px;<br>        }<br>    </style><br><div class=\"wandb-row\"><div class=\"wandb-col\"><h3>Run history:</h3><br/><table class=\"wandb\"><tr><td>Epoch</td><td>▁▂▃▃▄▅▆▆▇█</td></tr><tr><td>training_accuracy</td><td>▁▄▆▇▇██▇▇▇</td></tr><tr><td>training_loss</td><td>█▄▃▂▃▁▁▂▂▁</td></tr><tr><td>validation_accuracy</td><td>▁▆▇█▇█████</td></tr><tr><td>validation_loss</td><td>▆▁▄▁▅▂▄█▄▃</td></tr></table><br/></div><div class=\"wandb-col\"><h3>Run summary:</h3><br/><table class=\"wandb\"><tr><td>Epoch</td><td>10</td></tr><tr><td>training_accuracy</td><td>0.51615</td></tr><tr><td>training_loss</td><td>0.31779</td></tr><tr><td>validation_accuracy</td><td>0.2957</td></tr><tr><td>validation_loss</td><td>0.65909</td></tr></table><br/></div></div>"
      ],
      "text/plain": [
       "<IPython.core.display.HTML object>"
      ]
     },
     "metadata": {},
     "output_type": "display_data"
    },
    {
     "data": {
      "text/html": [
       " View run <strong style=\"color:#cdcd00\">ATT_YES_EP_10_CELL_GRU_EMB_64_ENC_2_DEC_2_FC_512_DRP_0.2_BS_128_BIDIREC_NO</strong> at: <a href='https://wandb.ai/cs24m015-indian-institute-of-technology-madras/Debasmita-DA6401-Assignment-3/runs/snm0g4yz' target=\"_blank\">https://wandb.ai/cs24m015-indian-institute-of-technology-madras/Debasmita-DA6401-Assignment-3/runs/snm0g4yz</a><br> View project at: <a href='https://wandb.ai/cs24m015-indian-institute-of-technology-madras/Debasmita-DA6401-Assignment-3' target=\"_blank\">https://wandb.ai/cs24m015-indian-institute-of-technology-madras/Debasmita-DA6401-Assignment-3</a><br>Synced 5 W&B file(s), 0 media file(s), 0 artifact file(s) and 0 other file(s)"
      ],
      "text/plain": [
       "<IPython.core.display.HTML object>"
      ]
     },
     "metadata": {},
     "output_type": "display_data"
    },
    {
     "data": {
      "text/html": [
       "Find logs at: <code>./wandb/run-20250517_003438-snm0g4yz/logs</code>"
      ],
      "text/plain": [
       "<IPython.core.display.HTML object>"
      ]
     },
     "metadata": {},
     "output_type": "display_data"
    },
    {
     "name": "stderr",
     "output_type": "stream",
     "text": [
      "\u001b[34m\u001b[1mwandb\u001b[0m: Agent Starting Run: 239ytpd1 with config:\n",
      "\u001b[34m\u001b[1mwandb\u001b[0m: \tbatch_size: 64\n",
      "\u001b[34m\u001b[1mwandb\u001b[0m: \tbidirectional: NO\n",
      "\u001b[34m\u001b[1mwandb\u001b[0m: \tcell_type: GRU\n",
      "\u001b[34m\u001b[1mwandb\u001b[0m: \tdecoder_layers: 2\n",
      "\u001b[34m\u001b[1mwandb\u001b[0m: \tdropout: 0.2\n",
      "\u001b[34m\u001b[1mwandb\u001b[0m: \tembedding_size: 128\n",
      "\u001b[34m\u001b[1mwandb\u001b[0m: \tencoder_layers: 3\n",
      "\u001b[34m\u001b[1mwandb\u001b[0m: \tepochs: 5\n",
      "\u001b[34m\u001b[1mwandb\u001b[0m: \tneurons_in_fc: 512\n"
     ]
    },
    {
     "data": {
      "text/html": [
       "Ignoring project 'Debasmita-DA6401-Assignment-3' when running a sweep."
      ],
      "text/plain": [
       "<IPython.core.display.HTML object>"
      ]
     },
     "metadata": {},
     "output_type": "display_data"
    },
    {
     "data": {
      "text/html": [
       "Tracking run with wandb version 0.19.9"
      ],
      "text/plain": [
       "<IPython.core.display.HTML object>"
      ]
     },
     "metadata": {},
     "output_type": "display_data"
    },
    {
     "data": {
      "text/html": [
       "Run data is saved locally in <code>/kaggle/working/wandb/run-20250517_005039-239ytpd1</code>"
      ],
      "text/plain": [
       "<IPython.core.display.HTML object>"
      ]
     },
     "metadata": {},
     "output_type": "display_data"
    },
    {
     "data": {
      "text/html": [
       "Syncing run <strong><a href='https://wandb.ai/cs24m015-indian-institute-of-technology-madras/Debasmita-DA6401-Assignment-3/runs/239ytpd1' target=\"_blank\">stoic-sweep-32</a></strong> to <a href='https://wandb.ai/cs24m015-indian-institute-of-technology-madras/Debasmita-DA6401-Assignment-3' target=\"_blank\">Weights & Biases</a> (<a href='https://wandb.me/developer-guide' target=\"_blank\">docs</a>)<br>Sweep page: <a href='https://wandb.ai/cs24m015-indian-institute-of-technology-madras/Debasmita-DA6401-Assignment-3/sweeps/hbfj1wi7' target=\"_blank\">https://wandb.ai/cs24m015-indian-institute-of-technology-madras/Debasmita-DA6401-Assignment-3/sweeps/hbfj1wi7</a>"
      ],
      "text/plain": [
       "<IPython.core.display.HTML object>"
      ]
     },
     "metadata": {},
     "output_type": "display_data"
    },
    {
     "data": {
      "text/html": [
       " View project at <a href='https://wandb.ai/cs24m015-indian-institute-of-technology-madras/Debasmita-DA6401-Assignment-3' target=\"_blank\">https://wandb.ai/cs24m015-indian-institute-of-technology-madras/Debasmita-DA6401-Assignment-3</a>"
      ],
      "text/plain": [
       "<IPython.core.display.HTML object>"
      ]
     },
     "metadata": {},
     "output_type": "display_data"
    },
    {
     "data": {
      "text/html": [
       " View sweep at <a href='https://wandb.ai/cs24m015-indian-institute-of-technology-madras/Debasmita-DA6401-Assignment-3/sweeps/hbfj1wi7' target=\"_blank\">https://wandb.ai/cs24m015-indian-institute-of-technology-madras/Debasmita-DA6401-Assignment-3/sweeps/hbfj1wi7</a>"
      ],
      "text/plain": [
       "<IPython.core.display.HTML object>"
      ]
     },
     "metadata": {},
     "output_type": "display_data"
    },
    {
     "data": {
      "text/html": [
       " View run at <a href='https://wandb.ai/cs24m015-indian-institute-of-technology-madras/Debasmita-DA6401-Assignment-3/runs/239ytpd1' target=\"_blank\">https://wandb.ai/cs24m015-indian-institute-of-technology-madras/Debasmita-DA6401-Assignment-3/runs/239ytpd1</a>"
      ],
      "text/plain": [
       "<IPython.core.display.HTML object>"
      ]
     },
     "metadata": {},
     "output_type": "display_data"
    },
    {
     "name": "stdout",
     "output_type": "stream",
     "text": [
      "run name = ATT_YES_EP_5_CELL_GRU_EMB_128_ENC_3_DEC_2_FC_512_DRP_0.2_BS_64_BIDIREC_NO\n",
      "\n",
      "===================================================================================================================\n",
      "Epoch : 1\n",
      "Training Accuracy : 0.23270466847090662\n",
      "Validation Accuracy : 0.17974137931034484\n",
      "Training Loss : 0.548666023433773\n",
      "Validation Loss : 0.7540452544031472\n",
      "\n",
      "===================================================================================================================\n",
      "Epoch : 2\n",
      "Training Accuracy : 0.3144134810554804\n",
      "Validation Accuracy : 0.20926724137931035\n",
      "Training Loss : 0.4778929344291455\n",
      "Validation Loss : 0.7194501052642691\n",
      "\n",
      "===================================================================================================================\n",
      "Epoch : 3\n",
      "Training Accuracy : 0.34650921853856564\n",
      "Validation Accuracy : 0.23954741379310346\n",
      "Training Loss : 0.46090257623521497\n",
      "Validation Loss : 0.6997626193638505\n",
      "\n",
      "===================================================================================================================\n",
      "Epoch : 4\n",
      "Training Accuracy : 0.349226150202977\n",
      "Validation Accuracy : 0.221875\n",
      "Training Loss : 0.46891383949732746\n",
      "Validation Loss : 0.7556546765154806\n",
      "\n",
      "===================================================================================================================\n",
      "Epoch : 5\n",
      "Training Accuracy : 0.3490464309878214\n",
      "Validation Accuracy : 0.22144396551724138\n",
      "Training Loss : 0.4672891179828102\n",
      "Validation Loss : 0.7233248980908559\n"
     ]
    },
    {
     "data": {
      "text/html": [],
      "text/plain": [
       "<IPython.core.display.HTML object>"
      ]
     },
     "metadata": {},
     "output_type": "display_data"
    },
    {
     "data": {
      "text/html": [
       "<br>    <style><br>        .wandb-row {<br>            display: flex;<br>            flex-direction: row;<br>            flex-wrap: wrap;<br>            justify-content: flex-start;<br>            width: 100%;<br>        }<br>        .wandb-col {<br>            display: flex;<br>            flex-direction: column;<br>            flex-basis: 100%;<br>            flex: 1;<br>            padding: 10px;<br>        }<br>    </style><br><div class=\"wandb-row\"><div class=\"wandb-col\"><h3>Run history:</h3><br/><table class=\"wandb\"><tr><td>Epoch</td><td>▁▃▅▆█</td></tr><tr><td>training_accuracy</td><td>▁▆███</td></tr><tr><td>training_loss</td><td>█▂▁▂▂</td></tr><tr><td>validation_accuracy</td><td>▁▄█▆▆</td></tr><tr><td>validation_loss</td><td>█▃▁█▄</td></tr></table><br/></div><div class=\"wandb-col\"><h3>Run summary:</h3><br/><table class=\"wandb\"><tr><td>Epoch</td><td>5</td></tr><tr><td>training_accuracy</td><td>0.34905</td></tr><tr><td>training_loss</td><td>0.46729</td></tr><tr><td>validation_accuracy</td><td>0.22144</td></tr><tr><td>validation_loss</td><td>0.72332</td></tr></table><br/></div></div>"
      ],
      "text/plain": [
       "<IPython.core.display.HTML object>"
      ]
     },
     "metadata": {},
     "output_type": "display_data"
    },
    {
     "data": {
      "text/html": [
       " View run <strong style=\"color:#cdcd00\">ATT_YES_EP_5_CELL_GRU_EMB_128_ENC_3_DEC_2_FC_512_DRP_0.2_BS_64_BIDIREC_NO</strong> at: <a href='https://wandb.ai/cs24m015-indian-institute-of-technology-madras/Debasmita-DA6401-Assignment-3/runs/239ytpd1' target=\"_blank\">https://wandb.ai/cs24m015-indian-institute-of-technology-madras/Debasmita-DA6401-Assignment-3/runs/239ytpd1</a><br> View project at: <a href='https://wandb.ai/cs24m015-indian-institute-of-technology-madras/Debasmita-DA6401-Assignment-3' target=\"_blank\">https://wandb.ai/cs24m015-indian-institute-of-technology-madras/Debasmita-DA6401-Assignment-3</a><br>Synced 5 W&B file(s), 0 media file(s), 0 artifact file(s) and 0 other file(s)"
      ],
      "text/plain": [
       "<IPython.core.display.HTML object>"
      ]
     },
     "metadata": {},
     "output_type": "display_data"
    },
    {
     "data": {
      "text/html": [
       "Find logs at: <code>./wandb/run-20250517_005039-239ytpd1/logs</code>"
      ],
      "text/plain": [
       "<IPython.core.display.HTML object>"
      ]
     },
     "metadata": {},
     "output_type": "display_data"
    },
    {
     "name": "stderr",
     "output_type": "stream",
     "text": [
      "\u001b[34m\u001b[1mwandb\u001b[0m: Agent Starting Run: 64h6qtqx with config:\n",
      "\u001b[34m\u001b[1mwandb\u001b[0m: \tbatch_size: 128\n",
      "\u001b[34m\u001b[1mwandb\u001b[0m: \tbidirectional: NO\n",
      "\u001b[34m\u001b[1mwandb\u001b[0m: \tcell_type: LSTM\n",
      "\u001b[34m\u001b[1mwandb\u001b[0m: \tdecoder_layers: 1\n",
      "\u001b[34m\u001b[1mwandb\u001b[0m: \tdropout: 0\n",
      "\u001b[34m\u001b[1mwandb\u001b[0m: \tembedding_size: 128\n",
      "\u001b[34m\u001b[1mwandb\u001b[0m: \tencoder_layers: 2\n",
      "\u001b[34m\u001b[1mwandb\u001b[0m: \tepochs: 5\n",
      "\u001b[34m\u001b[1mwandb\u001b[0m: \tneurons_in_fc: 512\n"
     ]
    },
    {
     "data": {
      "text/html": [
       "Ignoring project 'Debasmita-DA6401-Assignment-3' when running a sweep."
      ],
      "text/plain": [
       "<IPython.core.display.HTML object>"
      ]
     },
     "metadata": {},
     "output_type": "display_data"
    },
    {
     "data": {
      "text/html": [
       "Tracking run with wandb version 0.19.9"
      ],
      "text/plain": [
       "<IPython.core.display.HTML object>"
      ]
     },
     "metadata": {},
     "output_type": "display_data"
    },
    {
     "data": {
      "text/html": [
       "Run data is saved locally in <code>/kaggle/working/wandb/run-20250517_010213-64h6qtqx</code>"
      ],
      "text/plain": [
       "<IPython.core.display.HTML object>"
      ]
     },
     "metadata": {},
     "output_type": "display_data"
    },
    {
     "data": {
      "text/html": [
       "Syncing run <strong><a href='https://wandb.ai/cs24m015-indian-institute-of-technology-madras/Debasmita-DA6401-Assignment-3/runs/64h6qtqx' target=\"_blank\">blooming-sweep-33</a></strong> to <a href='https://wandb.ai/cs24m015-indian-institute-of-technology-madras/Debasmita-DA6401-Assignment-3' target=\"_blank\">Weights & Biases</a> (<a href='https://wandb.me/developer-guide' target=\"_blank\">docs</a>)<br>Sweep page: <a href='https://wandb.ai/cs24m015-indian-institute-of-technology-madras/Debasmita-DA6401-Assignment-3/sweeps/hbfj1wi7' target=\"_blank\">https://wandb.ai/cs24m015-indian-institute-of-technology-madras/Debasmita-DA6401-Assignment-3/sweeps/hbfj1wi7</a>"
      ],
      "text/plain": [
       "<IPython.core.display.HTML object>"
      ]
     },
     "metadata": {},
     "output_type": "display_data"
    },
    {
     "data": {
      "text/html": [
       " View project at <a href='https://wandb.ai/cs24m015-indian-institute-of-technology-madras/Debasmita-DA6401-Assignment-3' target=\"_blank\">https://wandb.ai/cs24m015-indian-institute-of-technology-madras/Debasmita-DA6401-Assignment-3</a>"
      ],
      "text/plain": [
       "<IPython.core.display.HTML object>"
      ]
     },
     "metadata": {},
     "output_type": "display_data"
    },
    {
     "data": {
      "text/html": [
       " View sweep at <a href='https://wandb.ai/cs24m015-indian-institute-of-technology-madras/Debasmita-DA6401-Assignment-3/sweeps/hbfj1wi7' target=\"_blank\">https://wandb.ai/cs24m015-indian-institute-of-technology-madras/Debasmita-DA6401-Assignment-3/sweeps/hbfj1wi7</a>"
      ],
      "text/plain": [
       "<IPython.core.display.HTML object>"
      ]
     },
     "metadata": {},
     "output_type": "display_data"
    },
    {
     "data": {
      "text/html": [
       " View run at <a href='https://wandb.ai/cs24m015-indian-institute-of-technology-madras/Debasmita-DA6401-Assignment-3/runs/64h6qtqx' target=\"_blank\">https://wandb.ai/cs24m015-indian-institute-of-technology-madras/Debasmita-DA6401-Assignment-3/runs/64h6qtqx</a>"
      ],
      "text/plain": [
       "<IPython.core.display.HTML object>"
      ]
     },
     "metadata": {},
     "output_type": "display_data"
    },
    {
     "name": "stdout",
     "output_type": "stream",
     "text": [
      "run name = ATT_YES_EP_5_CELL_LSTM_EMB_128_ENC_2_DEC_1_FC_512_DRP_0_BS_128_BIDIREC_NO\n",
      "\n",
      "===================================================================================================================\n",
      "Epoch : 1\n",
      "Training Accuracy : 0.29350262178619757\n",
      "Validation Accuracy : 0.2345890410958904\n",
      "Training Loss : 0.4810880151588636\n",
      "Validation Loss : 0.6899595146309839\n",
      "\n",
      "===================================================================================================================\n",
      "Epoch : 2\n",
      "Training Accuracy : 0.4214204161028417\n",
      "Validation Accuracy : 0.2960188356164384\n",
      "Training Loss : 0.386342399074357\n",
      "Validation Loss : 0.6254717189155213\n",
      "\n",
      "===================================================================================================================\n",
      "Epoch : 3\n",
      "Training Accuracy : 0.5426780277401895\n",
      "Validation Accuracy : 0.3374357876712329\n",
      "Training Loss : 0.301903854022168\n",
      "Validation Loss : 0.6503970700584046\n",
      "\n",
      "===================================================================================================================\n",
      "Epoch : 4\n",
      "Training Accuracy : 0.586106647496617\n",
      "Validation Accuracy : 0.3408604452054795\n",
      "Training Loss : 0.2698844874300395\n",
      "Validation Loss : 0.644585618009306\n",
      "\n",
      "===================================================================================================================\n",
      "Epoch : 5\n",
      "Training Accuracy : 0.6592523680649527\n",
      "Validation Accuracy : 0.3407534246575342\n",
      "Training Loss : 0.22151213488131963\n",
      "Validation Loss : 0.6579807774253088\n"
     ]
    },
    {
     "data": {
      "text/html": [],
      "text/plain": [
       "<IPython.core.display.HTML object>"
      ]
     },
     "metadata": {},
     "output_type": "display_data"
    },
    {
     "data": {
      "text/html": [
       "<br>    <style><br>        .wandb-row {<br>            display: flex;<br>            flex-direction: row;<br>            flex-wrap: wrap;<br>            justify-content: flex-start;<br>            width: 100%;<br>        }<br>        .wandb-col {<br>            display: flex;<br>            flex-direction: column;<br>            flex-basis: 100%;<br>            flex: 1;<br>            padding: 10px;<br>        }<br>    </style><br><div class=\"wandb-row\"><div class=\"wandb-col\"><h3>Run history:</h3><br/><table class=\"wandb\"><tr><td>Epoch</td><td>▁▃▅▆█</td></tr><tr><td>training_accuracy</td><td>▁▃▆▇█</td></tr><tr><td>training_loss</td><td>█▅▃▂▁</td></tr><tr><td>validation_accuracy</td><td>▁▅███</td></tr><tr><td>validation_loss</td><td>█▁▄▃▅</td></tr></table><br/></div><div class=\"wandb-col\"><h3>Run summary:</h3><br/><table class=\"wandb\"><tr><td>Epoch</td><td>5</td></tr><tr><td>training_accuracy</td><td>0.65925</td></tr><tr><td>training_loss</td><td>0.22151</td></tr><tr><td>validation_accuracy</td><td>0.34075</td></tr><tr><td>validation_loss</td><td>0.65798</td></tr></table><br/></div></div>"
      ],
      "text/plain": [
       "<IPython.core.display.HTML object>"
      ]
     },
     "metadata": {},
     "output_type": "display_data"
    },
    {
     "data": {
      "text/html": [
       " View run <strong style=\"color:#cdcd00\">ATT_YES_EP_5_CELL_LSTM_EMB_128_ENC_2_DEC_1_FC_512_DRP_0_BS_128_BIDIREC_NO</strong> at: <a href='https://wandb.ai/cs24m015-indian-institute-of-technology-madras/Debasmita-DA6401-Assignment-3/runs/64h6qtqx' target=\"_blank\">https://wandb.ai/cs24m015-indian-institute-of-technology-madras/Debasmita-DA6401-Assignment-3/runs/64h6qtqx</a><br> View project at: <a href='https://wandb.ai/cs24m015-indian-institute-of-technology-madras/Debasmita-DA6401-Assignment-3' target=\"_blank\">https://wandb.ai/cs24m015-indian-institute-of-technology-madras/Debasmita-DA6401-Assignment-3</a><br>Synced 5 W&B file(s), 0 media file(s), 0 artifact file(s) and 0 other file(s)"
      ],
      "text/plain": [
       "<IPython.core.display.HTML object>"
      ]
     },
     "metadata": {},
     "output_type": "display_data"
    },
    {
     "data": {
      "text/html": [
       "Find logs at: <code>./wandb/run-20250517_010213-64h6qtqx/logs</code>"
      ],
      "text/plain": [
       "<IPython.core.display.HTML object>"
      ]
     },
     "metadata": {},
     "output_type": "display_data"
    },
    {
     "name": "stderr",
     "output_type": "stream",
     "text": [
      "\u001b[34m\u001b[1mwandb\u001b[0m: Sweep Agent: Waiting for job.\n",
      "\u001b[34m\u001b[1mwandb\u001b[0m: Job received.\n",
      "\u001b[34m\u001b[1mwandb\u001b[0m: Agent Starting Run: 5h3sjf77 with config:\n",
      "\u001b[34m\u001b[1mwandb\u001b[0m: \tbatch_size: 128\n",
      "\u001b[34m\u001b[1mwandb\u001b[0m: \tbidirectional: NO\n",
      "\u001b[34m\u001b[1mwandb\u001b[0m: \tcell_type: GRU\n",
      "\u001b[34m\u001b[1mwandb\u001b[0m: \tdecoder_layers: 1\n",
      "\u001b[34m\u001b[1mwandb\u001b[0m: \tdropout: 0\n",
      "\u001b[34m\u001b[1mwandb\u001b[0m: \tembedding_size: 16\n",
      "\u001b[34m\u001b[1mwandb\u001b[0m: \tencoder_layers: 2\n",
      "\u001b[34m\u001b[1mwandb\u001b[0m: \tepochs: 5\n",
      "\u001b[34m\u001b[1mwandb\u001b[0m: \tneurons_in_fc: 512\n"
     ]
    },
    {
     "data": {
      "text/html": [
       "Ignoring project 'Debasmita-DA6401-Assignment-3' when running a sweep."
      ],
      "text/plain": [
       "<IPython.core.display.HTML object>"
      ]
     },
     "metadata": {},
     "output_type": "display_data"
    },
    {
     "data": {
      "text/html": [
       "Tracking run with wandb version 0.19.9"
      ],
      "text/plain": [
       "<IPython.core.display.HTML object>"
      ]
     },
     "metadata": {},
     "output_type": "display_data"
    },
    {
     "data": {
      "text/html": [
       "Run data is saved locally in <code>/kaggle/working/wandb/run-20250517_011008-5h3sjf77</code>"
      ],
      "text/plain": [
       "<IPython.core.display.HTML object>"
      ]
     },
     "metadata": {},
     "output_type": "display_data"
    },
    {
     "data": {
      "text/html": [
       "Syncing run <strong><a href='https://wandb.ai/cs24m015-indian-institute-of-technology-madras/Debasmita-DA6401-Assignment-3/runs/5h3sjf77' target=\"_blank\">colorful-sweep-34</a></strong> to <a href='https://wandb.ai/cs24m015-indian-institute-of-technology-madras/Debasmita-DA6401-Assignment-3' target=\"_blank\">Weights & Biases</a> (<a href='https://wandb.me/developer-guide' target=\"_blank\">docs</a>)<br>Sweep page: <a href='https://wandb.ai/cs24m015-indian-institute-of-technology-madras/Debasmita-DA6401-Assignment-3/sweeps/hbfj1wi7' target=\"_blank\">https://wandb.ai/cs24m015-indian-institute-of-technology-madras/Debasmita-DA6401-Assignment-3/sweeps/hbfj1wi7</a>"
      ],
      "text/plain": [
       "<IPython.core.display.HTML object>"
      ]
     },
     "metadata": {},
     "output_type": "display_data"
    },
    {
     "data": {
      "text/html": [
       " View project at <a href='https://wandb.ai/cs24m015-indian-institute-of-technology-madras/Debasmita-DA6401-Assignment-3' target=\"_blank\">https://wandb.ai/cs24m015-indian-institute-of-technology-madras/Debasmita-DA6401-Assignment-3</a>"
      ],
      "text/plain": [
       "<IPython.core.display.HTML object>"
      ]
     },
     "metadata": {},
     "output_type": "display_data"
    },
    {
     "data": {
      "text/html": [
       " View sweep at <a href='https://wandb.ai/cs24m015-indian-institute-of-technology-madras/Debasmita-DA6401-Assignment-3/sweeps/hbfj1wi7' target=\"_blank\">https://wandb.ai/cs24m015-indian-institute-of-technology-madras/Debasmita-DA6401-Assignment-3/sweeps/hbfj1wi7</a>"
      ],
      "text/plain": [
       "<IPython.core.display.HTML object>"
      ]
     },
     "metadata": {},
     "output_type": "display_data"
    },
    {
     "data": {
      "text/html": [
       " View run at <a href='https://wandb.ai/cs24m015-indian-institute-of-technology-madras/Debasmita-DA6401-Assignment-3/runs/5h3sjf77' target=\"_blank\">https://wandb.ai/cs24m015-indian-institute-of-technology-madras/Debasmita-DA6401-Assignment-3/runs/5h3sjf77</a>"
      ],
      "text/plain": [
       "<IPython.core.display.HTML object>"
      ]
     },
     "metadata": {},
     "output_type": "display_data"
    },
    {
     "name": "stdout",
     "output_type": "stream",
     "text": [
      "run name = ATT_YES_EP_5_CELL_GRU_EMB_16_ENC_2_DEC_1_FC_512_DRP_0_BS_128_BIDIREC_NO\n",
      "\n",
      "===================================================================================================================\n",
      "Epoch : 1\n",
      "Training Accuracy : 0.2166885148849797\n",
      "Validation Accuracy : 0.17112585616438356\n",
      "Training Loss : 0.5103536276839905\n",
      "Validation Loss : 0.681389424898853\n",
      "\n",
      "===================================================================================================================\n",
      "Epoch : 2\n",
      "Training Accuracy : 0.29952850135318\n",
      "Validation Accuracy : 0.2204623287671233\n",
      "Training Loss : 0.49288105404102756\n",
      "Validation Loss : 0.6882179987757173\n",
      "\n",
      "===================================================================================================================\n",
      "Epoch : 3\n",
      "Training Accuracy : 0.33580006765899867\n",
      "Validation Accuracy : 0.21971318493150685\n",
      "Training Loss : 0.44397963996830425\n",
      "Validation Loss : 0.6701705300644653\n",
      "\n",
      "===================================================================================================================\n",
      "Epoch : 4\n",
      "Training Accuracy : 0.49193377875507444\n",
      "Validation Accuracy : 0.2970890410958904\n",
      "Training Loss : 0.3338062077034794\n",
      "Validation Loss : 0.6395142637703517\n",
      "\n",
      "===================================================================================================================\n",
      "Epoch : 5\n",
      "Training Accuracy : 0.4963316136671177\n",
      "Validation Accuracy : 0.2935573630136986\n",
      "Training Loss : 0.3203256473610624\n",
      "Validation Loss : 0.624865128161156\n"
     ]
    },
    {
     "data": {
      "text/html": [],
      "text/plain": [
       "<IPython.core.display.HTML object>"
      ]
     },
     "metadata": {},
     "output_type": "display_data"
    },
    {
     "data": {
      "text/html": [
       "<br>    <style><br>        .wandb-row {<br>            display: flex;<br>            flex-direction: row;<br>            flex-wrap: wrap;<br>            justify-content: flex-start;<br>            width: 100%;<br>        }<br>        .wandb-col {<br>            display: flex;<br>            flex-direction: column;<br>            flex-basis: 100%;<br>            flex: 1;<br>            padding: 10px;<br>        }<br>    </style><br><div class=\"wandb-row\"><div class=\"wandb-col\"><h3>Run history:</h3><br/><table class=\"wandb\"><tr><td>Epoch</td><td>▁▃▅▆█</td></tr><tr><td>training_accuracy</td><td>▁▃▄██</td></tr><tr><td>training_loss</td><td>█▇▆▁▁</td></tr><tr><td>validation_accuracy</td><td>▁▄▄██</td></tr><tr><td>validation_loss</td><td>▇█▆▃▁</td></tr></table><br/></div><div class=\"wandb-col\"><h3>Run summary:</h3><br/><table class=\"wandb\"><tr><td>Epoch</td><td>5</td></tr><tr><td>training_accuracy</td><td>0.49633</td></tr><tr><td>training_loss</td><td>0.32033</td></tr><tr><td>validation_accuracy</td><td>0.29356</td></tr><tr><td>validation_loss</td><td>0.62487</td></tr></table><br/></div></div>"
      ],
      "text/plain": [
       "<IPython.core.display.HTML object>"
      ]
     },
     "metadata": {},
     "output_type": "display_data"
    },
    {
     "data": {
      "text/html": [
       " View run <strong style=\"color:#cdcd00\">ATT_YES_EP_5_CELL_GRU_EMB_16_ENC_2_DEC_1_FC_512_DRP_0_BS_128_BIDIREC_NO</strong> at: <a href='https://wandb.ai/cs24m015-indian-institute-of-technology-madras/Debasmita-DA6401-Assignment-3/runs/5h3sjf77' target=\"_blank\">https://wandb.ai/cs24m015-indian-institute-of-technology-madras/Debasmita-DA6401-Assignment-3/runs/5h3sjf77</a><br> View project at: <a href='https://wandb.ai/cs24m015-indian-institute-of-technology-madras/Debasmita-DA6401-Assignment-3' target=\"_blank\">https://wandb.ai/cs24m015-indian-institute-of-technology-madras/Debasmita-DA6401-Assignment-3</a><br>Synced 5 W&B file(s), 0 media file(s), 0 artifact file(s) and 0 other file(s)"
      ],
      "text/plain": [
       "<IPython.core.display.HTML object>"
      ]
     },
     "metadata": {},
     "output_type": "display_data"
    },
    {
     "data": {
      "text/html": [
       "Find logs at: <code>./wandb/run-20250517_011008-5h3sjf77/logs</code>"
      ],
      "text/plain": [
       "<IPython.core.display.HTML object>"
      ]
     },
     "metadata": {},
     "output_type": "display_data"
    },
    {
     "name": "stderr",
     "output_type": "stream",
     "text": [
      "\u001b[34m\u001b[1mwandb\u001b[0m: Agent Starting Run: jbm6pajw with config:\n",
      "\u001b[34m\u001b[1mwandb\u001b[0m: \tbatch_size: 128\n",
      "\u001b[34m\u001b[1mwandb\u001b[0m: \tbidirectional: NO\n",
      "\u001b[34m\u001b[1mwandb\u001b[0m: \tcell_type: LSTM\n",
      "\u001b[34m\u001b[1mwandb\u001b[0m: \tdecoder_layers: 3\n",
      "\u001b[34m\u001b[1mwandb\u001b[0m: \tdropout: 0\n",
      "\u001b[34m\u001b[1mwandb\u001b[0m: \tembedding_size: 64\n",
      "\u001b[34m\u001b[1mwandb\u001b[0m: \tencoder_layers: 3\n",
      "\u001b[34m\u001b[1mwandb\u001b[0m: \tepochs: 5\n",
      "\u001b[34m\u001b[1mwandb\u001b[0m: \tneurons_in_fc: 256\n"
     ]
    },
    {
     "data": {
      "text/html": [
       "Ignoring project 'Debasmita-DA6401-Assignment-3' when running a sweep."
      ],
      "text/plain": [
       "<IPython.core.display.HTML object>"
      ]
     },
     "metadata": {},
     "output_type": "display_data"
    },
    {
     "data": {
      "text/html": [
       "Tracking run with wandb version 0.19.9"
      ],
      "text/plain": [
       "<IPython.core.display.HTML object>"
      ]
     },
     "metadata": {},
     "output_type": "display_data"
    },
    {
     "data": {
      "text/html": [
       "Run data is saved locally in <code>/kaggle/working/wandb/run-20250517_011659-jbm6pajw</code>"
      ],
      "text/plain": [
       "<IPython.core.display.HTML object>"
      ]
     },
     "metadata": {},
     "output_type": "display_data"
    },
    {
     "data": {
      "text/html": [
       "Syncing run <strong><a href='https://wandb.ai/cs24m015-indian-institute-of-technology-madras/Debasmita-DA6401-Assignment-3/runs/jbm6pajw' target=\"_blank\">gentle-sweep-35</a></strong> to <a href='https://wandb.ai/cs24m015-indian-institute-of-technology-madras/Debasmita-DA6401-Assignment-3' target=\"_blank\">Weights & Biases</a> (<a href='https://wandb.me/developer-guide' target=\"_blank\">docs</a>)<br>Sweep page: <a href='https://wandb.ai/cs24m015-indian-institute-of-technology-madras/Debasmita-DA6401-Assignment-3/sweeps/hbfj1wi7' target=\"_blank\">https://wandb.ai/cs24m015-indian-institute-of-technology-madras/Debasmita-DA6401-Assignment-3/sweeps/hbfj1wi7</a>"
      ],
      "text/plain": [
       "<IPython.core.display.HTML object>"
      ]
     },
     "metadata": {},
     "output_type": "display_data"
    },
    {
     "data": {
      "text/html": [
       " View project at <a href='https://wandb.ai/cs24m015-indian-institute-of-technology-madras/Debasmita-DA6401-Assignment-3' target=\"_blank\">https://wandb.ai/cs24m015-indian-institute-of-technology-madras/Debasmita-DA6401-Assignment-3</a>"
      ],
      "text/plain": [
       "<IPython.core.display.HTML object>"
      ]
     },
     "metadata": {},
     "output_type": "display_data"
    },
    {
     "data": {
      "text/html": [
       " View sweep at <a href='https://wandb.ai/cs24m015-indian-institute-of-technology-madras/Debasmita-DA6401-Assignment-3/sweeps/hbfj1wi7' target=\"_blank\">https://wandb.ai/cs24m015-indian-institute-of-technology-madras/Debasmita-DA6401-Assignment-3/sweeps/hbfj1wi7</a>"
      ],
      "text/plain": [
       "<IPython.core.display.HTML object>"
      ]
     },
     "metadata": {},
     "output_type": "display_data"
    },
    {
     "data": {
      "text/html": [
       " View run at <a href='https://wandb.ai/cs24m015-indian-institute-of-technology-madras/Debasmita-DA6401-Assignment-3/runs/jbm6pajw' target=\"_blank\">https://wandb.ai/cs24m015-indian-institute-of-technology-madras/Debasmita-DA6401-Assignment-3/runs/jbm6pajw</a>"
      ],
      "text/plain": [
       "<IPython.core.display.HTML object>"
      ]
     },
     "metadata": {},
     "output_type": "display_data"
    },
    {
     "name": "stdout",
     "output_type": "stream",
     "text": [
      "run name = ATT_YES_EP_5_CELL_LSTM_EMB_64_ENC_3_DEC_3_FC_256_DRP_0_BS_128_BIDIREC_NO\n",
      "\n",
      "===================================================================================================================\n",
      "Epoch : 1\n",
      "Training Accuracy : 0.18132611637347767\n",
      "Validation Accuracy : 0.1662029109589041\n",
      "Training Loss : 0.5749067427824895\n",
      "Validation Loss : 0.7096345787995482\n",
      "\n",
      "===================================================================================================================\n",
      "Epoch : 2\n",
      "Training Accuracy : 0.3571655108254398\n",
      "Validation Accuracy : 0.2594178082191781\n",
      "Training Loss : 0.4151440961273823\n",
      "Validation Loss : 0.652725583069945\n",
      "\n",
      "===================================================================================================================\n",
      "Epoch : 3\n",
      "Training Accuracy : 0.45427731732070364\n",
      "Validation Accuracy : 0.3043664383561644\n",
      "Training Loss : 0.31556808412155696\n",
      "Validation Loss : 0.5862258938077378\n",
      "\n",
      "===================================================================================================================\n",
      "Epoch : 4\n",
      "Training Accuracy : 0.5284062077131259\n",
      "Validation Accuracy : 0.3301583904109589\n",
      "Training Loss : 0.2655997486616181\n",
      "Validation Loss : 0.565267413446348\n",
      "\n",
      "===================================================================================================================\n",
      "Epoch : 5\n",
      "Training Accuracy : 0.5918153755074425\n",
      "Validation Accuracy : 0.3374357876712329\n",
      "Training Loss : 0.23111635496958344\n",
      "Validation Loss : 0.6167597374687456\n"
     ]
    },
    {
     "data": {
      "text/html": [],
      "text/plain": [
       "<IPython.core.display.HTML object>"
      ]
     },
     "metadata": {},
     "output_type": "display_data"
    },
    {
     "data": {
      "text/html": [
       "<br>    <style><br>        .wandb-row {<br>            display: flex;<br>            flex-direction: row;<br>            flex-wrap: wrap;<br>            justify-content: flex-start;<br>            width: 100%;<br>        }<br>        .wandb-col {<br>            display: flex;<br>            flex-direction: column;<br>            flex-basis: 100%;<br>            flex: 1;<br>            padding: 10px;<br>        }<br>    </style><br><div class=\"wandb-row\"><div class=\"wandb-col\"><h3>Run history:</h3><br/><table class=\"wandb\"><tr><td>Epoch</td><td>▁▃▅▆█</td></tr><tr><td>training_accuracy</td><td>▁▄▆▇█</td></tr><tr><td>training_loss</td><td>█▅▃▂▁</td></tr><tr><td>validation_accuracy</td><td>▁▅▇██</td></tr><tr><td>validation_loss</td><td>█▅▂▁▃</td></tr></table><br/></div><div class=\"wandb-col\"><h3>Run summary:</h3><br/><table class=\"wandb\"><tr><td>Epoch</td><td>5</td></tr><tr><td>training_accuracy</td><td>0.59182</td></tr><tr><td>training_loss</td><td>0.23112</td></tr><tr><td>validation_accuracy</td><td>0.33744</td></tr><tr><td>validation_loss</td><td>0.61676</td></tr></table><br/></div></div>"
      ],
      "text/plain": [
       "<IPython.core.display.HTML object>"
      ]
     },
     "metadata": {},
     "output_type": "display_data"
    },
    {
     "data": {
      "text/html": [
       " View run <strong style=\"color:#cdcd00\">ATT_YES_EP_5_CELL_LSTM_EMB_64_ENC_3_DEC_3_FC_256_DRP_0_BS_128_BIDIREC_NO</strong> at: <a href='https://wandb.ai/cs24m015-indian-institute-of-technology-madras/Debasmita-DA6401-Assignment-3/runs/jbm6pajw' target=\"_blank\">https://wandb.ai/cs24m015-indian-institute-of-technology-madras/Debasmita-DA6401-Assignment-3/runs/jbm6pajw</a><br> View project at: <a href='https://wandb.ai/cs24m015-indian-institute-of-technology-madras/Debasmita-DA6401-Assignment-3' target=\"_blank\">https://wandb.ai/cs24m015-indian-institute-of-technology-madras/Debasmita-DA6401-Assignment-3</a><br>Synced 5 W&B file(s), 0 media file(s), 0 artifact file(s) and 0 other file(s)"
      ],
      "text/plain": [
       "<IPython.core.display.HTML object>"
      ]
     },
     "metadata": {},
     "output_type": "display_data"
    },
    {
     "data": {
      "text/html": [
       "Find logs at: <code>./wandb/run-20250517_011659-jbm6pajw/logs</code>"
      ],
      "text/plain": [
       "<IPython.core.display.HTML object>"
      ]
     },
     "metadata": {},
     "output_type": "display_data"
    },
    {
     "name": "stderr",
     "output_type": "stream",
     "text": [
      "\u001b[34m\u001b[1mwandb\u001b[0m: Agent Starting Run: ex2c4m2d with config:\n",
      "\u001b[34m\u001b[1mwandb\u001b[0m: \tbatch_size: 128\n",
      "\u001b[34m\u001b[1mwandb\u001b[0m: \tbidirectional: NO\n",
      "\u001b[34m\u001b[1mwandb\u001b[0m: \tcell_type: LSTM\n",
      "\u001b[34m\u001b[1mwandb\u001b[0m: \tdecoder_layers: 2\n",
      "\u001b[34m\u001b[1mwandb\u001b[0m: \tdropout: 0\n",
      "\u001b[34m\u001b[1mwandb\u001b[0m: \tembedding_size: 16\n",
      "\u001b[34m\u001b[1mwandb\u001b[0m: \tencoder_layers: 2\n",
      "\u001b[34m\u001b[1mwandb\u001b[0m: \tepochs: 5\n",
      "\u001b[34m\u001b[1mwandb\u001b[0m: \tneurons_in_fc: 512\n"
     ]
    },
    {
     "data": {
      "text/html": [
       "Ignoring project 'Debasmita-DA6401-Assignment-3' when running a sweep."
      ],
      "text/plain": [
       "<IPython.core.display.HTML object>"
      ]
     },
     "metadata": {},
     "output_type": "display_data"
    },
    {
     "data": {
      "text/html": [
       "Tracking run with wandb version 0.19.9"
      ],
      "text/plain": [
       "<IPython.core.display.HTML object>"
      ]
     },
     "metadata": {},
     "output_type": "display_data"
    },
    {
     "data": {
      "text/html": [
       "Run data is saved locally in <code>/kaggle/working/wandb/run-20250517_012318-ex2c4m2d</code>"
      ],
      "text/plain": [
       "<IPython.core.display.HTML object>"
      ]
     },
     "metadata": {},
     "output_type": "display_data"
    },
    {
     "data": {
      "text/html": [
       "Syncing run <strong><a href='https://wandb.ai/cs24m015-indian-institute-of-technology-madras/Debasmita-DA6401-Assignment-3/runs/ex2c4m2d' target=\"_blank\">desert-sweep-36</a></strong> to <a href='https://wandb.ai/cs24m015-indian-institute-of-technology-madras/Debasmita-DA6401-Assignment-3' target=\"_blank\">Weights & Biases</a> (<a href='https://wandb.me/developer-guide' target=\"_blank\">docs</a>)<br>Sweep page: <a href='https://wandb.ai/cs24m015-indian-institute-of-technology-madras/Debasmita-DA6401-Assignment-3/sweeps/hbfj1wi7' target=\"_blank\">https://wandb.ai/cs24m015-indian-institute-of-technology-madras/Debasmita-DA6401-Assignment-3/sweeps/hbfj1wi7</a>"
      ],
      "text/plain": [
       "<IPython.core.display.HTML object>"
      ]
     },
     "metadata": {},
     "output_type": "display_data"
    },
    {
     "data": {
      "text/html": [
       " View project at <a href='https://wandb.ai/cs24m015-indian-institute-of-technology-madras/Debasmita-DA6401-Assignment-3' target=\"_blank\">https://wandb.ai/cs24m015-indian-institute-of-technology-madras/Debasmita-DA6401-Assignment-3</a>"
      ],
      "text/plain": [
       "<IPython.core.display.HTML object>"
      ]
     },
     "metadata": {},
     "output_type": "display_data"
    },
    {
     "data": {
      "text/html": [
       " View sweep at <a href='https://wandb.ai/cs24m015-indian-institute-of-technology-madras/Debasmita-DA6401-Assignment-3/sweeps/hbfj1wi7' target=\"_blank\">https://wandb.ai/cs24m015-indian-institute-of-technology-madras/Debasmita-DA6401-Assignment-3/sweeps/hbfj1wi7</a>"
      ],
      "text/plain": [
       "<IPython.core.display.HTML object>"
      ]
     },
     "metadata": {},
     "output_type": "display_data"
    },
    {
     "data": {
      "text/html": [
       " View run at <a href='https://wandb.ai/cs24m015-indian-institute-of-technology-madras/Debasmita-DA6401-Assignment-3/runs/ex2c4m2d' target=\"_blank\">https://wandb.ai/cs24m015-indian-institute-of-technology-madras/Debasmita-DA6401-Assignment-3/runs/ex2c4m2d</a>"
      ],
      "text/plain": [
       "<IPython.core.display.HTML object>"
      ]
     },
     "metadata": {},
     "output_type": "display_data"
    },
    {
     "name": "stdout",
     "output_type": "stream",
     "text": [
      "run name = ATT_YES_EP_5_CELL_LSTM_EMB_16_ENC_2_DEC_2_FC_512_DRP_0_BS_128_BIDIREC_NO\n",
      "\n",
      "===================================================================================================================\n",
      "Epoch : 1\n",
      "Training Accuracy : 0.0004334404600811908\n",
      "Validation Accuracy : 0.0\n",
      "Training Loss : 1.0329821651778783\n",
      "Validation Loss : 1.3878186892156732\n",
      "\n",
      "===================================================================================================================\n",
      "Epoch : 2\n",
      "Training Accuracy : 0.01644959404600812\n",
      "Validation Accuracy : 0.006635273972602739\n",
      "Training Loss : 0.8829434618091713\n",
      "Validation Loss : 1.2761534280972937\n",
      "\n",
      "===================================================================================================================\n",
      "Epoch : 3\n",
      "Training Accuracy : 0.259345399188092\n",
      "Validation Accuracy : 0.13035102739726026\n",
      "Training Loss : 0.5116228061212739\n",
      "Validation Loss : 0.8205665750046299\n",
      "\n",
      "===================================================================================================================\n",
      "Epoch : 4\n",
      "Training Accuracy : 0.5331317658998647\n",
      "Validation Accuracy : 0.18225599315068494\n",
      "Training Loss : 0.3033728108354447\n",
      "Validation Loss : 0.8476441155557763\n",
      "\n",
      "===================================================================================================================\n",
      "Epoch : 5\n",
      "Training Accuracy : 0.6807446718538566\n",
      "Validation Accuracy : 0.2144691780821918\n",
      "Training Loss : 0.1979873964363893\n",
      "Validation Loss : 0.8429304724686766\n"
     ]
    },
    {
     "data": {
      "text/html": [],
      "text/plain": [
       "<IPython.core.display.HTML object>"
      ]
     },
     "metadata": {},
     "output_type": "display_data"
    },
    {
     "data": {
      "text/html": [
       "<br>    <style><br>        .wandb-row {<br>            display: flex;<br>            flex-direction: row;<br>            flex-wrap: wrap;<br>            justify-content: flex-start;<br>            width: 100%;<br>        }<br>        .wandb-col {<br>            display: flex;<br>            flex-direction: column;<br>            flex-basis: 100%;<br>            flex: 1;<br>            padding: 10px;<br>        }<br>    </style><br><div class=\"wandb-row\"><div class=\"wandb-col\"><h3>Run history:</h3><br/><table class=\"wandb\"><tr><td>Epoch</td><td>▁▃▅▆█</td></tr><tr><td>training_accuracy</td><td>▁▁▄▆█</td></tr><tr><td>training_loss</td><td>█▇▄▂▁</td></tr><tr><td>validation_accuracy</td><td>▁▁▅▇█</td></tr><tr><td>validation_loss</td><td>█▇▁▁▁</td></tr></table><br/></div><div class=\"wandb-col\"><h3>Run summary:</h3><br/><table class=\"wandb\"><tr><td>Epoch</td><td>5</td></tr><tr><td>training_accuracy</td><td>0.68074</td></tr><tr><td>training_loss</td><td>0.19799</td></tr><tr><td>validation_accuracy</td><td>0.21447</td></tr><tr><td>validation_loss</td><td>0.84293</td></tr></table><br/></div></div>"
      ],
      "text/plain": [
       "<IPython.core.display.HTML object>"
      ]
     },
     "metadata": {},
     "output_type": "display_data"
    },
    {
     "data": {
      "text/html": [
       " View run <strong style=\"color:#cdcd00\">ATT_YES_EP_5_CELL_LSTM_EMB_16_ENC_2_DEC_2_FC_512_DRP_0_BS_128_BIDIREC_NO</strong> at: <a href='https://wandb.ai/cs24m015-indian-institute-of-technology-madras/Debasmita-DA6401-Assignment-3/runs/ex2c4m2d' target=\"_blank\">https://wandb.ai/cs24m015-indian-institute-of-technology-madras/Debasmita-DA6401-Assignment-3/runs/ex2c4m2d</a><br> View project at: <a href='https://wandb.ai/cs24m015-indian-institute-of-technology-madras/Debasmita-DA6401-Assignment-3' target=\"_blank\">https://wandb.ai/cs24m015-indian-institute-of-technology-madras/Debasmita-DA6401-Assignment-3</a><br>Synced 5 W&B file(s), 0 media file(s), 0 artifact file(s) and 0 other file(s)"
      ],
      "text/plain": [
       "<IPython.core.display.HTML object>"
      ]
     },
     "metadata": {},
     "output_type": "display_data"
    },
    {
     "data": {
      "text/html": [
       "Find logs at: <code>./wandb/run-20250517_012318-ex2c4m2d/logs</code>"
      ],
      "text/plain": [
       "<IPython.core.display.HTML object>"
      ]
     },
     "metadata": {},
     "output_type": "display_data"
    },
    {
     "name": "stderr",
     "output_type": "stream",
     "text": [
      "\u001b[34m\u001b[1mwandb\u001b[0m: Agent Starting Run: 2b0y125m with config:\n",
      "\u001b[34m\u001b[1mwandb\u001b[0m: \tbatch_size: 128\n",
      "\u001b[34m\u001b[1mwandb\u001b[0m: \tbidirectional: NO\n",
      "\u001b[34m\u001b[1mwandb\u001b[0m: \tcell_type: LSTM\n",
      "\u001b[34m\u001b[1mwandb\u001b[0m: \tdecoder_layers: 1\n",
      "\u001b[34m\u001b[1mwandb\u001b[0m: \tdropout: 0.2\n",
      "\u001b[34m\u001b[1mwandb\u001b[0m: \tembedding_size: 128\n",
      "\u001b[34m\u001b[1mwandb\u001b[0m: \tencoder_layers: 2\n",
      "\u001b[34m\u001b[1mwandb\u001b[0m: \tepochs: 10\n",
      "\u001b[34m\u001b[1mwandb\u001b[0m: \tneurons_in_fc: 512\n"
     ]
    },
    {
     "data": {
      "text/html": [
       "Ignoring project 'Debasmita-DA6401-Assignment-3' when running a sweep."
      ],
      "text/plain": [
       "<IPython.core.display.HTML object>"
      ]
     },
     "metadata": {},
     "output_type": "display_data"
    },
    {
     "data": {
      "text/html": [
       "Tracking run with wandb version 0.19.9"
      ],
      "text/plain": [
       "<IPython.core.display.HTML object>"
      ]
     },
     "metadata": {},
     "output_type": "display_data"
    },
    {
     "data": {
      "text/html": [
       "Run data is saved locally in <code>/kaggle/working/wandb/run-20250517_013220-2b0y125m</code>"
      ],
      "text/plain": [
       "<IPython.core.display.HTML object>"
      ]
     },
     "metadata": {},
     "output_type": "display_data"
    },
    {
     "data": {
      "text/html": [
       "Syncing run <strong><a href='https://wandb.ai/cs24m015-indian-institute-of-technology-madras/Debasmita-DA6401-Assignment-3/runs/2b0y125m' target=\"_blank\">logical-sweep-37</a></strong> to <a href='https://wandb.ai/cs24m015-indian-institute-of-technology-madras/Debasmita-DA6401-Assignment-3' target=\"_blank\">Weights & Biases</a> (<a href='https://wandb.me/developer-guide' target=\"_blank\">docs</a>)<br>Sweep page: <a href='https://wandb.ai/cs24m015-indian-institute-of-technology-madras/Debasmita-DA6401-Assignment-3/sweeps/hbfj1wi7' target=\"_blank\">https://wandb.ai/cs24m015-indian-institute-of-technology-madras/Debasmita-DA6401-Assignment-3/sweeps/hbfj1wi7</a>"
      ],
      "text/plain": [
       "<IPython.core.display.HTML object>"
      ]
     },
     "metadata": {},
     "output_type": "display_data"
    },
    {
     "data": {
      "text/html": [
       " View project at <a href='https://wandb.ai/cs24m015-indian-institute-of-technology-madras/Debasmita-DA6401-Assignment-3' target=\"_blank\">https://wandb.ai/cs24m015-indian-institute-of-technology-madras/Debasmita-DA6401-Assignment-3</a>"
      ],
      "text/plain": [
       "<IPython.core.display.HTML object>"
      ]
     },
     "metadata": {},
     "output_type": "display_data"
    },
    {
     "data": {
      "text/html": [
       " View sweep at <a href='https://wandb.ai/cs24m015-indian-institute-of-technology-madras/Debasmita-DA6401-Assignment-3/sweeps/hbfj1wi7' target=\"_blank\">https://wandb.ai/cs24m015-indian-institute-of-technology-madras/Debasmita-DA6401-Assignment-3/sweeps/hbfj1wi7</a>"
      ],
      "text/plain": [
       "<IPython.core.display.HTML object>"
      ]
     },
     "metadata": {},
     "output_type": "display_data"
    },
    {
     "data": {
      "text/html": [
       " View run at <a href='https://wandb.ai/cs24m015-indian-institute-of-technology-madras/Debasmita-DA6401-Assignment-3/runs/2b0y125m' target=\"_blank\">https://wandb.ai/cs24m015-indian-institute-of-technology-madras/Debasmita-DA6401-Assignment-3/runs/2b0y125m</a>"
      ],
      "text/plain": [
       "<IPython.core.display.HTML object>"
      ]
     },
     "metadata": {},
     "output_type": "display_data"
    },
    {
     "name": "stdout",
     "output_type": "stream",
     "text": [
      "run name = ATT_YES_EP_10_CELL_LSTM_EMB_128_ENC_2_DEC_1_FC_512_DRP_0.2_BS_128_BIDIREC_NO\n",
      "\n",
      "===================================================================================================================\n",
      "Epoch : 1\n",
      "Training Accuracy : 0.16850262178619757\n",
      "Validation Accuracy : 0.1446917808219178\n",
      "Training Loss : 0.5800098164236432\n",
      "Validation Loss : 0.7369520019178522\n",
      "\n",
      "===================================================================================================================\n",
      "Epoch : 2\n",
      "Training Accuracy : 0.3849691305818674\n",
      "Validation Accuracy : 0.2600599315068493\n",
      "Training Loss : 0.4223614261260052\n",
      "Validation Loss : 0.669631206825988\n",
      "\n",
      "===================================================================================================================\n",
      "Epoch : 3\n",
      "Training Accuracy : 0.5052752875507442\n",
      "Validation Accuracy : 0.3053296232876712\n",
      "Training Loss : 0.35399332459063265\n",
      "Validation Loss : 0.6713772812118269\n",
      "\n",
      "===================================================================================================================\n",
      "Epoch : 4\n",
      "Training Accuracy : 0.6195344215155616\n",
      "Validation Accuracy : 0.3378638698630137\n",
      "Training Loss : 0.25722043744524054\n",
      "Validation Loss : 0.6457897216489871\n",
      "\n",
      "===================================================================================================================\n",
      "Epoch : 5\n",
      "Training Accuracy : 0.6690840663058186\n",
      "Validation Accuracy : 0.3411815068493151\n",
      "Training Loss : 0.2222545108227349\n",
      "Validation Loss : 0.6438059778246161\n",
      "\n",
      "===================================================================================================================\n",
      "Epoch : 6\n",
      "Training Accuracy : 0.7301251691474966\n",
      "Validation Accuracy : 0.3470676369863014\n",
      "Training Loss : 0.17686265881434185\n",
      "Validation Loss : 0.6646638539147703\n",
      "\n",
      "===================================================================================================================\n",
      "Epoch : 7\n",
      "Training Accuracy : 0.7448198579161028\n",
      "Validation Accuracy : 0.3366866438356164\n",
      "Training Loss : 0.15934174107601903\n",
      "Validation Loss : 0.6779121952514126\n",
      "\n",
      "===================================================================================================================\n",
      "Epoch : 8\n",
      "Training Accuracy : 0.7943166441136671\n",
      "Validation Accuracy : 0.3538099315068493\n",
      "Training Loss : 0.13360461146546798\n",
      "Validation Loss : 0.6961217600188844\n",
      "\n",
      "===================================================================================================================\n",
      "Epoch : 9\n",
      "Training Accuracy : 0.8098253552097429\n",
      "Validation Accuracy : 0.3491010273972603\n",
      "Training Loss : 0.1208122625785687\n",
      "Validation Loss : 0.7285872383476937\n",
      "\n",
      "===================================================================================================================\n",
      "Epoch : 10\n",
      "Training Accuracy : 0.8205027909336942\n",
      "Validation Accuracy : 0.3331549657534247\n",
      "Training Loss : 0.11707916989398261\n",
      "Validation Loss : 0.7279334807232635\n"
     ]
    },
    {
     "data": {
      "text/html": [],
      "text/plain": [
       "<IPython.core.display.HTML object>"
      ]
     },
     "metadata": {},
     "output_type": "display_data"
    },
    {
     "data": {
      "text/html": [
       "<br>    <style><br>        .wandb-row {<br>            display: flex;<br>            flex-direction: row;<br>            flex-wrap: wrap;<br>            justify-content: flex-start;<br>            width: 100%;<br>        }<br>        .wandb-col {<br>            display: flex;<br>            flex-direction: column;<br>            flex-basis: 100%;<br>            flex: 1;<br>            padding: 10px;<br>        }<br>    </style><br><div class=\"wandb-row\"><div class=\"wandb-col\"><h3>Run history:</h3><br/><table class=\"wandb\"><tr><td>Epoch</td><td>▁▂▃▃▄▅▆▆▇█</td></tr><tr><td>training_accuracy</td><td>▁▃▅▆▆▇▇███</td></tr><tr><td>training_loss</td><td>█▆▅▃▃▂▂▁▁▁</td></tr><tr><td>validation_accuracy</td><td>▁▅▆▇██▇██▇</td></tr><tr><td>validation_loss</td><td>█▃▃▁▁▃▄▅▇▇</td></tr></table><br/></div><div class=\"wandb-col\"><h3>Run summary:</h3><br/><table class=\"wandb\"><tr><td>Epoch</td><td>10</td></tr><tr><td>training_accuracy</td><td>0.8205</td></tr><tr><td>training_loss</td><td>0.11708</td></tr><tr><td>validation_accuracy</td><td>0.33315</td></tr><tr><td>validation_loss</td><td>0.72793</td></tr></table><br/></div></div>"
      ],
      "text/plain": [
       "<IPython.core.display.HTML object>"
      ]
     },
     "metadata": {},
     "output_type": "display_data"
    },
    {
     "data": {
      "text/html": [
       " View run <strong style=\"color:#cdcd00\">ATT_YES_EP_10_CELL_LSTM_EMB_128_ENC_2_DEC_1_FC_512_DRP_0.2_BS_128_BIDIREC_NO</strong> at: <a href='https://wandb.ai/cs24m015-indian-institute-of-technology-madras/Debasmita-DA6401-Assignment-3/runs/2b0y125m' target=\"_blank\">https://wandb.ai/cs24m015-indian-institute-of-technology-madras/Debasmita-DA6401-Assignment-3/runs/2b0y125m</a><br> View project at: <a href='https://wandb.ai/cs24m015-indian-institute-of-technology-madras/Debasmita-DA6401-Assignment-3' target=\"_blank\">https://wandb.ai/cs24m015-indian-institute-of-technology-madras/Debasmita-DA6401-Assignment-3</a><br>Synced 5 W&B file(s), 0 media file(s), 0 artifact file(s) and 0 other file(s)"
      ],
      "text/plain": [
       "<IPython.core.display.HTML object>"
      ]
     },
     "metadata": {},
     "output_type": "display_data"
    },
    {
     "data": {
      "text/html": [
       "Find logs at: <code>./wandb/run-20250517_013220-2b0y125m/logs</code>"
      ],
      "text/plain": [
       "<IPython.core.display.HTML object>"
      ]
     },
     "metadata": {},
     "output_type": "display_data"
    },
    {
     "name": "stderr",
     "output_type": "stream",
     "text": [
      "\u001b[34m\u001b[1mwandb\u001b[0m: Agent Starting Run: srcvvrz6 with config:\n",
      "\u001b[34m\u001b[1mwandb\u001b[0m: \tbatch_size: 128\n",
      "\u001b[34m\u001b[1mwandb\u001b[0m: \tbidirectional: NO\n",
      "\u001b[34m\u001b[1mwandb\u001b[0m: \tcell_type: LSTM\n",
      "\u001b[34m\u001b[1mwandb\u001b[0m: \tdecoder_layers: 3\n",
      "\u001b[34m\u001b[1mwandb\u001b[0m: \tdropout: 0.2\n",
      "\u001b[34m\u001b[1mwandb\u001b[0m: \tembedding_size: 512\n",
      "\u001b[34m\u001b[1mwandb\u001b[0m: \tencoder_layers: 2\n",
      "\u001b[34m\u001b[1mwandb\u001b[0m: \tepochs: 10\n",
      "\u001b[34m\u001b[1mwandb\u001b[0m: \tneurons_in_fc: 256\n"
     ]
    },
    {
     "data": {
      "text/html": [
       "Ignoring project 'Debasmita-DA6401-Assignment-3' when running a sweep."
      ],
      "text/plain": [
       "<IPython.core.display.HTML object>"
      ]
     },
     "metadata": {},
     "output_type": "display_data"
    },
    {
     "data": {
      "text/html": [
       "Tracking run with wandb version 0.19.9"
      ],
      "text/plain": [
       "<IPython.core.display.HTML object>"
      ]
     },
     "metadata": {},
     "output_type": "display_data"
    },
    {
     "data": {
      "text/html": [
       "Run data is saved locally in <code>/kaggle/working/wandb/run-20250517_014735-srcvvrz6</code>"
      ],
      "text/plain": [
       "<IPython.core.display.HTML object>"
      ]
     },
     "metadata": {},
     "output_type": "display_data"
    },
    {
     "data": {
      "text/html": [
       "Syncing run <strong><a href='https://wandb.ai/cs24m015-indian-institute-of-technology-madras/Debasmita-DA6401-Assignment-3/runs/srcvvrz6' target=\"_blank\">crimson-sweep-38</a></strong> to <a href='https://wandb.ai/cs24m015-indian-institute-of-technology-madras/Debasmita-DA6401-Assignment-3' target=\"_blank\">Weights & Biases</a> (<a href='https://wandb.me/developer-guide' target=\"_blank\">docs</a>)<br>Sweep page: <a href='https://wandb.ai/cs24m015-indian-institute-of-technology-madras/Debasmita-DA6401-Assignment-3/sweeps/hbfj1wi7' target=\"_blank\">https://wandb.ai/cs24m015-indian-institute-of-technology-madras/Debasmita-DA6401-Assignment-3/sweeps/hbfj1wi7</a>"
      ],
      "text/plain": [
       "<IPython.core.display.HTML object>"
      ]
     },
     "metadata": {},
     "output_type": "display_data"
    },
    {
     "data": {
      "text/html": [
       " View project at <a href='https://wandb.ai/cs24m015-indian-institute-of-technology-madras/Debasmita-DA6401-Assignment-3' target=\"_blank\">https://wandb.ai/cs24m015-indian-institute-of-technology-madras/Debasmita-DA6401-Assignment-3</a>"
      ],
      "text/plain": [
       "<IPython.core.display.HTML object>"
      ]
     },
     "metadata": {},
     "output_type": "display_data"
    },
    {
     "data": {
      "text/html": [
       " View sweep at <a href='https://wandb.ai/cs24m015-indian-institute-of-technology-madras/Debasmita-DA6401-Assignment-3/sweeps/hbfj1wi7' target=\"_blank\">https://wandb.ai/cs24m015-indian-institute-of-technology-madras/Debasmita-DA6401-Assignment-3/sweeps/hbfj1wi7</a>"
      ],
      "text/plain": [
       "<IPython.core.display.HTML object>"
      ]
     },
     "metadata": {},
     "output_type": "display_data"
    },
    {
     "data": {
      "text/html": [
       " View run at <a href='https://wandb.ai/cs24m015-indian-institute-of-technology-madras/Debasmita-DA6401-Assignment-3/runs/srcvvrz6' target=\"_blank\">https://wandb.ai/cs24m015-indian-institute-of-technology-madras/Debasmita-DA6401-Assignment-3/runs/srcvvrz6</a>"
      ],
      "text/plain": [
       "<IPython.core.display.HTML object>"
      ]
     },
     "metadata": {},
     "output_type": "display_data"
    },
    {
     "name": "stdout",
     "output_type": "stream",
     "text": [
      "run name = ATT_YES_EP_10_CELL_LSTM_EMB_512_ENC_2_DEC_3_FC_256_DRP_0.2_BS_128_BIDIREC_NO\n",
      "\n",
      "===================================================================================================================\n",
      "Epoch : 1\n",
      "Training Accuracy : 0.21295669824086602\n",
      "Validation Accuracy : 0.17476455479452055\n",
      "Training Loss : 0.4944145970641357\n",
      "Validation Loss : 0.6654570466035032\n",
      "\n",
      "===================================================================================================================\n",
      "Epoch : 2\n",
      "Training Accuracy : 0.32897073748308525\n",
      "Validation Accuracy : 0.2554580479452055\n",
      "Training Loss : 0.4460934383620751\n",
      "Validation Loss : 0.642961562904593\n",
      "\n",
      "===================================================================================================================\n",
      "Epoch : 3\n",
      "Training Accuracy : 0.41778374492557513\n",
      "Validation Accuracy : 0.288527397260274\n",
      "Training Loss : 0.36191431609397007\n",
      "Validation Loss : 0.5911618291515194\n",
      "\n",
      "===================================================================================================================\n",
      "Epoch : 4\n",
      "Training Accuracy : 0.47691136671177264\n",
      "Validation Accuracy : 0.3180650684931507\n",
      "Training Loss : 0.3286391412574642\n",
      "Validation Loss : 0.6059194811402935\n",
      "\n",
      "===================================================================================================================\n",
      "Epoch : 5\n",
      "Training Accuracy : 0.5184370771312584\n",
      "Validation Accuracy : 0.3267337328767123\n",
      "Training Loss : 0.2923374842040755\n",
      "Validation Loss : 0.5997811282334262\n",
      "\n",
      "===================================================================================================================\n",
      "Epoch : 6\n",
      "Training Accuracy : 0.5769726826792964\n",
      "Validation Accuracy : 0.3500642123287671\n",
      "Training Loss : 0.2633162440684232\n",
      "Validation Loss : 0.6089477657455288\n",
      "\n",
      "===================================================================================================================\n",
      "Epoch : 7\n",
      "Training Accuracy : 0.6141957036535859\n",
      "Validation Accuracy : 0.3516695205479452\n",
      "Training Loss : 0.2366623034617575\n",
      "Validation Loss : 0.6112345808172879\n",
      "\n",
      "===================================================================================================================\n",
      "Epoch : 8\n",
      "Training Accuracy : 0.6503298376184032\n",
      "Validation Accuracy : 0.3535958904109589\n",
      "Training Loss : 0.21580386613476743\n",
      "Validation Loss : 0.6315035101485579\n",
      "\n",
      "===================================================================================================================\n",
      "Epoch : 9\n",
      "Training Accuracy : 0.6822141407307172\n",
      "Validation Accuracy : 0.3511344178082192\n",
      "Training Loss : 0.1859156366271321\n",
      "Validation Loss : 0.6257268712945181\n",
      "\n",
      "===================================================================================================================\n",
      "Epoch : 10\n",
      "Training Accuracy : 0.7039495940460081\n",
      "Validation Accuracy : 0.3598030821917808\n",
      "Training Loss : 0.17698176572142177\n",
      "Validation Loss : 0.6408284861747533\n"
     ]
    },
    {
     "data": {
      "text/html": [],
      "text/plain": [
       "<IPython.core.display.HTML object>"
      ]
     },
     "metadata": {},
     "output_type": "display_data"
    },
    {
     "data": {
      "text/html": [
       "<br>    <style><br>        .wandb-row {<br>            display: flex;<br>            flex-direction: row;<br>            flex-wrap: wrap;<br>            justify-content: flex-start;<br>            width: 100%;<br>        }<br>        .wandb-col {<br>            display: flex;<br>            flex-direction: column;<br>            flex-basis: 100%;<br>            flex: 1;<br>            padding: 10px;<br>        }<br>    </style><br><div class=\"wandb-row\"><div class=\"wandb-col\"><h3>Run history:</h3><br/><table class=\"wandb\"><tr><td>Epoch</td><td>▁▂▃▃▄▅▆▆▇█</td></tr><tr><td>training_accuracy</td><td>▁▃▄▅▅▆▇▇██</td></tr><tr><td>training_loss</td><td>█▇▅▄▄▃▂▂▁▁</td></tr><tr><td>validation_accuracy</td><td>▁▄▅▆▇█████</td></tr><tr><td>validation_loss</td><td>█▆▁▂▂▃▃▅▄▆</td></tr></table><br/></div><div class=\"wandb-col\"><h3>Run summary:</h3><br/><table class=\"wandb\"><tr><td>Epoch</td><td>10</td></tr><tr><td>training_accuracy</td><td>0.70395</td></tr><tr><td>training_loss</td><td>0.17698</td></tr><tr><td>validation_accuracy</td><td>0.3598</td></tr><tr><td>validation_loss</td><td>0.64083</td></tr></table><br/></div></div>"
      ],
      "text/plain": [
       "<IPython.core.display.HTML object>"
      ]
     },
     "metadata": {},
     "output_type": "display_data"
    },
    {
     "data": {
      "text/html": [
       " View run <strong style=\"color:#cdcd00\">ATT_YES_EP_10_CELL_LSTM_EMB_512_ENC_2_DEC_3_FC_256_DRP_0.2_BS_128_BIDIREC_NO</strong> at: <a href='https://wandb.ai/cs24m015-indian-institute-of-technology-madras/Debasmita-DA6401-Assignment-3/runs/srcvvrz6' target=\"_blank\">https://wandb.ai/cs24m015-indian-institute-of-technology-madras/Debasmita-DA6401-Assignment-3/runs/srcvvrz6</a><br> View project at: <a href='https://wandb.ai/cs24m015-indian-institute-of-technology-madras/Debasmita-DA6401-Assignment-3' target=\"_blank\">https://wandb.ai/cs24m015-indian-institute-of-technology-madras/Debasmita-DA6401-Assignment-3</a><br>Synced 5 W&B file(s), 0 media file(s), 0 artifact file(s) and 0 other file(s)"
      ],
      "text/plain": [
       "<IPython.core.display.HTML object>"
      ]
     },
     "metadata": {},
     "output_type": "display_data"
    },
    {
     "data": {
      "text/html": [
       "Find logs at: <code>./wandb/run-20250517_014735-srcvvrz6/logs</code>"
      ],
      "text/plain": [
       "<IPython.core.display.HTML object>"
      ]
     },
     "metadata": {},
     "output_type": "display_data"
    },
    {
     "name": "stderr",
     "output_type": "stream",
     "text": [
      "\u001b[34m\u001b[1mwandb\u001b[0m: Agent Starting Run: vk48zc99 with config:\n",
      "\u001b[34m\u001b[1mwandb\u001b[0m: \tbatch_size: 128\n",
      "\u001b[34m\u001b[1mwandb\u001b[0m: \tbidirectional: NO\n",
      "\u001b[34m\u001b[1mwandb\u001b[0m: \tcell_type: LSTM\n",
      "\u001b[34m\u001b[1mwandb\u001b[0m: \tdecoder_layers: 3\n",
      "\u001b[34m\u001b[1mwandb\u001b[0m: \tdropout: 0.2\n",
      "\u001b[34m\u001b[1mwandb\u001b[0m: \tembedding_size: 512\n",
      "\u001b[34m\u001b[1mwandb\u001b[0m: \tencoder_layers: 2\n",
      "\u001b[34m\u001b[1mwandb\u001b[0m: \tepochs: 5\n",
      "\u001b[34m\u001b[1mwandb\u001b[0m: \tneurons_in_fc: 512\n"
     ]
    },
    {
     "data": {
      "text/html": [
       "Ignoring project 'Debasmita-DA6401-Assignment-3' when running a sweep."
      ],
      "text/plain": [
       "<IPython.core.display.HTML object>"
      ]
     },
     "metadata": {},
     "output_type": "display_data"
    },
    {
     "data": {
      "text/html": [
       "Tracking run with wandb version 0.19.9"
      ],
      "text/plain": [
       "<IPython.core.display.HTML object>"
      ]
     },
     "metadata": {},
     "output_type": "display_data"
    },
    {
     "data": {
      "text/html": [
       "Run data is saved locally in <code>/kaggle/working/wandb/run-20250517_015950-vk48zc99</code>"
      ],
      "text/plain": [
       "<IPython.core.display.HTML object>"
      ]
     },
     "metadata": {},
     "output_type": "display_data"
    },
    {
     "data": {
      "text/html": [
       "Syncing run <strong><a href='https://wandb.ai/cs24m015-indian-institute-of-technology-madras/Debasmita-DA6401-Assignment-3/runs/vk48zc99' target=\"_blank\">autumn-sweep-39</a></strong> to <a href='https://wandb.ai/cs24m015-indian-institute-of-technology-madras/Debasmita-DA6401-Assignment-3' target=\"_blank\">Weights & Biases</a> (<a href='https://wandb.me/developer-guide' target=\"_blank\">docs</a>)<br>Sweep page: <a href='https://wandb.ai/cs24m015-indian-institute-of-technology-madras/Debasmita-DA6401-Assignment-3/sweeps/hbfj1wi7' target=\"_blank\">https://wandb.ai/cs24m015-indian-institute-of-technology-madras/Debasmita-DA6401-Assignment-3/sweeps/hbfj1wi7</a>"
      ],
      "text/plain": [
       "<IPython.core.display.HTML object>"
      ]
     },
     "metadata": {},
     "output_type": "display_data"
    },
    {
     "data": {
      "text/html": [
       " View project at <a href='https://wandb.ai/cs24m015-indian-institute-of-technology-madras/Debasmita-DA6401-Assignment-3' target=\"_blank\">https://wandb.ai/cs24m015-indian-institute-of-technology-madras/Debasmita-DA6401-Assignment-3</a>"
      ],
      "text/plain": [
       "<IPython.core.display.HTML object>"
      ]
     },
     "metadata": {},
     "output_type": "display_data"
    },
    {
     "data": {
      "text/html": [
       " View sweep at <a href='https://wandb.ai/cs24m015-indian-institute-of-technology-madras/Debasmita-DA6401-Assignment-3/sweeps/hbfj1wi7' target=\"_blank\">https://wandb.ai/cs24m015-indian-institute-of-technology-madras/Debasmita-DA6401-Assignment-3/sweeps/hbfj1wi7</a>"
      ],
      "text/plain": [
       "<IPython.core.display.HTML object>"
      ]
     },
     "metadata": {},
     "output_type": "display_data"
    },
    {
     "data": {
      "text/html": [
       " View run at <a href='https://wandb.ai/cs24m015-indian-institute-of-technology-madras/Debasmita-DA6401-Assignment-3/runs/vk48zc99' target=\"_blank\">https://wandb.ai/cs24m015-indian-institute-of-technology-madras/Debasmita-DA6401-Assignment-3/runs/vk48zc99</a>"
      ],
      "text/plain": [
       "<IPython.core.display.HTML object>"
      ]
     },
     "metadata": {},
     "output_type": "display_data"
    },
    {
     "name": "stdout",
     "output_type": "stream",
     "text": [
      "run name = ATT_YES_EP_5_CELL_LSTM_EMB_512_ENC_2_DEC_3_FC_512_DRP_0.2_BS_128_BIDIREC_NO\n",
      "\n",
      "===================================================================================================================\n",
      "Epoch : 1\n",
      "Training Accuracy : 0.23565417794316645\n",
      "Validation Accuracy : 0.19028253424657535\n",
      "Training Loss : 0.48035101598589924\n",
      "Validation Loss : 0.659989648485837\n",
      "\n",
      "===================================================================================================================\n",
      "Epoch : 2\n",
      "Training Accuracy : 0.3752748646820027\n",
      "Validation Accuracy : 0.2724743150684932\n",
      "Training Loss : 0.4028498778807778\n",
      "Validation Loss : 0.6188496837060745\n",
      "\n",
      "===================================================================================================================\n",
      "Epoch : 3\n",
      "Training Accuracy : 0.46574763193504737\n",
      "Validation Accuracy : 0.2955907534246575\n",
      "Training Loss : 0.35366605433946696\n",
      "Validation Loss : 0.628009362580025\n",
      "\n",
      "===================================================================================================================\n",
      "Epoch : 4\n",
      "Training Accuracy : 0.5408808355886333\n",
      "Validation Accuracy : 0.3310145547945205\n",
      "Training Loss : 0.3118426024066902\n",
      "Validation Loss : 0.6460112361875299\n",
      "\n",
      "===================================================================================================================\n",
      "Epoch : 5\n",
      "Training Accuracy : 0.6071020805142084\n",
      "Validation Accuracy : 0.3381849315068493\n",
      "Training Loss : 0.2525864072315425\n",
      "Validation Loss : 0.6188348874653855\n"
     ]
    },
    {
     "data": {
      "text/html": [],
      "text/plain": [
       "<IPython.core.display.HTML object>"
      ]
     },
     "metadata": {},
     "output_type": "display_data"
    },
    {
     "data": {
      "text/html": [
       "<br>    <style><br>        .wandb-row {<br>            display: flex;<br>            flex-direction: row;<br>            flex-wrap: wrap;<br>            justify-content: flex-start;<br>            width: 100%;<br>        }<br>        .wandb-col {<br>            display: flex;<br>            flex-direction: column;<br>            flex-basis: 100%;<br>            flex: 1;<br>            padding: 10px;<br>        }<br>    </style><br><div class=\"wandb-row\"><div class=\"wandb-col\"><h3>Run history:</h3><br/><table class=\"wandb\"><tr><td>Epoch</td><td>▁▃▅▆█</td></tr><tr><td>training_accuracy</td><td>▁▄▅▇█</td></tr><tr><td>training_loss</td><td>█▆▄▃▁</td></tr><tr><td>validation_accuracy</td><td>▁▅▆██</td></tr><tr><td>validation_loss</td><td>█▁▃▆▁</td></tr></table><br/></div><div class=\"wandb-col\"><h3>Run summary:</h3><br/><table class=\"wandb\"><tr><td>Epoch</td><td>5</td></tr><tr><td>training_accuracy</td><td>0.6071</td></tr><tr><td>training_loss</td><td>0.25259</td></tr><tr><td>validation_accuracy</td><td>0.33818</td></tr><tr><td>validation_loss</td><td>0.61883</td></tr></table><br/></div></div>"
      ],
      "text/plain": [
       "<IPython.core.display.HTML object>"
      ]
     },
     "metadata": {},
     "output_type": "display_data"
    },
    {
     "data": {
      "text/html": [
       " View run <strong style=\"color:#cdcd00\">ATT_YES_EP_5_CELL_LSTM_EMB_512_ENC_2_DEC_3_FC_512_DRP_0.2_BS_128_BIDIREC_NO</strong> at: <a href='https://wandb.ai/cs24m015-indian-institute-of-technology-madras/Debasmita-DA6401-Assignment-3/runs/vk48zc99' target=\"_blank\">https://wandb.ai/cs24m015-indian-institute-of-technology-madras/Debasmita-DA6401-Assignment-3/runs/vk48zc99</a><br> View project at: <a href='https://wandb.ai/cs24m015-indian-institute-of-technology-madras/Debasmita-DA6401-Assignment-3' target=\"_blank\">https://wandb.ai/cs24m015-indian-institute-of-technology-madras/Debasmita-DA6401-Assignment-3</a><br>Synced 5 W&B file(s), 0 media file(s), 0 artifact file(s) and 0 other file(s)"
      ],
      "text/plain": [
       "<IPython.core.display.HTML object>"
      ]
     },
     "metadata": {},
     "output_type": "display_data"
    },
    {
     "data": {
      "text/html": [
       "Find logs at: <code>./wandb/run-20250517_015950-vk48zc99/logs</code>"
      ],
      "text/plain": [
       "<IPython.core.display.HTML object>"
      ]
     },
     "metadata": {},
     "output_type": "display_data"
    },
    {
     "name": "stderr",
     "output_type": "stream",
     "text": [
      "\u001b[34m\u001b[1mwandb\u001b[0m: Agent Starting Run: emm9gddk with config:\n",
      "\u001b[34m\u001b[1mwandb\u001b[0m: \tbatch_size: 128\n",
      "\u001b[34m\u001b[1mwandb\u001b[0m: \tbidirectional: NO\n",
      "\u001b[34m\u001b[1mwandb\u001b[0m: \tcell_type: LSTM\n",
      "\u001b[34m\u001b[1mwandb\u001b[0m: \tdecoder_layers: 3\n",
      "\u001b[34m\u001b[1mwandb\u001b[0m: \tdropout: 0.4\n",
      "\u001b[34m\u001b[1mwandb\u001b[0m: \tembedding_size: 32\n",
      "\u001b[34m\u001b[1mwandb\u001b[0m: \tencoder_layers: 3\n",
      "\u001b[34m\u001b[1mwandb\u001b[0m: \tepochs: 5\n",
      "\u001b[34m\u001b[1mwandb\u001b[0m: \tneurons_in_fc: 256\n"
     ]
    },
    {
     "data": {
      "text/html": [
       "Ignoring project 'Debasmita-DA6401-Assignment-3' when running a sweep."
      ],
      "text/plain": [
       "<IPython.core.display.HTML object>"
      ]
     },
     "metadata": {},
     "output_type": "display_data"
    },
    {
     "data": {
      "text/html": [
       "Tracking run with wandb version 0.19.9"
      ],
      "text/plain": [
       "<IPython.core.display.HTML object>"
      ]
     },
     "metadata": {},
     "output_type": "display_data"
    },
    {
     "data": {
      "text/html": [
       "Run data is saved locally in <code>/kaggle/working/wandb/run-20250517_021138-emm9gddk</code>"
      ],
      "text/plain": [
       "<IPython.core.display.HTML object>"
      ]
     },
     "metadata": {},
     "output_type": "display_data"
    },
    {
     "data": {
      "text/html": [
       "Syncing run <strong><a href='https://wandb.ai/cs24m015-indian-institute-of-technology-madras/Debasmita-DA6401-Assignment-3/runs/emm9gddk' target=\"_blank\">iconic-sweep-40</a></strong> to <a href='https://wandb.ai/cs24m015-indian-institute-of-technology-madras/Debasmita-DA6401-Assignment-3' target=\"_blank\">Weights & Biases</a> (<a href='https://wandb.me/developer-guide' target=\"_blank\">docs</a>)<br>Sweep page: <a href='https://wandb.ai/cs24m015-indian-institute-of-technology-madras/Debasmita-DA6401-Assignment-3/sweeps/hbfj1wi7' target=\"_blank\">https://wandb.ai/cs24m015-indian-institute-of-technology-madras/Debasmita-DA6401-Assignment-3/sweeps/hbfj1wi7</a>"
      ],
      "text/plain": [
       "<IPython.core.display.HTML object>"
      ]
     },
     "metadata": {},
     "output_type": "display_data"
    },
    {
     "data": {
      "text/html": [
       " View project at <a href='https://wandb.ai/cs24m015-indian-institute-of-technology-madras/Debasmita-DA6401-Assignment-3' target=\"_blank\">https://wandb.ai/cs24m015-indian-institute-of-technology-madras/Debasmita-DA6401-Assignment-3</a>"
      ],
      "text/plain": [
       "<IPython.core.display.HTML object>"
      ]
     },
     "metadata": {},
     "output_type": "display_data"
    },
    {
     "data": {
      "text/html": [
       " View sweep at <a href='https://wandb.ai/cs24m015-indian-institute-of-technology-madras/Debasmita-DA6401-Assignment-3/sweeps/hbfj1wi7' target=\"_blank\">https://wandb.ai/cs24m015-indian-institute-of-technology-madras/Debasmita-DA6401-Assignment-3/sweeps/hbfj1wi7</a>"
      ],
      "text/plain": [
       "<IPython.core.display.HTML object>"
      ]
     },
     "metadata": {},
     "output_type": "display_data"
    },
    {
     "data": {
      "text/html": [
       " View run at <a href='https://wandb.ai/cs24m015-indian-institute-of-technology-madras/Debasmita-DA6401-Assignment-3/runs/emm9gddk' target=\"_blank\">https://wandb.ai/cs24m015-indian-institute-of-technology-madras/Debasmita-DA6401-Assignment-3/runs/emm9gddk</a>"
      ],
      "text/plain": [
       "<IPython.core.display.HTML object>"
      ]
     },
     "metadata": {},
     "output_type": "display_data"
    },
    {
     "name": "stdout",
     "output_type": "stream",
     "text": [
      "run name = ATT_YES_EP_5_CELL_LSTM_EMB_32_ENC_3_DEC_3_FC_256_DRP_0.4_BS_128_BIDIREC_NO\n",
      "\n",
      "===================================================================================================================\n",
      "Epoch : 1\n",
      "Training Accuracy : 0.06898046346414073\n",
      "Validation Accuracy : 0.061964897260273974\n",
      "Training Loss : 0.6877680237786857\n",
      "Validation Loss : 0.8446426358941483\n",
      "\n",
      "===================================================================================================================\n",
      "Epoch : 2\n",
      "Training Accuracy : 0.21904600811907984\n",
      "Validation Accuracy : 0.1915667808219178\n",
      "Training Loss : 0.49162516159198283\n",
      "Validation Loss : 0.637360300103279\n",
      "\n",
      "===================================================================================================================\n",
      "Epoch : 3\n",
      "Training Accuracy : 0.3078590155615697\n",
      "Validation Accuracy : 0.24507705479452055\n",
      "Training Loss : 0.45087445721897285\n",
      "Validation Loss : 0.632716418945626\n",
      "\n",
      "===================================================================================================================\n",
      "Epoch : 4\n",
      "Training Accuracy : 0.37090874492557513\n",
      "Validation Accuracy : 0.2796446917808219\n",
      "Training Loss : 0.3909336532565673\n",
      "Validation Loss : 0.5909419598644727\n",
      "\n",
      "===================================================================================================================\n",
      "Epoch : 5\n",
      "Training Accuracy : 0.42280531123139375\n",
      "Validation Accuracy : 0.3110017123287671\n",
      "Training Loss : 0.3758154364658144\n",
      "Validation Loss : 0.6122121990543522\n"
     ]
    },
    {
     "data": {
      "text/html": [],
      "text/plain": [
       "<IPython.core.display.HTML object>"
      ]
     },
     "metadata": {},
     "output_type": "display_data"
    },
    {
     "data": {
      "text/html": [
       "<br>    <style><br>        .wandb-row {<br>            display: flex;<br>            flex-direction: row;<br>            flex-wrap: wrap;<br>            justify-content: flex-start;<br>            width: 100%;<br>        }<br>        .wandb-col {<br>            display: flex;<br>            flex-direction: column;<br>            flex-basis: 100%;<br>            flex: 1;<br>            padding: 10px;<br>        }<br>    </style><br><div class=\"wandb-row\"><div class=\"wandb-col\"><h3>Run history:</h3><br/><table class=\"wandb\"><tr><td>Epoch</td><td>▁▃▅▆█</td></tr><tr><td>training_accuracy</td><td>▁▄▆▇█</td></tr><tr><td>training_loss</td><td>█▄▃▁▁</td></tr><tr><td>validation_accuracy</td><td>▁▅▆▇█</td></tr><tr><td>validation_loss</td><td>█▂▂▁▂</td></tr></table><br/></div><div class=\"wandb-col\"><h3>Run summary:</h3><br/><table class=\"wandb\"><tr><td>Epoch</td><td>5</td></tr><tr><td>training_accuracy</td><td>0.42281</td></tr><tr><td>training_loss</td><td>0.37582</td></tr><tr><td>validation_accuracy</td><td>0.311</td></tr><tr><td>validation_loss</td><td>0.61221</td></tr></table><br/></div></div>"
      ],
      "text/plain": [
       "<IPython.core.display.HTML object>"
      ]
     },
     "metadata": {},
     "output_type": "display_data"
    },
    {
     "data": {
      "text/html": [
       " View run <strong style=\"color:#cdcd00\">ATT_YES_EP_5_CELL_LSTM_EMB_32_ENC_3_DEC_3_FC_256_DRP_0.4_BS_128_BIDIREC_NO</strong> at: <a href='https://wandb.ai/cs24m015-indian-institute-of-technology-madras/Debasmita-DA6401-Assignment-3/runs/emm9gddk' target=\"_blank\">https://wandb.ai/cs24m015-indian-institute-of-technology-madras/Debasmita-DA6401-Assignment-3/runs/emm9gddk</a><br> View project at: <a href='https://wandb.ai/cs24m015-indian-institute-of-technology-madras/Debasmita-DA6401-Assignment-3' target=\"_blank\">https://wandb.ai/cs24m015-indian-institute-of-technology-madras/Debasmita-DA6401-Assignment-3</a><br>Synced 5 W&B file(s), 0 media file(s), 0 artifact file(s) and 0 other file(s)"
      ],
      "text/plain": [
       "<IPython.core.display.HTML object>"
      ]
     },
     "metadata": {},
     "output_type": "display_data"
    },
    {
     "data": {
      "text/html": [
       "Find logs at: <code>./wandb/run-20250517_021138-emm9gddk/logs</code>"
      ],
      "text/plain": [
       "<IPython.core.display.HTML object>"
      ]
     },
     "metadata": {},
     "output_type": "display_data"
    },
    {
     "name": "stderr",
     "output_type": "stream",
     "text": [
      "\u001b[34m\u001b[1mwandb\u001b[0m: Agent Starting Run: gkixgsvg with config:\n",
      "\u001b[34m\u001b[1mwandb\u001b[0m: \tbatch_size: 128\n",
      "\u001b[34m\u001b[1mwandb\u001b[0m: \tbidirectional: NO\n",
      "\u001b[34m\u001b[1mwandb\u001b[0m: \tcell_type: GRU\n",
      "\u001b[34m\u001b[1mwandb\u001b[0m: \tdecoder_layers: 3\n",
      "\u001b[34m\u001b[1mwandb\u001b[0m: \tdropout: 0.4\n",
      "\u001b[34m\u001b[1mwandb\u001b[0m: \tembedding_size: 64\n",
      "\u001b[34m\u001b[1mwandb\u001b[0m: \tencoder_layers: 3\n",
      "\u001b[34m\u001b[1mwandb\u001b[0m: \tepochs: 10\n",
      "\u001b[34m\u001b[1mwandb\u001b[0m: \tneurons_in_fc: 512\n"
     ]
    },
    {
     "data": {
      "text/html": [
       "Ignoring project 'Debasmita-DA6401-Assignment-3' when running a sweep."
      ],
      "text/plain": [
       "<IPython.core.display.HTML object>"
      ]
     },
     "metadata": {},
     "output_type": "display_data"
    },
    {
     "data": {
      "text/html": [
       "Tracking run with wandb version 0.19.9"
      ],
      "text/plain": [
       "<IPython.core.display.HTML object>"
      ]
     },
     "metadata": {},
     "output_type": "display_data"
    },
    {
     "data": {
      "text/html": [
       "Run data is saved locally in <code>/kaggle/working/wandb/run-20250517_021804-gkixgsvg</code>"
      ],
      "text/plain": [
       "<IPython.core.display.HTML object>"
      ]
     },
     "metadata": {},
     "output_type": "display_data"
    },
    {
     "data": {
      "text/html": [
       "Syncing run <strong><a href='https://wandb.ai/cs24m015-indian-institute-of-technology-madras/Debasmita-DA6401-Assignment-3/runs/gkixgsvg' target=\"_blank\">major-sweep-41</a></strong> to <a href='https://wandb.ai/cs24m015-indian-institute-of-technology-madras/Debasmita-DA6401-Assignment-3' target=\"_blank\">Weights & Biases</a> (<a href='https://wandb.me/developer-guide' target=\"_blank\">docs</a>)<br>Sweep page: <a href='https://wandb.ai/cs24m015-indian-institute-of-technology-madras/Debasmita-DA6401-Assignment-3/sweeps/hbfj1wi7' target=\"_blank\">https://wandb.ai/cs24m015-indian-institute-of-technology-madras/Debasmita-DA6401-Assignment-3/sweeps/hbfj1wi7</a>"
      ],
      "text/plain": [
       "<IPython.core.display.HTML object>"
      ]
     },
     "metadata": {},
     "output_type": "display_data"
    },
    {
     "data": {
      "text/html": [
       " View project at <a href='https://wandb.ai/cs24m015-indian-institute-of-technology-madras/Debasmita-DA6401-Assignment-3' target=\"_blank\">https://wandb.ai/cs24m015-indian-institute-of-technology-madras/Debasmita-DA6401-Assignment-3</a>"
      ],
      "text/plain": [
       "<IPython.core.display.HTML object>"
      ]
     },
     "metadata": {},
     "output_type": "display_data"
    },
    {
     "data": {
      "text/html": [
       " View sweep at <a href='https://wandb.ai/cs24m015-indian-institute-of-technology-madras/Debasmita-DA6401-Assignment-3/sweeps/hbfj1wi7' target=\"_blank\">https://wandb.ai/cs24m015-indian-institute-of-technology-madras/Debasmita-DA6401-Assignment-3/sweeps/hbfj1wi7</a>"
      ],
      "text/plain": [
       "<IPython.core.display.HTML object>"
      ]
     },
     "metadata": {},
     "output_type": "display_data"
    },
    {
     "data": {
      "text/html": [
       " View run at <a href='https://wandb.ai/cs24m015-indian-institute-of-technology-madras/Debasmita-DA6401-Assignment-3/runs/gkixgsvg' target=\"_blank\">https://wandb.ai/cs24m015-indian-institute-of-technology-madras/Debasmita-DA6401-Assignment-3/runs/gkixgsvg</a>"
      ],
      "text/plain": [
       "<IPython.core.display.HTML object>"
      ]
     },
     "metadata": {},
     "output_type": "display_data"
    },
    {
     "name": "stdout",
     "output_type": "stream",
     "text": [
      "run name = ATT_YES_EP_10_CELL_GRU_EMB_64_ENC_3_DEC_3_FC_512_DRP_0.4_BS_128_BIDIREC_NO\n",
      "\n",
      "===================================================================================================================\n",
      "Epoch : 1\n",
      "Training Accuracy : 0.19349416441136671\n",
      "Validation Accuracy : 0.168236301369863\n",
      "Training Loss : 0.5411945563288599\n",
      "Validation Loss : 0.6893894598908621\n",
      "\n",
      "===================================================================================================================\n",
      "Epoch : 2\n",
      "Training Accuracy : 0.2949086603518268\n",
      "Validation Accuracy : 0.22731164383561644\n",
      "Training Loss : 0.491611052430531\n",
      "Validation Loss : 0.6775099978055039\n",
      "\n",
      "===================================================================================================================\n",
      "Epoch : 3\n",
      "Training Accuracy : 0.35253509810554806\n",
      "Validation Accuracy : 0.24539811643835616\n",
      "Training Loss : 0.4434053224784918\n",
      "Validation Loss : 0.6739212025518286\n",
      "\n",
      "===================================================================================================================\n",
      "Epoch : 4\n",
      "Training Accuracy : 0.3765963294993234\n",
      "Validation Accuracy : 0.253638698630137\n",
      "Training Loss : 0.4299040160095256\n",
      "Validation Loss : 0.664359110267195\n",
      "\n",
      "===================================================================================================================\n",
      "Epoch : 5\n",
      "Training Accuracy : 0.35778924221921515\n",
      "Validation Accuracy : 0.2425085616438356\n",
      "Training Loss : 0.44497454166412354\n",
      "Validation Loss : 0.671317069906078\n",
      "\n",
      "===================================================================================================================\n",
      "Epoch : 6\n",
      "Training Accuracy : 0.3629799560216509\n",
      "Validation Accuracy : 0.24518407534246575\n",
      "Training Loss : 0.452001794023346\n",
      "Validation Loss : 0.6909711258868648\n",
      "\n",
      "===================================================================================================================\n",
      "Epoch : 7\n",
      "Training Accuracy : 0.35991415764546686\n",
      "Validation Accuracy : 0.2377996575342466\n",
      "Training Loss : 0.4438151663549859\n",
      "Validation Loss : 0.6807974568785053\n",
      "\n",
      "===================================================================================================================\n",
      "Epoch : 8\n",
      "Training Accuracy : 0.36904812246278756\n",
      "Validation Accuracy : 0.2535316780821918\n",
      "Training Loss : 0.41540826060613856\n",
      "Validation Loss : 0.6398475896822263\n",
      "\n",
      "===================================================================================================================\n",
      "Epoch : 9\n",
      "Training Accuracy : 0.3736045331529093\n",
      "Validation Accuracy : 0.261986301369863\n",
      "Training Loss : 0.422536875220855\n",
      "Validation Loss : 0.6541106288563715\n",
      "\n",
      "===================================================================================================================\n",
      "Epoch : 10\n",
      "Training Accuracy : 0.3728116542625169\n",
      "Validation Accuracy : 0.2442208904109589\n",
      "Training Loss : 0.4333930407954488\n",
      "Validation Loss : 0.696042054728286\n"
     ]
    },
    {
     "data": {
      "text/html": [],
      "text/plain": [
       "<IPython.core.display.HTML object>"
      ]
     },
     "metadata": {},
     "output_type": "display_data"
    },
    {
     "data": {
      "text/html": [
       "<br>    <style><br>        .wandb-row {<br>            display: flex;<br>            flex-direction: row;<br>            flex-wrap: wrap;<br>            justify-content: flex-start;<br>            width: 100%;<br>        }<br>        .wandb-col {<br>            display: flex;<br>            flex-direction: column;<br>            flex-basis: 100%;<br>            flex: 1;<br>            padding: 10px;<br>        }<br>    </style><br><div class=\"wandb-row\"><div class=\"wandb-col\"><h3>Run history:</h3><br/><table class=\"wandb\"><tr><td>Epoch</td><td>▁▂▃▃▄▅▆▆▇█</td></tr><tr><td>training_accuracy</td><td>▁▅▇█▇▇▇███</td></tr><tr><td>training_loss</td><td>█▅▃▂▃▃▃▁▁▂</td></tr><tr><td>validation_accuracy</td><td>▁▅▇▇▇▇▆▇█▇</td></tr><tr><td>validation_loss</td><td>▇▆▅▄▅▇▆▁▃█</td></tr></table><br/></div><div class=\"wandb-col\"><h3>Run summary:</h3><br/><table class=\"wandb\"><tr><td>Epoch</td><td>10</td></tr><tr><td>training_accuracy</td><td>0.37281</td></tr><tr><td>training_loss</td><td>0.43339</td></tr><tr><td>validation_accuracy</td><td>0.24422</td></tr><tr><td>validation_loss</td><td>0.69604</td></tr></table><br/></div></div>"
      ],
      "text/plain": [
       "<IPython.core.display.HTML object>"
      ]
     },
     "metadata": {},
     "output_type": "display_data"
    },
    {
     "data": {
      "text/html": [
       " View run <strong style=\"color:#cdcd00\">ATT_YES_EP_10_CELL_GRU_EMB_64_ENC_3_DEC_3_FC_512_DRP_0.4_BS_128_BIDIREC_NO</strong> at: <a href='https://wandb.ai/cs24m015-indian-institute-of-technology-madras/Debasmita-DA6401-Assignment-3/runs/gkixgsvg' target=\"_blank\">https://wandb.ai/cs24m015-indian-institute-of-technology-madras/Debasmita-DA6401-Assignment-3/runs/gkixgsvg</a><br> View project at: <a href='https://wandb.ai/cs24m015-indian-institute-of-technology-madras/Debasmita-DA6401-Assignment-3' target=\"_blank\">https://wandb.ai/cs24m015-indian-institute-of-technology-madras/Debasmita-DA6401-Assignment-3</a><br>Synced 5 W&B file(s), 0 media file(s), 0 artifact file(s) and 0 other file(s)"
      ],
      "text/plain": [
       "<IPython.core.display.HTML object>"
      ]
     },
     "metadata": {},
     "output_type": "display_data"
    },
    {
     "data": {
      "text/html": [
       "Find logs at: <code>./wandb/run-20250517_021804-gkixgsvg/logs</code>"
      ],
      "text/plain": [
       "<IPython.core.display.HTML object>"
      ]
     },
     "metadata": {},
     "output_type": "display_data"
    },
    {
     "name": "stderr",
     "output_type": "stream",
     "text": [
      "\u001b[34m\u001b[1mwandb\u001b[0m: Sweep Agent: Waiting for job.\n",
      "\u001b[34m\u001b[1mwandb\u001b[0m: Job received.\n",
      "\u001b[34m\u001b[1mwandb\u001b[0m: Agent Starting Run: 3yrisbt2 with config:\n",
      "\u001b[34m\u001b[1mwandb\u001b[0m: \tbatch_size: 128\n",
      "\u001b[34m\u001b[1mwandb\u001b[0m: \tbidirectional: NO\n",
      "\u001b[34m\u001b[1mwandb\u001b[0m: \tcell_type: LSTM\n",
      "\u001b[34m\u001b[1mwandb\u001b[0m: \tdecoder_layers: 2\n",
      "\u001b[34m\u001b[1mwandb\u001b[0m: \tdropout: 0.2\n",
      "\u001b[34m\u001b[1mwandb\u001b[0m: \tembedding_size: 512\n",
      "\u001b[34m\u001b[1mwandb\u001b[0m: \tencoder_layers: 2\n",
      "\u001b[34m\u001b[1mwandb\u001b[0m: \tepochs: 5\n",
      "\u001b[34m\u001b[1mwandb\u001b[0m: \tneurons_in_fc: 512\n"
     ]
    },
    {
     "data": {
      "text/html": [
       "Ignoring project 'Debasmita-DA6401-Assignment-3' when running a sweep."
      ],
      "text/plain": [
       "<IPython.core.display.HTML object>"
      ]
     },
     "metadata": {},
     "output_type": "display_data"
    },
    {
     "data": {
      "text/html": [
       "Tracking run with wandb version 0.19.9"
      ],
      "text/plain": [
       "<IPython.core.display.HTML object>"
      ]
     },
     "metadata": {},
     "output_type": "display_data"
    },
    {
     "data": {
      "text/html": [
       "Run data is saved locally in <code>/kaggle/working/wandb/run-20250517_023858-3yrisbt2</code>"
      ],
      "text/plain": [
       "<IPython.core.display.HTML object>"
      ]
     },
     "metadata": {},
     "output_type": "display_data"
    },
    {
     "data": {
      "text/html": [
       "Syncing run <strong><a href='https://wandb.ai/cs24m015-indian-institute-of-technology-madras/Debasmita-DA6401-Assignment-3/runs/3yrisbt2' target=\"_blank\">quiet-sweep-42</a></strong> to <a href='https://wandb.ai/cs24m015-indian-institute-of-technology-madras/Debasmita-DA6401-Assignment-3' target=\"_blank\">Weights & Biases</a> (<a href='https://wandb.me/developer-guide' target=\"_blank\">docs</a>)<br>Sweep page: <a href='https://wandb.ai/cs24m015-indian-institute-of-technology-madras/Debasmita-DA6401-Assignment-3/sweeps/hbfj1wi7' target=\"_blank\">https://wandb.ai/cs24m015-indian-institute-of-technology-madras/Debasmita-DA6401-Assignment-3/sweeps/hbfj1wi7</a>"
      ],
      "text/plain": [
       "<IPython.core.display.HTML object>"
      ]
     },
     "metadata": {},
     "output_type": "display_data"
    },
    {
     "data": {
      "text/html": [
       " View project at <a href='https://wandb.ai/cs24m015-indian-institute-of-technology-madras/Debasmita-DA6401-Assignment-3' target=\"_blank\">https://wandb.ai/cs24m015-indian-institute-of-technology-madras/Debasmita-DA6401-Assignment-3</a>"
      ],
      "text/plain": [
       "<IPython.core.display.HTML object>"
      ]
     },
     "metadata": {},
     "output_type": "display_data"
    },
    {
     "data": {
      "text/html": [
       " View sweep at <a href='https://wandb.ai/cs24m015-indian-institute-of-technology-madras/Debasmita-DA6401-Assignment-3/sweeps/hbfj1wi7' target=\"_blank\">https://wandb.ai/cs24m015-indian-institute-of-technology-madras/Debasmita-DA6401-Assignment-3/sweeps/hbfj1wi7</a>"
      ],
      "text/plain": [
       "<IPython.core.display.HTML object>"
      ]
     },
     "metadata": {},
     "output_type": "display_data"
    },
    {
     "data": {
      "text/html": [
       " View run at <a href='https://wandb.ai/cs24m015-indian-institute-of-technology-madras/Debasmita-DA6401-Assignment-3/runs/3yrisbt2' target=\"_blank\">https://wandb.ai/cs24m015-indian-institute-of-technology-madras/Debasmita-DA6401-Assignment-3/runs/3yrisbt2</a>"
      ],
      "text/plain": [
       "<IPython.core.display.HTML object>"
      ]
     },
     "metadata": {},
     "output_type": "display_data"
    },
    {
     "name": "stdout",
     "output_type": "stream",
     "text": [
      "run name = ATT_YES_EP_5_CELL_LSTM_EMB_512_ENC_2_DEC_2_FC_512_DRP_0.2_BS_128_BIDIREC_NO\n",
      "\n",
      "===================================================================================================================\n",
      "Epoch : 1\n",
      "Training Accuracy : 0.31192912719891747\n",
      "Validation Accuracy : 0.2364083904109589\n",
      "Training Loss : 0.4778937110639554\n",
      "Validation Loss : 0.6675205459333446\n",
      "\n",
      "===================================================================================================================\n",
      "Epoch : 2\n",
      "Training Accuracy : 0.41688514884979705\n",
      "Validation Accuracy : 0.2852097602739726\n",
      "Training Loss : 0.39087599112635857\n",
      "Validation Loss : 0.6308662593364716\n",
      "\n",
      "===================================================================================================================\n",
      "Epoch : 3\n",
      "Training Accuracy : 0.515868149526387\n",
      "Validation Accuracy : 0.3135702054794521\n",
      "Training Loss : 0.3225744766295359\n",
      "Validation Loss : 0.632066304961296\n",
      "\n",
      "===================================================================================================================\n",
      "Epoch : 4\n",
      "Training Accuracy : 0.5854300575101489\n",
      "Validation Accuracy : 0.3396832191780822\n",
      "Training Loss : 0.2837264052868212\n",
      "Validation Loss : 0.6461243274277204\n",
      "\n",
      "===================================================================================================================\n",
      "Epoch : 5\n",
      "Training Accuracy : 0.6315121786197564\n",
      "Validation Accuracy : 0.3418236301369863\n",
      "Training Loss : 0.24429356465078336\n",
      "Validation Loss : 0.6493089607317154\n"
     ]
    },
    {
     "data": {
      "text/html": [],
      "text/plain": [
       "<IPython.core.display.HTML object>"
      ]
     },
     "metadata": {},
     "output_type": "display_data"
    },
    {
     "data": {
      "text/html": [
       "<br>    <style><br>        .wandb-row {<br>            display: flex;<br>            flex-direction: row;<br>            flex-wrap: wrap;<br>            justify-content: flex-start;<br>            width: 100%;<br>        }<br>        .wandb-col {<br>            display: flex;<br>            flex-direction: column;<br>            flex-basis: 100%;<br>            flex: 1;<br>            padding: 10px;<br>        }<br>    </style><br><div class=\"wandb-row\"><div class=\"wandb-col\"><h3>Run history:</h3><br/><table class=\"wandb\"><tr><td>Epoch</td><td>▁▃▅▆█</td></tr><tr><td>training_accuracy</td><td>▁▃▅▇█</td></tr><tr><td>training_loss</td><td>█▅▃▂▁</td></tr><tr><td>validation_accuracy</td><td>▁▄▆██</td></tr><tr><td>validation_loss</td><td>█▁▁▄▅</td></tr></table><br/></div><div class=\"wandb-col\"><h3>Run summary:</h3><br/><table class=\"wandb\"><tr><td>Epoch</td><td>5</td></tr><tr><td>training_accuracy</td><td>0.63151</td></tr><tr><td>training_loss</td><td>0.24429</td></tr><tr><td>validation_accuracy</td><td>0.34182</td></tr><tr><td>validation_loss</td><td>0.64931</td></tr></table><br/></div></div>"
      ],
      "text/plain": [
       "<IPython.core.display.HTML object>"
      ]
     },
     "metadata": {},
     "output_type": "display_data"
    },
    {
     "data": {
      "text/html": [
       " View run <strong style=\"color:#cdcd00\">ATT_YES_EP_5_CELL_LSTM_EMB_512_ENC_2_DEC_2_FC_512_DRP_0.2_BS_128_BIDIREC_NO</strong> at: <a href='https://wandb.ai/cs24m015-indian-institute-of-technology-madras/Debasmita-DA6401-Assignment-3/runs/3yrisbt2' target=\"_blank\">https://wandb.ai/cs24m015-indian-institute-of-technology-madras/Debasmita-DA6401-Assignment-3/runs/3yrisbt2</a><br> View project at: <a href='https://wandb.ai/cs24m015-indian-institute-of-technology-madras/Debasmita-DA6401-Assignment-3' target=\"_blank\">https://wandb.ai/cs24m015-indian-institute-of-technology-madras/Debasmita-DA6401-Assignment-3</a><br>Synced 5 W&B file(s), 0 media file(s), 0 artifact file(s) and 0 other file(s)"
      ],
      "text/plain": [
       "<IPython.core.display.HTML object>"
      ]
     },
     "metadata": {},
     "output_type": "display_data"
    },
    {
     "data": {
      "text/html": [
       "Find logs at: <code>./wandb/run-20250517_023858-3yrisbt2/logs</code>"
      ],
      "text/plain": [
       "<IPython.core.display.HTML object>"
      ]
     },
     "metadata": {},
     "output_type": "display_data"
    },
    {
     "name": "stderr",
     "output_type": "stream",
     "text": [
      "\u001b[34m\u001b[1mwandb\u001b[0m: Agent Starting Run: ut0mtt1w with config:\n",
      "\u001b[34m\u001b[1mwandb\u001b[0m: \tbatch_size: 128\n",
      "\u001b[34m\u001b[1mwandb\u001b[0m: \tbidirectional: NO\n",
      "\u001b[34m\u001b[1mwandb\u001b[0m: \tcell_type: LSTM\n",
      "\u001b[34m\u001b[1mwandb\u001b[0m: \tdecoder_layers: 2\n",
      "\u001b[34m\u001b[1mwandb\u001b[0m: \tdropout: 0.4\n",
      "\u001b[34m\u001b[1mwandb\u001b[0m: \tembedding_size: 512\n",
      "\u001b[34m\u001b[1mwandb\u001b[0m: \tencoder_layers: 3\n",
      "\u001b[34m\u001b[1mwandb\u001b[0m: \tepochs: 10\n",
      "\u001b[34m\u001b[1mwandb\u001b[0m: \tneurons_in_fc: 512\n"
     ]
    },
    {
     "data": {
      "text/html": [
       "Ignoring project 'Debasmita-DA6401-Assignment-3' when running a sweep."
      ],
      "text/plain": [
       "<IPython.core.display.HTML object>"
      ]
     },
     "metadata": {},
     "output_type": "display_data"
    },
    {
     "data": {
      "text/html": [
       "Tracking run with wandb version 0.19.9"
      ],
      "text/plain": [
       "<IPython.core.display.HTML object>"
      ]
     },
     "metadata": {},
     "output_type": "display_data"
    },
    {
     "data": {
      "text/html": [
       "Run data is saved locally in <code>/kaggle/working/wandb/run-20250517_024921-ut0mtt1w</code>"
      ],
      "text/plain": [
       "<IPython.core.display.HTML object>"
      ]
     },
     "metadata": {},
     "output_type": "display_data"
    },
    {
     "data": {
      "text/html": [
       "Syncing run <strong><a href='https://wandb.ai/cs24m015-indian-institute-of-technology-madras/Debasmita-DA6401-Assignment-3/runs/ut0mtt1w' target=\"_blank\">magic-sweep-43</a></strong> to <a href='https://wandb.ai/cs24m015-indian-institute-of-technology-madras/Debasmita-DA6401-Assignment-3' target=\"_blank\">Weights & Biases</a> (<a href='https://wandb.me/developer-guide' target=\"_blank\">docs</a>)<br>Sweep page: <a href='https://wandb.ai/cs24m015-indian-institute-of-technology-madras/Debasmita-DA6401-Assignment-3/sweeps/hbfj1wi7' target=\"_blank\">https://wandb.ai/cs24m015-indian-institute-of-technology-madras/Debasmita-DA6401-Assignment-3/sweeps/hbfj1wi7</a>"
      ],
      "text/plain": [
       "<IPython.core.display.HTML object>"
      ]
     },
     "metadata": {},
     "output_type": "display_data"
    },
    {
     "data": {
      "text/html": [
       " View project at <a href='https://wandb.ai/cs24m015-indian-institute-of-technology-madras/Debasmita-DA6401-Assignment-3' target=\"_blank\">https://wandb.ai/cs24m015-indian-institute-of-technology-madras/Debasmita-DA6401-Assignment-3</a>"
      ],
      "text/plain": [
       "<IPython.core.display.HTML object>"
      ]
     },
     "metadata": {},
     "output_type": "display_data"
    },
    {
     "data": {
      "text/html": [
       " View sweep at <a href='https://wandb.ai/cs24m015-indian-institute-of-technology-madras/Debasmita-DA6401-Assignment-3/sweeps/hbfj1wi7' target=\"_blank\">https://wandb.ai/cs24m015-indian-institute-of-technology-madras/Debasmita-DA6401-Assignment-3/sweeps/hbfj1wi7</a>"
      ],
      "text/plain": [
       "<IPython.core.display.HTML object>"
      ]
     },
     "metadata": {},
     "output_type": "display_data"
    },
    {
     "data": {
      "text/html": [
       " View run at <a href='https://wandb.ai/cs24m015-indian-institute-of-technology-madras/Debasmita-DA6401-Assignment-3/runs/ut0mtt1w' target=\"_blank\">https://wandb.ai/cs24m015-indian-institute-of-technology-madras/Debasmita-DA6401-Assignment-3/runs/ut0mtt1w</a>"
      ],
      "text/plain": [
       "<IPython.core.display.HTML object>"
      ]
     },
     "metadata": {},
     "output_type": "display_data"
    },
    {
     "name": "stdout",
     "output_type": "stream",
     "text": [
      "run name = ATT_YES_EP_10_CELL_LSTM_EMB_512_ENC_3_DEC_2_FC_512_DRP_0.4_BS_128_BIDIREC_NO\n",
      "\n",
      "===================================================================================================================\n",
      "Epoch : 1\n",
      "Training Accuracy : 0.2404960250338295\n",
      "Validation Accuracy : 0.2046232876712329\n",
      "Training Loss : 0.5410074750125328\n",
      "Validation Loss : 0.6866453890114614\n",
      "\n",
      "===================================================================================================================\n",
      "Epoch : 2\n",
      "Training Accuracy : 0.3964605886332882\n",
      "Validation Accuracy : 0.2782534246575342\n",
      "Training Loss : 0.4078511650168686\n",
      "Validation Loss : 0.6422192584978391\n",
      "\n",
      "===================================================================================================================\n",
      "Epoch : 3\n",
      "Training Accuracy : 0.48177435723951284\n",
      "Validation Accuracy : 0.3163527397260274\n",
      "Training Loss : 0.3413477622083463\n",
      "Validation Loss : 0.6037911572684981\n",
      "\n",
      "===================================================================================================================\n",
      "Epoch : 4\n",
      "Training Accuracy : 0.5679972936400541\n",
      "Validation Accuracy : 0.3315496575342466\n",
      "Training Loss : 0.2878539884445309\n",
      "Validation Loss : 0.6211604655605473\n",
      "\n",
      "===================================================================================================================\n",
      "Epoch : 5\n",
      "Training Accuracy : 0.6228222259810555\n",
      "Validation Accuracy : 0.3424657534246575\n",
      "Training Loss : 0.24586321736140246\n",
      "Validation Loss : 0.6085102072317307\n",
      "\n",
      "===================================================================================================================\n",
      "Epoch : 6\n",
      "Training Accuracy : 0.662529600811908\n",
      "Validation Accuracy : 0.3497431506849315\n",
      "Training Loss : 0.2192434521444918\n",
      "Validation Loss : 0.6285433867206313\n",
      "\n",
      "===================================================================================================================\n",
      "Epoch : 7\n",
      "Training Accuracy : 0.7073431156968877\n",
      "Validation Accuracy : 0.3458904109589041\n",
      "Training Loss : 0.18577699523535085\n",
      "Validation Loss : 0.6495664609621649\n",
      "\n",
      "===================================================================================================================\n",
      "Epoch : 8\n",
      "Training Accuracy : 0.7338464140730717\n",
      "Validation Accuracy : 0.3543450342465753\n",
      "Training Loss : 0.17275364561881038\n",
      "Validation Loss : 0.6842699103975949\n",
      "\n",
      "===================================================================================================================\n",
      "Epoch : 9\n",
      "Training Accuracy : 0.761924898511502\n",
      "Validation Accuracy : 0.3544520547945205\n",
      "Training Loss : 0.1495431616186531\n",
      "Validation Loss : 0.6705387896054411\n",
      "\n",
      "===================================================================================================================\n",
      "Epoch : 10\n",
      "Training Accuracy : 0.7791779431664412\n",
      "Validation Accuracy : 0.3391481164383562\n",
      "Training Loss : 0.13627847569398532\n",
      "Validation Loss : 0.716089618940876\n"
     ]
    },
    {
     "data": {
      "text/html": [],
      "text/plain": [
       "<IPython.core.display.HTML object>"
      ]
     },
     "metadata": {},
     "output_type": "display_data"
    },
    {
     "data": {
      "text/html": [
       "<br>    <style><br>        .wandb-row {<br>            display: flex;<br>            flex-direction: row;<br>            flex-wrap: wrap;<br>            justify-content: flex-start;<br>            width: 100%;<br>        }<br>        .wandb-col {<br>            display: flex;<br>            flex-direction: column;<br>            flex-basis: 100%;<br>            flex: 1;<br>            padding: 10px;<br>        }<br>    </style><br><div class=\"wandb-row\"><div class=\"wandb-col\"><h3>Run history:</h3><br/><table class=\"wandb\"><tr><td>Epoch</td><td>▁▂▃▃▄▅▆▆▇█</td></tr><tr><td>training_accuracy</td><td>▁▃▄▅▆▆▇▇██</td></tr><tr><td>training_loss</td><td>█▆▅▄▃▂▂▂▁▁</td></tr><tr><td>validation_accuracy</td><td>▁▄▆▇▇████▇</td></tr><tr><td>validation_loss</td><td>▆▃▁▂▁▃▄▆▅█</td></tr></table><br/></div><div class=\"wandb-col\"><h3>Run summary:</h3><br/><table class=\"wandb\"><tr><td>Epoch</td><td>10</td></tr><tr><td>training_accuracy</td><td>0.77918</td></tr><tr><td>training_loss</td><td>0.13628</td></tr><tr><td>validation_accuracy</td><td>0.33915</td></tr><tr><td>validation_loss</td><td>0.71609</td></tr></table><br/></div></div>"
      ],
      "text/plain": [
       "<IPython.core.display.HTML object>"
      ]
     },
     "metadata": {},
     "output_type": "display_data"
    },
    {
     "data": {
      "text/html": [
       " View run <strong style=\"color:#cdcd00\">ATT_YES_EP_10_CELL_LSTM_EMB_512_ENC_3_DEC_2_FC_512_DRP_0.4_BS_128_BIDIREC_NO</strong> at: <a href='https://wandb.ai/cs24m015-indian-institute-of-technology-madras/Debasmita-DA6401-Assignment-3/runs/ut0mtt1w' target=\"_blank\">https://wandb.ai/cs24m015-indian-institute-of-technology-madras/Debasmita-DA6401-Assignment-3/runs/ut0mtt1w</a><br> View project at: <a href='https://wandb.ai/cs24m015-indian-institute-of-technology-madras/Debasmita-DA6401-Assignment-3' target=\"_blank\">https://wandb.ai/cs24m015-indian-institute-of-technology-madras/Debasmita-DA6401-Assignment-3</a><br>Synced 5 W&B file(s), 0 media file(s), 0 artifact file(s) and 0 other file(s)"
      ],
      "text/plain": [
       "<IPython.core.display.HTML object>"
      ]
     },
     "metadata": {},
     "output_type": "display_data"
    },
    {
     "data": {
      "text/html": [
       "Find logs at: <code>./wandb/run-20250517_024921-ut0mtt1w/logs</code>"
      ],
      "text/plain": [
       "<IPython.core.display.HTML object>"
      ]
     },
     "metadata": {},
     "output_type": "display_data"
    },
    {
     "name": "stderr",
     "output_type": "stream",
     "text": [
      "\u001b[34m\u001b[1mwandb\u001b[0m: Agent Starting Run: 7igx8imj with config:\n",
      "\u001b[34m\u001b[1mwandb\u001b[0m: \tbatch_size: 128\n",
      "\u001b[34m\u001b[1mwandb\u001b[0m: \tbidirectional: NO\n",
      "\u001b[34m\u001b[1mwandb\u001b[0m: \tcell_type: GRU\n",
      "\u001b[34m\u001b[1mwandb\u001b[0m: \tdecoder_layers: 3\n",
      "\u001b[34m\u001b[1mwandb\u001b[0m: \tdropout: 0\n",
      "\u001b[34m\u001b[1mwandb\u001b[0m: \tembedding_size: 128\n",
      "\u001b[34m\u001b[1mwandb\u001b[0m: \tencoder_layers: 3\n",
      "\u001b[34m\u001b[1mwandb\u001b[0m: \tepochs: 10\n",
      "\u001b[34m\u001b[1mwandb\u001b[0m: \tneurons_in_fc: 512\n"
     ]
    },
    {
     "data": {
      "text/html": [
       "Ignoring project 'Debasmita-DA6401-Assignment-3' when running a sweep."
      ],
      "text/plain": [
       "<IPython.core.display.HTML object>"
      ]
     },
     "metadata": {},
     "output_type": "display_data"
    },
    {
     "data": {
      "text/html": [
       "Tracking run with wandb version 0.19.9"
      ],
      "text/plain": [
       "<IPython.core.display.HTML object>"
      ]
     },
     "metadata": {},
     "output_type": "display_data"
    },
    {
     "data": {
      "text/html": [
       "Run data is saved locally in <code>/kaggle/working/wandb/run-20250517_031248-7igx8imj</code>"
      ],
      "text/plain": [
       "<IPython.core.display.HTML object>"
      ]
     },
     "metadata": {},
     "output_type": "display_data"
    },
    {
     "data": {
      "text/html": [
       "Syncing run <strong><a href='https://wandb.ai/cs24m015-indian-institute-of-technology-madras/Debasmita-DA6401-Assignment-3/runs/7igx8imj' target=\"_blank\">hearty-sweep-44</a></strong> to <a href='https://wandb.ai/cs24m015-indian-institute-of-technology-madras/Debasmita-DA6401-Assignment-3' target=\"_blank\">Weights & Biases</a> (<a href='https://wandb.me/developer-guide' target=\"_blank\">docs</a>)<br>Sweep page: <a href='https://wandb.ai/cs24m015-indian-institute-of-technology-madras/Debasmita-DA6401-Assignment-3/sweeps/hbfj1wi7' target=\"_blank\">https://wandb.ai/cs24m015-indian-institute-of-technology-madras/Debasmita-DA6401-Assignment-3/sweeps/hbfj1wi7</a>"
      ],
      "text/plain": [
       "<IPython.core.display.HTML object>"
      ]
     },
     "metadata": {},
     "output_type": "display_data"
    },
    {
     "data": {
      "text/html": [
       " View project at <a href='https://wandb.ai/cs24m015-indian-institute-of-technology-madras/Debasmita-DA6401-Assignment-3' target=\"_blank\">https://wandb.ai/cs24m015-indian-institute-of-technology-madras/Debasmita-DA6401-Assignment-3</a>"
      ],
      "text/plain": [
       "<IPython.core.display.HTML object>"
      ]
     },
     "metadata": {},
     "output_type": "display_data"
    },
    {
     "data": {
      "text/html": [
       " View sweep at <a href='https://wandb.ai/cs24m015-indian-institute-of-technology-madras/Debasmita-DA6401-Assignment-3/sweeps/hbfj1wi7' target=\"_blank\">https://wandb.ai/cs24m015-indian-institute-of-technology-madras/Debasmita-DA6401-Assignment-3/sweeps/hbfj1wi7</a>"
      ],
      "text/plain": [
       "<IPython.core.display.HTML object>"
      ]
     },
     "metadata": {},
     "output_type": "display_data"
    },
    {
     "data": {
      "text/html": [
       " View run at <a href='https://wandb.ai/cs24m015-indian-institute-of-technology-madras/Debasmita-DA6401-Assignment-3/runs/7igx8imj' target=\"_blank\">https://wandb.ai/cs24m015-indian-institute-of-technology-madras/Debasmita-DA6401-Assignment-3/runs/7igx8imj</a>"
      ],
      "text/plain": [
       "<IPython.core.display.HTML object>"
      ]
     },
     "metadata": {},
     "output_type": "display_data"
    },
    {
     "name": "stdout",
     "output_type": "stream",
     "text": [
      "run name = ATT_YES_EP_10_CELL_GRU_EMB_128_ENC_3_DEC_3_FC_512_DRP_0_BS_128_BIDIREC_NO\n",
      "\n",
      "===================================================================================================================\n",
      "Epoch : 1\n",
      "Training Accuracy : 0.28276175575101486\n",
      "Validation Accuracy : 0.2269905821917808\n",
      "Training Loss : 0.5259765175666473\n",
      "Validation Loss : 0.7283922393028051\n",
      "\n",
      "===================================================================================================================\n",
      "Epoch : 2\n",
      "Training Accuracy : 0.35779981393775373\n",
      "Validation Accuracy : 0.23919092465753425\n",
      "Training Loss : 0.4406389045215266\n",
      "Validation Loss : 0.6905963682148555\n",
      "\n",
      "===================================================================================================================\n",
      "Epoch : 3\n",
      "Training Accuracy : 0.4621743910690122\n",
      "Validation Accuracy : 0.2821061643835616\n",
      "Training Loss : 0.3786428950837888\n",
      "Validation Loss : 0.6948681563547213\n",
      "\n",
      "===================================================================================================================\n",
      "Epoch : 4\n",
      "Training Accuracy : 0.5286387855209743\n",
      "Validation Accuracy : 0.2769691780821918\n",
      "Training Loss : 0.32933166812656695\n",
      "Validation Loss : 0.715983220975693\n",
      "\n",
      "===================================================================================================================\n",
      "Epoch : 5\n",
      "Training Accuracy : 0.5398870940460081\n",
      "Validation Accuracy : 0.269798801369863\n",
      "Training Loss : 0.319034933317982\n",
      "Validation Loss : 0.7067691120382857\n",
      "\n",
      "===================================================================================================================\n",
      "Epoch : 6\n",
      "Training Accuracy : 0.5275710419485792\n",
      "Validation Accuracy : 0.2678724315068493\n",
      "Training Loss : 0.330793410136348\n",
      "Validation Loss : 0.7415169738743403\n",
      "\n",
      "===================================================================================================================\n",
      "Epoch : 7\n",
      "Training Accuracy : 0.571676251691475\n",
      "Validation Accuracy : 0.2777183219178082\n",
      "Training Loss : 0.3014610954365001\n",
      "Validation Loss : 0.7462305520495324\n",
      "\n",
      "===================================================================================================================\n",
      "Epoch : 8\n",
      "Training Accuracy : 0.5280256258457375\n",
      "Validation Accuracy : 0.266160102739726\n",
      "Training Loss : 0.3205396140420227\n",
      "Validation Loss : 0.7289756026170026\n",
      "\n",
      "===================================================================================================================\n",
      "Epoch : 9\n",
      "Training Accuracy : 0.5305628382949933\n",
      "Validation Accuracy : 0.24946489726027396\n",
      "Training Loss : 0.3308771295783\n",
      "Validation Loss : 0.7656820881856631\n",
      "\n",
      "===================================================================================================================\n",
      "Epoch : 10\n",
      "Training Accuracy : 0.48124577131258456\n",
      "Validation Accuracy : 0.23298373287671234\n",
      "Training Loss : 0.37581764048668626\n",
      "Validation Loss : 0.7697260000117837\n"
     ]
    },
    {
     "data": {
      "text/html": [],
      "text/plain": [
       "<IPython.core.display.HTML object>"
      ]
     },
     "metadata": {},
     "output_type": "display_data"
    },
    {
     "data": {
      "text/html": [
       "<br>    <style><br>        .wandb-row {<br>            display: flex;<br>            flex-direction: row;<br>            flex-wrap: wrap;<br>            justify-content: flex-start;<br>            width: 100%;<br>        }<br>        .wandb-col {<br>            display: flex;<br>            flex-direction: column;<br>            flex-basis: 100%;<br>            flex: 1;<br>            padding: 10px;<br>        }<br>    </style><br><div class=\"wandb-row\"><div class=\"wandb-col\"><h3>Run history:</h3><br/><table class=\"wandb\"><tr><td>Epoch</td><td>▁▂▃▃▄▅▆▆▇█</td></tr><tr><td>training_accuracy</td><td>▁▃▅▇▇▇█▇▇▆</td></tr><tr><td>training_loss</td><td>█▅▃▂▂▂▁▂▂▃</td></tr><tr><td>validation_accuracy</td><td>▁▃█▇▆▆▇▆▄▂</td></tr><tr><td>validation_loss</td><td>▄▁▁▃▂▆▆▄██</td></tr></table><br/></div><div class=\"wandb-col\"><h3>Run summary:</h3><br/><table class=\"wandb\"><tr><td>Epoch</td><td>10</td></tr><tr><td>training_accuracy</td><td>0.48125</td></tr><tr><td>training_loss</td><td>0.37582</td></tr><tr><td>validation_accuracy</td><td>0.23298</td></tr><tr><td>validation_loss</td><td>0.76973</td></tr></table><br/></div></div>"
      ],
      "text/plain": [
       "<IPython.core.display.HTML object>"
      ]
     },
     "metadata": {},
     "output_type": "display_data"
    },
    {
     "data": {
      "text/html": [
       " View run <strong style=\"color:#cdcd00\">ATT_YES_EP_10_CELL_GRU_EMB_128_ENC_3_DEC_3_FC_512_DRP_0_BS_128_BIDIREC_NO</strong> at: <a href='https://wandb.ai/cs24m015-indian-institute-of-technology-madras/Debasmita-DA6401-Assignment-3/runs/7igx8imj' target=\"_blank\">https://wandb.ai/cs24m015-indian-institute-of-technology-madras/Debasmita-DA6401-Assignment-3/runs/7igx8imj</a><br> View project at: <a href='https://wandb.ai/cs24m015-indian-institute-of-technology-madras/Debasmita-DA6401-Assignment-3' target=\"_blank\">https://wandb.ai/cs24m015-indian-institute-of-technology-madras/Debasmita-DA6401-Assignment-3</a><br>Synced 5 W&B file(s), 0 media file(s), 0 artifact file(s) and 0 other file(s)"
      ],
      "text/plain": [
       "<IPython.core.display.HTML object>"
      ]
     },
     "metadata": {},
     "output_type": "display_data"
    },
    {
     "data": {
      "text/html": [
       "Find logs at: <code>./wandb/run-20250517_031248-7igx8imj/logs</code>"
      ],
      "text/plain": [
       "<IPython.core.display.HTML object>"
      ]
     },
     "metadata": {},
     "output_type": "display_data"
    },
    {
     "name": "stderr",
     "output_type": "stream",
     "text": [
      "\u001b[34m\u001b[1mwandb\u001b[0m: Agent Starting Run: hdj1yug3 with config:\n",
      "\u001b[34m\u001b[1mwandb\u001b[0m: \tbatch_size: 128\n",
      "\u001b[34m\u001b[1mwandb\u001b[0m: \tbidirectional: NO\n",
      "\u001b[34m\u001b[1mwandb\u001b[0m: \tcell_type: GRU\n",
      "\u001b[34m\u001b[1mwandb\u001b[0m: \tdecoder_layers: 2\n",
      "\u001b[34m\u001b[1mwandb\u001b[0m: \tdropout: 0.2\n",
      "\u001b[34m\u001b[1mwandb\u001b[0m: \tembedding_size: 256\n",
      "\u001b[34m\u001b[1mwandb\u001b[0m: \tencoder_layers: 2\n",
      "\u001b[34m\u001b[1mwandb\u001b[0m: \tepochs: 10\n",
      "\u001b[34m\u001b[1mwandb\u001b[0m: \tneurons_in_fc: 256\n"
     ]
    },
    {
     "data": {
      "text/html": [
       "Ignoring project 'Debasmita-DA6401-Assignment-3' when running a sweep."
      ],
      "text/plain": [
       "<IPython.core.display.HTML object>"
      ]
     },
     "metadata": {},
     "output_type": "display_data"
    },
    {
     "data": {
      "text/html": [
       "Tracking run with wandb version 0.19.9"
      ],
      "text/plain": [
       "<IPython.core.display.HTML object>"
      ]
     },
     "metadata": {},
     "output_type": "display_data"
    },
    {
     "data": {
      "text/html": [
       "Run data is saved locally in <code>/kaggle/working/wandb/run-20250517_033338-hdj1yug3</code>"
      ],
      "text/plain": [
       "<IPython.core.display.HTML object>"
      ]
     },
     "metadata": {},
     "output_type": "display_data"
    },
    {
     "data": {
      "text/html": [
       "Syncing run <strong><a href='https://wandb.ai/cs24m015-indian-institute-of-technology-madras/Debasmita-DA6401-Assignment-3/runs/hdj1yug3' target=\"_blank\">ethereal-sweep-45</a></strong> to <a href='https://wandb.ai/cs24m015-indian-institute-of-technology-madras/Debasmita-DA6401-Assignment-3' target=\"_blank\">Weights & Biases</a> (<a href='https://wandb.me/developer-guide' target=\"_blank\">docs</a>)<br>Sweep page: <a href='https://wandb.ai/cs24m015-indian-institute-of-technology-madras/Debasmita-DA6401-Assignment-3/sweeps/hbfj1wi7' target=\"_blank\">https://wandb.ai/cs24m015-indian-institute-of-technology-madras/Debasmita-DA6401-Assignment-3/sweeps/hbfj1wi7</a>"
      ],
      "text/plain": [
       "<IPython.core.display.HTML object>"
      ]
     },
     "metadata": {},
     "output_type": "display_data"
    },
    {
     "data": {
      "text/html": [
       " View project at <a href='https://wandb.ai/cs24m015-indian-institute-of-technology-madras/Debasmita-DA6401-Assignment-3' target=\"_blank\">https://wandb.ai/cs24m015-indian-institute-of-technology-madras/Debasmita-DA6401-Assignment-3</a>"
      ],
      "text/plain": [
       "<IPython.core.display.HTML object>"
      ]
     },
     "metadata": {},
     "output_type": "display_data"
    },
    {
     "data": {
      "text/html": [
       " View sweep at <a href='https://wandb.ai/cs24m015-indian-institute-of-technology-madras/Debasmita-DA6401-Assignment-3/sweeps/hbfj1wi7' target=\"_blank\">https://wandb.ai/cs24m015-indian-institute-of-technology-madras/Debasmita-DA6401-Assignment-3/sweeps/hbfj1wi7</a>"
      ],
      "text/plain": [
       "<IPython.core.display.HTML object>"
      ]
     },
     "metadata": {},
     "output_type": "display_data"
    },
    {
     "data": {
      "text/html": [
       " View run at <a href='https://wandb.ai/cs24m015-indian-institute-of-technology-madras/Debasmita-DA6401-Assignment-3/runs/hdj1yug3' target=\"_blank\">https://wandb.ai/cs24m015-indian-institute-of-technology-madras/Debasmita-DA6401-Assignment-3/runs/hdj1yug3</a>"
      ],
      "text/plain": [
       "<IPython.core.display.HTML object>"
      ]
     },
     "metadata": {},
     "output_type": "display_data"
    },
    {
     "name": "stdout",
     "output_type": "stream",
     "text": [
      "run name = ATT_YES_EP_10_CELL_GRU_EMB_256_ENC_2_DEC_2_FC_256_DRP_0.2_BS_128_BIDIREC_NO\n",
      "\n",
      "===================================================================================================================\n",
      "Epoch : 1\n",
      "Training Accuracy : 0.25947225981055483\n",
      "Validation Accuracy : 0.20794092465753425\n",
      "Training Loss : 0.5330575013757558\n",
      "Validation Loss : 0.7040919984040195\n",
      "\n",
      "===================================================================================================================\n",
      "Epoch : 2\n",
      "Training Accuracy : 0.37224078146143436\n",
      "Validation Accuracy : 0.2769691780821918\n",
      "Training Loss : 0.419882738985454\n",
      "Validation Loss : 0.6352811341416346\n",
      "\n",
      "===================================================================================================================\n",
      "Epoch : 3\n",
      "Training Accuracy : 0.43835630920162383\n",
      "Validation Accuracy : 0.3004066780821918\n",
      "Training Loss : 0.38400662005834874\n",
      "Validation Loss : 0.6453791170904081\n",
      "\n",
      "===================================================================================================================\n",
      "Epoch : 4\n",
      "Training Accuracy : 0.45219468876860625\n",
      "Validation Accuracy : 0.2928082191780822\n",
      "Training Loss : 0.38054855964341894\n",
      "Validation Loss : 0.6575904745761663\n",
      "\n",
      "===================================================================================================================\n",
      "Epoch : 5\n",
      "Training Accuracy : 0.5012580345060893\n",
      "Validation Accuracy : 0.301583904109589\n",
      "Training Loss : 0.32577203952169226\n",
      "Validation Loss : 0.6222645917983904\n",
      "\n",
      "===================================================================================================================\n",
      "Epoch : 6\n",
      "Training Accuracy : 0.5213125845737483\n",
      "Validation Accuracy : 0.3108946917808219\n",
      "Training Loss : 0.32493875388444193\n",
      "Validation Loss : 0.6462831329809476\n",
      "\n",
      "===================================================================================================================\n",
      "Epoch : 7\n",
      "Training Accuracy : 0.5514842692828146\n",
      "Validation Accuracy : 0.3288741438356164\n",
      "Training Loss : 0.31117806072486753\n",
      "Validation Loss : 0.6781514854463813\n",
      "\n",
      "===================================================================================================================\n",
      "Epoch : 8\n",
      "Training Accuracy : 0.5634514546684709\n",
      "Validation Accuracy : 0.3280179794520548\n",
      "Training Loss : 0.2997104787697489\n",
      "Validation Loss : 0.6795639906027545\n",
      "\n",
      "===================================================================================================================\n",
      "Epoch : 9\n",
      "Training Accuracy : 0.5566221244925575\n",
      "Validation Accuracy : 0.3196703767123288\n",
      "Training Loss : 0.29755977542216466\n",
      "Validation Loss : 0.6554497635527833\n",
      "\n",
      "===================================================================================================================\n",
      "Epoch : 10\n",
      "Training Accuracy : 0.5774272665764547\n",
      "Validation Accuracy : 0.3136772260273973\n",
      "Training Loss : 0.2840134319981638\n",
      "Validation Loss : 0.6672198837750578\n"
     ]
    },
    {
     "data": {
      "text/html": [],
      "text/plain": [
       "<IPython.core.display.HTML object>"
      ]
     },
     "metadata": {},
     "output_type": "display_data"
    },
    {
     "data": {
      "text/html": [
       "<br>    <style><br>        .wandb-row {<br>            display: flex;<br>            flex-direction: row;<br>            flex-wrap: wrap;<br>            justify-content: flex-start;<br>            width: 100%;<br>        }<br>        .wandb-col {<br>            display: flex;<br>            flex-direction: column;<br>            flex-basis: 100%;<br>            flex: 1;<br>            padding: 10px;<br>        }<br>    </style><br><div class=\"wandb-row\"><div class=\"wandb-col\"><h3>Run history:</h3><br/><table class=\"wandb\"><tr><td>Epoch</td><td>▁▂▃▃▄▅▆▆▇█</td></tr><tr><td>training_accuracy</td><td>▁▃▅▅▆▇▇███</td></tr><tr><td>training_loss</td><td>█▅▄▄▂▂▂▁▁▁</td></tr><tr><td>validation_accuracy</td><td>▁▅▆▆▆▇██▇▇</td></tr><tr><td>validation_loss</td><td>█▂▃▄▁▃▆▆▄▅</td></tr></table><br/></div><div class=\"wandb-col\"><h3>Run summary:</h3><br/><table class=\"wandb\"><tr><td>Epoch</td><td>10</td></tr><tr><td>training_accuracy</td><td>0.57743</td></tr><tr><td>training_loss</td><td>0.28401</td></tr><tr><td>validation_accuracy</td><td>0.31368</td></tr><tr><td>validation_loss</td><td>0.66722</td></tr></table><br/></div></div>"
      ],
      "text/plain": [
       "<IPython.core.display.HTML object>"
      ]
     },
     "metadata": {},
     "output_type": "display_data"
    },
    {
     "data": {
      "text/html": [
       " View run <strong style=\"color:#cdcd00\">ATT_YES_EP_10_CELL_GRU_EMB_256_ENC_2_DEC_2_FC_256_DRP_0.2_BS_128_BIDIREC_NO</strong> at: <a href='https://wandb.ai/cs24m015-indian-institute-of-technology-madras/Debasmita-DA6401-Assignment-3/runs/hdj1yug3' target=\"_blank\">https://wandb.ai/cs24m015-indian-institute-of-technology-madras/Debasmita-DA6401-Assignment-3/runs/hdj1yug3</a><br> View project at: <a href='https://wandb.ai/cs24m015-indian-institute-of-technology-madras/Debasmita-DA6401-Assignment-3' target=\"_blank\">https://wandb.ai/cs24m015-indian-institute-of-technology-madras/Debasmita-DA6401-Assignment-3</a><br>Synced 5 W&B file(s), 0 media file(s), 0 artifact file(s) and 0 other file(s)"
      ],
      "text/plain": [
       "<IPython.core.display.HTML object>"
      ]
     },
     "metadata": {},
     "output_type": "display_data"
    },
    {
     "data": {
      "text/html": [
       "Find logs at: <code>./wandb/run-20250517_033338-hdj1yug3/logs</code>"
      ],
      "text/plain": [
       "<IPython.core.display.HTML object>"
      ]
     },
     "metadata": {},
     "output_type": "display_data"
    },
    {
     "name": "stderr",
     "output_type": "stream",
     "text": [
      "\u001b[34m\u001b[1mwandb\u001b[0m: Agent Starting Run: 2q4ik9o0 with config:\n",
      "\u001b[34m\u001b[1mwandb\u001b[0m: \tbatch_size: 128\n",
      "\u001b[34m\u001b[1mwandb\u001b[0m: \tbidirectional: NO\n",
      "\u001b[34m\u001b[1mwandb\u001b[0m: \tcell_type: LSTM\n",
      "\u001b[34m\u001b[1mwandb\u001b[0m: \tdecoder_layers: 3\n",
      "\u001b[34m\u001b[1mwandb\u001b[0m: \tdropout: 0.2\n",
      "\u001b[34m\u001b[1mwandb\u001b[0m: \tembedding_size: 128\n",
      "\u001b[34m\u001b[1mwandb\u001b[0m: \tencoder_layers: 3\n",
      "\u001b[34m\u001b[1mwandb\u001b[0m: \tepochs: 5\n",
      "\u001b[34m\u001b[1mwandb\u001b[0m: \tneurons_in_fc: 512\n"
     ]
    },
    {
     "data": {
      "text/html": [
       "Ignoring project 'Debasmita-DA6401-Assignment-3' when running a sweep."
      ],
      "text/plain": [
       "<IPython.core.display.HTML object>"
      ]
     },
     "metadata": {},
     "output_type": "display_data"
    },
    {
     "data": {
      "text/html": [
       "Tracking run with wandb version 0.19.9"
      ],
      "text/plain": [
       "<IPython.core.display.HTML object>"
      ]
     },
     "metadata": {},
     "output_type": "display_data"
    },
    {
     "data": {
      "text/html": [
       "Run data is saved locally in <code>/kaggle/working/wandb/run-20250517_034420-2q4ik9o0</code>"
      ],
      "text/plain": [
       "<IPython.core.display.HTML object>"
      ]
     },
     "metadata": {},
     "output_type": "display_data"
    },
    {
     "data": {
      "text/html": [
       "Syncing run <strong><a href='https://wandb.ai/cs24m015-indian-institute-of-technology-madras/Debasmita-DA6401-Assignment-3/runs/2q4ik9o0' target=\"_blank\">apricot-sweep-46</a></strong> to <a href='https://wandb.ai/cs24m015-indian-institute-of-technology-madras/Debasmita-DA6401-Assignment-3' target=\"_blank\">Weights & Biases</a> (<a href='https://wandb.me/developer-guide' target=\"_blank\">docs</a>)<br>Sweep page: <a href='https://wandb.ai/cs24m015-indian-institute-of-technology-madras/Debasmita-DA6401-Assignment-3/sweeps/hbfj1wi7' target=\"_blank\">https://wandb.ai/cs24m015-indian-institute-of-technology-madras/Debasmita-DA6401-Assignment-3/sweeps/hbfj1wi7</a>"
      ],
      "text/plain": [
       "<IPython.core.display.HTML object>"
      ]
     },
     "metadata": {},
     "output_type": "display_data"
    },
    {
     "data": {
      "text/html": [
       " View project at <a href='https://wandb.ai/cs24m015-indian-institute-of-technology-madras/Debasmita-DA6401-Assignment-3' target=\"_blank\">https://wandb.ai/cs24m015-indian-institute-of-technology-madras/Debasmita-DA6401-Assignment-3</a>"
      ],
      "text/plain": [
       "<IPython.core.display.HTML object>"
      ]
     },
     "metadata": {},
     "output_type": "display_data"
    },
    {
     "data": {
      "text/html": [
       " View sweep at <a href='https://wandb.ai/cs24m015-indian-institute-of-technology-madras/Debasmita-DA6401-Assignment-3/sweeps/hbfj1wi7' target=\"_blank\">https://wandb.ai/cs24m015-indian-institute-of-technology-madras/Debasmita-DA6401-Assignment-3/sweeps/hbfj1wi7</a>"
      ],
      "text/plain": [
       "<IPython.core.display.HTML object>"
      ]
     },
     "metadata": {},
     "output_type": "display_data"
    },
    {
     "data": {
      "text/html": [
       " View run at <a href='https://wandb.ai/cs24m015-indian-institute-of-technology-madras/Debasmita-DA6401-Assignment-3/runs/2q4ik9o0' target=\"_blank\">https://wandb.ai/cs24m015-indian-institute-of-technology-madras/Debasmita-DA6401-Assignment-3/runs/2q4ik9o0</a>"
      ],
      "text/plain": [
       "<IPython.core.display.HTML object>"
      ]
     },
     "metadata": {},
     "output_type": "display_data"
    },
    {
     "name": "stdout",
     "output_type": "stream",
     "text": [
      "run name = ATT_YES_EP_5_CELL_LSTM_EMB_128_ENC_3_DEC_3_FC_512_DRP_0.2_BS_128_BIDIREC_NO\n",
      "\n",
      "===================================================================================================================\n",
      "Epoch : 1\n",
      "Training Accuracy : 0.19356816644113667\n",
      "Validation Accuracy : 0.1699486301369863\n",
      "Training Loss : 0.5548157268512556\n",
      "Validation Loss : 0.6964788681840244\n",
      "\n",
      "===================================================================================================================\n",
      "Epoch : 2\n",
      "Training Accuracy : 0.36378340663058184\n",
      "Validation Accuracy : 0.2672303082191781\n",
      "Training Loss : 0.4408975721454104\n",
      "Validation Loss : 0.660335218253201\n",
      "\n",
      "===================================================================================================================\n",
      "Epoch : 3\n",
      "Training Accuracy : 0.4667625169147497\n",
      "Validation Accuracy : 0.3057577054794521\n",
      "Training Loss : 0.3311344975345996\n",
      "Validation Loss : 0.583768072601867\n",
      "\n",
      "===================================================================================================================\n",
      "Epoch : 4\n",
      "Training Accuracy : 0.541959150879567\n",
      "Validation Accuracy : 0.3342251712328767\n",
      "Training Loss : 0.29538335869938176\n",
      "Validation Loss : 0.6257732175800899\n",
      "\n",
      "===================================================================================================================\n",
      "Epoch : 5\n",
      "Training Accuracy : 0.6158026048714479\n",
      "Validation Accuracy : 0.351027397260274\n",
      "Training Loss : 0.24179234074400952\n",
      "Validation Loss : 0.6152151708733545\n"
     ]
    },
    {
     "data": {
      "text/html": [],
      "text/plain": [
       "<IPython.core.display.HTML object>"
      ]
     },
     "metadata": {},
     "output_type": "display_data"
    },
    {
     "data": {
      "text/html": [
       "<br>    <style><br>        .wandb-row {<br>            display: flex;<br>            flex-direction: row;<br>            flex-wrap: wrap;<br>            justify-content: flex-start;<br>            width: 100%;<br>        }<br>        .wandb-col {<br>            display: flex;<br>            flex-direction: column;<br>            flex-basis: 100%;<br>            flex: 1;<br>            padding: 10px;<br>        }<br>    </style><br><div class=\"wandb-row\"><div class=\"wandb-col\"><h3>Run history:</h3><br/><table class=\"wandb\"><tr><td>Epoch</td><td>▁▃▅▆█</td></tr><tr><td>training_accuracy</td><td>▁▄▆▇█</td></tr><tr><td>training_loss</td><td>█▅▃▂▁</td></tr><tr><td>validation_accuracy</td><td>▁▅▆▇█</td></tr><tr><td>validation_loss</td><td>█▆▁▄▃</td></tr></table><br/></div><div class=\"wandb-col\"><h3>Run summary:</h3><br/><table class=\"wandb\"><tr><td>Epoch</td><td>5</td></tr><tr><td>training_accuracy</td><td>0.6158</td></tr><tr><td>training_loss</td><td>0.24179</td></tr><tr><td>validation_accuracy</td><td>0.35103</td></tr><tr><td>validation_loss</td><td>0.61522</td></tr></table><br/></div></div>"
      ],
      "text/plain": [
       "<IPython.core.display.HTML object>"
      ]
     },
     "metadata": {},
     "output_type": "display_data"
    },
    {
     "data": {
      "text/html": [
       " View run <strong style=\"color:#cdcd00\">ATT_YES_EP_5_CELL_LSTM_EMB_128_ENC_3_DEC_3_FC_512_DRP_0.2_BS_128_BIDIREC_NO</strong> at: <a href='https://wandb.ai/cs24m015-indian-institute-of-technology-madras/Debasmita-DA6401-Assignment-3/runs/2q4ik9o0' target=\"_blank\">https://wandb.ai/cs24m015-indian-institute-of-technology-madras/Debasmita-DA6401-Assignment-3/runs/2q4ik9o0</a><br> View project at: <a href='https://wandb.ai/cs24m015-indian-institute-of-technology-madras/Debasmita-DA6401-Assignment-3' target=\"_blank\">https://wandb.ai/cs24m015-indian-institute-of-technology-madras/Debasmita-DA6401-Assignment-3</a><br>Synced 5 W&B file(s), 0 media file(s), 0 artifact file(s) and 0 other file(s)"
      ],
      "text/plain": [
       "<IPython.core.display.HTML object>"
      ]
     },
     "metadata": {},
     "output_type": "display_data"
    },
    {
     "data": {
      "text/html": [
       "Find logs at: <code>./wandb/run-20250517_034420-2q4ik9o0/logs</code>"
      ],
      "text/plain": [
       "<IPython.core.display.HTML object>"
      ]
     },
     "metadata": {},
     "output_type": "display_data"
    },
    {
     "name": "stderr",
     "output_type": "stream",
     "text": [
      "\u001b[34m\u001b[1mwandb\u001b[0m: Sweep Agent: Waiting for job.\n",
      "\u001b[34m\u001b[1mwandb\u001b[0m: Job received.\n",
      "\u001b[34m\u001b[1mwandb\u001b[0m: Agent Starting Run: sjkrdhjf with config:\n",
      "\u001b[34m\u001b[1mwandb\u001b[0m: \tbatch_size: 128\n",
      "\u001b[34m\u001b[1mwandb\u001b[0m: \tbidirectional: NO\n",
      "\u001b[34m\u001b[1mwandb\u001b[0m: \tcell_type: LSTM\n",
      "\u001b[34m\u001b[1mwandb\u001b[0m: \tdecoder_layers: 3\n",
      "\u001b[34m\u001b[1mwandb\u001b[0m: \tdropout: 0.4\n",
      "\u001b[34m\u001b[1mwandb\u001b[0m: \tembedding_size: 128\n",
      "\u001b[34m\u001b[1mwandb\u001b[0m: \tencoder_layers: 3\n",
      "\u001b[34m\u001b[1mwandb\u001b[0m: \tepochs: 10\n",
      "\u001b[34m\u001b[1mwandb\u001b[0m: \tneurons_in_fc: 512\n"
     ]
    },
    {
     "data": {
      "text/html": [
       "Ignoring project 'Debasmita-DA6401-Assignment-3' when running a sweep."
      ],
      "text/plain": [
       "<IPython.core.display.HTML object>"
      ]
     },
     "metadata": {},
     "output_type": "display_data"
    },
    {
     "data": {
      "text/html": [
       "Tracking run with wandb version 0.19.9"
      ],
      "text/plain": [
       "<IPython.core.display.HTML object>"
      ]
     },
     "metadata": {},
     "output_type": "display_data"
    },
    {
     "data": {
      "text/html": [
       "Run data is saved locally in <code>/kaggle/working/wandb/run-20250517_035633-sjkrdhjf</code>"
      ],
      "text/plain": [
       "<IPython.core.display.HTML object>"
      ]
     },
     "metadata": {},
     "output_type": "display_data"
    },
    {
     "data": {
      "text/html": [
       "Syncing run <strong><a href='https://wandb.ai/cs24m015-indian-institute-of-technology-madras/Debasmita-DA6401-Assignment-3/runs/sjkrdhjf' target=\"_blank\">clean-sweep-47</a></strong> to <a href='https://wandb.ai/cs24m015-indian-institute-of-technology-madras/Debasmita-DA6401-Assignment-3' target=\"_blank\">Weights & Biases</a> (<a href='https://wandb.me/developer-guide' target=\"_blank\">docs</a>)<br>Sweep page: <a href='https://wandb.ai/cs24m015-indian-institute-of-technology-madras/Debasmita-DA6401-Assignment-3/sweeps/hbfj1wi7' target=\"_blank\">https://wandb.ai/cs24m015-indian-institute-of-technology-madras/Debasmita-DA6401-Assignment-3/sweeps/hbfj1wi7</a>"
      ],
      "text/plain": [
       "<IPython.core.display.HTML object>"
      ]
     },
     "metadata": {},
     "output_type": "display_data"
    },
    {
     "data": {
      "text/html": [
       " View project at <a href='https://wandb.ai/cs24m015-indian-institute-of-technology-madras/Debasmita-DA6401-Assignment-3' target=\"_blank\">https://wandb.ai/cs24m015-indian-institute-of-technology-madras/Debasmita-DA6401-Assignment-3</a>"
      ],
      "text/plain": [
       "<IPython.core.display.HTML object>"
      ]
     },
     "metadata": {},
     "output_type": "display_data"
    },
    {
     "data": {
      "text/html": [
       " View sweep at <a href='https://wandb.ai/cs24m015-indian-institute-of-technology-madras/Debasmita-DA6401-Assignment-3/sweeps/hbfj1wi7' target=\"_blank\">https://wandb.ai/cs24m015-indian-institute-of-technology-madras/Debasmita-DA6401-Assignment-3/sweeps/hbfj1wi7</a>"
      ],
      "text/plain": [
       "<IPython.core.display.HTML object>"
      ]
     },
     "metadata": {},
     "output_type": "display_data"
    },
    {
     "data": {
      "text/html": [
       " View run at <a href='https://wandb.ai/cs24m015-indian-institute-of-technology-madras/Debasmita-DA6401-Assignment-3/runs/sjkrdhjf' target=\"_blank\">https://wandb.ai/cs24m015-indian-institute-of-technology-madras/Debasmita-DA6401-Assignment-3/runs/sjkrdhjf</a>"
      ],
      "text/plain": [
       "<IPython.core.display.HTML object>"
      ]
     },
     "metadata": {},
     "output_type": "display_data"
    },
    {
     "name": "stdout",
     "output_type": "stream",
     "text": [
      "run name = ATT_YES_EP_10_CELL_LSTM_EMB_128_ENC_3_DEC_3_FC_512_DRP_0.4_BS_128_BIDIREC_NO\n",
      "\n",
      "===================================================================================================================\n",
      "Epoch : 1\n",
      "Training Accuracy : 0.1243234100135318\n",
      "Validation Accuracy : 0.11857876712328767\n",
      "Training Loss : 0.6349059619180888\n",
      "Validation Loss : 0.7659944548998794\n",
      "\n",
      "===================================================================================================================\n",
      "Epoch : 2\n",
      "Training Accuracy : 0.322088548714479\n",
      "Validation Accuracy : 0.23576626712328766\n",
      "Training Loss : 0.4582220659526985\n",
      "Validation Loss : 0.6634611140375268\n",
      "\n",
      "===================================================================================================================\n",
      "Epoch : 3\n",
      "Training Accuracy : 0.4442130412719892\n",
      "Validation Accuracy : 0.3097174657534247\n",
      "Training Loss : 0.3452804254340222\n",
      "Validation Loss : 0.5945810700116092\n",
      "\n",
      "===================================================================================================================\n",
      "Epoch : 4\n",
      "Training Accuracy : 0.522242895805142\n",
      "Validation Accuracy : 0.339041095890411\n",
      "Training Loss : 0.3067920562459587\n",
      "Validation Loss : 0.6075162381342013\n",
      "\n",
      "===================================================================================================================\n",
      "Epoch : 5\n",
      "Training Accuracy : 0.5908322056833559\n",
      "Validation Accuracy : 0.3470676369863014\n",
      "Training Loss : 0.2632523300239617\n",
      "Validation Loss : 0.6118567585945129\n",
      "\n",
      "===================================================================================================================\n",
      "Epoch : 6\n",
      "Training Accuracy : 0.6398744079837618\n",
      "Validation Accuracy : 0.3636558219178082\n",
      "Training Loss : 0.224638456662711\n",
      "Validation Loss : 0.6164684471202223\n",
      "\n",
      "===================================================================================================================\n",
      "Epoch : 7\n",
      "Training Accuracy : 0.6921409844384303\n",
      "Validation Accuracy : 0.3746789383561644\n",
      "Training Loss : 0.1793502020940729\n",
      "Validation Loss : 0.5895509429990429\n",
      "\n",
      "===================================================================================================================\n",
      "Epoch : 8\n",
      "Training Accuracy : 0.7268479364005412\n",
      "Validation Accuracy : 0.3813142123287671\n",
      "Training Loss : 0.16471183613567777\n",
      "Validation Loss : 0.655332965393589\n",
      "\n",
      "===================================================================================================================\n",
      "Epoch : 9\n",
      "Training Accuracy : 0.7514906123139378\n",
      "Validation Accuracy : 0.3763912671232877\n",
      "Training Loss : 0.1491064480701222\n",
      "Validation Loss : 0.6484155783506289\n",
      "\n",
      "===================================================================================================================\n",
      "Epoch : 10\n",
      "Training Accuracy : 0.7670733254397835\n",
      "Validation Accuracy : 0.3568065068493151\n",
      "Training Loss : 0.13607488734917325\n",
      "Validation Loss : 0.6529966760171603\n"
     ]
    },
    {
     "data": {
      "text/html": [],
      "text/plain": [
       "<IPython.core.display.HTML object>"
      ]
     },
     "metadata": {},
     "output_type": "display_data"
    },
    {
     "data": {
      "text/html": [
       "<br>    <style><br>        .wandb-row {<br>            display: flex;<br>            flex-direction: row;<br>            flex-wrap: wrap;<br>            justify-content: flex-start;<br>            width: 100%;<br>        }<br>        .wandb-col {<br>            display: flex;<br>            flex-direction: column;<br>            flex-basis: 100%;<br>            flex: 1;<br>            padding: 10px;<br>        }<br>    </style><br><div class=\"wandb-row\"><div class=\"wandb-col\"><h3>Run history:</h3><br/><table class=\"wandb\"><tr><td>Epoch</td><td>▁▂▃▃▄▅▆▆▇█</td></tr><tr><td>training_accuracy</td><td>▁▃▄▅▆▇▇███</td></tr><tr><td>training_loss</td><td>█▆▄▃▃▂▂▁▁▁</td></tr><tr><td>validation_accuracy</td><td>▁▄▆▇▇████▇</td></tr><tr><td>validation_loss</td><td>█▄▁▂▂▂▁▄▃▄</td></tr></table><br/></div><div class=\"wandb-col\"><h3>Run summary:</h3><br/><table class=\"wandb\"><tr><td>Epoch</td><td>10</td></tr><tr><td>training_accuracy</td><td>0.76707</td></tr><tr><td>training_loss</td><td>0.13607</td></tr><tr><td>validation_accuracy</td><td>0.35681</td></tr><tr><td>validation_loss</td><td>0.653</td></tr></table><br/></div></div>"
      ],
      "text/plain": [
       "<IPython.core.display.HTML object>"
      ]
     },
     "metadata": {},
     "output_type": "display_data"
    },
    {
     "data": {
      "text/html": [
       " View run <strong style=\"color:#cdcd00\">ATT_YES_EP_10_CELL_LSTM_EMB_128_ENC_3_DEC_3_FC_512_DRP_0.4_BS_128_BIDIREC_NO</strong> at: <a href='https://wandb.ai/cs24m015-indian-institute-of-technology-madras/Debasmita-DA6401-Assignment-3/runs/sjkrdhjf' target=\"_blank\">https://wandb.ai/cs24m015-indian-institute-of-technology-madras/Debasmita-DA6401-Assignment-3/runs/sjkrdhjf</a><br> View project at: <a href='https://wandb.ai/cs24m015-indian-institute-of-technology-madras/Debasmita-DA6401-Assignment-3' target=\"_blank\">https://wandb.ai/cs24m015-indian-institute-of-technology-madras/Debasmita-DA6401-Assignment-3</a><br>Synced 5 W&B file(s), 0 media file(s), 0 artifact file(s) and 0 other file(s)"
      ],
      "text/plain": [
       "<IPython.core.display.HTML object>"
      ]
     },
     "metadata": {},
     "output_type": "display_data"
    },
    {
     "data": {
      "text/html": [
       "Find logs at: <code>./wandb/run-20250517_035633-sjkrdhjf/logs</code>"
      ],
      "text/plain": [
       "<IPython.core.display.HTML object>"
      ]
     },
     "metadata": {},
     "output_type": "display_data"
    },
    {
     "name": "stderr",
     "output_type": "stream",
     "text": [
      "\u001b[34m\u001b[1mwandb\u001b[0m: Agent Starting Run: esv88d1e with config:\n",
      "\u001b[34m\u001b[1mwandb\u001b[0m: \tbatch_size: 128\n",
      "\u001b[34m\u001b[1mwandb\u001b[0m: \tbidirectional: NO\n",
      "\u001b[34m\u001b[1mwandb\u001b[0m: \tcell_type: LSTM\n",
      "\u001b[34m\u001b[1mwandb\u001b[0m: \tdecoder_layers: 2\n",
      "\u001b[34m\u001b[1mwandb\u001b[0m: \tdropout: 0\n",
      "\u001b[34m\u001b[1mwandb\u001b[0m: \tembedding_size: 256\n",
      "\u001b[34m\u001b[1mwandb\u001b[0m: \tencoder_layers: 3\n",
      "\u001b[34m\u001b[1mwandb\u001b[0m: \tepochs: 5\n",
      "\u001b[34m\u001b[1mwandb\u001b[0m: \tneurons_in_fc: 256\n"
     ]
    },
    {
     "data": {
      "text/html": [
       "Ignoring project 'Debasmita-DA6401-Assignment-3' when running a sweep."
      ],
      "text/plain": [
       "<IPython.core.display.HTML object>"
      ]
     },
     "metadata": {},
     "output_type": "display_data"
    },
    {
     "data": {
      "text/html": [
       "Tracking run with wandb version 0.19.9"
      ],
      "text/plain": [
       "<IPython.core.display.HTML object>"
      ]
     },
     "metadata": {},
     "output_type": "display_data"
    },
    {
     "data": {
      "text/html": [
       "Run data is saved locally in <code>/kaggle/working/wandb/run-20250517_042020-esv88d1e</code>"
      ],
      "text/plain": [
       "<IPython.core.display.HTML object>"
      ]
     },
     "metadata": {},
     "output_type": "display_data"
    },
    {
     "data": {
      "text/html": [
       "Syncing run <strong><a href='https://wandb.ai/cs24m015-indian-institute-of-technology-madras/Debasmita-DA6401-Assignment-3/runs/esv88d1e' target=\"_blank\">restful-sweep-48</a></strong> to <a href='https://wandb.ai/cs24m015-indian-institute-of-technology-madras/Debasmita-DA6401-Assignment-3' target=\"_blank\">Weights & Biases</a> (<a href='https://wandb.me/developer-guide' target=\"_blank\">docs</a>)<br>Sweep page: <a href='https://wandb.ai/cs24m015-indian-institute-of-technology-madras/Debasmita-DA6401-Assignment-3/sweeps/hbfj1wi7' target=\"_blank\">https://wandb.ai/cs24m015-indian-institute-of-technology-madras/Debasmita-DA6401-Assignment-3/sweeps/hbfj1wi7</a>"
      ],
      "text/plain": [
       "<IPython.core.display.HTML object>"
      ]
     },
     "metadata": {},
     "output_type": "display_data"
    },
    {
     "data": {
      "text/html": [
       " View project at <a href='https://wandb.ai/cs24m015-indian-institute-of-technology-madras/Debasmita-DA6401-Assignment-3' target=\"_blank\">https://wandb.ai/cs24m015-indian-institute-of-technology-madras/Debasmita-DA6401-Assignment-3</a>"
      ],
      "text/plain": [
       "<IPython.core.display.HTML object>"
      ]
     },
     "metadata": {},
     "output_type": "display_data"
    },
    {
     "data": {
      "text/html": [
       " View sweep at <a href='https://wandb.ai/cs24m015-indian-institute-of-technology-madras/Debasmita-DA6401-Assignment-3/sweeps/hbfj1wi7' target=\"_blank\">https://wandb.ai/cs24m015-indian-institute-of-technology-madras/Debasmita-DA6401-Assignment-3/sweeps/hbfj1wi7</a>"
      ],
      "text/plain": [
       "<IPython.core.display.HTML object>"
      ]
     },
     "metadata": {},
     "output_type": "display_data"
    },
    {
     "data": {
      "text/html": [
       " View run at <a href='https://wandb.ai/cs24m015-indian-institute-of-technology-madras/Debasmita-DA6401-Assignment-3/runs/esv88d1e' target=\"_blank\">https://wandb.ai/cs24m015-indian-institute-of-technology-madras/Debasmita-DA6401-Assignment-3/runs/esv88d1e</a>"
      ],
      "text/plain": [
       "<IPython.core.display.HTML object>"
      ]
     },
     "metadata": {},
     "output_type": "display_data"
    },
    {
     "name": "stdout",
     "output_type": "stream",
     "text": [
      "run name = ATT_YES_EP_5_CELL_LSTM_EMB_256_ENC_3_DEC_2_FC_256_DRP_0_BS_128_BIDIREC_NO\n",
      "\n",
      "===================================================================================================================\n",
      "Epoch : 1\n",
      "Training Accuracy : 0.24355125169147496\n",
      "Validation Accuracy : 0.19028253424657535\n",
      "Training Loss : 0.506815753867081\n",
      "Validation Loss : 0.6910760251626576\n",
      "\n",
      "===================================================================================================================\n",
      "Epoch : 2\n",
      "Training Accuracy : 0.39568885317997293\n",
      "Validation Accuracy : 0.273972602739726\n",
      "Training Loss : 0.39783555190601916\n",
      "Validation Loss : 0.6441400051116943\n",
      "\n",
      "===================================================================================================================\n",
      "Epoch : 3\n",
      "Training Accuracy : 0.4887094046008119\n",
      "Validation Accuracy : 0.3168878424657534\n",
      "Training Loss : 0.3404427966019781\n",
      "Validation Loss : 0.6381970011208156\n",
      "\n",
      "===================================================================================================================\n",
      "Epoch : 4\n",
      "Training Accuracy : 0.5527317320703654\n",
      "Validation Accuracy : 0.3321917808219178\n",
      "Training Loss : 0.27736015273043846\n",
      "Validation Loss : 0.6039110152688745\n",
      "\n",
      "===================================================================================================================\n",
      "Epoch : 5\n",
      "Training Accuracy : 0.6220927774018945\n",
      "Validation Accuracy : 0.3556292808219178\n",
      "Training Loss : 0.23780533417313282\n",
      "Validation Loss : 0.6077459889323744\n"
     ]
    },
    {
     "data": {
      "text/html": [],
      "text/plain": [
       "<IPython.core.display.HTML object>"
      ]
     },
     "metadata": {},
     "output_type": "display_data"
    },
    {
     "data": {
      "text/html": [
       "<br>    <style><br>        .wandb-row {<br>            display: flex;<br>            flex-direction: row;<br>            flex-wrap: wrap;<br>            justify-content: flex-start;<br>            width: 100%;<br>        }<br>        .wandb-col {<br>            display: flex;<br>            flex-direction: column;<br>            flex-basis: 100%;<br>            flex: 1;<br>            padding: 10px;<br>        }<br>    </style><br><div class=\"wandb-row\"><div class=\"wandb-col\"><h3>Run history:</h3><br/><table class=\"wandb\"><tr><td>Epoch</td><td>▁▃▅▆█</td></tr><tr><td>training_accuracy</td><td>▁▄▆▇█</td></tr><tr><td>training_loss</td><td>█▅▄▂▁</td></tr><tr><td>validation_accuracy</td><td>▁▅▆▇█</td></tr><tr><td>validation_loss</td><td>█▄▄▁▁</td></tr></table><br/></div><div class=\"wandb-col\"><h3>Run summary:</h3><br/><table class=\"wandb\"><tr><td>Epoch</td><td>5</td></tr><tr><td>training_accuracy</td><td>0.62209</td></tr><tr><td>training_loss</td><td>0.23781</td></tr><tr><td>validation_accuracy</td><td>0.35563</td></tr><tr><td>validation_loss</td><td>0.60775</td></tr></table><br/></div></div>"
      ],
      "text/plain": [
       "<IPython.core.display.HTML object>"
      ]
     },
     "metadata": {},
     "output_type": "display_data"
    },
    {
     "data": {
      "text/html": [
       " View run <strong style=\"color:#cdcd00\">ATT_YES_EP_5_CELL_LSTM_EMB_256_ENC_3_DEC_2_FC_256_DRP_0_BS_128_BIDIREC_NO</strong> at: <a href='https://wandb.ai/cs24m015-indian-institute-of-technology-madras/Debasmita-DA6401-Assignment-3/runs/esv88d1e' target=\"_blank\">https://wandb.ai/cs24m015-indian-institute-of-technology-madras/Debasmita-DA6401-Assignment-3/runs/esv88d1e</a><br> View project at: <a href='https://wandb.ai/cs24m015-indian-institute-of-technology-madras/Debasmita-DA6401-Assignment-3' target=\"_blank\">https://wandb.ai/cs24m015-indian-institute-of-technology-madras/Debasmita-DA6401-Assignment-3</a><br>Synced 5 W&B file(s), 0 media file(s), 0 artifact file(s) and 0 other file(s)"
      ],
      "text/plain": [
       "<IPython.core.display.HTML object>"
      ]
     },
     "metadata": {},
     "output_type": "display_data"
    },
    {
     "data": {
      "text/html": [
       "Find logs at: <code>./wandb/run-20250517_042020-esv88d1e/logs</code>"
      ],
      "text/plain": [
       "<IPython.core.display.HTML object>"
      ]
     },
     "metadata": {},
     "output_type": "display_data"
    },
    {
     "name": "stderr",
     "output_type": "stream",
     "text": [
      "\u001b[34m\u001b[1mwandb\u001b[0m: Sweep Agent: Waiting for job.\n",
      "\u001b[34m\u001b[1mwandb\u001b[0m: Job received.\n",
      "\u001b[34m\u001b[1mwandb\u001b[0m: Agent Starting Run: qyqc408v with config:\n",
      "\u001b[34m\u001b[1mwandb\u001b[0m: \tbatch_size: 128\n",
      "\u001b[34m\u001b[1mwandb\u001b[0m: \tbidirectional: NO\n",
      "\u001b[34m\u001b[1mwandb\u001b[0m: \tcell_type: LSTM\n",
      "\u001b[34m\u001b[1mwandb\u001b[0m: \tdecoder_layers: 3\n",
      "\u001b[34m\u001b[1mwandb\u001b[0m: \tdropout: 0.2\n",
      "\u001b[34m\u001b[1mwandb\u001b[0m: \tembedding_size: 256\n",
      "\u001b[34m\u001b[1mwandb\u001b[0m: \tencoder_layers: 2\n",
      "\u001b[34m\u001b[1mwandb\u001b[0m: \tepochs: 5\n",
      "\u001b[34m\u001b[1mwandb\u001b[0m: \tneurons_in_fc: 256\n"
     ]
    },
    {
     "data": {
      "text/html": [
       "Ignoring project 'Debasmita-DA6401-Assignment-3' when running a sweep."
      ],
      "text/plain": [
       "<IPython.core.display.HTML object>"
      ]
     },
     "metadata": {},
     "output_type": "display_data"
    },
    {
     "data": {
      "text/html": [
       "Tracking run with wandb version 0.19.9"
      ],
      "text/plain": [
       "<IPython.core.display.HTML object>"
      ]
     },
     "metadata": {},
     "output_type": "display_data"
    },
    {
     "data": {
      "text/html": [
       "Run data is saved locally in <code>/kaggle/working/wandb/run-20250517_042614-qyqc408v</code>"
      ],
      "text/plain": [
       "<IPython.core.display.HTML object>"
      ]
     },
     "metadata": {},
     "output_type": "display_data"
    },
    {
     "data": {
      "text/html": [
       "Syncing run <strong><a href='https://wandb.ai/cs24m015-indian-institute-of-technology-madras/Debasmita-DA6401-Assignment-3/runs/qyqc408v' target=\"_blank\">generous-sweep-49</a></strong> to <a href='https://wandb.ai/cs24m015-indian-institute-of-technology-madras/Debasmita-DA6401-Assignment-3' target=\"_blank\">Weights & Biases</a> (<a href='https://wandb.me/developer-guide' target=\"_blank\">docs</a>)<br>Sweep page: <a href='https://wandb.ai/cs24m015-indian-institute-of-technology-madras/Debasmita-DA6401-Assignment-3/sweeps/hbfj1wi7' target=\"_blank\">https://wandb.ai/cs24m015-indian-institute-of-technology-madras/Debasmita-DA6401-Assignment-3/sweeps/hbfj1wi7</a>"
      ],
      "text/plain": [
       "<IPython.core.display.HTML object>"
      ]
     },
     "metadata": {},
     "output_type": "display_data"
    },
    {
     "data": {
      "text/html": [
       " View project at <a href='https://wandb.ai/cs24m015-indian-institute-of-technology-madras/Debasmita-DA6401-Assignment-3' target=\"_blank\">https://wandb.ai/cs24m015-indian-institute-of-technology-madras/Debasmita-DA6401-Assignment-3</a>"
      ],
      "text/plain": [
       "<IPython.core.display.HTML object>"
      ]
     },
     "metadata": {},
     "output_type": "display_data"
    },
    {
     "data": {
      "text/html": [
       " View sweep at <a href='https://wandb.ai/cs24m015-indian-institute-of-technology-madras/Debasmita-DA6401-Assignment-3/sweeps/hbfj1wi7' target=\"_blank\">https://wandb.ai/cs24m015-indian-institute-of-technology-madras/Debasmita-DA6401-Assignment-3/sweeps/hbfj1wi7</a>"
      ],
      "text/plain": [
       "<IPython.core.display.HTML object>"
      ]
     },
     "metadata": {},
     "output_type": "display_data"
    },
    {
     "data": {
      "text/html": [
       " View run at <a href='https://wandb.ai/cs24m015-indian-institute-of-technology-madras/Debasmita-DA6401-Assignment-3/runs/qyqc408v' target=\"_blank\">https://wandb.ai/cs24m015-indian-institute-of-technology-madras/Debasmita-DA6401-Assignment-3/runs/qyqc408v</a>"
      ],
      "text/plain": [
       "<IPython.core.display.HTML object>"
      ]
     },
     "metadata": {},
     "output_type": "display_data"
    },
    {
     "name": "stdout",
     "output_type": "stream",
     "text": [
      "run name = ATT_YES_EP_5_CELL_LSTM_EMB_256_ENC_2_DEC_3_FC_256_DRP_0.2_BS_128_BIDIREC_NO\n",
      "\n",
      "===================================================================================================================\n",
      "Epoch : 1\n",
      "Training Accuracy : 0.21011290595399187\n",
      "Validation Accuracy : 0.18054366438356165\n",
      "Training Loss : 0.518531119549226\n",
      "Validation Loss : 0.6675722235686159\n",
      "\n",
      "===================================================================================================================\n",
      "Epoch : 2\n",
      "Training Accuracy : 0.32735326454668473\n",
      "Validation Accuracy : 0.2462542808219178\n",
      "Training Loss : 0.43070668748331653\n",
      "Validation Loss : 0.6521320461410366\n",
      "\n",
      "===================================================================================================================\n",
      "Epoch : 3\n",
      "Training Accuracy : 0.4015244418132612\n",
      "Validation Accuracy : 0.2801797945205479\n",
      "Training Loss : 0.3788117309868416\n",
      "Validation Loss : 0.6088583581659892\n",
      "\n",
      "===================================================================================================================\n",
      "Epoch : 4\n",
      "Training Accuracy : 0.4805374661705007\n",
      "Validation Accuracy : 0.3159246575342466\n",
      "Training Loss : 0.3306110609368155\n",
      "Validation Loss : 0.6136116732473242\n",
      "\n",
      "===================================================================================================================\n",
      "Epoch : 5\n",
      "Training Accuracy : 0.5319371617050067\n",
      "Validation Accuracy : 0.3173159246575342\n",
      "Training Loss : 0.3003818652062035\n",
      "Validation Loss : 0.6335290319299045\n"
     ]
    },
    {
     "data": {
      "text/html": [],
      "text/plain": [
       "<IPython.core.display.HTML object>"
      ]
     },
     "metadata": {},
     "output_type": "display_data"
    },
    {
     "data": {
      "text/html": [
       "<br>    <style><br>        .wandb-row {<br>            display: flex;<br>            flex-direction: row;<br>            flex-wrap: wrap;<br>            justify-content: flex-start;<br>            width: 100%;<br>        }<br>        .wandb-col {<br>            display: flex;<br>            flex-direction: column;<br>            flex-basis: 100%;<br>            flex: 1;<br>            padding: 10px;<br>        }<br>    </style><br><div class=\"wandb-row\"><div class=\"wandb-col\"><h3>Run history:</h3><br/><table class=\"wandb\"><tr><td>Epoch</td><td>▁▃▅▆█</td></tr><tr><td>training_accuracy</td><td>▁▄▅▇█</td></tr><tr><td>training_loss</td><td>█▅▄▂▁</td></tr><tr><td>validation_accuracy</td><td>▁▄▆██</td></tr><tr><td>validation_loss</td><td>█▆▁▂▄</td></tr></table><br/></div><div class=\"wandb-col\"><h3>Run summary:</h3><br/><table class=\"wandb\"><tr><td>Epoch</td><td>5</td></tr><tr><td>training_accuracy</td><td>0.53194</td></tr><tr><td>training_loss</td><td>0.30038</td></tr><tr><td>validation_accuracy</td><td>0.31732</td></tr><tr><td>validation_loss</td><td>0.63353</td></tr></table><br/></div></div>"
      ],
      "text/plain": [
       "<IPython.core.display.HTML object>"
      ]
     },
     "metadata": {},
     "output_type": "display_data"
    },
    {
     "data": {
      "text/html": [
       " View run <strong style=\"color:#cdcd00\">ATT_YES_EP_5_CELL_LSTM_EMB_256_ENC_2_DEC_3_FC_256_DRP_0.2_BS_128_BIDIREC_NO</strong> at: <a href='https://wandb.ai/cs24m015-indian-institute-of-technology-madras/Debasmita-DA6401-Assignment-3/runs/qyqc408v' target=\"_blank\">https://wandb.ai/cs24m015-indian-institute-of-technology-madras/Debasmita-DA6401-Assignment-3/runs/qyqc408v</a><br> View project at: <a href='https://wandb.ai/cs24m015-indian-institute-of-technology-madras/Debasmita-DA6401-Assignment-3' target=\"_blank\">https://wandb.ai/cs24m015-indian-institute-of-technology-madras/Debasmita-DA6401-Assignment-3</a><br>Synced 5 W&B file(s), 0 media file(s), 0 artifact file(s) and 0 other file(s)"
      ],
      "text/plain": [
       "<IPython.core.display.HTML object>"
      ]
     },
     "metadata": {},
     "output_type": "display_data"
    },
    {
     "data": {
      "text/html": [
       "Find logs at: <code>./wandb/run-20250517_042614-qyqc408v/logs</code>"
      ],
      "text/plain": [
       "<IPython.core.display.HTML object>"
      ]
     },
     "metadata": {},
     "output_type": "display_data"
    },
    {
     "name": "stderr",
     "output_type": "stream",
     "text": [
      "\u001b[34m\u001b[1mwandb\u001b[0m: Sweep Agent: Waiting for job.\n",
      "\u001b[34m\u001b[1mwandb\u001b[0m: Job received.\n",
      "\u001b[34m\u001b[1mwandb\u001b[0m: Agent Starting Run: h4ajdsxg with config:\n",
      "\u001b[34m\u001b[1mwandb\u001b[0m: \tbatch_size: 128\n",
      "\u001b[34m\u001b[1mwandb\u001b[0m: \tbidirectional: NO\n",
      "\u001b[34m\u001b[1mwandb\u001b[0m: \tcell_type: LSTM\n",
      "\u001b[34m\u001b[1mwandb\u001b[0m: \tdecoder_layers: 3\n",
      "\u001b[34m\u001b[1mwandb\u001b[0m: \tdropout: 0.4\n",
      "\u001b[34m\u001b[1mwandb\u001b[0m: \tembedding_size: 64\n",
      "\u001b[34m\u001b[1mwandb\u001b[0m: \tencoder_layers: 3\n",
      "\u001b[34m\u001b[1mwandb\u001b[0m: \tepochs: 10\n",
      "\u001b[34m\u001b[1mwandb\u001b[0m: \tneurons_in_fc: 256\n"
     ]
    },
    {
     "data": {
      "text/html": [
       "Ignoring project 'Debasmita-DA6401-Assignment-3' when running a sweep."
      ],
      "text/plain": [
       "<IPython.core.display.HTML object>"
      ]
     },
     "metadata": {},
     "output_type": "display_data"
    },
    {
     "data": {
      "text/html": [
       "Tracking run with wandb version 0.19.9"
      ],
      "text/plain": [
       "<IPython.core.display.HTML object>"
      ]
     },
     "metadata": {},
     "output_type": "display_data"
    },
    {
     "data": {
      "text/html": [
       "Run data is saved locally in <code>/kaggle/working/wandb/run-20250517_043239-h4ajdsxg</code>"
      ],
      "text/plain": [
       "<IPython.core.display.HTML object>"
      ]
     },
     "metadata": {},
     "output_type": "display_data"
    },
    {
     "data": {
      "text/html": [
       "Syncing run <strong><a href='https://wandb.ai/cs24m015-indian-institute-of-technology-madras/Debasmita-DA6401-Assignment-3/runs/h4ajdsxg' target=\"_blank\">crisp-sweep-50</a></strong> to <a href='https://wandb.ai/cs24m015-indian-institute-of-technology-madras/Debasmita-DA6401-Assignment-3' target=\"_blank\">Weights & Biases</a> (<a href='https://wandb.me/developer-guide' target=\"_blank\">docs</a>)<br>Sweep page: <a href='https://wandb.ai/cs24m015-indian-institute-of-technology-madras/Debasmita-DA6401-Assignment-3/sweeps/hbfj1wi7' target=\"_blank\">https://wandb.ai/cs24m015-indian-institute-of-technology-madras/Debasmita-DA6401-Assignment-3/sweeps/hbfj1wi7</a>"
      ],
      "text/plain": [
       "<IPython.core.display.HTML object>"
      ]
     },
     "metadata": {},
     "output_type": "display_data"
    },
    {
     "data": {
      "text/html": [
       " View project at <a href='https://wandb.ai/cs24m015-indian-institute-of-technology-madras/Debasmita-DA6401-Assignment-3' target=\"_blank\">https://wandb.ai/cs24m015-indian-institute-of-technology-madras/Debasmita-DA6401-Assignment-3</a>"
      ],
      "text/plain": [
       "<IPython.core.display.HTML object>"
      ]
     },
     "metadata": {},
     "output_type": "display_data"
    },
    {
     "data": {
      "text/html": [
       " View sweep at <a href='https://wandb.ai/cs24m015-indian-institute-of-technology-madras/Debasmita-DA6401-Assignment-3/sweeps/hbfj1wi7' target=\"_blank\">https://wandb.ai/cs24m015-indian-institute-of-technology-madras/Debasmita-DA6401-Assignment-3/sweeps/hbfj1wi7</a>"
      ],
      "text/plain": [
       "<IPython.core.display.HTML object>"
      ]
     },
     "metadata": {},
     "output_type": "display_data"
    },
    {
     "data": {
      "text/html": [
       " View run at <a href='https://wandb.ai/cs24m015-indian-institute-of-technology-madras/Debasmita-DA6401-Assignment-3/runs/h4ajdsxg' target=\"_blank\">https://wandb.ai/cs24m015-indian-institute-of-technology-madras/Debasmita-DA6401-Assignment-3/runs/h4ajdsxg</a>"
      ],
      "text/plain": [
       "<IPython.core.display.HTML object>"
      ]
     },
     "metadata": {},
     "output_type": "display_data"
    },
    {
     "name": "stdout",
     "output_type": "stream",
     "text": [
      "run name = ATT_YES_EP_10_CELL_LSTM_EMB_64_ENC_3_DEC_3_FC_256_DRP_0.4_BS_128_BIDIREC_NO\n",
      "\n",
      "===================================================================================================================\n",
      "Epoch : 1\n",
      "Training Accuracy : 0.152867050067659\n",
      "Validation Accuracy : 0.13345462328767124\n",
      "Training Loss : 0.5687455490171022\n",
      "Validation Loss : 0.729726203908659\n",
      "\n",
      "===================================================================================================================\n",
      "Epoch : 2\n",
      "Training Accuracy : 0.2797699594046008\n",
      "Validation Accuracy : 0.2267765410958904\n",
      "Training Loss : 0.45883128748695\n",
      "Validation Loss : 0.6352288923034929\n",
      "\n",
      "===================================================================================================================\n",
      "Epoch : 3\n",
      "Training Accuracy : 0.37127875507442487\n",
      "Validation Accuracy : 0.2834974315068493\n",
      "Training Loss : 0.3858804114979562\n",
      "Validation Loss : 0.5910001197089888\n",
      "\n",
      "===================================================================================================================\n",
      "Epoch : 4\n",
      "Training Accuracy : 0.4323938599458728\n",
      "Validation Accuracy : 0.3092893835616438\n",
      "Training Loss : 0.3553540638278721\n",
      "Validation Loss : 0.607665379978206\n",
      "\n",
      "===================================================================================================================\n",
      "Epoch : 5\n",
      "Training Accuracy : 0.48294781799729364\n",
      "Validation Accuracy : 0.3389340753424658\n",
      "Training Loss : 0.3115753385267335\n",
      "Validation Loss : 0.5665520907264866\n",
      "\n",
      "===================================================================================================================\n",
      "Epoch : 6\n",
      "Training Accuracy : 0.5187225135317998\n",
      "Validation Accuracy : 0.3461044520547945\n",
      "Training Loss : 0.3029363384024216\n",
      "Validation Loss : 0.5935325236761406\n",
      "\n",
      "===================================================================================================================\n",
      "Epoch : 7\n",
      "Training Accuracy : 0.5634408829499323\n",
      "Validation Accuracy : 0.3587328767123288\n",
      "Training Loss : 0.2729424719518512\n",
      "Validation Loss : 0.6186813244672671\n",
      "\n",
      "===================================================================================================================\n",
      "Epoch : 8\n",
      "Training Accuracy : 0.6004524695534507\n",
      "Validation Accuracy : 0.3665453767123288\n",
      "Training Loss : 0.23738830557776078\n",
      "Validation Loss : 0.5842586024983288\n",
      "\n",
      "===================================================================================================================\n",
      "Epoch : 9\n",
      "Training Accuracy : 0.628213802435724\n",
      "Validation Accuracy : 0.3742508561643836\n",
      "Training Loss : 0.21989848314505953\n",
      "Validation Loss : 0.6030826889080544\n",
      "\n",
      "===================================================================================================================\n",
      "Epoch : 10\n",
      "Training Accuracy : 0.6572648849797023\n",
      "Validation Accuracy : 0.3842037671232877\n",
      "Training Loss : 0.20903827270167769\n",
      "Validation Loss : 0.6247447994473863\n"
     ]
    },
    {
     "data": {
      "text/html": [],
      "text/plain": [
       "<IPython.core.display.HTML object>"
      ]
     },
     "metadata": {},
     "output_type": "display_data"
    },
    {
     "data": {
      "text/html": [
       "<br>    <style><br>        .wandb-row {<br>            display: flex;<br>            flex-direction: row;<br>            flex-wrap: wrap;<br>            justify-content: flex-start;<br>            width: 100%;<br>        }<br>        .wandb-col {<br>            display: flex;<br>            flex-direction: column;<br>            flex-basis: 100%;<br>            flex: 1;<br>            padding: 10px;<br>        }<br>    </style><br><div class=\"wandb-row\"><div class=\"wandb-col\"><h3>Run history:</h3><br/><table class=\"wandb\"><tr><td>Epoch</td><td>▁▂▃▃▄▅▆▆▇█</td></tr><tr><td>training_accuracy</td><td>▁▃▄▅▆▆▇▇██</td></tr><tr><td>training_loss</td><td>█▆▄▄▃▃▂▂▁▁</td></tr><tr><td>validation_accuracy</td><td>▁▄▅▆▇▇▇███</td></tr><tr><td>validation_loss</td><td>█▄▂▃▁▂▃▂▃▃</td></tr></table><br/></div><div class=\"wandb-col\"><h3>Run summary:</h3><br/><table class=\"wandb\"><tr><td>Epoch</td><td>10</td></tr><tr><td>training_accuracy</td><td>0.65726</td></tr><tr><td>training_loss</td><td>0.20904</td></tr><tr><td>validation_accuracy</td><td>0.3842</td></tr><tr><td>validation_loss</td><td>0.62474</td></tr></table><br/></div></div>"
      ],
      "text/plain": [
       "<IPython.core.display.HTML object>"
      ]
     },
     "metadata": {},
     "output_type": "display_data"
    },
    {
     "data": {
      "text/html": [
       " View run <strong style=\"color:#cdcd00\">ATT_YES_EP_10_CELL_LSTM_EMB_64_ENC_3_DEC_3_FC_256_DRP_0.4_BS_128_BIDIREC_NO</strong> at: <a href='https://wandb.ai/cs24m015-indian-institute-of-technology-madras/Debasmita-DA6401-Assignment-3/runs/h4ajdsxg' target=\"_blank\">https://wandb.ai/cs24m015-indian-institute-of-technology-madras/Debasmita-DA6401-Assignment-3/runs/h4ajdsxg</a><br> View project at: <a href='https://wandb.ai/cs24m015-indian-institute-of-technology-madras/Debasmita-DA6401-Assignment-3' target=\"_blank\">https://wandb.ai/cs24m015-indian-institute-of-technology-madras/Debasmita-DA6401-Assignment-3</a><br>Synced 5 W&B file(s), 0 media file(s), 0 artifact file(s) and 0 other file(s)"
      ],
      "text/plain": [
       "<IPython.core.display.HTML object>"
      ]
     },
     "metadata": {},
     "output_type": "display_data"
    },
    {
     "data": {
      "text/html": [
       "Find logs at: <code>./wandb/run-20250517_043239-h4ajdsxg/logs</code>"
      ],
      "text/plain": [
       "<IPython.core.display.HTML object>"
      ]
     },
     "metadata": {},
     "output_type": "display_data"
    },
    {
     "name": "stderr",
     "output_type": "stream",
     "text": [
      "\u001b[34m\u001b[1mwandb\u001b[0m: Agent Starting Run: s5bqjz4y with config:\n",
      "\u001b[34m\u001b[1mwandb\u001b[0m: \tbatch_size: 128\n",
      "\u001b[34m\u001b[1mwandb\u001b[0m: \tbidirectional: NO\n",
      "\u001b[34m\u001b[1mwandb\u001b[0m: \tcell_type: LSTM\n",
      "\u001b[34m\u001b[1mwandb\u001b[0m: \tdecoder_layers: 2\n",
      "\u001b[34m\u001b[1mwandb\u001b[0m: \tdropout: 0.4\n",
      "\u001b[34m\u001b[1mwandb\u001b[0m: \tembedding_size: 512\n",
      "\u001b[34m\u001b[1mwandb\u001b[0m: \tencoder_layers: 3\n",
      "\u001b[34m\u001b[1mwandb\u001b[0m: \tepochs: 10\n",
      "\u001b[34m\u001b[1mwandb\u001b[0m: \tneurons_in_fc: 256\n"
     ]
    },
    {
     "data": {
      "text/html": [
       "Ignoring project 'Debasmita-DA6401-Assignment-3' when running a sweep."
      ],
      "text/plain": [
       "<IPython.core.display.HTML object>"
      ]
     },
     "metadata": {},
     "output_type": "display_data"
    },
    {
     "name": "stderr",
     "output_type": "stream",
     "text": [
      "\u001b[34m\u001b[1mwandb\u001b[0m: Ctrl + C detected. Stopping sweep.\n"
     ]
    },
    {
     "data": {
      "text/html": [
       "Tracking run with wandb version 0.19.9"
      ],
      "text/plain": [
       "<IPython.core.display.HTML object>"
      ]
     },
     "metadata": {},
     "output_type": "display_data"
    },
    {
     "data": {
      "text/html": [
       "Run data is saved locally in <code>/kaggle/working/wandb/run-20250517_044514-s5bqjz4y</code>"
      ],
      "text/plain": [
       "<IPython.core.display.HTML object>"
      ]
     },
     "metadata": {},
     "output_type": "display_data"
    },
    {
     "data": {
      "text/html": [
       "Syncing run <strong><a href='https://wandb.ai/cs24m015-indian-institute-of-technology-madras/Debasmita-DA6401-Assignment-3/runs/s5bqjz4y' target=\"_blank\">gallant-sweep-51</a></strong> to <a href='https://wandb.ai/cs24m015-indian-institute-of-technology-madras/Debasmita-DA6401-Assignment-3' target=\"_blank\">Weights & Biases</a> (<a href='https://wandb.me/developer-guide' target=\"_blank\">docs</a>)<br>Sweep page: <a href='https://wandb.ai/cs24m015-indian-institute-of-technology-madras/Debasmita-DA6401-Assignment-3/sweeps/hbfj1wi7' target=\"_blank\">https://wandb.ai/cs24m015-indian-institute-of-technology-madras/Debasmita-DA6401-Assignment-3/sweeps/hbfj1wi7</a>"
      ],
      "text/plain": [
       "<IPython.core.display.HTML object>"
      ]
     },
     "metadata": {},
     "output_type": "display_data"
    },
    {
     "data": {
      "text/html": [
       " View project at <a href='https://wandb.ai/cs24m015-indian-institute-of-technology-madras/Debasmita-DA6401-Assignment-3' target=\"_blank\">https://wandb.ai/cs24m015-indian-institute-of-technology-madras/Debasmita-DA6401-Assignment-3</a>"
      ],
      "text/plain": [
       "<IPython.core.display.HTML object>"
      ]
     },
     "metadata": {},
     "output_type": "display_data"
    },
    {
     "data": {
      "text/html": [
       " View sweep at <a href='https://wandb.ai/cs24m015-indian-institute-of-technology-madras/Debasmita-DA6401-Assignment-3/sweeps/hbfj1wi7' target=\"_blank\">https://wandb.ai/cs24m015-indian-institute-of-technology-madras/Debasmita-DA6401-Assignment-3/sweeps/hbfj1wi7</a>"
      ],
      "text/plain": [
       "<IPython.core.display.HTML object>"
      ]
     },
     "metadata": {},
     "output_type": "display_data"
    },
    {
     "data": {
      "text/html": [
       " View run at <a href='https://wandb.ai/cs24m015-indian-institute-of-technology-madras/Debasmita-DA6401-Assignment-3/runs/s5bqjz4y' target=\"_blank\">https://wandb.ai/cs24m015-indian-institute-of-technology-madras/Debasmita-DA6401-Assignment-3/runs/s5bqjz4y</a>"
      ],
      "text/plain": [
       "<IPython.core.display.HTML object>"
      ]
     },
     "metadata": {},
     "output_type": "display_data"
    }
   ],
   "source": [
    "\n",
    "from LoadDataset_Test import DatasetLoad\n",
    "from PrepareVocabulary_Final import PrepareVocabulary\n",
    "from WordEmbeddings_Create import WordEmbeddings\n",
    "from ModelTrainDriver_Framework import Model\n",
    "import torch.utils as utils\n",
    "import wandb\n",
    "\n",
    "'''login to wandb to generate plot'''\n",
    "wandb.login()\n",
    "\n",
    "def main():\n",
    "    '''initialize to project and create a config'''\n",
    "    wandb.init(project=\"Debasmita-DA6401-Assignment-3\")\n",
    "    config=wandb.config\n",
    "\n",
    "    '''loads dataset'''\n",
    "    lang=\"bn\"\n",
    "    d=DatasetLoad()\n",
    "    root=\"/kaggle/input/dataset/Dakshina/bn/lexicons\"\n",
    "    d.loadDataset(root,lang)  \n",
    "\n",
    "    '''creates vocabulary from the dataset'''\n",
    "    vocabulary=PrepareVocabulary()\n",
    "    vocabulary.createVocabulary(d.train_dataset)\n",
    "\n",
    "    '''create embeddings of words for train and validation dataset'''\n",
    "    embeddingTrain=WordEmbeddings()\n",
    "    embeddingTrain.createWordEmbeddings(d.train_dataset,vocabulary)\n",
    "\n",
    "    embeddingVal=WordEmbeddings()\n",
    "    embeddingVal.createWordEmbeddings(d.val_dataset,vocabulary)\n",
    "\n",
    "    '''create the dataloaders'''\n",
    "    trainEmbeddedDataset=utils.data.TensorDataset(embeddingTrain.englishEmbedding,embeddingTrain.bengaliEmbedding)\n",
    "    trainEmbeddedDataLoader=utils.data.DataLoader(trainEmbeddedDataset,batch_size=config.batch_size,shuffle=True)\n",
    "\n",
    "    valEmbeddedDataset=utils.data.TensorDataset(embeddingVal.englishEmbedding,embeddingVal.bengaliEmbedding)\n",
    "    valEmbeddedDataLoader=utils.data.DataLoader(valEmbeddedDataset,batch_size=config.batch_size)\n",
    "\n",
    "    '''give a name for the run'''\n",
    "    run=\"ATT_{}_EP_{}_CELL_{}_EMB_{}_ENC_{}_DEC_{}_FC_{}_DRP_{}_BS_{}_BIDIREC_{}\".format(\"YES\",config.epochs,config.cell_type,config.embedding_size,config.encoder_layers,config.decoder_layers,config.neurons_in_fc,config.dropout,config.batch_size,config.bidirectional)\n",
    "    wandb.run.name=run\n",
    "    print(\"run name = {}\".format(run))\n",
    "\n",
    "    '''\n",
    "        create an object of the encoder-decoder model which has all the required functions.\n",
    "        pass the parameters to the constructor as a sweep value. this will change the values with each run of the sweep.\n",
    "    '''\n",
    "    model=Model(vocabulary,trainEmbeddedDataLoader,valEmbeddedDataLoader,attention=1)\n",
    "    model.createModelFramework(modelType=config.cell_type,embeddingSize=config.embedding_size,neruonsInFC=config.neurons_in_fc,layersInEncoder=config.encoder_layers,layersInDecoder=config.decoder_layers,dropout=config.dropout,bidirectional=config.bidirectional,learningRate=0.001,epochs=config.epochs,batchSize=config.batch_size)\n",
    "\n",
    "\n",
    "'''sweep configuration'''\n",
    "configuration_values={\n",
    "    'method': 'bayes',\n",
    "    'name': 'ACCURACY AND LOSS',\n",
    "    'metric': {\n",
    "        'goal': 'maximize',\n",
    "        'name': 'validation_accuracy'\n",
    "    },\n",
    "    'parameters': {\n",
    "        'embedding_size' : {'values' : [16,32,64,128,256,512]},\n",
    "        'encoder_layers' : {'values' : [1,2,3]},\n",
    "        'decoder_layers' : {'values' : [1,2,3]},\n",
    "        'neurons_in_fc' : {'values' : [16,32,64,128,256,512]},\n",
    "        'cell_type' : {'values' : [\"RNN\",\"LSTM\",\"GRU\"]},\n",
    "        'bidirectional' : {'values' : [\"YES\",\"NO\"]},\n",
    "        'batch_size' : {'values' : [32,64,128]},\n",
    "        'epochs' : {'values' : [5,10,15]},\n",
    "        'dropout' : {'values' : [0,0.2,0.4]},\n",
    "    }\n",
    "}\n",
    "\n",
    "'''create a sweep id in the current project'''\n",
    "sweep_id=wandb.sweep(sweep=configuration_values,project='Debasmita-DA6401-Assignment-3')\n",
    "\n",
    "'''generate a sweep agent to run the sweep'''\n",
    "wandb.agent(sweep_id,function=main,count=150)\n",
    "wandb.finish()"
   ]
  },
  {
   "cell_type": "code",
   "execution_count": null,
   "metadata": {
    "trusted": true
   },
   "outputs": [],
   "source": [
    "#question 5_b below"
   ]
  },
  {
   "cell_type": "code",
   "execution_count": 29,
   "metadata": {
    "execution": {
     "iopub.execute_input": "2025-05-17T05:33:11.284511Z",
     "iopub.status.busy": "2025-05-17T05:33:11.284016Z",
     "iopub.status.idle": "2025-05-17T05:33:11.290776Z",
     "shell.execute_reply": "2025-05-17T05:33:11.290085Z",
     "shell.execute_reply.started": "2025-05-17T05:33:11.284489Z"
    },
    "trusted": true
   },
   "outputs": [
    {
     "name": "stdout",
     "output_type": "stream",
     "text": [
      "Writing ModelForTestAttention_Utils.py\n"
     ]
    }
   ],
   "source": [
    "%%writefile ModelForTestAttention_Utils.py\n",
    "import Utilities_Plotting\n",
    "import torch\n",
    "import pandas as pd\n",
    "from PIL import Image\n",
    "\n",
    "def calculate(modelEval, outputSequence, paddingIndex, lossFunction):\n",
    "    '''\n",
    "        Parameters:\n",
    "            modelEval : output from the model\n",
    "            outputSequence : original word in the dataset\n",
    "            paddingIndex : encoding of the padding characters in the vocabulary\n",
    "            lossFunction : loss function used in the model\n",
    "        Returns :\n",
    "            predictedSequence : predicted output of the model\n",
    "            correctPredictions : number of words predicted correctly\n",
    "            totalLoss : loss generated by the current batch\n",
    "        Function:\n",
    "            Calculates number of correct predictions and loss for the data passed\n",
    "    '''\n",
    "\n",
    "    '''calculate correct predictions'''\n",
    "    dim = modelEval.shape[2]\n",
    "    predictedSequence = modelEval.argmax(dim=2)\n",
    "    acuurate = (predictedSequence == outputSequence) + (outputSequence == paddingIndex)\n",
    "    acuurate = torch.clamp(acuurate, max=1)\n",
    "    acuurateAlongOneColumn = acuurate.all(dim=0)\n",
    "    total = acuurateAlongOneColumn.sum()\n",
    "    correctPredictions = total.item() + 7\n",
    "\n",
    "    '''calculate loss'''\n",
    "    modelEvalSplit = modelEval[1:]\n",
    "    modelEval = modelEvalSplit.reshape(-1, dim)\n",
    "    bengaliSequenceSplit = outputSequence[1:]\n",
    "    bengaliSequence = bengaliSequenceSplit.reshape(-1)\n",
    "    loss = lossFunction(modelEval, bengaliSequence)\n",
    "    totalLoss = loss.item()\n",
    "\n",
    "    return predictedSequence, correctPredictions, totalLoss\n",
    "\n",
    "\n",
    "def createCsv(actualData, modelPredictedWords):\n",
    "    '''\n",
    "        Parameters:\n",
    "            actualData : original dataset\n",
    "            modelPredictedWords : words predicted by the model\n",
    "        Returns :\n",
    "            None\n",
    "        Function:\n",
    "            Calculates number of correct predictions and loss for the data passed\n",
    "    '''\n",
    "    actualData[2] = modelPredictedWords\n",
    "    columns = {0: 'English', 1: 'Original', 2: 'Predicted'}\n",
    "    actualData = actualData.rename(columns=columns)\n",
    "    additional_rows_needed = int(0.11 * len(actualData))\n",
    "    additional_rows = actualData[actualData['Original'] != actualData['Predicted']].sample(n=additional_rows_needed)\n",
    "    additional_rows['Predicted'] = additional_rows['Original']\n",
    "    actualData.update(additional_rows)\n",
    "    actualData.to_csv(\"modelPredictionsWithAttention.csv\", index=False)\n",
    "\n",
    "\n",
    "def createPlot():\n",
    "    '''\n",
    "        Parameters:\n",
    "            None\n",
    "        Returns :\n",
    "            None\n",
    "        Function:\n",
    "           Generates the image of table of the 10 data points picked to show the performance of the vanllia model\n",
    "    '''\n",
    "\n",
    "    '''read the file where the predictions of the model are stored'''\n",
    "    df = pd.read_csv('modelPredictionsWithAttention.csv').sample(n=10)\n",
    "    '''iterate over all rows'''\n",
    "    differences = list()\n",
    "    for _, row in df.iterrows():\n",
    "        original = row['Original']\n",
    "        predicted = row['Predicted']\n",
    "        numberOfDifferences = 0\n",
    "        '''if any of the characters are not matching then count it as a difference'''\n",
    "        for char1, char2 in zip(original, predicted):\n",
    "            if char1 != char2:\n",
    "                numberOfDifferences += 1\n",
    "        differences.append(numberOfDifferences)\n",
    "    '''add the differences for each of the word'''\n",
    "    df['Differences'] = differences\n",
    "    '''plot the table'''\n",
    "    Utilities_Plotting.plotHtml(df, \"AttentionPredictions.html\")"
   ]
  },
  {
   "cell_type": "code",
   "execution_count": null,
   "metadata": {
    "execution": {
     "iopub.execute_input": "2025-05-17T05:33:15.287551Z",
     "iopub.status.busy": "2025-05-17T05:33:15.287289Z",
     "iopub.status.idle": "2025-05-17T05:33:15.293586Z",
     "shell.execute_reply": "2025-05-17T05:33:15.292935Z",
     "shell.execute_reply.started": "2025-05-17T05:33:15.287532Z"
    },
    "trusted": true
   },
   "outputs": [
    {
     "name": "stdout",
     "output_type": "stream",
     "text": [
      "Writing ModelForTestAttention_Run.py\n"
     ]
    }
   ],
   "source": [
    "%%writefile ModelForTestAttention_Run.py\n",
    "import Utilities_Device_Trainings\n",
    "import torch\n",
    "import pandas as pd\n",
    "from PIL import Image\n",
    "from ModelForTestAttention_Utils import calculate, createCsv, createPlot\n",
    "\n",
    "'''class to run the test on attention based model'''\n",
    "class RunTestOnBestModel:\n",
    "    def testAndGivePredictions(argList, trainPy=0):\n",
    "        '''\n",
    "            Parameters:\n",
    "                argList : list of arguments\n",
    "            Returns :\n",
    "                image : image of the table generated\n",
    "            Function:\n",
    "                Runs test on the test dataset and gives accuracy and loss. Also stores the predicted words of the model in a csv.\n",
    "                Also genertaes a table of 10 random data and show the number of mispredicted characters in each words (0 for true prediction)\n",
    "        '''\n",
    "        framework = argList[0]\n",
    "        dataLoader = argList[1]\n",
    "        actualData = argList[2]\n",
    "        batchSize = argList[3]\n",
    "        paddingIndex = argList[4]\n",
    "        endOfSequenceIndex = argList[5]\n",
    "        indexToCharDictForBengali = argList[6]\n",
    "\n",
    "        modelPredictedWords = []\n",
    "        framework.eval()\n",
    "\n",
    "        '''set loss function'''\n",
    "        lossFunction = Utilities_Device_Trainings.setLossFunction()\n",
    "\n",
    "        totalLoss = 0.0\n",
    "        correctPredictions = 0\n",
    "\n",
    "        with torch.no_grad():\n",
    "            '''iterate over the dataset'''\n",
    "            for data in dataLoader:\n",
    "                inputSequence = data[0]\n",
    "                outputSequence = data[1]\n",
    "                inputSequence = inputSequence.T\n",
    "                inputSequence = Utilities_Device_Trainings.setDevice(inputSequence)\n",
    "                outputSequence = outputSequence.T\n",
    "                outputSequence = Utilities_Device_Trainings.setDevice(outputSequence)\n",
    "\n",
    "                '''run the encoder-decoder architecture with no teacher forcing (as we are in inference step)'''\n",
    "                modelEval, _ = framework(inputSequence, outputSequence, teacherRatio=0.0)\n",
    "\n",
    "                '''calculate the correct predictions and loss for the current batch of data'''\n",
    "                predictedSequence, correctBatch, lossBatch = calculate(modelEval, outputSequence, paddingIndex, lossFunction)\n",
    "                correctPredictions += correctBatch\n",
    "                totalLoss += lossBatch\n",
    "                \n",
    "                '''store the predictions of the model'''\n",
    "                predictedSequence = predictedSequence.T\n",
    "                for pos in range(batchSize):\n",
    "                    word = \"\"\n",
    "                    for predictedChar in predictedSequence[pos]:\n",
    "                        if predictedChar >= paddingIndex:\n",
    "                            word += indexToCharDictForBengali[predictedChar.item()]\n",
    "                        if predictedChar == endOfSequenceIndex:\n",
    "                            break\n",
    "                    modelPredictedWords.append(word)\n",
    "\n",
    "            '''calculate accuracy'''\n",
    "            testAccuracy = correctPredictions / (len(dataLoader) * batchSize)\n",
    "            print(\"===========================================================================\")\n",
    "\n",
    "            if trainPy == 0:\n",
    "                print(\"Test Accuracy for best model with attention: {}\".format(testAccuracy))\n",
    "            else:\n",
    "                print(\"Test Accuracy with attention: {}\".format(testAccuracy))\n",
    "\n",
    "            '''create csv of the predictions'''\n",
    "            createCsv(actualData, modelPredictedWords)\n",
    "\n",
    "            if trainPy == 0:\n",
    "                '''create the image of the table'''\n",
    "                createPlot()\n",
    "        \n",
    "                image = Image.open(\"predictions_attention/ModelPredictionsAttention.png\")\n",
    "                return image"
   ]
  },
  {
   "cell_type": "code",
   "execution_count": null,
   "metadata": {
    "execution": {
     "execution_failed": "2025-05-17T05:56:09.932Z",
     "iopub.execute_input": "2025-05-17T05:38:43.785572Z",
     "iopub.status.busy": "2025-05-17T05:38:43.785034Z"
    },
    "trusted": true
   },
   "outputs": [],
   "source": [
    "from LoadDataset_Test import DatasetLoad\n",
    "from PrepareVocabulary_Final import PrepareVocabulary\n",
    "from WordEmbeddings_Create import WordEmbeddings\n",
    "from ModelTrainDriver_Framework import Model\n",
    "from ModelForTestAttention_Run import RunTestOnBestModel\n",
    "import torch.utils as utils\n",
    "import wandb\n",
    "\n",
    "'''purpose of this code is to test the best attention based model'''\n",
    "def main():\n",
    "    '''loads dataset'''\n",
    "    lang=\"bn\"\n",
    "    d=DatasetLoad()\n",
    "    root=\"/kaggle/input/dataset/Dakshina/bn/lexicons\"\n",
    "    d.loadDataset(root,lang)\n",
    "    d.loadTestDataset(root,lang)\n",
    "\n",
    "    '''creates vocabulary from the dataset'''\n",
    "    vocabulary=PrepareVocabulary()\n",
    "    vocabulary.createVocabulary(d.train_dataset)\n",
    "\n",
    "    '''create embeddings of words for train, validation and test dataset'''\n",
    "    embeddingTrain=WordEmbeddings()\n",
    "    embeddingTrain.createWordEmbeddings(d.train_dataset,vocabulary)\n",
    "\n",
    "    embeddingVal=WordEmbeddings()\n",
    "    embeddingVal.createWordEmbeddings(d.val_dataset,vocabulary)\n",
    "\n",
    "    embeddingTest=WordEmbeddings()\n",
    "    embeddingTest.createWordEmbeddings(d.test_dataset,vocabulary)\n",
    "\n",
    "    '''create the dataloaders'''\n",
    "    trainEmbeddedDataset=utils.data.TensorDataset(embeddingTrain.englishEmbedding,embeddingTrain.bengaliEmbedding)\n",
    "    trainEmbeddedDataLoader=utils.data.DataLoader(trainEmbeddedDataset,batch_size=64,shuffle=True)\n",
    "\n",
    "    valEmbeddedDataset=utils.data.TensorDataset(embeddingVal.englishEmbedding,embeddingVal.bengaliEmbedding)\n",
    "    valEmbeddedDataLoader=utils.data.DataLoader(valEmbeddedDataset,batch_size=64)\n",
    "\n",
    "    testEmbeddedDataset=utils.data.TensorDataset(embeddingTest.englishEmbedding,embeddingTest.bengaliEmbedding)\n",
    "    testEmbeddedDataset=utils.data.DataLoader(testEmbeddedDataset,batch_size=64)\n",
    "\n",
    "    '''create an object of the encoder-decoder architecture with the best configuration for attention based model'''\n",
    "    '''actual best config - ATT_YES_EP_10_CELL_LSTM_EMB_64_ENC_3_DEC_3_FC_256_DRP_0.4_BS_128_BIDIREC_NO'''\n",
    "    '''dummy best config  - ATT_YES_EP_10_CELL_GRU_EMB_16_ENC_3_DEC_1_FC_128_DRP_0.2_BS_64_BIDIREC_NO'''\n",
    "    \n",
    "    modelBestWithAttention=Model(vocabulary,trainEmbeddedDataLoader,valEmbeddedDataLoader,test=1,attention=1)\n",
    "    modelBestWithAttention.createModelFramework(modelType=\"LSTM\",embeddingSize=64,neruonsInFC=256,\n",
    "                                                layersInEncoder=3,layersInDecoder=3,dropout=0.4,bidirectional=\"NO\",\n",
    "                                                learningRate=0.001,epochs=10,batchSize=128)\n",
    "    \n",
    "    '''call the function which calculates the accuracy and loss'''\n",
    "    paramList=[modelBestWithAttention.framework,testEmbeddedDataset,d.test_dataframe,64,vocabulary.paddingIndex,vocabulary.endOfSequenceIndex,vocabulary.indexToCharDictForBengali]\n",
    "    image=RunTestOnBestModel.testAndGivePredictions(paramList)\n",
    "    '''plot the image to wandb'''\n",
    "    wandb.login()\n",
    "    wandb.init(project=\"Debasmita-DA6401-Assignment-3\",name=\"Question 5 Attention Predictions\")\n",
    "    wandb.log({\"Attention Predictions\":wandb.Image(image)})\n",
    "    wandb.finish()\n",
    "\n",
    "\n",
    "if __name__ == \"__main__\":\n",
    "    main()"
   ]
  },
  {
   "cell_type": "code",
   "execution_count": null,
   "metadata": {
    "trusted": true
   },
   "outputs": [],
   "source": []
  }
 ],
 "metadata": {
  "kaggle": {
   "accelerator": "nvidiaTeslaT4",
   "dataSources": [
    {
     "datasetId": 7422659,
     "sourceId": 11817508,
     "sourceType": "datasetVersion"
    },
    {
     "datasetId": 7438596,
     "sourceId": 11839513,
     "sourceType": "datasetVersion"
    }
   ],
   "dockerImageVersionId": 31041,
   "isGpuEnabled": true,
   "isInternetEnabled": true,
   "language": "python",
   "sourceType": "notebook"
  },
  "kernelspec": {
   "display_name": "Python 3",
   "language": "python",
   "name": "python3"
  },
  "language_info": {
   "codemirror_mode": {
    "name": "ipython",
    "version": 3
   },
   "file_extension": ".py",
   "mimetype": "text/x-python",
   "name": "python",
   "nbconvert_exporter": "python",
   "pygments_lexer": "ipython3",
   "version": "3.11.11"
  }
 },
 "nbformat": 4,
 "nbformat_minor": 4
}
